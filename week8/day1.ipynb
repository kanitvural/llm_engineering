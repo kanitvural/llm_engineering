{
 "cells": [
  {
   "cell_type": "markdown",
   "id": "e426cd04-c053-43e8-b505-63cee7956a53",
   "metadata": {},
   "source": [
    "# Welcome to a very busy Week 8 folder\n",
    "\n",
    "## We have lots to do this week!\n",
    "\n",
    "We'll move at a faster pace than usual, particularly as you're becoming proficient LLM engineers.\n"
   ]
  },
  {
   "cell_type": "markdown",
   "id": "b3cf5389-93c5-4523-bc48-78fabb91d8f6",
   "metadata": {},
   "source": [
    "<table style=\"margin: 0; text-align: left;\">\n",
    "    <tr>\n",
    "        <td style=\"width: 150px; height: 150px; vertical-align: middle;\">\n",
    "            <img src=\"../important.jpg\" width=\"150\" height=\"150\" style=\"display: block;\" />\n",
    "        </td>\n",
    "        <td>\n",
    "            <h2 style=\"color:#900;\">Especially important this week: pull the latest</h2>\n",
    "            <span style=\"color:#900;\">I'm continually improving these labs, adding more examples and exercises.\n",
    "            At the start of each week, it's worth checking you have the latest code.<br/>\n",
    "            First do a <a href=\"https://chatgpt.com/share/6734e705-3270-8012-a074-421661af6ba9\">git pull and merge your changes as needed</a>. Any problems? Try asking ChatGPT to clarify how to merge - or contact me!<br/><br/>\n",
    "            After you've pulled the code, from the llm_engineering directory, in an Anaconda prompt (PC) or Terminal (Mac), run:<br/>\n",
    "            <code>conda env update --f environment.yml --prune</code><br/>\n",
    "            Or if you used virtualenv rather than Anaconda, then run this from your activated environment in a Powershell (PC) or Terminal (Mac):<br/>\n",
    "            <code>pip install -r requirements.txt</code>\n",
    "            <br/>Then restart the kernel (Kernel menu >> Restart Kernel and Clear Outputs Of All Cells) to pick up the changes.\n",
    "            </span>\n",
    "        </td>\n",
    "    </tr>\n",
    "</table>"
   ]
  },
  {
   "cell_type": "code",
   "execution_count": 1,
   "id": "bc0e1c1c-be6a-4395-bbbd-eeafc9330d7e",
   "metadata": {},
   "outputs": [],
   "source": [
    "# Just one import to start with!!\n",
    "\n",
    "import modal"
   ]
  },
  {
   "cell_type": "markdown",
   "id": "ab5c8533-9f66-448f-b9b2-133d1ff50639",
   "metadata": {},
   "source": [
    "# Setting up the modal tokens\n",
    "\n",
    "The first time you run this, please uncomment the next line and execute it.  \n",
    "This is the same as running `modal setup` from the command line. It connects with Modal and installs your tokens.\n",
    "\n",
    "A student on Windows mentioned that on Windows, you might also need to run this command from a command prompt afterwards:  \n",
    "`modal token new`  \n",
    "(Thank you Ed B. for that!)\n",
    "\n",
    "And I've also heard that in some situations, you might need to restart the Kernel of this jupyter notebook after running this. (Kernel menu >> Restart Kernel and Clear Outputs of All Cells)."
   ]
  },
  {
   "cell_type": "code",
   "execution_count": 2,
   "id": "0d240622-8422-4c99-8464-c04d063e4cb6",
   "metadata": {},
   "outputs": [
    {
     "name": "stdout",
     "output_type": "stream",
     "text": [
      "⠋ Waiting for authentication in the web browser\n",
      "The web browser should have opened for you to authenticate and get an API \n",
      "token.\n",
      "If it didn't, please copy this URL into your web browser manually:\n",
      "\n",
      "⠙ Waiting for authentication in the web browser\n",
      "https://modal.com/token-flow/tf-KPROpnyEMkZ6SeRnRlMl6i\n",
      "\n",
      "⠙ Waiting for authentication in the web browser\n",
      "⠙ Waiting for authentication in the web browser\n",
      "\n",
      "⠋ Waiting for token flow to complete...\n",
      "⠙ Waiting for token flow to complete...\n",
      "⠹ Waiting for token flow to complete...\n",
      "⠸ Waiting for token flow to complete...\n",
      "⠼ Waiting for token flow to complete...\n",
      "⠴ Waiting for token flow to complete...\n",
      "⠦ Waiting for token flow to complete...\n",
      "⠧ Waiting for token flow to complete...\n",
      "⠇ Waiting for token flow to complete...\n",
      "⠏ Waiting for token flow to complete...\n",
      "⠋ Waiting for token flow to complete...\n",
      "⠙ Waiting for token flow to complete...\n",
      "⠸ Waiting for token flow to complete...\n",
      "⠼ Waiting for token flow to complete...\n",
      "⠴ Waiting for token flow to complete...\n",
      "⠦ Waiting for token flow to complete...\n",
      "⠧ Waiting for token flow to complete...\n",
      "⠇ Waiting for token flow to complete...\n",
      "⠏ Waiting for token flow to complete...\n",
      "⠋ Waiting for token flow to complete...\n",
      "⠹ Waiting for token flow to complete...\n",
      "⠸ Waiting for token flow to complete...\n",
      "⠼ Waiting for token flow to complete...\n",
      "⠴ Waiting for token flow to complete...\n",
      "⠦ Waiting for token flow to complete...\n",
      "⠧ Waiting for token flow to complete...\n",
      "⠇ Waiting for token flow to complete...\n",
      "⠏ Waiting for token flow to complete...\n",
      "⠙ Waiting for token flow to complete...\n",
      "⠹ Waiting for token flow to complete...\n",
      "⠸ Waiting for token flow to complete...\n",
      "⠼ Waiting for token flow to complete...\n",
      "⠴ Waiting for token flow to complete...\n",
      "⠦ Waiting for token flow to complete...\n",
      "⠧ Waiting for token flow to complete...\n",
      "⠇ Waiting for token flow to complete...\n",
      "⠏ Waiting for token flow to complete...\n",
      "⠋ Waiting for token flow to complete...\n",
      "⠹ Waiting for token flow to complete...\n",
      "⠹ Waiting for token flow to complete...\n",
      "⠼ Waiting for token flow to complete...\n",
      "⠴ Waiting for token flow to complete...\n",
      "⠦ Waiting for token flow to complete...\n",
      "⠧ Waiting for token flow to complete...\n",
      "⠇ Waiting for token flow to complete...\n",
      "⠏ Waiting for token flow to complete...\n",
      "⠋ Waiting for token flow to complete...\n",
      "⠙ Waiting for token flow to complete...\n",
      "⠹ Waiting for token flow to complete...\n",
      "⠼ Waiting for token flow to complete...\n",
      "⠴ Waiting for token flow to complete...\n",
      "⠦ Waiting for token flow to complete...\n",
      "⠧ Waiting for token flow to complete...\n",
      "⠇ Waiting for token flow to complete...\n",
      "⠏ Waiting for token flow to complete...\n",
      "⠋ Waiting for token flow to complete...\n",
      "⠙ Waiting for token flow to complete...\n",
      "⠹ Waiting for token flow to complete...\n",
      "⠸ Waiting for token flow to complete...\n",
      "⠼ Waiting for token flow to complete...\n",
      "⠴ Waiting for token flow to complete...\n",
      "⠦ Waiting for token flow to complete...\n",
      "⠇ Waiting for token flow to complete...\n",
      "⠏ Waiting for token flow to complete...\n",
      "⠋ Waiting for token flow to complete...\n",
      "⠙ Waiting for token flow to complete...\n",
      "⠹ Waiting for token flow to complete...\n",
      "⠸ Waiting for token flow to complete...\n",
      "⠼ Waiting for token flow to complete...\n",
      "⠴ Waiting for token flow to complete...\n",
      "⠦ Waiting for token flow to complete...\n",
      "⠧ Waiting for token flow to complete...\n",
      "⠇ Waiting for token flow to complete...\n",
      "⠏ Waiting for token flow to complete...\n",
      "⠙ Waiting for token flow to complete...\n",
      "⠙ Waiting for token flow to complete...\n",
      "\n",
      "Web authentication finished successfully!\n",
      "Token is connected to the kanitvural workspace.\n",
      "Verifying token against https://api.modal.com\n",
      "Token verified successfully!\n",
      "⠋ Storing token\n",
      "\n",
      "Token written to C:\\Users\\iskorpittt/.modal.toml in profile kanitvural.\n"
     ]
    }
   ],
   "source": [
    "# Remove the '# ' from the next line and run the cell\n",
    "# !modal setup"
   ]
  },
  {
   "cell_type": "code",
   "execution_count": 1,
   "id": "3b133701-f550-44a1-a67f-eb7ccc4769a9",
   "metadata": {},
   "outputs": [],
   "source": [
    "from hello import app, hello"
   ]
  },
  {
   "cell_type": "code",
   "execution_count": 3,
   "id": "0f3f73ae-1295-49f3-9099-b8b41fc3429b",
   "metadata": {},
   "outputs": [
    {
     "data": {
      "text/plain": [
       "'Hello from Ordu, Ordu, TR!!'"
      ]
     },
     "execution_count": 3,
     "metadata": {},
     "output_type": "execute_result"
    }
   ],
   "source": [
    "with app.run():\n",
    "    reply=hello.local()\n",
    "reply"
   ]
  },
  {
   "cell_type": "code",
   "execution_count": 4,
   "id": "c1d8c6f9-edc7-4e52-9b3a-c07d7cff1ac7",
   "metadata": {},
   "outputs": [
    {
     "data": {
      "text/plain": [
       "'Hello from Ashburn, Virginia, US!!'"
      ]
     },
     "execution_count": 4,
     "metadata": {},
     "output_type": "execute_result"
    }
   ],
   "source": [
    "with app.run():\n",
    "    reply=hello.remote()\n",
    "reply"
   ]
  },
  {
   "cell_type": "markdown",
   "id": "22e8d804-c027-45fb-8fef-06e7bba6295a",
   "metadata": {},
   "source": [
    "# Before we move on -\n",
    "\n",
    "## We need to set your HuggingFace Token as a secret in Modal\n",
    "\n",
    "1. Go to modal.com, sign in and go to your dashboard\n",
    "2. Click on Secrets in the nav bar\n",
    "3. Create new secret, click on Hugging Face, this new secret needs to be called **hf-secret** because that's how we refer to it in the code\n",
    "4. Fill in your HF_TOKEN where it prompts you\n",
    "\n",
    "### And now back to business: time to work with Llama"
   ]
  },
  {
   "cell_type": "code",
   "execution_count": 5,
   "id": "cb8b6c41-8259-4329-b1c4-a1f67d26d1be",
   "metadata": {},
   "outputs": [],
   "source": [
    "from llama import app, generate"
   ]
  },
  {
   "cell_type": "code",
   "execution_count": 6,
   "id": "db4a718a-d95d-4f61-9688-c9df21d88fe6",
   "metadata": {},
   "outputs": [
    {
     "data": {
      "application/vnd.jupyter.widget-view+json": {
       "model_id": "42281473513c4639a97b4fa7a42ea867",
       "version_major": 2,
       "version_minor": 0
      },
      "text/plain": [
       "Output()"
      ]
     },
     "metadata": {},
     "output_type": "display_data"
    },
    {
     "data": {
      "text/html": [
       "<pre style=\"white-space:pre;overflow-x:auto;line-height:normal;font-family:Menlo,'DejaVu Sans Mono',consolas,'Courier New',monospace\"><span style=\"color: #008000; text-decoration-color: #008000\">✓</span> Initialized. <span style=\"color: #b2b2b2; text-decoration-color: #b2b2b2\">View run at </span><span style=\"color: #b2b2b2; text-decoration-color: #b2b2b2; text-decoration: underline\">https://modal.com/apps/kanitvural/main/ap-sq1lt59hJGup3fyH6J05z7</span>\n",
       "</pre>\n"
      ],
      "text/plain": [
       "\u001b[32m✓\u001b[0m Initialized. \u001b[38;5;249mView run at \u001b[0m\u001b[4;38;5;249mhttps://modal.com/apps/kanitvural/main/ap-sq1lt59hJGup3fyH6J05z7\u001b[0m\n"
      ]
     },
     "metadata": {},
     "output_type": "display_data"
    },
    {
     "data": {
      "text/html": [
       "<pre style=\"white-space:pre;overflow-x:auto;line-height:normal;font-family:Menlo,'DejaVu Sans Mono',consolas,'Courier New',monospace\"></pre>\n"
      ],
      "text/plain": []
     },
     "metadata": {},
     "output_type": "display_data"
    },
    {
     "data": {
      "application/vnd.jupyter.widget-view+json": {
       "model_id": "1a28fa7610b54316bd59c34be4a8ca5b",
       "version_major": 2,
       "version_minor": 0
      },
      "text/plain": [
       "Output()"
      ]
     },
     "metadata": {},
     "output_type": "display_data"
    },
    {
     "data": {
      "text/html": [
       "<pre style=\"white-space:pre;overflow-x:auto;line-height:normal;font-family:Menlo,'DejaVu Sans Mono',consolas,'Courier New',monospace\"><span style=\"color: #808000; text-decoration-color: #808000\">Building image im-BJFOWHZlAqqS6ABczVgkMl\n",
       "</span></pre>\n"
      ],
      "text/plain": [
       "\u001b[33mBuilding image im-BJFOWHZlAqqS6ABczVgkMl\n",
       "\u001b[0m"
      ]
     },
     "metadata": {},
     "output_type": "display_data"
    },
    {
     "data": {
      "text/html": [
       "<pre style=\"white-space:pre;overflow-x:auto;line-height:normal;font-family:Menlo,'DejaVu Sans Mono',consolas,'Courier New',monospace\"><span style=\"color: #808000; text-decoration-color: #808000\">\n",
       "=&gt; Step 0: FROM base\n",
       "</span></pre>\n"
      ],
      "text/plain": [
       "\u001b[33m\n",
       "=> Step 0: FROM base\n",
       "\u001b[0m"
      ]
     },
     "metadata": {},
     "output_type": "display_data"
    },
    {
     "data": {
      "text/html": [
       "<pre style=\"white-space:pre;overflow-x:auto;line-height:normal;font-family:Menlo,'DejaVu Sans Mono',consolas,'Courier New',monospace\"><span style=\"color: #808000; text-decoration-color: #808000\">\n",
       "=&gt; Step 1: RUN python -m pip install accelerate bitsandbytes torch transformers\n",
       "</span></pre>\n"
      ],
      "text/plain": [
       "\u001b[33m\n",
       "=> Step 1: RUN python -m pip install accelerate bitsandbytes torch transformers\n",
       "\u001b[0m"
      ]
     },
     "metadata": {},
     "output_type": "display_data"
    },
    {
     "data": {
      "text/html": [
       "<pre style=\"white-space:pre;overflow-x:auto;line-height:normal;font-family:Menlo,'DejaVu Sans Mono',consolas,'Courier New',monospace\"><span style=\"color: #808000; text-decoration-color: #808000\">Looking in indexes: http://pypi-mirror.modal.local:5555/simple\n",
       "</span></pre>\n"
      ],
      "text/plain": [
       "\u001b[33mLooking in indexes: http://pypi-mirror.modal.local:5555/simple\n",
       "\u001b[0m"
      ]
     },
     "metadata": {},
     "output_type": "display_data"
    },
    {
     "data": {
      "text/html": [
       "<pre style=\"white-space:pre;overflow-x:auto;line-height:normal;font-family:Menlo,'DejaVu Sans Mono',consolas,'Courier New',monospace\"><span style=\"color: #808000; text-decoration-color: #808000\">Collecting accelerate\n",
       "</span></pre>\n"
      ],
      "text/plain": [
       "\u001b[33mCollecting accelerate\n",
       "\u001b[0m"
      ]
     },
     "metadata": {},
     "output_type": "display_data"
    },
    {
     "data": {
      "text/html": [
       "<pre style=\"white-space:pre;overflow-x:auto;line-height:normal;font-family:Menlo,'DejaVu Sans Mono',consolas,'Courier New',monospace\"><span style=\"color: #808000; text-decoration-color: #808000\">  Downloading http://pypi-mirror.modal.local:5555/simple/accelerate/accelerate-1.3.0-py3-none-any.whl.metadata (19 kB)\n",
       "</span></pre>\n"
      ],
      "text/plain": [
       "\u001b[33m  Downloading http://pypi-mirror.modal.local:5555/simple/accelerate/accelerate-1.3.0-py3-none-any.whl.metadata (19 kB)\n",
       "\u001b[0m"
      ]
     },
     "metadata": {},
     "output_type": "display_data"
    },
    {
     "data": {
      "text/html": [
       "<pre style=\"white-space:pre;overflow-x:auto;line-height:normal;font-family:Menlo,'DejaVu Sans Mono',consolas,'Courier New',monospace\"><span style=\"color: #808000; text-decoration-color: #808000\">Collecting bitsandbytes\n",
       "</span></pre>\n"
      ],
      "text/plain": [
       "\u001b[33mCollecting bitsandbytes\n",
       "\u001b[0m"
      ]
     },
     "metadata": {},
     "output_type": "display_data"
    },
    {
     "data": {
      "text/html": [
       "<pre style=\"white-space:pre;overflow-x:auto;line-height:normal;font-family:Menlo,'DejaVu Sans Mono',consolas,'Courier New',monospace\"><span style=\"color: #808000; text-decoration-color: #808000\">  Downloading http://pypi-mirror.modal.local:5555/simple/bitsandbytes/bitsandbytes-0.45.1-py3-none-manylinux_2_24_x86_64.whl.metadata (5.8 kB)\n",
       "</span></pre>\n"
      ],
      "text/plain": [
       "\u001b[33m  Downloading http://pypi-mirror.modal.local:5555/simple/bitsandbytes/bitsandbytes-0.45.1-py3-none-manylinux_2_24_x86_64.whl.metadata (5.8 kB)\n",
       "\u001b[0m"
      ]
     },
     "metadata": {},
     "output_type": "display_data"
    },
    {
     "data": {
      "text/html": [
       "<pre style=\"white-space:pre;overflow-x:auto;line-height:normal;font-family:Menlo,'DejaVu Sans Mono',consolas,'Courier New',monospace\"><span style=\"color: #808000; text-decoration-color: #808000\">Collecting torch\n",
       "</span></pre>\n"
      ],
      "text/plain": [
       "\u001b[33mCollecting torch\n",
       "\u001b[0m"
      ]
     },
     "metadata": {},
     "output_type": "display_data"
    },
    {
     "data": {
      "text/html": [
       "<pre style=\"white-space:pre;overflow-x:auto;line-height:normal;font-family:Menlo,'DejaVu Sans Mono',consolas,'Courier New',monospace\"><span style=\"color: #808000; text-decoration-color: #808000\">  Downloading http://pypi-mirror.modal.local:5555/simple/torch/torch-2.6.0-cp312-cp312-manylinux1_x86_64.whl.metadata (28 kB)\n",
       "</span></pre>\n"
      ],
      "text/plain": [
       "\u001b[33m  Downloading http://pypi-mirror.modal.local:5555/simple/torch/torch-2.6.0-cp312-cp312-manylinux1_x86_64.whl.metadata (28 kB)\n",
       "\u001b[0m"
      ]
     },
     "metadata": {},
     "output_type": "display_data"
    },
    {
     "data": {
      "text/html": [
       "<pre style=\"white-space:pre;overflow-x:auto;line-height:normal;font-family:Menlo,'DejaVu Sans Mono',consolas,'Courier New',monospace\"><span style=\"color: #808000; text-decoration-color: #808000\">Collecting transformers\n",
       "</span></pre>\n"
      ],
      "text/plain": [
       "\u001b[33mCollecting transformers\n",
       "\u001b[0m"
      ]
     },
     "metadata": {},
     "output_type": "display_data"
    },
    {
     "data": {
      "text/html": [
       "<pre style=\"white-space:pre;overflow-x:auto;line-height:normal;font-family:Menlo,'DejaVu Sans Mono',consolas,'Courier New',monospace\"><span style=\"color: #808000; text-decoration-color: #808000\">  Downloading http://pypi-mirror.modal.local:5555/simple/transformers/transformers-4.48.2-py3-none-any.whl.metadata (44 kB)\n",
       "</span></pre>\n"
      ],
      "text/plain": [
       "\u001b[33m  Downloading http://pypi-mirror.modal.local:5555/simple/transformers/transformers-4.48.2-py3-none-any.whl.metadata (44 kB)\n",
       "\u001b[0m"
      ]
     },
     "metadata": {},
     "output_type": "display_data"
    },
    {
     "data": {
      "text/html": [
       "<pre style=\"white-space:pre;overflow-x:auto;line-height:normal;font-family:Menlo,'DejaVu Sans Mono',consolas,'Courier New',monospace\"><span style=\"color: #808000; text-decoration-color: #808000\">Collecting numpy&lt;3.0.0,&gt;=1.17 (from accelerate)\n",
       "</span></pre>\n"
      ],
      "text/plain": [
       "\u001b[33mCollecting numpy<3.0.0,>=1.17 (from accelerate)\n",
       "\u001b[0m"
      ]
     },
     "metadata": {},
     "output_type": "display_data"
    },
    {
     "data": {
      "text/html": [
       "<pre style=\"white-space:pre;overflow-x:auto;line-height:normal;font-family:Menlo,'DejaVu Sans Mono',consolas,'Courier New',monospace\"><span style=\"color: #808000; text-decoration-color: #808000\">  Downloading http://pypi-mirror.modal.local:5555/simple/numpy/numpy-2.2.2-cp312-cp312-manylinux_2_17_x86_64.manylinux2014_x86_64.whl.metadata (62 kB)\n",
       "</span></pre>\n"
      ],
      "text/plain": [
       "\u001b[33m  Downloading http://pypi-mirror.modal.local:5555/simple/numpy/numpy-2.2.2-cp312-cp312-manylinux_2_17_x86_64.manylinux2014_x86_64.whl.metadata (62 kB)\n",
       "\u001b[0m"
      ]
     },
     "metadata": {},
     "output_type": "display_data"
    },
    {
     "data": {
      "text/html": [
       "<pre style=\"white-space:pre;overflow-x:auto;line-height:normal;font-family:Menlo,'DejaVu Sans Mono',consolas,'Courier New',monospace\"><span style=\"color: #808000; text-decoration-color: #808000\">Collecting packaging&gt;=20.0 (from accelerate)\n",
       "</span></pre>\n"
      ],
      "text/plain": [
       "\u001b[33mCollecting packaging>=20.0 (from accelerate)\n",
       "\u001b[0m"
      ]
     },
     "metadata": {},
     "output_type": "display_data"
    },
    {
     "data": {
      "text/html": [
       "<pre style=\"white-space:pre;overflow-x:auto;line-height:normal;font-family:Menlo,'DejaVu Sans Mono',consolas,'Courier New',monospace\"><span style=\"color: #808000; text-decoration-color: #808000\">  Downloading http://pypi-mirror.modal.local:5555/simple/packaging/packaging-24.2-py3-none-any.whl.metadata (3.2 kB)\n",
       "</span></pre>\n"
      ],
      "text/plain": [
       "\u001b[33m  Downloading http://pypi-mirror.modal.local:5555/simple/packaging/packaging-24.2-py3-none-any.whl.metadata (3.2 kB)\n",
       "\u001b[0m"
      ]
     },
     "metadata": {},
     "output_type": "display_data"
    },
    {
     "data": {
      "text/html": [
       "<pre style=\"white-space:pre;overflow-x:auto;line-height:normal;font-family:Menlo,'DejaVu Sans Mono',consolas,'Courier New',monospace\"><span style=\"color: #808000; text-decoration-color: #808000\">Collecting psutil (from accelerate)\n",
       "</span></pre>\n"
      ],
      "text/plain": [
       "\u001b[33mCollecting psutil (from accelerate)\n",
       "\u001b[0m"
      ]
     },
     "metadata": {},
     "output_type": "display_data"
    },
    {
     "data": {
      "text/html": [
       "<pre style=\"white-space:pre;overflow-x:auto;line-height:normal;font-family:Menlo,'DejaVu Sans Mono',consolas,'Courier New',monospace\"><span style=\"color: #808000; text-decoration-color: #808000\">  Downloading http://pypi-mirror.modal.local:5555/simple/psutil/psutil-6.1.1-cp36-abi3-manylinux_2_12_x86_64.manylinux2010_x86_64.manylinux_2_17_x86_64.manylinux2014_x86_64.whl.metadata (22 kB)\n",
       "</span></pre>\n"
      ],
      "text/plain": [
       "\u001b[33m  Downloading http://pypi-mirror.modal.local:5555/simple/psutil/psutil-6.1.1-cp36-abi3-manylinux_2_12_x86_64.manylinux2010_x86_64.manylinux_2_17_x86_64.manylinux2014_x86_64.whl.metadata (22 kB)\n",
       "\u001b[0m"
      ]
     },
     "metadata": {},
     "output_type": "display_data"
    },
    {
     "data": {
      "text/html": [
       "<pre style=\"white-space:pre;overflow-x:auto;line-height:normal;font-family:Menlo,'DejaVu Sans Mono',consolas,'Courier New',monospace\"><span style=\"color: #808000; text-decoration-color: #808000\">Collecting pyyaml (from accelerate)\n",
       "</span></pre>\n"
      ],
      "text/plain": [
       "\u001b[33mCollecting pyyaml (from accelerate)\n",
       "\u001b[0m"
      ]
     },
     "metadata": {},
     "output_type": "display_data"
    },
    {
     "data": {
      "text/html": [
       "<pre style=\"white-space:pre;overflow-x:auto;line-height:normal;font-family:Menlo,'DejaVu Sans Mono',consolas,'Courier New',monospace\"><span style=\"color: #808000; text-decoration-color: #808000\">  Downloading http://pypi-mirror.modal.local:5555/simple/pyyaml/PyYAML-6.0.2-cp312-cp312-manylinux_2_17_x86_64.manylinux2014_x86_64.whl.metadata (2.1 kB)\n",
       "</span></pre>\n"
      ],
      "text/plain": [
       "\u001b[33m  Downloading http://pypi-mirror.modal.local:5555/simple/pyyaml/PyYAML-6.0.2-cp312-cp312-manylinux_2_17_x86_64.manylinux2014_x86_64.whl.metadata (2.1 kB)\n",
       "\u001b[0m"
      ]
     },
     "metadata": {},
     "output_type": "display_data"
    },
    {
     "data": {
      "text/html": [
       "<pre style=\"white-space:pre;overflow-x:auto;line-height:normal;font-family:Menlo,'DejaVu Sans Mono',consolas,'Courier New',monospace\"><span style=\"color: #808000; text-decoration-color: #808000\">Collecting huggingface-hub&gt;=0.21.0 (from accelerate)\n",
       "</span></pre>\n"
      ],
      "text/plain": [
       "\u001b[33mCollecting huggingface-hub>=0.21.0 (from accelerate)\n",
       "\u001b[0m"
      ]
     },
     "metadata": {},
     "output_type": "display_data"
    },
    {
     "data": {
      "text/html": [
       "<pre style=\"white-space:pre;overflow-x:auto;line-height:normal;font-family:Menlo,'DejaVu Sans Mono',consolas,'Courier New',monospace\"><span style=\"color: #808000; text-decoration-color: #808000\">  Downloading http://pypi-mirror.modal.local:5555/simple/huggingface-hub/huggingface_hub-0.28.1-py3-none-any.whl.metadata (13 kB)\n",
       "</span></pre>\n"
      ],
      "text/plain": [
       "\u001b[33m  Downloading http://pypi-mirror.modal.local:5555/simple/huggingface-hub/huggingface_hub-0.28.1-py3-none-any.whl.metadata (13 kB)\n",
       "\u001b[0m"
      ]
     },
     "metadata": {},
     "output_type": "display_data"
    },
    {
     "data": {
      "text/html": [
       "<pre style=\"white-space:pre;overflow-x:auto;line-height:normal;font-family:Menlo,'DejaVu Sans Mono',consolas,'Courier New',monospace\"><span style=\"color: #808000; text-decoration-color: #808000\">Collecting safetensors&gt;=0.4.3 (from accelerate)\n",
       "</span></pre>\n"
      ],
      "text/plain": [
       "\u001b[33mCollecting safetensors>=0.4.3 (from accelerate)\n",
       "\u001b[0m"
      ]
     },
     "metadata": {},
     "output_type": "display_data"
    },
    {
     "data": {
      "text/html": [
       "<pre style=\"white-space:pre;overflow-x:auto;line-height:normal;font-family:Menlo,'DejaVu Sans Mono',consolas,'Courier New',monospace\"><span style=\"color: #808000; text-decoration-color: #808000\">  Downloading http://pypi-mirror.modal.local:5555/simple/safetensors/safetensors-0.5.2-cp38-abi3-manylinux_2_17_x86_64.manylinux2014_x86_64.whl.metadata (3.8 kB)\n",
       "</span></pre>\n"
      ],
      "text/plain": [
       "\u001b[33m  Downloading http://pypi-mirror.modal.local:5555/simple/safetensors/safetensors-0.5.2-cp38-abi3-manylinux_2_17_x86_64.manylinux2014_x86_64.whl.metadata (3.8 kB)\n",
       "\u001b[0m"
      ]
     },
     "metadata": {},
     "output_type": "display_data"
    },
    {
     "data": {
      "text/html": [
       "<pre style=\"white-space:pre;overflow-x:auto;line-height:normal;font-family:Menlo,'DejaVu Sans Mono',consolas,'Courier New',monospace\"><span style=\"color: #808000; text-decoration-color: #808000\">Collecting filelock (from torch)\n",
       "</span></pre>\n"
      ],
      "text/plain": [
       "\u001b[33mCollecting filelock (from torch)\n",
       "\u001b[0m"
      ]
     },
     "metadata": {},
     "output_type": "display_data"
    },
    {
     "data": {
      "text/html": [
       "<pre style=\"white-space:pre;overflow-x:auto;line-height:normal;font-family:Menlo,'DejaVu Sans Mono',consolas,'Courier New',monospace\"><span style=\"color: #808000; text-decoration-color: #808000\">  Downloading http://pypi-mirror.modal.local:5555/simple/filelock/filelock-3.17.0-py3-none-any.whl.metadata (2.9 kB)\n",
       "</span></pre>\n"
      ],
      "text/plain": [
       "\u001b[33m  Downloading http://pypi-mirror.modal.local:5555/simple/filelock/filelock-3.17.0-py3-none-any.whl.metadata (2.9 kB)\n",
       "\u001b[0m"
      ]
     },
     "metadata": {},
     "output_type": "display_data"
    },
    {
     "data": {
      "text/html": [
       "<pre style=\"white-space:pre;overflow-x:auto;line-height:normal;font-family:Menlo,'DejaVu Sans Mono',consolas,'Courier New',monospace\"><span style=\"color: #808000; text-decoration-color: #808000\">Requirement already satisfied: typing-extensions&gt;=4.10.0 in /usr/local/lib/python3.12/site-packages (from torch) (4.12.2)\n",
       "</span></pre>\n"
      ],
      "text/plain": [
       "\u001b[33mRequirement already satisfied: typing-extensions>=4.10.0 in /usr/local/lib/python3.12/site-packages (from torch) (4.12.2)\n",
       "\u001b[0m"
      ]
     },
     "metadata": {},
     "output_type": "display_data"
    },
    {
     "data": {
      "text/html": [
       "<pre style=\"white-space:pre;overflow-x:auto;line-height:normal;font-family:Menlo,'DejaVu Sans Mono',consolas,'Courier New',monospace\"><span style=\"color: #808000; text-decoration-color: #808000\">Collecting networkx (from torch)\n",
       "</span></pre>\n"
      ],
      "text/plain": [
       "\u001b[33mCollecting networkx (from torch)\n",
       "\u001b[0m"
      ]
     },
     "metadata": {},
     "output_type": "display_data"
    },
    {
     "data": {
      "text/html": [
       "<pre style=\"white-space:pre;overflow-x:auto;line-height:normal;font-family:Menlo,'DejaVu Sans Mono',consolas,'Courier New',monospace\"><span style=\"color: #808000; text-decoration-color: #808000\">  Downloading http://pypi-mirror.modal.local:5555/simple/networkx/networkx-3.4.2-py3-none-any.whl.metadata (6.3 kB)\n",
       "</span></pre>\n"
      ],
      "text/plain": [
       "\u001b[33m  Downloading http://pypi-mirror.modal.local:5555/simple/networkx/networkx-3.4.2-py3-none-any.whl.metadata (6.3 kB)\n",
       "\u001b[0m"
      ]
     },
     "metadata": {},
     "output_type": "display_data"
    },
    {
     "data": {
      "text/html": [
       "<pre style=\"white-space:pre;overflow-x:auto;line-height:normal;font-family:Menlo,'DejaVu Sans Mono',consolas,'Courier New',monospace\"><span style=\"color: #808000; text-decoration-color: #808000\">Collecting jinja2 (from torch)\n",
       "</span></pre>\n"
      ],
      "text/plain": [
       "\u001b[33mCollecting jinja2 (from torch)\n",
       "\u001b[0m"
      ]
     },
     "metadata": {},
     "output_type": "display_data"
    },
    {
     "data": {
      "text/html": [
       "<pre style=\"white-space:pre;overflow-x:auto;line-height:normal;font-family:Menlo,'DejaVu Sans Mono',consolas,'Courier New',monospace\"><span style=\"color: #808000; text-decoration-color: #808000\">  Downloading http://pypi-mirror.modal.local:5555/simple/jinja2/jinja2-3.1.5-py3-none-any.whl.metadata (2.6 kB)\n",
       "</span></pre>\n"
      ],
      "text/plain": [
       "\u001b[33m  Downloading http://pypi-mirror.modal.local:5555/simple/jinja2/jinja2-3.1.5-py3-none-any.whl.metadata (2.6 kB)\n",
       "\u001b[0m"
      ]
     },
     "metadata": {},
     "output_type": "display_data"
    },
    {
     "data": {
      "text/html": [
       "<pre style=\"white-space:pre;overflow-x:auto;line-height:normal;font-family:Menlo,'DejaVu Sans Mono',consolas,'Courier New',monospace\"><span style=\"color: #808000; text-decoration-color: #808000\">Collecting fsspec (from torch)\n",
       "</span></pre>\n"
      ],
      "text/plain": [
       "\u001b[33mCollecting fsspec (from torch)\n",
       "\u001b[0m"
      ]
     },
     "metadata": {},
     "output_type": "display_data"
    },
    {
     "data": {
      "text/html": [
       "<pre style=\"white-space:pre;overflow-x:auto;line-height:normal;font-family:Menlo,'DejaVu Sans Mono',consolas,'Courier New',monospace\"><span style=\"color: #808000; text-decoration-color: #808000\">  Downloading http://pypi-mirror.modal.local:5555/simple/fsspec/fsspec-2025.2.0-py3-none-any.whl.metadata (11 kB)\n",
       "</span></pre>\n"
      ],
      "text/plain": [
       "\u001b[33m  Downloading http://pypi-mirror.modal.local:5555/simple/fsspec/fsspec-2025.2.0-py3-none-any.whl.metadata (11 kB)\n",
       "\u001b[0m"
      ]
     },
     "metadata": {},
     "output_type": "display_data"
    },
    {
     "data": {
      "text/html": [
       "<pre style=\"white-space:pre;overflow-x:auto;line-height:normal;font-family:Menlo,'DejaVu Sans Mono',consolas,'Courier New',monospace\"><span style=\"color: #808000; text-decoration-color: #808000\">Collecting nvidia-cuda-nvrtc-cu12==12.4.127 (from torch)\n",
       "</span></pre>\n"
      ],
      "text/plain": [
       "\u001b[33mCollecting nvidia-cuda-nvrtc-cu12==12.4.127 (from torch)\n",
       "\u001b[0m"
      ]
     },
     "metadata": {},
     "output_type": "display_data"
    },
    {
     "data": {
      "text/html": [
       "<pre style=\"white-space:pre;overflow-x:auto;line-height:normal;font-family:Menlo,'DejaVu Sans Mono',consolas,'Courier New',monospace\"><span style=\"color: #808000; text-decoration-color: #808000\">  Downloading http://pypi-mirror.modal.local:5555/simple/nvidia-cuda-nvrtc-cu12/nvidia_cuda_nvrtc_cu12-12.4.127-py3-none-manylinux2014_x86_64.whl.metadata (1.5 kB)\n",
       "</span></pre>\n"
      ],
      "text/plain": [
       "\u001b[33m  Downloading http://pypi-mirror.modal.local:5555/simple/nvidia-cuda-nvrtc-cu12/nvidia_cuda_nvrtc_cu12-12.4.127-py3-none-manylinux2014_x86_64.whl.metadata (1.5 kB)\n",
       "\u001b[0m"
      ]
     },
     "metadata": {},
     "output_type": "display_data"
    },
    {
     "data": {
      "text/html": [
       "<pre style=\"white-space:pre;overflow-x:auto;line-height:normal;font-family:Menlo,'DejaVu Sans Mono',consolas,'Courier New',monospace\"><span style=\"color: #808000; text-decoration-color: #808000\">Collecting nvidia-cuda-runtime-cu12==12.4.127 (from torch)\n",
       "</span></pre>\n"
      ],
      "text/plain": [
       "\u001b[33mCollecting nvidia-cuda-runtime-cu12==12.4.127 (from torch)\n",
       "\u001b[0m"
      ]
     },
     "metadata": {},
     "output_type": "display_data"
    },
    {
     "data": {
      "text/html": [
       "<pre style=\"white-space:pre;overflow-x:auto;line-height:normal;font-family:Menlo,'DejaVu Sans Mono',consolas,'Courier New',monospace\"><span style=\"color: #808000; text-decoration-color: #808000\">  Downloading http://pypi-mirror.modal.local:5555/simple/nvidia-cuda-runtime-cu12/nvidia_cuda_runtime_cu12-12.4.127-py3-none-manylinux2014_x86_64.whl.metadata (1.5 kB)\n",
       "</span></pre>\n"
      ],
      "text/plain": [
       "\u001b[33m  Downloading http://pypi-mirror.modal.local:5555/simple/nvidia-cuda-runtime-cu12/nvidia_cuda_runtime_cu12-12.4.127-py3-none-manylinux2014_x86_64.whl.metadata (1.5 kB)\n",
       "\u001b[0m"
      ]
     },
     "metadata": {},
     "output_type": "display_data"
    },
    {
     "data": {
      "text/html": [
       "<pre style=\"white-space:pre;overflow-x:auto;line-height:normal;font-family:Menlo,'DejaVu Sans Mono',consolas,'Courier New',monospace\"><span style=\"color: #808000; text-decoration-color: #808000\">Collecting nvidia-cuda-cupti-cu12==12.4.127 (from torch)\n",
       "</span></pre>\n"
      ],
      "text/plain": [
       "\u001b[33mCollecting nvidia-cuda-cupti-cu12==12.4.127 (from torch)\n",
       "\u001b[0m"
      ]
     },
     "metadata": {},
     "output_type": "display_data"
    },
    {
     "data": {
      "text/html": [
       "<pre style=\"white-space:pre;overflow-x:auto;line-height:normal;font-family:Menlo,'DejaVu Sans Mono',consolas,'Courier New',monospace\"><span style=\"color: #808000; text-decoration-color: #808000\">  Downloading http://pypi-mirror.modal.local:5555/simple/nvidia-cuda-cupti-cu12/nvidia_cuda_cupti_cu12-12.4.127-py3-none-manylinux2014_x86_64.whl.metadata (1.6 kB)\n",
       "</span></pre>\n"
      ],
      "text/plain": [
       "\u001b[33m  Downloading http://pypi-mirror.modal.local:5555/simple/nvidia-cuda-cupti-cu12/nvidia_cuda_cupti_cu12-12.4.127-py3-none-manylinux2014_x86_64.whl.metadata (1.6 kB)\n",
       "\u001b[0m"
      ]
     },
     "metadata": {},
     "output_type": "display_data"
    },
    {
     "data": {
      "text/html": [
       "<pre style=\"white-space:pre;overflow-x:auto;line-height:normal;font-family:Menlo,'DejaVu Sans Mono',consolas,'Courier New',monospace\"><span style=\"color: #808000; text-decoration-color: #808000\">Collecting nvidia-cudnn-cu12==9.1.0.70 (from torch)\n",
       "</span></pre>\n"
      ],
      "text/plain": [
       "\u001b[33mCollecting nvidia-cudnn-cu12==9.1.0.70 (from torch)\n",
       "\u001b[0m"
      ]
     },
     "metadata": {},
     "output_type": "display_data"
    },
    {
     "data": {
      "text/html": [
       "<pre style=\"white-space:pre;overflow-x:auto;line-height:normal;font-family:Menlo,'DejaVu Sans Mono',consolas,'Courier New',monospace\"><span style=\"color: #808000; text-decoration-color: #808000\">  Downloading http://pypi-mirror.modal.local:5555/simple/nvidia-cudnn-cu12/nvidia_cudnn_cu12-9.1.0.70-py3-none-manylinux2014_x86_64.whl.metadata (1.6 kB)\n",
       "</span></pre>\n"
      ],
      "text/plain": [
       "\u001b[33m  Downloading http://pypi-mirror.modal.local:5555/simple/nvidia-cudnn-cu12/nvidia_cudnn_cu12-9.1.0.70-py3-none-manylinux2014_x86_64.whl.metadata (1.6 kB)\n",
       "\u001b[0m"
      ]
     },
     "metadata": {},
     "output_type": "display_data"
    },
    {
     "data": {
      "text/html": [
       "<pre style=\"white-space:pre;overflow-x:auto;line-height:normal;font-family:Menlo,'DejaVu Sans Mono',consolas,'Courier New',monospace\"><span style=\"color: #808000; text-decoration-color: #808000\">Collecting nvidia-cublas-cu12==12.4.5.8 (from torch)\n",
       "</span></pre>\n"
      ],
      "text/plain": [
       "\u001b[33mCollecting nvidia-cublas-cu12==12.4.5.8 (from torch)\n",
       "\u001b[0m"
      ]
     },
     "metadata": {},
     "output_type": "display_data"
    },
    {
     "data": {
      "text/html": [
       "<pre style=\"white-space:pre;overflow-x:auto;line-height:normal;font-family:Menlo,'DejaVu Sans Mono',consolas,'Courier New',monospace\"><span style=\"color: #808000; text-decoration-color: #808000\">  Downloading http://pypi-mirror.modal.local:5555/simple/nvidia-cublas-cu12/nvidia_cublas_cu12-12.4.5.8-py3-none-manylinux2014_x86_64.whl.metadata (1.5 kB)\n",
       "</span></pre>\n"
      ],
      "text/plain": [
       "\u001b[33m  Downloading http://pypi-mirror.modal.local:5555/simple/nvidia-cublas-cu12/nvidia_cublas_cu12-12.4.5.8-py3-none-manylinux2014_x86_64.whl.metadata (1.5 kB)\n",
       "\u001b[0m"
      ]
     },
     "metadata": {},
     "output_type": "display_data"
    },
    {
     "data": {
      "text/html": [
       "<pre style=\"white-space:pre;overflow-x:auto;line-height:normal;font-family:Menlo,'DejaVu Sans Mono',consolas,'Courier New',monospace\"><span style=\"color: #808000; text-decoration-color: #808000\">Collecting nvidia-cufft-cu12==11.2.1.3 (from torch)\n",
       "</span></pre>\n"
      ],
      "text/plain": [
       "\u001b[33mCollecting nvidia-cufft-cu12==11.2.1.3 (from torch)\n",
       "\u001b[0m"
      ]
     },
     "metadata": {},
     "output_type": "display_data"
    },
    {
     "data": {
      "text/html": [
       "<pre style=\"white-space:pre;overflow-x:auto;line-height:normal;font-family:Menlo,'DejaVu Sans Mono',consolas,'Courier New',monospace\"><span style=\"color: #808000; text-decoration-color: #808000\">  Downloading http://pypi-mirror.modal.local:5555/simple/nvidia-cufft-cu12/nvidia_cufft_cu12-11.2.1.3-py3-none-manylinux2014_x86_64.whl.metadata (1.5 kB)\n",
       "</span></pre>\n"
      ],
      "text/plain": [
       "\u001b[33m  Downloading http://pypi-mirror.modal.local:5555/simple/nvidia-cufft-cu12/nvidia_cufft_cu12-11.2.1.3-py3-none-manylinux2014_x86_64.whl.metadata (1.5 kB)\n",
       "\u001b[0m"
      ]
     },
     "metadata": {},
     "output_type": "display_data"
    },
    {
     "data": {
      "text/html": [
       "<pre style=\"white-space:pre;overflow-x:auto;line-height:normal;font-family:Menlo,'DejaVu Sans Mono',consolas,'Courier New',monospace\"><span style=\"color: #808000; text-decoration-color: #808000\">Collecting nvidia-curand-cu12==10.3.5.147 (from torch)\n",
       "</span></pre>\n"
      ],
      "text/plain": [
       "\u001b[33mCollecting nvidia-curand-cu12==10.3.5.147 (from torch)\n",
       "\u001b[0m"
      ]
     },
     "metadata": {},
     "output_type": "display_data"
    },
    {
     "data": {
      "text/html": [
       "<pre style=\"white-space:pre;overflow-x:auto;line-height:normal;font-family:Menlo,'DejaVu Sans Mono',consolas,'Courier New',monospace\"><span style=\"color: #808000; text-decoration-color: #808000\">  Downloading http://pypi-mirror.modal.local:5555/simple/nvidia-curand-cu12/nvidia_curand_cu12-10.3.5.147-py3-none-manylinux2014_x86_64.whl.metadata (1.5 kB)\n",
       "</span></pre>\n"
      ],
      "text/plain": [
       "\u001b[33m  Downloading http://pypi-mirror.modal.local:5555/simple/nvidia-curand-cu12/nvidia_curand_cu12-10.3.5.147-py3-none-manylinux2014_x86_64.whl.metadata (1.5 kB)\n",
       "\u001b[0m"
      ]
     },
     "metadata": {},
     "output_type": "display_data"
    },
    {
     "data": {
      "text/html": [
       "<pre style=\"white-space:pre;overflow-x:auto;line-height:normal;font-family:Menlo,'DejaVu Sans Mono',consolas,'Courier New',monospace\"><span style=\"color: #808000; text-decoration-color: #808000\">Collecting nvidia-cusolver-cu12==11.6.1.9 (from torch)\n",
       "</span></pre>\n"
      ],
      "text/plain": [
       "\u001b[33mCollecting nvidia-cusolver-cu12==11.6.1.9 (from torch)\n",
       "\u001b[0m"
      ]
     },
     "metadata": {},
     "output_type": "display_data"
    },
    {
     "data": {
      "text/html": [
       "<pre style=\"white-space:pre;overflow-x:auto;line-height:normal;font-family:Menlo,'DejaVu Sans Mono',consolas,'Courier New',monospace\"><span style=\"color: #808000; text-decoration-color: #808000\">  Downloading http://pypi-mirror.modal.local:5555/simple/nvidia-cusolver-cu12/nvidia_cusolver_cu12-11.6.1.9-py3-none-manylinux2014_x86_64.whl.metadata (1.6 kB)\n",
       "</span></pre>\n"
      ],
      "text/plain": [
       "\u001b[33m  Downloading http://pypi-mirror.modal.local:5555/simple/nvidia-cusolver-cu12/nvidia_cusolver_cu12-11.6.1.9-py3-none-manylinux2014_x86_64.whl.metadata (1.6 kB)\n",
       "\u001b[0m"
      ]
     },
     "metadata": {},
     "output_type": "display_data"
    },
    {
     "data": {
      "text/html": [
       "<pre style=\"white-space:pre;overflow-x:auto;line-height:normal;font-family:Menlo,'DejaVu Sans Mono',consolas,'Courier New',monospace\"><span style=\"color: #808000; text-decoration-color: #808000\">Collecting nvidia-cusparse-cu12==12.3.1.170 (from torch)\n",
       "</span></pre>\n"
      ],
      "text/plain": [
       "\u001b[33mCollecting nvidia-cusparse-cu12==12.3.1.170 (from torch)\n",
       "\u001b[0m"
      ]
     },
     "metadata": {},
     "output_type": "display_data"
    },
    {
     "data": {
      "text/html": [
       "<pre style=\"white-space:pre;overflow-x:auto;line-height:normal;font-family:Menlo,'DejaVu Sans Mono',consolas,'Courier New',monospace\"><span style=\"color: #808000; text-decoration-color: #808000\">  Downloading http://pypi-mirror.modal.local:5555/simple/nvidia-cusparse-cu12/nvidia_cusparse_cu12-12.3.1.170-py3-none-manylinux2014_x86_64.whl.metadata (1.6 kB)\n",
       "</span></pre>\n"
      ],
      "text/plain": [
       "\u001b[33m  Downloading http://pypi-mirror.modal.local:5555/simple/nvidia-cusparse-cu12/nvidia_cusparse_cu12-12.3.1.170-py3-none-manylinux2014_x86_64.whl.metadata (1.6 kB)\n",
       "\u001b[0m"
      ]
     },
     "metadata": {},
     "output_type": "display_data"
    },
    {
     "data": {
      "text/html": [
       "<pre style=\"white-space:pre;overflow-x:auto;line-height:normal;font-family:Menlo,'DejaVu Sans Mono',consolas,'Courier New',monospace\"><span style=\"color: #808000; text-decoration-color: #808000\">Collecting nvidia-cusparselt-cu12==0.6.2 (from torch)\n",
       "</span></pre>\n"
      ],
      "text/plain": [
       "\u001b[33mCollecting nvidia-cusparselt-cu12==0.6.2 (from torch)\n",
       "\u001b[0m"
      ]
     },
     "metadata": {},
     "output_type": "display_data"
    },
    {
     "data": {
      "text/html": [
       "<pre style=\"white-space:pre;overflow-x:auto;line-height:normal;font-family:Menlo,'DejaVu Sans Mono',consolas,'Courier New',monospace\"><span style=\"color: #808000; text-decoration-color: #808000\">  Downloading http://pypi-mirror.modal.local:5555/simple/nvidia-cusparselt-cu12/nvidia_cusparselt_cu12-0.6.2-py3-none-manylinux2014_x86_64.whl.metadata (6.8 kB)\n",
       "</span></pre>\n"
      ],
      "text/plain": [
       "\u001b[33m  Downloading http://pypi-mirror.modal.local:5555/simple/nvidia-cusparselt-cu12/nvidia_cusparselt_cu12-0.6.2-py3-none-manylinux2014_x86_64.whl.metadata (6.8 kB)\n",
       "\u001b[0m"
      ]
     },
     "metadata": {},
     "output_type": "display_data"
    },
    {
     "data": {
      "text/html": [
       "<pre style=\"white-space:pre;overflow-x:auto;line-height:normal;font-family:Menlo,'DejaVu Sans Mono',consolas,'Courier New',monospace\"><span style=\"color: #808000; text-decoration-color: #808000\">Collecting nvidia-nccl-cu12==2.21.5 (from torch)\n",
       "</span></pre>\n"
      ],
      "text/plain": [
       "\u001b[33mCollecting nvidia-nccl-cu12==2.21.5 (from torch)\n",
       "\u001b[0m"
      ]
     },
     "metadata": {},
     "output_type": "display_data"
    },
    {
     "data": {
      "text/html": [
       "<pre style=\"white-space:pre;overflow-x:auto;line-height:normal;font-family:Menlo,'DejaVu Sans Mono',consolas,'Courier New',monospace\"><span style=\"color: #808000; text-decoration-color: #808000\">  Downloading http://pypi-mirror.modal.local:5555/simple/nvidia-nccl-cu12/nvidia_nccl_cu12-2.21.5-py3-none-manylinux2014_x86_64.whl.metadata (1.8 kB)\n",
       "</span></pre>\n"
      ],
      "text/plain": [
       "\u001b[33m  Downloading http://pypi-mirror.modal.local:5555/simple/nvidia-nccl-cu12/nvidia_nccl_cu12-2.21.5-py3-none-manylinux2014_x86_64.whl.metadata (1.8 kB)\n",
       "\u001b[0m"
      ]
     },
     "metadata": {},
     "output_type": "display_data"
    },
    {
     "data": {
      "text/html": [
       "<pre style=\"white-space:pre;overflow-x:auto;line-height:normal;font-family:Menlo,'DejaVu Sans Mono',consolas,'Courier New',monospace\"><span style=\"color: #808000; text-decoration-color: #808000\">Collecting nvidia-nvtx-cu12==12.4.127 (from torch)\n",
       "</span></pre>\n"
      ],
      "text/plain": [
       "\u001b[33mCollecting nvidia-nvtx-cu12==12.4.127 (from torch)\n",
       "\u001b[0m"
      ]
     },
     "metadata": {},
     "output_type": "display_data"
    },
    {
     "data": {
      "text/html": [
       "<pre style=\"white-space:pre;overflow-x:auto;line-height:normal;font-family:Menlo,'DejaVu Sans Mono',consolas,'Courier New',monospace\"><span style=\"color: #808000; text-decoration-color: #808000\">  Downloading http://pypi-mirror.modal.local:5555/simple/nvidia-nvtx-cu12/nvidia_nvtx_cu12-12.4.127-py3-none-manylinux2014_x86_64.whl.metadata (1.7 kB)\n",
       "</span></pre>\n"
      ],
      "text/plain": [
       "\u001b[33m  Downloading http://pypi-mirror.modal.local:5555/simple/nvidia-nvtx-cu12/nvidia_nvtx_cu12-12.4.127-py3-none-manylinux2014_x86_64.whl.metadata (1.7 kB)\n",
       "\u001b[0m"
      ]
     },
     "metadata": {},
     "output_type": "display_data"
    },
    {
     "data": {
      "text/html": [
       "<pre style=\"white-space:pre;overflow-x:auto;line-height:normal;font-family:Menlo,'DejaVu Sans Mono',consolas,'Courier New',monospace\"><span style=\"color: #808000; text-decoration-color: #808000\">Collecting nvidia-nvjitlink-cu12==12.4.127 (from torch)\n",
       "</span></pre>\n"
      ],
      "text/plain": [
       "\u001b[33mCollecting nvidia-nvjitlink-cu12==12.4.127 (from torch)\n",
       "\u001b[0m"
      ]
     },
     "metadata": {},
     "output_type": "display_data"
    },
    {
     "data": {
      "text/html": [
       "<pre style=\"white-space:pre;overflow-x:auto;line-height:normal;font-family:Menlo,'DejaVu Sans Mono',consolas,'Courier New',monospace\"><span style=\"color: #808000; text-decoration-color: #808000\">  Downloading http://pypi-mirror.modal.local:5555/simple/nvidia-nvjitlink-cu12/nvidia_nvjitlink_cu12-12.4.127-py3-none-manylinux2014_x86_64.whl.metadata (1.5 kB)\n",
       "</span></pre>\n"
      ],
      "text/plain": [
       "\u001b[33m  Downloading http://pypi-mirror.modal.local:5555/simple/nvidia-nvjitlink-cu12/nvidia_nvjitlink_cu12-12.4.127-py3-none-manylinux2014_x86_64.whl.metadata (1.5 kB)\n",
       "\u001b[0m"
      ]
     },
     "metadata": {},
     "output_type": "display_data"
    },
    {
     "data": {
      "text/html": [
       "<pre style=\"white-space:pre;overflow-x:auto;line-height:normal;font-family:Menlo,'DejaVu Sans Mono',consolas,'Courier New',monospace\"><span style=\"color: #808000; text-decoration-color: #808000\">Collecting triton==3.2.0 (from torch)\n",
       "</span></pre>\n"
      ],
      "text/plain": [
       "\u001b[33mCollecting triton==3.2.0 (from torch)\n",
       "\u001b[0m"
      ]
     },
     "metadata": {},
     "output_type": "display_data"
    },
    {
     "data": {
      "text/html": [
       "<pre style=\"white-space:pre;overflow-x:auto;line-height:normal;font-family:Menlo,'DejaVu Sans Mono',consolas,'Courier New',monospace\"><span style=\"color: #808000; text-decoration-color: #808000\">  Downloading http://pypi-mirror.modal.local:5555/simple/triton/triton-3.2.0-cp312-cp312-manylinux_2_17_x86_64.manylinux2014_x86_64.whl.metadata (1.4 kB)\n",
       "</span></pre>\n"
      ],
      "text/plain": [
       "\u001b[33m  Downloading http://pypi-mirror.modal.local:5555/simple/triton/triton-3.2.0-cp312-cp312-manylinux_2_17_x86_64.manylinux2014_x86_64.whl.metadata (1.4 kB)\n",
       "\u001b[0m"
      ]
     },
     "metadata": {},
     "output_type": "display_data"
    },
    {
     "data": {
      "text/html": [
       "<pre style=\"white-space:pre;overflow-x:auto;line-height:normal;font-family:Menlo,'DejaVu Sans Mono',consolas,'Courier New',monospace\"><span style=\"color: #808000; text-decoration-color: #808000\">Collecting setuptools (from torch)\n",
       "</span></pre>\n"
      ],
      "text/plain": [
       "\u001b[33mCollecting setuptools (from torch)\n",
       "\u001b[0m"
      ]
     },
     "metadata": {},
     "output_type": "display_data"
    },
    {
     "data": {
      "text/html": [
       "<pre style=\"white-space:pre;overflow-x:auto;line-height:normal;font-family:Menlo,'DejaVu Sans Mono',consolas,'Courier New',monospace\"><span style=\"color: #808000; text-decoration-color: #808000\">  Downloading http://pypi-mirror.modal.local:5555/simple/setuptools/setuptools-75.8.0-py3-none-any.whl.metadata (6.7 kB)\n",
       "</span></pre>\n"
      ],
      "text/plain": [
       "\u001b[33m  Downloading http://pypi-mirror.modal.local:5555/simple/setuptools/setuptools-75.8.0-py3-none-any.whl.metadata (6.7 kB)\n",
       "\u001b[0m"
      ]
     },
     "metadata": {},
     "output_type": "display_data"
    },
    {
     "data": {
      "text/html": [
       "<pre style=\"white-space:pre;overflow-x:auto;line-height:normal;font-family:Menlo,'DejaVu Sans Mono',consolas,'Courier New',monospace\"><span style=\"color: #808000; text-decoration-color: #808000\">Collecting sympy==1.13.1 (from torch)\n",
       "</span></pre>\n"
      ],
      "text/plain": [
       "\u001b[33mCollecting sympy==1.13.1 (from torch)\n",
       "\u001b[0m"
      ]
     },
     "metadata": {},
     "output_type": "display_data"
    },
    {
     "data": {
      "text/html": [
       "<pre style=\"white-space:pre;overflow-x:auto;line-height:normal;font-family:Menlo,'DejaVu Sans Mono',consolas,'Courier New',monospace\"><span style=\"color: #808000; text-decoration-color: #808000\">  Downloading http://pypi-mirror.modal.local:5555/simple/sympy/sympy-1.13.1-py3-none-any.whl.metadata (12 kB)\n",
       "</span></pre>\n"
      ],
      "text/plain": [
       "\u001b[33m  Downloading http://pypi-mirror.modal.local:5555/simple/sympy/sympy-1.13.1-py3-none-any.whl.metadata (12 kB)\n",
       "\u001b[0m"
      ]
     },
     "metadata": {},
     "output_type": "display_data"
    },
    {
     "data": {
      "text/html": [
       "<pre style=\"white-space:pre;overflow-x:auto;line-height:normal;font-family:Menlo,'DejaVu Sans Mono',consolas,'Courier New',monospace\"><span style=\"color: #808000; text-decoration-color: #808000\">Collecting mpmath&lt;1.4,&gt;=1.1.0 (from sympy==1.13.1-&gt;torch)\n",
       "</span></pre>\n"
      ],
      "text/plain": [
       "\u001b[33mCollecting mpmath<1.4,>=1.1.0 (from sympy==1.13.1->torch)\n",
       "\u001b[0m"
      ]
     },
     "metadata": {},
     "output_type": "display_data"
    },
    {
     "data": {
      "text/html": [
       "<pre style=\"white-space:pre;overflow-x:auto;line-height:normal;font-family:Menlo,'DejaVu Sans Mono',consolas,'Courier New',monospace\"><span style=\"color: #808000; text-decoration-color: #808000\">  Downloading http://pypi-mirror.modal.local:5555/simple/mpmath/mpmath-1.3.0-py3-none-any.whl.metadata (8.6 kB)\n",
       "</span></pre>\n"
      ],
      "text/plain": [
       "\u001b[33m  Downloading http://pypi-mirror.modal.local:5555/simple/mpmath/mpmath-1.3.0-py3-none-any.whl.metadata (8.6 kB)\n",
       "\u001b[0m"
      ]
     },
     "metadata": {},
     "output_type": "display_data"
    },
    {
     "data": {
      "text/html": [
       "<pre style=\"white-space:pre;overflow-x:auto;line-height:normal;font-family:Menlo,'DejaVu Sans Mono',consolas,'Courier New',monospace\"><span style=\"color: #808000; text-decoration-color: #808000\">Collecting regex!=2019.12.17 (from transformers)\n",
       "</span></pre>\n"
      ],
      "text/plain": [
       "\u001b[33mCollecting regex!=2019.12.17 (from transformers)\n",
       "\u001b[0m"
      ]
     },
     "metadata": {},
     "output_type": "display_data"
    },
    {
     "data": {
      "text/html": [
       "<pre style=\"white-space:pre;overflow-x:auto;line-height:normal;font-family:Menlo,'DejaVu Sans Mono',consolas,'Courier New',monospace\"><span style=\"color: #808000; text-decoration-color: #808000\">  Downloading http://pypi-mirror.modal.local:5555/simple/regex/regex-2024.11.6-cp312-cp312-manylinux_2_17_x86_64.manylinux2014_x86_64.whl.metadata (40 kB)\n",
       "</span></pre>\n"
      ],
      "text/plain": [
       "\u001b[33m  Downloading http://pypi-mirror.modal.local:5555/simple/regex/regex-2024.11.6-cp312-cp312-manylinux_2_17_x86_64.manylinux2014_x86_64.whl.metadata (40 kB)\n",
       "\u001b[0m"
      ]
     },
     "metadata": {},
     "output_type": "display_data"
    },
    {
     "data": {
      "text/html": [
       "<pre style=\"white-space:pre;overflow-x:auto;line-height:normal;font-family:Menlo,'DejaVu Sans Mono',consolas,'Courier New',monospace\"><span style=\"color: #808000; text-decoration-color: #808000\">Collecting requests (from transformers)\n",
       "</span></pre>\n"
      ],
      "text/plain": [
       "\u001b[33mCollecting requests (from transformers)\n",
       "\u001b[0m"
      ]
     },
     "metadata": {},
     "output_type": "display_data"
    },
    {
     "data": {
      "text/html": [
       "<pre style=\"white-space:pre;overflow-x:auto;line-height:normal;font-family:Menlo,'DejaVu Sans Mono',consolas,'Courier New',monospace\"><span style=\"color: #808000; text-decoration-color: #808000\">  Downloading http://pypi-mirror.modal.local:5555/simple/requests/requests-2.32.3-py3-none-any.whl.metadata (4.6 kB)\n",
       "</span></pre>\n"
      ],
      "text/plain": [
       "\u001b[33m  Downloading http://pypi-mirror.modal.local:5555/simple/requests/requests-2.32.3-py3-none-any.whl.metadata (4.6 kB)\n",
       "\u001b[0m"
      ]
     },
     "metadata": {},
     "output_type": "display_data"
    },
    {
     "data": {
      "text/html": [
       "<pre style=\"white-space:pre;overflow-x:auto;line-height:normal;font-family:Menlo,'DejaVu Sans Mono',consolas,'Courier New',monospace\"><span style=\"color: #808000; text-decoration-color: #808000\">Collecting tokenizers&lt;0.22,&gt;=0.21 (from transformers)\n",
       "</span></pre>\n"
      ],
      "text/plain": [
       "\u001b[33mCollecting tokenizers<0.22,>=0.21 (from transformers)\n",
       "\u001b[0m"
      ]
     },
     "metadata": {},
     "output_type": "display_data"
    },
    {
     "data": {
      "text/html": [
       "<pre style=\"white-space:pre;overflow-x:auto;line-height:normal;font-family:Menlo,'DejaVu Sans Mono',consolas,'Courier New',monospace\"><span style=\"color: #808000; text-decoration-color: #808000\">  Downloading http://pypi-mirror.modal.local:5555/simple/tokenizers/tokenizers-0.21.0-cp39-abi3-manylinux_2_17_x86_64.manylinux2014_x86_64.whl.metadata (6.7 kB)\n",
       "</span></pre>\n"
      ],
      "text/plain": [
       "\u001b[33m  Downloading http://pypi-mirror.modal.local:5555/simple/tokenizers/tokenizers-0.21.0-cp39-abi3-manylinux_2_17_x86_64.manylinux2014_x86_64.whl.metadata (6.7 kB)\n",
       "\u001b[0m"
      ]
     },
     "metadata": {},
     "output_type": "display_data"
    },
    {
     "data": {
      "text/html": [
       "<pre style=\"white-space:pre;overflow-x:auto;line-height:normal;font-family:Menlo,'DejaVu Sans Mono',consolas,'Courier New',monospace\"><span style=\"color: #808000; text-decoration-color: #808000\">Collecting tqdm&gt;=4.27 (from transformers)\n",
       "</span></pre>\n"
      ],
      "text/plain": [
       "\u001b[33mCollecting tqdm>=4.27 (from transformers)\n",
       "\u001b[0m"
      ]
     },
     "metadata": {},
     "output_type": "display_data"
    },
    {
     "data": {
      "text/html": [
       "<pre style=\"white-space:pre;overflow-x:auto;line-height:normal;font-family:Menlo,'DejaVu Sans Mono',consolas,'Courier New',monospace\"><span style=\"color: #808000; text-decoration-color: #808000\">  Downloading http://pypi-mirror.modal.local:5555/simple/tqdm/tqdm-4.67.1-py3-none-any.whl.metadata (57 kB)\n",
       "</span></pre>\n"
      ],
      "text/plain": [
       "\u001b[33m  Downloading http://pypi-mirror.modal.local:5555/simple/tqdm/tqdm-4.67.1-py3-none-any.whl.metadata (57 kB)\n",
       "\u001b[0m"
      ]
     },
     "metadata": {},
     "output_type": "display_data"
    },
    {
     "data": {
      "text/html": [
       "<pre style=\"white-space:pre;overflow-x:auto;line-height:normal;font-family:Menlo,'DejaVu Sans Mono',consolas,'Courier New',monospace\"><span style=\"color: #808000; text-decoration-color: #808000\">Collecting MarkupSafe&gt;=2.0 (from jinja2-&gt;torch)\n",
       "</span></pre>\n"
      ],
      "text/plain": [
       "\u001b[33mCollecting MarkupSafe>=2.0 (from jinja2->torch)\n",
       "\u001b[0m"
      ]
     },
     "metadata": {},
     "output_type": "display_data"
    },
    {
     "data": {
      "text/html": [
       "<pre style=\"white-space:pre;overflow-x:auto;line-height:normal;font-family:Menlo,'DejaVu Sans Mono',consolas,'Courier New',monospace\"><span style=\"color: #808000; text-decoration-color: #808000\">  Downloading http://pypi-mirror.modal.local:5555/simple/markupsafe/MarkupSafe-3.0.2-cp312-cp312-manylinux_2_17_x86_64.manylinux2014_x86_64.whl.metadata (4.0 kB)\n",
       "</span></pre>\n"
      ],
      "text/plain": [
       "\u001b[33m  Downloading http://pypi-mirror.modal.local:5555/simple/markupsafe/MarkupSafe-3.0.2-cp312-cp312-manylinux_2_17_x86_64.manylinux2014_x86_64.whl.metadata (4.0 kB)\n",
       "\u001b[0m"
      ]
     },
     "metadata": {},
     "output_type": "display_data"
    },
    {
     "data": {
      "text/html": [
       "<pre style=\"white-space:pre;overflow-x:auto;line-height:normal;font-family:Menlo,'DejaVu Sans Mono',consolas,'Courier New',monospace\"><span style=\"color: #808000; text-decoration-color: #808000\">Collecting charset-normalizer&lt;4,&gt;=2 (from requests-&gt;transformers)\n",
       "</span></pre>\n"
      ],
      "text/plain": [
       "\u001b[33mCollecting charset-normalizer<4,>=2 (from requests->transformers)\n",
       "\u001b[0m"
      ]
     },
     "metadata": {},
     "output_type": "display_data"
    },
    {
     "data": {
      "text/html": [
       "<pre style=\"white-space:pre;overflow-x:auto;line-height:normal;font-family:Menlo,'DejaVu Sans Mono',consolas,'Courier New',monospace\"><span style=\"color: #808000; text-decoration-color: #808000\">  Downloading http://pypi-mirror.modal.local:5555/simple/charset-normalizer/charset_normalizer-3.4.1-cp312-cp312-manylinux_2_17_x86_64.manylinux2014_x86_64.whl.metadata (35 kB)\n",
       "</span></pre>\n"
      ],
      "text/plain": [
       "\u001b[33m  Downloading http://pypi-mirror.modal.local:5555/simple/charset-normalizer/charset_normalizer-3.4.1-cp312-cp312-manylinux_2_17_x86_64.manylinux2014_x86_64.whl.metadata (35 kB)\n",
       "\u001b[0m"
      ]
     },
     "metadata": {},
     "output_type": "display_data"
    },
    {
     "data": {
      "text/html": [
       "<pre style=\"white-space:pre;overflow-x:auto;line-height:normal;font-family:Menlo,'DejaVu Sans Mono',consolas,'Courier New',monospace\"><span style=\"color: #808000; text-decoration-color: #808000\">Requirement already satisfied: idna&lt;4,&gt;=2.5 in /usr/local/lib/python3.12/site-packages (from requests-&gt;transformers) (3.10)\n",
       "</span></pre>\n"
      ],
      "text/plain": [
       "\u001b[33mRequirement already satisfied: idna<4,>=2.5 in /usr/local/lib/python3.12/site-packages (from requests->transformers) (3.10)\n",
       "\u001b[0m"
      ]
     },
     "metadata": {},
     "output_type": "display_data"
    },
    {
     "data": {
      "text/html": [
       "<pre style=\"white-space:pre;overflow-x:auto;line-height:normal;font-family:Menlo,'DejaVu Sans Mono',consolas,'Courier New',monospace\"><span style=\"color: #808000; text-decoration-color: #808000\">Collecting urllib3&lt;3,&gt;=1.21.1 (from requests-&gt;transformers)\n",
       "</span></pre>\n"
      ],
      "text/plain": [
       "\u001b[33mCollecting urllib3<3,>=1.21.1 (from requests->transformers)\n",
       "\u001b[0m"
      ]
     },
     "metadata": {},
     "output_type": "display_data"
    },
    {
     "data": {
      "text/html": [
       "<pre style=\"white-space:pre;overflow-x:auto;line-height:normal;font-family:Menlo,'DejaVu Sans Mono',consolas,'Courier New',monospace\"><span style=\"color: #808000; text-decoration-color: #808000\">  Downloading http://pypi-mirror.modal.local:5555/simple/urllib3/urllib3-2.3.0-py3-none-any.whl.metadata (6.5 kB)\n",
       "Requirement already satisfied: certifi&gt;=2017.4.17 in /usr/local/lib/python3.12/site-packages (from requests-&gt;transformers) (2024.8.30)\n",
       "</span></pre>\n"
      ],
      "text/plain": [
       "\u001b[33m  Downloading http://pypi-mirror.modal.local:5555/simple/urllib3/urllib3-2.3.0-py3-none-any.whl.metadata (6.5 kB)\n",
       "Requirement already satisfied: certifi>=2017.4.17 in /usr/local/lib/python3.12/site-packages (from requests->transformers) (2024.8.30)\n",
       "\u001b[0m"
      ]
     },
     "metadata": {},
     "output_type": "display_data"
    },
    {
     "data": {
      "text/html": [
       "<pre style=\"white-space:pre;overflow-x:auto;line-height:normal;font-family:Menlo,'DejaVu Sans Mono',consolas,'Courier New',monospace\"><span style=\"color: #808000; text-decoration-color: #808000\">Downloading http://pypi-mirror.modal.local:5555/simple/accelerate/accelerate-1.3.0-py3-none-any.whl (336 kB)\n",
       "</span></pre>\n"
      ],
      "text/plain": [
       "\u001b[33mDownloading http://pypi-mirror.modal.local:5555/simple/accelerate/accelerate-1.3.0-py3-none-any.whl (336 kB)\n",
       "\u001b[0m"
      ]
     },
     "metadata": {},
     "output_type": "display_data"
    },
    {
     "data": {
      "text/html": [
       "<pre style=\"white-space:pre;overflow-x:auto;line-height:normal;font-family:Menlo,'DejaVu Sans Mono',consolas,'Courier New',monospace\"><span style=\"color: #808000; text-decoration-color: #808000\">Downloading http://pypi-mirror.modal.local:5555/simple/bitsandbytes/bitsandbytes-0.45.1-py3-none-manylinux_2_24_x86_64.whl (69.7 MB)\n",
       "</span></pre>\n"
      ],
      "text/plain": [
       "\u001b[33mDownloading http://pypi-mirror.modal.local:5555/simple/bitsandbytes/bitsandbytes-0.45.1-py3-none-manylinux_2_24_x86_64.whl (69.7 MB)\n",
       "\u001b[0m"
      ]
     },
     "metadata": {},
     "output_type": "display_data"
    },
    {
     "data": {
      "text/html": [
       "<pre style=\"white-space:pre;overflow-x:auto;line-height:normal;font-family:Menlo,'DejaVu Sans Mono',consolas,'Courier New',monospace\"><span style=\"color: #808000; text-decoration-color: #808000\"></span></pre>\n"
      ],
      "text/plain": []
     },
     "metadata": {},
     "output_type": "display_data"
    },
    {
     "data": {
      "text/html": [
       "<pre style=\"white-space:pre;overflow-x:auto;line-height:normal;font-family:Menlo,'DejaVu Sans Mono',consolas,'Courier New',monospace\"><span style=\"color: #808000; text-decoration-color: #808000\">   ━━━━━━━━━━━━━━━━━━━━━━━━━━━━━━━━━━━━━━━━ 69.7/69.7 MB 586.0 MB/s eta 0:00:00\n",
       "</span></pre>\n"
      ],
      "text/plain": [
       "\u001b[33m   ━━━━━━━━━━━━━━━━━━━━━━━━━━━━━━━━━━━━━━━━ 69.7/69.7 MB 586.0 MB/s eta 0:00:00\n",
       "\u001b[0m"
      ]
     },
     "metadata": {},
     "output_type": "display_data"
    },
    {
     "data": {
      "text/html": [
       "<pre style=\"white-space:pre;overflow-x:auto;line-height:normal;font-family:Menlo,'DejaVu Sans Mono',consolas,'Courier New',monospace\"><span style=\"color: #808000; text-decoration-color: #808000\">Downloading http://pypi-mirror.modal.local:5555/simple/torch/torch-2.6.0-cp312-cp312-manylinux1_x86_64.whl (766.6 MB)\n",
       "</span></pre>\n"
      ],
      "text/plain": [
       "\u001b[33mDownloading http://pypi-mirror.modal.local:5555/simple/torch/torch-2.6.0-cp312-cp312-manylinux1_x86_64.whl (766.6 MB)\n",
       "\u001b[0m"
      ]
     },
     "metadata": {},
     "output_type": "display_data"
    },
    {
     "data": {
      "text/html": [
       "<pre style=\"white-space:pre;overflow-x:auto;line-height:normal;font-family:Menlo,'DejaVu Sans Mono',consolas,'Courier New',monospace\"><span style=\"color: #808000; text-decoration-color: #808000\"></span></pre>\n"
      ],
      "text/plain": []
     },
     "metadata": {},
     "output_type": "display_data"
    },
    {
     "data": {
      "text/html": [
       "<pre style=\"white-space:pre;overflow-x:auto;line-height:normal;font-family:Menlo,'DejaVu Sans Mono',consolas,'Courier New',monospace\"><span style=\"color: #808000; text-decoration-color: #808000\">   ━━━━━━━━━━━━━━━━━━━━━━━━━━━━━━━━━━━━━━━ 766.6/766.6 MB 601.4 MB/s eta 0:00:00\n",
       "</span></pre>\n"
      ],
      "text/plain": [
       "\u001b[33m   ━━━━━━━━━━━━━━━━━━━━━━━━━━━━━━━━━━━━━━━ 766.6/766.6 MB 601.4 MB/s eta 0:00:00\n",
       "\u001b[0m"
      ]
     },
     "metadata": {},
     "output_type": "display_data"
    },
    {
     "data": {
      "text/html": [
       "<pre style=\"white-space:pre;overflow-x:auto;line-height:normal;font-family:Menlo,'DejaVu Sans Mono',consolas,'Courier New',monospace\"><span style=\"color: #808000; text-decoration-color: #808000\">Downloading http://pypi-mirror.modal.local:5555/simple/nvidia-cublas-cu12/nvidia_cublas_cu12-12.4.5.8-py3-none-manylinux2014_x86_64.whl (363.4 MB)\n",
       "</span></pre>\n"
      ],
      "text/plain": [
       "\u001b[33mDownloading http://pypi-mirror.modal.local:5555/simple/nvidia-cublas-cu12/nvidia_cublas_cu12-12.4.5.8-py3-none-manylinux2014_x86_64.whl (363.4 MB)\n",
       "\u001b[0m"
      ]
     },
     "metadata": {},
     "output_type": "display_data"
    },
    {
     "data": {
      "text/html": [
       "<pre style=\"white-space:pre;overflow-x:auto;line-height:normal;font-family:Menlo,'DejaVu Sans Mono',consolas,'Courier New',monospace\"><span style=\"color: #808000; text-decoration-color: #808000\"></span></pre>\n"
      ],
      "text/plain": []
     },
     "metadata": {},
     "output_type": "display_data"
    },
    {
     "data": {
      "text/html": [
       "<pre style=\"white-space:pre;overflow-x:auto;line-height:normal;font-family:Menlo,'DejaVu Sans Mono',consolas,'Courier New',monospace\"><span style=\"color: #808000; text-decoration-color: #808000\">   ━━━━━━━━━━━━━━━━━━━━━━━━━━━━━━━━━━━━━━━ 363.4/363.4 MB 603.1 MB/s eta 0:00:00\n",
       "</span></pre>\n"
      ],
      "text/plain": [
       "\u001b[33m   ━━━━━━━━━━━━━━━━━━━━━━━━━━━━━━━━━━━━━━━ 363.4/363.4 MB 603.1 MB/s eta 0:00:00\n",
       "\u001b[0m"
      ]
     },
     "metadata": {},
     "output_type": "display_data"
    },
    {
     "data": {
      "text/html": [
       "<pre style=\"white-space:pre;overflow-x:auto;line-height:normal;font-family:Menlo,'DejaVu Sans Mono',consolas,'Courier New',monospace\"><span style=\"color: #808000; text-decoration-color: #808000\">Downloading http://pypi-mirror.modal.local:5555/simple/nvidia-cuda-cupti-cu12/nvidia_cuda_cupti_cu12-12.4.127-py3-none-manylinux2014_x86_64.whl (13.8 MB)\n",
       "</span></pre>\n"
      ],
      "text/plain": [
       "\u001b[33mDownloading http://pypi-mirror.modal.local:5555/simple/nvidia-cuda-cupti-cu12/nvidia_cuda_cupti_cu12-12.4.127-py3-none-manylinux2014_x86_64.whl (13.8 MB)\n",
       "\u001b[0m"
      ]
     },
     "metadata": {},
     "output_type": "display_data"
    },
    {
     "data": {
      "text/html": [
       "<pre style=\"white-space:pre;overflow-x:auto;line-height:normal;font-family:Menlo,'DejaVu Sans Mono',consolas,'Courier New',monospace\"><span style=\"color: #808000; text-decoration-color: #808000\"></span></pre>\n"
      ],
      "text/plain": []
     },
     "metadata": {},
     "output_type": "display_data"
    },
    {
     "data": {
      "text/html": [
       "<pre style=\"white-space:pre;overflow-x:auto;line-height:normal;font-family:Menlo,'DejaVu Sans Mono',consolas,'Courier New',monospace\"><span style=\"color: #808000; text-decoration-color: #808000\">   ━━━━━━━━━━━━━━━━━━━━━━━━━━━━━━━━━━━━━━━━ 13.8/13.8 MB 629.3 MB/s eta 0:00:00\n",
       "</span></pre>\n"
      ],
      "text/plain": [
       "\u001b[33m   ━━━━━━━━━━━━━━━━━━━━━━━━━━━━━━━━━━━━━━━━ 13.8/13.8 MB 629.3 MB/s eta 0:00:00\n",
       "\u001b[0m"
      ]
     },
     "metadata": {},
     "output_type": "display_data"
    },
    {
     "data": {
      "text/html": [
       "<pre style=\"white-space:pre;overflow-x:auto;line-height:normal;font-family:Menlo,'DejaVu Sans Mono',consolas,'Courier New',monospace\"><span style=\"color: #808000; text-decoration-color: #808000\">Downloading http://pypi-mirror.modal.local:5555/simple/nvidia-cuda-nvrtc-cu12/nvidia_cuda_nvrtc_cu12-12.4.127-py3-none-manylinux2014_x86_64.whl (24.6 MB)\n",
       "</span></pre>\n"
      ],
      "text/plain": [
       "\u001b[33mDownloading http://pypi-mirror.modal.local:5555/simple/nvidia-cuda-nvrtc-cu12/nvidia_cuda_nvrtc_cu12-12.4.127-py3-none-manylinux2014_x86_64.whl (24.6 MB)\n",
       "\u001b[0m"
      ]
     },
     "metadata": {},
     "output_type": "display_data"
    },
    {
     "data": {
      "text/html": [
       "<pre style=\"white-space:pre;overflow-x:auto;line-height:normal;font-family:Menlo,'DejaVu Sans Mono',consolas,'Courier New',monospace\"><span style=\"color: #808000; text-decoration-color: #808000\"></span></pre>\n"
      ],
      "text/plain": []
     },
     "metadata": {},
     "output_type": "display_data"
    },
    {
     "data": {
      "text/html": [
       "<pre style=\"white-space:pre;overflow-x:auto;line-height:normal;font-family:Menlo,'DejaVu Sans Mono',consolas,'Courier New',monospace\"><span style=\"color: #808000; text-decoration-color: #808000\">   ━━━━━━━━━━━━━━━━━━━━━━━━━━━━━━━━━━━━━━━━ 24.6/24.6 MB 597.8 MB/s eta 0:00:00\n",
       "</span></pre>\n"
      ],
      "text/plain": [
       "\u001b[33m   ━━━━━━━━━━━━━━━━━━━━━━━━━━━━━━━━━━━━━━━━ 24.6/24.6 MB 597.8 MB/s eta 0:00:00\n",
       "\u001b[0m"
      ]
     },
     "metadata": {},
     "output_type": "display_data"
    },
    {
     "data": {
      "text/html": [
       "<pre style=\"white-space:pre;overflow-x:auto;line-height:normal;font-family:Menlo,'DejaVu Sans Mono',consolas,'Courier New',monospace\"><span style=\"color: #808000; text-decoration-color: #808000\">Downloading http://pypi-mirror.modal.local:5555/simple/nvidia-cuda-runtime-cu12/nvidia_cuda_runtime_cu12-12.4.127-py3-none-manylinux2014_x86_64.whl (883 kB)\n",
       "</span></pre>\n"
      ],
      "text/plain": [
       "\u001b[33mDownloading http://pypi-mirror.modal.local:5555/simple/nvidia-cuda-runtime-cu12/nvidia_cuda_runtime_cu12-12.4.127-py3-none-manylinux2014_x86_64.whl (883 kB)\n",
       "\u001b[0m"
      ]
     },
     "metadata": {},
     "output_type": "display_data"
    },
    {
     "data": {
      "text/html": [
       "<pre style=\"white-space:pre;overflow-x:auto;line-height:normal;font-family:Menlo,'DejaVu Sans Mono',consolas,'Courier New',monospace\"><span style=\"color: #808000; text-decoration-color: #808000\">   ━━━━━━━━━━━━━━━━━━━━━━━━━━━━━━━━━━━━━━━ 883.7/883.7 kB 847.4 MB/s eta 0:00:00\n",
       "</span></pre>\n"
      ],
      "text/plain": [
       "\u001b[33m   ━━━━━━━━━━━━━━━━━━━━━━━━━━━━━━━━━━━━━━━ 883.7/883.7 kB 847.4 MB/s eta 0:00:00\n",
       "\u001b[0m"
      ]
     },
     "metadata": {},
     "output_type": "display_data"
    },
    {
     "data": {
      "text/html": [
       "<pre style=\"white-space:pre;overflow-x:auto;line-height:normal;font-family:Menlo,'DejaVu Sans Mono',consolas,'Courier New',monospace\"><span style=\"color: #808000; text-decoration-color: #808000\">Downloading http://pypi-mirror.modal.local:5555/simple/nvidia-cudnn-cu12/nvidia_cudnn_cu12-9.1.0.70-py3-none-manylinux2014_x86_64.whl (664.8 MB)\n",
       "</span></pre>\n"
      ],
      "text/plain": [
       "\u001b[33mDownloading http://pypi-mirror.modal.local:5555/simple/nvidia-cudnn-cu12/nvidia_cudnn_cu12-9.1.0.70-py3-none-manylinux2014_x86_64.whl (664.8 MB)\n",
       "\u001b[0m"
      ]
     },
     "metadata": {},
     "output_type": "display_data"
    },
    {
     "data": {
      "text/html": [
       "<pre style=\"white-space:pre;overflow-x:auto;line-height:normal;font-family:Menlo,'DejaVu Sans Mono',consolas,'Courier New',monospace\"><span style=\"color: #808000; text-decoration-color: #808000\"></span></pre>\n"
      ],
      "text/plain": []
     },
     "metadata": {},
     "output_type": "display_data"
    },
    {
     "data": {
      "text/html": [
       "<pre style=\"white-space:pre;overflow-x:auto;line-height:normal;font-family:Menlo,'DejaVu Sans Mono',consolas,'Courier New',monospace\"><span style=\"color: #808000; text-decoration-color: #808000\">   ━━━━━━━━━━━━━━━━━━━━━━━━━━━━━━━━━━━━━━━ 664.8/664.8 MB 577.3 MB/s eta 0:00:00\n",
       "</span></pre>\n"
      ],
      "text/plain": [
       "\u001b[33m   ━━━━━━━━━━━━━━━━━━━━━━━━━━━━━━━━━━━━━━━ 664.8/664.8 MB 577.3 MB/s eta 0:00:00\n",
       "\u001b[0m"
      ]
     },
     "metadata": {},
     "output_type": "display_data"
    },
    {
     "data": {
      "text/html": [
       "<pre style=\"white-space:pre;overflow-x:auto;line-height:normal;font-family:Menlo,'DejaVu Sans Mono',consolas,'Courier New',monospace\"><span style=\"color: #808000; text-decoration-color: #808000\">Downloading http://pypi-mirror.modal.local:5555/simple/nvidia-cufft-cu12/nvidia_cufft_cu12-11.2.1.3-py3-none-manylinux2014_x86_64.whl (211.5 MB)\n",
       "</span></pre>\n"
      ],
      "text/plain": [
       "\u001b[33mDownloading http://pypi-mirror.modal.local:5555/simple/nvidia-cufft-cu12/nvidia_cufft_cu12-11.2.1.3-py3-none-manylinux2014_x86_64.whl (211.5 MB)\n",
       "\u001b[0m"
      ]
     },
     "metadata": {},
     "output_type": "display_data"
    },
    {
     "data": {
      "text/html": [
       "<pre style=\"white-space:pre;overflow-x:auto;line-height:normal;font-family:Menlo,'DejaVu Sans Mono',consolas,'Courier New',monospace\"><span style=\"color: #808000; text-decoration-color: #808000\"></span></pre>\n"
      ],
      "text/plain": []
     },
     "metadata": {},
     "output_type": "display_data"
    },
    {
     "data": {
      "text/html": [
       "<pre style=\"white-space:pre;overflow-x:auto;line-height:normal;font-family:Menlo,'DejaVu Sans Mono',consolas,'Courier New',monospace\"><span style=\"color: #808000; text-decoration-color: #808000\">   ━━━━━━━━━━━━━━━━━━━━━━━━━━━━━━━━━━━━━━━ 211.5/211.5 MB 607.6 MB/s eta 0:00:00\n",
       "</span></pre>\n"
      ],
      "text/plain": [
       "\u001b[33m   ━━━━━━━━━━━━━━━━━━━━━━━━━━━━━━━━━━━━━━━ 211.5/211.5 MB 607.6 MB/s eta 0:00:00\n",
       "\u001b[0m"
      ]
     },
     "metadata": {},
     "output_type": "display_data"
    },
    {
     "data": {
      "text/html": [
       "<pre style=\"white-space:pre;overflow-x:auto;line-height:normal;font-family:Menlo,'DejaVu Sans Mono',consolas,'Courier New',monospace\"><span style=\"color: #808000; text-decoration-color: #808000\">Downloading http://pypi-mirror.modal.local:5555/simple/nvidia-curand-cu12/nvidia_curand_cu12-10.3.5.147-py3-none-manylinux2014_x86_64.whl (56.3 MB)\n",
       "</span></pre>\n"
      ],
      "text/plain": [
       "\u001b[33mDownloading http://pypi-mirror.modal.local:5555/simple/nvidia-curand-cu12/nvidia_curand_cu12-10.3.5.147-py3-none-manylinux2014_x86_64.whl (56.3 MB)\n",
       "\u001b[0m"
      ]
     },
     "metadata": {},
     "output_type": "display_data"
    },
    {
     "data": {
      "text/html": [
       "<pre style=\"white-space:pre;overflow-x:auto;line-height:normal;font-family:Menlo,'DejaVu Sans Mono',consolas,'Courier New',monospace\"><span style=\"color: #808000; text-decoration-color: #808000\"></span></pre>\n"
      ],
      "text/plain": []
     },
     "metadata": {},
     "output_type": "display_data"
    },
    {
     "data": {
      "text/html": [
       "<pre style=\"white-space:pre;overflow-x:auto;line-height:normal;font-family:Menlo,'DejaVu Sans Mono',consolas,'Courier New',monospace\"><span style=\"color: #808000; text-decoration-color: #808000\">   ━━━━━━━━━━━━━━━━━━━━━━━━━━━━━━━━━━━━━━━━ 56.3/56.3 MB 625.0 MB/s eta 0:00:00\n",
       "</span></pre>\n"
      ],
      "text/plain": [
       "\u001b[33m   ━━━━━━━━━━━━━━━━━━━━━━━━━━━━━━━━━━━━━━━━ 56.3/56.3 MB 625.0 MB/s eta 0:00:00\n",
       "\u001b[0m"
      ]
     },
     "metadata": {},
     "output_type": "display_data"
    },
    {
     "data": {
      "text/html": [
       "<pre style=\"white-space:pre;overflow-x:auto;line-height:normal;font-family:Menlo,'DejaVu Sans Mono',consolas,'Courier New',monospace\"><span style=\"color: #808000; text-decoration-color: #808000\">Downloading http://pypi-mirror.modal.local:5555/simple/nvidia-cusolver-cu12/nvidia_cusolver_cu12-11.6.1.9-py3-none-manylinux2014_x86_64.whl (127.9 MB)\n",
       "</span></pre>\n"
      ],
      "text/plain": [
       "\u001b[33mDownloading http://pypi-mirror.modal.local:5555/simple/nvidia-cusolver-cu12/nvidia_cusolver_cu12-11.6.1.9-py3-none-manylinux2014_x86_64.whl (127.9 MB)\n",
       "\u001b[0m"
      ]
     },
     "metadata": {},
     "output_type": "display_data"
    },
    {
     "data": {
      "text/html": [
       "<pre style=\"white-space:pre;overflow-x:auto;line-height:normal;font-family:Menlo,'DejaVu Sans Mono',consolas,'Courier New',monospace\"><span style=\"color: #808000; text-decoration-color: #808000\"></span></pre>\n"
      ],
      "text/plain": []
     },
     "metadata": {},
     "output_type": "display_data"
    },
    {
     "data": {
      "text/html": [
       "<pre style=\"white-space:pre;overflow-x:auto;line-height:normal;font-family:Menlo,'DejaVu Sans Mono',consolas,'Courier New',monospace\"><span style=\"color: #808000; text-decoration-color: #808000\">   ━━━━━━━━━━━━━━━━━━━━━━━━━━━━━━━━━━━━━━━ 127.9/127.9 MB 565.3 MB/s eta 0:00:00\n",
       "</span></pre>\n"
      ],
      "text/plain": [
       "\u001b[33m   ━━━━━━━━━━━━━━━━━━━━━━━━━━━━━━━━━━━━━━━ 127.9/127.9 MB 565.3 MB/s eta 0:00:00\n",
       "\u001b[0m"
      ]
     },
     "metadata": {},
     "output_type": "display_data"
    },
    {
     "data": {
      "text/html": [
       "<pre style=\"white-space:pre;overflow-x:auto;line-height:normal;font-family:Menlo,'DejaVu Sans Mono',consolas,'Courier New',monospace\"><span style=\"color: #808000; text-decoration-color: #808000\">Downloading http://pypi-mirror.modal.local:5555/simple/nvidia-cusparse-cu12/nvidia_cusparse_cu12-12.3.1.170-py3-none-manylinux2014_x86_64.whl (207.5 MB)\n",
       "</span></pre>\n"
      ],
      "text/plain": [
       "\u001b[33mDownloading http://pypi-mirror.modal.local:5555/simple/nvidia-cusparse-cu12/nvidia_cusparse_cu12-12.3.1.170-py3-none-manylinux2014_x86_64.whl (207.5 MB)\n",
       "\u001b[0m"
      ]
     },
     "metadata": {},
     "output_type": "display_data"
    },
    {
     "data": {
      "text/html": [
       "<pre style=\"white-space:pre;overflow-x:auto;line-height:normal;font-family:Menlo,'DejaVu Sans Mono',consolas,'Courier New',monospace\"><span style=\"color: #808000; text-decoration-color: #808000\"></span></pre>\n"
      ],
      "text/plain": []
     },
     "metadata": {},
     "output_type": "display_data"
    },
    {
     "data": {
      "text/html": [
       "<pre style=\"white-space:pre;overflow-x:auto;line-height:normal;font-family:Menlo,'DejaVu Sans Mono',consolas,'Courier New',monospace\"><span style=\"color: #808000; text-decoration-color: #808000\">   ━━━━━━━━━━━━━━━━━━━━━━━━━━━━━━━━━━━━━━━ 207.5/207.5 MB 559.6 MB/s eta 0:00:00\n",
       "</span></pre>\n"
      ],
      "text/plain": [
       "\u001b[33m   ━━━━━━━━━━━━━━━━━━━━━━━━━━━━━━━━━━━━━━━ 207.5/207.5 MB 559.6 MB/s eta 0:00:00\n",
       "\u001b[0m"
      ]
     },
     "metadata": {},
     "output_type": "display_data"
    },
    {
     "data": {
      "text/html": [
       "<pre style=\"white-space:pre;overflow-x:auto;line-height:normal;font-family:Menlo,'DejaVu Sans Mono',consolas,'Courier New',monospace\"><span style=\"color: #808000; text-decoration-color: #808000\">Downloading http://pypi-mirror.modal.local:5555/simple/nvidia-cusparselt-cu12/nvidia_cusparselt_cu12-0.6.2-py3-none-manylinux2014_x86_64.whl (150.1 MB)\n",
       "</span></pre>\n"
      ],
      "text/plain": [
       "\u001b[33mDownloading http://pypi-mirror.modal.local:5555/simple/nvidia-cusparselt-cu12/nvidia_cusparselt_cu12-0.6.2-py3-none-manylinux2014_x86_64.whl (150.1 MB)\n",
       "\u001b[0m"
      ]
     },
     "metadata": {},
     "output_type": "display_data"
    },
    {
     "data": {
      "text/html": [
       "<pre style=\"white-space:pre;overflow-x:auto;line-height:normal;font-family:Menlo,'DejaVu Sans Mono',consolas,'Courier New',monospace\"><span style=\"color: #808000; text-decoration-color: #808000\"></span></pre>\n"
      ],
      "text/plain": []
     },
     "metadata": {},
     "output_type": "display_data"
    },
    {
     "data": {
      "text/html": [
       "<pre style=\"white-space:pre;overflow-x:auto;line-height:normal;font-family:Menlo,'DejaVu Sans Mono',consolas,'Courier New',monospace\"><span style=\"color: #808000; text-decoration-color: #808000\">   ━━━━━━━━━━━━━━━━━━━━━━━━━━━━━━━━━━━━━━━ 150.1/150.1 MB 633.8 MB/s eta 0:00:00\n",
       "</span></pre>\n"
      ],
      "text/plain": [
       "\u001b[33m   ━━━━━━━━━━━━━━━━━━━━━━━━━━━━━━━━━━━━━━━ 150.1/150.1 MB 633.8 MB/s eta 0:00:00\n",
       "\u001b[0m"
      ]
     },
     "metadata": {},
     "output_type": "display_data"
    },
    {
     "data": {
      "text/html": [
       "<pre style=\"white-space:pre;overflow-x:auto;line-height:normal;font-family:Menlo,'DejaVu Sans Mono',consolas,'Courier New',monospace\"><span style=\"color: #808000; text-decoration-color: #808000\">Downloading http://pypi-mirror.modal.local:5555/simple/nvidia-nccl-cu12/nvidia_nccl_cu12-2.21.5-py3-none-manylinux2014_x86_64.whl (188.7 MB)\n",
       "</span></pre>\n"
      ],
      "text/plain": [
       "\u001b[33mDownloading http://pypi-mirror.modal.local:5555/simple/nvidia-nccl-cu12/nvidia_nccl_cu12-2.21.5-py3-none-manylinux2014_x86_64.whl (188.7 MB)\n",
       "\u001b[0m"
      ]
     },
     "metadata": {},
     "output_type": "display_data"
    },
    {
     "data": {
      "text/html": [
       "<pre style=\"white-space:pre;overflow-x:auto;line-height:normal;font-family:Menlo,'DejaVu Sans Mono',consolas,'Courier New',monospace\"><span style=\"color: #808000; text-decoration-color: #808000\"></span></pre>\n"
      ],
      "text/plain": []
     },
     "metadata": {},
     "output_type": "display_data"
    },
    {
     "data": {
      "text/html": [
       "<pre style=\"white-space:pre;overflow-x:auto;line-height:normal;font-family:Menlo,'DejaVu Sans Mono',consolas,'Courier New',monospace\"><span style=\"color: #808000; text-decoration-color: #808000\">   ━━━━━━━━━━━━━━━━━━━━━━━━━━━━━━━━━━━━━━━ 188.7/188.7 MB 588.6 MB/s eta 0:00:00\n",
       "</span></pre>\n"
      ],
      "text/plain": [
       "\u001b[33m   ━━━━━━━━━━━━━━━━━━━━━━━━━━━━━━━━━━━━━━━ 188.7/188.7 MB 588.6 MB/s eta 0:00:00\n",
       "\u001b[0m"
      ]
     },
     "metadata": {},
     "output_type": "display_data"
    },
    {
     "data": {
      "text/html": [
       "<pre style=\"white-space:pre;overflow-x:auto;line-height:normal;font-family:Menlo,'DejaVu Sans Mono',consolas,'Courier New',monospace\"><span style=\"color: #808000; text-decoration-color: #808000\">Downloading http://pypi-mirror.modal.local:5555/simple/nvidia-nvjitlink-cu12/nvidia_nvjitlink_cu12-12.4.127-py3-none-manylinux2014_x86_64.whl (21.1 MB)\n",
       "</span></pre>\n"
      ],
      "text/plain": [
       "\u001b[33mDownloading http://pypi-mirror.modal.local:5555/simple/nvidia-nvjitlink-cu12/nvidia_nvjitlink_cu12-12.4.127-py3-none-manylinux2014_x86_64.whl (21.1 MB)\n",
       "\u001b[0m"
      ]
     },
     "metadata": {},
     "output_type": "display_data"
    },
    {
     "data": {
      "text/html": [
       "<pre style=\"white-space:pre;overflow-x:auto;line-height:normal;font-family:Menlo,'DejaVu Sans Mono',consolas,'Courier New',monospace\"><span style=\"color: #808000; text-decoration-color: #808000\"></span></pre>\n"
      ],
      "text/plain": []
     },
     "metadata": {},
     "output_type": "display_data"
    },
    {
     "data": {
      "text/html": [
       "<pre style=\"white-space:pre;overflow-x:auto;line-height:normal;font-family:Menlo,'DejaVu Sans Mono',consolas,'Courier New',monospace\"><span style=\"color: #808000; text-decoration-color: #808000\">   ━━━━━━━━━━━━━━━━━━━━━━━━━━━━━━━━━━━━━━━━ 21.1/21.1 MB 599.3 MB/s eta 0:00:00\n",
       "</span></pre>\n"
      ],
      "text/plain": [
       "\u001b[33m   ━━━━━━━━━━━━━━━━━━━━━━━━━━━━━━━━━━━━━━━━ 21.1/21.1 MB 599.3 MB/s eta 0:00:00\n",
       "\u001b[0m"
      ]
     },
     "metadata": {},
     "output_type": "display_data"
    },
    {
     "data": {
      "text/html": [
       "<pre style=\"white-space:pre;overflow-x:auto;line-height:normal;font-family:Menlo,'DejaVu Sans Mono',consolas,'Courier New',monospace\"><span style=\"color: #808000; text-decoration-color: #808000\">Downloading http://pypi-mirror.modal.local:5555/simple/nvidia-nvtx-cu12/nvidia_nvtx_cu12-12.4.127-py3-none-manylinux2014_x86_64.whl (99 kB)\n",
       "Downloading http://pypi-mirror.modal.local:5555/simple/sympy/sympy-1.13.1-py3-none-any.whl (6.2 MB)\n",
       "</span></pre>\n"
      ],
      "text/plain": [
       "\u001b[33mDownloading http://pypi-mirror.modal.local:5555/simple/nvidia-nvtx-cu12/nvidia_nvtx_cu12-12.4.127-py3-none-manylinux2014_x86_64.whl (99 kB)\n",
       "Downloading http://pypi-mirror.modal.local:5555/simple/sympy/sympy-1.13.1-py3-none-any.whl (6.2 MB)\n",
       "\u001b[0m"
      ]
     },
     "metadata": {},
     "output_type": "display_data"
    },
    {
     "data": {
      "text/html": [
       "<pre style=\"white-space:pre;overflow-x:auto;line-height:normal;font-family:Menlo,'DejaVu Sans Mono',consolas,'Courier New',monospace\"><span style=\"color: #808000; text-decoration-color: #808000\"></span></pre>\n"
      ],
      "text/plain": []
     },
     "metadata": {},
     "output_type": "display_data"
    },
    {
     "data": {
      "text/html": [
       "<pre style=\"white-space:pre;overflow-x:auto;line-height:normal;font-family:Menlo,'DejaVu Sans Mono',consolas,'Courier New',monospace\"><span style=\"color: #808000; text-decoration-color: #808000\">   ━━━━━━━━━━━━━━━━━━━━━━━━━━━━━━━━━━━━━━━━ 6.2/6.2 MB 591.3 MB/s eta 0:00:00\n",
       "</span></pre>\n"
      ],
      "text/plain": [
       "\u001b[33m   ━━━━━━━━━━━━━━━━━━━━━━━━━━━━━━━━━━━━━━━━ 6.2/6.2 MB 591.3 MB/s eta 0:00:00\n",
       "\u001b[0m"
      ]
     },
     "metadata": {},
     "output_type": "display_data"
    },
    {
     "data": {
      "text/html": [
       "<pre style=\"white-space:pre;overflow-x:auto;line-height:normal;font-family:Menlo,'DejaVu Sans Mono',consolas,'Courier New',monospace\"><span style=\"color: #808000; text-decoration-color: #808000\">Downloading http://pypi-mirror.modal.local:5555/simple/triton/triton-3.2.0-cp312-cp312-manylinux_2_17_x86_64.manylinux2014_x86_64.whl (253.2 MB)\n",
       "</span></pre>\n"
      ],
      "text/plain": [
       "\u001b[33mDownloading http://pypi-mirror.modal.local:5555/simple/triton/triton-3.2.0-cp312-cp312-manylinux_2_17_x86_64.manylinux2014_x86_64.whl (253.2 MB)\n",
       "\u001b[0m"
      ]
     },
     "metadata": {},
     "output_type": "display_data"
    },
    {
     "data": {
      "text/html": [
       "<pre style=\"white-space:pre;overflow-x:auto;line-height:normal;font-family:Menlo,'DejaVu Sans Mono',consolas,'Courier New',monospace\"><span style=\"color: #808000; text-decoration-color: #808000\"></span></pre>\n"
      ],
      "text/plain": []
     },
     "metadata": {},
     "output_type": "display_data"
    },
    {
     "data": {
      "text/html": [
       "<pre style=\"white-space:pre;overflow-x:auto;line-height:normal;font-family:Menlo,'DejaVu Sans Mono',consolas,'Courier New',monospace\"><span style=\"color: #808000; text-decoration-color: #808000\">   ━━━━━━━━━━━━━━━━━━━━━━━━━━━━━━━━━━━━━━━ 253.2/253.2 MB 454.3 MB/s eta 0:00:00\n",
       "</span></pre>\n"
      ],
      "text/plain": [
       "\u001b[33m   ━━━━━━━━━━━━━━━━━━━━━━━━━━━━━━━━━━━━━━━ 253.2/253.2 MB 454.3 MB/s eta 0:00:00\n",
       "\u001b[0m"
      ]
     },
     "metadata": {},
     "output_type": "display_data"
    },
    {
     "data": {
      "text/html": [
       "<pre style=\"white-space:pre;overflow-x:auto;line-height:normal;font-family:Menlo,'DejaVu Sans Mono',consolas,'Courier New',monospace\"><span style=\"color: #808000; text-decoration-color: #808000\">Downloading http://pypi-mirror.modal.local:5555/simple/transformers/transformers-4.48.2-py3-none-any.whl (9.7 MB)\n",
       "</span></pre>\n"
      ],
      "text/plain": [
       "\u001b[33mDownloading http://pypi-mirror.modal.local:5555/simple/transformers/transformers-4.48.2-py3-none-any.whl (9.7 MB)\n",
       "\u001b[0m"
      ]
     },
     "metadata": {},
     "output_type": "display_data"
    },
    {
     "data": {
      "text/html": [
       "<pre style=\"white-space:pre;overflow-x:auto;line-height:normal;font-family:Menlo,'DejaVu Sans Mono',consolas,'Courier New',monospace\"><span style=\"color: #808000; text-decoration-color: #808000\"></span></pre>\n"
      ],
      "text/plain": []
     },
     "metadata": {},
     "output_type": "display_data"
    },
    {
     "data": {
      "text/html": [
       "<pre style=\"white-space:pre;overflow-x:auto;line-height:normal;font-family:Menlo,'DejaVu Sans Mono',consolas,'Courier New',monospace\"><span style=\"color: #808000; text-decoration-color: #808000\">   ━━━━━━━━━━━━━━━━━━━━━━━━━━━━━━━━━━━━━━━━ 9.7/9.7 MB 445.0 MB/s eta 0:00:00\n",
       "</span></pre>\n"
      ],
      "text/plain": [
       "\u001b[33m   ━━━━━━━━━━━━━━━━━━━━━━━━━━━━━━━━━━━━━━━━ 9.7/9.7 MB 445.0 MB/s eta 0:00:00\n",
       "\u001b[0m"
      ]
     },
     "metadata": {},
     "output_type": "display_data"
    },
    {
     "data": {
      "text/html": [
       "<pre style=\"white-space:pre;overflow-x:auto;line-height:normal;font-family:Menlo,'DejaVu Sans Mono',consolas,'Courier New',monospace\"><span style=\"color: #808000; text-decoration-color: #808000\">Downloading http://pypi-mirror.modal.local:5555/simple/huggingface-hub/huggingface_hub-0.28.1-py3-none-any.whl (464 kB)\n",
       "Downloading http://pypi-mirror.modal.local:5555/simple/fsspec/fsspec-2025.2.0-py3-none-any.whl (184 kB)\n",
       "</span></pre>\n"
      ],
      "text/plain": [
       "\u001b[33mDownloading http://pypi-mirror.modal.local:5555/simple/huggingface-hub/huggingface_hub-0.28.1-py3-none-any.whl (464 kB)\n",
       "Downloading http://pypi-mirror.modal.local:5555/simple/fsspec/fsspec-2025.2.0-py3-none-any.whl (184 kB)\n",
       "\u001b[0m"
      ]
     },
     "metadata": {},
     "output_type": "display_data"
    },
    {
     "data": {
      "text/html": [
       "<pre style=\"white-space:pre;overflow-x:auto;line-height:normal;font-family:Menlo,'DejaVu Sans Mono',consolas,'Courier New',monospace\"><span style=\"color: #808000; text-decoration-color: #808000\">Downloading http://pypi-mirror.modal.local:5555/simple/numpy/numpy-2.2.2-cp312-cp312-manylinux_2_17_x86_64.manylinux2014_x86_64.whl (16.1 MB)\n",
       "</span></pre>\n"
      ],
      "text/plain": [
       "\u001b[33mDownloading http://pypi-mirror.modal.local:5555/simple/numpy/numpy-2.2.2-cp312-cp312-manylinux_2_17_x86_64.manylinux2014_x86_64.whl (16.1 MB)\n",
       "\u001b[0m"
      ]
     },
     "metadata": {},
     "output_type": "display_data"
    },
    {
     "data": {
      "text/html": [
       "<pre style=\"white-space:pre;overflow-x:auto;line-height:normal;font-family:Menlo,'DejaVu Sans Mono',consolas,'Courier New',monospace\"><span style=\"color: #808000; text-decoration-color: #808000\"></span></pre>\n"
      ],
      "text/plain": []
     },
     "metadata": {},
     "output_type": "display_data"
    },
    {
     "data": {
      "text/html": [
       "<pre style=\"white-space:pre;overflow-x:auto;line-height:normal;font-family:Menlo,'DejaVu Sans Mono',consolas,'Courier New',monospace\"><span style=\"color: #808000; text-decoration-color: #808000\">   ━━━━━━━━━━━━━━━━━━━━━━━━━━━━━━━━━━━━━━━━ 16.1/16.1 MB 477.9 MB/s eta 0:00:00\n",
       "</span></pre>\n"
      ],
      "text/plain": [
       "\u001b[33m   ━━━━━━━━━━━━━━━━━━━━━━━━━━━━━━━━━━━━━━━━ 16.1/16.1 MB 477.9 MB/s eta 0:00:00\n",
       "\u001b[0m"
      ]
     },
     "metadata": {},
     "output_type": "display_data"
    },
    {
     "data": {
      "text/html": [
       "<pre style=\"white-space:pre;overflow-x:auto;line-height:normal;font-family:Menlo,'DejaVu Sans Mono',consolas,'Courier New',monospace\"><span style=\"color: #808000; text-decoration-color: #808000\">Downloading http://pypi-mirror.modal.local:5555/simple/packaging/packaging-24.2-py3-none-any.whl (65 kB)\n",
       "Downloading http://pypi-mirror.modal.local:5555/simple/pyyaml/PyYAML-6.0.2-cp312-cp312-manylinux_2_17_x86_64.manylinux2014_x86_64.whl (767 kB)\n",
       "</span></pre>\n"
      ],
      "text/plain": [
       "\u001b[33mDownloading http://pypi-mirror.modal.local:5555/simple/packaging/packaging-24.2-py3-none-any.whl (65 kB)\n",
       "Downloading http://pypi-mirror.modal.local:5555/simple/pyyaml/PyYAML-6.0.2-cp312-cp312-manylinux_2_17_x86_64.manylinux2014_x86_64.whl (767 kB)\n",
       "\u001b[0m"
      ]
     },
     "metadata": {},
     "output_type": "display_data"
    },
    {
     "data": {
      "text/html": [
       "<pre style=\"white-space:pre;overflow-x:auto;line-height:normal;font-family:Menlo,'DejaVu Sans Mono',consolas,'Courier New',monospace\"><span style=\"color: #808000; text-decoration-color: #808000\"></span></pre>\n"
      ],
      "text/plain": []
     },
     "metadata": {},
     "output_type": "display_data"
    },
    {
     "data": {
      "text/html": [
       "<pre style=\"white-space:pre;overflow-x:auto;line-height:normal;font-family:Menlo,'DejaVu Sans Mono',consolas,'Courier New',monospace\"><span style=\"color: #808000; text-decoration-color: #808000\">   ━━━━━━━━━━━━━━━━━━━━━━━━━━━━━━━━━━━━━━━ 767.5/767.5 kB 514.8 MB/s eta 0:00:00\n",
       "</span></pre>\n"
      ],
      "text/plain": [
       "\u001b[33m   ━━━━━━━━━━━━━━━━━━━━━━━━━━━━━━━━━━━━━━━ 767.5/767.5 kB 514.8 MB/s eta 0:00:00\n",
       "\u001b[0m"
      ]
     },
     "metadata": {},
     "output_type": "display_data"
    },
    {
     "data": {
      "text/html": [
       "<pre style=\"white-space:pre;overflow-x:auto;line-height:normal;font-family:Menlo,'DejaVu Sans Mono',consolas,'Courier New',monospace\"><span style=\"color: #808000; text-decoration-color: #808000\">Downloading http://pypi-mirror.modal.local:5555/simple/regex/regex-2024.11.6-cp312-cp312-manylinux_2_17_x86_64.manylinux2014_x86_64.whl (796 kB)\n",
       "   ━━━━━━━━━━━━━━━━━━━━━━━━━━━━━━━━━━━━━━━ 796.9/796.9 kB 640.7 MB/s eta 0:00:00\n",
       "</span></pre>\n"
      ],
      "text/plain": [
       "\u001b[33mDownloading http://pypi-mirror.modal.local:5555/simple/regex/regex-2024.11.6-cp312-cp312-manylinux_2_17_x86_64.manylinux2014_x86_64.whl (796 kB)\n",
       "   ━━━━━━━━━━━━━━━━━━━━━━━━━━━━━━━━━━━━━━━ 796.9/796.9 kB 640.7 MB/s eta 0:00:00\n",
       "\u001b[0m"
      ]
     },
     "metadata": {},
     "output_type": "display_data"
    },
    {
     "data": {
      "text/html": [
       "<pre style=\"white-space:pre;overflow-x:auto;line-height:normal;font-family:Menlo,'DejaVu Sans Mono',consolas,'Courier New',monospace\"><span style=\"color: #808000; text-decoration-color: #808000\">Downloading http://pypi-mirror.modal.local:5555/simple/safetensors/safetensors-0.5.2-cp38-abi3-manylinux_2_17_x86_64.manylinux2014_x86_64.whl (461 kB)\n",
       "</span></pre>\n"
      ],
      "text/plain": [
       "\u001b[33mDownloading http://pypi-mirror.modal.local:5555/simple/safetensors/safetensors-0.5.2-cp38-abi3-manylinux_2_17_x86_64.manylinux2014_x86_64.whl (461 kB)\n",
       "\u001b[0m"
      ]
     },
     "metadata": {},
     "output_type": "display_data"
    },
    {
     "data": {
      "text/html": [
       "<pre style=\"white-space:pre;overflow-x:auto;line-height:normal;font-family:Menlo,'DejaVu Sans Mono',consolas,'Courier New',monospace\"><span style=\"color: #808000; text-decoration-color: #808000\">Downloading http://pypi-mirror.modal.local:5555/simple/tokenizers/tokenizers-0.21.0-cp39-abi3-manylinux_2_17_x86_64.manylinux2014_x86_64.whl (3.0 MB)\n",
       "</span></pre>\n"
      ],
      "text/plain": [
       "\u001b[33mDownloading http://pypi-mirror.modal.local:5555/simple/tokenizers/tokenizers-0.21.0-cp39-abi3-manylinux_2_17_x86_64.manylinux2014_x86_64.whl (3.0 MB)\n",
       "\u001b[0m"
      ]
     },
     "metadata": {},
     "output_type": "display_data"
    },
    {
     "data": {
      "text/html": [
       "<pre style=\"white-space:pre;overflow-x:auto;line-height:normal;font-family:Menlo,'DejaVu Sans Mono',consolas,'Courier New',monospace\"><span style=\"color: #808000; text-decoration-color: #808000\"></span></pre>\n"
      ],
      "text/plain": []
     },
     "metadata": {},
     "output_type": "display_data"
    },
    {
     "data": {
      "text/html": [
       "<pre style=\"white-space:pre;overflow-x:auto;line-height:normal;font-family:Menlo,'DejaVu Sans Mono',consolas,'Courier New',monospace\"><span style=\"color: #808000; text-decoration-color: #808000\">   ━━━━━━━━━━━━━━━━━━━━━━━━━━━━━━━━━━━━━━━━ 3.0/3.0 MB 512.6 MB/s eta 0:00:00\n",
       "</span></pre>\n"
      ],
      "text/plain": [
       "\u001b[33m   ━━━━━━━━━━━━━━━━━━━━━━━━━━━━━━━━━━━━━━━━ 3.0/3.0 MB 512.6 MB/s eta 0:00:00\n",
       "\u001b[0m"
      ]
     },
     "metadata": {},
     "output_type": "display_data"
    },
    {
     "data": {
      "text/html": [
       "<pre style=\"white-space:pre;overflow-x:auto;line-height:normal;font-family:Menlo,'DejaVu Sans Mono',consolas,'Courier New',monospace\"><span style=\"color: #808000; text-decoration-color: #808000\">Downloading http://pypi-mirror.modal.local:5555/simple/tqdm/tqdm-4.67.1-py3-none-any.whl (78 kB)\n",
       "Downloading http://pypi-mirror.modal.local:5555/simple/filelock/filelock-3.17.0-py3-none-any.whl (16 kB)\n",
       "Downloading http://pypi-mirror.modal.local:5555/simple/jinja2/jinja2-3.1.5-py3-none-any.whl (134 kB)\n",
       "</span></pre>\n"
      ],
      "text/plain": [
       "\u001b[33mDownloading http://pypi-mirror.modal.local:5555/simple/tqdm/tqdm-4.67.1-py3-none-any.whl (78 kB)\n",
       "Downloading http://pypi-mirror.modal.local:5555/simple/filelock/filelock-3.17.0-py3-none-any.whl (16 kB)\n",
       "Downloading http://pypi-mirror.modal.local:5555/simple/jinja2/jinja2-3.1.5-py3-none-any.whl (134 kB)\n",
       "\u001b[0m"
      ]
     },
     "metadata": {},
     "output_type": "display_data"
    },
    {
     "data": {
      "text/html": [
       "<pre style=\"white-space:pre;overflow-x:auto;line-height:normal;font-family:Menlo,'DejaVu Sans Mono',consolas,'Courier New',monospace\"><span style=\"color: #808000; text-decoration-color: #808000\">Downloading http://pypi-mirror.modal.local:5555/simple/networkx/networkx-3.4.2-py3-none-any.whl (1.7 MB)\n",
       "</span></pre>\n"
      ],
      "text/plain": [
       "\u001b[33mDownloading http://pypi-mirror.modal.local:5555/simple/networkx/networkx-3.4.2-py3-none-any.whl (1.7 MB)\n",
       "\u001b[0m"
      ]
     },
     "metadata": {},
     "output_type": "display_data"
    },
    {
     "data": {
      "text/html": [
       "<pre style=\"white-space:pre;overflow-x:auto;line-height:normal;font-family:Menlo,'DejaVu Sans Mono',consolas,'Courier New',monospace\"><span style=\"color: #808000; text-decoration-color: #808000\"></span></pre>\n"
      ],
      "text/plain": []
     },
     "metadata": {},
     "output_type": "display_data"
    },
    {
     "data": {
      "text/html": [
       "<pre style=\"white-space:pre;overflow-x:auto;line-height:normal;font-family:Menlo,'DejaVu Sans Mono',consolas,'Courier New',monospace\"><span style=\"color: #808000; text-decoration-color: #808000\">   ━━━━━━━━━━━━━━━━━━━━━━━━━━━━━━━━━━━━━━━━ 1.7/1.7 MB 458.4 MB/s eta 0:00:00\n",
       "</span></pre>\n"
      ],
      "text/plain": [
       "\u001b[33m   ━━━━━━━━━━━━━━━━━━━━━━━━━━━━━━━━━━━━━━━━ 1.7/1.7 MB 458.4 MB/s eta 0:00:00\n",
       "\u001b[0m"
      ]
     },
     "metadata": {},
     "output_type": "display_data"
    },
    {
     "data": {
      "text/html": [
       "<pre style=\"white-space:pre;overflow-x:auto;line-height:normal;font-family:Menlo,'DejaVu Sans Mono',consolas,'Courier New',monospace\"><span style=\"color: #808000; text-decoration-color: #808000\">Downloading http://pypi-mirror.modal.local:5555/simple/psutil/psutil-6.1.1-cp36-abi3-manylinux_2_12_x86_64.manylinux2010_x86_64.manylinux_2_17_x86_64.manylinux2014_x86_64.whl (287 kB)\n",
       "Downloading http://pypi-mirror.modal.local:5555/simple/requests/requests-2.32.3-py3-none-any.whl (64 kB)\n",
       "</span></pre>\n"
      ],
      "text/plain": [
       "\u001b[33mDownloading http://pypi-mirror.modal.local:5555/simple/psutil/psutil-6.1.1-cp36-abi3-manylinux_2_12_x86_64.manylinux2010_x86_64.manylinux_2_17_x86_64.manylinux2014_x86_64.whl (287 kB)\n",
       "Downloading http://pypi-mirror.modal.local:5555/simple/requests/requests-2.32.3-py3-none-any.whl (64 kB)\n",
       "\u001b[0m"
      ]
     },
     "metadata": {},
     "output_type": "display_data"
    },
    {
     "data": {
      "text/html": [
       "<pre style=\"white-space:pre;overflow-x:auto;line-height:normal;font-family:Menlo,'DejaVu Sans Mono',consolas,'Courier New',monospace\"><span style=\"color: #808000; text-decoration-color: #808000\">Downloading http://pypi-mirror.modal.local:5555/simple/setuptools/setuptools-75.8.0-py3-none-any.whl (1.2 MB)\n",
       "</span></pre>\n"
      ],
      "text/plain": [
       "\u001b[33mDownloading http://pypi-mirror.modal.local:5555/simple/setuptools/setuptools-75.8.0-py3-none-any.whl (1.2 MB)\n",
       "\u001b[0m"
      ]
     },
     "metadata": {},
     "output_type": "display_data"
    },
    {
     "data": {
      "text/html": [
       "<pre style=\"white-space:pre;overflow-x:auto;line-height:normal;font-family:Menlo,'DejaVu Sans Mono',consolas,'Courier New',monospace\"><span style=\"color: #808000; text-decoration-color: #808000\">   ━━━━━━━━━━━━━━━━━━━━━━━━━━━━━━━━━━━━━━━━ 1.2/1.2 MB 444.1 MB/s eta 0:00:00\n",
       "</span></pre>\n"
      ],
      "text/plain": [
       "\u001b[33m   ━━━━━━━━━━━━━━━━━━━━━━━━━━━━━━━━━━━━━━━━ 1.2/1.2 MB 444.1 MB/s eta 0:00:00\n",
       "\u001b[0m"
      ]
     },
     "metadata": {},
     "output_type": "display_data"
    },
    {
     "data": {
      "text/html": [
       "<pre style=\"white-space:pre;overflow-x:auto;line-height:normal;font-family:Menlo,'DejaVu Sans Mono',consolas,'Courier New',monospace\"><span style=\"color: #808000; text-decoration-color: #808000\">Downloading http://pypi-mirror.modal.local:5555/simple/charset-normalizer/charset_normalizer-3.4.1-cp312-cp312-manylinux_2_17_x86_64.manylinux2014_x86_64.whl (145 kB)\n",
       "</span></pre>\n"
      ],
      "text/plain": [
       "\u001b[33mDownloading http://pypi-mirror.modal.local:5555/simple/charset-normalizer/charset_normalizer-3.4.1-cp312-cp312-manylinux_2_17_x86_64.manylinux2014_x86_64.whl (145 kB)\n",
       "\u001b[0m"
      ]
     },
     "metadata": {},
     "output_type": "display_data"
    },
    {
     "data": {
      "text/html": [
       "<pre style=\"white-space:pre;overflow-x:auto;line-height:normal;font-family:Menlo,'DejaVu Sans Mono',consolas,'Courier New',monospace\"><span style=\"color: #808000; text-decoration-color: #808000\">Downloading http://pypi-mirror.modal.local:5555/simple/markupsafe/MarkupSafe-3.0.2-cp312-cp312-manylinux_2_17_x86_64.manylinux2014_x86_64.whl (23 kB)\n",
       "</span></pre>\n"
      ],
      "text/plain": [
       "\u001b[33mDownloading http://pypi-mirror.modal.local:5555/simple/markupsafe/MarkupSafe-3.0.2-cp312-cp312-manylinux_2_17_x86_64.manylinux2014_x86_64.whl (23 kB)\n",
       "\u001b[0m"
      ]
     },
     "metadata": {},
     "output_type": "display_data"
    },
    {
     "data": {
      "text/html": [
       "<pre style=\"white-space:pre;overflow-x:auto;line-height:normal;font-family:Menlo,'DejaVu Sans Mono',consolas,'Courier New',monospace\"><span style=\"color: #808000; text-decoration-color: #808000\">Downloading http://pypi-mirror.modal.local:5555/simple/mpmath/mpmath-1.3.0-py3-none-any.whl (536 kB)\n",
       "</span></pre>\n"
      ],
      "text/plain": [
       "\u001b[33mDownloading http://pypi-mirror.modal.local:5555/simple/mpmath/mpmath-1.3.0-py3-none-any.whl (536 kB)\n",
       "\u001b[0m"
      ]
     },
     "metadata": {},
     "output_type": "display_data"
    },
    {
     "data": {
      "text/html": [
       "<pre style=\"white-space:pre;overflow-x:auto;line-height:normal;font-family:Menlo,'DejaVu Sans Mono',consolas,'Courier New',monospace\"><span style=\"color: #808000; text-decoration-color: #808000\">   ━━━━━━━━━━━━━━━━━━━━━━━━━━━━━━━━━━━━━━━ 536.2/536.2 kB 456.9 MB/s eta 0:00:00\n",
       "Downloading http://pypi-mirror.modal.local:5555/simple/urllib3/urllib3-2.3.0-py3-none-any.whl (128 kB)\n",
       "</span></pre>\n"
      ],
      "text/plain": [
       "\u001b[33m   ━━━━━━━━━━━━━━━━━━━━━━━━━━━━━━━━━━━━━━━ 536.2/536.2 kB 456.9 MB/s eta 0:00:00\n",
       "Downloading http://pypi-mirror.modal.local:5555/simple/urllib3/urllib3-2.3.0-py3-none-any.whl (128 kB)\n",
       "\u001b[0m"
      ]
     },
     "metadata": {},
     "output_type": "display_data"
    },
    {
     "data": {
      "text/html": [
       "<pre style=\"white-space:pre;overflow-x:auto;line-height:normal;font-family:Menlo,'DejaVu Sans Mono',consolas,'Courier New',monospace\"><span style=\"color: #808000; text-decoration-color: #808000\">Installing collected packages: triton, nvidia-cusparselt-cu12, mpmath, urllib3, tqdm, sympy, setuptools, safetensors, regex, pyyaml, psutil, packaging, nvidia-nvtx-cu12, nvidia-nvjitlink-cu12, nvidia-nccl-cu12, nvidia-curand-cu12, nvidia-cufft-cu12, nvidia-cuda-runtime-cu12, nvidia-cuda-nvrtc-cu12, nvidia-cuda-cupti-cu12, nvidia-cublas-cu12, numpy, networkx, MarkupSafe, fsspec, filelock, charset-normalizer, requests, nvidia-cusparse-cu12, nvidia-cudnn-cu12, jinja2, nvidia-cusolver-cu12, huggingface-hub, torch, tokenizers, transformers, bitsandbytes, accelerate\n",
       "</span></pre>\n"
      ],
      "text/plain": [
       "\u001b[33mInstalling collected packages: triton, nvidia-cusparselt-cu12, mpmath, urllib3, tqdm, sympy, setuptools, safetensors, regex, pyyaml, psutil, packaging, nvidia-nvtx-cu12, nvidia-nvjitlink-cu12, nvidia-nccl-cu12, nvidia-curand-cu12, nvidia-cufft-cu12, nvidia-cuda-runtime-cu12, nvidia-cuda-nvrtc-cu12, nvidia-cuda-cupti-cu12, nvidia-cublas-cu12, numpy, networkx, MarkupSafe, fsspec, filelock, charset-normalizer, requests, nvidia-cusparse-cu12, nvidia-cudnn-cu12, jinja2, nvidia-cusolver-cu12, huggingface-hub, torch, tokenizers, transformers, bitsandbytes, accelerate\n",
       "\u001b[0m"
      ]
     },
     "metadata": {},
     "output_type": "display_data"
    },
    {
     "data": {
      "text/html": [
       "<pre style=\"white-space:pre;overflow-x:auto;line-height:normal;font-family:Menlo,'DejaVu Sans Mono',consolas,'Courier New',monospace\"><span style=\"color: #808000; text-decoration-color: #808000\">Successfully installed MarkupSafe-3.0.2 accelerate-1.3.0 bitsandbytes-0.45.1 charset-normalizer-3.4.1 filelock-3.17.0 fsspec-2025.2.0 huggingface-hub-0.28.1 jinja2-3.1.5 mpmath-1.3.0 networkx-3.4.2 numpy-2.2.2 nvidia-cublas-cu12-12.4.5.8 nvidia-cuda-cupti-cu12-12.4.127 nvidia-cuda-nvrtc-cu12-12.4.127 nvidia-cuda-runtime-cu12-12.4.127 nvidia-cudnn-cu12-9.1.0.70 nvidia-cufft-cu12-11.2.1.3 nvidia-curand-cu12-10.3.5.147 nvidia-cusolver-cu12-11.6.1.9 nvidia-cusparse-cu12-12.3.1.170 nvidia-cusparselt-cu12-0.6.2 nvidia-nccl-cu12-2.21.5 nvidia-nvjitlink-cu12-12.4.127 nvidia-nvtx-cu12-12.4.127 packaging-24.2 psutil-6.1.1 pyyaml-6.0.2 regex-2024.11.6 requests-2.32.3 safetensors-0.5.2 setuptools-75.8.0 sympy-1.13.1 tokenizers-0.21.0 torch-2.6.0 tqdm-4.67.1 transformers-4.48.2 triton-3.2.0 urllib3-2.3.0\n",
       "</span></pre>\n"
      ],
      "text/plain": [
       "\u001b[33mSuccessfully installed MarkupSafe-3.0.2 accelerate-1.3.0 bitsandbytes-0.45.1 charset-normalizer-3.4.1 filelock-3.17.0 fsspec-2025.2.0 huggingface-hub-0.28.1 jinja2-3.1.5 mpmath-1.3.0 networkx-3.4.2 numpy-2.2.2 nvidia-cublas-cu12-12.4.5.8 nvidia-cuda-cupti-cu12-12.4.127 nvidia-cuda-nvrtc-cu12-12.4.127 nvidia-cuda-runtime-cu12-12.4.127 nvidia-cudnn-cu12-9.1.0.70 nvidia-cufft-cu12-11.2.1.3 nvidia-curand-cu12-10.3.5.147 nvidia-cusolver-cu12-11.6.1.9 nvidia-cusparse-cu12-12.3.1.170 nvidia-cusparselt-cu12-0.6.2 nvidia-nccl-cu12-2.21.5 nvidia-nvjitlink-cu12-12.4.127 nvidia-nvtx-cu12-12.4.127 packaging-24.2 psutil-6.1.1 pyyaml-6.0.2 regex-2024.11.6 requests-2.32.3 safetensors-0.5.2 setuptools-75.8.0 sympy-1.13.1 tokenizers-0.21.0 torch-2.6.0 tqdm-4.67.1 transformers-4.48.2 triton-3.2.0 urllib3-2.3.0\n",
       "\u001b[0m"
      ]
     },
     "metadata": {},
     "output_type": "display_data"
    },
    {
     "data": {
      "text/html": [
       "<pre style=\"white-space:pre;overflow-x:auto;line-height:normal;font-family:Menlo,'DejaVu Sans Mono',consolas,'Courier New',monospace\"><span style=\"color: #808000; text-decoration-color: #808000\">\n",
       "[notice] A new release of pip is available: 24.3.1 -&gt; 25.0\n",
       "[notice] To update, run: pip install --upgrade pip\n",
       "</span></pre>\n"
      ],
      "text/plain": [
       "\u001b[33m\n",
       "[notice] A new release of pip is available: 24.3.1 -> 25.0\n",
       "[notice] To update, run: pip install --upgrade pip\n",
       "\u001b[0m"
      ]
     },
     "metadata": {},
     "output_type": "display_data"
    },
    {
     "data": {
      "text/html": [
       "<pre style=\"white-space:pre;overflow-x:auto;line-height:normal;font-family:Menlo,'DejaVu Sans Mono',consolas,'Courier New',monospace\"><span style=\"color: #808000; text-decoration-color: #808000\">Saving image...\n",
       "</span></pre>\n"
      ],
      "text/plain": [
       "\u001b[33mSaving image...\n",
       "\u001b[0m"
      ]
     },
     "metadata": {},
     "output_type": "display_data"
    },
    {
     "data": {
      "text/html": [
       "<pre style=\"white-space:pre;overflow-x:auto;line-height:normal;font-family:Menlo,'DejaVu Sans Mono',consolas,'Courier New',monospace\"><span style=\"color: #808000; text-decoration-color: #808000\">Image saved, took 2.72s\n",
       "</span></pre>\n"
      ],
      "text/plain": [
       "\u001b[33mImage saved, took 2.72s\n",
       "\u001b[0m"
      ]
     },
     "metadata": {},
     "output_type": "display_data"
    },
    {
     "data": {
      "text/html": [
       "<pre style=\"white-space:pre;overflow-x:auto;line-height:normal;font-family:Menlo,'DejaVu Sans Mono',consolas,'Courier New',monospace\"><span style=\"color: #808000; text-decoration-color: #808000\">\n",
       "Built image im-BJFOWHZlAqqS6ABczVgkMl in 72.90s\n",
       "\n",
       "\n",
       "</span></pre>\n"
      ],
      "text/plain": [
       "\u001b[33m\n",
       "Built image im-BJFOWHZlAqqS6ABczVgkMl in 72.90s\n",
       "\n",
       "\n",
       "\u001b[0m"
      ]
     },
     "metadata": {},
     "output_type": "display_data"
    },
    {
     "data": {
      "text/html": [
       "<pre style=\"white-space:pre;overflow-x:auto;line-height:normal;font-family:Menlo,'DejaVu Sans Mono',consolas,'Courier New',monospace\"></pre>\n"
      ],
      "text/plain": []
     },
     "metadata": {},
     "output_type": "display_data"
    },
    {
     "data": {
      "text/html": [
       "<pre style=\"white-space:pre;overflow-x:auto;line-height:normal;font-family:Menlo,'DejaVu Sans Mono',consolas,'Courier New',monospace\"><span style=\"color: #008000; text-decoration-color: #008000\">✓</span> Created objects.\n",
       "<span style=\"color: #808080; text-decoration-color: #808080\">├── </span>🔨 Created mount \n",
       "<span style=\"color: #808080; text-decoration-color: #808080\">│   </span>c:\\Users\\iskorpittt\\Desktop\\MY_DATA_SCIENCE\\PROJECTS\\GENERATIVE_AI\\llm_engineering\\week8\\llama.py\n",
       "<span style=\"color: #808080; text-decoration-color: #808080\">├── </span>🔨 Created mount PythonPackage:hello\n",
       "<span style=\"color: #808080; text-decoration-color: #808080\">└── </span>🔨 Created function generate.\n",
       "</pre>\n"
      ],
      "text/plain": [
       "\u001b[32m✓\u001b[0m Created objects.\n",
       "\u001b[38;5;244m├── \u001b[0m🔨 Created mount \n",
       "\u001b[38;5;244m│   \u001b[0mc:\\Users\\iskorpittt\\Desktop\\MY_DATA_SCIENCE\\PROJECTS\\GENERATIVE_AI\\llm_engineering\\week8\\llama.py\n",
       "\u001b[38;5;244m├── \u001b[0m🔨 Created mount PythonPackage:hello\n",
       "\u001b[38;5;244m└── \u001b[0m🔨 Created function generate.\n"
      ]
     },
     "metadata": {},
     "output_type": "display_data"
    },
    {
     "data": {
      "application/vnd.jupyter.widget-view+json": {
       "model_id": "4838d877d8884e8cba69321e6b9cddd6",
       "version_major": 2,
       "version_minor": 0
      },
      "text/plain": [
       "Output()"
      ]
     },
     "metadata": {},
     "output_type": "display_data"
    },
    {
     "data": {
      "text/html": [
       "<pre style=\"white-space:pre;overflow-x:auto;line-height:normal;font-family:Menlo,'DejaVu Sans Mono',consolas,'Courier New',monospace\"><span style=\"color: #800000; text-decoration-color: #800000\">\n",
       "</span></pre>\n"
      ],
      "text/plain": [
       "\u001b[31m\n",
       "\u001b[0m"
      ]
     },
     "metadata": {},
     "output_type": "display_data"
    },
    {
     "data": {
      "text/html": [
       "<pre style=\"white-space:pre;overflow-x:auto;line-height:normal;font-family:Menlo,'DejaVu Sans Mono',consolas,'Courier New',monospace\"><span style=\"color: #800000; text-decoration-color: #800000\">\u001b[1ADownloading shards:   0%|          | 0/4 [00:00&lt;?, ?it/s]</span></pre>\n"
      ],
      "text/plain": [
       "\u001b[31m\u001b[1ADownloading shards:   0%|          | 0/4 [00:00<?, ?it/s]\u001b[0m"
      ]
     },
     "metadata": {},
     "output_type": "display_data"
    },
    {
     "data": {
      "text/html": [
       "<pre style=\"white-space:pre;overflow-x:auto;line-height:normal;font-family:Menlo,'DejaVu Sans Mono',consolas,'Courier New',monospace\"><span style=\"color: #800000; text-decoration-color: #800000\">\n",
       "</span></pre>\n"
      ],
      "text/plain": [
       "\u001b[31m\n",
       "\u001b[0m"
      ]
     },
     "metadata": {},
     "output_type": "display_data"
    },
    {
     "data": {
      "text/html": [
       "<pre style=\"white-space:pre;overflow-x:auto;line-height:normal;font-family:Menlo,'DejaVu Sans Mono',consolas,'Courier New',monospace\"><span style=\"color: #800000; text-decoration-color: #800000\">\u001b[1ADownloading shards:  25%|██▌       | 1/4 [01:58&lt;05:55, 118.45s/it]</span></pre>\n"
      ],
      "text/plain": [
       "\u001b[31m\u001b[1ADownloading shards:  25%|██▌       | 1/4 [01:58<05:55, 118.45s/it]\u001b[0m"
      ]
     },
     "metadata": {},
     "output_type": "display_data"
    },
    {
     "data": {
      "text/html": [
       "<pre style=\"white-space:pre;overflow-x:auto;line-height:normal;font-family:Menlo,'DejaVu Sans Mono',consolas,'Courier New',monospace\"><span style=\"color: #800000; text-decoration-color: #800000\">\n",
       "</span></pre>\n"
      ],
      "text/plain": [
       "\u001b[31m\n",
       "\u001b[0m"
      ]
     },
     "metadata": {},
     "output_type": "display_data"
    },
    {
     "data": {
      "text/html": [
       "<pre style=\"white-space:pre;overflow-x:auto;line-height:normal;font-family:Menlo,'DejaVu Sans Mono',consolas,'Courier New',monospace\"><span style=\"color: #800000; text-decoration-color: #800000\">\u001b[1ADownloading shards:  50%|█████     | 2/4 [03:57&lt;03:57, 118.98s/it]</span></pre>\n"
      ],
      "text/plain": [
       "\u001b[31m\u001b[1ADownloading shards:  50%|█████     | 2/4 [03:57<03:57, 118.98s/it]\u001b[0m"
      ]
     },
     "metadata": {},
     "output_type": "display_data"
    },
    {
     "data": {
      "text/html": [
       "<pre style=\"white-space:pre;overflow-x:auto;line-height:normal;font-family:Menlo,'DejaVu Sans Mono',consolas,'Courier New',monospace\"><span style=\"color: #800000; text-decoration-color: #800000\">\n",
       "</span></pre>\n"
      ],
      "text/plain": [
       "\u001b[31m\n",
       "\u001b[0m"
      ]
     },
     "metadata": {},
     "output_type": "display_data"
    },
    {
     "data": {
      "text/html": [
       "<pre style=\"white-space:pre;overflow-x:auto;line-height:normal;font-family:Menlo,'DejaVu Sans Mono',consolas,'Courier New',monospace\"><span style=\"color: #800000; text-decoration-color: #800000\">\u001b[1ADownloading shards:  75%|███████▌  | 3/4 [05:54&lt;01:58, 118.13s/it]\n",
       "</span></pre>\n"
      ],
      "text/plain": [
       "\u001b[31m\u001b[1ADownloading shards:  75%|███████▌  | 3/4 [05:54<01:58, 118.13s/it]\n",
       "\u001b[0m"
      ]
     },
     "metadata": {},
     "output_type": "display_data"
    },
    {
     "data": {
      "text/html": [
       "<pre style=\"white-space:pre;overflow-x:auto;line-height:normal;font-family:Menlo,'DejaVu Sans Mono',consolas,'Courier New',monospace\"><span style=\"color: #800000; text-decoration-color: #800000\">\u001b[1ADownloading shards: 100%|██████████| 4/4 [06:23&lt;00:00, 82.60s/it] Downloading shards: 100%|██████████| 4/4 [06:23&lt;00:00, 95.77s/it]\n",
       "</span></pre>\n"
      ],
      "text/plain": [
       "\u001b[31m\u001b[1ADownloading shards: 100%|██████████| 4/4 [06:23<00:00, 82.60s/it] Downloading shards: 100%|██████████| 4/4 [06:23<00:00, 95.77s/it]\n",
       "\u001b[0m"
      ]
     },
     "metadata": {},
     "output_type": "display_data"
    },
    {
     "data": {
      "text/html": [
       "<pre style=\"white-space:pre;overflow-x:auto;line-height:normal;font-family:Menlo,'DejaVu Sans Mono',consolas,'Courier New',monospace\"><span style=\"color: #800000; text-decoration-color: #800000\">\n",
       "</span></pre>\n"
      ],
      "text/plain": [
       "\u001b[31m\n",
       "\u001b[0m"
      ]
     },
     "metadata": {},
     "output_type": "display_data"
    },
    {
     "data": {
      "text/html": [
       "<pre style=\"white-space:pre;overflow-x:auto;line-height:normal;font-family:Menlo,'DejaVu Sans Mono',consolas,'Courier New',monospace\"><span style=\"color: #800000; text-decoration-color: #800000\">\u001b[1ALoading checkpoint shards:   0%|          | 0/4 [00:00&lt;?, ?it/s]\n",
       "</span></pre>\n"
      ],
      "text/plain": [
       "\u001b[31m\u001b[1ALoading checkpoint shards:   0%|          | 0/4 [00:00<?, ?it/s]\n",
       "\u001b[0m"
      ]
     },
     "metadata": {},
     "output_type": "display_data"
    },
    {
     "data": {
      "text/html": [
       "<pre style=\"white-space:pre;overflow-x:auto;line-height:normal;font-family:Menlo,'DejaVu Sans Mono',consolas,'Courier New',monospace\"><span style=\"color: #800000; text-decoration-color: #800000\">\u001b[1ALoading checkpoint shards:  25%|██▌       | 1/4 [00:07&lt;00:21,  7.26s/it]\n",
       "</span></pre>\n"
      ],
      "text/plain": [
       "\u001b[31m\u001b[1ALoading checkpoint shards:  25%|██▌       | 1/4 [00:07<00:21,  7.26s/it]\n",
       "\u001b[0m"
      ]
     },
     "metadata": {},
     "output_type": "display_data"
    },
    {
     "data": {
      "text/html": [
       "<pre style=\"white-space:pre;overflow-x:auto;line-height:normal;font-family:Menlo,'DejaVu Sans Mono',consolas,'Courier New',monospace\"><span style=\"color: #800000; text-decoration-color: #800000\">\u001b[1ALoading checkpoint shards:  50%|█████     | 2/4 [00:14&lt;00:14,  7.38s/it]</span></pre>\n"
      ],
      "text/plain": [
       "\u001b[31m\u001b[1ALoading checkpoint shards:  50%|█████     | 2/4 [00:14<00:14,  7.38s/it]\u001b[0m"
      ]
     },
     "metadata": {},
     "output_type": "display_data"
    },
    {
     "data": {
      "text/html": [
       "<pre style=\"white-space:pre;overflow-x:auto;line-height:normal;font-family:Menlo,'DejaVu Sans Mono',consolas,'Courier New',monospace\"><span style=\"color: #800000; text-decoration-color: #800000\">\n",
       "</span></pre>\n"
      ],
      "text/plain": [
       "\u001b[31m\n",
       "\u001b[0m"
      ]
     },
     "metadata": {},
     "output_type": "display_data"
    },
    {
     "data": {
      "text/html": [
       "<pre style=\"white-space:pre;overflow-x:auto;line-height:normal;font-family:Menlo,'DejaVu Sans Mono',consolas,'Courier New',monospace\"><span style=\"color: #800000; text-decoration-color: #800000\">\u001b[1ALoading checkpoint shards:  75%|███████▌  | 3/4 [00:21&lt;00:07,  7.16s/it]\n",
       "</span></pre>\n"
      ],
      "text/plain": [
       "\u001b[31m\u001b[1ALoading checkpoint shards:  75%|███████▌  | 3/4 [00:21<00:07,  7.16s/it]\n",
       "\u001b[0m"
      ]
     },
     "metadata": {},
     "output_type": "display_data"
    },
    {
     "data": {
      "text/html": [
       "<pre style=\"white-space:pre;overflow-x:auto;line-height:normal;font-family:Menlo,'DejaVu Sans Mono',consolas,'Courier New',monospace\"><span style=\"color: #800000; text-decoration-color: #800000\">\u001b[1ALoading checkpoint shards: 100%|██████████| 4/4 [00:23&lt;00:00,  5.08s/it]Loading checkpoint shards: 100%|██████████| 4/4 [00:23&lt;00:00,  5.88s/it]\n",
       "</span></pre>\n"
      ],
      "text/plain": [
       "\u001b[31m\u001b[1ALoading checkpoint shards: 100%|██████████| 4/4 [00:23<00:00,  5.08s/it]Loading checkpoint shards: 100%|██████████| 4/4 [00:23<00:00,  5.88s/it]\n",
       "\u001b[0m"
      ]
     },
     "metadata": {},
     "output_type": "display_data"
    },
    {
     "data": {
      "text/html": [
       "<pre style=\"white-space:pre;overflow-x:auto;line-height:normal;font-family:Menlo,'DejaVu Sans Mono',consolas,'Courier New',monospace\"><span style=\"color: #800000; text-decoration-color: #800000\">Setting `pad_token_id` to `eos_token_id`:128001 for open-end generation.\n",
       "</span></pre>\n"
      ],
      "text/plain": [
       "\u001b[31mSetting `pad_token_id` to `eos_token_id`:128001 for open-end generation.\n",
       "\u001b[0m"
      ]
     },
     "metadata": {},
     "output_type": "display_data"
    },
    {
     "data": {
      "text/html": [
       "<pre style=\"white-space:pre;overflow-x:auto;line-height:normal;font-family:Menlo,'DejaVu Sans Mono',consolas,'Courier New',monospace\"></pre>\n"
      ],
      "text/plain": []
     },
     "metadata": {},
     "output_type": "display_data"
    },
    {
     "data": {
      "text/html": [
       "<pre style=\"white-space:pre;overflow-x:auto;line-height:normal;font-family:Menlo,'DejaVu Sans Mono',consolas,'Courier New',monospace\"><span style=\"color: #808000; text-decoration-color: #808000\">Stopping app - local entrypoint completed.\n",
       "</span></pre>\n"
      ],
      "text/plain": [
       "\u001b[33mStopping app - local entrypoint completed.\n",
       "\u001b[0m"
      ]
     },
     "metadata": {},
     "output_type": "display_data"
    },
    {
     "data": {
      "text/html": [
       "<pre style=\"white-space:pre;overflow-x:auto;line-height:normal;font-family:Menlo,'DejaVu Sans Mono',consolas,'Courier New',monospace\"><span style=\"color: #808000; text-decoration-color: #808000\">Runner terminated.\n",
       "</span></pre>\n"
      ],
      "text/plain": [
       "\u001b[33mRunner terminated.\n",
       "\u001b[0m"
      ]
     },
     "metadata": {},
     "output_type": "display_data"
    },
    {
     "name": "stderr",
     "output_type": "stream",
     "text": [
      "[Thread-3 (thread_inner)] 2025-02-05T09:51:46+0300 Loop attempt for _run_app.<locals>.heartbeat failed\n",
      "Traceback (most recent call last):\n",
      "  File \"c:\\Users\\iskorpittt\\Desktop\\MY_DATA_SCIENCE\\PROJECTS\\GENERATIVE_AI\\llm_engineering\\venv\\Lib\\site-packages\\modal\\_utils\\async_utils.py\", line 195, in loop_coro\n",
      "    await asyncio.wait_for(async_f(), timeout=timeout)\n",
      "  File \"C:\\Program Files\\Python312\\Lib\\asyncio\\tasks.py\", line 520, in wait_for\n",
      "    return await fut\n",
      "           ^^^^^^^^^\n",
      "  File \"c:\\Users\\iskorpittt\\Desktop\\MY_DATA_SCIENCE\\PROJECTS\\GENERATIVE_AI\\llm_engineering\\venv\\Lib\\site-packages\\modal\\runner.py\", line 52, in _heartbeat\n",
      "    await retry_transient_errors(client.stub.AppHeartbeat, request, attempt_timeout=HEARTBEAT_TIMEOUT)\n",
      "  File \"c:\\Users\\iskorpittt\\Desktop\\MY_DATA_SCIENCE\\PROJECTS\\GENERATIVE_AI\\llm_engineering\\venv\\Lib\\site-packages\\modal\\_utils\\grpc_utils.py\", line 184, in retry_transient_errors\n",
      "    raise exc\n",
      "  File \"c:\\Users\\iskorpittt\\Desktop\\MY_DATA_SCIENCE\\PROJECTS\\GENERATIVE_AI\\llm_engineering\\venv\\Lib\\site-packages\\modal\\_utils\\grpc_utils.py\", line 178, in retry_transient_errors\n",
      "    return await fn(*args, metadata=metadata, timeout=timeout)\n",
      "           ^^^^^^^^^^^^^^^^^^^^^^^^^^^^^^^^^^^^^^^^^^^^^^^^^^^\n",
      "  File \"c:\\Users\\iskorpittt\\Desktop\\MY_DATA_SCIENCE\\PROJECTS\\GENERATIVE_AI\\llm_engineering\\venv\\Lib\\site-packages\\modal\\client.py\", line 365, in __call__\n",
      "    return await self.client._call_unary(self._wrapped_method_name, req, timeout=timeout, metadata=metadata)\n",
      "           ^^^^^^^^^^^^^^^^^^^^^^^^^^^^^^^^^^^^^^^^^^^^^^^^^^^^^^^^^^^^^^^^^^^^^^^^^^^^^^^^^^^^^^^^^^^^^^^^^\n",
      "  File \"c:\\Users\\iskorpittt\\Desktop\\MY_DATA_SCIENCE\\PROJECTS\\GENERATIVE_AI\\llm_engineering\\venv\\Lib\\site-packages\\modal\\client.py\", line 307, in _call_unary\n",
      "    return await self._call_safely(coro, grpclib_method.name)\n",
      "           ^^^^^^^^^^^^^^^^^^^^^^^^^^^^^^^^^^^^^^^^^^^^^^^^^^\n",
      "  File \"c:\\Users\\iskorpittt\\Desktop\\MY_DATA_SCIENCE\\PROJECTS\\GENERATIVE_AI\\llm_engineering\\venv\\Lib\\site-packages\\modal\\client.py\", line 266, in _call_safely\n",
      "    return await request_task\n",
      "           ^^^^^^^^^^^^^^^^^^\n",
      "  File \"c:\\Users\\iskorpittt\\Desktop\\MY_DATA_SCIENCE\\PROJECTS\\GENERATIVE_AI\\llm_engineering\\venv\\Lib\\site-packages\\grpclib\\client.py\", line 904, in __call__\n",
      "    reply = await stream.recv_message()\n",
      "            ^^^^^^^^^^^^^^^^^^^^^^^^^^^\n",
      "  File \"c:\\Users\\iskorpittt\\Desktop\\MY_DATA_SCIENCE\\PROJECTS\\GENERATIVE_AI\\llm_engineering\\venv\\Lib\\site-packages\\grpclib\\client.py\", line 425, in recv_message\n",
      "    await self.recv_initial_metadata()\n",
      "  File \"c:\\Users\\iskorpittt\\Desktop\\MY_DATA_SCIENCE\\PROJECTS\\GENERATIVE_AI\\llm_engineering\\venv\\Lib\\site-packages\\grpclib\\client.py\", line 393, in recv_initial_metadata\n",
      "    self._raise_for_grpc_status(status, message, details)\n",
      "  File \"c:\\Users\\iskorpittt\\Desktop\\MY_DATA_SCIENCE\\PROJECTS\\GENERATIVE_AI\\llm_engineering\\venv\\Lib\\site-packages\\grpclib\\client.py\", line 345, in _raise_for_grpc_status\n",
      "    raise GRPCError(status, message, details)\n",
      "grpclib.exceptions.GRPCError: (<Status.FAILED_PRECONDITION: 9>, 'App state is APP_STATE_STOPPED', None)\n"
     ]
    },
    {
     "data": {
      "text/html": [
       "<pre style=\"white-space:pre;overflow-x:auto;line-height:normal;font-family:Menlo,'DejaVu Sans Mono',consolas,'Courier New',monospace\"><span style=\"color: #008000; text-decoration-color: #008000\">✓</span> App completed. <span style=\"color: #b2b2b2; text-decoration-color: #b2b2b2\">View run at </span><span style=\"color: #b2b2b2; text-decoration-color: #b2b2b2; text-decoration: underline\">https://modal.com/apps/kanitvural/main/ap-sq1lt59hJGup3fyH6J05z7</span>\n",
       "</pre>\n"
      ],
      "text/plain": [
       "\u001b[32m✓\u001b[0m App completed. \u001b[38;5;249mView run at \u001b[0m\u001b[4;38;5;249mhttps://modal.com/apps/kanitvural/main/ap-sq1lt59hJGup3fyH6J05z7\u001b[0m\n"
      ]
     },
     "metadata": {},
     "output_type": "display_data"
    },
    {
     "data": {
      "text/plain": [
       "'<|begin_of_text|>Life is a mystery, everyone must stand alone, I hear you call my name,'"
      ]
     },
     "execution_count": 6,
     "metadata": {},
     "output_type": "execute_result"
    }
   ],
   "source": [
    "with modal.enable_output():\n",
    "    with app.run():\n",
    "        result=generate.remote(\"Life is a mystery, everyone must stand alone, I hear\")\n",
    "result"
   ]
  },
  {
   "cell_type": "code",
   "execution_count": 11,
   "id": "9a9a6844-29ec-4264-8e72-362d976b3968",
   "metadata": {},
   "outputs": [],
   "source": [
    "import modal\n",
    "from pricer_ephemeral import app, price"
   ]
  },
  {
   "cell_type": "code",
   "execution_count": 8,
   "id": "50e6cf99-8959-4ae3-ba02-e325cb7fff94",
   "metadata": {},
   "outputs": [
    {
     "data": {
      "application/vnd.jupyter.widget-view+json": {
       "model_id": "c135a3045fff4f25961d2dd0756e6acf",
       "version_major": 2,
       "version_minor": 0
      },
      "text/plain": [
       "Output()"
      ]
     },
     "metadata": {},
     "output_type": "display_data"
    },
    {
     "data": {
      "text/html": [
       "<pre style=\"white-space:pre;overflow-x:auto;line-height:normal;font-family:Menlo,'DejaVu Sans Mono',consolas,'Courier New',monospace\"><span style=\"color: #008000; text-decoration-color: #008000\">✓</span> Initialized. <span style=\"color: #b2b2b2; text-decoration-color: #b2b2b2\">View run at </span><span style=\"color: #b2b2b2; text-decoration-color: #b2b2b2; text-decoration: underline\">https://modal.com/apps/kanitvural/main/ap-pcM2SCM6ePsgQVDulKxEUQ</span>\n",
       "</pre>\n"
      ],
      "text/plain": [
       "\u001b[32m✓\u001b[0m Initialized. \u001b[38;5;249mView run at \u001b[0m\u001b[4;38;5;249mhttps://modal.com/apps/kanitvural/main/ap-pcM2SCM6ePsgQVDulKxEUQ\u001b[0m\n"
      ]
     },
     "metadata": {},
     "output_type": "display_data"
    },
    {
     "data": {
      "text/html": [
       "<pre style=\"white-space:pre;overflow-x:auto;line-height:normal;font-family:Menlo,'DejaVu Sans Mono',consolas,'Courier New',monospace\"></pre>\n"
      ],
      "text/plain": []
     },
     "metadata": {},
     "output_type": "display_data"
    },
    {
     "data": {
      "application/vnd.jupyter.widget-view+json": {
       "model_id": "8eb8edb0cdd74a78a518050b84ffb4ec",
       "version_major": 2,
       "version_minor": 0
      },
      "text/plain": [
       "Output()"
      ]
     },
     "metadata": {},
     "output_type": "display_data"
    },
    {
     "data": {
      "text/html": [
       "<pre style=\"white-space:pre;overflow-x:auto;line-height:normal;font-family:Menlo,'DejaVu Sans Mono',consolas,'Courier New',monospace\"><span style=\"color: #808000; text-decoration-color: #808000\">Building image im-nYYw3QwIMuRcLGuR6tuwWT\n",
       "</span></pre>\n"
      ],
      "text/plain": [
       "\u001b[33mBuilding image im-nYYw3QwIMuRcLGuR6tuwWT\n",
       "\u001b[0m"
      ]
     },
     "metadata": {},
     "output_type": "display_data"
    },
    {
     "data": {
      "text/html": [
       "<pre style=\"white-space:pre;overflow-x:auto;line-height:normal;font-family:Menlo,'DejaVu Sans Mono',consolas,'Courier New',monospace\"><span style=\"color: #808000; text-decoration-color: #808000\">\n",
       "=&gt; Step 0: FROM base\n",
       "</span></pre>\n"
      ],
      "text/plain": [
       "\u001b[33m\n",
       "=> Step 0: FROM base\n",
       "\u001b[0m"
      ]
     },
     "metadata": {},
     "output_type": "display_data"
    },
    {
     "data": {
      "text/html": [
       "<pre style=\"white-space:pre;overflow-x:auto;line-height:normal;font-family:Menlo,'DejaVu Sans Mono',consolas,'Courier New',monospace\"><span style=\"color: #808000; text-decoration-color: #808000\">\n",
       "=&gt; Step 1: RUN python -m pip install accelerate bitsandbytes peft torch transformers\n",
       "</span></pre>\n"
      ],
      "text/plain": [
       "\u001b[33m\n",
       "=> Step 1: RUN python -m pip install accelerate bitsandbytes peft torch transformers\n",
       "\u001b[0m"
      ]
     },
     "metadata": {},
     "output_type": "display_data"
    },
    {
     "data": {
      "text/html": [
       "<pre style=\"white-space:pre;overflow-x:auto;line-height:normal;font-family:Menlo,'DejaVu Sans Mono',consolas,'Courier New',monospace\"><span style=\"color: #808000; text-decoration-color: #808000\">Looking in indexes: http://pypi-mirror.modal.local:5555/simple\n",
       "</span></pre>\n"
      ],
      "text/plain": [
       "\u001b[33mLooking in indexes: http://pypi-mirror.modal.local:5555/simple\n",
       "\u001b[0m"
      ]
     },
     "metadata": {},
     "output_type": "display_data"
    },
    {
     "data": {
      "text/html": [
       "<pre style=\"white-space:pre;overflow-x:auto;line-height:normal;font-family:Menlo,'DejaVu Sans Mono',consolas,'Courier New',monospace\"><span style=\"color: #808000; text-decoration-color: #808000\">Collecting accelerate\n",
       "</span></pre>\n"
      ],
      "text/plain": [
       "\u001b[33mCollecting accelerate\n",
       "\u001b[0m"
      ]
     },
     "metadata": {},
     "output_type": "display_data"
    },
    {
     "data": {
      "text/html": [
       "<pre style=\"white-space:pre;overflow-x:auto;line-height:normal;font-family:Menlo,'DejaVu Sans Mono',consolas,'Courier New',monospace\"><span style=\"color: #808000; text-decoration-color: #808000\">  Downloading http://pypi-mirror.modal.local:5555/simple/accelerate/accelerate-1.3.0-py3-none-any.whl.metadata (19 kB)\n",
       "</span></pre>\n"
      ],
      "text/plain": [
       "\u001b[33m  Downloading http://pypi-mirror.modal.local:5555/simple/accelerate/accelerate-1.3.0-py3-none-any.whl.metadata (19 kB)\n",
       "\u001b[0m"
      ]
     },
     "metadata": {},
     "output_type": "display_data"
    },
    {
     "data": {
      "text/html": [
       "<pre style=\"white-space:pre;overflow-x:auto;line-height:normal;font-family:Menlo,'DejaVu Sans Mono',consolas,'Courier New',monospace\"><span style=\"color: #808000; text-decoration-color: #808000\">Collecting bitsandbytes\n",
       "</span></pre>\n"
      ],
      "text/plain": [
       "\u001b[33mCollecting bitsandbytes\n",
       "\u001b[0m"
      ]
     },
     "metadata": {},
     "output_type": "display_data"
    },
    {
     "data": {
      "text/html": [
       "<pre style=\"white-space:pre;overflow-x:auto;line-height:normal;font-family:Menlo,'DejaVu Sans Mono',consolas,'Courier New',monospace\"><span style=\"color: #808000; text-decoration-color: #808000\">  Downloading http://pypi-mirror.modal.local:5555/simple/bitsandbytes/bitsandbytes-0.45.1-py3-none-manylinux_2_24_x86_64.whl.metadata (5.8 kB)\n",
       "</span></pre>\n"
      ],
      "text/plain": [
       "\u001b[33m  Downloading http://pypi-mirror.modal.local:5555/simple/bitsandbytes/bitsandbytes-0.45.1-py3-none-manylinux_2_24_x86_64.whl.metadata (5.8 kB)\n",
       "\u001b[0m"
      ]
     },
     "metadata": {},
     "output_type": "display_data"
    },
    {
     "data": {
      "text/html": [
       "<pre style=\"white-space:pre;overflow-x:auto;line-height:normal;font-family:Menlo,'DejaVu Sans Mono',consolas,'Courier New',monospace\"><span style=\"color: #808000; text-decoration-color: #808000\">Collecting peft\n",
       "</span></pre>\n"
      ],
      "text/plain": [
       "\u001b[33mCollecting peft\n",
       "\u001b[0m"
      ]
     },
     "metadata": {},
     "output_type": "display_data"
    },
    {
     "data": {
      "text/html": [
       "<pre style=\"white-space:pre;overflow-x:auto;line-height:normal;font-family:Menlo,'DejaVu Sans Mono',consolas,'Courier New',monospace\"><span style=\"color: #808000; text-decoration-color: #808000\">  Downloading http://pypi-mirror.modal.local:5555/simple/peft/peft-0.14.0-py3-none-any.whl.metadata (13 kB)\n",
       "</span></pre>\n"
      ],
      "text/plain": [
       "\u001b[33m  Downloading http://pypi-mirror.modal.local:5555/simple/peft/peft-0.14.0-py3-none-any.whl.metadata (13 kB)\n",
       "\u001b[0m"
      ]
     },
     "metadata": {},
     "output_type": "display_data"
    },
    {
     "data": {
      "text/html": [
       "<pre style=\"white-space:pre;overflow-x:auto;line-height:normal;font-family:Menlo,'DejaVu Sans Mono',consolas,'Courier New',monospace\"><span style=\"color: #808000; text-decoration-color: #808000\">Collecting torch\n",
       "</span></pre>\n"
      ],
      "text/plain": [
       "\u001b[33mCollecting torch\n",
       "\u001b[0m"
      ]
     },
     "metadata": {},
     "output_type": "display_data"
    },
    {
     "data": {
      "text/html": [
       "<pre style=\"white-space:pre;overflow-x:auto;line-height:normal;font-family:Menlo,'DejaVu Sans Mono',consolas,'Courier New',monospace\"><span style=\"color: #808000; text-decoration-color: #808000\">  Downloading http://pypi-mirror.modal.local:5555/simple/torch/torch-2.6.0-cp312-cp312-manylinux1_x86_64.whl.metadata (28 kB)\n",
       "</span></pre>\n"
      ],
      "text/plain": [
       "\u001b[33m  Downloading http://pypi-mirror.modal.local:5555/simple/torch/torch-2.6.0-cp312-cp312-manylinux1_x86_64.whl.metadata (28 kB)\n",
       "\u001b[0m"
      ]
     },
     "metadata": {},
     "output_type": "display_data"
    },
    {
     "data": {
      "text/html": [
       "<pre style=\"white-space:pre;overflow-x:auto;line-height:normal;font-family:Menlo,'DejaVu Sans Mono',consolas,'Courier New',monospace\"><span style=\"color: #808000; text-decoration-color: #808000\">Collecting transformers\n",
       "</span></pre>\n"
      ],
      "text/plain": [
       "\u001b[33mCollecting transformers\n",
       "\u001b[0m"
      ]
     },
     "metadata": {},
     "output_type": "display_data"
    },
    {
     "data": {
      "text/html": [
       "<pre style=\"white-space:pre;overflow-x:auto;line-height:normal;font-family:Menlo,'DejaVu Sans Mono',consolas,'Courier New',monospace\"><span style=\"color: #808000; text-decoration-color: #808000\">  Downloading http://pypi-mirror.modal.local:5555/simple/transformers/transformers-4.48.2-py3-none-any.whl.metadata (44 kB)\n",
       "</span></pre>\n"
      ],
      "text/plain": [
       "\u001b[33m  Downloading http://pypi-mirror.modal.local:5555/simple/transformers/transformers-4.48.2-py3-none-any.whl.metadata (44 kB)\n",
       "\u001b[0m"
      ]
     },
     "metadata": {},
     "output_type": "display_data"
    },
    {
     "data": {
      "text/html": [
       "<pre style=\"white-space:pre;overflow-x:auto;line-height:normal;font-family:Menlo,'DejaVu Sans Mono',consolas,'Courier New',monospace\"><span style=\"color: #808000; text-decoration-color: #808000\">Collecting numpy&lt;3.0.0,&gt;=1.17 (from accelerate)\n",
       "</span></pre>\n"
      ],
      "text/plain": [
       "\u001b[33mCollecting numpy<3.0.0,>=1.17 (from accelerate)\n",
       "\u001b[0m"
      ]
     },
     "metadata": {},
     "output_type": "display_data"
    },
    {
     "data": {
      "text/html": [
       "<pre style=\"white-space:pre;overflow-x:auto;line-height:normal;font-family:Menlo,'DejaVu Sans Mono',consolas,'Courier New',monospace\"><span style=\"color: #808000; text-decoration-color: #808000\">  Downloading http://pypi-mirror.modal.local:5555/simple/numpy/numpy-2.2.2-cp312-cp312-manylinux_2_17_x86_64.manylinux2014_x86_64.whl.metadata (62 kB)\n",
       "</span></pre>\n"
      ],
      "text/plain": [
       "\u001b[33m  Downloading http://pypi-mirror.modal.local:5555/simple/numpy/numpy-2.2.2-cp312-cp312-manylinux_2_17_x86_64.manylinux2014_x86_64.whl.metadata (62 kB)\n",
       "\u001b[0m"
      ]
     },
     "metadata": {},
     "output_type": "display_data"
    },
    {
     "data": {
      "text/html": [
       "<pre style=\"white-space:pre;overflow-x:auto;line-height:normal;font-family:Menlo,'DejaVu Sans Mono',consolas,'Courier New',monospace\"><span style=\"color: #808000; text-decoration-color: #808000\">Collecting packaging&gt;=20.0 (from accelerate)\n",
       "</span></pre>\n"
      ],
      "text/plain": [
       "\u001b[33mCollecting packaging>=20.0 (from accelerate)\n",
       "\u001b[0m"
      ]
     },
     "metadata": {},
     "output_type": "display_data"
    },
    {
     "data": {
      "text/html": [
       "<pre style=\"white-space:pre;overflow-x:auto;line-height:normal;font-family:Menlo,'DejaVu Sans Mono',consolas,'Courier New',monospace\"><span style=\"color: #808000; text-decoration-color: #808000\">  Downloading http://pypi-mirror.modal.local:5555/simple/packaging/packaging-24.2-py3-none-any.whl.metadata (3.2 kB)\n",
       "</span></pre>\n"
      ],
      "text/plain": [
       "\u001b[33m  Downloading http://pypi-mirror.modal.local:5555/simple/packaging/packaging-24.2-py3-none-any.whl.metadata (3.2 kB)\n",
       "\u001b[0m"
      ]
     },
     "metadata": {},
     "output_type": "display_data"
    },
    {
     "data": {
      "text/html": [
       "<pre style=\"white-space:pre;overflow-x:auto;line-height:normal;font-family:Menlo,'DejaVu Sans Mono',consolas,'Courier New',monospace\"><span style=\"color: #808000; text-decoration-color: #808000\">Collecting psutil (from accelerate)\n",
       "</span></pre>\n"
      ],
      "text/plain": [
       "\u001b[33mCollecting psutil (from accelerate)\n",
       "\u001b[0m"
      ]
     },
     "metadata": {},
     "output_type": "display_data"
    },
    {
     "data": {
      "text/html": [
       "<pre style=\"white-space:pre;overflow-x:auto;line-height:normal;font-family:Menlo,'DejaVu Sans Mono',consolas,'Courier New',monospace\"><span style=\"color: #808000; text-decoration-color: #808000\">  Downloading http://pypi-mirror.modal.local:5555/simple/psutil/psutil-6.1.1-cp36-abi3-manylinux_2_12_x86_64.manylinux2010_x86_64.manylinux_2_17_x86_64.manylinux2014_x86_64.whl.metadata (22 kB)\n",
       "</span></pre>\n"
      ],
      "text/plain": [
       "\u001b[33m  Downloading http://pypi-mirror.modal.local:5555/simple/psutil/psutil-6.1.1-cp36-abi3-manylinux_2_12_x86_64.manylinux2010_x86_64.manylinux_2_17_x86_64.manylinux2014_x86_64.whl.metadata (22 kB)\n",
       "\u001b[0m"
      ]
     },
     "metadata": {},
     "output_type": "display_data"
    },
    {
     "data": {
      "text/html": [
       "<pre style=\"white-space:pre;overflow-x:auto;line-height:normal;font-family:Menlo,'DejaVu Sans Mono',consolas,'Courier New',monospace\"><span style=\"color: #808000; text-decoration-color: #808000\">Collecting pyyaml (from accelerate)\n",
       "</span></pre>\n"
      ],
      "text/plain": [
       "\u001b[33mCollecting pyyaml (from accelerate)\n",
       "\u001b[0m"
      ]
     },
     "metadata": {},
     "output_type": "display_data"
    },
    {
     "data": {
      "text/html": [
       "<pre style=\"white-space:pre;overflow-x:auto;line-height:normal;font-family:Menlo,'DejaVu Sans Mono',consolas,'Courier New',monospace\"><span style=\"color: #808000; text-decoration-color: #808000\">  Downloading http://pypi-mirror.modal.local:5555/simple/pyyaml/PyYAML-6.0.2-cp312-cp312-manylinux_2_17_x86_64.manylinux2014_x86_64.whl.metadata (2.1 kB)\n",
       "</span></pre>\n"
      ],
      "text/plain": [
       "\u001b[33m  Downloading http://pypi-mirror.modal.local:5555/simple/pyyaml/PyYAML-6.0.2-cp312-cp312-manylinux_2_17_x86_64.manylinux2014_x86_64.whl.metadata (2.1 kB)\n",
       "\u001b[0m"
      ]
     },
     "metadata": {},
     "output_type": "display_data"
    },
    {
     "data": {
      "text/html": [
       "<pre style=\"white-space:pre;overflow-x:auto;line-height:normal;font-family:Menlo,'DejaVu Sans Mono',consolas,'Courier New',monospace\"><span style=\"color: #808000; text-decoration-color: #808000\">Collecting huggingface-hub&gt;=0.21.0 (from accelerate)\n",
       "</span></pre>\n"
      ],
      "text/plain": [
       "\u001b[33mCollecting huggingface-hub>=0.21.0 (from accelerate)\n",
       "\u001b[0m"
      ]
     },
     "metadata": {},
     "output_type": "display_data"
    },
    {
     "data": {
      "text/html": [
       "<pre style=\"white-space:pre;overflow-x:auto;line-height:normal;font-family:Menlo,'DejaVu Sans Mono',consolas,'Courier New',monospace\"><span style=\"color: #808000; text-decoration-color: #808000\">  Downloading http://pypi-mirror.modal.local:5555/simple/huggingface-hub/huggingface_hub-0.28.1-py3-none-any.whl.metadata (13 kB)\n",
       "</span></pre>\n"
      ],
      "text/plain": [
       "\u001b[33m  Downloading http://pypi-mirror.modal.local:5555/simple/huggingface-hub/huggingface_hub-0.28.1-py3-none-any.whl.metadata (13 kB)\n",
       "\u001b[0m"
      ]
     },
     "metadata": {},
     "output_type": "display_data"
    },
    {
     "data": {
      "text/html": [
       "<pre style=\"white-space:pre;overflow-x:auto;line-height:normal;font-family:Menlo,'DejaVu Sans Mono',consolas,'Courier New',monospace\"><span style=\"color: #808000; text-decoration-color: #808000\">Collecting safetensors&gt;=0.4.3 (from accelerate)\n",
       "</span></pre>\n"
      ],
      "text/plain": [
       "\u001b[33mCollecting safetensors>=0.4.3 (from accelerate)\n",
       "\u001b[0m"
      ]
     },
     "metadata": {},
     "output_type": "display_data"
    },
    {
     "data": {
      "text/html": [
       "<pre style=\"white-space:pre;overflow-x:auto;line-height:normal;font-family:Menlo,'DejaVu Sans Mono',consolas,'Courier New',monospace\"><span style=\"color: #808000; text-decoration-color: #808000\">  Downloading http://pypi-mirror.modal.local:5555/simple/safetensors/safetensors-0.5.2-cp38-abi3-manylinux_2_17_x86_64.manylinux2014_x86_64.whl.metadata (3.8 kB)\n",
       "</span></pre>\n"
      ],
      "text/plain": [
       "\u001b[33m  Downloading http://pypi-mirror.modal.local:5555/simple/safetensors/safetensors-0.5.2-cp38-abi3-manylinux_2_17_x86_64.manylinux2014_x86_64.whl.metadata (3.8 kB)\n",
       "\u001b[0m"
      ]
     },
     "metadata": {},
     "output_type": "display_data"
    },
    {
     "data": {
      "text/html": [
       "<pre style=\"white-space:pre;overflow-x:auto;line-height:normal;font-family:Menlo,'DejaVu Sans Mono',consolas,'Courier New',monospace\"><span style=\"color: #808000; text-decoration-color: #808000\">Collecting tqdm (from peft)\n",
       "</span></pre>\n"
      ],
      "text/plain": [
       "\u001b[33mCollecting tqdm (from peft)\n",
       "\u001b[0m"
      ]
     },
     "metadata": {},
     "output_type": "display_data"
    },
    {
     "data": {
      "text/html": [
       "<pre style=\"white-space:pre;overflow-x:auto;line-height:normal;font-family:Menlo,'DejaVu Sans Mono',consolas,'Courier New',monospace\"><span style=\"color: #808000; text-decoration-color: #808000\">  Downloading http://pypi-mirror.modal.local:5555/simple/tqdm/tqdm-4.67.1-py3-none-any.whl.metadata (57 kB)\n",
       "</span></pre>\n"
      ],
      "text/plain": [
       "\u001b[33m  Downloading http://pypi-mirror.modal.local:5555/simple/tqdm/tqdm-4.67.1-py3-none-any.whl.metadata (57 kB)\n",
       "\u001b[0m"
      ]
     },
     "metadata": {},
     "output_type": "display_data"
    },
    {
     "data": {
      "text/html": [
       "<pre style=\"white-space:pre;overflow-x:auto;line-height:normal;font-family:Menlo,'DejaVu Sans Mono',consolas,'Courier New',monospace\"><span style=\"color: #808000; text-decoration-color: #808000\">Collecting filelock (from torch)\n",
       "</span></pre>\n"
      ],
      "text/plain": [
       "\u001b[33mCollecting filelock (from torch)\n",
       "\u001b[0m"
      ]
     },
     "metadata": {},
     "output_type": "display_data"
    },
    {
     "data": {
      "text/html": [
       "<pre style=\"white-space:pre;overflow-x:auto;line-height:normal;font-family:Menlo,'DejaVu Sans Mono',consolas,'Courier New',monospace\"><span style=\"color: #808000; text-decoration-color: #808000\">  Downloading http://pypi-mirror.modal.local:5555/simple/filelock/filelock-3.17.0-py3-none-any.whl.metadata (2.9 kB)\n",
       "</span></pre>\n"
      ],
      "text/plain": [
       "\u001b[33m  Downloading http://pypi-mirror.modal.local:5555/simple/filelock/filelock-3.17.0-py3-none-any.whl.metadata (2.9 kB)\n",
       "\u001b[0m"
      ]
     },
     "metadata": {},
     "output_type": "display_data"
    },
    {
     "data": {
      "text/html": [
       "<pre style=\"white-space:pre;overflow-x:auto;line-height:normal;font-family:Menlo,'DejaVu Sans Mono',consolas,'Courier New',monospace\"><span style=\"color: #808000; text-decoration-color: #808000\">Requirement already satisfied: typing-extensions&gt;=4.10.0 in /usr/local/lib/python3.12/site-packages (from torch) (4.12.2)\n",
       "</span></pre>\n"
      ],
      "text/plain": [
       "\u001b[33mRequirement already satisfied: typing-extensions>=4.10.0 in /usr/local/lib/python3.12/site-packages (from torch) (4.12.2)\n",
       "\u001b[0m"
      ]
     },
     "metadata": {},
     "output_type": "display_data"
    },
    {
     "data": {
      "text/html": [
       "<pre style=\"white-space:pre;overflow-x:auto;line-height:normal;font-family:Menlo,'DejaVu Sans Mono',consolas,'Courier New',monospace\"><span style=\"color: #808000; text-decoration-color: #808000\">Collecting networkx (from torch)\n",
       "</span></pre>\n"
      ],
      "text/plain": [
       "\u001b[33mCollecting networkx (from torch)\n",
       "\u001b[0m"
      ]
     },
     "metadata": {},
     "output_type": "display_data"
    },
    {
     "data": {
      "text/html": [
       "<pre style=\"white-space:pre;overflow-x:auto;line-height:normal;font-family:Menlo,'DejaVu Sans Mono',consolas,'Courier New',monospace\"><span style=\"color: #808000; text-decoration-color: #808000\">  Downloading http://pypi-mirror.modal.local:5555/simple/networkx/networkx-3.4.2-py3-none-any.whl.metadata (6.3 kB)\n",
       "</span></pre>\n"
      ],
      "text/plain": [
       "\u001b[33m  Downloading http://pypi-mirror.modal.local:5555/simple/networkx/networkx-3.4.2-py3-none-any.whl.metadata (6.3 kB)\n",
       "\u001b[0m"
      ]
     },
     "metadata": {},
     "output_type": "display_data"
    },
    {
     "data": {
      "text/html": [
       "<pre style=\"white-space:pre;overflow-x:auto;line-height:normal;font-family:Menlo,'DejaVu Sans Mono',consolas,'Courier New',monospace\"><span style=\"color: #808000; text-decoration-color: #808000\">Collecting jinja2 (from torch)\n",
       "</span></pre>\n"
      ],
      "text/plain": [
       "\u001b[33mCollecting jinja2 (from torch)\n",
       "\u001b[0m"
      ]
     },
     "metadata": {},
     "output_type": "display_data"
    },
    {
     "data": {
      "text/html": [
       "<pre style=\"white-space:pre;overflow-x:auto;line-height:normal;font-family:Menlo,'DejaVu Sans Mono',consolas,'Courier New',monospace\"><span style=\"color: #808000; text-decoration-color: #808000\">  Downloading http://pypi-mirror.modal.local:5555/simple/jinja2/jinja2-3.1.5-py3-none-any.whl.metadata (2.6 kB)\n",
       "</span></pre>\n"
      ],
      "text/plain": [
       "\u001b[33m  Downloading http://pypi-mirror.modal.local:5555/simple/jinja2/jinja2-3.1.5-py3-none-any.whl.metadata (2.6 kB)\n",
       "\u001b[0m"
      ]
     },
     "metadata": {},
     "output_type": "display_data"
    },
    {
     "data": {
      "text/html": [
       "<pre style=\"white-space:pre;overflow-x:auto;line-height:normal;font-family:Menlo,'DejaVu Sans Mono',consolas,'Courier New',monospace\"><span style=\"color: #808000; text-decoration-color: #808000\">Collecting fsspec (from torch)\n",
       "</span></pre>\n"
      ],
      "text/plain": [
       "\u001b[33mCollecting fsspec (from torch)\n",
       "\u001b[0m"
      ]
     },
     "metadata": {},
     "output_type": "display_data"
    },
    {
     "data": {
      "text/html": [
       "<pre style=\"white-space:pre;overflow-x:auto;line-height:normal;font-family:Menlo,'DejaVu Sans Mono',consolas,'Courier New',monospace\"><span style=\"color: #808000; text-decoration-color: #808000\">  Downloading http://pypi-mirror.modal.local:5555/simple/fsspec/fsspec-2025.2.0-py3-none-any.whl.metadata (11 kB)\n",
       "</span></pre>\n"
      ],
      "text/plain": [
       "\u001b[33m  Downloading http://pypi-mirror.modal.local:5555/simple/fsspec/fsspec-2025.2.0-py3-none-any.whl.metadata (11 kB)\n",
       "\u001b[0m"
      ]
     },
     "metadata": {},
     "output_type": "display_data"
    },
    {
     "data": {
      "text/html": [
       "<pre style=\"white-space:pre;overflow-x:auto;line-height:normal;font-family:Menlo,'DejaVu Sans Mono',consolas,'Courier New',monospace\"><span style=\"color: #808000; text-decoration-color: #808000\">Collecting nvidia-cuda-nvrtc-cu12==12.4.127 (from torch)\n",
       "</span></pre>\n"
      ],
      "text/plain": [
       "\u001b[33mCollecting nvidia-cuda-nvrtc-cu12==12.4.127 (from torch)\n",
       "\u001b[0m"
      ]
     },
     "metadata": {},
     "output_type": "display_data"
    },
    {
     "data": {
      "text/html": [
       "<pre style=\"white-space:pre;overflow-x:auto;line-height:normal;font-family:Menlo,'DejaVu Sans Mono',consolas,'Courier New',monospace\"><span style=\"color: #808000; text-decoration-color: #808000\">  Downloading http://pypi-mirror.modal.local:5555/simple/nvidia-cuda-nvrtc-cu12/nvidia_cuda_nvrtc_cu12-12.4.127-py3-none-manylinux2014_x86_64.whl.metadata (1.5 kB)\n",
       "</span></pre>\n"
      ],
      "text/plain": [
       "\u001b[33m  Downloading http://pypi-mirror.modal.local:5555/simple/nvidia-cuda-nvrtc-cu12/nvidia_cuda_nvrtc_cu12-12.4.127-py3-none-manylinux2014_x86_64.whl.metadata (1.5 kB)\n",
       "\u001b[0m"
      ]
     },
     "metadata": {},
     "output_type": "display_data"
    },
    {
     "data": {
      "text/html": [
       "<pre style=\"white-space:pre;overflow-x:auto;line-height:normal;font-family:Menlo,'DejaVu Sans Mono',consolas,'Courier New',monospace\"><span style=\"color: #808000; text-decoration-color: #808000\">Collecting nvidia-cuda-runtime-cu12==12.4.127 (from torch)\n",
       "</span></pre>\n"
      ],
      "text/plain": [
       "\u001b[33mCollecting nvidia-cuda-runtime-cu12==12.4.127 (from torch)\n",
       "\u001b[0m"
      ]
     },
     "metadata": {},
     "output_type": "display_data"
    },
    {
     "data": {
      "text/html": [
       "<pre style=\"white-space:pre;overflow-x:auto;line-height:normal;font-family:Menlo,'DejaVu Sans Mono',consolas,'Courier New',monospace\"><span style=\"color: #808000; text-decoration-color: #808000\">  Downloading http://pypi-mirror.modal.local:5555/simple/nvidia-cuda-runtime-cu12/nvidia_cuda_runtime_cu12-12.4.127-py3-none-manylinux2014_x86_64.whl.metadata (1.5 kB)\n",
       "</span></pre>\n"
      ],
      "text/plain": [
       "\u001b[33m  Downloading http://pypi-mirror.modal.local:5555/simple/nvidia-cuda-runtime-cu12/nvidia_cuda_runtime_cu12-12.4.127-py3-none-manylinux2014_x86_64.whl.metadata (1.5 kB)\n",
       "\u001b[0m"
      ]
     },
     "metadata": {},
     "output_type": "display_data"
    },
    {
     "data": {
      "text/html": [
       "<pre style=\"white-space:pre;overflow-x:auto;line-height:normal;font-family:Menlo,'DejaVu Sans Mono',consolas,'Courier New',monospace\"><span style=\"color: #808000; text-decoration-color: #808000\">Collecting nvidia-cuda-cupti-cu12==12.4.127 (from torch)\n",
       "</span></pre>\n"
      ],
      "text/plain": [
       "\u001b[33mCollecting nvidia-cuda-cupti-cu12==12.4.127 (from torch)\n",
       "\u001b[0m"
      ]
     },
     "metadata": {},
     "output_type": "display_data"
    },
    {
     "data": {
      "text/html": [
       "<pre style=\"white-space:pre;overflow-x:auto;line-height:normal;font-family:Menlo,'DejaVu Sans Mono',consolas,'Courier New',monospace\"><span style=\"color: #808000; text-decoration-color: #808000\">  Downloading http://pypi-mirror.modal.local:5555/simple/nvidia-cuda-cupti-cu12/nvidia_cuda_cupti_cu12-12.4.127-py3-none-manylinux2014_x86_64.whl.metadata (1.6 kB)\n",
       "</span></pre>\n"
      ],
      "text/plain": [
       "\u001b[33m  Downloading http://pypi-mirror.modal.local:5555/simple/nvidia-cuda-cupti-cu12/nvidia_cuda_cupti_cu12-12.4.127-py3-none-manylinux2014_x86_64.whl.metadata (1.6 kB)\n",
       "\u001b[0m"
      ]
     },
     "metadata": {},
     "output_type": "display_data"
    },
    {
     "data": {
      "text/html": [
       "<pre style=\"white-space:pre;overflow-x:auto;line-height:normal;font-family:Menlo,'DejaVu Sans Mono',consolas,'Courier New',monospace\"><span style=\"color: #808000; text-decoration-color: #808000\">Collecting nvidia-cudnn-cu12==9.1.0.70 (from torch)\n",
       "</span></pre>\n"
      ],
      "text/plain": [
       "\u001b[33mCollecting nvidia-cudnn-cu12==9.1.0.70 (from torch)\n",
       "\u001b[0m"
      ]
     },
     "metadata": {},
     "output_type": "display_data"
    },
    {
     "data": {
      "text/html": [
       "<pre style=\"white-space:pre;overflow-x:auto;line-height:normal;font-family:Menlo,'DejaVu Sans Mono',consolas,'Courier New',monospace\"><span style=\"color: #808000; text-decoration-color: #808000\">  Downloading http://pypi-mirror.modal.local:5555/simple/nvidia-cudnn-cu12/nvidia_cudnn_cu12-9.1.0.70-py3-none-manylinux2014_x86_64.whl.metadata (1.6 kB)\n",
       "</span></pre>\n"
      ],
      "text/plain": [
       "\u001b[33m  Downloading http://pypi-mirror.modal.local:5555/simple/nvidia-cudnn-cu12/nvidia_cudnn_cu12-9.1.0.70-py3-none-manylinux2014_x86_64.whl.metadata (1.6 kB)\n",
       "\u001b[0m"
      ]
     },
     "metadata": {},
     "output_type": "display_data"
    },
    {
     "data": {
      "text/html": [
       "<pre style=\"white-space:pre;overflow-x:auto;line-height:normal;font-family:Menlo,'DejaVu Sans Mono',consolas,'Courier New',monospace\"><span style=\"color: #808000; text-decoration-color: #808000\">Collecting nvidia-cublas-cu12==12.4.5.8 (from torch)\n",
       "</span></pre>\n"
      ],
      "text/plain": [
       "\u001b[33mCollecting nvidia-cublas-cu12==12.4.5.8 (from torch)\n",
       "\u001b[0m"
      ]
     },
     "metadata": {},
     "output_type": "display_data"
    },
    {
     "data": {
      "text/html": [
       "<pre style=\"white-space:pre;overflow-x:auto;line-height:normal;font-family:Menlo,'DejaVu Sans Mono',consolas,'Courier New',monospace\"><span style=\"color: #808000; text-decoration-color: #808000\">  Downloading http://pypi-mirror.modal.local:5555/simple/nvidia-cublas-cu12/nvidia_cublas_cu12-12.4.5.8-py3-none-manylinux2014_x86_64.whl.metadata (1.5 kB)\n",
       "</span></pre>\n"
      ],
      "text/plain": [
       "\u001b[33m  Downloading http://pypi-mirror.modal.local:5555/simple/nvidia-cublas-cu12/nvidia_cublas_cu12-12.4.5.8-py3-none-manylinux2014_x86_64.whl.metadata (1.5 kB)\n",
       "\u001b[0m"
      ]
     },
     "metadata": {},
     "output_type": "display_data"
    },
    {
     "data": {
      "text/html": [
       "<pre style=\"white-space:pre;overflow-x:auto;line-height:normal;font-family:Menlo,'DejaVu Sans Mono',consolas,'Courier New',monospace\"><span style=\"color: #808000; text-decoration-color: #808000\">Collecting nvidia-cufft-cu12==11.2.1.3 (from torch)\n",
       "</span></pre>\n"
      ],
      "text/plain": [
       "\u001b[33mCollecting nvidia-cufft-cu12==11.2.1.3 (from torch)\n",
       "\u001b[0m"
      ]
     },
     "metadata": {},
     "output_type": "display_data"
    },
    {
     "data": {
      "text/html": [
       "<pre style=\"white-space:pre;overflow-x:auto;line-height:normal;font-family:Menlo,'DejaVu Sans Mono',consolas,'Courier New',monospace\"><span style=\"color: #808000; text-decoration-color: #808000\">  Downloading http://pypi-mirror.modal.local:5555/simple/nvidia-cufft-cu12/nvidia_cufft_cu12-11.2.1.3-py3-none-manylinux2014_x86_64.whl.metadata (1.5 kB)\n",
       "</span></pre>\n"
      ],
      "text/plain": [
       "\u001b[33m  Downloading http://pypi-mirror.modal.local:5555/simple/nvidia-cufft-cu12/nvidia_cufft_cu12-11.2.1.3-py3-none-manylinux2014_x86_64.whl.metadata (1.5 kB)\n",
       "\u001b[0m"
      ]
     },
     "metadata": {},
     "output_type": "display_data"
    },
    {
     "data": {
      "text/html": [
       "<pre style=\"white-space:pre;overflow-x:auto;line-height:normal;font-family:Menlo,'DejaVu Sans Mono',consolas,'Courier New',monospace\"><span style=\"color: #808000; text-decoration-color: #808000\">Collecting nvidia-curand-cu12==10.3.5.147 (from torch)\n",
       "</span></pre>\n"
      ],
      "text/plain": [
       "\u001b[33mCollecting nvidia-curand-cu12==10.3.5.147 (from torch)\n",
       "\u001b[0m"
      ]
     },
     "metadata": {},
     "output_type": "display_data"
    },
    {
     "data": {
      "text/html": [
       "<pre style=\"white-space:pre;overflow-x:auto;line-height:normal;font-family:Menlo,'DejaVu Sans Mono',consolas,'Courier New',monospace\"><span style=\"color: #808000; text-decoration-color: #808000\">  Downloading http://pypi-mirror.modal.local:5555/simple/nvidia-curand-cu12/nvidia_curand_cu12-10.3.5.147-py3-none-manylinux2014_x86_64.whl.metadata (1.5 kB)\n",
       "</span></pre>\n"
      ],
      "text/plain": [
       "\u001b[33m  Downloading http://pypi-mirror.modal.local:5555/simple/nvidia-curand-cu12/nvidia_curand_cu12-10.3.5.147-py3-none-manylinux2014_x86_64.whl.metadata (1.5 kB)\n",
       "\u001b[0m"
      ]
     },
     "metadata": {},
     "output_type": "display_data"
    },
    {
     "data": {
      "text/html": [
       "<pre style=\"white-space:pre;overflow-x:auto;line-height:normal;font-family:Menlo,'DejaVu Sans Mono',consolas,'Courier New',monospace\"><span style=\"color: #808000; text-decoration-color: #808000\">Collecting nvidia-cusolver-cu12==11.6.1.9 (from torch)\n",
       "</span></pre>\n"
      ],
      "text/plain": [
       "\u001b[33mCollecting nvidia-cusolver-cu12==11.6.1.9 (from torch)\n",
       "\u001b[0m"
      ]
     },
     "metadata": {},
     "output_type": "display_data"
    },
    {
     "data": {
      "text/html": [
       "<pre style=\"white-space:pre;overflow-x:auto;line-height:normal;font-family:Menlo,'DejaVu Sans Mono',consolas,'Courier New',monospace\"><span style=\"color: #808000; text-decoration-color: #808000\">  Downloading http://pypi-mirror.modal.local:5555/simple/nvidia-cusolver-cu12/nvidia_cusolver_cu12-11.6.1.9-py3-none-manylinux2014_x86_64.whl.metadata (1.6 kB)\n",
       "</span></pre>\n"
      ],
      "text/plain": [
       "\u001b[33m  Downloading http://pypi-mirror.modal.local:5555/simple/nvidia-cusolver-cu12/nvidia_cusolver_cu12-11.6.1.9-py3-none-manylinux2014_x86_64.whl.metadata (1.6 kB)\n",
       "\u001b[0m"
      ]
     },
     "metadata": {},
     "output_type": "display_data"
    },
    {
     "data": {
      "text/html": [
       "<pre style=\"white-space:pre;overflow-x:auto;line-height:normal;font-family:Menlo,'DejaVu Sans Mono',consolas,'Courier New',monospace\"><span style=\"color: #808000; text-decoration-color: #808000\">Collecting nvidia-cusparse-cu12==12.3.1.170 (from torch)\n",
       "</span></pre>\n"
      ],
      "text/plain": [
       "\u001b[33mCollecting nvidia-cusparse-cu12==12.3.1.170 (from torch)\n",
       "\u001b[0m"
      ]
     },
     "metadata": {},
     "output_type": "display_data"
    },
    {
     "data": {
      "text/html": [
       "<pre style=\"white-space:pre;overflow-x:auto;line-height:normal;font-family:Menlo,'DejaVu Sans Mono',consolas,'Courier New',monospace\"><span style=\"color: #808000; text-decoration-color: #808000\">  Downloading http://pypi-mirror.modal.local:5555/simple/nvidia-cusparse-cu12/nvidia_cusparse_cu12-12.3.1.170-py3-none-manylinux2014_x86_64.whl.metadata (1.6 kB)\n",
       "</span></pre>\n"
      ],
      "text/plain": [
       "\u001b[33m  Downloading http://pypi-mirror.modal.local:5555/simple/nvidia-cusparse-cu12/nvidia_cusparse_cu12-12.3.1.170-py3-none-manylinux2014_x86_64.whl.metadata (1.6 kB)\n",
       "\u001b[0m"
      ]
     },
     "metadata": {},
     "output_type": "display_data"
    },
    {
     "data": {
      "text/html": [
       "<pre style=\"white-space:pre;overflow-x:auto;line-height:normal;font-family:Menlo,'DejaVu Sans Mono',consolas,'Courier New',monospace\"><span style=\"color: #808000; text-decoration-color: #808000\">Collecting nvidia-cusparselt-cu12==0.6.2 (from torch)\n",
       "</span></pre>\n"
      ],
      "text/plain": [
       "\u001b[33mCollecting nvidia-cusparselt-cu12==0.6.2 (from torch)\n",
       "\u001b[0m"
      ]
     },
     "metadata": {},
     "output_type": "display_data"
    },
    {
     "data": {
      "text/html": [
       "<pre style=\"white-space:pre;overflow-x:auto;line-height:normal;font-family:Menlo,'DejaVu Sans Mono',consolas,'Courier New',monospace\"><span style=\"color: #808000; text-decoration-color: #808000\">  Downloading http://pypi-mirror.modal.local:5555/simple/nvidia-cusparselt-cu12/nvidia_cusparselt_cu12-0.6.2-py3-none-manylinux2014_x86_64.whl.metadata (6.8 kB)\n",
       "</span></pre>\n"
      ],
      "text/plain": [
       "\u001b[33m  Downloading http://pypi-mirror.modal.local:5555/simple/nvidia-cusparselt-cu12/nvidia_cusparselt_cu12-0.6.2-py3-none-manylinux2014_x86_64.whl.metadata (6.8 kB)\n",
       "\u001b[0m"
      ]
     },
     "metadata": {},
     "output_type": "display_data"
    },
    {
     "data": {
      "text/html": [
       "<pre style=\"white-space:pre;overflow-x:auto;line-height:normal;font-family:Menlo,'DejaVu Sans Mono',consolas,'Courier New',monospace\"><span style=\"color: #808000; text-decoration-color: #808000\">Collecting nvidia-nccl-cu12==2.21.5 (from torch)\n",
       "</span></pre>\n"
      ],
      "text/plain": [
       "\u001b[33mCollecting nvidia-nccl-cu12==2.21.5 (from torch)\n",
       "\u001b[0m"
      ]
     },
     "metadata": {},
     "output_type": "display_data"
    },
    {
     "data": {
      "text/html": [
       "<pre style=\"white-space:pre;overflow-x:auto;line-height:normal;font-family:Menlo,'DejaVu Sans Mono',consolas,'Courier New',monospace\"><span style=\"color: #808000; text-decoration-color: #808000\">  Downloading http://pypi-mirror.modal.local:5555/simple/nvidia-nccl-cu12/nvidia_nccl_cu12-2.21.5-py3-none-manylinux2014_x86_64.whl.metadata (1.8 kB)\n",
       "</span></pre>\n"
      ],
      "text/plain": [
       "\u001b[33m  Downloading http://pypi-mirror.modal.local:5555/simple/nvidia-nccl-cu12/nvidia_nccl_cu12-2.21.5-py3-none-manylinux2014_x86_64.whl.metadata (1.8 kB)\n",
       "\u001b[0m"
      ]
     },
     "metadata": {},
     "output_type": "display_data"
    },
    {
     "data": {
      "text/html": [
       "<pre style=\"white-space:pre;overflow-x:auto;line-height:normal;font-family:Menlo,'DejaVu Sans Mono',consolas,'Courier New',monospace\"><span style=\"color: #808000; text-decoration-color: #808000\">Collecting nvidia-nvtx-cu12==12.4.127 (from torch)\n",
       "</span></pre>\n"
      ],
      "text/plain": [
       "\u001b[33mCollecting nvidia-nvtx-cu12==12.4.127 (from torch)\n",
       "\u001b[0m"
      ]
     },
     "metadata": {},
     "output_type": "display_data"
    },
    {
     "data": {
      "text/html": [
       "<pre style=\"white-space:pre;overflow-x:auto;line-height:normal;font-family:Menlo,'DejaVu Sans Mono',consolas,'Courier New',monospace\"><span style=\"color: #808000; text-decoration-color: #808000\">  Downloading http://pypi-mirror.modal.local:5555/simple/nvidia-nvtx-cu12/nvidia_nvtx_cu12-12.4.127-py3-none-manylinux2014_x86_64.whl.metadata (1.7 kB)\n",
       "</span></pre>\n"
      ],
      "text/plain": [
       "\u001b[33m  Downloading http://pypi-mirror.modal.local:5555/simple/nvidia-nvtx-cu12/nvidia_nvtx_cu12-12.4.127-py3-none-manylinux2014_x86_64.whl.metadata (1.7 kB)\n",
       "\u001b[0m"
      ]
     },
     "metadata": {},
     "output_type": "display_data"
    },
    {
     "data": {
      "text/html": [
       "<pre style=\"white-space:pre;overflow-x:auto;line-height:normal;font-family:Menlo,'DejaVu Sans Mono',consolas,'Courier New',monospace\"><span style=\"color: #808000; text-decoration-color: #808000\">Collecting nvidia-nvjitlink-cu12==12.4.127 (from torch)\n",
       "</span></pre>\n"
      ],
      "text/plain": [
       "\u001b[33mCollecting nvidia-nvjitlink-cu12==12.4.127 (from torch)\n",
       "\u001b[0m"
      ]
     },
     "metadata": {},
     "output_type": "display_data"
    },
    {
     "data": {
      "text/html": [
       "<pre style=\"white-space:pre;overflow-x:auto;line-height:normal;font-family:Menlo,'DejaVu Sans Mono',consolas,'Courier New',monospace\"><span style=\"color: #808000; text-decoration-color: #808000\">  Downloading http://pypi-mirror.modal.local:5555/simple/nvidia-nvjitlink-cu12/nvidia_nvjitlink_cu12-12.4.127-py3-none-manylinux2014_x86_64.whl.metadata (1.5 kB)\n",
       "</span></pre>\n"
      ],
      "text/plain": [
       "\u001b[33m  Downloading http://pypi-mirror.modal.local:5555/simple/nvidia-nvjitlink-cu12/nvidia_nvjitlink_cu12-12.4.127-py3-none-manylinux2014_x86_64.whl.metadata (1.5 kB)\n",
       "\u001b[0m"
      ]
     },
     "metadata": {},
     "output_type": "display_data"
    },
    {
     "data": {
      "text/html": [
       "<pre style=\"white-space:pre;overflow-x:auto;line-height:normal;font-family:Menlo,'DejaVu Sans Mono',consolas,'Courier New',monospace\"><span style=\"color: #808000; text-decoration-color: #808000\">Collecting triton==3.2.0 (from torch)\n",
       "</span></pre>\n"
      ],
      "text/plain": [
       "\u001b[33mCollecting triton==3.2.0 (from torch)\n",
       "\u001b[0m"
      ]
     },
     "metadata": {},
     "output_type": "display_data"
    },
    {
     "data": {
      "text/html": [
       "<pre style=\"white-space:pre;overflow-x:auto;line-height:normal;font-family:Menlo,'DejaVu Sans Mono',consolas,'Courier New',monospace\"><span style=\"color: #808000; text-decoration-color: #808000\">  Downloading http://pypi-mirror.modal.local:5555/simple/triton/triton-3.2.0-cp312-cp312-manylinux_2_17_x86_64.manylinux2014_x86_64.whl.metadata (1.4 kB)\n",
       "</span></pre>\n"
      ],
      "text/plain": [
       "\u001b[33m  Downloading http://pypi-mirror.modal.local:5555/simple/triton/triton-3.2.0-cp312-cp312-manylinux_2_17_x86_64.manylinux2014_x86_64.whl.metadata (1.4 kB)\n",
       "\u001b[0m"
      ]
     },
     "metadata": {},
     "output_type": "display_data"
    },
    {
     "data": {
      "text/html": [
       "<pre style=\"white-space:pre;overflow-x:auto;line-height:normal;font-family:Menlo,'DejaVu Sans Mono',consolas,'Courier New',monospace\"><span style=\"color: #808000; text-decoration-color: #808000\">Collecting setuptools (from torch)\n",
       "</span></pre>\n"
      ],
      "text/plain": [
       "\u001b[33mCollecting setuptools (from torch)\n",
       "\u001b[0m"
      ]
     },
     "metadata": {},
     "output_type": "display_data"
    },
    {
     "data": {
      "text/html": [
       "<pre style=\"white-space:pre;overflow-x:auto;line-height:normal;font-family:Menlo,'DejaVu Sans Mono',consolas,'Courier New',monospace\"><span style=\"color: #808000; text-decoration-color: #808000\">  Downloading http://pypi-mirror.modal.local:5555/simple/setuptools/setuptools-75.8.0-py3-none-any.whl.metadata (6.7 kB)\n",
       "</span></pre>\n"
      ],
      "text/plain": [
       "\u001b[33m  Downloading http://pypi-mirror.modal.local:5555/simple/setuptools/setuptools-75.8.0-py3-none-any.whl.metadata (6.7 kB)\n",
       "\u001b[0m"
      ]
     },
     "metadata": {},
     "output_type": "display_data"
    },
    {
     "data": {
      "text/html": [
       "<pre style=\"white-space:pre;overflow-x:auto;line-height:normal;font-family:Menlo,'DejaVu Sans Mono',consolas,'Courier New',monospace\"><span style=\"color: #808000; text-decoration-color: #808000\">Collecting sympy==1.13.1 (from torch)\n",
       "</span></pre>\n"
      ],
      "text/plain": [
       "\u001b[33mCollecting sympy==1.13.1 (from torch)\n",
       "\u001b[0m"
      ]
     },
     "metadata": {},
     "output_type": "display_data"
    },
    {
     "data": {
      "text/html": [
       "<pre style=\"white-space:pre;overflow-x:auto;line-height:normal;font-family:Menlo,'DejaVu Sans Mono',consolas,'Courier New',monospace\"><span style=\"color: #808000; text-decoration-color: #808000\">  Downloading http://pypi-mirror.modal.local:5555/simple/sympy/sympy-1.13.1-py3-none-any.whl.metadata (12 kB)\n",
       "</span></pre>\n"
      ],
      "text/plain": [
       "\u001b[33m  Downloading http://pypi-mirror.modal.local:5555/simple/sympy/sympy-1.13.1-py3-none-any.whl.metadata (12 kB)\n",
       "\u001b[0m"
      ]
     },
     "metadata": {},
     "output_type": "display_data"
    },
    {
     "data": {
      "text/html": [
       "<pre style=\"white-space:pre;overflow-x:auto;line-height:normal;font-family:Menlo,'DejaVu Sans Mono',consolas,'Courier New',monospace\"><span style=\"color: #808000; text-decoration-color: #808000\">Collecting mpmath&lt;1.4,&gt;=1.1.0 (from sympy==1.13.1-&gt;torch)\n",
       "</span></pre>\n"
      ],
      "text/plain": [
       "\u001b[33mCollecting mpmath<1.4,>=1.1.0 (from sympy==1.13.1->torch)\n",
       "\u001b[0m"
      ]
     },
     "metadata": {},
     "output_type": "display_data"
    },
    {
     "data": {
      "text/html": [
       "<pre style=\"white-space:pre;overflow-x:auto;line-height:normal;font-family:Menlo,'DejaVu Sans Mono',consolas,'Courier New',monospace\"><span style=\"color: #808000; text-decoration-color: #808000\">  Downloading http://pypi-mirror.modal.local:5555/simple/mpmath/mpmath-1.3.0-py3-none-any.whl.metadata (8.6 kB)\n",
       "</span></pre>\n"
      ],
      "text/plain": [
       "\u001b[33m  Downloading http://pypi-mirror.modal.local:5555/simple/mpmath/mpmath-1.3.0-py3-none-any.whl.metadata (8.6 kB)\n",
       "\u001b[0m"
      ]
     },
     "metadata": {},
     "output_type": "display_data"
    },
    {
     "data": {
      "text/html": [
       "<pre style=\"white-space:pre;overflow-x:auto;line-height:normal;font-family:Menlo,'DejaVu Sans Mono',consolas,'Courier New',monospace\"><span style=\"color: #808000; text-decoration-color: #808000\">Collecting regex!=2019.12.17 (from transformers)\n",
       "</span></pre>\n"
      ],
      "text/plain": [
       "\u001b[33mCollecting regex!=2019.12.17 (from transformers)\n",
       "\u001b[0m"
      ]
     },
     "metadata": {},
     "output_type": "display_data"
    },
    {
     "data": {
      "text/html": [
       "<pre style=\"white-space:pre;overflow-x:auto;line-height:normal;font-family:Menlo,'DejaVu Sans Mono',consolas,'Courier New',monospace\"><span style=\"color: #808000; text-decoration-color: #808000\">  Downloading http://pypi-mirror.modal.local:5555/simple/regex/regex-2024.11.6-cp312-cp312-manylinux_2_17_x86_64.manylinux2014_x86_64.whl.metadata (40 kB)\n",
       "</span></pre>\n"
      ],
      "text/plain": [
       "\u001b[33m  Downloading http://pypi-mirror.modal.local:5555/simple/regex/regex-2024.11.6-cp312-cp312-manylinux_2_17_x86_64.manylinux2014_x86_64.whl.metadata (40 kB)\n",
       "\u001b[0m"
      ]
     },
     "metadata": {},
     "output_type": "display_data"
    },
    {
     "data": {
      "text/html": [
       "<pre style=\"white-space:pre;overflow-x:auto;line-height:normal;font-family:Menlo,'DejaVu Sans Mono',consolas,'Courier New',monospace\"><span style=\"color: #808000; text-decoration-color: #808000\">Collecting requests (from transformers)\n",
       "</span></pre>\n"
      ],
      "text/plain": [
       "\u001b[33mCollecting requests (from transformers)\n",
       "\u001b[0m"
      ]
     },
     "metadata": {},
     "output_type": "display_data"
    },
    {
     "data": {
      "text/html": [
       "<pre style=\"white-space:pre;overflow-x:auto;line-height:normal;font-family:Menlo,'DejaVu Sans Mono',consolas,'Courier New',monospace\"><span style=\"color: #808000; text-decoration-color: #808000\">  Downloading http://pypi-mirror.modal.local:5555/simple/requests/requests-2.32.3-py3-none-any.whl.metadata (4.6 kB)\n",
       "</span></pre>\n"
      ],
      "text/plain": [
       "\u001b[33m  Downloading http://pypi-mirror.modal.local:5555/simple/requests/requests-2.32.3-py3-none-any.whl.metadata (4.6 kB)\n",
       "\u001b[0m"
      ]
     },
     "metadata": {},
     "output_type": "display_data"
    },
    {
     "data": {
      "text/html": [
       "<pre style=\"white-space:pre;overflow-x:auto;line-height:normal;font-family:Menlo,'DejaVu Sans Mono',consolas,'Courier New',monospace\"><span style=\"color: #808000; text-decoration-color: #808000\">Collecting tokenizers&lt;0.22,&gt;=0.21 (from transformers)\n",
       "</span></pre>\n"
      ],
      "text/plain": [
       "\u001b[33mCollecting tokenizers<0.22,>=0.21 (from transformers)\n",
       "\u001b[0m"
      ]
     },
     "metadata": {},
     "output_type": "display_data"
    },
    {
     "data": {
      "text/html": [
       "<pre style=\"white-space:pre;overflow-x:auto;line-height:normal;font-family:Menlo,'DejaVu Sans Mono',consolas,'Courier New',monospace\"><span style=\"color: #808000; text-decoration-color: #808000\">  Downloading http://pypi-mirror.modal.local:5555/simple/tokenizers/tokenizers-0.21.0-cp39-abi3-manylinux_2_17_x86_64.manylinux2014_x86_64.whl.metadata (6.7 kB)\n",
       "</span></pre>\n"
      ],
      "text/plain": [
       "\u001b[33m  Downloading http://pypi-mirror.modal.local:5555/simple/tokenizers/tokenizers-0.21.0-cp39-abi3-manylinux_2_17_x86_64.manylinux2014_x86_64.whl.metadata (6.7 kB)\n",
       "\u001b[0m"
      ]
     },
     "metadata": {},
     "output_type": "display_data"
    },
    {
     "data": {
      "text/html": [
       "<pre style=\"white-space:pre;overflow-x:auto;line-height:normal;font-family:Menlo,'DejaVu Sans Mono',consolas,'Courier New',monospace\"><span style=\"color: #808000; text-decoration-color: #808000\">Collecting MarkupSafe&gt;=2.0 (from jinja2-&gt;torch)\n",
       "</span></pre>\n"
      ],
      "text/plain": [
       "\u001b[33mCollecting MarkupSafe>=2.0 (from jinja2->torch)\n",
       "\u001b[0m"
      ]
     },
     "metadata": {},
     "output_type": "display_data"
    },
    {
     "data": {
      "text/html": [
       "<pre style=\"white-space:pre;overflow-x:auto;line-height:normal;font-family:Menlo,'DejaVu Sans Mono',consolas,'Courier New',monospace\"><span style=\"color: #808000; text-decoration-color: #808000\">  Downloading http://pypi-mirror.modal.local:5555/simple/markupsafe/MarkupSafe-3.0.2-cp312-cp312-manylinux_2_17_x86_64.manylinux2014_x86_64.whl.metadata (4.0 kB)\n",
       "</span></pre>\n"
      ],
      "text/plain": [
       "\u001b[33m  Downloading http://pypi-mirror.modal.local:5555/simple/markupsafe/MarkupSafe-3.0.2-cp312-cp312-manylinux_2_17_x86_64.manylinux2014_x86_64.whl.metadata (4.0 kB)\n",
       "\u001b[0m"
      ]
     },
     "metadata": {},
     "output_type": "display_data"
    },
    {
     "data": {
      "text/html": [
       "<pre style=\"white-space:pre;overflow-x:auto;line-height:normal;font-family:Menlo,'DejaVu Sans Mono',consolas,'Courier New',monospace\"><span style=\"color: #808000; text-decoration-color: #808000\">Collecting charset-normalizer&lt;4,&gt;=2 (from requests-&gt;transformers)\n",
       "</span></pre>\n"
      ],
      "text/plain": [
       "\u001b[33mCollecting charset-normalizer<4,>=2 (from requests->transformers)\n",
       "\u001b[0m"
      ]
     },
     "metadata": {},
     "output_type": "display_data"
    },
    {
     "data": {
      "text/html": [
       "<pre style=\"white-space:pre;overflow-x:auto;line-height:normal;font-family:Menlo,'DejaVu Sans Mono',consolas,'Courier New',monospace\"><span style=\"color: #808000; text-decoration-color: #808000\">  Downloading http://pypi-mirror.modal.local:5555/simple/charset-normalizer/charset_normalizer-3.4.1-cp312-cp312-manylinux_2_17_x86_64.manylinux2014_x86_64.whl.metadata (35 kB)\n",
       "</span></pre>\n"
      ],
      "text/plain": [
       "\u001b[33m  Downloading http://pypi-mirror.modal.local:5555/simple/charset-normalizer/charset_normalizer-3.4.1-cp312-cp312-manylinux_2_17_x86_64.manylinux2014_x86_64.whl.metadata (35 kB)\n",
       "\u001b[0m"
      ]
     },
     "metadata": {},
     "output_type": "display_data"
    },
    {
     "data": {
      "text/html": [
       "<pre style=\"white-space:pre;overflow-x:auto;line-height:normal;font-family:Menlo,'DejaVu Sans Mono',consolas,'Courier New',monospace\"><span style=\"color: #808000; text-decoration-color: #808000\">Requirement already satisfied: idna&lt;4,&gt;=2.5 in /usr/local/lib/python3.12/site-packages (from requests-&gt;transformers) (3.10)\n",
       "</span></pre>\n"
      ],
      "text/plain": [
       "\u001b[33mRequirement already satisfied: idna<4,>=2.5 in /usr/local/lib/python3.12/site-packages (from requests->transformers) (3.10)\n",
       "\u001b[0m"
      ]
     },
     "metadata": {},
     "output_type": "display_data"
    },
    {
     "data": {
      "text/html": [
       "<pre style=\"white-space:pre;overflow-x:auto;line-height:normal;font-family:Menlo,'DejaVu Sans Mono',consolas,'Courier New',monospace\"><span style=\"color: #808000; text-decoration-color: #808000\">Collecting urllib3&lt;3,&gt;=1.21.1 (from requests-&gt;transformers)\n",
       "</span></pre>\n"
      ],
      "text/plain": [
       "\u001b[33mCollecting urllib3<3,>=1.21.1 (from requests->transformers)\n",
       "\u001b[0m"
      ]
     },
     "metadata": {},
     "output_type": "display_data"
    },
    {
     "data": {
      "text/html": [
       "<pre style=\"white-space:pre;overflow-x:auto;line-height:normal;font-family:Menlo,'DejaVu Sans Mono',consolas,'Courier New',monospace\"><span style=\"color: #808000; text-decoration-color: #808000\">  Downloading http://pypi-mirror.modal.local:5555/simple/urllib3/urllib3-2.3.0-py3-none-any.whl.metadata (6.5 kB)\n",
       "</span></pre>\n"
      ],
      "text/plain": [
       "\u001b[33m  Downloading http://pypi-mirror.modal.local:5555/simple/urllib3/urllib3-2.3.0-py3-none-any.whl.metadata (6.5 kB)\n",
       "\u001b[0m"
      ]
     },
     "metadata": {},
     "output_type": "display_data"
    },
    {
     "data": {
      "text/html": [
       "<pre style=\"white-space:pre;overflow-x:auto;line-height:normal;font-family:Menlo,'DejaVu Sans Mono',consolas,'Courier New',monospace\"><span style=\"color: #808000; text-decoration-color: #808000\">Requirement already satisfied: certifi&gt;=2017.4.17 in /usr/local/lib/python3.12/site-packages (from requests-&gt;transformers) (2024.8.30)\n",
       "</span></pre>\n"
      ],
      "text/plain": [
       "\u001b[33mRequirement already satisfied: certifi>=2017.4.17 in /usr/local/lib/python3.12/site-packages (from requests->transformers) (2024.8.30)\n",
       "\u001b[0m"
      ]
     },
     "metadata": {},
     "output_type": "display_data"
    },
    {
     "data": {
      "text/html": [
       "<pre style=\"white-space:pre;overflow-x:auto;line-height:normal;font-family:Menlo,'DejaVu Sans Mono',consolas,'Courier New',monospace\"><span style=\"color: #808000; text-decoration-color: #808000\">Downloading http://pypi-mirror.modal.local:5555/simple/accelerate/accelerate-1.3.0-py3-none-any.whl (336 kB)\n",
       "</span></pre>\n"
      ],
      "text/plain": [
       "\u001b[33mDownloading http://pypi-mirror.modal.local:5555/simple/accelerate/accelerate-1.3.0-py3-none-any.whl (336 kB)\n",
       "\u001b[0m"
      ]
     },
     "metadata": {},
     "output_type": "display_data"
    },
    {
     "data": {
      "text/html": [
       "<pre style=\"white-space:pre;overflow-x:auto;line-height:normal;font-family:Menlo,'DejaVu Sans Mono',consolas,'Courier New',monospace\"><span style=\"color: #808000; text-decoration-color: #808000\">Downloading http://pypi-mirror.modal.local:5555/simple/bitsandbytes/bitsandbytes-0.45.1-py3-none-manylinux_2_24_x86_64.whl (69.7 MB)\n",
       "</span></pre>\n"
      ],
      "text/plain": [
       "\u001b[33mDownloading http://pypi-mirror.modal.local:5555/simple/bitsandbytes/bitsandbytes-0.45.1-py3-none-manylinux_2_24_x86_64.whl (69.7 MB)\n",
       "\u001b[0m"
      ]
     },
     "metadata": {},
     "output_type": "display_data"
    },
    {
     "data": {
      "text/html": [
       "<pre style=\"white-space:pre;overflow-x:auto;line-height:normal;font-family:Menlo,'DejaVu Sans Mono',consolas,'Courier New',monospace\"><span style=\"color: #808000; text-decoration-color: #808000\"></span></pre>\n"
      ],
      "text/plain": []
     },
     "metadata": {},
     "output_type": "display_data"
    },
    {
     "data": {
      "text/html": [
       "<pre style=\"white-space:pre;overflow-x:auto;line-height:normal;font-family:Menlo,'DejaVu Sans Mono',consolas,'Courier New',monospace\"><span style=\"color: #808000; text-decoration-color: #808000\">   ━━━━━━━━━━━━━━━━━━━━━━━━━━━━━━━━━━━━━━━━ 69.7/69.7 MB 101.9 MB/s eta 0:00:00\n",
       "</span></pre>\n"
      ],
      "text/plain": [
       "\u001b[33m   ━━━━━━━━━━━━━━━━━━━━━━━━━━━━━━━━━━━━━━━━ 69.7/69.7 MB 101.9 MB/s eta 0:00:00\n",
       "\u001b[0m"
      ]
     },
     "metadata": {},
     "output_type": "display_data"
    },
    {
     "data": {
      "text/html": [
       "<pre style=\"white-space:pre;overflow-x:auto;line-height:normal;font-family:Menlo,'DejaVu Sans Mono',consolas,'Courier New',monospace\"><span style=\"color: #808000; text-decoration-color: #808000\">Downloading http://pypi-mirror.modal.local:5555/simple/peft/peft-0.14.0-py3-none-any.whl (374 kB)\n",
       "</span></pre>\n"
      ],
      "text/plain": [
       "\u001b[33mDownloading http://pypi-mirror.modal.local:5555/simple/peft/peft-0.14.0-py3-none-any.whl (374 kB)\n",
       "\u001b[0m"
      ]
     },
     "metadata": {},
     "output_type": "display_data"
    },
    {
     "data": {
      "text/html": [
       "<pre style=\"white-space:pre;overflow-x:auto;line-height:normal;font-family:Menlo,'DejaVu Sans Mono',consolas,'Courier New',monospace\"><span style=\"color: #808000; text-decoration-color: #808000\">Downloading http://pypi-mirror.modal.local:5555/simple/torch/torch-2.6.0-cp312-cp312-manylinux1_x86_64.whl (766.6 MB)\n",
       "</span></pre>\n"
      ],
      "text/plain": [
       "\u001b[33mDownloading http://pypi-mirror.modal.local:5555/simple/torch/torch-2.6.0-cp312-cp312-manylinux1_x86_64.whl (766.6 MB)\n",
       "\u001b[0m"
      ]
     },
     "metadata": {},
     "output_type": "display_data"
    },
    {
     "data": {
      "text/html": [
       "<pre style=\"white-space:pre;overflow-x:auto;line-height:normal;font-family:Menlo,'DejaVu Sans Mono',consolas,'Courier New',monospace\"><span style=\"color: #808000; text-decoration-color: #808000\"></span></pre>\n"
      ],
      "text/plain": []
     },
     "metadata": {},
     "output_type": "display_data"
    },
    {
     "data": {
      "text/html": [
       "<pre style=\"white-space:pre;overflow-x:auto;line-height:normal;font-family:Menlo,'DejaVu Sans Mono',consolas,'Courier New',monospace\"><span style=\"color: #808000; text-decoration-color: #808000\">   ━━━━━━━━━━━━━━━━━━━━━━━━━━━━━━━━━━━━━━━━ 766.6/766.6 MB 88.3 MB/s eta 0:00:00\n",
       "</span></pre>\n"
      ],
      "text/plain": [
       "\u001b[33m   ━━━━━━━━━━━━━━━━━━━━━━━━━━━━━━━━━━━━━━━━ 766.6/766.6 MB 88.3 MB/s eta 0:00:00\n",
       "\u001b[0m"
      ]
     },
     "metadata": {},
     "output_type": "display_data"
    },
    {
     "data": {
      "text/html": [
       "<pre style=\"white-space:pre;overflow-x:auto;line-height:normal;font-family:Menlo,'DejaVu Sans Mono',consolas,'Courier New',monospace\"><span style=\"color: #808000; text-decoration-color: #808000\">Downloading http://pypi-mirror.modal.local:5555/simple/nvidia-cublas-cu12/nvidia_cublas_cu12-12.4.5.8-py3-none-manylinux2014_x86_64.whl (363.4 MB)\n",
       "</span></pre>\n"
      ],
      "text/plain": [
       "\u001b[33mDownloading http://pypi-mirror.modal.local:5555/simple/nvidia-cublas-cu12/nvidia_cublas_cu12-12.4.5.8-py3-none-manylinux2014_x86_64.whl (363.4 MB)\n",
       "\u001b[0m"
      ]
     },
     "metadata": {},
     "output_type": "display_data"
    },
    {
     "data": {
      "text/html": [
       "<pre style=\"white-space:pre;overflow-x:auto;line-height:normal;font-family:Menlo,'DejaVu Sans Mono',consolas,'Courier New',monospace\"><span style=\"color: #808000; text-decoration-color: #808000\"></span></pre>\n"
      ],
      "text/plain": []
     },
     "metadata": {},
     "output_type": "display_data"
    },
    {
     "data": {
      "text/html": [
       "<pre style=\"white-space:pre;overflow-x:auto;line-height:normal;font-family:Menlo,'DejaVu Sans Mono',consolas,'Courier New',monospace\"><span style=\"color: #808000; text-decoration-color: #808000\">   ━━━━━━━━━━━━━━━━━━━━━━━━━━━━━━━━━━━━━━━━ 363.4/363.4 MB 85.4 MB/s eta 0:00:00\n",
       "</span></pre>\n"
      ],
      "text/plain": [
       "\u001b[33m   ━━━━━━━━━━━━━━━━━━━━━━━━━━━━━━━━━━━━━━━━ 363.4/363.4 MB 85.4 MB/s eta 0:00:00\n",
       "\u001b[0m"
      ]
     },
     "metadata": {},
     "output_type": "display_data"
    },
    {
     "data": {
      "text/html": [
       "<pre style=\"white-space:pre;overflow-x:auto;line-height:normal;font-family:Menlo,'DejaVu Sans Mono',consolas,'Courier New',monospace\"><span style=\"color: #808000; text-decoration-color: #808000\">Downloading http://pypi-mirror.modal.local:5555/simple/nvidia-cuda-cupti-cu12/nvidia_cuda_cupti_cu12-12.4.127-py3-none-manylinux2014_x86_64.whl (13.8 MB)\n",
       "</span></pre>\n"
      ],
      "text/plain": [
       "\u001b[33mDownloading http://pypi-mirror.modal.local:5555/simple/nvidia-cuda-cupti-cu12/nvidia_cuda_cupti_cu12-12.4.127-py3-none-manylinux2014_x86_64.whl (13.8 MB)\n",
       "\u001b[0m"
      ]
     },
     "metadata": {},
     "output_type": "display_data"
    },
    {
     "data": {
      "text/html": [
       "<pre style=\"white-space:pre;overflow-x:auto;line-height:normal;font-family:Menlo,'DejaVu Sans Mono',consolas,'Courier New',monospace\"><span style=\"color: #808000; text-decoration-color: #808000\"></span></pre>\n"
      ],
      "text/plain": []
     },
     "metadata": {},
     "output_type": "display_data"
    },
    {
     "data": {
      "text/html": [
       "<pre style=\"white-space:pre;overflow-x:auto;line-height:normal;font-family:Menlo,'DejaVu Sans Mono',consolas,'Courier New',monospace\"><span style=\"color: #808000; text-decoration-color: #808000\">   ━━━━━━━━━━━━━━━━━━━━━━━━━━━━━━━━━━━━━━━━ 13.8/13.8 MB 95.2 MB/s eta 0:00:00\n",
       "</span></pre>\n"
      ],
      "text/plain": [
       "\u001b[33m   ━━━━━━━━━━━━━━━━━━━━━━━━━━━━━━━━━━━━━━━━ 13.8/13.8 MB 95.2 MB/s eta 0:00:00\n",
       "\u001b[0m"
      ]
     },
     "metadata": {},
     "output_type": "display_data"
    },
    {
     "data": {
      "text/html": [
       "<pre style=\"white-space:pre;overflow-x:auto;line-height:normal;font-family:Menlo,'DejaVu Sans Mono',consolas,'Courier New',monospace\"><span style=\"color: #808000; text-decoration-color: #808000\">Downloading http://pypi-mirror.modal.local:5555/simple/nvidia-cuda-nvrtc-cu12/nvidia_cuda_nvrtc_cu12-12.4.127-py3-none-manylinux2014_x86_64.whl (24.6 MB)\n",
       "</span></pre>\n"
      ],
      "text/plain": [
       "\u001b[33mDownloading http://pypi-mirror.modal.local:5555/simple/nvidia-cuda-nvrtc-cu12/nvidia_cuda_nvrtc_cu12-12.4.127-py3-none-manylinux2014_x86_64.whl (24.6 MB)\n",
       "\u001b[0m"
      ]
     },
     "metadata": {},
     "output_type": "display_data"
    },
    {
     "data": {
      "text/html": [
       "<pre style=\"white-space:pre;overflow-x:auto;line-height:normal;font-family:Menlo,'DejaVu Sans Mono',consolas,'Courier New',monospace\"><span style=\"color: #808000; text-decoration-color: #808000\"></span></pre>\n"
      ],
      "text/plain": []
     },
     "metadata": {},
     "output_type": "display_data"
    },
    {
     "data": {
      "text/html": [
       "<pre style=\"white-space:pre;overflow-x:auto;line-height:normal;font-family:Menlo,'DejaVu Sans Mono',consolas,'Courier New',monospace\"><span style=\"color: #808000; text-decoration-color: #808000\">   ━━━━━━━━━━━━━━━━━━━━━━━━━━━━━━━━━━━━━━━━ 24.6/24.6 MB 93.6 MB/s eta 0:00:00\n",
       "</span></pre>\n"
      ],
      "text/plain": [
       "\u001b[33m   ━━━━━━━━━━━━━━━━━━━━━━━━━━━━━━━━━━━━━━━━ 24.6/24.6 MB 93.6 MB/s eta 0:00:00\n",
       "\u001b[0m"
      ]
     },
     "metadata": {},
     "output_type": "display_data"
    },
    {
     "data": {
      "text/html": [
       "<pre style=\"white-space:pre;overflow-x:auto;line-height:normal;font-family:Menlo,'DejaVu Sans Mono',consolas,'Courier New',monospace\"><span style=\"color: #808000; text-decoration-color: #808000\">Downloading http://pypi-mirror.modal.local:5555/simple/nvidia-cuda-runtime-cu12/nvidia_cuda_runtime_cu12-12.4.127-py3-none-manylinux2014_x86_64.whl (883 kB)\n",
       "</span></pre>\n"
      ],
      "text/plain": [
       "\u001b[33mDownloading http://pypi-mirror.modal.local:5555/simple/nvidia-cuda-runtime-cu12/nvidia_cuda_runtime_cu12-12.4.127-py3-none-manylinux2014_x86_64.whl (883 kB)\n",
       "\u001b[0m"
      ]
     },
     "metadata": {},
     "output_type": "display_data"
    },
    {
     "data": {
      "text/html": [
       "<pre style=\"white-space:pre;overflow-x:auto;line-height:normal;font-family:Menlo,'DejaVu Sans Mono',consolas,'Courier New',monospace\"><span style=\"color: #808000; text-decoration-color: #808000\"></span></pre>\n"
      ],
      "text/plain": []
     },
     "metadata": {},
     "output_type": "display_data"
    },
    {
     "data": {
      "text/html": [
       "<pre style=\"white-space:pre;overflow-x:auto;line-height:normal;font-family:Menlo,'DejaVu Sans Mono',consolas,'Courier New',monospace\"><span style=\"color: #808000; text-decoration-color: #808000\">   ━━━━━━━━━━━━━━━━━━━━━━━━━━━━━━━━━━━━━━━━ 883.7/883.7 kB 64.4 MB/s eta 0:00:00\n",
       "</span></pre>\n"
      ],
      "text/plain": [
       "\u001b[33m   ━━━━━━━━━━━━━━━━━━━━━━━━━━━━━━━━━━━━━━━━ 883.7/883.7 kB 64.4 MB/s eta 0:00:00\n",
       "\u001b[0m"
      ]
     },
     "metadata": {},
     "output_type": "display_data"
    },
    {
     "data": {
      "text/html": [
       "<pre style=\"white-space:pre;overflow-x:auto;line-height:normal;font-family:Menlo,'DejaVu Sans Mono',consolas,'Courier New',monospace\"><span style=\"color: #808000; text-decoration-color: #808000\">Downloading http://pypi-mirror.modal.local:5555/simple/nvidia-cudnn-cu12/nvidia_cudnn_cu12-9.1.0.70-py3-none-manylinux2014_x86_64.whl (664.8 MB)\n",
       "</span></pre>\n"
      ],
      "text/plain": [
       "\u001b[33mDownloading http://pypi-mirror.modal.local:5555/simple/nvidia-cudnn-cu12/nvidia_cudnn_cu12-9.1.0.70-py3-none-manylinux2014_x86_64.whl (664.8 MB)\n",
       "\u001b[0m"
      ]
     },
     "metadata": {},
     "output_type": "display_data"
    },
    {
     "data": {
      "text/html": [
       "<pre style=\"white-space:pre;overflow-x:auto;line-height:normal;font-family:Menlo,'DejaVu Sans Mono',consolas,'Courier New',monospace\"><span style=\"color: #808000; text-decoration-color: #808000\"></span></pre>\n"
      ],
      "text/plain": []
     },
     "metadata": {},
     "output_type": "display_data"
    },
    {
     "data": {
      "text/html": [
       "<pre style=\"white-space:pre;overflow-x:auto;line-height:normal;font-family:Menlo,'DejaVu Sans Mono',consolas,'Courier New',monospace\"><span style=\"color: #808000; text-decoration-color: #808000\">   ━━━━━━━━━━━━━━━━━━━━━━━━━━━━━━━━━━━━━━━ 664.8/664.8 MB 179.1 MB/s eta 0:00:00\n",
       "</span></pre>\n"
      ],
      "text/plain": [
       "\u001b[33m   ━━━━━━━━━━━━━━━━━━━━━━━━━━━━━━━━━━━━━━━ 664.8/664.8 MB 179.1 MB/s eta 0:00:00\n",
       "\u001b[0m"
      ]
     },
     "metadata": {},
     "output_type": "display_data"
    },
    {
     "data": {
      "text/html": [
       "<pre style=\"white-space:pre;overflow-x:auto;line-height:normal;font-family:Menlo,'DejaVu Sans Mono',consolas,'Courier New',monospace\"><span style=\"color: #808000; text-decoration-color: #808000\">Downloading http://pypi-mirror.modal.local:5555/simple/nvidia-cufft-cu12/nvidia_cufft_cu12-11.2.1.3-py3-none-manylinux2014_x86_64.whl (211.5 MB)\n",
       "</span></pre>\n"
      ],
      "text/plain": [
       "\u001b[33mDownloading http://pypi-mirror.modal.local:5555/simple/nvidia-cufft-cu12/nvidia_cufft_cu12-11.2.1.3-py3-none-manylinux2014_x86_64.whl (211.5 MB)\n",
       "\u001b[0m"
      ]
     },
     "metadata": {},
     "output_type": "display_data"
    },
    {
     "data": {
      "text/html": [
       "<pre style=\"white-space:pre;overflow-x:auto;line-height:normal;font-family:Menlo,'DejaVu Sans Mono',consolas,'Courier New',monospace\"><span style=\"color: #808000; text-decoration-color: #808000\"></span></pre>\n"
      ],
      "text/plain": []
     },
     "metadata": {},
     "output_type": "display_data"
    },
    {
     "data": {
      "text/html": [
       "<pre style=\"white-space:pre;overflow-x:auto;line-height:normal;font-family:Menlo,'DejaVu Sans Mono',consolas,'Courier New',monospace\"><span style=\"color: #808000; text-decoration-color: #808000\">   ━━━━━━━━━━━━━━━━━━━━━━━━━━━━━━━━━━━━━━━ 211.5/211.5 MB 199.6 MB/s eta 0:00:00\n",
       "</span></pre>\n"
      ],
      "text/plain": [
       "\u001b[33m   ━━━━━━━━━━━━━━━━━━━━━━━━━━━━━━━━━━━━━━━ 211.5/211.5 MB 199.6 MB/s eta 0:00:00\n",
       "\u001b[0m"
      ]
     },
     "metadata": {},
     "output_type": "display_data"
    },
    {
     "data": {
      "text/html": [
       "<pre style=\"white-space:pre;overflow-x:auto;line-height:normal;font-family:Menlo,'DejaVu Sans Mono',consolas,'Courier New',monospace\"><span style=\"color: #808000; text-decoration-color: #808000\">Downloading http://pypi-mirror.modal.local:5555/simple/nvidia-curand-cu12/nvidia_curand_cu12-10.3.5.147-py3-none-manylinux2014_x86_64.whl (56.3 MB)\n",
       "</span></pre>\n"
      ],
      "text/plain": [
       "\u001b[33mDownloading http://pypi-mirror.modal.local:5555/simple/nvidia-curand-cu12/nvidia_curand_cu12-10.3.5.147-py3-none-manylinux2014_x86_64.whl (56.3 MB)\n",
       "\u001b[0m"
      ]
     },
     "metadata": {},
     "output_type": "display_data"
    },
    {
     "data": {
      "text/html": [
       "<pre style=\"white-space:pre;overflow-x:auto;line-height:normal;font-family:Menlo,'DejaVu Sans Mono',consolas,'Courier New',monospace\"><span style=\"color: #808000; text-decoration-color: #808000\">   ━━━━━━━━━━━━━━━━━━━━━━━━━━━━━━━━━━━━━━━━ 56.3/56.3 MB 198.5 MB/s eta 0:00:00\n",
       "</span></pre>\n"
      ],
      "text/plain": [
       "\u001b[33m   ━━━━━━━━━━━━━━━━━━━━━━━━━━━━━━━━━━━━━━━━ 56.3/56.3 MB 198.5 MB/s eta 0:00:00\n",
       "\u001b[0m"
      ]
     },
     "metadata": {},
     "output_type": "display_data"
    },
    {
     "data": {
      "text/html": [
       "<pre style=\"white-space:pre;overflow-x:auto;line-height:normal;font-family:Menlo,'DejaVu Sans Mono',consolas,'Courier New',monospace\"><span style=\"color: #808000; text-decoration-color: #808000\">Downloading http://pypi-mirror.modal.local:5555/simple/nvidia-cusolver-cu12/nvidia_cusolver_cu12-11.6.1.9-py3-none-manylinux2014_x86_64.whl (127.9 MB)\n",
       "</span></pre>\n"
      ],
      "text/plain": [
       "\u001b[33mDownloading http://pypi-mirror.modal.local:5555/simple/nvidia-cusolver-cu12/nvidia_cusolver_cu12-11.6.1.9-py3-none-manylinux2014_x86_64.whl (127.9 MB)\n",
       "\u001b[0m"
      ]
     },
     "metadata": {},
     "output_type": "display_data"
    },
    {
     "data": {
      "text/html": [
       "<pre style=\"white-space:pre;overflow-x:auto;line-height:normal;font-family:Menlo,'DejaVu Sans Mono',consolas,'Courier New',monospace\"><span style=\"color: #808000; text-decoration-color: #808000\"></span></pre>\n"
      ],
      "text/plain": []
     },
     "metadata": {},
     "output_type": "display_data"
    },
    {
     "data": {
      "text/html": [
       "<pre style=\"white-space:pre;overflow-x:auto;line-height:normal;font-family:Menlo,'DejaVu Sans Mono',consolas,'Courier New',monospace\"><span style=\"color: #808000; text-decoration-color: #808000\">   ━━━━━━━━━━━━━━━━━━━━━━━━━━━━━━━━━━━━━━━ 127.9/127.9 MB 192.6 MB/s eta 0:00:00\n",
       "</span></pre>\n"
      ],
      "text/plain": [
       "\u001b[33m   ━━━━━━━━━━━━━━━━━━━━━━━━━━━━━━━━━━━━━━━ 127.9/127.9 MB 192.6 MB/s eta 0:00:00\n",
       "\u001b[0m"
      ]
     },
     "metadata": {},
     "output_type": "display_data"
    },
    {
     "data": {
      "text/html": [
       "<pre style=\"white-space:pre;overflow-x:auto;line-height:normal;font-family:Menlo,'DejaVu Sans Mono',consolas,'Courier New',monospace\"><span style=\"color: #808000; text-decoration-color: #808000\">Downloading http://pypi-mirror.modal.local:5555/simple/nvidia-cusparse-cu12/nvidia_cusparse_cu12-12.3.1.170-py3-none-manylinux2014_x86_64.whl (207.5 MB)\n",
       "</span></pre>\n"
      ],
      "text/plain": [
       "\u001b[33mDownloading http://pypi-mirror.modal.local:5555/simple/nvidia-cusparse-cu12/nvidia_cusparse_cu12-12.3.1.170-py3-none-manylinux2014_x86_64.whl (207.5 MB)\n",
       "\u001b[0m"
      ]
     },
     "metadata": {},
     "output_type": "display_data"
    },
    {
     "data": {
      "text/html": [
       "<pre style=\"white-space:pre;overflow-x:auto;line-height:normal;font-family:Menlo,'DejaVu Sans Mono',consolas,'Courier New',monospace\"><span style=\"color: #808000; text-decoration-color: #808000\">   ━━━━━━━━━━━━━━━━━━━━━━━━━━━━━━━━━━━━━━━ 207.5/207.5 MB 179.7 MB/s eta 0:00:00\n",
       "</span></pre>\n"
      ],
      "text/plain": [
       "\u001b[33m   ━━━━━━━━━━━━━━━━━━━━━━━━━━━━━━━━━━━━━━━ 207.5/207.5 MB 179.7 MB/s eta 0:00:00\n",
       "\u001b[0m"
      ]
     },
     "metadata": {},
     "output_type": "display_data"
    },
    {
     "data": {
      "text/html": [
       "<pre style=\"white-space:pre;overflow-x:auto;line-height:normal;font-family:Menlo,'DejaVu Sans Mono',consolas,'Courier New',monospace\"><span style=\"color: #808000; text-decoration-color: #808000\">Downloading http://pypi-mirror.modal.local:5555/simple/nvidia-cusparselt-cu12/nvidia_cusparselt_cu12-0.6.2-py3-none-manylinux2014_x86_64.whl (150.1 MB)\n",
       "</span></pre>\n"
      ],
      "text/plain": [
       "\u001b[33mDownloading http://pypi-mirror.modal.local:5555/simple/nvidia-cusparselt-cu12/nvidia_cusparselt_cu12-0.6.2-py3-none-manylinux2014_x86_64.whl (150.1 MB)\n",
       "\u001b[0m"
      ]
     },
     "metadata": {},
     "output_type": "display_data"
    },
    {
     "data": {
      "text/html": [
       "<pre style=\"white-space:pre;overflow-x:auto;line-height:normal;font-family:Menlo,'DejaVu Sans Mono',consolas,'Courier New',monospace\"><span style=\"color: #808000; text-decoration-color: #808000\">   ━━━━━━━━━━━━━━━━━━━━━━━━━━━━━━━━━━━━━━━ 150.1/150.1 MB 141.2 MB/s eta 0:00:00\n",
       "</span></pre>\n"
      ],
      "text/plain": [
       "\u001b[33m   ━━━━━━━━━━━━━━━━━━━━━━━━━━━━━━━━━━━━━━━ 150.1/150.1 MB 141.2 MB/s eta 0:00:00\n",
       "\u001b[0m"
      ]
     },
     "metadata": {},
     "output_type": "display_data"
    },
    {
     "data": {
      "text/html": [
       "<pre style=\"white-space:pre;overflow-x:auto;line-height:normal;font-family:Menlo,'DejaVu Sans Mono',consolas,'Courier New',monospace\"><span style=\"color: #808000; text-decoration-color: #808000\">Downloading http://pypi-mirror.modal.local:5555/simple/nvidia-nccl-cu12/nvidia_nccl_cu12-2.21.5-py3-none-manylinux2014_x86_64.whl (188.7 MB)\n",
       "</span></pre>\n"
      ],
      "text/plain": [
       "\u001b[33mDownloading http://pypi-mirror.modal.local:5555/simple/nvidia-nccl-cu12/nvidia_nccl_cu12-2.21.5-py3-none-manylinux2014_x86_64.whl (188.7 MB)\n",
       "\u001b[0m"
      ]
     },
     "metadata": {},
     "output_type": "display_data"
    },
    {
     "data": {
      "text/html": [
       "<pre style=\"white-space:pre;overflow-x:auto;line-height:normal;font-family:Menlo,'DejaVu Sans Mono',consolas,'Courier New',monospace\"><span style=\"color: #808000; text-decoration-color: #808000\"></span></pre>\n"
      ],
      "text/plain": []
     },
     "metadata": {},
     "output_type": "display_data"
    },
    {
     "data": {
      "text/html": [
       "<pre style=\"white-space:pre;overflow-x:auto;line-height:normal;font-family:Menlo,'DejaVu Sans Mono',consolas,'Courier New',monospace\"><span style=\"color: #808000; text-decoration-color: #808000\">   ━━━━━━━━━━━━━━━━━━━━━━━━━━━━━━━━━━━━━━━━ 188.7/188.7 MB 92.9 MB/s eta 0:00:00\n",
       "</span></pre>\n"
      ],
      "text/plain": [
       "\u001b[33m   ━━━━━━━━━━━━━━━━━━━━━━━━━━━━━━━━━━━━━━━━ 188.7/188.7 MB 92.9 MB/s eta 0:00:00\n",
       "\u001b[0m"
      ]
     },
     "metadata": {},
     "output_type": "display_data"
    },
    {
     "data": {
      "text/html": [
       "<pre style=\"white-space:pre;overflow-x:auto;line-height:normal;font-family:Menlo,'DejaVu Sans Mono',consolas,'Courier New',monospace\"><span style=\"color: #808000; text-decoration-color: #808000\">Downloading http://pypi-mirror.modal.local:5555/simple/nvidia-nvjitlink-cu12/nvidia_nvjitlink_cu12-12.4.127-py3-none-manylinux2014_x86_64.whl (21.1 MB)\n",
       "</span></pre>\n"
      ],
      "text/plain": [
       "\u001b[33mDownloading http://pypi-mirror.modal.local:5555/simple/nvidia-nvjitlink-cu12/nvidia_nvjitlink_cu12-12.4.127-py3-none-manylinux2014_x86_64.whl (21.1 MB)\n",
       "\u001b[0m"
      ]
     },
     "metadata": {},
     "output_type": "display_data"
    },
    {
     "data": {
      "text/html": [
       "<pre style=\"white-space:pre;overflow-x:auto;line-height:normal;font-family:Menlo,'DejaVu Sans Mono',consolas,'Courier New',monospace\"><span style=\"color: #808000; text-decoration-color: #808000\">   ━━━━━━━━━━━━━━━━━━━━━━━━━━━━━━━━━━━━━━━━ 21.1/21.1 MB 92.2 MB/s eta 0:00:00\n",
       "</span></pre>\n"
      ],
      "text/plain": [
       "\u001b[33m   ━━━━━━━━━━━━━━━━━━━━━━━━━━━━━━━━━━━━━━━━ 21.1/21.1 MB 92.2 MB/s eta 0:00:00\n",
       "\u001b[0m"
      ]
     },
     "metadata": {},
     "output_type": "display_data"
    },
    {
     "data": {
      "text/html": [
       "<pre style=\"white-space:pre;overflow-x:auto;line-height:normal;font-family:Menlo,'DejaVu Sans Mono',consolas,'Courier New',monospace\"><span style=\"color: #808000; text-decoration-color: #808000\">Downloading http://pypi-mirror.modal.local:5555/simple/nvidia-nvtx-cu12/nvidia_nvtx_cu12-12.4.127-py3-none-manylinux2014_x86_64.whl (99 kB)\n",
       "</span></pre>\n"
      ],
      "text/plain": [
       "\u001b[33mDownloading http://pypi-mirror.modal.local:5555/simple/nvidia-nvtx-cu12/nvidia_nvtx_cu12-12.4.127-py3-none-manylinux2014_x86_64.whl (99 kB)\n",
       "\u001b[0m"
      ]
     },
     "metadata": {},
     "output_type": "display_data"
    },
    {
     "data": {
      "text/html": [
       "<pre style=\"white-space:pre;overflow-x:auto;line-height:normal;font-family:Menlo,'DejaVu Sans Mono',consolas,'Courier New',monospace\"><span style=\"color: #808000; text-decoration-color: #808000\">Downloading http://pypi-mirror.modal.local:5555/simple/sympy/sympy-1.13.1-py3-none-any.whl (6.2 MB)\n",
       "</span></pre>\n"
      ],
      "text/plain": [
       "\u001b[33mDownloading http://pypi-mirror.modal.local:5555/simple/sympy/sympy-1.13.1-py3-none-any.whl (6.2 MB)\n",
       "\u001b[0m"
      ]
     },
     "metadata": {},
     "output_type": "display_data"
    },
    {
     "data": {
      "text/html": [
       "<pre style=\"white-space:pre;overflow-x:auto;line-height:normal;font-family:Menlo,'DejaVu Sans Mono',consolas,'Courier New',monospace\"><span style=\"color: #808000; text-decoration-color: #808000\"></span></pre>\n"
      ],
      "text/plain": []
     },
     "metadata": {},
     "output_type": "display_data"
    },
    {
     "data": {
      "text/html": [
       "<pre style=\"white-space:pre;overflow-x:auto;line-height:normal;font-family:Menlo,'DejaVu Sans Mono',consolas,'Courier New',monospace\"><span style=\"color: #808000; text-decoration-color: #808000\">   ━━━━━━━━━━━━━━━━━━━━━━━━━━━━━━━━━━━━━━━━ 6.2/6.2 MB 65.9 MB/s eta 0:00:00\n",
       "</span></pre>\n"
      ],
      "text/plain": [
       "\u001b[33m   ━━━━━━━━━━━━━━━━━━━━━━━━━━━━━━━━━━━━━━━━ 6.2/6.2 MB 65.9 MB/s eta 0:00:00\n",
       "\u001b[0m"
      ]
     },
     "metadata": {},
     "output_type": "display_data"
    },
    {
     "data": {
      "text/html": [
       "<pre style=\"white-space:pre;overflow-x:auto;line-height:normal;font-family:Menlo,'DejaVu Sans Mono',consolas,'Courier New',monospace\"><span style=\"color: #808000; text-decoration-color: #808000\">Downloading http://pypi-mirror.modal.local:5555/simple/triton/triton-3.2.0-cp312-cp312-manylinux_2_17_x86_64.manylinux2014_x86_64.whl (253.2 MB)\n",
       "</span></pre>\n"
      ],
      "text/plain": [
       "\u001b[33mDownloading http://pypi-mirror.modal.local:5555/simple/triton/triton-3.2.0-cp312-cp312-manylinux_2_17_x86_64.manylinux2014_x86_64.whl (253.2 MB)\n",
       "\u001b[0m"
      ]
     },
     "metadata": {},
     "output_type": "display_data"
    },
    {
     "data": {
      "text/html": [
       "<pre style=\"white-space:pre;overflow-x:auto;line-height:normal;font-family:Menlo,'DejaVu Sans Mono',consolas,'Courier New',monospace\"><span style=\"color: #808000; text-decoration-color: #808000\"></span></pre>\n"
      ],
      "text/plain": []
     },
     "metadata": {},
     "output_type": "display_data"
    },
    {
     "data": {
      "text/html": [
       "<pre style=\"white-space:pre;overflow-x:auto;line-height:normal;font-family:Menlo,'DejaVu Sans Mono',consolas,'Courier New',monospace\"><span style=\"color: #808000; text-decoration-color: #808000\">   ━━━━━━━━━━━━━━━━━━━━━━━━━━━━━━━━━━━━━━━━ 253.2/253.2 MB 80.4 MB/s eta 0:00:00\n",
       "</span></pre>\n"
      ],
      "text/plain": [
       "\u001b[33m   ━━━━━━━━━━━━━━━━━━━━━━━━━━━━━━━━━━━━━━━━ 253.2/253.2 MB 80.4 MB/s eta 0:00:00\n",
       "\u001b[0m"
      ]
     },
     "metadata": {},
     "output_type": "display_data"
    },
    {
     "data": {
      "text/html": [
       "<pre style=\"white-space:pre;overflow-x:auto;line-height:normal;font-family:Menlo,'DejaVu Sans Mono',consolas,'Courier New',monospace\"><span style=\"color: #808000; text-decoration-color: #808000\">Downloading http://pypi-mirror.modal.local:5555/simple/transformers/transformers-4.48.2-py3-none-any.whl (9.7 MB)\n",
       "</span></pre>\n"
      ],
      "text/plain": [
       "\u001b[33mDownloading http://pypi-mirror.modal.local:5555/simple/transformers/transformers-4.48.2-py3-none-any.whl (9.7 MB)\n",
       "\u001b[0m"
      ]
     },
     "metadata": {},
     "output_type": "display_data"
    },
    {
     "data": {
      "text/html": [
       "<pre style=\"white-space:pre;overflow-x:auto;line-height:normal;font-family:Menlo,'DejaVu Sans Mono',consolas,'Courier New',monospace\"><span style=\"color: #808000; text-decoration-color: #808000\"></span></pre>\n"
      ],
      "text/plain": []
     },
     "metadata": {},
     "output_type": "display_data"
    },
    {
     "data": {
      "text/html": [
       "<pre style=\"white-space:pre;overflow-x:auto;line-height:normal;font-family:Menlo,'DejaVu Sans Mono',consolas,'Courier New',monospace\"><span style=\"color: #808000; text-decoration-color: #808000\">   ━━━━━━━━━━━━━━━━━━━━━━━━━━━━━━━━━━━━━━━━ 9.7/9.7 MB 69.1 MB/s eta 0:00:00\n",
       "</span></pre>\n"
      ],
      "text/plain": [
       "\u001b[33m   ━━━━━━━━━━━━━━━━━━━━━━━━━━━━━━━━━━━━━━━━ 9.7/9.7 MB 69.1 MB/s eta 0:00:00\n",
       "\u001b[0m"
      ]
     },
     "metadata": {},
     "output_type": "display_data"
    },
    {
     "data": {
      "text/html": [
       "<pre style=\"white-space:pre;overflow-x:auto;line-height:normal;font-family:Menlo,'DejaVu Sans Mono',consolas,'Courier New',monospace\"><span style=\"color: #808000; text-decoration-color: #808000\">Downloading http://pypi-mirror.modal.local:5555/simple/huggingface-hub/huggingface_hub-0.28.1-py3-none-any.whl (464 kB)\n",
       "</span></pre>\n"
      ],
      "text/plain": [
       "\u001b[33mDownloading http://pypi-mirror.modal.local:5555/simple/huggingface-hub/huggingface_hub-0.28.1-py3-none-any.whl (464 kB)\n",
       "\u001b[0m"
      ]
     },
     "metadata": {},
     "output_type": "display_data"
    },
    {
     "data": {
      "text/html": [
       "<pre style=\"white-space:pre;overflow-x:auto;line-height:normal;font-family:Menlo,'DejaVu Sans Mono',consolas,'Courier New',monospace\"><span style=\"color: #808000; text-decoration-color: #808000\">Downloading http://pypi-mirror.modal.local:5555/simple/fsspec/fsspec-2025.2.0-py3-none-any.whl (184 kB)\n",
       "</span></pre>\n"
      ],
      "text/plain": [
       "\u001b[33mDownloading http://pypi-mirror.modal.local:5555/simple/fsspec/fsspec-2025.2.0-py3-none-any.whl (184 kB)\n",
       "\u001b[0m"
      ]
     },
     "metadata": {},
     "output_type": "display_data"
    },
    {
     "data": {
      "text/html": [
       "<pre style=\"white-space:pre;overflow-x:auto;line-height:normal;font-family:Menlo,'DejaVu Sans Mono',consolas,'Courier New',monospace\"><span style=\"color: #808000; text-decoration-color: #808000\">Downloading http://pypi-mirror.modal.local:5555/simple/numpy/numpy-2.2.2-cp312-cp312-manylinux_2_17_x86_64.manylinux2014_x86_64.whl (16.1 MB)\n",
       "</span></pre>\n"
      ],
      "text/plain": [
       "\u001b[33mDownloading http://pypi-mirror.modal.local:5555/simple/numpy/numpy-2.2.2-cp312-cp312-manylinux_2_17_x86_64.manylinux2014_x86_64.whl (16.1 MB)\n",
       "\u001b[0m"
      ]
     },
     "metadata": {},
     "output_type": "display_data"
    },
    {
     "data": {
      "text/html": [
       "<pre style=\"white-space:pre;overflow-x:auto;line-height:normal;font-family:Menlo,'DejaVu Sans Mono',consolas,'Courier New',monospace\"><span style=\"color: #808000; text-decoration-color: #808000\"></span></pre>\n"
      ],
      "text/plain": []
     },
     "metadata": {},
     "output_type": "display_data"
    },
    {
     "data": {
      "text/html": [
       "<pre style=\"white-space:pre;overflow-x:auto;line-height:normal;font-family:Menlo,'DejaVu Sans Mono',consolas,'Courier New',monospace\"><span style=\"color: #808000; text-decoration-color: #808000\">   ━━━━━━━━━━━━━━━━━━━━━━━━━━━━━━━━━━━━━━━━ 16.1/16.1 MB 113.3 MB/s eta 0:00:00\n",
       "</span></pre>\n"
      ],
      "text/plain": [
       "\u001b[33m   ━━━━━━━━━━━━━━━━━━━━━━━━━━━━━━━━━━━━━━━━ 16.1/16.1 MB 113.3 MB/s eta 0:00:00\n",
       "\u001b[0m"
      ]
     },
     "metadata": {},
     "output_type": "display_data"
    },
    {
     "data": {
      "text/html": [
       "<pre style=\"white-space:pre;overflow-x:auto;line-height:normal;font-family:Menlo,'DejaVu Sans Mono',consolas,'Courier New',monospace\"><span style=\"color: #808000; text-decoration-color: #808000\">Downloading http://pypi-mirror.modal.local:5555/simple/packaging/packaging-24.2-py3-none-any.whl (65 kB)\n",
       "</span></pre>\n"
      ],
      "text/plain": [
       "\u001b[33mDownloading http://pypi-mirror.modal.local:5555/simple/packaging/packaging-24.2-py3-none-any.whl (65 kB)\n",
       "\u001b[0m"
      ]
     },
     "metadata": {},
     "output_type": "display_data"
    },
    {
     "data": {
      "text/html": [
       "<pre style=\"white-space:pre;overflow-x:auto;line-height:normal;font-family:Menlo,'DejaVu Sans Mono',consolas,'Courier New',monospace\"><span style=\"color: #808000; text-decoration-color: #808000\">Downloading http://pypi-mirror.modal.local:5555/simple/pyyaml/PyYAML-6.0.2-cp312-cp312-manylinux_2_17_x86_64.manylinux2014_x86_64.whl (767 kB)\n",
       "</span></pre>\n"
      ],
      "text/plain": [
       "\u001b[33mDownloading http://pypi-mirror.modal.local:5555/simple/pyyaml/PyYAML-6.0.2-cp312-cp312-manylinux_2_17_x86_64.manylinux2014_x86_64.whl (767 kB)\n",
       "\u001b[0m"
      ]
     },
     "metadata": {},
     "output_type": "display_data"
    },
    {
     "data": {
      "text/html": [
       "<pre style=\"white-space:pre;overflow-x:auto;line-height:normal;font-family:Menlo,'DejaVu Sans Mono',consolas,'Courier New',monospace\"><span style=\"color: #808000; text-decoration-color: #808000\"></span></pre>\n"
      ],
      "text/plain": []
     },
     "metadata": {},
     "output_type": "display_data"
    },
    {
     "data": {
      "text/html": [
       "<pre style=\"white-space:pre;overflow-x:auto;line-height:normal;font-family:Menlo,'DejaVu Sans Mono',consolas,'Courier New',monospace\"><span style=\"color: #808000; text-decoration-color: #808000\">   ━━━━━━━━━━━━━━━━━━━━━━━━━━━━━━━━━━━━━━━━ 767.5/767.5 kB 69.4 MB/s eta 0:00:00\n",
       "</span></pre>\n"
      ],
      "text/plain": [
       "\u001b[33m   ━━━━━━━━━━━━━━━━━━━━━━━━━━━━━━━━━━━━━━━━ 767.5/767.5 kB 69.4 MB/s eta 0:00:00\n",
       "\u001b[0m"
      ]
     },
     "metadata": {},
     "output_type": "display_data"
    },
    {
     "data": {
      "text/html": [
       "<pre style=\"white-space:pre;overflow-x:auto;line-height:normal;font-family:Menlo,'DejaVu Sans Mono',consolas,'Courier New',monospace\"><span style=\"color: #808000; text-decoration-color: #808000\">Downloading http://pypi-mirror.modal.local:5555/simple/regex/regex-2024.11.6-cp312-cp312-manylinux_2_17_x86_64.manylinux2014_x86_64.whl (796 kB)\n",
       "</span></pre>\n"
      ],
      "text/plain": [
       "\u001b[33mDownloading http://pypi-mirror.modal.local:5555/simple/regex/regex-2024.11.6-cp312-cp312-manylinux_2_17_x86_64.manylinux2014_x86_64.whl (796 kB)\n",
       "\u001b[0m"
      ]
     },
     "metadata": {},
     "output_type": "display_data"
    },
    {
     "data": {
      "text/html": [
       "<pre style=\"white-space:pre;overflow-x:auto;line-height:normal;font-family:Menlo,'DejaVu Sans Mono',consolas,'Courier New',monospace\"><span style=\"color: #808000; text-decoration-color: #808000\">   ━━━━━━━━━━━━━━━━━━━━━━━━━━━━━━━━━━━━━━━━ 796.9/796.9 kB 36.1 MB/s eta 0:00:00\n",
       "</span></pre>\n"
      ],
      "text/plain": [
       "\u001b[33m   ━━━━━━━━━━━━━━━━━━━━━━━━━━━━━━━━━━━━━━━━ 796.9/796.9 kB 36.1 MB/s eta 0:00:00\n",
       "\u001b[0m"
      ]
     },
     "metadata": {},
     "output_type": "display_data"
    },
    {
     "data": {
      "text/html": [
       "<pre style=\"white-space:pre;overflow-x:auto;line-height:normal;font-family:Menlo,'DejaVu Sans Mono',consolas,'Courier New',monospace\"><span style=\"color: #808000; text-decoration-color: #808000\">Downloading http://pypi-mirror.modal.local:5555/simple/safetensors/safetensors-0.5.2-cp38-abi3-manylinux_2_17_x86_64.manylinux2014_x86_64.whl (461 kB)\n",
       "</span></pre>\n"
      ],
      "text/plain": [
       "\u001b[33mDownloading http://pypi-mirror.modal.local:5555/simple/safetensors/safetensors-0.5.2-cp38-abi3-manylinux_2_17_x86_64.manylinux2014_x86_64.whl (461 kB)\n",
       "\u001b[0m"
      ]
     },
     "metadata": {},
     "output_type": "display_data"
    },
    {
     "data": {
      "text/html": [
       "<pre style=\"white-space:pre;overflow-x:auto;line-height:normal;font-family:Menlo,'DejaVu Sans Mono',consolas,'Courier New',monospace\"><span style=\"color: #808000; text-decoration-color: #808000\">Downloading http://pypi-mirror.modal.local:5555/simple/tokenizers/tokenizers-0.21.0-cp39-abi3-manylinux_2_17_x86_64.manylinux2014_x86_64.whl (3.0 MB)\n",
       "</span></pre>\n"
      ],
      "text/plain": [
       "\u001b[33mDownloading http://pypi-mirror.modal.local:5555/simple/tokenizers/tokenizers-0.21.0-cp39-abi3-manylinux_2_17_x86_64.manylinux2014_x86_64.whl (3.0 MB)\n",
       "\u001b[0m"
      ]
     },
     "metadata": {},
     "output_type": "display_data"
    },
    {
     "data": {
      "text/html": [
       "<pre style=\"white-space:pre;overflow-x:auto;line-height:normal;font-family:Menlo,'DejaVu Sans Mono',consolas,'Courier New',monospace\"><span style=\"color: #808000; text-decoration-color: #808000\"></span></pre>\n"
      ],
      "text/plain": []
     },
     "metadata": {},
     "output_type": "display_data"
    },
    {
     "data": {
      "text/html": [
       "<pre style=\"white-space:pre;overflow-x:auto;line-height:normal;font-family:Menlo,'DejaVu Sans Mono',consolas,'Courier New',monospace\"><span style=\"color: #808000; text-decoration-color: #808000\">   ━━━━━━━━━━━━━━━━━━━━━━━━━━━━━━━━━━━━━━━━ 3.0/3.0 MB 100.1 MB/s eta 0:00:00\n",
       "</span></pre>\n"
      ],
      "text/plain": [
       "\u001b[33m   ━━━━━━━━━━━━━━━━━━━━━━━━━━━━━━━━━━━━━━━━ 3.0/3.0 MB 100.1 MB/s eta 0:00:00\n",
       "\u001b[0m"
      ]
     },
     "metadata": {},
     "output_type": "display_data"
    },
    {
     "data": {
      "text/html": [
       "<pre style=\"white-space:pre;overflow-x:auto;line-height:normal;font-family:Menlo,'DejaVu Sans Mono',consolas,'Courier New',monospace\"><span style=\"color: #808000; text-decoration-color: #808000\">Downloading http://pypi-mirror.modal.local:5555/simple/tqdm/tqdm-4.67.1-py3-none-any.whl (78 kB)\n",
       "</span></pre>\n"
      ],
      "text/plain": [
       "\u001b[33mDownloading http://pypi-mirror.modal.local:5555/simple/tqdm/tqdm-4.67.1-py3-none-any.whl (78 kB)\n",
       "\u001b[0m"
      ]
     },
     "metadata": {},
     "output_type": "display_data"
    },
    {
     "data": {
      "text/html": [
       "<pre style=\"white-space:pre;overflow-x:auto;line-height:normal;font-family:Menlo,'DejaVu Sans Mono',consolas,'Courier New',monospace\"><span style=\"color: #808000; text-decoration-color: #808000\">Downloading http://pypi-mirror.modal.local:5555/simple/filelock/filelock-3.17.0-py3-none-any.whl (16 kB)\n",
       "</span></pre>\n"
      ],
      "text/plain": [
       "\u001b[33mDownloading http://pypi-mirror.modal.local:5555/simple/filelock/filelock-3.17.0-py3-none-any.whl (16 kB)\n",
       "\u001b[0m"
      ]
     },
     "metadata": {},
     "output_type": "display_data"
    },
    {
     "data": {
      "text/html": [
       "<pre style=\"white-space:pre;overflow-x:auto;line-height:normal;font-family:Menlo,'DejaVu Sans Mono',consolas,'Courier New',monospace\"><span style=\"color: #808000; text-decoration-color: #808000\">Downloading http://pypi-mirror.modal.local:5555/simple/jinja2/jinja2-3.1.5-py3-none-any.whl (134 kB)\n",
       "</span></pre>\n"
      ],
      "text/plain": [
       "\u001b[33mDownloading http://pypi-mirror.modal.local:5555/simple/jinja2/jinja2-3.1.5-py3-none-any.whl (134 kB)\n",
       "\u001b[0m"
      ]
     },
     "metadata": {},
     "output_type": "display_data"
    },
    {
     "data": {
      "text/html": [
       "<pre style=\"white-space:pre;overflow-x:auto;line-height:normal;font-family:Menlo,'DejaVu Sans Mono',consolas,'Courier New',monospace\"><span style=\"color: #808000; text-decoration-color: #808000\">Downloading http://pypi-mirror.modal.local:5555/simple/networkx/networkx-3.4.2-py3-none-any.whl (1.7 MB)\n",
       "</span></pre>\n"
      ],
      "text/plain": [
       "\u001b[33mDownloading http://pypi-mirror.modal.local:5555/simple/networkx/networkx-3.4.2-py3-none-any.whl (1.7 MB)\n",
       "\u001b[0m"
      ]
     },
     "metadata": {},
     "output_type": "display_data"
    },
    {
     "data": {
      "text/html": [
       "<pre style=\"white-space:pre;overflow-x:auto;line-height:normal;font-family:Menlo,'DejaVu Sans Mono',consolas,'Courier New',monospace\"><span style=\"color: #808000; text-decoration-color: #808000\"></span></pre>\n"
      ],
      "text/plain": []
     },
     "metadata": {},
     "output_type": "display_data"
    },
    {
     "data": {
      "text/html": [
       "<pre style=\"white-space:pre;overflow-x:auto;line-height:normal;font-family:Menlo,'DejaVu Sans Mono',consolas,'Courier New',monospace\"><span style=\"color: #808000; text-decoration-color: #808000\">   ━━━━━━━━━━━━━━━━━━━━━━━━━━━━━━━━━━━━━━━━ 1.7/1.7 MB 107.9 MB/s eta 0:00:00\n",
       "</span></pre>\n"
      ],
      "text/plain": [
       "\u001b[33m   ━━━━━━━━━━━━━━━━━━━━━━━━━━━━━━━━━━━━━━━━ 1.7/1.7 MB 107.9 MB/s eta 0:00:00\n",
       "\u001b[0m"
      ]
     },
     "metadata": {},
     "output_type": "display_data"
    },
    {
     "data": {
      "text/html": [
       "<pre style=\"white-space:pre;overflow-x:auto;line-height:normal;font-family:Menlo,'DejaVu Sans Mono',consolas,'Courier New',monospace\"><span style=\"color: #808000; text-decoration-color: #808000\">Downloading http://pypi-mirror.modal.local:5555/simple/psutil/psutil-6.1.1-cp36-abi3-manylinux_2_12_x86_64.manylinux2010_x86_64.manylinux_2_17_x86_64.manylinux2014_x86_64.whl (287 kB)\n",
       "</span></pre>\n"
      ],
      "text/plain": [
       "\u001b[33mDownloading http://pypi-mirror.modal.local:5555/simple/psutil/psutil-6.1.1-cp36-abi3-manylinux_2_12_x86_64.manylinux2010_x86_64.manylinux_2_17_x86_64.manylinux2014_x86_64.whl (287 kB)\n",
       "\u001b[0m"
      ]
     },
     "metadata": {},
     "output_type": "display_data"
    },
    {
     "data": {
      "text/html": [
       "<pre style=\"white-space:pre;overflow-x:auto;line-height:normal;font-family:Menlo,'DejaVu Sans Mono',consolas,'Courier New',monospace\"><span style=\"color: #808000; text-decoration-color: #808000\">Downloading http://pypi-mirror.modal.local:5555/simple/requests/requests-2.32.3-py3-none-any.whl (64 kB)\n",
       "</span></pre>\n"
      ],
      "text/plain": [
       "\u001b[33mDownloading http://pypi-mirror.modal.local:5555/simple/requests/requests-2.32.3-py3-none-any.whl (64 kB)\n",
       "\u001b[0m"
      ]
     },
     "metadata": {},
     "output_type": "display_data"
    },
    {
     "data": {
      "text/html": [
       "<pre style=\"white-space:pre;overflow-x:auto;line-height:normal;font-family:Menlo,'DejaVu Sans Mono',consolas,'Courier New',monospace\"><span style=\"color: #808000; text-decoration-color: #808000\">Downloading http://pypi-mirror.modal.local:5555/simple/setuptools/setuptools-75.8.0-py3-none-any.whl (1.2 MB)\n",
       "</span></pre>\n"
      ],
      "text/plain": [
       "\u001b[33mDownloading http://pypi-mirror.modal.local:5555/simple/setuptools/setuptools-75.8.0-py3-none-any.whl (1.2 MB)\n",
       "\u001b[0m"
      ]
     },
     "metadata": {},
     "output_type": "display_data"
    },
    {
     "data": {
      "text/html": [
       "<pre style=\"white-space:pre;overflow-x:auto;line-height:normal;font-family:Menlo,'DejaVu Sans Mono',consolas,'Courier New',monospace\"><span style=\"color: #808000; text-decoration-color: #808000\"></span></pre>\n"
      ],
      "text/plain": []
     },
     "metadata": {},
     "output_type": "display_data"
    },
    {
     "data": {
      "text/html": [
       "<pre style=\"white-space:pre;overflow-x:auto;line-height:normal;font-family:Menlo,'DejaVu Sans Mono',consolas,'Courier New',monospace\"><span style=\"color: #808000; text-decoration-color: #808000\">   ━━━━━━━━━━━━━━━━━━━━━━━━━━━━━━━━━━━━━━━━ 1.2/1.2 MB 121.2 MB/s eta 0:00:00\n",
       "</span></pre>\n"
      ],
      "text/plain": [
       "\u001b[33m   ━━━━━━━━━━━━━━━━━━━━━━━━━━━━━━━━━━━━━━━━ 1.2/1.2 MB 121.2 MB/s eta 0:00:00\n",
       "\u001b[0m"
      ]
     },
     "metadata": {},
     "output_type": "display_data"
    },
    {
     "data": {
      "text/html": [
       "<pre style=\"white-space:pre;overflow-x:auto;line-height:normal;font-family:Menlo,'DejaVu Sans Mono',consolas,'Courier New',monospace\"><span style=\"color: #808000; text-decoration-color: #808000\">Downloading http://pypi-mirror.modal.local:5555/simple/charset-normalizer/charset_normalizer-3.4.1-cp312-cp312-manylinux_2_17_x86_64.manylinux2014_x86_64.whl (145 kB)\n",
       "</span></pre>\n"
      ],
      "text/plain": [
       "\u001b[33mDownloading http://pypi-mirror.modal.local:5555/simple/charset-normalizer/charset_normalizer-3.4.1-cp312-cp312-manylinux_2_17_x86_64.manylinux2014_x86_64.whl (145 kB)\n",
       "\u001b[0m"
      ]
     },
     "metadata": {},
     "output_type": "display_data"
    },
    {
     "data": {
      "text/html": [
       "<pre style=\"white-space:pre;overflow-x:auto;line-height:normal;font-family:Menlo,'DejaVu Sans Mono',consolas,'Courier New',monospace\"><span style=\"color: #808000; text-decoration-color: #808000\">Downloading http://pypi-mirror.modal.local:5555/simple/markupsafe/MarkupSafe-3.0.2-cp312-cp312-manylinux_2_17_x86_64.manylinux2014_x86_64.whl (23 kB)\n",
       "</span></pre>\n"
      ],
      "text/plain": [
       "\u001b[33mDownloading http://pypi-mirror.modal.local:5555/simple/markupsafe/MarkupSafe-3.0.2-cp312-cp312-manylinux_2_17_x86_64.manylinux2014_x86_64.whl (23 kB)\n",
       "\u001b[0m"
      ]
     },
     "metadata": {},
     "output_type": "display_data"
    },
    {
     "data": {
      "text/html": [
       "<pre style=\"white-space:pre;overflow-x:auto;line-height:normal;font-family:Menlo,'DejaVu Sans Mono',consolas,'Courier New',monospace\"><span style=\"color: #808000; text-decoration-color: #808000\">Downloading http://pypi-mirror.modal.local:5555/simple/mpmath/mpmath-1.3.0-py3-none-any.whl (536 kB)\n",
       "</span></pre>\n"
      ],
      "text/plain": [
       "\u001b[33mDownloading http://pypi-mirror.modal.local:5555/simple/mpmath/mpmath-1.3.0-py3-none-any.whl (536 kB)\n",
       "\u001b[0m"
      ]
     },
     "metadata": {},
     "output_type": "display_data"
    },
    {
     "data": {
      "text/html": [
       "<pre style=\"white-space:pre;overflow-x:auto;line-height:normal;font-family:Menlo,'DejaVu Sans Mono',consolas,'Courier New',monospace\"><span style=\"color: #808000; text-decoration-color: #808000\"></span></pre>\n"
      ],
      "text/plain": []
     },
     "metadata": {},
     "output_type": "display_data"
    },
    {
     "data": {
      "text/html": [
       "<pre style=\"white-space:pre;overflow-x:auto;line-height:normal;font-family:Menlo,'DejaVu Sans Mono',consolas,'Courier New',monospace\"><span style=\"color: #808000; text-decoration-color: #808000\">   ━━━━━━━━━━━━━━━━━━━━━━━━━━━━━━━━━━━━━━━━ 536.2/536.2 kB 70.5 MB/s eta 0:00:00\n",
       "</span></pre>\n"
      ],
      "text/plain": [
       "\u001b[33m   ━━━━━━━━━━━━━━━━━━━━━━━━━━━━━━━━━━━━━━━━ 536.2/536.2 kB 70.5 MB/s eta 0:00:00\n",
       "\u001b[0m"
      ]
     },
     "metadata": {},
     "output_type": "display_data"
    },
    {
     "data": {
      "text/html": [
       "<pre style=\"white-space:pre;overflow-x:auto;line-height:normal;font-family:Menlo,'DejaVu Sans Mono',consolas,'Courier New',monospace\"><span style=\"color: #808000; text-decoration-color: #808000\">Downloading http://pypi-mirror.modal.local:5555/simple/urllib3/urllib3-2.3.0-py3-none-any.whl (128 kB)\n",
       "</span></pre>\n"
      ],
      "text/plain": [
       "\u001b[33mDownloading http://pypi-mirror.modal.local:5555/simple/urllib3/urllib3-2.3.0-py3-none-any.whl (128 kB)\n",
       "\u001b[0m"
      ]
     },
     "metadata": {},
     "output_type": "display_data"
    },
    {
     "data": {
      "text/html": [
       "<pre style=\"white-space:pre;overflow-x:auto;line-height:normal;font-family:Menlo,'DejaVu Sans Mono',consolas,'Courier New',monospace\"><span style=\"color: #808000; text-decoration-color: #808000\">Installing collected packages: triton, nvidia-cusparselt-cu12, mpmath, urllib3, tqdm, sympy, setuptools, safetensors, regex, pyyaml, psutil, packaging, nvidia-nvtx-cu12, nvidia-nvjitlink-cu12, nvidia-nccl-cu12, nvidia-curand-cu12, nvidia-cufft-cu12, nvidia-cuda-runtime-cu12, nvidia-cuda-nvrtc-cu12, nvidia-cuda-cupti-cu12, nvidia-cublas-cu12, numpy, networkx, MarkupSafe, fsspec, filelock, charset-normalizer, requests, nvidia-cusparse-cu12, nvidia-cudnn-cu12, jinja2, nvidia-cusolver-cu12, huggingface-hub, torch, tokenizers, transformers, bitsandbytes, accelerate, peft\n",
       "</span></pre>\n"
      ],
      "text/plain": [
       "\u001b[33mInstalling collected packages: triton, nvidia-cusparselt-cu12, mpmath, urllib3, tqdm, sympy, setuptools, safetensors, regex, pyyaml, psutil, packaging, nvidia-nvtx-cu12, nvidia-nvjitlink-cu12, nvidia-nccl-cu12, nvidia-curand-cu12, nvidia-cufft-cu12, nvidia-cuda-runtime-cu12, nvidia-cuda-nvrtc-cu12, nvidia-cuda-cupti-cu12, nvidia-cublas-cu12, numpy, networkx, MarkupSafe, fsspec, filelock, charset-normalizer, requests, nvidia-cusparse-cu12, nvidia-cudnn-cu12, jinja2, nvidia-cusolver-cu12, huggingface-hub, torch, tokenizers, transformers, bitsandbytes, accelerate, peft\n",
       "\u001b[0m"
      ]
     },
     "metadata": {},
     "output_type": "display_data"
    },
    {
     "data": {
      "text/html": [
       "<pre style=\"white-space:pre;overflow-x:auto;line-height:normal;font-family:Menlo,'DejaVu Sans Mono',consolas,'Courier New',monospace\"><span style=\"color: #808000; text-decoration-color: #808000\">Successfully installed MarkupSafe-3.0.2 accelerate-1.3.0 bitsandbytes-0.45.1 charset-normalizer-3.4.1 filelock-3.17.0 fsspec-2025.2.0 huggingface-hub-0.28.1 jinja2-3.1.5 mpmath-1.3.0 networkx-3.4.2 numpy-2.2.2 nvidia-cublas-cu12-12.4.5.8 nvidia-cuda-cupti-cu12-12.4.127 nvidia-cuda-nvrtc-cu12-12.4.127 nvidia-cuda-runtime-cu12-12.4.127 nvidia-cudnn-cu12-9.1.0.70 nvidia-cufft-cu12-11.2.1.3 nvidia-curand-cu12-10.3.5.147 nvidia-cusolver-cu12-11.6.1.9 nvidia-cusparse-cu12-12.3.1.170 nvidia-cusparselt-cu12-0.6.2 nvidia-nccl-cu12-2.21.5 nvidia-nvjitlink-cu12-12.4.127 nvidia-nvtx-cu12-12.4.127 packaging-24.2 peft-0.14.0 psutil-6.1.1 pyyaml-6.0.2 regex-2024.11.6 requests-2.32.3 safetensors-0.5.2 setuptools-75.8.0 sympy-1.13.1 tokenizers-0.21.0 torch-2.6.0 tqdm-4.67.1 transformers-4.48.2 triton-3.2.0 urllib3-2.3.0\n",
       "</span></pre>\n"
      ],
      "text/plain": [
       "\u001b[33mSuccessfully installed MarkupSafe-3.0.2 accelerate-1.3.0 bitsandbytes-0.45.1 charset-normalizer-3.4.1 filelock-3.17.0 fsspec-2025.2.0 huggingface-hub-0.28.1 jinja2-3.1.5 mpmath-1.3.0 networkx-3.4.2 numpy-2.2.2 nvidia-cublas-cu12-12.4.5.8 nvidia-cuda-cupti-cu12-12.4.127 nvidia-cuda-nvrtc-cu12-12.4.127 nvidia-cuda-runtime-cu12-12.4.127 nvidia-cudnn-cu12-9.1.0.70 nvidia-cufft-cu12-11.2.1.3 nvidia-curand-cu12-10.3.5.147 nvidia-cusolver-cu12-11.6.1.9 nvidia-cusparse-cu12-12.3.1.170 nvidia-cusparselt-cu12-0.6.2 nvidia-nccl-cu12-2.21.5 nvidia-nvjitlink-cu12-12.4.127 nvidia-nvtx-cu12-12.4.127 packaging-24.2 peft-0.14.0 psutil-6.1.1 pyyaml-6.0.2 regex-2024.11.6 requests-2.32.3 safetensors-0.5.2 setuptools-75.8.0 sympy-1.13.1 tokenizers-0.21.0 torch-2.6.0 tqdm-4.67.1 transformers-4.48.2 triton-3.2.0 urllib3-2.3.0\n",
       "\u001b[0m"
      ]
     },
     "metadata": {},
     "output_type": "display_data"
    },
    {
     "data": {
      "text/html": [
       "<pre style=\"white-space:pre;overflow-x:auto;line-height:normal;font-family:Menlo,'DejaVu Sans Mono',consolas,'Courier New',monospace\"><span style=\"color: #808000; text-decoration-color: #808000\">\n",
       "[notice] A new release of pip is available: 24.3.1 -&gt; 25.0\n",
       "[notice] To update, run: pip install --upgrade pip\n",
       "</span></pre>\n"
      ],
      "text/plain": [
       "\u001b[33m\n",
       "[notice] A new release of pip is available: 24.3.1 -> 25.0\n",
       "[notice] To update, run: pip install --upgrade pip\n",
       "\u001b[0m"
      ]
     },
     "metadata": {},
     "output_type": "display_data"
    },
    {
     "data": {
      "text/html": [
       "<pre style=\"white-space:pre;overflow-x:auto;line-height:normal;font-family:Menlo,'DejaVu Sans Mono',consolas,'Courier New',monospace\"><span style=\"color: #808000; text-decoration-color: #808000\">Saving image...\n",
       "</span></pre>\n"
      ],
      "text/plain": [
       "\u001b[33mSaving image...\n",
       "\u001b[0m"
      ]
     },
     "metadata": {},
     "output_type": "display_data"
    },
    {
     "data": {
      "text/html": [
       "<pre style=\"white-space:pre;overflow-x:auto;line-height:normal;font-family:Menlo,'DejaVu Sans Mono',consolas,'Courier New',monospace\"><span style=\"color: #808000; text-decoration-color: #808000\">Image saved, took 10.04s\n",
       "</span></pre>\n"
      ],
      "text/plain": [
       "\u001b[33mImage saved, took 10.04s\n",
       "\u001b[0m"
      ]
     },
     "metadata": {},
     "output_type": "display_data"
    },
    {
     "data": {
      "text/html": [
       "<pre style=\"white-space:pre;overflow-x:auto;line-height:normal;font-family:Menlo,'DejaVu Sans Mono',consolas,'Courier New',monospace\"><span style=\"color: #808000; text-decoration-color: #808000\">\n",
       "Built image im-nYYw3QwIMuRcLGuR6tuwWT in 129.57s\n",
       "\n",
       "\n",
       "</span></pre>\n"
      ],
      "text/plain": [
       "\u001b[33m\n",
       "Built image im-nYYw3QwIMuRcLGuR6tuwWT in 129.57s\n",
       "\n",
       "\n",
       "\u001b[0m"
      ]
     },
     "metadata": {},
     "output_type": "display_data"
    },
    {
     "data": {
      "text/html": [
       "<pre style=\"white-space:pre;overflow-x:auto;line-height:normal;font-family:Menlo,'DejaVu Sans Mono',consolas,'Courier New',monospace\"></pre>\n"
      ],
      "text/plain": []
     },
     "metadata": {},
     "output_type": "display_data"
    },
    {
     "data": {
      "text/html": [
       "<pre style=\"white-space:pre;overflow-x:auto;line-height:normal;font-family:Menlo,'DejaVu Sans Mono',consolas,'Courier New',monospace\"><span style=\"color: #008000; text-decoration-color: #008000\">✓</span> Created objects.\n",
       "<span style=\"color: #808080; text-decoration-color: #808080\">├── </span>🔨 Created mount \n",
       "<span style=\"color: #808080; text-decoration-color: #808080\">│   </span>c:\\Users\\iskorpittt\\Desktop\\MY_DATA_SCIENCE\\PROJECTS\\GENERATIVE_AI\\llm_engineering\\week8\\pricer_ephemeral.py\n",
       "<span style=\"color: #808080; text-decoration-color: #808080\">├── </span>🔨 Created mount PythonPackage:llama\n",
       "<span style=\"color: #808080; text-decoration-color: #808080\">├── </span>🔨 Created mount PythonPackage:hello\n",
       "<span style=\"color: #808080; text-decoration-color: #808080\">└── </span>🔨 Created function price.\n",
       "</pre>\n"
      ],
      "text/plain": [
       "\u001b[32m✓\u001b[0m Created objects.\n",
       "\u001b[38;5;244m├── \u001b[0m🔨 Created mount \n",
       "\u001b[38;5;244m│   \u001b[0mc:\\Users\\iskorpittt\\Desktop\\MY_DATA_SCIENCE\\PROJECTS\\GENERATIVE_AI\\llm_engineering\\week8\\pricer_ephemeral.py\n",
       "\u001b[38;5;244m├── \u001b[0m🔨 Created mount PythonPackage:llama\n",
       "\u001b[38;5;244m├── \u001b[0m🔨 Created mount PythonPackage:hello\n",
       "\u001b[38;5;244m└── \u001b[0m🔨 Created function price.\n"
      ]
     },
     "metadata": {},
     "output_type": "display_data"
    },
    {
     "data": {
      "application/vnd.jupyter.widget-view+json": {
       "model_id": "36b9a2b6658c4b8eaba3efa01075d537",
       "version_major": 2,
       "version_minor": 0
      },
      "text/plain": [
       "Output()"
      ]
     },
     "metadata": {},
     "output_type": "display_data"
    },
    {
     "data": {
      "text/html": [
       "<pre style=\"white-space:pre;overflow-x:auto;line-height:normal;font-family:Menlo,'DejaVu Sans Mono',consolas,'Courier New',monospace\"><span style=\"color: #800000; text-decoration-color: #800000\">\n",
       "</span></pre>\n"
      ],
      "text/plain": [
       "\u001b[31m\n",
       "\u001b[0m"
      ]
     },
     "metadata": {},
     "output_type": "display_data"
    },
    {
     "data": {
      "text/html": [
       "<pre style=\"white-space:pre;overflow-x:auto;line-height:normal;font-family:Menlo,'DejaVu Sans Mono',consolas,'Courier New',monospace\"><span style=\"color: #800000; text-decoration-color: #800000\">\u001b[1ADownloading shards:   0%|          | 0/4 [00:00&lt;?, ?it/s]</span></pre>\n"
      ],
      "text/plain": [
       "\u001b[31m\u001b[1ADownloading shards:   0%|          | 0/4 [00:00<?, ?it/s]\u001b[0m"
      ]
     },
     "metadata": {},
     "output_type": "display_data"
    },
    {
     "data": {
      "text/html": [
       "<pre style=\"white-space:pre;overflow-x:auto;line-height:normal;font-family:Menlo,'DejaVu Sans Mono',consolas,'Courier New',monospace\"><span style=\"color: #800000; text-decoration-color: #800000\">\n",
       "</span></pre>\n"
      ],
      "text/plain": [
       "\u001b[31m\n",
       "\u001b[0m"
      ]
     },
     "metadata": {},
     "output_type": "display_data"
    },
    {
     "data": {
      "text/html": [
       "<pre style=\"white-space:pre;overflow-x:auto;line-height:normal;font-family:Menlo,'DejaVu Sans Mono',consolas,'Courier New',monospace\"><span style=\"color: #800000; text-decoration-color: #800000\">\u001b[1ADownloading shards:  25%|██▌       | 1/4 [01:58&lt;05:55, 118.57s/it]</span></pre>\n"
      ],
      "text/plain": [
       "\u001b[31m\u001b[1ADownloading shards:  25%|██▌       | 1/4 [01:58<05:55, 118.57s/it]\u001b[0m"
      ]
     },
     "metadata": {},
     "output_type": "display_data"
    },
    {
     "data": {
      "text/html": [
       "<pre style=\"white-space:pre;overflow-x:auto;line-height:normal;font-family:Menlo,'DejaVu Sans Mono',consolas,'Courier New',monospace\"><span style=\"color: #800000; text-decoration-color: #800000\">\n",
       "</span></pre>\n"
      ],
      "text/plain": [
       "\u001b[31m\n",
       "\u001b[0m"
      ]
     },
     "metadata": {},
     "output_type": "display_data"
    },
    {
     "data": {
      "text/html": [
       "<pre style=\"white-space:pre;overflow-x:auto;line-height:normal;font-family:Menlo,'DejaVu Sans Mono',consolas,'Courier New',monospace\"><span style=\"color: #800000; text-decoration-color: #800000\">\u001b[1ADownloading shards:  50%|█████     | 2/4 [03:57&lt;03:57, 118.56s/it]</span></pre>\n"
      ],
      "text/plain": [
       "\u001b[31m\u001b[1ADownloading shards:  50%|█████     | 2/4 [03:57<03:57, 118.56s/it]\u001b[0m"
      ]
     },
     "metadata": {},
     "output_type": "display_data"
    },
    {
     "data": {
      "text/html": [
       "<pre style=\"white-space:pre;overflow-x:auto;line-height:normal;font-family:Menlo,'DejaVu Sans Mono',consolas,'Courier New',monospace\"><span style=\"color: #800000; text-decoration-color: #800000\">\n",
       "</span></pre>\n"
      ],
      "text/plain": [
       "\u001b[31m\n",
       "\u001b[0m"
      ]
     },
     "metadata": {},
     "output_type": "display_data"
    },
    {
     "data": {
      "text/html": [
       "<pre style=\"white-space:pre;overflow-x:auto;line-height:normal;font-family:Menlo,'DejaVu Sans Mono',consolas,'Courier New',monospace\"><span style=\"color: #800000; text-decoration-color: #800000\">\u001b[1ADownloading shards:  75%|███████▌  | 3/4 [05:54&lt;01:57, 117.91s/it]\n",
       "</span></pre>\n"
      ],
      "text/plain": [
       "\u001b[31m\u001b[1ADownloading shards:  75%|███████▌  | 3/4 [05:54<01:57, 117.91s/it]\n",
       "\u001b[0m"
      ]
     },
     "metadata": {},
     "output_type": "display_data"
    },
    {
     "data": {
      "text/html": [
       "<pre style=\"white-space:pre;overflow-x:auto;line-height:normal;font-family:Menlo,'DejaVu Sans Mono',consolas,'Courier New',monospace\"><span style=\"color: #800000; text-decoration-color: #800000\">\u001b[1ADownloading shards: 100%|██████████| 4/4 [06:22&lt;00:00, 82.65s/it] Downloading shards: 100%|██████████| 4/4 [06:22&lt;00:00, 95.71s/it]\n",
       "</span></pre>\n"
      ],
      "text/plain": [
       "\u001b[31m\u001b[1ADownloading shards: 100%|██████████| 4/4 [06:22<00:00, 82.65s/it] Downloading shards: 100%|██████████| 4/4 [06:22<00:00, 95.71s/it]\n",
       "\u001b[0m"
      ]
     },
     "metadata": {},
     "output_type": "display_data"
    },
    {
     "data": {
      "text/html": [
       "<pre style=\"white-space:pre;overflow-x:auto;line-height:normal;font-family:Menlo,'DejaVu Sans Mono',consolas,'Courier New',monospace\"><span style=\"color: #800000; text-decoration-color: #800000\">\n",
       "</span></pre>\n"
      ],
      "text/plain": [
       "\u001b[31m\n",
       "\u001b[0m"
      ]
     },
     "metadata": {},
     "output_type": "display_data"
    },
    {
     "data": {
      "text/html": [
       "<pre style=\"white-space:pre;overflow-x:auto;line-height:normal;font-family:Menlo,'DejaVu Sans Mono',consolas,'Courier New',monospace\"><span style=\"color: #800000; text-decoration-color: #800000\">\u001b[1ALoading checkpoint shards:   0%|          | 0/4 [00:00&lt;?, ?it/s]</span></pre>\n"
      ],
      "text/plain": [
       "\u001b[31m\u001b[1ALoading checkpoint shards:   0%|          | 0/4 [00:00<?, ?it/s]\u001b[0m"
      ]
     },
     "metadata": {},
     "output_type": "display_data"
    },
    {
     "data": {
      "text/html": [
       "<pre style=\"white-space:pre;overflow-x:auto;line-height:normal;font-family:Menlo,'DejaVu Sans Mono',consolas,'Courier New',monospace\"><span style=\"color: #800000; text-decoration-color: #800000\">\n",
       "</span></pre>\n"
      ],
      "text/plain": [
       "\u001b[31m\n",
       "\u001b[0m"
      ]
     },
     "metadata": {},
     "output_type": "display_data"
    },
    {
     "data": {
      "text/html": [
       "<pre style=\"white-space:pre;overflow-x:auto;line-height:normal;font-family:Menlo,'DejaVu Sans Mono',consolas,'Courier New',monospace\"><span style=\"color: #800000; text-decoration-color: #800000\">\u001b[1ALoading checkpoint shards:  25%|██▌       | 1/4 [00:06&lt;00:19,  6.60s/it]\n",
       "</span></pre>\n"
      ],
      "text/plain": [
       "\u001b[31m\u001b[1ALoading checkpoint shards:  25%|██▌       | 1/4 [00:06<00:19,  6.60s/it]\n",
       "\u001b[0m"
      ]
     },
     "metadata": {},
     "output_type": "display_data"
    },
    {
     "data": {
      "text/html": [
       "<pre style=\"white-space:pre;overflow-x:auto;line-height:normal;font-family:Menlo,'DejaVu Sans Mono',consolas,'Courier New',monospace\"><span style=\"color: #800000; text-decoration-color: #800000\">\u001b[1ALoading checkpoint shards:  50%|█████     | 2/4 [00:12&lt;00:12,  6.44s/it]\n",
       "</span></pre>\n"
      ],
      "text/plain": [
       "\u001b[31m\u001b[1ALoading checkpoint shards:  50%|█████     | 2/4 [00:12<00:12,  6.44s/it]\n",
       "\u001b[0m"
      ]
     },
     "metadata": {},
     "output_type": "display_data"
    },
    {
     "data": {
      "text/html": [
       "<pre style=\"white-space:pre;overflow-x:auto;line-height:normal;font-family:Menlo,'DejaVu Sans Mono',consolas,'Courier New',monospace\"><span style=\"color: #800000; text-decoration-color: #800000\">\u001b[1ALoading checkpoint shards:  75%|███████▌  | 3/4 [00:18&lt;00:06,  6.24s/it]\n",
       "</span></pre>\n"
      ],
      "text/plain": [
       "\u001b[31m\u001b[1ALoading checkpoint shards:  75%|███████▌  | 3/4 [00:18<00:06,  6.24s/it]\n",
       "\u001b[0m"
      ]
     },
     "metadata": {},
     "output_type": "display_data"
    },
    {
     "data": {
      "text/html": [
       "<pre style=\"white-space:pre;overflow-x:auto;line-height:normal;font-family:Menlo,'DejaVu Sans Mono',consolas,'Courier New',monospace\"><span style=\"color: #800000; text-decoration-color: #800000\">\u001b[1ALoading checkpoint shards: 100%|██████████| 4/4 [00:20&lt;00:00,  4.29s/it]Loading checkpoint shards: 100%|██████████| 4/4 [00:20&lt;00:00,  5.06s/it]\n",
       "</span></pre>\n"
      ],
      "text/plain": [
       "\u001b[31m\u001b[1ALoading checkpoint shards: 100%|██████████| 4/4 [00:20<00:00,  4.29s/it]Loading checkpoint shards: 100%|██████████| 4/4 [00:20<00:00,  5.06s/it]\n",
       "\u001b[0m"
      ]
     },
     "metadata": {},
     "output_type": "display_data"
    },
    {
     "data": {
      "text/html": [
       "<pre style=\"white-space:pre;overflow-x:auto;line-height:normal;font-family:Menlo,'DejaVu Sans Mono',consolas,'Courier New',monospace\"><span style=\"color: #800000; text-decoration-color: #800000\">Setting `pad_token_id` to `eos_token_id`:128001 for open-end generation.\n",
       "</span></pre>\n"
      ],
      "text/plain": [
       "\u001b[31mSetting `pad_token_id` to `eos_token_id`:128001 for open-end generation.\n",
       "\u001b[0m"
      ]
     },
     "metadata": {},
     "output_type": "display_data"
    },
    {
     "data": {
      "text/html": [
       "<pre style=\"white-space:pre;overflow-x:auto;line-height:normal;font-family:Menlo,'DejaVu Sans Mono',consolas,'Courier New',monospace\"></pre>\n"
      ],
      "text/plain": []
     },
     "metadata": {},
     "output_type": "display_data"
    },
    {
     "data": {
      "text/html": [
       "<pre style=\"white-space:pre;overflow-x:auto;line-height:normal;font-family:Menlo,'DejaVu Sans Mono',consolas,'Courier New',monospace\"><span style=\"color: #808000; text-decoration-color: #808000\">Stopping app - local entrypoint completed.\n",
       "</span></pre>\n"
      ],
      "text/plain": [
       "\u001b[33mStopping app - local entrypoint completed.\n",
       "\u001b[0m"
      ]
     },
     "metadata": {},
     "output_type": "display_data"
    },
    {
     "data": {
      "text/html": [
       "<pre style=\"white-space:pre;overflow-x:auto;line-height:normal;font-family:Menlo,'DejaVu Sans Mono',consolas,'Courier New',monospace\"><span style=\"color: #008000; text-decoration-color: #008000\">✓</span> App completed. <span style=\"color: #b2b2b2; text-decoration-color: #b2b2b2\">View run at </span><span style=\"color: #b2b2b2; text-decoration-color: #b2b2b2; text-decoration: underline\">https://modal.com/apps/kanitvural/main/ap-pcM2SCM6ePsgQVDulKxEUQ</span>\n",
       "</pre>\n"
      ],
      "text/plain": [
       "\u001b[32m✓\u001b[0m App completed. \u001b[38;5;249mView run at \u001b[0m\u001b[4;38;5;249mhttps://modal.com/apps/kanitvural/main/ap-pcM2SCM6ePsgQVDulKxEUQ\u001b[0m\n"
      ]
     },
     "metadata": {},
     "output_type": "display_data"
    },
    {
     "data": {
      "text/plain": [
       "133.0"
      ]
     },
     "execution_count": 8,
     "metadata": {},
     "output_type": "execute_result"
    }
   ],
   "source": [
    "with modal.enable_output():\n",
    "    with app.run():\n",
    "        result=price.remote(\"Quadcast HyperX condenser mic, connects via usb-c to your computer for crystal clear audio\")\n",
    "result"
   ]
  },
  {
   "cell_type": "markdown",
   "id": "04d8747f-8452-4077-8af6-27e03888508a",
   "metadata": {},
   "source": [
    "## Transitioning From Ephemeral Apps to Deployed Apps\n",
    "\n",
    "From a command line, `modal deploy xxx` will deploy your code as a Deployed App\n",
    "\n",
    "This is how you could package your AI service behind an API to be used in a Production System.\n",
    "\n",
    "You can also build REST endpoints easily, although we won't cover that as we'll be calling direct from Python.\n",
    "\n",
    "## Important note for Windows people:\n",
    "\n",
    "On the next line, I call `modal deploy` from within Jupyter lab; I've heard that on some versions of Windows this gives a strange unicode error because modal prints emojis to the output which can't be displayed. If that happens to you, simply use an Anaconda Prompt window or a Powershell instead, with your environment activated, and type `modal deploy pricer_service` there. Follow the same approach the next time we do `!modal deploy` too.\n",
    "\n",
    "As an alternative, a few students have mentioned you can run this code within Jupyter Lab if you want to run it from here:\n",
    "```\n",
    "# Check the default encoding\n",
    "print(locale.getpreferredencoding())  # Should print 'UTF-8'\n",
    "\n",
    "# Ensure UTF-8 encoding\n",
    "os.environ['PYTHONIOENCODING'] = 'utf-8'\n",
    "```"
   ]
  },
  {
   "cell_type": "code",
   "execution_count": 13,
   "id": "7f90d857-2f12-4521-bb90-28efd917f7d1",
   "metadata": {},
   "outputs": [
    {
     "name": "stdout",
     "output_type": "stream",
     "text": [
      "- Creating objects...\n",
      "| Creating objects...\n",
      "- Creating objects...\n",
      "└── - Creating mount \n",
      "    c:\\Users\\iskorpittt\\Desktop\\MY_DATA_SCIENCE\\PROJECTS\\GENERATIVE_AI\\llm_engi\n",
      "    neering\\week8\\pricer_service.py: Uploaded 0/1 files\n",
      "| Creating objects...\n",
      "└── \\ Creating mount \n",
      "    c:\\Users\\iskorpittt\\Desktop\\MY_DATA_SCIENCE\\PROJECTS\\GENERATIVE_AI\\llm_engi\n",
      "    neering\\week8\\pricer_service.py: Finalizing index of 1 files\n",
      "- Creating objects...\n",
      "├── 🔨 Created mount \n",
      "│   c:\\Users\\iskorpittt\\Desktop\\MY_DATA_SCIENCE\\PROJECTS\\GENERATIVE_AI\\llm_engi\n",
      "│   neering\\week8\\pricer_service.py\n",
      "└── - Creating function price...\n",
      "| Creating objects...\n",
      "├── 🔨 Created mount \n",
      "│   c:\\Users\\iskorpittt\\Desktop\\MY_DATA_SCIENCE\\PROJECTS\\GENERATIVE_AI\\llm_engi\n",
      "│   neering\\week8\\pricer_service.py\n",
      "└── | Creating function price...\n",
      "| Creating objects...\n",
      "├── 🔨 Created mount \n",
      "│   c:\\Users\\iskorpittt\\Desktop\\MY_DATA_SCIENCE\\PROJECTS\\GENERATIVE_AI\\llm_engi\n",
      "│   neering\\week8\\pricer_service.py\n",
      "└── 🔨 Created function price.\n",
      "\n",
      "✓ Created objects.\n",
      "├── 🔨 Created mount \n",
      "│   c:\\Users\\iskorpittt\\Desktop\\MY_DATA_SCIENCE\\PROJECTS\\GENERATIVE_AI\\llm_engi\n",
      "│   neering\\week8\\pricer_service.py\n",
      "└── 🔨 Created function price.\n",
      "✓ App deployed in 2.428s! 🎉\n",
      "\n",
      "View Deployment: https://modal.com/apps/kanitvural/main/deployed/pricer-service\n"
     ]
    }
   ],
   "source": [
    "!modal deploy pricer_service"
   ]
  },
  {
   "cell_type": "code",
   "execution_count": 15,
   "id": "1dec70ff-1986-4405-8624-9bbbe0ce1f4a",
   "metadata": {},
   "outputs": [],
   "source": [
    "pricer = modal.Function.lookup(\"pricer-service\", \"price\")"
   ]
  },
  {
   "cell_type": "code",
   "execution_count": 19,
   "id": "17776139-0d9e-4ad0-bcd0-82d3a92ca61f",
   "metadata": {},
   "outputs": [
    {
     "ename": "KeyboardInterrupt",
     "evalue": "",
     "output_type": "error",
     "traceback": [
      "\u001b[1;31m---------------------------------------------------------------------------\u001b[0m",
      "\u001b[1;31mCancelledError\u001b[0m                            Traceback (most recent call last)",
      "File \u001b[1;32mc:\\Users\\iskorpittt\\Desktop\\MY_DATA_SCIENCE\\PROJECTS\\GENERATIVE_AI\\llm_engineering\\venv\\Lib\\site-packages\\synchronicity\\synchronizer.py:336\u001b[0m, in \u001b[0;36mSynchronizer._run_function_sync\u001b[1;34m(self, coro, original_func)\u001b[0m\n\u001b[0;32m    335\u001b[0m \u001b[38;5;28;01mtry\u001b[39;00m:\n\u001b[1;32m--> 336\u001b[0m     value \u001b[38;5;241m=\u001b[39m \u001b[43mfut\u001b[49m\u001b[38;5;241;43m.\u001b[39;49m\u001b[43mresult\u001b[49m\u001b[43m(\u001b[49m\u001b[43m)\u001b[49m\n\u001b[0;32m    337\u001b[0m \u001b[38;5;28;01mexcept\u001b[39;00m concurrent\u001b[38;5;241m.\u001b[39mfutures\u001b[38;5;241m.\u001b[39mCancelledError \u001b[38;5;28;01mas\u001b[39;00m expected_cancellation:\n\u001b[0;32m    338\u001b[0m     \u001b[38;5;66;03m# we *expect* this cancellation, but defer to the passed coro to potentially\u001b[39;00m\n\u001b[0;32m    339\u001b[0m     \u001b[38;5;66;03m# intercept and treat the cancellation some other way\u001b[39;00m\n",
      "File \u001b[1;32mC:\\Program Files\\Python312\\Lib\\concurrent\\futures\\_base.py:454\u001b[0m, in \u001b[0;36mFuture.result\u001b[1;34m(self, timeout)\u001b[0m\n\u001b[0;32m    453\u001b[0m \u001b[38;5;28;01mif\u001b[39;00m \u001b[38;5;28mself\u001b[39m\u001b[38;5;241m.\u001b[39m_state \u001b[38;5;129;01min\u001b[39;00m [CANCELLED, CANCELLED_AND_NOTIFIED]:\n\u001b[1;32m--> 454\u001b[0m     \u001b[38;5;28;01mraise\u001b[39;00m CancelledError()\n\u001b[0;32m    455\u001b[0m \u001b[38;5;28;01melif\u001b[39;00m \u001b[38;5;28mself\u001b[39m\u001b[38;5;241m.\u001b[39m_state \u001b[38;5;241m==\u001b[39m FINISHED:\n",
      "\u001b[1;31mCancelledError\u001b[0m: ",
      "\nDuring handling of the above exception, another exception occurred:\n",
      "\u001b[1;31mKeyboardInterrupt\u001b[0m                         Traceback (most recent call last)",
      "Cell \u001b[1;32mIn[19], line 1\u001b[0m\n\u001b[1;32m----> 1\u001b[0m \u001b[43mpricer\u001b[49m\u001b[38;5;241;43m.\u001b[39;49m\u001b[43mremote\u001b[49m\u001b[43m(\u001b[49m\u001b[38;5;124;43m\"\u001b[39;49m\u001b[38;5;124;43mQuadcast HyperX condenser mic, connects via usb-c to your computer for crystal clear audio\u001b[39;49m\u001b[38;5;124;43m\"\u001b[39;49m\u001b[43m)\u001b[49m\n",
      "File \u001b[1;32mc:\\Users\\iskorpittt\\Desktop\\MY_DATA_SCIENCE\\PROJECTS\\GENERATIVE_AI\\llm_engineering\\venv\\Lib\\site-packages\\synchronicity\\synchronizer.py:592\u001b[0m, in \u001b[0;36mSynchronizer._wrap_proxy_method.<locals>.proxy_method\u001b[1;34m(self, *args, **kwargs)\u001b[0m\n\u001b[0;32m    590\u001b[0m instance \u001b[38;5;241m=\u001b[39m \u001b[38;5;28mself\u001b[39m\u001b[38;5;241m.\u001b[39m\u001b[38;5;18m__dict__\u001b[39m[synchronizer_self\u001b[38;5;241m.\u001b[39m_original_attr]\n\u001b[0;32m    591\u001b[0m \u001b[38;5;28;01mtry\u001b[39;00m:\n\u001b[1;32m--> 592\u001b[0m     \u001b[38;5;28;01mreturn\u001b[39;00m \u001b[43mwrapped_method\u001b[49m\u001b[43m(\u001b[49m\u001b[43minstance\u001b[49m\u001b[43m,\u001b[49m\u001b[43m \u001b[49m\u001b[38;5;241;43m*\u001b[39;49m\u001b[43margs\u001b[49m\u001b[43m,\u001b[49m\u001b[43m \u001b[49m\u001b[38;5;241;43m*\u001b[39;49m\u001b[38;5;241;43m*\u001b[39;49m\u001b[43mkwargs\u001b[49m\u001b[43m)\u001b[49m\n\u001b[0;32m    593\u001b[0m \u001b[38;5;28;01mexcept\u001b[39;00m UserCodeException \u001b[38;5;28;01mas\u001b[39;00m uc_exc:\n\u001b[0;32m    594\u001b[0m     uc_exc\u001b[38;5;241m.\u001b[39mexc\u001b[38;5;241m.\u001b[39m__suppress_context__ \u001b[38;5;241m=\u001b[39m \u001b[38;5;28;01mTrue\u001b[39;00m\n",
      "File \u001b[1;32mc:\\Users\\iskorpittt\\Desktop\\MY_DATA_SCIENCE\\PROJECTS\\GENERATIVE_AI\\llm_engineering\\venv\\Lib\\site-packages\\synchronicity\\combined_types.py:26\u001b[0m, in \u001b[0;36mFunctionWithAio.__call__\u001b[1;34m(self, *args, **kwargs)\u001b[0m\n\u001b[0;32m     20\u001b[0m \u001b[38;5;28;01mdef\u001b[39;00m\u001b[38;5;250m \u001b[39m\u001b[38;5;21m__call__\u001b[39m(\u001b[38;5;28mself\u001b[39m, \u001b[38;5;241m*\u001b[39margs, \u001b[38;5;241m*\u001b[39m\u001b[38;5;241m*\u001b[39mkwargs):\n\u001b[0;32m     21\u001b[0m     \u001b[38;5;66;03m# .__call__ is special - it's being looked up on the class instead of the instance when calling something,\u001b[39;00m\n\u001b[0;32m     22\u001b[0m     \u001b[38;5;66;03m# so setting the magic method from the constructor is not possible\u001b[39;00m\n\u001b[0;32m     23\u001b[0m     \u001b[38;5;66;03m# https://stackoverflow.com/questions/22390532/object-is-not-callable-after-adding-call-method-to-instance\u001b[39;00m\n\u001b[0;32m     24\u001b[0m     \u001b[38;5;66;03m# so we need to use an explicit wrapper function here\u001b[39;00m\n\u001b[0;32m     25\u001b[0m     \u001b[38;5;28;01mtry\u001b[39;00m:\n\u001b[1;32m---> 26\u001b[0m         \u001b[38;5;28;01mreturn\u001b[39;00m \u001b[38;5;28;43mself\u001b[39;49m\u001b[38;5;241;43m.\u001b[39;49m\u001b[43m_func\u001b[49m\u001b[43m(\u001b[49m\u001b[38;5;241;43m*\u001b[39;49m\u001b[43margs\u001b[49m\u001b[43m,\u001b[49m\u001b[43m \u001b[49m\u001b[38;5;241;43m*\u001b[39;49m\u001b[38;5;241;43m*\u001b[39;49m\u001b[43mkwargs\u001b[49m\u001b[43m)\u001b[49m\n\u001b[0;32m     27\u001b[0m     \u001b[38;5;28;01mexcept\u001b[39;00m UserCodeException \u001b[38;5;28;01mas\u001b[39;00m uc_exc:\n\u001b[0;32m     28\u001b[0m         uc_exc\u001b[38;5;241m.\u001b[39mexc\u001b[38;5;241m.\u001b[39m__suppress_context__ \u001b[38;5;241m=\u001b[39m \u001b[38;5;28;01mTrue\u001b[39;00m\n",
      "File \u001b[1;32mc:\\Users\\iskorpittt\\Desktop\\MY_DATA_SCIENCE\\PROJECTS\\GENERATIVE_AI\\llm_engineering\\venv\\Lib\\site-packages\\synchronicity\\synchronizer.py:510\u001b[0m, in \u001b[0;36mSynchronizer._wrap_callable.<locals>.f_wrapped\u001b[1;34m(*args, **kwargs)\u001b[0m\n\u001b[0;32m    507\u001b[0m \u001b[38;5;28;01melif\u001b[39;00m interface \u001b[38;5;241m==\u001b[39m Interface\u001b[38;5;241m.\u001b[39mBLOCKING:\n\u001b[0;32m    508\u001b[0m     \u001b[38;5;66;03m# This is the exit point, so we need to unwrap the exception here\u001b[39;00m\n\u001b[0;32m    509\u001b[0m     \u001b[38;5;28;01mtry\u001b[39;00m:\n\u001b[1;32m--> 510\u001b[0m         \u001b[38;5;28;01mreturn\u001b[39;00m \u001b[38;5;28;43mself\u001b[39;49m\u001b[38;5;241;43m.\u001b[39;49m\u001b[43m_run_function_sync\u001b[49m\u001b[43m(\u001b[49m\u001b[43mres\u001b[49m\u001b[43m,\u001b[49m\u001b[43m \u001b[49m\u001b[43mf\u001b[49m\u001b[43m)\u001b[49m\n\u001b[0;32m    511\u001b[0m     \u001b[38;5;28;01mexcept\u001b[39;00m \u001b[38;5;167;01mStopAsyncIteration\u001b[39;00m:\n\u001b[0;32m    512\u001b[0m         \u001b[38;5;66;03m# this is a special case for handling __next__ wrappers around\u001b[39;00m\n\u001b[0;32m    513\u001b[0m         \u001b[38;5;66;03m# __anext__ that raises StopAsyncIteration\u001b[39;00m\n\u001b[0;32m    514\u001b[0m         \u001b[38;5;28;01mraise\u001b[39;00m \u001b[38;5;167;01mStopIteration\u001b[39;00m()\n",
      "File \u001b[1;32mc:\\Users\\iskorpittt\\Desktop\\MY_DATA_SCIENCE\\PROJECTS\\GENERATIVE_AI\\llm_engineering\\venv\\Lib\\site-packages\\synchronicity\\synchronizer.py:341\u001b[0m, in \u001b[0;36mSynchronizer._run_function_sync\u001b[1;34m(self, coro, original_func)\u001b[0m\n\u001b[0;32m    337\u001b[0m     \u001b[38;5;28;01mexcept\u001b[39;00m concurrent\u001b[38;5;241m.\u001b[39mfutures\u001b[38;5;241m.\u001b[39mCancelledError \u001b[38;5;28;01mas\u001b[39;00m expected_cancellation:\n\u001b[0;32m    338\u001b[0m         \u001b[38;5;66;03m# we *expect* this cancellation, but defer to the passed coro to potentially\u001b[39;00m\n\u001b[0;32m    339\u001b[0m         \u001b[38;5;66;03m# intercept and treat the cancellation some other way\u001b[39;00m\n\u001b[0;32m    340\u001b[0m         expected_cancellation\u001b[38;5;241m.\u001b[39m__suppress_context__ \u001b[38;5;241m=\u001b[39m \u001b[38;5;28;01mTrue\u001b[39;00m\n\u001b[1;32m--> 341\u001b[0m         \u001b[38;5;28;01mraise\u001b[39;00m exc  \u001b[38;5;66;03m# if cancel - re-raise the original KeyboardInterrupt again\u001b[39;00m\n\u001b[0;32m    343\u001b[0m \u001b[38;5;28;01mif\u001b[39;00m \u001b[38;5;28mgetattr\u001b[39m(original_func, \u001b[38;5;28mself\u001b[39m\u001b[38;5;241m.\u001b[39m_output_translation_attr, \u001b[38;5;28;01mTrue\u001b[39;00m):\n\u001b[0;32m    344\u001b[0m     \u001b[38;5;28;01mreturn\u001b[39;00m \u001b[38;5;28mself\u001b[39m\u001b[38;5;241m.\u001b[39m_translate_out(value)\n",
      "File \u001b[1;32mc:\\Users\\iskorpittt\\Desktop\\MY_DATA_SCIENCE\\PROJECTS\\GENERATIVE_AI\\llm_engineering\\venv\\Lib\\site-packages\\synchronicity\\synchronizer.py:325\u001b[0m, in \u001b[0;36mSynchronizer._run_function_sync\u001b[1;34m(self, coro, original_func)\u001b[0m\n\u001b[0;32m    321\u001b[0m \u001b[38;5;28;01mwhile\u001b[39;00m \u001b[38;5;241m1\u001b[39m:\n\u001b[0;32m    322\u001b[0m     \u001b[38;5;28;01mtry\u001b[39;00m:\n\u001b[0;32m    323\u001b[0m         \u001b[38;5;66;03m# poll every second to give Windows a chance to abort on Ctrl-C\u001b[39;00m\n\u001b[0;32m    324\u001b[0m         \u001b[38;5;66;03m#\u001b[39;00m\n\u001b[1;32m--> 325\u001b[0m         value \u001b[38;5;241m=\u001b[39m \u001b[43mfut\u001b[49m\u001b[38;5;241;43m.\u001b[39;49m\u001b[43mresult\u001b[49m\u001b[43m(\u001b[49m\u001b[43mtimeout\u001b[49m\u001b[38;5;241;43m=\u001b[39;49m\u001b[38;5;241;43m0.1\u001b[39;49m\u001b[43m)\u001b[49m\n\u001b[0;32m    326\u001b[0m         \u001b[38;5;28;01mbreak\u001b[39;00m\n\u001b[0;32m    327\u001b[0m     \u001b[38;5;28;01mexcept\u001b[39;00m concurrent\u001b[38;5;241m.\u001b[39mfutures\u001b[38;5;241m.\u001b[39mTimeoutError:\n",
      "File \u001b[1;32mC:\\Program Files\\Python312\\Lib\\concurrent\\futures\\_base.py:451\u001b[0m, in \u001b[0;36mFuture.result\u001b[1;34m(self, timeout)\u001b[0m\n\u001b[0;32m    448\u001b[0m \u001b[38;5;28;01melif\u001b[39;00m \u001b[38;5;28mself\u001b[39m\u001b[38;5;241m.\u001b[39m_state \u001b[38;5;241m==\u001b[39m FINISHED:\n\u001b[0;32m    449\u001b[0m     \u001b[38;5;28;01mreturn\u001b[39;00m \u001b[38;5;28mself\u001b[39m\u001b[38;5;241m.\u001b[39m__get_result()\n\u001b[1;32m--> 451\u001b[0m \u001b[38;5;28;43mself\u001b[39;49m\u001b[38;5;241;43m.\u001b[39;49m\u001b[43m_condition\u001b[49m\u001b[38;5;241;43m.\u001b[39;49m\u001b[43mwait\u001b[49m\u001b[43m(\u001b[49m\u001b[43mtimeout\u001b[49m\u001b[43m)\u001b[49m\n\u001b[0;32m    453\u001b[0m \u001b[38;5;28;01mif\u001b[39;00m \u001b[38;5;28mself\u001b[39m\u001b[38;5;241m.\u001b[39m_state \u001b[38;5;129;01min\u001b[39;00m [CANCELLED, CANCELLED_AND_NOTIFIED]:\n\u001b[0;32m    454\u001b[0m     \u001b[38;5;28;01mraise\u001b[39;00m CancelledError()\n",
      "File \u001b[1;32mC:\\Program Files\\Python312\\Lib\\threading.py:359\u001b[0m, in \u001b[0;36mCondition.wait\u001b[1;34m(self, timeout)\u001b[0m\n\u001b[0;32m    357\u001b[0m \u001b[38;5;28;01melse\u001b[39;00m:\n\u001b[0;32m    358\u001b[0m     \u001b[38;5;28;01mif\u001b[39;00m timeout \u001b[38;5;241m>\u001b[39m \u001b[38;5;241m0\u001b[39m:\n\u001b[1;32m--> 359\u001b[0m         gotit \u001b[38;5;241m=\u001b[39m \u001b[43mwaiter\u001b[49m\u001b[38;5;241;43m.\u001b[39;49m\u001b[43macquire\u001b[49m\u001b[43m(\u001b[49m\u001b[38;5;28;43;01mTrue\u001b[39;49;00m\u001b[43m,\u001b[49m\u001b[43m \u001b[49m\u001b[43mtimeout\u001b[49m\u001b[43m)\u001b[49m\n\u001b[0;32m    360\u001b[0m     \u001b[38;5;28;01melse\u001b[39;00m:\n\u001b[0;32m    361\u001b[0m         gotit \u001b[38;5;241m=\u001b[39m waiter\u001b[38;5;241m.\u001b[39macquire(\u001b[38;5;28;01mFalse\u001b[39;00m)\n",
      "\u001b[1;31mKeyboardInterrupt\u001b[0m: "
     ]
    }
   ],
   "source": [
    "pricer.remote(\"Quadcast HyperX condenser mic, connects via usb-c to your computer for crystal clear audio\")"
   ]
  },
  {
   "cell_type": "code",
   "execution_count": 17,
   "id": "f56d1e55-2a03-4ce2-bb47-2ab6b9175a02",
   "metadata": {},
   "outputs": [
    {
     "name": "stdout",
     "output_type": "stream",
     "text": [
      "^C\n"
     ]
    },
    {
     "name": "stdout",
     "output_type": "stream",
     "text": [
      "- Creating objects...\n",
      "| Creating objects...\n",
      "- Creating objects...\n",
      "└── - Creating mount \n",
      "    c:\\Users\\iskorpittt\\Desktop\\MY_DATA_SCIENCE\\PROJECTS\\GENERATIVE_AI\\llm_engi\n",
      "    neering\\week8\\pricer_service2.py: Uploaded 0/1 files\n",
      "| Creating objects...\n",
      "└── | Creating mount \n",
      "    c:\\Users\\iskorpittt\\Desktop\\MY_DATA_SCIENCE\\PROJECTS\\GENERATIVE_AI\\llm_engi\n",
      "    neering\\week8\\pricer_service2.py: Uploaded 0/1 files\n",
      "- Creating objects...\n",
      "└── / Creating mount \n",
      "    c:\\Users\\iskorpittt\\Desktop\\MY_DATA_SCIENCE\\PROJECTS\\GENERATIVE_AI\\llm_engi\n",
      "    neering\\week8\\pricer_service2.py: Finalizing index of 1 files\n",
      "Building image im-diq5EriBLFZKHfax2EViTj\n",
      "\\ Creating objects...\n",
      "└── 🔨 Created mount c:\\Users\\iskorpittt\\Desktop\\MY_DATA_SCIENCE\\PROJECTS\\GENER\n",
      "\n",
      "=> Step 0: FROM base\n",
      "\\ Creating objects...\n",
      "└── 🔨 Created mount c:\\Users\\iskorpittt\\Desktop\\MY_DATA_SCIENCE\\PROJECTS\\GENER\n",
      "\n",
      "=> Step 1: RUN python -m pip install accelerate bitsandbytes huggingface peft torch transformers\n",
      "\\ Creating objects...\n",
      "└── 🔨 Created mount c:\\Users\\iskorpittt\\Desktop\\MY_DATA_SCIENCE\\PROJECTS\\GENER\n",
      "| Creating objects...\n",
      "└── 🔨 Created mount \n",
      "    c:\\Users\\iskorpittt\\Desktop\\MY_DATA_SCIENCE\\PROJECTS\\GENERATIVE_AI\\llm_engi\n",
      "    neering\\week8\\pricer_service2.py\n",
      "- Creating objects...\n",
      "└── 🔨 Created mount \n",
      "    c:\\Users\\iskorpittt\\Desktop\\MY_DATA_SCIENCE\\PROJECTS\\GENERATIVE_AI\\llm_engi\n",
      "    neering\\week8\\pricer_service2.py\n",
      "| Creating objects...\n",
      "└── 🔨 Created mount \n",
      "    c:\\Users\\iskorpittt\\Desktop\\MY_DATA_SCIENCE\\PROJECTS\\GENERATIVE_AI\\llm_engi\n",
      "    neering\\week8\\pricer_service2.py\n",
      "- Creating objects...\n",
      "└── 🔨 Created mount \n",
      "    c:\\Users\\iskorpittt\\Desktop\\MY_DATA_SCIENCE\\PROJECTS\\GENERATIVE_AI\\llm_engi\n",
      "    neering\\week8\\pricer_service2.py\n",
      "Looking in indexes: http://pypi-mirror.modal.local:5555/simple\n",
      "\\ Creating objects...\n",
      "└── 🔨 Created mount c:\\Users\\iskorpittt\\Desktop\\MY_DATA_SCIENCE\\PROJECTS\\GENER\n",
      "Collecting accelerate\n",
      "| Creating objects...\n",
      "└── 🔨 Created mount c:\\Users\\iskorpittt\\Desktop\\MY_DATA_SCIENCE\\PROJECTS\\GENER\n",
      "  Downloading http://pypi-mirror.modal.local:5555/simple/accelerate/accelerate-1.3.0-py3-none-any.whl.metadata (19 kB)\n",
      "| Creating objects...\n",
      "└── 🔨 Created mount c:\\Users\\iskorpittt\\Desktop\\MY_DATA_SCIENCE\\PROJECTS\\GENER\n",
      "| Creating objects...\n",
      "└── 🔨 Created mount \n",
      "    c:\\Users\\iskorpittt\\Desktop\\MY_DATA_SCIENCE\\PROJECTS\\GENERATIVE_AI\\llm_engi\n",
      "    neering\\week8\\pricer_service2.py\n",
      "Collecting bitsandbytes\n",
      "| Creating objects...\n",
      "└── 🔨 Created mount c:\\Users\\iskorpittt\\Desktop\\MY_DATA_SCIENCE\\PROJECTS\\GENER\n",
      "  Downloading http://pypi-mirror.modal.local:5555/simple/bitsandbytes/bitsandbytes-0.45.1-py3-none-manylinux_2_24_x86_64.whl.metadata (5.8 kB)\n",
      "| Creating objects...\n",
      "└── 🔨 Created mount c:\\Users\\iskorpittt\\Desktop\\MY_DATA_SCIENCE\\PROJECTS\\GENER\n",
      "Collecting huggingface\n",
      "| Creating objects...\n",
      "└── 🔨 Created mount c:\\Users\\iskorpittt\\Desktop\\MY_DATA_SCIENCE\\PROJECTS\\GENER\n",
      "  Downloading http://pypi-mirror.modal.local:5555/simple/huggingface/huggingface-0.0.1-py3-none-any.whl.metadata (2.9 kB)\n",
      "| Creating objects...\n",
      "└── 🔨 Created mount c:\\Users\\iskorpittt\\Desktop\\MY_DATA_SCIENCE\\PROJECTS\\GENER\n",
      "Collecting peft\n",
      "| Creating objects...\n",
      "└── 🔨 Created mount c:\\Users\\iskorpittt\\Desktop\\MY_DATA_SCIENCE\\PROJECTS\\GENER\n",
      "  Downloading http://pypi-mirror.modal.local:5555/simple/peft/peft-0.14.0-py3-none-any.whl.metadata (13 kB)\n",
      "| Creating objects...\n",
      "└── 🔨 Created mount c:\\Users\\iskorpittt\\Desktop\\MY_DATA_SCIENCE\\PROJECTS\\GENER\n",
      "Collecting torch\n",
      "| Creating objects...\n",
      "└── 🔨 Created mount c:\\Users\\iskorpittt\\Desktop\\MY_DATA_SCIENCE\\PROJECTS\\GENER\n",
      "  Downloading http://pypi-mirror.modal.local:5555/simple/torch/torch-2.6.0-cp312-cp312-manylinux1_x86_64.whl.metadata (28 kB)\n",
      "/ Creating objects...\n",
      "└── 🔨 Created mount c:\\Users\\iskorpittt\\Desktop\\MY_DATA_SCIENCE\\PROJECTS\\GENER\n",
      "Collecting transformers\n",
      "/ Creating objects...\n",
      "└── 🔨 Created mount c:\\Users\\iskorpittt\\Desktop\\MY_DATA_SCIENCE\\PROJECTS\\GENER\n",
      "  Downloading http://pypi-mirror.modal.local:5555/simple/transformers/transformers-4.48.2-py3-none-any.whl.metadata (44 kB)\n",
      "/ Creating objects...\n",
      "└── 🔨 Created mount c:\\Users\\iskorpittt\\Desktop\\MY_DATA_SCIENCE\\PROJECTS\\GENER\n",
      "- Creating objects...\n",
      "└── 🔨 Created mount \n",
      "    c:\\Users\\iskorpittt\\Desktop\\MY_DATA_SCIENCE\\PROJECTS\\GENERATIVE_AI\\llm_engi\n",
      "    neering\\week8\\pricer_service2.py\n",
      "| Creating objects...\n",
      "└── 🔨 Created mount \n",
      "    c:\\Users\\iskorpittt\\Desktop\\MY_DATA_SCIENCE\\PROJECTS\\GENERATIVE_AI\\llm_engi\n",
      "    neering\\week8\\pricer_service2.py\n",
      "Collecting numpy<3.0.0,>=1.17 (from accelerate)\n",
      "| Creating objects...\n",
      "└── 🔨 Created mount c:\\Users\\iskorpittt\\Desktop\\MY_DATA_SCIENCE\\PROJECTS\\GENER\n",
      "  Downloading http://pypi-mirror.modal.local:5555/simple/numpy/numpy-2.2.2-cp312-cp312-manylinux_2_17_x86_64.manylinux2014_x86_64.whl.metadata (62 kB)\n",
      "/ Creating objects...\n",
      "└── 🔨 Created mount c:\\Users\\iskorpittt\\Desktop\\MY_DATA_SCIENCE\\PROJECTS\\GENER\n",
      "Collecting packaging>=20.0 (from accelerate)\n",
      "/ Creating objects...\n",
      "└── 🔨 Created mount c:\\Users\\iskorpittt\\Desktop\\MY_DATA_SCIENCE\\PROJECTS\\GENER\n",
      "  Downloading http://pypi-mirror.modal.local:5555/simple/packaging/packaging-24.2-py3-none-any.whl.metadata (3.2 kB)\n",
      "/ Creating objects...\n",
      "└── 🔨 Created mount c:\\Users\\iskorpittt\\Desktop\\MY_DATA_SCIENCE\\PROJECTS\\GENER\n",
      "Collecting psutil (from accelerate)\n",
      "/ Creating objects...\n",
      "└── 🔨 Created mount c:\\Users\\iskorpittt\\Desktop\\MY_DATA_SCIENCE\\PROJECTS\\GENER\n",
      "  Downloading http://pypi-mirror.modal.local:5555/simple/psutil/psutil-6.1.1-cp36-abi3-manylinux_2_12_x86_64.manylinux2010_x86_64.manylinux_2_17_x86_64.manylinux2014_x86_64.whl.metadata (22 kB)\n",
      "/ Creating objects...\n",
      "└── 🔨 Created mount c:\\Users\\iskorpittt\\Desktop\\MY_DATA_SCIENCE\\PROJECTS\\GENER\n",
      "Collecting pyyaml (from accelerate)\n",
      "- Creating objects...\n",
      "└── 🔨 Created mount c:\\Users\\iskorpittt\\Desktop\\MY_DATA_SCIENCE\\PROJECTS\\GENER\n",
      "- Creating objects...\n",
      "└── 🔨 Created mount \n",
      "    c:\\Users\\iskorpittt\\Desktop\\MY_DATA_SCIENCE\\PROJECTS\\GENERATIVE_AI\\llm_engi\n",
      "    neering\\week8\\pricer_service2.py\n",
      "  Downloading http://pypi-mirror.modal.local:5555/simple/pyyaml/PyYAML-6.0.2-cp312-cp312-manylinux_2_17_x86_64.manylinux2014_x86_64.whl.metadata (2.1 kB)\n",
      "- Creating objects...\n",
      "└── 🔨 Created mount c:\\Users\\iskorpittt\\Desktop\\MY_DATA_SCIENCE\\PROJECTS\\GENER\n",
      "Collecting huggingface-hub>=0.21.0 (from accelerate)\n",
      "- Creating objects...\n",
      "└── 🔨 Created mount c:\\Users\\iskorpittt\\Desktop\\MY_DATA_SCIENCE\\PROJECTS\\GENER\n",
      "  Downloading http://pypi-mirror.modal.local:5555/simple/huggingface-hub/huggingface_hub-0.28.1-py3-none-any.whl.metadata (13 kB)\n",
      "- Creating objects...\n",
      "└── 🔨 Created mount c:\\Users\\iskorpittt\\Desktop\\MY_DATA_SCIENCE\\PROJECTS\\GENER\n",
      "Collecting safetensors>=0.4.3 (from accelerate)\n",
      "\\ Creating objects...\n",
      "└── 🔨 Created mount c:\\Users\\iskorpittt\\Desktop\\MY_DATA_SCIENCE\\PROJECTS\\GENER\n",
      "| Creating objects...\n",
      "└── 🔨 Created mount \n",
      "    c:\\Users\\iskorpittt\\Desktop\\MY_DATA_SCIENCE\\PROJECTS\\GENERATIVE_AI\\llm_engi\n",
      "    neering\\week8\\pricer_service2.py\n",
      "  Downloading http://pypi-mirror.modal.local:5555/simple/safetensors/safetensors-0.5.2-cp38-abi3-manylinux_2_17_x86_64.manylinux2014_x86_64.whl.metadata (3.8 kB)\n",
      "| Creating objects...\n",
      "└── 🔨 Created mount c:\\Users\\iskorpittt\\Desktop\\MY_DATA_SCIENCE\\PROJECTS\\GENER\n",
      "Collecting tqdm (from peft)\n",
      "| Creating objects...\n",
      "└── 🔨 Created mount c:\\Users\\iskorpittt\\Desktop\\MY_DATA_SCIENCE\\PROJECTS\\GENER\n",
      "  Downloading http://pypi-mirror.modal.local:5555/simple/tqdm/tqdm-4.67.1-py3-none-any.whl.metadata (57 kB)\n",
      "| Creating objects...\n",
      "└── 🔨 Created mount c:\\Users\\iskorpittt\\Desktop\\MY_DATA_SCIENCE\\PROJECTS\\GENER\n",
      "Collecting filelock (from torch)\n",
      "/ Creating objects...\n",
      "└── 🔨 Created mount c:\\Users\\iskorpittt\\Desktop\\MY_DATA_SCIENCE\\PROJECTS\\GENER\n",
      "  Downloading http://pypi-mirror.modal.local:5555/simple/filelock/filelock-3.17.0-py3-none-any.whl.metadata (2.9 kB)\n",
      "/ Creating objects...\n",
      "└── 🔨 Created mount c:\\Users\\iskorpittt\\Desktop\\MY_DATA_SCIENCE\\PROJECTS\\GENER\n",
      "Requirement already satisfied: typing-extensions>=4.10.0 in /usr/local/lib/python3.12/site-packages (from torch) (4.12.2)\n",
      "/ Creating objects...\n",
      "└── 🔨 Created mount c:\\Users\\iskorpittt\\Desktop\\MY_DATA_SCIENCE\\PROJECTS\\GENER\n",
      "Collecting networkx (from torch)\n",
      "/ Creating objects...\n",
      "└── 🔨 Created mount c:\\Users\\iskorpittt\\Desktop\\MY_DATA_SCIENCE\\PROJECTS\\GENER\n",
      "  Downloading http://pypi-mirror.modal.local:5555/simple/networkx/networkx-3.4.2-py3-none-any.whl.metadata (6.3 kB)\n",
      "/ Creating objects...\n",
      "└── 🔨 Created mount c:\\Users\\iskorpittt\\Desktop\\MY_DATA_SCIENCE\\PROJECTS\\GENER\n",
      "Collecting jinja2 (from torch)\n",
      "/ Creating objects...\n",
      "└── 🔨 Created mount c:\\Users\\iskorpittt\\Desktop\\MY_DATA_SCIENCE\\PROJECTS\\GENER\n",
      "  Downloading http://pypi-mirror.modal.local:5555/simple/jinja2/jinja2-3.1.5-py3-none-any.whl.metadata (2.6 kB)\n",
      "/ Creating objects...\n",
      "└── 🔨 Created mount c:\\Users\\iskorpittt\\Desktop\\MY_DATA_SCIENCE\\PROJECTS\\GENER\n",
      "Collecting fsspec (from torch)\n",
      "/ Creating objects...\n",
      "└── 🔨 Created mount c:\\Users\\iskorpittt\\Desktop\\MY_DATA_SCIENCE\\PROJECTS\\GENER\n",
      "  Downloading http://pypi-mirror.modal.local:5555/simple/fsspec/fsspec-2025.2.0-py3-none-any.whl.metadata (11 kB)\n",
      "/ Creating objects...\n",
      "└── 🔨 Created mount c:\\Users\\iskorpittt\\Desktop\\MY_DATA_SCIENCE\\PROJECTS\\GENER\n",
      "Collecting nvidia-cuda-nvrtc-cu12==12.4.127 (from torch)\n",
      "- Creating objects...\n",
      "└── 🔨 Created mount c:\\Users\\iskorpittt\\Desktop\\MY_DATA_SCIENCE\\PROJECTS\\GENER\n",
      "- Creating objects...\n",
      "└── 🔨 Created mount \n",
      "    c:\\Users\\iskorpittt\\Desktop\\MY_DATA_SCIENCE\\PROJECTS\\GENERATIVE_AI\\llm_engi\n",
      "    neering\\week8\\pricer_service2.py\n",
      "  Downloading http://pypi-mirror.modal.local:5555/simple/nvidia-cuda-nvrtc-cu12/nvidia_cuda_nvrtc_cu12-12.4.127-py3-none-manylinux2014_x86_64.whl.metadata (1.5 kB)\n",
      "- Creating objects...\n",
      "└── 🔨 Created mount c:\\Users\\iskorpittt\\Desktop\\MY_DATA_SCIENCE\\PROJECTS\\GENER\n",
      "Collecting nvidia-cuda-runtime-cu12==12.4.127 (from torch)\n",
      "- Creating objects...\n",
      "└── 🔨 Created mount c:\\Users\\iskorpittt\\Desktop\\MY_DATA_SCIENCE\\PROJECTS\\GENER\n",
      "  Downloading http://pypi-mirror.modal.local:5555/simple/nvidia-cuda-runtime-cu12/nvidia_cuda_runtime_cu12-12.4.127-py3-none-manylinux2014_x86_64.whl.metadata (1.5 kB)\n",
      "- Creating objects...\n",
      "└── 🔨 Created mount c:\\Users\\iskorpittt\\Desktop\\MY_DATA_SCIENCE\\PROJECTS\\GENER\n",
      "Collecting nvidia-cuda-cupti-cu12==12.4.127 (from torch)\n",
      "- Creating objects...\n",
      "└── 🔨 Created mount c:\\Users\\iskorpittt\\Desktop\\MY_DATA_SCIENCE\\PROJECTS\\GENER\n",
      "  Downloading http://pypi-mirror.modal.local:5555/simple/nvidia-cuda-cupti-cu12/nvidia_cuda_cupti_cu12-12.4.127-py3-none-manylinux2014_x86_64.whl.metadata (1.6 kB)\n",
      "- Creating objects...\n",
      "└── 🔨 Created mount c:\\Users\\iskorpittt\\Desktop\\MY_DATA_SCIENCE\\PROJECTS\\GENER\n",
      "Collecting nvidia-cudnn-cu12==9.1.0.70 (from torch)\n",
      "- Creating objects...\n",
      "└── 🔨 Created mount c:\\Users\\iskorpittt\\Desktop\\MY_DATA_SCIENCE\\PROJECTS\\GENER\n",
      "  Downloading http://pypi-mirror.modal.local:5555/simple/nvidia-cudnn-cu12/nvidia_cudnn_cu12-9.1.0.70-py3-none-manylinux2014_x86_64.whl.metadata (1.6 kB)\n",
      "- Creating objects...\n",
      "└── 🔨 Created mount c:\\Users\\iskorpittt\\Desktop\\MY_DATA_SCIENCE\\PROJECTS\\GENER\n",
      "Collecting nvidia-cublas-cu12==12.4.5.8 (from torch)\n",
      "- Creating objects...\n",
      "└── 🔨 Created mount c:\\Users\\iskorpittt\\Desktop\\MY_DATA_SCIENCE\\PROJECTS\\GENER\n",
      "  Downloading http://pypi-mirror.modal.local:5555/simple/nvidia-cublas-cu12/nvidia_cublas_cu12-12.4.5.8-py3-none-manylinux2014_x86_64.whl.metadata (1.5 kB)\n",
      "\\ Creating objects...\n",
      "└── 🔨 Created mount c:\\Users\\iskorpittt\\Desktop\\MY_DATA_SCIENCE\\PROJECTS\\GENER\n",
      "Collecting nvidia-cufft-cu12==11.2.1.3 (from torch)\n",
      "\\ Creating objects...\n",
      "└── 🔨 Created mount c:\\Users\\iskorpittt\\Desktop\\MY_DATA_SCIENCE\\PROJECTS\\GENER\n",
      "  Downloading http://pypi-mirror.modal.local:5555/simple/nvidia-cufft-cu12/nvidia_cufft_cu12-11.2.1.3-py3-none-manylinux2014_x86_64.whl.metadata (1.5 kB)\n",
      "\\ Creating objects...\n",
      "└── 🔨 Created mount c:\\Users\\iskorpittt\\Desktop\\MY_DATA_SCIENCE\\PROJECTS\\GENER\n",
      "Collecting nvidia-curand-cu12==10.3.5.147 (from torch)\n",
      "\\ Creating objects...\n",
      "└── 🔨 Created mount c:\\Users\\iskorpittt\\Desktop\\MY_DATA_SCIENCE\\PROJECTS\\GENER\n",
      "  Downloading http://pypi-mirror.modal.local:5555/simple/nvidia-curand-cu12/nvidia_curand_cu12-10.3.5.147-py3-none-manylinux2014_x86_64.whl.metadata (1.5 kB)\n",
      "\\ Creating objects...\n",
      "└── 🔨 Created mount c:\\Users\\iskorpittt\\Desktop\\MY_DATA_SCIENCE\\PROJECTS\\GENER\n",
      "Collecting nvidia-cusolver-cu12==11.6.1.9 (from torch)\n",
      "\\ Creating objects...\n",
      "└── 🔨 Created mount c:\\Users\\iskorpittt\\Desktop\\MY_DATA_SCIENCE\\PROJECTS\\GENER\n",
      "  Downloading http://pypi-mirror.modal.local:5555/simple/nvidia-cusolver-cu12/nvidia_cusolver_cu12-11.6.1.9-py3-none-manylinux2014_x86_64.whl.metadata (1.6 kB)\n",
      "\\ Creating objects...\n",
      "└── 🔨 Created mount c:\\Users\\iskorpittt\\Desktop\\MY_DATA_SCIENCE\\PROJECTS\\GENER\n",
      "Collecting nvidia-cusparse-cu12==12.3.1.170 (from torch)\n",
      "\\ Creating objects...\n",
      "└── 🔨 Created mount c:\\Users\\iskorpittt\\Desktop\\MY_DATA_SCIENCE\\PROJECTS\\GENER\n",
      "  Downloading http://pypi-mirror.modal.local:5555/simple/nvidia-cusparse-cu12/nvidia_cusparse_cu12-12.3.1.170-py3-none-manylinux2014_x86_64.whl.metadata (1.6 kB)\n",
      "\\ Creating objects...\n",
      "└── 🔨 Created mount c:\\Users\\iskorpittt\\Desktop\\MY_DATA_SCIENCE\\PROJECTS\\GENER\n",
      "Collecting nvidia-cusparselt-cu12==0.6.2 (from torch)\n",
      "\\ Creating objects...\n",
      "└── 🔨 Created mount c:\\Users\\iskorpittt\\Desktop\\MY_DATA_SCIENCE\\PROJECTS\\GENER\n",
      "  Downloading http://pypi-mirror.modal.local:5555/simple/nvidia-cusparselt-cu12/nvidia_cusparselt_cu12-0.6.2-py3-none-manylinux2014_x86_64.whl.metadata (6.8 kB)\n",
      "\\ Creating objects...\n",
      "└── 🔨 Created mount c:\\Users\\iskorpittt\\Desktop\\MY_DATA_SCIENCE\\PROJECTS\\GENER\n",
      "Collecting nvidia-nccl-cu12==2.21.5 (from torch)\n",
      "\\ Creating objects...\n",
      "└── 🔨 Created mount c:\\Users\\iskorpittt\\Desktop\\MY_DATA_SCIENCE\\PROJECTS\\GENER\n",
      "  Downloading http://pypi-mirror.modal.local:5555/simple/nvidia-nccl-cu12/nvidia_nccl_cu12-2.21.5-py3-none-manylinux2014_x86_64.whl.metadata (1.8 kB)\n",
      "\\ Creating objects...\n",
      "└── 🔨 Created mount c:\\Users\\iskorpittt\\Desktop\\MY_DATA_SCIENCE\\PROJECTS\\GENER\n",
      "Collecting nvidia-nvtx-cu12==12.4.127 (from torch)\n",
      "\\ Creating objects...\n",
      "└── 🔨 Created mount c:\\Users\\iskorpittt\\Desktop\\MY_DATA_SCIENCE\\PROJECTS\\GENER\n",
      "  Downloading http://pypi-mirror.modal.local:5555/simple/nvidia-nvtx-cu12/nvidia_nvtx_cu12-12.4.127-py3-none-manylinux2014_x86_64.whl.metadata (1.7 kB)\n",
      "\\ Creating objects...\n",
      "└── 🔨 Created mount c:\\Users\\iskorpittt\\Desktop\\MY_DATA_SCIENCE\\PROJECTS\\GENER\n",
      "Collecting nvidia-nvjitlink-cu12==12.4.127 (from torch)\n",
      "\\ Creating objects...\n",
      "└── 🔨 Created mount c:\\Users\\iskorpittt\\Desktop\\MY_DATA_SCIENCE\\PROJECTS\\GENER\n",
      "  Downloading http://pypi-mirror.modal.local:5555/simple/nvidia-nvjitlink-cu12/nvidia_nvjitlink_cu12-12.4.127-py3-none-manylinux2014_x86_64.whl.metadata (1.5 kB)\n",
      "\\ Creating objects...\n",
      "└── 🔨 Created mount c:\\Users\\iskorpittt\\Desktop\\MY_DATA_SCIENCE\\PROJECTS\\GENER\n",
      "Collecting triton==3.2.0 (from torch)\n",
      "\\ Creating objects...\n",
      "└── 🔨 Created mount c:\\Users\\iskorpittt\\Desktop\\MY_DATA_SCIENCE\\PROJECTS\\GENER\n",
      "  Downloading http://pypi-mirror.modal.local:5555/simple/triton/triton-3.2.0-cp312-cp312-manylinux_2_17_x86_64.manylinux2014_x86_64.whl.metadata (1.4 kB)\n",
      "\\ Creating objects...\n",
      "└── 🔨 Created mount c:\\Users\\iskorpittt\\Desktop\\MY_DATA_SCIENCE\\PROJECTS\\GENER\n",
      "| Creating objects...\n",
      "└── 🔨 Created mount \n",
      "    c:\\Users\\iskorpittt\\Desktop\\MY_DATA_SCIENCE\\PROJECTS\\GENERATIVE_AI\\llm_engi\n",
      "    neering\\week8\\pricer_service2.py\n",
      "Collecting setuptools (from torch)\n",
      "/ Creating objects...\n",
      "└── 🔨 Created mount c:\\Users\\iskorpittt\\Desktop\\MY_DATA_SCIENCE\\PROJECTS\\GENER\n",
      "  Downloading http://pypi-mirror.modal.local:5555/simple/setuptools/setuptools-75.8.0-py3-none-any.whl.metadata (6.7 kB)\n",
      "- Creating objects...\n",
      "└── 🔨 Created mount c:\\Users\\iskorpittt\\Desktop\\MY_DATA_SCIENCE\\PROJECTS\\GENER\n",
      "Collecting sympy==1.13.1 (from torch)\n",
      "- Creating objects...\n",
      "└── 🔨 Created mount c:\\Users\\iskorpittt\\Desktop\\MY_DATA_SCIENCE\\PROJECTS\\GENER\n",
      "  Downloading http://pypi-mirror.modal.local:5555/simple/sympy/sympy-1.13.1-py3-none-any.whl.metadata (12 kB)\n",
      "- Creating objects...\n",
      "└── 🔨 Created mount c:\\Users\\iskorpittt\\Desktop\\MY_DATA_SCIENCE\\PROJECTS\\GENER\n",
      "- Creating objects...\n",
      "└── 🔨 Created mount \n",
      "    c:\\Users\\iskorpittt\\Desktop\\MY_DATA_SCIENCE\\PROJECTS\\GENERATIVE_AI\\llm_engi\n",
      "    neering\\week8\\pricer_service2.py\n",
      "Collecting mpmath<1.4,>=1.1.0 (from sympy==1.13.1->torch)\n",
      "- Creating objects...\n",
      "└── 🔨 Created mount c:\\Users\\iskorpittt\\Desktop\\MY_DATA_SCIENCE\\PROJECTS\\GENER\n",
      "  Downloading http://pypi-mirror.modal.local:5555/simple/mpmath/mpmath-1.3.0-py3-none-any.whl.metadata (8.6 kB)\n",
      "- Creating objects...\n",
      "└── 🔨 Created mount c:\\Users\\iskorpittt\\Desktop\\MY_DATA_SCIENCE\\PROJECTS\\GENER\n",
      "| Creating objects...\n",
      "└── 🔨 Created mount \n",
      "    c:\\Users\\iskorpittt\\Desktop\\MY_DATA_SCIENCE\\PROJECTS\\GENERATIVE_AI\\llm_engi\n",
      "    neering\\week8\\pricer_service2.py\n",
      "Collecting regex!=2019.12.17 (from transformers)\n",
      "/ Creating objects...\n",
      "└── 🔨 Created mount c:\\Users\\iskorpittt\\Desktop\\MY_DATA_SCIENCE\\PROJECTS\\GENER\n",
      "  Downloading http://pypi-mirror.modal.local:5555/simple/regex/regex-2024.11.6-cp312-cp312-manylinux_2_17_x86_64.manylinux2014_x86_64.whl.metadata (40 kB)\n",
      "- Creating objects...\n",
      "└── 🔨 Created mount c:\\Users\\iskorpittt\\Desktop\\MY_DATA_SCIENCE\\PROJECTS\\GENER\n",
      "- Creating objects...\n",
      "└── 🔨 Created mount \n",
      "    c:\\Users\\iskorpittt\\Desktop\\MY_DATA_SCIENCE\\PROJECTS\\GENERATIVE_AI\\llm_engi\n",
      "    neering\\week8\\pricer_service2.py\n",
      "Collecting requests (from transformers)\n",
      "- Creating objects...\n",
      "└── 🔨 Created mount c:\\Users\\iskorpittt\\Desktop\\MY_DATA_SCIENCE\\PROJECTS\\GENER\n",
      "  Downloading http://pypi-mirror.modal.local:5555/simple/requests/requests-2.32.3-py3-none-any.whl.metadata (4.6 kB)\n",
      "- Creating objects...\n",
      "└── 🔨 Created mount c:\\Users\\iskorpittt\\Desktop\\MY_DATA_SCIENCE\\PROJECTS\\GENER\n",
      "Collecting tokenizers<0.22,>=0.21 (from transformers)\n",
      "| Creating objects...\n",
      "└── 🔨 Created mount c:\\Users\\iskorpittt\\Desktop\\MY_DATA_SCIENCE\\PROJECTS\\GENER\n",
      "| Creating objects...\n",
      "└── 🔨 Created mount \n",
      "    c:\\Users\\iskorpittt\\Desktop\\MY_DATA_SCIENCE\\PROJECTS\\GENERATIVE_AI\\llm_engi\n",
      "    neering\\week8\\pricer_service2.py\n",
      "  Downloading http://pypi-mirror.modal.local:5555/simple/tokenizers/tokenizers-0.21.0-cp39-abi3-manylinux_2_17_x86_64.manylinux2014_x86_64.whl.metadata (6.7 kB)\n",
      "| Creating objects...\n",
      "└── 🔨 Created mount c:\\Users\\iskorpittt\\Desktop\\MY_DATA_SCIENCE\\PROJECTS\\GENER\n",
      "Collecting MarkupSafe>=2.0 (from jinja2->torch)\n",
      "/ Creating objects...\n",
      "└── 🔨 Created mount c:\\Users\\iskorpittt\\Desktop\\MY_DATA_SCIENCE\\PROJECTS\\GENER\n",
      "  Downloading http://pypi-mirror.modal.local:5555/simple/markupsafe/MarkupSafe-3.0.2-cp312-cp312-manylinux_2_17_x86_64.manylinux2014_x86_64.whl.metadata (4.0 kB)\n",
      "- Creating objects...\n",
      "└── 🔨 Created mount c:\\Users\\iskorpittt\\Desktop\\MY_DATA_SCIENCE\\PROJECTS\\GENER\n",
      "- Creating objects...\n",
      "└── 🔨 Created mount \n",
      "    c:\\Users\\iskorpittt\\Desktop\\MY_DATA_SCIENCE\\PROJECTS\\GENERATIVE_AI\\llm_engi\n",
      "    neering\\week8\\pricer_service2.py\n",
      "Collecting charset-normalizer<4,>=2 (from requests->transformers)\n",
      "- Creating objects...\n",
      "└── 🔨 Created mount c:\\Users\\iskorpittt\\Desktop\\MY_DATA_SCIENCE\\PROJECTS\\GENER\n",
      "  Downloading http://pypi-mirror.modal.local:5555/simple/charset-normalizer/charset_normalizer-3.4.1-cp312-cp312-manylinux_2_17_x86_64.manylinux2014_x86_64.whl.metadata (35 kB)\n",
      "- Creating objects...\n",
      "└── 🔨 Created mount c:\\Users\\iskorpittt\\Desktop\\MY_DATA_SCIENCE\\PROJECTS\\GENER\n",
      "Requirement already satisfied: idna<4,>=2.5 in /usr/local/lib/python3.12/site-packages (from requests->transformers) (3.10)\n",
      "- Creating objects...\n",
      "└── 🔨 Created mount c:\\Users\\iskorpittt\\Desktop\\MY_DATA_SCIENCE\\PROJECTS\\GENER\n",
      "Collecting urllib3<3,>=1.21.1 (from requests->transformers)\n",
      "- Creating objects...\n",
      "└── 🔨 Created mount c:\\Users\\iskorpittt\\Desktop\\MY_DATA_SCIENCE\\PROJECTS\\GENER\n",
      "  Downloading http://pypi-mirror.modal.local:5555/simple/urllib3/urllib3-2.3.0-py3-none-any.whl.metadata (6.5 kB)\n",
      "- Creating objects...\n",
      "└── 🔨 Created mount c:\\Users\\iskorpittt\\Desktop\\MY_DATA_SCIENCE\\PROJECTS\\GENER\n",
      "Requirement already satisfied: certifi>=2017.4.17 in /usr/local/lib/python3.12/site-packages (from requests->transformers) (2024.8.30)\n",
      "- Creating objects...\n",
      "└── 🔨 Created mount c:\\Users\\iskorpittt\\Desktop\\MY_DATA_SCIENCE\\PROJECTS\\GENER\n",
      "Downloading http://pypi-mirror.modal.local:5555/simple/accelerate/accelerate-1.3.0-py3-none-any.whl (336 kB)\n",
      "\\ Creating objects...\n",
      "└── 🔨 Created mount c:\\Users\\iskorpittt\\Desktop\\MY_DATA_SCIENCE\\PROJECTS\\GENER\n",
      "Downloading http://pypi-mirror.modal.local:5555/simple/bitsandbytes/bitsandbytes-0.45.1-py3-none-manylinux_2_24_x86_64.whl (69.7 MB)\n",
      "\\ Creating objects...\n",
      "└── 🔨 Created mount c:\\Users\\iskorpittt\\Desktop\\MY_DATA_SCIENCE\\PROJECTS\\GENER\n",
      "| Creating objects...\n",
      "└── 🔨 Created mount \n",
      "    c:\\Users\\iskorpittt\\Desktop\\MY_DATA_SCIENCE\\PROJECTS\\GENERATIVE_AI\\llm_engi\n",
      "    neering\\week8\\pricer_service2.py\n",
      "| Creating objects...\n",
      "└── 🔨 Created mount c:\\Users\\iskorpittt\\Desktop\\MY_DATA_SCIENCE\\PROJECTS\\GENER\n",
      "   ━━━━━━━━━━━━━━━━━━━━━━━━━━━━━━━━━━━━━━━━ 69.7/69.7 MB 451.7 MB/s eta 0:00:00\n",
      "| Creating objects...\n",
      "└── 🔨 Created mount c:\\Users\\iskorpittt\\Desktop\\MY_DATA_SCIENCE\\PROJECTS\\GENER\n",
      "Downloading http://pypi-mirror.modal.local:5555/simple/huggingface/huggingface-0.0.1-py3-none-any.whl (2.5 kB)\n",
      "| Creating objects...\n",
      "└── 🔨 Created mount c:\\Users\\iskorpittt\\Desktop\\MY_DATA_SCIENCE\\PROJECTS\\GENER\n",
      "Downloading http://pypi-mirror.modal.local:5555/simple/peft/peft-0.14.0-py3-none-any.whl (374 kB)\n",
      "Downloading http://pypi-mirror.modal.local:5555/simple/torch/torch-2.6.0-cp312-cp312-manylinux1_x86_64.whl (766.6 MB)\n",
      "| Creating objects...\n",
      "└── 🔨 Created mount c:\\Users\\iskorpittt\\Desktop\\MY_DATA_SCIENCE\\PROJECTS\\GENER\n",
      "- Creating objects...\n",
      "└── 🔨 Created mount \n",
      "    c:\\Users\\iskorpittt\\Desktop\\MY_DATA_SCIENCE\\PROJECTS\\GENERATIVE_AI\\llm_engi\n",
      "    neering\\week8\\pricer_service2.py\n",
      "| Creating objects...\n",
      "└── 🔨 Created mount \n",
      "    c:\\Users\\iskorpittt\\Desktop\\MY_DATA_SCIENCE\\PROJECTS\\GENERATIVE_AI\\llm_engi\n",
      "    neering\\week8\\pricer_service2.py\n",
      "- Creating objects...\n",
      "└── 🔨 Created mount \n",
      "    c:\\Users\\iskorpittt\\Desktop\\MY_DATA_SCIENCE\\PROJECTS\\GENERATIVE_AI\\llm_engi\n",
      "    neering\\week8\\pricer_service2.py\n",
      "| Creating objects...\n",
      "└── 🔨 Created mount \n",
      "    c:\\Users\\iskorpittt\\Desktop\\MY_DATA_SCIENCE\\PROJECTS\\GENERATIVE_AI\\llm_engi\n",
      "    neering\\week8\\pricer_service2.py\n",
      "- Creating objects...\n",
      "└── 🔨 Created mount \n",
      "    c:\\Users\\iskorpittt\\Desktop\\MY_DATA_SCIENCE\\PROJECTS\\GENERATIVE_AI\\llm_engi\n",
      "    neering\\week8\\pricer_service2.py\n",
      "| Creating objects...\n",
      "└── 🔨 Created mount \n",
      "    c:\\Users\\iskorpittt\\Desktop\\MY_DATA_SCIENCE\\PROJECTS\\GENERATIVE_AI\\llm_engi\n",
      "    neering\\week8\\pricer_service2.py\n",
      "- Creating objects...\n",
      "└── 🔨 Created mount \n",
      "    c:\\Users\\iskorpittt\\Desktop\\MY_DATA_SCIENCE\\PROJECTS\\GENERATIVE_AI\\llm_engi\n",
      "    neering\\week8\\pricer_service2.py\n",
      "- Creating objects...\n",
      "└── 🔨 Created mount c:\\Users\\iskorpittt\\Desktop\\MY_DATA_SCIENCE\\PROJECTS\\GENER\n",
      "   ━━━━━━━━━━━━━━━━━━━━━━━━━━━━━━━━━━━━━━━ 766.6/766.6 MB 442.0 MB/s eta 0:00:00\n",
      "- Creating objects...\n",
      "└── 🔨 Created mount c:\\Users\\iskorpittt\\Desktop\\MY_DATA_SCIENCE\\PROJECTS\\GENER\n",
      "Downloading http://pypi-mirror.modal.local:5555/simple/nvidia-cublas-cu12/nvidia_cublas_cu12-12.4.5.8-py3-none-manylinux2014_x86_64.whl (363.4 MB)\n",
      "- Creating objects...\n",
      "└── 🔨 Created mount c:\\Users\\iskorpittt\\Desktop\\MY_DATA_SCIENCE\\PROJECTS\\GENER\n",
      "| Creating objects...\n",
      "└── 🔨 Created mount \n",
      "    c:\\Users\\iskorpittt\\Desktop\\MY_DATA_SCIENCE\\PROJECTS\\GENERATIVE_AI\\llm_engi\n",
      "    neering\\week8\\pricer_service2.py\n",
      "- Creating objects...\n",
      "└── 🔨 Created mount \n",
      "    c:\\Users\\iskorpittt\\Desktop\\MY_DATA_SCIENCE\\PROJECTS\\GENERATIVE_AI\\llm_engi\n",
      "    neering\\week8\\pricer_service2.py\n",
      "| Creating objects...\n",
      "└── 🔨 Created mount \n",
      "    c:\\Users\\iskorpittt\\Desktop\\MY_DATA_SCIENCE\\PROJECTS\\GENERATIVE_AI\\llm_engi\n",
      "    neering\\week8\\pricer_service2.py\n",
      "/ Creating objects...\n",
      "└── 🔨 Created mount c:\\Users\\iskorpittt\\Desktop\\MY_DATA_SCIENCE\\PROJECTS\\GENER\n",
      "   ━━━━━━━━━━━━━━━━━━━━━━━━━━━━━━━━━━━━━━━ 363.4/363.4 MB 407.2 MB/s eta 0:00:00\n",
      "/ Creating objects...\n",
      "└── 🔨 Created mount c:\\Users\\iskorpittt\\Desktop\\MY_DATA_SCIENCE\\PROJECTS\\GENER\n",
      "Downloading http://pypi-mirror.modal.local:5555/simple/nvidia-cuda-cupti-cu12/nvidia_cuda_cupti_cu12-12.4.127-py3-none-manylinux2014_x86_64.whl (13.8 MB)\n",
      "/ Creating objects...\n",
      "└── 🔨 Created mount c:\\Users\\iskorpittt\\Desktop\\MY_DATA_SCIENCE\\PROJECTS\\GENER\n",
      "/ Creating objects...\n",
      "└── 🔨 Created mount c:\\Users\\iskorpittt\\Desktop\\MY_DATA_SCIENCE\\PROJECTS\\GENER\n",
      "   ━━━━━━━━━━━━━━━━━━━━━━━━━━━━━━━━━━━━━━━━ 13.8/13.8 MB 433.0 MB/s eta 0:00:00\n",
      "/ Creating objects...\n",
      "└── 🔨 Created mount c:\\Users\\iskorpittt\\Desktop\\MY_DATA_SCIENCE\\PROJECTS\\GENER\n",
      "Downloading http://pypi-mirror.modal.local:5555/simple/nvidia-cuda-nvrtc-cu12/nvidia_cuda_nvrtc_cu12-12.4.127-py3-none-manylinux2014_x86_64.whl (24.6 MB)\n",
      "/ Creating objects...\n",
      "└── 🔨 Created mount c:\\Users\\iskorpittt\\Desktop\\MY_DATA_SCIENCE\\PROJECTS\\GENER\n",
      "- Creating objects...\n",
      "└── 🔨 Created mount c:\\Users\\iskorpittt\\Desktop\\MY_DATA_SCIENCE\\PROJECTS\\GENER\n",
      "- Creating objects...\n",
      "└── 🔨 Created mount \n",
      "    c:\\Users\\iskorpittt\\Desktop\\MY_DATA_SCIENCE\\PROJECTS\\GENERATIVE_AI\\llm_engi\n",
      "    neering\\week8\\pricer_service2.py\n",
      "   ━━━━━━━━━━━━━━━━━━━━━━━━━━━━━━━━━━━━━━━━ 24.6/24.6 MB 372.4 MB/s eta 0:00:00\n",
      "- Creating objects...\n",
      "└── 🔨 Created mount c:\\Users\\iskorpittt\\Desktop\\MY_DATA_SCIENCE\\PROJECTS\\GENER\n",
      "Downloading http://pypi-mirror.modal.local:5555/simple/nvidia-cuda-runtime-cu12/nvidia_cuda_runtime_cu12-12.4.127-py3-none-manylinux2014_x86_64.whl (883 kB)\n",
      "- Creating objects...\n",
      "└── 🔨 Created mount c:\\Users\\iskorpittt\\Desktop\\MY_DATA_SCIENCE\\PROJECTS\\GENER\n",
      "- Creating objects...\n",
      "└── 🔨 Created mount c:\\Users\\iskorpittt\\Desktop\\MY_DATA_SCIENCE\\PROJECTS\\GENER\n",
      "   ━━━━━━━━━━━━━━━━━━━━━━━━━━━━━━━━━━━━━━━ 883.7/883.7 kB 708.8 MB/s eta 0:00:00\n",
      "- Creating objects...\n",
      "└── 🔨 Created mount c:\\Users\\iskorpittt\\Desktop\\MY_DATA_SCIENCE\\PROJECTS\\GENER\n",
      "Downloading http://pypi-mirror.modal.local:5555/simple/nvidia-cudnn-cu12/nvidia_cudnn_cu12-9.1.0.70-py3-none-manylinux2014_x86_64.whl (664.8 MB)\n",
      "- Creating objects...\n",
      "└── 🔨 Created mount c:\\Users\\iskorpittt\\Desktop\\MY_DATA_SCIENCE\\PROJECTS\\GENER\n",
      "| Creating objects...\n",
      "└── 🔨 Created mount \n",
      "    c:\\Users\\iskorpittt\\Desktop\\MY_DATA_SCIENCE\\PROJECTS\\GENERATIVE_AI\\llm_engi\n",
      "    neering\\week8\\pricer_service2.py\n",
      "- Creating objects...\n",
      "└── 🔨 Created mount \n",
      "    c:\\Users\\iskorpittt\\Desktop\\MY_DATA_SCIENCE\\PROJECTS\\GENERATIVE_AI\\llm_engi\n",
      "    neering\\week8\\pricer_service2.py\n",
      "| Creating objects...\n",
      "└── 🔨 Created mount \n",
      "    c:\\Users\\iskorpittt\\Desktop\\MY_DATA_SCIENCE\\PROJECTS\\GENERATIVE_AI\\llm_engi\n",
      "    neering\\week8\\pricer_service2.py\n",
      "- Creating objects...\n",
      "└── 🔨 Created mount \n",
      "    c:\\Users\\iskorpittt\\Desktop\\MY_DATA_SCIENCE\\PROJECTS\\GENERATIVE_AI\\llm_engi\n",
      "    neering\\week8\\pricer_service2.py\n",
      "| Creating objects...\n",
      "└── 🔨 Created mount \n",
      "    c:\\Users\\iskorpittt\\Desktop\\MY_DATA_SCIENCE\\PROJECTS\\GENERATIVE_AI\\llm_engi\n",
      "    neering\\week8\\pricer_service2.py\n",
      "- Creating objects...\n",
      "└── 🔨 Created mount \n",
      "    c:\\Users\\iskorpittt\\Desktop\\MY_DATA_SCIENCE\\PROJECTS\\GENERATIVE_AI\\llm_engi\n",
      "    neering\\week8\\pricer_service2.py\n",
      "- Creating objects...\n",
      "└── 🔨 Created mount c:\\Users\\iskorpittt\\Desktop\\MY_DATA_SCIENCE\\PROJECTS\\GENER\n",
      "   ━━━━━━━━━━━━━━━━━━━━━━━━━━━━━━━━━━━━━━━ 664.8/664.8 MB 386.5 MB/s eta 0:00:00\n",
      "\\ Creating objects...\n",
      "└── 🔨 Created mount c:\\Users\\iskorpittt\\Desktop\\MY_DATA_SCIENCE\\PROJECTS\\GENER\n",
      "Downloading http://pypi-mirror.modal.local:5555/simple/nvidia-cufft-cu12/nvidia_cufft_cu12-11.2.1.3-py3-none-manylinux2014_x86_64.whl (211.5 MB)\n",
      "\\ Creating objects...\n",
      "└── 🔨 Created mount c:\\Users\\iskorpittt\\Desktop\\MY_DATA_SCIENCE\\PROJECTS\\GENER\n",
      "| Creating objects...\n",
      "└── 🔨 Created mount \n",
      "    c:\\Users\\iskorpittt\\Desktop\\MY_DATA_SCIENCE\\PROJECTS\\GENERATIVE_AI\\llm_engi\n",
      "    neering\\week8\\pricer_service2.py\n",
      "- Creating objects...\n",
      "└── 🔨 Created mount \n",
      "    c:\\Users\\iskorpittt\\Desktop\\MY_DATA_SCIENCE\\PROJECTS\\GENERATIVE_AI\\llm_engi\n",
      "    neering\\week8\\pricer_service2.py\n",
      "- Creating objects...\n",
      "└── 🔨 Created mount c:\\Users\\iskorpittt\\Desktop\\MY_DATA_SCIENCE\\PROJECTS\\GENER\n",
      "   ━━━━━━━━━━━━━━━━━━━━━━━━━━━━━━━━━━━━━━━ 211.5/211.5 MB 398.5 MB/s eta 0:00:00\n",
      "\\ Creating objects...\n",
      "└── 🔨 Created mount c:\\Users\\iskorpittt\\Desktop\\MY_DATA_SCIENCE\\PROJECTS\\GENER\n",
      "Downloading http://pypi-mirror.modal.local:5555/simple/nvidia-curand-cu12/nvidia_curand_cu12-10.3.5.147-py3-none-manylinux2014_x86_64.whl (56.3 MB)\n",
      "\\ Creating objects...\n",
      "└── 🔨 Created mount c:\\Users\\iskorpittt\\Desktop\\MY_DATA_SCIENCE\\PROJECTS\\GENER\n",
      "\\ Creating objects...\n",
      "└── 🔨 Created mount c:\\Users\\iskorpittt\\Desktop\\MY_DATA_SCIENCE\\PROJECTS\\GENER\n",
      "| Creating objects...\n",
      "└── 🔨 Created mount \n",
      "    c:\\Users\\iskorpittt\\Desktop\\MY_DATA_SCIENCE\\PROJECTS\\GENERATIVE_AI\\llm_engi\n",
      "    neering\\week8\\pricer_service2.py\n",
      "   ━━━━━━━━━━━━━━━━━━━━━━━━━━━━━━━━━━━━━━━━ 56.3/56.3 MB 360.2 MB/s eta 0:00:00\n",
      "| Creating objects...\n",
      "└── 🔨 Created mount c:\\Users\\iskorpittt\\Desktop\\MY_DATA_SCIENCE\\PROJECTS\\GENER\n",
      "Downloading http://pypi-mirror.modal.local:5555/simple/nvidia-cusolver-cu12/nvidia_cusolver_cu12-11.6.1.9-py3-none-manylinux2014_x86_64.whl (127.9 MB)\n",
      "| Creating objects...\n",
      "└── 🔨 Created mount c:\\Users\\iskorpittt\\Desktop\\MY_DATA_SCIENCE\\PROJECTS\\GENER\n",
      "- Creating objects...\n",
      "└── 🔨 Created mount c:\\Users\\iskorpittt\\Desktop\\MY_DATA_SCIENCE\\PROJECTS\\GENER\n",
      "- Creating objects...\n",
      "└── 🔨 Created mount \n",
      "    c:\\Users\\iskorpittt\\Desktop\\MY_DATA_SCIENCE\\PROJECTS\\GENERATIVE_AI\\llm_engi\n",
      "    neering\\week8\\pricer_service2.py\n",
      "   ━━━━━━━━━━━━━━━━━━━━━━━━━━━━━━━━━━━━━━━ 127.9/127.9 MB 484.4 MB/s eta 0:00:00\n",
      "- Creating objects...\n",
      "└── 🔨 Created mount c:\\Users\\iskorpittt\\Desktop\\MY_DATA_SCIENCE\\PROJECTS\\GENER\n",
      "Downloading http://pypi-mirror.modal.local:5555/simple/nvidia-cusparse-cu12/nvidia_cusparse_cu12-12.3.1.170-py3-none-manylinux2014_x86_64.whl (207.5 MB)\n",
      "- Creating objects...\n",
      "└── 🔨 Created mount c:\\Users\\iskorpittt\\Desktop\\MY_DATA_SCIENCE\\PROJECTS\\GENER\n",
      "| Creating objects...\n",
      "└── 🔨 Created mount \n",
      "    c:\\Users\\iskorpittt\\Desktop\\MY_DATA_SCIENCE\\PROJECTS\\GENERATIVE_AI\\llm_engi\n",
      "    neering\\week8\\pricer_service2.py\n",
      "/ Creating objects...\n",
      "└── 🔨 Created mount c:\\Users\\iskorpittt\\Desktop\\MY_DATA_SCIENCE\\PROJECTS\\GENER\n",
      "   ━━━━━━━━━━━━━━━━━━━━━━━━━━━━━━━━━━━━━━━ 207.5/207.5 MB 511.4 MB/s eta 0:00:00\n",
      "/ Creating objects...\n",
      "└── 🔨 Created mount c:\\Users\\iskorpittt\\Desktop\\MY_DATA_SCIENCE\\PROJECTS\\GENER\n",
      "Downloading http://pypi-mirror.modal.local:5555/simple/nvidia-cusparselt-cu12/nvidia_cusparselt_cu12-0.6.2-py3-none-manylinux2014_x86_64.whl (150.1 MB)\n",
      "/ Creating objects...\n",
      "└── 🔨 Created mount c:\\Users\\iskorpittt\\Desktop\\MY_DATA_SCIENCE\\PROJECTS\\GENER\n",
      "- Creating objects...\n",
      "└── 🔨 Created mount \n",
      "    c:\\Users\\iskorpittt\\Desktop\\MY_DATA_SCIENCE\\PROJECTS\\GENERATIVE_AI\\llm_engi\n",
      "    neering\\week8\\pricer_service2.py\n",
      "\\ Creating objects...\n",
      "└── 🔨 Created mount c:\\Users\\iskorpittt\\Desktop\\MY_DATA_SCIENCE\\PROJECTS\\GENER\n",
      "   ━━━━━━━━━━━━━━━━━━━━━━━━━━━━━━━━━━━━━━━ 150.1/150.1 MB 472.2 MB/s eta 0:00:00\n",
      "\\ Creating objects...\n",
      "└── 🔨 Created mount c:\\Users\\iskorpittt\\Desktop\\MY_DATA_SCIENCE\\PROJECTS\\GENER\n",
      "Downloading http://pypi-mirror.modal.local:5555/simple/nvidia-nccl-cu12/nvidia_nccl_cu12-2.21.5-py3-none-manylinux2014_x86_64.whl (188.7 MB)\n",
      "\\ Creating objects...\n",
      "└── 🔨 Created mount c:\\Users\\iskorpittt\\Desktop\\MY_DATA_SCIENCE\\PROJECTS\\GENER\n",
      "| Creating objects...\n",
      "└── 🔨 Created mount \n",
      "    c:\\Users\\iskorpittt\\Desktop\\MY_DATA_SCIENCE\\PROJECTS\\GENERATIVE_AI\\llm_engi\n",
      "    neering\\week8\\pricer_service2.py\n",
      "- Creating objects...\n",
      "└── 🔨 Created mount \n",
      "    c:\\Users\\iskorpittt\\Desktop\\MY_DATA_SCIENCE\\PROJECTS\\GENERATIVE_AI\\llm_engi\n",
      "    neering\\week8\\pricer_service2.py\n",
      "- Creating objects...\n",
      "└── 🔨 Created mount c:\\Users\\iskorpittt\\Desktop\\MY_DATA_SCIENCE\\PROJECTS\\GENER\n",
      "   ━━━━━━━━━━━━━━━━━━━━━━━━━━━━━━━━━━━━━━━ 188.7/188.7 MB 454.4 MB/s eta 0:00:00\n",
      "\\ Creating objects...\n",
      "└── 🔨 Created mount c:\\Users\\iskorpittt\\Desktop\\MY_DATA_SCIENCE\\PROJECTS\\GENER\n",
      "Downloading http://pypi-mirror.modal.local:5555/simple/nvidia-nvjitlink-cu12/nvidia_nvjitlink_cu12-12.4.127-py3-none-manylinux2014_x86_64.whl (21.1 MB)\n",
      "\\ Creating objects...\n",
      "└── 🔨 Created mount c:\\Users\\iskorpittt\\Desktop\\MY_DATA_SCIENCE\\PROJECTS\\GENER\n",
      "\\ Creating objects...\n",
      "└── 🔨 Created mount c:\\Users\\iskorpittt\\Desktop\\MY_DATA_SCIENCE\\PROJECTS\\GENER\n",
      "   ━━━━━━━━━━━━━━━━━━━━━━━━━━━━━━━━━━━━━━━━ 21.1/21.1 MB 513.7 MB/s eta 0:00:00\n",
      "\\ Creating objects...\n",
      "└── 🔨 Created mount c:\\Users\\iskorpittt\\Desktop\\MY_DATA_SCIENCE\\PROJECTS\\GENER\n",
      "Downloading http://pypi-mirror.modal.local:5555/simple/nvidia-nvtx-cu12/nvidia_nvtx_cu12-12.4.127-py3-none-manylinux2014_x86_64.whl (99 kB)\n",
      "Downloading http://pypi-mirror.modal.local:5555/simple/sympy/sympy-1.13.1-py3-none-any.whl (6.2 MB)\n",
      "\\ Creating objects...\n",
      "└── 🔨 Created mount c:\\Users\\iskorpittt\\Desktop\\MY_DATA_SCIENCE\\PROJECTS\\GENER\n",
      "\\ Creating objects...\n",
      "└── 🔨 Created mount c:\\Users\\iskorpittt\\Desktop\\MY_DATA_SCIENCE\\PROJECTS\\GENER\n",
      "   ━━━━━━━━━━━━━━━━━━━━━━━━━━━━━━━━━━━━━━━━ 6.2/6.2 MB 390.7 MB/s eta 0:00:00\n",
      "\\ Creating objects...\n",
      "└── 🔨 Created mount c:\\Users\\iskorpittt\\Desktop\\MY_DATA_SCIENCE\\PROJECTS\\GENER\n",
      "Downloading http://pypi-mirror.modal.local:5555/simple/triton/triton-3.2.0-cp312-cp312-manylinux_2_17_x86_64.manylinux2014_x86_64.whl (253.2 MB)\n",
      "\\ Creating objects...\n",
      "└── 🔨 Created mount c:\\Users\\iskorpittt\\Desktop\\MY_DATA_SCIENCE\\PROJECTS\\GENER\n",
      "| Creating objects...\n",
      "└── 🔨 Created mount \n",
      "    c:\\Users\\iskorpittt\\Desktop\\MY_DATA_SCIENCE\\PROJECTS\\GENERATIVE_AI\\llm_engi\n",
      "    neering\\week8\\pricer_service2.py\n",
      "- Creating objects...\n",
      "└── 🔨 Created mount \n",
      "    c:\\Users\\iskorpittt\\Desktop\\MY_DATA_SCIENCE\\PROJECTS\\GENERATIVE_AI\\llm_engi\n",
      "    neering\\week8\\pricer_service2.py\n",
      "| Creating objects...\n",
      "└── 🔨 Created mount c:\\Users\\iskorpittt\\Desktop\\MY_DATA_SCIENCE\\PROJECTS\\GENER\n",
      "| Creating objects...\n",
      "└── 🔨 Created mount \n",
      "    c:\\Users\\iskorpittt\\Desktop\\MY_DATA_SCIENCE\\PROJECTS\\GENERATIVE_AI\\llm_engi\n",
      "    neering\\week8\\pricer_service2.py\n",
      "   ━━━━━━━━━━━━━━━━━━━━━━━━━━━━━━━━━━━━━━━ 253.2/253.2 MB 423.0 MB/s eta 0:00:00\n",
      "| Creating objects...\n",
      "└── 🔨 Created mount c:\\Users\\iskorpittt\\Desktop\\MY_DATA_SCIENCE\\PROJECTS\\GENER\n",
      "Downloading http://pypi-mirror.modal.local:5555/simple/transformers/transformers-4.48.2-py3-none-any.whl (9.7 MB)\n",
      "| Creating objects...\n",
      "└── 🔨 Created mount c:\\Users\\iskorpittt\\Desktop\\MY_DATA_SCIENCE\\PROJECTS\\GENER\n",
      "| Creating objects...\n",
      "└── 🔨 Created mount c:\\Users\\iskorpittt\\Desktop\\MY_DATA_SCIENCE\\PROJECTS\\GENER\n",
      "   ━━━━━━━━━━━━━━━━━━━━━━━━━━━━━━━━━━━━━━━━ 9.7/9.7 MB 451.4 MB/s eta 0:00:00\n",
      "| Creating objects...\n",
      "└── 🔨 Created mount c:\\Users\\iskorpittt\\Desktop\\MY_DATA_SCIENCE\\PROJECTS\\GENER\n",
      "Downloading http://pypi-mirror.modal.local:5555/simple/huggingface-hub/huggingface_hub-0.28.1-py3-none-any.whl (464 kB)\n",
      "Downloading http://pypi-mirror.modal.local:5555/simple/fsspec/fsspec-2025.2.0-py3-none-any.whl (184 kB)\n",
      "| Creating objects...\n",
      "└── 🔨 Created mount c:\\Users\\iskorpittt\\Desktop\\MY_DATA_SCIENCE\\PROJECTS\\GENER\n",
      "Downloading http://pypi-mirror.modal.local:5555/simple/numpy/numpy-2.2.2-cp312-cp312-manylinux_2_17_x86_64.manylinux2014_x86_64.whl (16.1 MB)\n",
      "| Creating objects...\n",
      "└── 🔨 Created mount c:\\Users\\iskorpittt\\Desktop\\MY_DATA_SCIENCE\\PROJECTS\\GENER\n",
      "| Creating objects...\n",
      "└── 🔨 Created mount c:\\Users\\iskorpittt\\Desktop\\MY_DATA_SCIENCE\\PROJECTS\\GENER\n",
      "   ━━━━━━━━━━━━━━━━━━━━━━━━━━━━━━━━━━━━━━━━ 16.1/16.1 MB 455.3 MB/s eta 0:00:00\n",
      "| Creating objects...\n",
      "└── 🔨 Created mount c:\\Users\\iskorpittt\\Desktop\\MY_DATA_SCIENCE\\PROJECTS\\GENER\n",
      "Downloading http://pypi-mirror.modal.local:5555/simple/packaging/packaging-24.2-py3-none-any.whl (65 kB)\n",
      "Downloading http://pypi-mirror.modal.local:5555/simple/pyyaml/PyYAML-6.0.2-cp312-cp312-manylinux_2_17_x86_64.manylinux2014_x86_64.whl (767 kB)\n",
      "| Creating objects...\n",
      "└── 🔨 Created mount c:\\Users\\iskorpittt\\Desktop\\MY_DATA_SCIENCE\\PROJECTS\\GENER\n",
      "| Creating objects...\n",
      "└── 🔨 Created mount c:\\Users\\iskorpittt\\Desktop\\MY_DATA_SCIENCE\\PROJECTS\\GENER\n",
      "   ━━━━━━━━━━━━━━━━━━━━━━━━━━━━━━━━━━━━━━━ 767.5/767.5 kB 504.9 MB/s eta 0:00:00\n",
      "| Creating objects...\n",
      "└── 🔨 Created mount c:\\Users\\iskorpittt\\Desktop\\MY_DATA_SCIENCE\\PROJECTS\\GENER\n",
      "Downloading http://pypi-mirror.modal.local:5555/simple/regex/regex-2024.11.6-cp312-cp312-manylinux_2_17_x86_64.manylinux2014_x86_64.whl (796 kB)\n",
      "   ━━━━━━━━━━━━━━━━━━━━━━━━━━━━━━━━━━━━━━━ 796.9/796.9 kB 532.0 MB/s eta 0:00:00\n",
      "| Creating objects...\n",
      "└── 🔨 Created mount c:\\Users\\iskorpittt\\Desktop\\MY_DATA_SCIENCE\\PROJECTS\\GENER\n",
      "Downloading http://pypi-mirror.modal.local:5555/simple/safetensors/safetensors-0.5.2-cp38-abi3-manylinux_2_17_x86_64.manylinux2014_x86_64.whl (461 kB)\n",
      "| Creating objects...\n",
      "└── 🔨 Created mount c:\\Users\\iskorpittt\\Desktop\\MY_DATA_SCIENCE\\PROJECTS\\GENER\n",
      "Downloading http://pypi-mirror.modal.local:5555/simple/tokenizers/tokenizers-0.21.0-cp39-abi3-manylinux_2_17_x86_64.manylinux2014_x86_64.whl (3.0 MB)\n",
      "| Creating objects...\n",
      "└── 🔨 Created mount c:\\Users\\iskorpittt\\Desktop\\MY_DATA_SCIENCE\\PROJECTS\\GENER\n",
      "/ Creating objects...\n",
      "└── 🔨 Created mount c:\\Users\\iskorpittt\\Desktop\\MY_DATA_SCIENCE\\PROJECTS\\GENER\n",
      "   ━━━━━━━━━━━━━━━━━━━━━━━━━━━━━━━━━━━━━━━━ 3.0/3.0 MB 487.2 MB/s eta 0:00:00\n",
      "/ Creating objects...\n",
      "└── 🔨 Created mount c:\\Users\\iskorpittt\\Desktop\\MY_DATA_SCIENCE\\PROJECTS\\GENER\n",
      "Downloading http://pypi-mirror.modal.local:5555/simple/tqdm/tqdm-4.67.1-py3-none-any.whl (78 kB)\n",
      "Downloading http://pypi-mirror.modal.local:5555/simple/filelock/filelock-3.17.0-py3-none-any.whl (16 kB)\n",
      "Downloading http://pypi-mirror.modal.local:5555/simple/jinja2/jinja2-3.1.5-py3-none-any.whl (134 kB)\n",
      "/ Creating objects...\n",
      "└── 🔨 Created mount c:\\Users\\iskorpittt\\Desktop\\MY_DATA_SCIENCE\\PROJECTS\\GENER\n",
      "Downloading http://pypi-mirror.modal.local:5555/simple/networkx/networkx-3.4.2-py3-none-any.whl (1.7 MB)\n",
      "/ Creating objects...\n",
      "└── 🔨 Created mount c:\\Users\\iskorpittt\\Desktop\\MY_DATA_SCIENCE\\PROJECTS\\GENER\n",
      "   ━━━━━━━━━━━━━━━━━━━━━━━━━━━━━━━━━━━━━━━━ 1.7/1.7 MB 590.9 MB/s eta 0:00:00\n",
      "/ Creating objects...\n",
      "└── 🔨 Created mount c:\\Users\\iskorpittt\\Desktop\\MY_DATA_SCIENCE\\PROJECTS\\GENER\n",
      "Downloading http://pypi-mirror.modal.local:5555/simple/psutil/psutil-6.1.1-cp36-abi3-manylinux_2_12_x86_64.manylinux2010_x86_64.manylinux_2_17_x86_64.manylinux2014_x86_64.whl (287 kB)\n",
      "/ Creating objects...\n",
      "└── 🔨 Created mount c:\\Users\\iskorpittt\\Desktop\\MY_DATA_SCIENCE\\PROJECTS\\GENER\n",
      "Downloading http://pypi-mirror.modal.local:5555/simple/requests/requests-2.32.3-py3-none-any.whl (64 kB)\n",
      "/ Creating objects...\n",
      "└── 🔨 Created mount c:\\Users\\iskorpittt\\Desktop\\MY_DATA_SCIENCE\\PROJECTS\\GENER\n",
      "Downloading http://pypi-mirror.modal.local:5555/simple/setuptools/setuptools-75.8.0-py3-none-any.whl (1.2 MB)\n",
      "/ Creating objects...\n",
      "└── 🔨 Created mount c:\\Users\\iskorpittt\\Desktop\\MY_DATA_SCIENCE\\PROJECTS\\GENER\n",
      "   ━━━━━━━━━━━━━━━━━━━━━━━━━━━━━━━━━━━━━━━━ 1.2/1.2 MB 624.0 MB/s eta 0:00:00\n",
      "Downloading http://pypi-mirror.modal.local:5555/simple/charset-normalizer/charset_normalizer-3.4.1-cp312-cp312-manylinux_2_17_x86_64.manylinux2014_x86_64.whl (145 kB)\n",
      "Downloading http://pypi-mirror.modal.local:5555/simple/markupsafe/MarkupSafe-3.0.2-cp312-cp312-manylinux_2_17_x86_64.manylinux2014_x86_64.whl (23 kB)\n",
      "Downloading http://pypi-mirror.modal.local:5555/simple/mpmath/mpmath-1.3.0-py3-none-any.whl (536 kB)\n",
      "/ Creating objects...\n",
      "└── 🔨 Created mount c:\\Users\\iskorpittt\\Desktop\\MY_DATA_SCIENCE\\PROJECTS\\GENER\n",
      "/ Creating objects...\n",
      "└── 🔨 Created mount c:\\Users\\iskorpittt\\Desktop\\MY_DATA_SCIENCE\\PROJECTS\\GENER\n",
      "   ━━━━━━━━━━━━━━━━━━━━━━━━━━━━━━━━━━━━━━━━ 536.2/536.2 kB 1.0 GB/s eta 0:00:00\n",
      "/ Creating objects...\n",
      "└── 🔨 Created mount c:\\Users\\iskorpittt\\Desktop\\MY_DATA_SCIENCE\\PROJECTS\\GENER\n",
      "Downloading http://pypi-mirror.modal.local:5555/simple/urllib3/urllib3-2.3.0-py3-none-any.whl (128 kB)\n",
      "/ Creating objects...\n",
      "└── 🔨 Created mount c:\\Users\\iskorpittt\\Desktop\\MY_DATA_SCIENCE\\PROJECTS\\GENER\n",
      "- Creating objects...\n",
      "└── 🔨 Created mount \n",
      "    c:\\Users\\iskorpittt\\Desktop\\MY_DATA_SCIENCE\\PROJECTS\\GENERATIVE_AI\\llm_engi\n",
      "    neering\\week8\\pricer_service2.py\n",
      "| Creating objects...\n",
      "└── 🔨 Created mount \n",
      "    c:\\Users\\iskorpittt\\Desktop\\MY_DATA_SCIENCE\\PROJECTS\\GENERATIVE_AI\\llm_engi\n",
      "    neering\\week8\\pricer_service2.py\n",
      "- Creating objects...\n",
      "└── 🔨 Created mount \n",
      "    c:\\Users\\iskorpittt\\Desktop\\MY_DATA_SCIENCE\\PROJECTS\\GENERATIVE_AI\\llm_engi\n",
      "    neering\\week8\\pricer_service2.py\n",
      "| Creating objects...\n",
      "└── 🔨 Created mount \n",
      "    c:\\Users\\iskorpittt\\Desktop\\MY_DATA_SCIENCE\\PROJECTS\\GENERATIVE_AI\\llm_engi\n",
      "    neering\\week8\\pricer_service2.py\n",
      "- Creating objects...\n",
      "└── 🔨 Created mount \n",
      "    c:\\Users\\iskorpittt\\Desktop\\MY_DATA_SCIENCE\\PROJECTS\\GENERATIVE_AI\\llm_engi\n",
      "    neering\\week8\\pricer_service2.py\n",
      "| Creating objects...\n",
      "└── 🔨 Created mount \n",
      "    c:\\Users\\iskorpittt\\Desktop\\MY_DATA_SCIENCE\\PROJECTS\\GENERATIVE_AI\\llm_engi\n",
      "    neering\\week8\\pricer_service2.py\n",
      "- Creating objects...\n",
      "└── 🔨 Created mount \n",
      "    c:\\Users\\iskorpittt\\Desktop\\MY_DATA_SCIENCE\\PROJECTS\\GENERATIVE_AI\\llm_engi\n",
      "    neering\\week8\\pricer_service2.py\n",
      "| Creating objects...\n",
      "└── 🔨 Created mount \n",
      "    c:\\Users\\iskorpittt\\Desktop\\MY_DATA_SCIENCE\\PROJECTS\\GENERATIVE_AI\\llm_engi\n",
      "    neering\\week8\\pricer_service2.py\n",
      "- Creating objects...\n",
      "└── 🔨 Created mount \n",
      "    c:\\Users\\iskorpittt\\Desktop\\MY_DATA_SCIENCE\\PROJECTS\\GENERATIVE_AI\\llm_engi\n",
      "    neering\\week8\\pricer_service2.py\n",
      "| Creating objects...\n",
      "└── 🔨 Created mount \n",
      "    c:\\Users\\iskorpittt\\Desktop\\MY_DATA_SCIENCE\\PROJECTS\\GENERATIVE_AI\\llm_engi\n",
      "    neering\\week8\\pricer_service2.py\n",
      "- Creating objects...\n",
      "└── 🔨 Created mount \n",
      "    c:\\Users\\iskorpittt\\Desktop\\MY_DATA_SCIENCE\\PROJECTS\\GENERATIVE_AI\\llm_engi\n",
      "    neering\\week8\\pricer_service2.py\n",
      "| Creating objects...\n",
      "└── 🔨 Created mount \n",
      "    c:\\Users\\iskorpittt\\Desktop\\MY_DATA_SCIENCE\\PROJECTS\\GENERATIVE_AI\\llm_engi\n",
      "    neering\\week8\\pricer_service2.py\n",
      "- Creating objects...\n",
      "└── 🔨 Created mount \n",
      "    c:\\Users\\iskorpittt\\Desktop\\MY_DATA_SCIENCE\\PROJECTS\\GENERATIVE_AI\\llm_engi\n",
      "    neering\\week8\\pricer_service2.py\n",
      "Installing collected packages: triton, nvidia-cusparselt-cu12, mpmath, huggingface, urllib3, tqdm, sympy, setuptools, safetensors, regex, pyyaml, psutil, packaging, nvidia-nvtx-cu12, nvidia-nvjitlink-cu12, nvidia-nccl-cu12, nvidia-curand-cu12, nvidia-cufft-cu12, nvidia-cuda-runtime-cu12, nvidia-cuda-nvrtc-cu12, nvidia-cuda-cupti-cu12, nvidia-cublas-cu12, numpy, networkx, MarkupSafe, fsspec, filelock, charset-normalizer, requests, nvidia-cusparse-cu12, nvidia-cudnn-cu12, jinja2, nvidia-cusolver-cu12, huggingface-hub, torch, tokenizers, transformers, bitsandbytes, accelerate, peft\n",
      "\\ Creating objects...\n",
      "└── 🔨 Created mount c:\\Users\\iskorpittt\\Desktop\\MY_DATA_SCIENCE\\PROJECTS\\GENER\n",
      "| Creating objects...\n",
      "└── 🔨 Created mount \n",
      "    c:\\Users\\iskorpittt\\Desktop\\MY_DATA_SCIENCE\\PROJECTS\\GENERATIVE_AI\\llm_engi\n",
      "    neering\\week8\\pricer_service2.py\n",
      "- Creating objects...\n",
      "└── 🔨 Created mount \n",
      "    c:\\Users\\iskorpittt\\Desktop\\MY_DATA_SCIENCE\\PROJECTS\\GENERATIVE_AI\\llm_engi\n",
      "    neering\\week8\\pricer_service2.py\n",
      "| Creating objects...\n",
      "└── 🔨 Created mount \n",
      "    c:\\Users\\iskorpittt\\Desktop\\MY_DATA_SCIENCE\\PROJECTS\\GENERATIVE_AI\\llm_engi\n",
      "    neering\\week8\\pricer_service2.py\n",
      "- Creating objects...\n",
      "└── 🔨 Created mount \n",
      "    c:\\Users\\iskorpittt\\Desktop\\MY_DATA_SCIENCE\\PROJECTS\\GENERATIVE_AI\\llm_engi\n",
      "    neering\\week8\\pricer_service2.py\n",
      "| Creating objects...\n",
      "└── 🔨 Created mount \n",
      "    c:\\Users\\iskorpittt\\Desktop\\MY_DATA_SCIENCE\\PROJECTS\\GENERATIVE_AI\\llm_engi\n",
      "    neering\\week8\\pricer_service2.py\n",
      "- Creating objects...\n",
      "└── 🔨 Created mount \n",
      "    c:\\Users\\iskorpittt\\Desktop\\MY_DATA_SCIENCE\\PROJECTS\\GENERATIVE_AI\\llm_engi\n",
      "    neering\\week8\\pricer_service2.py\n",
      "| Creating objects...\n",
      "└── 🔨 Created mount \n",
      "    c:\\Users\\iskorpittt\\Desktop\\MY_DATA_SCIENCE\\PROJECTS\\GENERATIVE_AI\\llm_engi\n",
      "    neering\\week8\\pricer_service2.py\n",
      "- Creating objects...\n",
      "└── 🔨 Created mount \n",
      "    c:\\Users\\iskorpittt\\Desktop\\MY_DATA_SCIENCE\\PROJECTS\\GENERATIVE_AI\\llm_engi\n",
      "    neering\\week8\\pricer_service2.py\n",
      "| Creating objects...\n",
      "└── 🔨 Created mount \n",
      "    c:\\Users\\iskorpittt\\Desktop\\MY_DATA_SCIENCE\\PROJECTS\\GENERATIVE_AI\\llm_engi\n",
      "    neering\\week8\\pricer_service2.py\n",
      "- Creating objects...\n",
      "└── 🔨 Created mount \n",
      "    c:\\Users\\iskorpittt\\Desktop\\MY_DATA_SCIENCE\\PROJECTS\\GENERATIVE_AI\\llm_engi\n",
      "    neering\\week8\\pricer_service2.py\n",
      "| Creating objects...\n",
      "└── 🔨 Created mount \n",
      "    c:\\Users\\iskorpittt\\Desktop\\MY_DATA_SCIENCE\\PROJECTS\\GENERATIVE_AI\\llm_engi\n",
      "    neering\\week8\\pricer_service2.py\n",
      "- Creating objects...\n",
      "└── 🔨 Created mount \n",
      "    c:\\Users\\iskorpittt\\Desktop\\MY_DATA_SCIENCE\\PROJECTS\\GENERATIVE_AI\\llm_engi\n",
      "    neering\\week8\\pricer_service2.py\n",
      "| Creating objects...\n",
      "└── 🔨 Created mount \n",
      "    c:\\Users\\iskorpittt\\Desktop\\MY_DATA_SCIENCE\\PROJECTS\\GENERATIVE_AI\\llm_engi\n",
      "    neering\\week8\\pricer_service2.py\n",
      "- Creating objects...\n",
      "└── 🔨 Created mount \n",
      "    c:\\Users\\iskorpittt\\Desktop\\MY_DATA_SCIENCE\\PROJECTS\\GENERATIVE_AI\\llm_engi\n",
      "    neering\\week8\\pricer_service2.py\n",
      "| Creating objects...\n",
      "└── 🔨 Created mount \n",
      "    c:\\Users\\iskorpittt\\Desktop\\MY_DATA_SCIENCE\\PROJECTS\\GENERATIVE_AI\\llm_engi\n",
      "    neering\\week8\\pricer_service2.py\n",
      "- Creating objects...\n",
      "└── 🔨 Created mount \n",
      "    c:\\Users\\iskorpittt\\Desktop\\MY_DATA_SCIENCE\\PROJECTS\\GENERATIVE_AI\\llm_engi\n",
      "    neering\\week8\\pricer_service2.py\n",
      "| Creating objects...\n",
      "└── 🔨 Created mount \n",
      "    c:\\Users\\iskorpittt\\Desktop\\MY_DATA_SCIENCE\\PROJECTS\\GENERATIVE_AI\\llm_engi\n",
      "    neering\\week8\\pricer_service2.py\n",
      "- Creating objects...\n",
      "└── 🔨 Created mount \n",
      "    c:\\Users\\iskorpittt\\Desktop\\MY_DATA_SCIENCE\\PROJECTS\\GENERATIVE_AI\\llm_engi\n",
      "    neering\\week8\\pricer_service2.py\n",
      "| Creating objects...\n",
      "└── 🔨 Created mount \n",
      "    c:\\Users\\iskorpittt\\Desktop\\MY_DATA_SCIENCE\\PROJECTS\\GENERATIVE_AI\\llm_engi\n",
      "    neering\\week8\\pricer_service2.py\n",
      "- Creating objects...\n",
      "└── 🔨 Created mount \n",
      "    c:\\Users\\iskorpittt\\Desktop\\MY_DATA_SCIENCE\\PROJECTS\\GENERATIVE_AI\\llm_engi\n",
      "    neering\\week8\\pricer_service2.py\n",
      "| Creating objects...\n",
      "└── 🔨 Created mount \n",
      "    c:\\Users\\iskorpittt\\Desktop\\MY_DATA_SCIENCE\\PROJECTS\\GENERATIVE_AI\\llm_engi\n",
      "    neering\\week8\\pricer_service2.py\n",
      "- Creating objects...\n",
      "└── 🔨 Created mount \n",
      "    c:\\Users\\iskorpittt\\Desktop\\MY_DATA_SCIENCE\\PROJECTS\\GENERATIVE_AI\\llm_engi\n",
      "    neering\\week8\\pricer_service2.py\n",
      "| Creating objects...\n",
      "└── 🔨 Created mount \n",
      "    c:\\Users\\iskorpittt\\Desktop\\MY_DATA_SCIENCE\\PROJECTS\\GENERATIVE_AI\\llm_engi\n",
      "    neering\\week8\\pricer_service2.py\n",
      "- Creating objects...\n",
      "└── 🔨 Created mount \n",
      "    c:\\Users\\iskorpittt\\Desktop\\MY_DATA_SCIENCE\\PROJECTS\\GENERATIVE_AI\\llm_engi\n",
      "    neering\\week8\\pricer_service2.py\n",
      "| Creating objects...\n",
      "└── 🔨 Created mount \n",
      "    c:\\Users\\iskorpittt\\Desktop\\MY_DATA_SCIENCE\\PROJECTS\\GENERATIVE_AI\\llm_engi\n",
      "    neering\\week8\\pricer_service2.py\n",
      "- Creating objects...\n",
      "└── 🔨 Created mount \n",
      "    c:\\Users\\iskorpittt\\Desktop\\MY_DATA_SCIENCE\\PROJECTS\\GENERATIVE_AI\\llm_engi\n",
      "    neering\\week8\\pricer_service2.py\n",
      "| Creating objects...\n",
      "└── 🔨 Created mount \n",
      "    c:\\Users\\iskorpittt\\Desktop\\MY_DATA_SCIENCE\\PROJECTS\\GENERATIVE_AI\\llm_engi\n",
      "    neering\\week8\\pricer_service2.py\n",
      "- Creating objects...\n",
      "└── 🔨 Created mount \n",
      "    c:\\Users\\iskorpittt\\Desktop\\MY_DATA_SCIENCE\\PROJECTS\\GENERATIVE_AI\\llm_engi\n",
      "    neering\\week8\\pricer_service2.py\n",
      "| Creating objects...\n",
      "└── 🔨 Created mount \n",
      "    c:\\Users\\iskorpittt\\Desktop\\MY_DATA_SCIENCE\\PROJECTS\\GENERATIVE_AI\\llm_engi\n",
      "    neering\\week8\\pricer_service2.py\n",
      "- Creating objects...\n",
      "└── 🔨 Created mount \n",
      "    c:\\Users\\iskorpittt\\Desktop\\MY_DATA_SCIENCE\\PROJECTS\\GENERATIVE_AI\\llm_engi\n",
      "    neering\\week8\\pricer_service2.py\n",
      "| Creating objects...\n",
      "└── 🔨 Created mount \n",
      "    c:\\Users\\iskorpittt\\Desktop\\MY_DATA_SCIENCE\\PROJECTS\\GENERATIVE_AI\\llm_engi\n",
      "    neering\\week8\\pricer_service2.py\n",
      "- Creating objects...\n",
      "└── 🔨 Created mount \n",
      "    c:\\Users\\iskorpittt\\Desktop\\MY_DATA_SCIENCE\\PROJECTS\\GENERATIVE_AI\\llm_engi\n",
      "    neering\\week8\\pricer_service2.py\n",
      "| Creating objects...\n",
      "└── 🔨 Created mount \n",
      "    c:\\Users\\iskorpittt\\Desktop\\MY_DATA_SCIENCE\\PROJECTS\\GENERATIVE_AI\\llm_engi\n",
      "    neering\\week8\\pricer_service2.py\n",
      "- Creating objects...\n",
      "└── 🔨 Created mount \n",
      "    c:\\Users\\iskorpittt\\Desktop\\MY_DATA_SCIENCE\\PROJECTS\\GENERATIVE_AI\\llm_engi\n",
      "    neering\\week8\\pricer_service2.py\n",
      "| Creating objects...\n",
      "└── 🔨 Created mount \n",
      "    c:\\Users\\iskorpittt\\Desktop\\MY_DATA_SCIENCE\\PROJECTS\\GENERATIVE_AI\\llm_engi\n",
      "    neering\\week8\\pricer_service2.py\n",
      "- Creating objects...\n",
      "└── 🔨 Created mount \n",
      "    c:\\Users\\iskorpittt\\Desktop\\MY_DATA_SCIENCE\\PROJECTS\\GENERATIVE_AI\\llm_engi\n",
      "    neering\\week8\\pricer_service2.py\n",
      "| Creating objects...\n",
      "└── 🔨 Created mount \n",
      "    c:\\Users\\iskorpittt\\Desktop\\MY_DATA_SCIENCE\\PROJECTS\\GENERATIVE_AI\\llm_engi\n",
      "    neering\\week8\\pricer_service2.py\n",
      "- Creating objects...\n",
      "└── 🔨 Created mount \n",
      "    c:\\Users\\iskorpittt\\Desktop\\MY_DATA_SCIENCE\\PROJECTS\\GENERATIVE_AI\\llm_engi\n",
      "    neering\\week8\\pricer_service2.py\n",
      "| Creating objects...\n",
      "└── 🔨 Created mount \n",
      "    c:\\Users\\iskorpittt\\Desktop\\MY_DATA_SCIENCE\\PROJECTS\\GENERATIVE_AI\\llm_engi\n",
      "    neering\\week8\\pricer_service2.py\n",
      "- Creating objects...\n",
      "└── 🔨 Created mount \n",
      "    c:\\Users\\iskorpittt\\Desktop\\MY_DATA_SCIENCE\\PROJECTS\\GENERATIVE_AI\\llm_engi\n",
      "    neering\\week8\\pricer_service2.py\n",
      "| Creating objects...\n",
      "└── 🔨 Created mount \n",
      "    c:\\Users\\iskorpittt\\Desktop\\MY_DATA_SCIENCE\\PROJECTS\\GENERATIVE_AI\\llm_engi\n",
      "    neering\\week8\\pricer_service2.py\n",
      "- Creating objects...\n",
      "└── 🔨 Created mount \n",
      "    c:\\Users\\iskorpittt\\Desktop\\MY_DATA_SCIENCE\\PROJECTS\\GENERATIVE_AI\\llm_engi\n",
      "    neering\\week8\\pricer_service2.py\n",
      "| Creating objects...\n",
      "└── 🔨 Created mount \n",
      "    c:\\Users\\iskorpittt\\Desktop\\MY_DATA_SCIENCE\\PROJECTS\\GENERATIVE_AI\\llm_engi\n",
      "    neering\\week8\\pricer_service2.py\n",
      "- Creating objects...\n",
      "└── 🔨 Created mount \n",
      "    c:\\Users\\iskorpittt\\Desktop\\MY_DATA_SCIENCE\\PROJECTS\\GENERATIVE_AI\\llm_engi\n",
      "    neering\\week8\\pricer_service2.py\n",
      "| Creating objects...\n",
      "└── 🔨 Created mount \n",
      "    c:\\Users\\iskorpittt\\Desktop\\MY_DATA_SCIENCE\\PROJECTS\\GENERATIVE_AI\\llm_engi\n",
      "    neering\\week8\\pricer_service2.py\n",
      "- Creating objects...\n",
      "└── 🔨 Created mount \n",
      "    c:\\Users\\iskorpittt\\Desktop\\MY_DATA_SCIENCE\\PROJECTS\\GENERATIVE_AI\\llm_engi\n",
      "    neering\\week8\\pricer_service2.py\n",
      "| Creating objects...\n",
      "└── 🔨 Created mount \n",
      "    c:\\Users\\iskorpittt\\Desktop\\MY_DATA_SCIENCE\\PROJECTS\\GENERATIVE_AI\\llm_engi\n",
      "    neering\\week8\\pricer_service2.py\n",
      "- Creating objects...\n",
      "└── 🔨 Created mount \n",
      "    c:\\Users\\iskorpittt\\Desktop\\MY_DATA_SCIENCE\\PROJECTS\\GENERATIVE_AI\\llm_engi\n",
      "    neering\\week8\\pricer_service2.py\n",
      "| Creating objects...\n",
      "└── 🔨 Created mount \n",
      "    c:\\Users\\iskorpittt\\Desktop\\MY_DATA_SCIENCE\\PROJECTS\\GENERATIVE_AI\\llm_engi\n",
      "    neering\\week8\\pricer_service2.py\n",
      "- Creating objects...\n",
      "└── 🔨 Created mount \n",
      "    c:\\Users\\iskorpittt\\Desktop\\MY_DATA_SCIENCE\\PROJECTS\\GENERATIVE_AI\\llm_engi\n",
      "    neering\\week8\\pricer_service2.py\n",
      "| Creating objects...\n",
      "└── 🔨 Created mount \n",
      "    c:\\Users\\iskorpittt\\Desktop\\MY_DATA_SCIENCE\\PROJECTS\\GENERATIVE_AI\\llm_engi\n",
      "    neering\\week8\\pricer_service2.py\n",
      "- Creating objects...\n",
      "└── 🔨 Created mount \n",
      "    c:\\Users\\iskorpittt\\Desktop\\MY_DATA_SCIENCE\\PROJECTS\\GENERATIVE_AI\\llm_engi\n",
      "    neering\\week8\\pricer_service2.py\n",
      "| Creating objects...\n",
      "└── 🔨 Created mount \n",
      "    c:\\Users\\iskorpittt\\Desktop\\MY_DATA_SCIENCE\\PROJECTS\\GENERATIVE_AI\\llm_engi\n",
      "    neering\\week8\\pricer_service2.py\n",
      "- Creating objects...\n",
      "└── 🔨 Created mount \n",
      "    c:\\Users\\iskorpittt\\Desktop\\MY_DATA_SCIENCE\\PROJECTS\\GENERATIVE_AI\\llm_engi\n",
      "    neering\\week8\\pricer_service2.py\n",
      "| Creating objects...\n",
      "└── 🔨 Created mount \n",
      "    c:\\Users\\iskorpittt\\Desktop\\MY_DATA_SCIENCE\\PROJECTS\\GENERATIVE_AI\\llm_engi\n",
      "    neering\\week8\\pricer_service2.py\n",
      "- Creating objects...\n",
      "└── 🔨 Created mount \n",
      "    c:\\Users\\iskorpittt\\Desktop\\MY_DATA_SCIENCE\\PROJECTS\\GENERATIVE_AI\\llm_engi\n",
      "    neering\\week8\\pricer_service2.py\n",
      "| Creating objects...\n",
      "└── 🔨 Created mount \n",
      "    c:\\Users\\iskorpittt\\Desktop\\MY_DATA_SCIENCE\\PROJECTS\\GENERATIVE_AI\\llm_engi\n",
      "    neering\\week8\\pricer_service2.py\n",
      "- Creating objects...\n",
      "└── 🔨 Created mount \n",
      "    c:\\Users\\iskorpittt\\Desktop\\MY_DATA_SCIENCE\\PROJECTS\\GENERATIVE_AI\\llm_engi\n",
      "    neering\\week8\\pricer_service2.py\n",
      "| Creating objects...\n",
      "└── 🔨 Created mount \n",
      "    c:\\Users\\iskorpittt\\Desktop\\MY_DATA_SCIENCE\\PROJECTS\\GENERATIVE_AI\\llm_engi\n",
      "    neering\\week8\\pricer_service2.py\n",
      "- Creating objects...\n",
      "└── 🔨 Created mount \n",
      "    c:\\Users\\iskorpittt\\Desktop\\MY_DATA_SCIENCE\\PROJECTS\\GENERATIVE_AI\\llm_engi\n",
      "    neering\\week8\\pricer_service2.py\n",
      "| Creating objects...\n",
      "└── 🔨 Created mount \n",
      "    c:\\Users\\iskorpittt\\Desktop\\MY_DATA_SCIENCE\\PROJECTS\\GENERATIVE_AI\\llm_engi\n",
      "    neering\\week8\\pricer_service2.py\n",
      "- Creating objects...\n",
      "└── 🔨 Created mount \n",
      "    c:\\Users\\iskorpittt\\Desktop\\MY_DATA_SCIENCE\\PROJECTS\\GENERATIVE_AI\\llm_engi\n",
      "    neering\\week8\\pricer_service2.py\n",
      "| Creating objects...\n",
      "└── 🔨 Created mount \n",
      "    c:\\Users\\iskorpittt\\Desktop\\MY_DATA_SCIENCE\\PROJECTS\\GENERATIVE_AI\\llm_engi\n",
      "    neering\\week8\\pricer_service2.py\n",
      "- Creating objects...\n",
      "└── 🔨 Created mount \n",
      "    c:\\Users\\iskorpittt\\Desktop\\MY_DATA_SCIENCE\\PROJECTS\\GENERATIVE_AI\\llm_engi\n",
      "    neering\\week8\\pricer_service2.py\n",
      "| Creating objects...\n",
      "└── 🔨 Created mount \n",
      "    c:\\Users\\iskorpittt\\Desktop\\MY_DATA_SCIENCE\\PROJECTS\\GENERATIVE_AI\\llm_engi\n",
      "    neering\\week8\\pricer_service2.py\n",
      "- Creating objects...\n",
      "└── 🔨 Created mount \n",
      "    c:\\Users\\iskorpittt\\Desktop\\MY_DATA_SCIENCE\\PROJECTS\\GENERATIVE_AI\\llm_engi\n",
      "    neering\\week8\\pricer_service2.py\n",
      "| Creating objects...\n",
      "└── 🔨 Created mount \n",
      "    c:\\Users\\iskorpittt\\Desktop\\MY_DATA_SCIENCE\\PROJECTS\\GENERATIVE_AI\\llm_engi\n",
      "    neering\\week8\\pricer_service2.py\n",
      "- Creating objects...\n",
      "└── 🔨 Created mount \n",
      "    c:\\Users\\iskorpittt\\Desktop\\MY_DATA_SCIENCE\\PROJECTS\\GENERATIVE_AI\\llm_engi\n",
      "    neering\\week8\\pricer_service2.py\n",
      "| Creating objects...\n",
      "└── 🔨 Created mount \n",
      "    c:\\Users\\iskorpittt\\Desktop\\MY_DATA_SCIENCE\\PROJECTS\\GENERATIVE_AI\\llm_engi\n",
      "    neering\\week8\\pricer_service2.py\n",
      "- Creating objects...\n",
      "└── 🔨 Created mount \n",
      "    c:\\Users\\iskorpittt\\Desktop\\MY_DATA_SCIENCE\\PROJECTS\\GENERATIVE_AI\\llm_engi\n",
      "    neering\\week8\\pricer_service2.py\n",
      "| Creating objects...\n",
      "└── 🔨 Created mount \n",
      "    c:\\Users\\iskorpittt\\Desktop\\MY_DATA_SCIENCE\\PROJECTS\\GENERATIVE_AI\\llm_engi\n",
      "    neering\\week8\\pricer_service2.py\n",
      "- Creating objects...\n",
      "└── 🔨 Created mount \n",
      "    c:\\Users\\iskorpittt\\Desktop\\MY_DATA_SCIENCE\\PROJECTS\\GENERATIVE_AI\\llm_engi\n",
      "    neering\\week8\\pricer_service2.py\n",
      "| Creating objects...\n",
      "└── 🔨 Created mount \n",
      "    c:\\Users\\iskorpittt\\Desktop\\MY_DATA_SCIENCE\\PROJECTS\\GENERATIVE_AI\\llm_engi\n",
      "    neering\\week8\\pricer_service2.py\n",
      "- Creating objects...\n",
      "└── 🔨 Created mount \n",
      "    c:\\Users\\iskorpittt\\Desktop\\MY_DATA_SCIENCE\\PROJECTS\\GENERATIVE_AI\\llm_engi\n",
      "    neering\\week8\\pricer_service2.py\n",
      "| Creating objects...\n",
      "└── 🔨 Created mount \n",
      "    c:\\Users\\iskorpittt\\Desktop\\MY_DATA_SCIENCE\\PROJECTS\\GENERATIVE_AI\\llm_engi\n",
      "    neering\\week8\\pricer_service2.py\n",
      "- Creating objects...\n",
      "└── 🔨 Created mount \n",
      "    c:\\Users\\iskorpittt\\Desktop\\MY_DATA_SCIENCE\\PROJECTS\\GENERATIVE_AI\\llm_engi\n",
      "    neering\\week8\\pricer_service2.py\n",
      "| Creating objects...\n",
      "└── 🔨 Created mount \n",
      "    c:\\Users\\iskorpittt\\Desktop\\MY_DATA_SCIENCE\\PROJECTS\\GENERATIVE_AI\\llm_engi\n",
      "    neering\\week8\\pricer_service2.py\n",
      "- Creating objects...\n",
      "└── 🔨 Created mount \n",
      "    c:\\Users\\iskorpittt\\Desktop\\MY_DATA_SCIENCE\\PROJECTS\\GENERATIVE_AI\\llm_engi\n",
      "    neering\\week8\\pricer_service2.py\n",
      "| Creating objects...\n",
      "└── 🔨 Created mount \n",
      "    c:\\Users\\iskorpittt\\Desktop\\MY_DATA_SCIENCE\\PROJECTS\\GENERATIVE_AI\\llm_engi\n",
      "    neering\\week8\\pricer_service2.py\n",
      "- Creating objects...\n",
      "└── 🔨 Created mount \n",
      "    c:\\Users\\iskorpittt\\Desktop\\MY_DATA_SCIENCE\\PROJECTS\\GENERATIVE_AI\\llm_engi\n",
      "    neering\\week8\\pricer_service2.py\n",
      "| Creating objects...\n",
      "└── 🔨 Created mount \n",
      "    c:\\Users\\iskorpittt\\Desktop\\MY_DATA_SCIENCE\\PROJECTS\\GENERATIVE_AI\\llm_engi\n",
      "    neering\\week8\\pricer_service2.py\n",
      "- Creating objects...\n",
      "└── 🔨 Created mount \n",
      "    c:\\Users\\iskorpittt\\Desktop\\MY_DATA_SCIENCE\\PROJECTS\\GENERATIVE_AI\\llm_engi\n",
      "    neering\\week8\\pricer_service2.py\n",
      "| Creating objects...\n",
      "└── 🔨 Created mount \n",
      "    c:\\Users\\iskorpittt\\Desktop\\MY_DATA_SCIENCE\\PROJECTS\\GENERATIVE_AI\\llm_engi\n",
      "    neering\\week8\\pricer_service2.py\n",
      "- Creating objects...\n",
      "└── 🔨 Created mount \n",
      "    c:\\Users\\iskorpittt\\Desktop\\MY_DATA_SCIENCE\\PROJECTS\\GENERATIVE_AI\\llm_engi\n",
      "    neering\\week8\\pricer_service2.py\n",
      "| Creating objects...\n",
      "└── 🔨 Created mount \n",
      "    c:\\Users\\iskorpittt\\Desktop\\MY_DATA_SCIENCE\\PROJECTS\\GENERATIVE_AI\\llm_engi\n",
      "    neering\\week8\\pricer_service2.py\n",
      "- Creating objects...\n",
      "└── 🔨 Created mount \n",
      "    c:\\Users\\iskorpittt\\Desktop\\MY_DATA_SCIENCE\\PROJECTS\\GENERATIVE_AI\\llm_engi\n",
      "    neering\\week8\\pricer_service2.py\n",
      "| Creating objects...\n",
      "└── 🔨 Created mount \n",
      "    c:\\Users\\iskorpittt\\Desktop\\MY_DATA_SCIENCE\\PROJECTS\\GENERATIVE_AI\\llm_engi\n",
      "    neering\\week8\\pricer_service2.py\n",
      "- Creating objects...\n",
      "└── 🔨 Created mount \n",
      "    c:\\Users\\iskorpittt\\Desktop\\MY_DATA_SCIENCE\\PROJECTS\\GENERATIVE_AI\\llm_engi\n",
      "    neering\\week8\\pricer_service2.py\n",
      "| Creating objects...\n",
      "└── 🔨 Created mount \n",
      "    c:\\Users\\iskorpittt\\Desktop\\MY_DATA_SCIENCE\\PROJECTS\\GENERATIVE_AI\\llm_engi\n",
      "    neering\\week8\\pricer_service2.py\n",
      "- Creating objects...\n",
      "└── 🔨 Created mount \n",
      "    c:\\Users\\iskorpittt\\Desktop\\MY_DATA_SCIENCE\\PROJECTS\\GENERATIVE_AI\\llm_engi\n",
      "    neering\\week8\\pricer_service2.py\n",
      "| Creating objects...\n",
      "└── 🔨 Created mount \n",
      "    c:\\Users\\iskorpittt\\Desktop\\MY_DATA_SCIENCE\\PROJECTS\\GENERATIVE_AI\\llm_engi\n",
      "    neering\\week8\\pricer_service2.py\n",
      "- Creating objects...\n",
      "└── 🔨 Created mount \n",
      "    c:\\Users\\iskorpittt\\Desktop\\MY_DATA_SCIENCE\\PROJECTS\\GENERATIVE_AI\\llm_engi\n",
      "    neering\\week8\\pricer_service2.py\n",
      "| Creating objects...\n",
      "└── 🔨 Created mount \n",
      "    c:\\Users\\iskorpittt\\Desktop\\MY_DATA_SCIENCE\\PROJECTS\\GENERATIVE_AI\\llm_engi\n",
      "    neering\\week8\\pricer_service2.py\n",
      "- Creating objects...\n",
      "└── 🔨 Created mount \n",
      "    c:\\Users\\iskorpittt\\Desktop\\MY_DATA_SCIENCE\\PROJECTS\\GENERATIVE_AI\\llm_engi\n",
      "    neering\\week8\\pricer_service2.py\n",
      "| Creating objects...\n",
      "└── 🔨 Created mount \n",
      "    c:\\Users\\iskorpittt\\Desktop\\MY_DATA_SCIENCE\\PROJECTS\\GENERATIVE_AI\\llm_engi\n",
      "    neering\\week8\\pricer_service2.py\n",
      "- Creating objects...\n",
      "└── 🔨 Created mount \n",
      "    c:\\Users\\iskorpittt\\Desktop\\MY_DATA_SCIENCE\\PROJECTS\\GENERATIVE_AI\\llm_engi\n",
      "    neering\\week8\\pricer_service2.py\n",
      "| Creating objects...\n",
      "└── 🔨 Created mount \n",
      "    c:\\Users\\iskorpittt\\Desktop\\MY_DATA_SCIENCE\\PROJECTS\\GENERATIVE_AI\\llm_engi\n",
      "    neering\\week8\\pricer_service2.py\n",
      "- Creating objects...\n",
      "└── 🔨 Created mount \n",
      "    c:\\Users\\iskorpittt\\Desktop\\MY_DATA_SCIENCE\\PROJECTS\\GENERATIVE_AI\\llm_engi\n",
      "    neering\\week8\\pricer_service2.py\n",
      "| Creating objects...\n",
      "└── 🔨 Created mount \n",
      "    c:\\Users\\iskorpittt\\Desktop\\MY_DATA_SCIENCE\\PROJECTS\\GENERATIVE_AI\\llm_engi\n",
      "    neering\\week8\\pricer_service2.py\n",
      "- Creating objects...\n",
      "└── 🔨 Created mount \n",
      "    c:\\Users\\iskorpittt\\Desktop\\MY_DATA_SCIENCE\\PROJECTS\\GENERATIVE_AI\\llm_engi\n",
      "    neering\\week8\\pricer_service2.py\n",
      "| Creating objects...\n",
      "└── 🔨 Created mount \n",
      "    c:\\Users\\iskorpittt\\Desktop\\MY_DATA_SCIENCE\\PROJECTS\\GENERATIVE_AI\\llm_engi\n",
      "    neering\\week8\\pricer_service2.py\n",
      "- Creating objects...\n",
      "└── 🔨 Created mount \n",
      "    c:\\Users\\iskorpittt\\Desktop\\MY_DATA_SCIENCE\\PROJECTS\\GENERATIVE_AI\\llm_engi\n",
      "    neering\\week8\\pricer_service2.py\n",
      "| Creating objects...\n",
      "└── 🔨 Created mount \n",
      "    c:\\Users\\iskorpittt\\Desktop\\MY_DATA_SCIENCE\\PROJECTS\\GENERATIVE_AI\\llm_engi\n",
      "    neering\\week8\\pricer_service2.py\n",
      "- Creating objects...\n",
      "└── 🔨 Created mount \n",
      "    c:\\Users\\iskorpittt\\Desktop\\MY_DATA_SCIENCE\\PROJECTS\\GENERATIVE_AI\\llm_engi\n",
      "    neering\\week8\\pricer_service2.py\n",
      "| Creating objects...\n",
      "└── 🔨 Created mount \n",
      "    c:\\Users\\iskorpittt\\Desktop\\MY_DATA_SCIENCE\\PROJECTS\\GENERATIVE_AI\\llm_engi\n",
      "    neering\\week8\\pricer_service2.py\n",
      "- Creating objects...\n",
      "└── 🔨 Created mount \n",
      "    c:\\Users\\iskorpittt\\Desktop\\MY_DATA_SCIENCE\\PROJECTS\\GENERATIVE_AI\\llm_engi\n",
      "    neering\\week8\\pricer_service2.py\n",
      "| Creating objects...\n",
      "└── 🔨 Created mount \n",
      "    c:\\Users\\iskorpittt\\Desktop\\MY_DATA_SCIENCE\\PROJECTS\\GENERATIVE_AI\\llm_engi\n",
      "    neering\\week8\\pricer_service2.py\n",
      "- Creating objects...\n",
      "└── 🔨 Created mount \n",
      "    c:\\Users\\iskorpittt\\Desktop\\MY_DATA_SCIENCE\\PROJECTS\\GENERATIVE_AI\\llm_engi\n",
      "    neering\\week8\\pricer_service2.py\n",
      "| Creating objects...\n",
      "└── 🔨 Created mount \n",
      "    c:\\Users\\iskorpittt\\Desktop\\MY_DATA_SCIENCE\\PROJECTS\\GENERATIVE_AI\\llm_engi\n",
      "    neering\\week8\\pricer_service2.py\n",
      "- Creating objects...\n",
      "└── 🔨 Created mount \n",
      "    c:\\Users\\iskorpittt\\Desktop\\MY_DATA_SCIENCE\\PROJECTS\\GENERATIVE_AI\\llm_engi\n",
      "    neering\\week8\\pricer_service2.py\n",
      "| Creating objects...\n",
      "└── 🔨 Created mount \n",
      "    c:\\Users\\iskorpittt\\Desktop\\MY_DATA_SCIENCE\\PROJECTS\\GENERATIVE_AI\\llm_engi\n",
      "    neering\\week8\\pricer_service2.py\n",
      "- Creating objects...\n",
      "└── 🔨 Created mount \n",
      "    c:\\Users\\iskorpittt\\Desktop\\MY_DATA_SCIENCE\\PROJECTS\\GENERATIVE_AI\\llm_engi\n",
      "    neering\\week8\\pricer_service2.py\n",
      "| Creating objects...\n",
      "└── 🔨 Created mount \n",
      "    c:\\Users\\iskorpittt\\Desktop\\MY_DATA_SCIENCE\\PROJECTS\\GENERATIVE_AI\\llm_engi\n",
      "    neering\\week8\\pricer_service2.py\n",
      "- Creating objects...\n",
      "└── 🔨 Created mount \n",
      "    c:\\Users\\iskorpittt\\Desktop\\MY_DATA_SCIENCE\\PROJECTS\\GENERATIVE_AI\\llm_engi\n",
      "    neering\\week8\\pricer_service2.py\n",
      "| Creating objects...\n",
      "└── 🔨 Created mount \n",
      "    c:\\Users\\iskorpittt\\Desktop\\MY_DATA_SCIENCE\\PROJECTS\\GENERATIVE_AI\\llm_engi\n",
      "    neering\\week8\\pricer_service2.py\n",
      "- Creating objects...\n",
      "└── 🔨 Created mount \n",
      "    c:\\Users\\iskorpittt\\Desktop\\MY_DATA_SCIENCE\\PROJECTS\\GENERATIVE_AI\\llm_engi\n",
      "    neering\\week8\\pricer_service2.py\n",
      "| Creating objects...\n",
      "└── 🔨 Created mount \n",
      "    c:\\Users\\iskorpittt\\Desktop\\MY_DATA_SCIENCE\\PROJECTS\\GENERATIVE_AI\\llm_engi\n",
      "    neering\\week8\\pricer_service2.py\n",
      "- Creating objects...\n",
      "└── 🔨 Created mount \n",
      "    c:\\Users\\iskorpittt\\Desktop\\MY_DATA_SCIENCE\\PROJECTS\\GENERATIVE_AI\\llm_engi\n",
      "    neering\\week8\\pricer_service2.py\n",
      "| Creating objects...\n",
      "└── 🔨 Created mount \n",
      "    c:\\Users\\iskorpittt\\Desktop\\MY_DATA_SCIENCE\\PROJECTS\\GENERATIVE_AI\\llm_engi\n",
      "    neering\\week8\\pricer_service2.py\n",
      "\\ Creating objects...\n",
      "└── 🔨 Created mount \n",
      "    c:\\Users\\iskorpittt\\Desktop\\MY_DATA_SCIENCE\\PROJECTS\\GENERATIVE_AI\\llm_engi\n",
      "    neering\\week8\\pricer_service2.py\n",
      "/ Creating objects...\n",
      "└── 🔨 Created mount \n",
      "    c:\\Users\\iskorpittt\\Desktop\\MY_DATA_SCIENCE\\PROJECTS\\GENERATIVE_AI\\llm_engi\n",
      "    neering\\week8\\pricer_service2.py\n",
      "- Creating objects...\n",
      "└── 🔨 Created mount \n",
      "    c:\\Users\\iskorpittt\\Desktop\\MY_DATA_SCIENCE\\PROJECTS\\GENERATIVE_AI\\llm_engi\n",
      "    neering\\week8\\pricer_service2.py\n",
      "/ Creating objects...\n",
      "└── 🔨 Created mount \n",
      "    c:\\Users\\iskorpittt\\Desktop\\MY_DATA_SCIENCE\\PROJECTS\\GENERATIVE_AI\\llm_engi\n",
      "    neering\\week8\\pricer_service2.py\n",
      "- Creating objects...\n",
      "└── 🔨 Created mount \n",
      "    c:\\Users\\iskorpittt\\Desktop\\MY_DATA_SCIENCE\\PROJECTS\\GENERATIVE_AI\\llm_engi\n",
      "    neering\\week8\\pricer_service2.py\n",
      "/ Creating objects...\n",
      "└── 🔨 Created mount \n",
      "    c:\\Users\\iskorpittt\\Desktop\\MY_DATA_SCIENCE\\PROJECTS\\GENERATIVE_AI\\llm_engi\n",
      "    neering\\week8\\pricer_service2.py\n",
      "\\ Creating objects...\n",
      "└── 🔨 Created mount \n",
      "    c:\\Users\\iskorpittt\\Desktop\\MY_DATA_SCIENCE\\PROJECTS\\GENERATIVE_AI\\llm_engi\n",
      "    neering\\week8\\pricer_service2.py\n",
      "/ Creating objects...\n",
      "└── 🔨 Created mount \n",
      "    c:\\Users\\iskorpittt\\Desktop\\MY_DATA_SCIENCE\\PROJECTS\\GENERATIVE_AI\\llm_engi\n",
      "    neering\\week8\\pricer_service2.py\n",
      "\\ Creating objects...\n",
      "└── 🔨 Created mount \n",
      "    c:\\Users\\iskorpittt\\Desktop\\MY_DATA_SCIENCE\\PROJECTS\\GENERATIVE_AI\\llm_engi\n",
      "    neering\\week8\\pricer_service2.py\n",
      "/ Creating objects...\n",
      "└── 🔨 Created mount \n",
      "    c:\\Users\\iskorpittt\\Desktop\\MY_DATA_SCIENCE\\PROJECTS\\GENERATIVE_AI\\llm_engi\n",
      "    neering\\week8\\pricer_service2.py\n",
      "- Creating objects...\n",
      "└── 🔨 Created mount \n",
      "    c:\\Users\\iskorpittt\\Desktop\\MY_DATA_SCIENCE\\PROJECTS\\GENERATIVE_AI\\llm_engi\n",
      "    neering\\week8\\pricer_service2.py\n",
      "/ Creating objects...\n",
      "└── 🔨 Created mount \n",
      "    c:\\Users\\iskorpittt\\Desktop\\MY_DATA_SCIENCE\\PROJECTS\\GENERATIVE_AI\\llm_engi\n",
      "    neering\\week8\\pricer_service2.py\n",
      "- Creating objects...\n",
      "└── 🔨 Created mount \n",
      "    c:\\Users\\iskorpittt\\Desktop\\MY_DATA_SCIENCE\\PROJECTS\\GENERATIVE_AI\\llm_engi\n",
      "    neering\\week8\\pricer_service2.py\n",
      "| Creating objects...\n",
      "└── 🔨 Created mount \n",
      "    c:\\Users\\iskorpittt\\Desktop\\MY_DATA_SCIENCE\\PROJECTS\\GENERATIVE_AI\\llm_engi\n",
      "    neering\\week8\\pricer_service2.py\n",
      "- Creating objects...\n",
      "└── 🔨 Created mount \n",
      "    c:\\Users\\iskorpittt\\Desktop\\MY_DATA_SCIENCE\\PROJECTS\\GENERATIVE_AI\\llm_engi\n",
      "    neering\\week8\\pricer_service2.py\n",
      "| Creating objects...\n",
      "└── 🔨 Created mount \n",
      "    c:\\Users\\iskorpittt\\Desktop\\MY_DATA_SCIENCE\\PROJECTS\\GENERATIVE_AI\\llm_engi\n",
      "    neering\\week8\\pricer_service2.py\n",
      "- Creating objects...\n",
      "└── 🔨 Created mount \n",
      "    c:\\Users\\iskorpittt\\Desktop\\MY_DATA_SCIENCE\\PROJECTS\\GENERATIVE_AI\\llm_engi\n",
      "    neering\\week8\\pricer_service2.py\n",
      "| Creating objects...\n",
      "└── 🔨 Created mount \n",
      "    c:\\Users\\iskorpittt\\Desktop\\MY_DATA_SCIENCE\\PROJECTS\\GENERATIVE_AI\\llm_engi\n",
      "    neering\\week8\\pricer_service2.py\n",
      "- Creating objects...\n",
      "└── 🔨 Created mount \n",
      "    c:\\Users\\iskorpittt\\Desktop\\MY_DATA_SCIENCE\\PROJECTS\\GENERATIVE_AI\\llm_engi\n",
      "    neering\\week8\\pricer_service2.py\n",
      "| Creating objects...\n",
      "└── 🔨 Created mount \n",
      "    c:\\Users\\iskorpittt\\Desktop\\MY_DATA_SCIENCE\\PROJECTS\\GENERATIVE_AI\\llm_engi\n",
      "    neering\\week8\\pricer_service2.py\n",
      "- Creating objects...\n",
      "└── 🔨 Created mount \n",
      "    c:\\Users\\iskorpittt\\Desktop\\MY_DATA_SCIENCE\\PROJECTS\\GENERATIVE_AI\\llm_engi\n",
      "    neering\\week8\\pricer_service2.py\n",
      "| Creating objects...\n",
      "└── 🔨 Created mount \n",
      "    c:\\Users\\iskorpittt\\Desktop\\MY_DATA_SCIENCE\\PROJECTS\\GENERATIVE_AI\\llm_engi\n",
      "    neering\\week8\\pricer_service2.py\n",
      "- Creating objects...\n",
      "└── 🔨 Created mount \n",
      "    c:\\Users\\iskorpittt\\Desktop\\MY_DATA_SCIENCE\\PROJECTS\\GENERATIVE_AI\\llm_engi\n",
      "    neering\\week8\\pricer_service2.py\n",
      "| Creating objects...\n",
      "└── 🔨 Created mount \n",
      "    c:\\Users\\iskorpittt\\Desktop\\MY_DATA_SCIENCE\\PROJECTS\\GENERATIVE_AI\\llm_engi\n",
      "    neering\\week8\\pricer_service2.py\n",
      "- Creating objects...\n",
      "└── 🔨 Created mount \n",
      "    c:\\Users\\iskorpittt\\Desktop\\MY_DATA_SCIENCE\\PROJECTS\\GENERATIVE_AI\\llm_engi\n",
      "    neering\\week8\\pricer_service2.py\n",
      "| Creating objects...\n",
      "└── 🔨 Created mount \n",
      "    c:\\Users\\iskorpittt\\Desktop\\MY_DATA_SCIENCE\\PROJECTS\\GENERATIVE_AI\\llm_engi\n",
      "    neering\\week8\\pricer_service2.py\n",
      "- Creating objects...\n",
      "└── 🔨 Created mount \n",
      "    c:\\Users\\iskorpittt\\Desktop\\MY_DATA_SCIENCE\\PROJECTS\\GENERATIVE_AI\\llm_engi\n",
      "    neering\\week8\\pricer_service2.py\n",
      "| Creating objects...\n",
      "└── 🔨 Created mount \n",
      "    c:\\Users\\iskorpittt\\Desktop\\MY_DATA_SCIENCE\\PROJECTS\\GENERATIVE_AI\\llm_engi\n",
      "    neering\\week8\\pricer_service2.py\n",
      "- Creating objects...\n",
      "└── 🔨 Created mount \n",
      "    c:\\Users\\iskorpittt\\Desktop\\MY_DATA_SCIENCE\\PROJECTS\\GENERATIVE_AI\\llm_engi\n",
      "    neering\\week8\\pricer_service2.py\n",
      "| Creating objects...\n",
      "└── 🔨 Created mount \n",
      "    c:\\Users\\iskorpittt\\Desktop\\MY_DATA_SCIENCE\\PROJECTS\\GENERATIVE_AI\\llm_engi\n",
      "    neering\\week8\\pricer_service2.py\n",
      "- Creating objects...\n",
      "└── 🔨 Created mount \n",
      "    c:\\Users\\iskorpittt\\Desktop\\MY_DATA_SCIENCE\\PROJECTS\\GENERATIVE_AI\\llm_engi\n",
      "    neering\\week8\\pricer_service2.py\n",
      "| Creating objects...\n",
      "└── 🔨 Created mount \n",
      "    c:\\Users\\iskorpittt\\Desktop\\MY_DATA_SCIENCE\\PROJECTS\\GENERATIVE_AI\\llm_engi\n",
      "    neering\\week8\\pricer_service2.py\n",
      "- Creating objects...\n",
      "└── 🔨 Created mount \n",
      "    c:\\Users\\iskorpittt\\Desktop\\MY_DATA_SCIENCE\\PROJECTS\\GENERATIVE_AI\\llm_engi\n",
      "    neering\\week8\\pricer_service2.py\n",
      "| Creating objects...\n",
      "└── 🔨 Created mount \n",
      "    c:\\Users\\iskorpittt\\Desktop\\MY_DATA_SCIENCE\\PROJECTS\\GENERATIVE_AI\\llm_engi\n",
      "    neering\\week8\\pricer_service2.py\n",
      "- Creating objects...\n",
      "└── 🔨 Created mount \n",
      "    c:\\Users\\iskorpittt\\Desktop\\MY_DATA_SCIENCE\\PROJECTS\\GENERATIVE_AI\\llm_engi\n",
      "    neering\\week8\\pricer_service2.py\n",
      "| Creating objects...\n",
      "└── 🔨 Created mount \n",
      "    c:\\Users\\iskorpittt\\Desktop\\MY_DATA_SCIENCE\\PROJECTS\\GENERATIVE_AI\\llm_engi\n",
      "    neering\\week8\\pricer_service2.py\n",
      "- Creating objects...\n",
      "└── 🔨 Created mount \n",
      "    c:\\Users\\iskorpittt\\Desktop\\MY_DATA_SCIENCE\\PROJECTS\\GENERATIVE_AI\\llm_engi\n",
      "    neering\\week8\\pricer_service2.py\n",
      "| Creating objects...\n",
      "└── 🔨 Created mount \n",
      "    c:\\Users\\iskorpittt\\Desktop\\MY_DATA_SCIENCE\\PROJECTS\\GENERATIVE_AI\\llm_engi\n",
      "    neering\\week8\\pricer_service2.py\n",
      "- Creating objects...\n",
      "└── 🔨 Created mount \n",
      "    c:\\Users\\iskorpittt\\Desktop\\MY_DATA_SCIENCE\\PROJECTS\\GENERATIVE_AI\\llm_engi\n",
      "    neering\\week8\\pricer_service2.py\n",
      "| Creating objects...\n",
      "└── 🔨 Created mount \n",
      "    c:\\Users\\iskorpittt\\Desktop\\MY_DATA_SCIENCE\\PROJECTS\\GENERATIVE_AI\\llm_engi\n",
      "    neering\\week8\\pricer_service2.py\n",
      "- Creating objects...\n",
      "└── 🔨 Created mount \n",
      "    c:\\Users\\iskorpittt\\Desktop\\MY_DATA_SCIENCE\\PROJECTS\\GENERATIVE_AI\\llm_engi\n",
      "    neering\\week8\\pricer_service2.py\n",
      "| Creating objects...\n",
      "└── 🔨 Created mount \n",
      "    c:\\Users\\iskorpittt\\Desktop\\MY_DATA_SCIENCE\\PROJECTS\\GENERATIVE_AI\\llm_engi\n",
      "    neering\\week8\\pricer_service2.py\n",
      "- Creating objects...\n",
      "└── 🔨 Created mount \n",
      "    c:\\Users\\iskorpittt\\Desktop\\MY_DATA_SCIENCE\\PROJECTS\\GENERATIVE_AI\\llm_engi\n",
      "    neering\\week8\\pricer_service2.py\n",
      "| Creating objects...\n",
      "└── 🔨 Created mount \n",
      "    c:\\Users\\iskorpittt\\Desktop\\MY_DATA_SCIENCE\\PROJECTS\\GENERATIVE_AI\\llm_engi\n",
      "    neering\\week8\\pricer_service2.py\n",
      "- Creating objects...\n",
      "└── 🔨 Created mount \n",
      "    c:\\Users\\iskorpittt\\Desktop\\MY_DATA_SCIENCE\\PROJECTS\\GENERATIVE_AI\\llm_engi\n",
      "    neering\\week8\\pricer_service2.py\n",
      "| Creating objects...\n",
      "└── 🔨 Created mount \n",
      "    c:\\Users\\iskorpittt\\Desktop\\MY_DATA_SCIENCE\\PROJECTS\\GENERATIVE_AI\\llm_engi\n",
      "    neering\\week8\\pricer_service2.py\n",
      "- Creating objects...\n",
      "└── 🔨 Created mount \n",
      "    c:\\Users\\iskorpittt\\Desktop\\MY_DATA_SCIENCE\\PROJECTS\\GENERATIVE_AI\\llm_engi\n",
      "    neering\\week8\\pricer_service2.py\n",
      "/ Creating objects...\n",
      "└── 🔨 Created mount \n",
      "    c:\\Users\\iskorpittt\\Desktop\\MY_DATA_SCIENCE\\PROJECTS\\GENERATIVE_AI\\llm_engi\n",
      "    neering\\week8\\pricer_service2.py\n",
      "- Creating objects...\n",
      "└── 🔨 Created mount \n",
      "    c:\\Users\\iskorpittt\\Desktop\\MY_DATA_SCIENCE\\PROJECTS\\GENERATIVE_AI\\llm_engi\n",
      "    neering\\week8\\pricer_service2.py\n",
      "| Creating objects...\n",
      "└── 🔨 Created mount \n",
      "    c:\\Users\\iskorpittt\\Desktop\\MY_DATA_SCIENCE\\PROJECTS\\GENERATIVE_AI\\llm_engi\n",
      "    neering\\week8\\pricer_service2.py\n",
      "\\ Creating objects...\n",
      "└── 🔨 Created mount \n",
      "    c:\\Users\\iskorpittt\\Desktop\\MY_DATA_SCIENCE\\PROJECTS\\GENERATIVE_AI\\llm_engi\n",
      "    neering\\week8\\pricer_service2.py\n",
      "| Creating objects...\n",
      "└── 🔨 Created mount \n",
      "    c:\\Users\\iskorpittt\\Desktop\\MY_DATA_SCIENCE\\PROJECTS\\GENERATIVE_AI\\llm_engi\n",
      "    neering\\week8\\pricer_service2.py\n",
      "- Creating objects...\n",
      "└── 🔨 Created mount \n",
      "    c:\\Users\\iskorpittt\\Desktop\\MY_DATA_SCIENCE\\PROJECTS\\GENERATIVE_AI\\llm_engi\n",
      "    neering\\week8\\pricer_service2.py\n",
      "| Creating objects...\n",
      "└── 🔨 Created mount \n",
      "    c:\\Users\\iskorpittt\\Desktop\\MY_DATA_SCIENCE\\PROJECTS\\GENERATIVE_AI\\llm_engi\n",
      "    neering\\week8\\pricer_service2.py\n",
      "- Creating objects...\n",
      "└── 🔨 Created mount \n",
      "    c:\\Users\\iskorpittt\\Desktop\\MY_DATA_SCIENCE\\PROJECTS\\GENERATIVE_AI\\llm_engi\n",
      "    neering\\week8\\pricer_service2.py\n",
      "| Creating objects...\n",
      "└── 🔨 Created mount \n",
      "    c:\\Users\\iskorpittt\\Desktop\\MY_DATA_SCIENCE\\PROJECTS\\GENERATIVE_AI\\llm_engi\n",
      "    neering\\week8\\pricer_service2.py\n",
      "- Creating objects...\n",
      "└── 🔨 Created mount \n",
      "    c:\\Users\\iskorpittt\\Desktop\\MY_DATA_SCIENCE\\PROJECTS\\GENERATIVE_AI\\llm_engi\n",
      "    neering\\week8\\pricer_service2.py\n",
      "| Creating objects...\n",
      "└── 🔨 Created mount \n",
      "    c:\\Users\\iskorpittt\\Desktop\\MY_DATA_SCIENCE\\PROJECTS\\GENERATIVE_AI\\llm_engi\n",
      "    neering\\week8\\pricer_service2.py\n",
      "- Creating objects...\n",
      "└── 🔨 Created mount \n",
      "    c:\\Users\\iskorpittt\\Desktop\\MY_DATA_SCIENCE\\PROJECTS\\GENERATIVE_AI\\llm_engi\n",
      "    neering\\week8\\pricer_service2.py\n",
      "| Creating objects...\n",
      "└── 🔨 Created mount \n",
      "    c:\\Users\\iskorpittt\\Desktop\\MY_DATA_SCIENCE\\PROJECTS\\GENERATIVE_AI\\llm_engi\n",
      "    neering\\week8\\pricer_service2.py\n",
      "- Creating objects...\n",
      "└── 🔨 Created mount \n",
      "    c:\\Users\\iskorpittt\\Desktop\\MY_DATA_SCIENCE\\PROJECTS\\GENERATIVE_AI\\llm_engi\n",
      "    neering\\week8\\pricer_service2.py\n",
      "| Creating objects...\n",
      "└── 🔨 Created mount \n",
      "    c:\\Users\\iskorpittt\\Desktop\\MY_DATA_SCIENCE\\PROJECTS\\GENERATIVE_AI\\llm_engi\n",
      "    neering\\week8\\pricer_service2.py\n",
      "- Creating objects...\n",
      "└── 🔨 Created mount \n",
      "    c:\\Users\\iskorpittt\\Desktop\\MY_DATA_SCIENCE\\PROJECTS\\GENERATIVE_AI\\llm_engi\n",
      "    neering\\week8\\pricer_service2.py\n",
      "| Creating objects...\n",
      "└── 🔨 Created mount \n",
      "    c:\\Users\\iskorpittt\\Desktop\\MY_DATA_SCIENCE\\PROJECTS\\GENERATIVE_AI\\llm_engi\n",
      "    neering\\week8\\pricer_service2.py\n",
      "- Creating objects...\n",
      "└── 🔨 Created mount \n",
      "    c:\\Users\\iskorpittt\\Desktop\\MY_DATA_SCIENCE\\PROJECTS\\GENERATIVE_AI\\llm_engi\n",
      "    neering\\week8\\pricer_service2.py\n",
      "| Creating objects...\n",
      "└── 🔨 Created mount \n",
      "    c:\\Users\\iskorpittt\\Desktop\\MY_DATA_SCIENCE\\PROJECTS\\GENERATIVE_AI\\llm_engi\n",
      "    neering\\week8\\pricer_service2.py\n",
      "- Creating objects...\n",
      "└── 🔨 Created mount \n",
      "    c:\\Users\\iskorpittt\\Desktop\\MY_DATA_SCIENCE\\PROJECTS\\GENERATIVE_AI\\llm_engi\n",
      "    neering\\week8\\pricer_service2.py\n",
      "| Creating objects...\n",
      "└── 🔨 Created mount \n",
      "    c:\\Users\\iskorpittt\\Desktop\\MY_DATA_SCIENCE\\PROJECTS\\GENERATIVE_AI\\llm_engi\n",
      "    neering\\week8\\pricer_service2.py\n",
      "- Creating objects...\n",
      "└── 🔨 Created mount \n",
      "    c:\\Users\\iskorpittt\\Desktop\\MY_DATA_SCIENCE\\PROJECTS\\GENERATIVE_AI\\llm_engi\n",
      "    neering\\week8\\pricer_service2.py\n",
      "| Creating objects...\n",
      "└── 🔨 Created mount \n",
      "    c:\\Users\\iskorpittt\\Desktop\\MY_DATA_SCIENCE\\PROJECTS\\GENERATIVE_AI\\llm_engi\n",
      "    neering\\week8\\pricer_service2.py\n",
      "- Creating objects...\n",
      "└── 🔨 Created mount \n",
      "    c:\\Users\\iskorpittt\\Desktop\\MY_DATA_SCIENCE\\PROJECTS\\GENERATIVE_AI\\llm_engi\n",
      "    neering\\week8\\pricer_service2.py\n",
      "| Creating objects...\n",
      "└── 🔨 Created mount \n",
      "    c:\\Users\\iskorpittt\\Desktop\\MY_DATA_SCIENCE\\PROJECTS\\GENERATIVE_AI\\llm_engi\n",
      "    neering\\week8\\pricer_service2.py\n",
      "- Creating objects...\n",
      "└── 🔨 Created mount \n",
      "    c:\\Users\\iskorpittt\\Desktop\\MY_DATA_SCIENCE\\PROJECTS\\GENERATIVE_AI\\llm_engi\n",
      "    neering\\week8\\pricer_service2.py\n",
      "| Creating objects...\n",
      "└── 🔨 Created mount \n",
      "    c:\\Users\\iskorpittt\\Desktop\\MY_DATA_SCIENCE\\PROJECTS\\GENERATIVE_AI\\llm_engi\n",
      "    neering\\week8\\pricer_service2.py\n",
      "- Creating objects...\n",
      "└── 🔨 Created mount \n",
      "    c:\\Users\\iskorpittt\\Desktop\\MY_DATA_SCIENCE\\PROJECTS\\GENERATIVE_AI\\llm_engi\n",
      "    neering\\week8\\pricer_service2.py\n",
      "| Creating objects...\n",
      "└── 🔨 Created mount \n",
      "    c:\\Users\\iskorpittt\\Desktop\\MY_DATA_SCIENCE\\PROJECTS\\GENERATIVE_AI\\llm_engi\n",
      "    neering\\week8\\pricer_service2.py\n",
      "- Creating objects...\n",
      "└── 🔨 Created mount \n",
      "    c:\\Users\\iskorpittt\\Desktop\\MY_DATA_SCIENCE\\PROJECTS\\GENERATIVE_AI\\llm_engi\n",
      "    neering\\week8\\pricer_service2.py\n",
      "| Creating objects...\n",
      "└── 🔨 Created mount \n",
      "    c:\\Users\\iskorpittt\\Desktop\\MY_DATA_SCIENCE\\PROJECTS\\GENERATIVE_AI\\llm_engi\n",
      "    neering\\week8\\pricer_service2.py\n",
      "- Creating objects...\n",
      "└── 🔨 Created mount \n",
      "    c:\\Users\\iskorpittt\\Desktop\\MY_DATA_SCIENCE\\PROJECTS\\GENERATIVE_AI\\llm_engi\n",
      "    neering\\week8\\pricer_service2.py\n",
      "| Creating objects...\n",
      "└── 🔨 Created mount \n",
      "    c:\\Users\\iskorpittt\\Desktop\\MY_DATA_SCIENCE\\PROJECTS\\GENERATIVE_AI\\llm_engi\n",
      "    neering\\week8\\pricer_service2.py\n",
      "- Creating objects...\n",
      "└── 🔨 Created mount \n",
      "    c:\\Users\\iskorpittt\\Desktop\\MY_DATA_SCIENCE\\PROJECTS\\GENERATIVE_AI\\llm_engi\n",
      "    neering\\week8\\pricer_service2.py\n",
      "| Creating objects...\n",
      "└── 🔨 Created mount \n",
      "    c:\\Users\\iskorpittt\\Desktop\\MY_DATA_SCIENCE\\PROJECTS\\GENERATIVE_AI\\llm_engi\n",
      "    neering\\week8\\pricer_service2.py\n",
      "- Creating objects...\n",
      "└── 🔨 Created mount \n",
      "    c:\\Users\\iskorpittt\\Desktop\\MY_DATA_SCIENCE\\PROJECTS\\GENERATIVE_AI\\llm_engi\n",
      "    neering\\week8\\pricer_service2.py\n",
      "| Creating objects...\n",
      "└── 🔨 Created mount \n",
      "    c:\\Users\\iskorpittt\\Desktop\\MY_DATA_SCIENCE\\PROJECTS\\GENERATIVE_AI\\llm_engi\n",
      "    neering\\week8\\pricer_service2.py\n",
      "- Creating objects...\n",
      "└── 🔨 Created mount \n",
      "    c:\\Users\\iskorpittt\\Desktop\\MY_DATA_SCIENCE\\PROJECTS\\GENERATIVE_AI\\llm_engi\n",
      "    neering\\week8\\pricer_service2.py\n",
      "| Creating objects...\n",
      "└── 🔨 Created mount \n",
      "    c:\\Users\\iskorpittt\\Desktop\\MY_DATA_SCIENCE\\PROJECTS\\GENERATIVE_AI\\llm_engi\n",
      "    neering\\week8\\pricer_service2.py\n",
      "- Creating objects...\n",
      "└── 🔨 Created mount \n",
      "    c:\\Users\\iskorpittt\\Desktop\\MY_DATA_SCIENCE\\PROJECTS\\GENERATIVE_AI\\llm_engi\n",
      "    neering\\week8\\pricer_service2.py\n",
      "| Creating objects...\n",
      "└── 🔨 Created mount \n",
      "    c:\\Users\\iskorpittt\\Desktop\\MY_DATA_SCIENCE\\PROJECTS\\GENERATIVE_AI\\llm_engi\n",
      "    neering\\week8\\pricer_service2.py\n",
      "- Creating objects...\n",
      "└── 🔨 Created mount \n",
      "    c:\\Users\\iskorpittt\\Desktop\\MY_DATA_SCIENCE\\PROJECTS\\GENERATIVE_AI\\llm_engi\n",
      "    neering\\week8\\pricer_service2.py\n",
      "| Creating objects...\n",
      "└── 🔨 Created mount \n",
      "    c:\\Users\\iskorpittt\\Desktop\\MY_DATA_SCIENCE\\PROJECTS\\GENERATIVE_AI\\llm_engi\n",
      "    neering\\week8\\pricer_service2.py\n",
      "- Creating objects...\n",
      "└── 🔨 Created mount \n",
      "    c:\\Users\\iskorpittt\\Desktop\\MY_DATA_SCIENCE\\PROJECTS\\GENERATIVE_AI\\llm_engi\n",
      "    neering\\week8\\pricer_service2.py\n",
      "| Creating objects...\n",
      "└── 🔨 Created mount \n",
      "    c:\\Users\\iskorpittt\\Desktop\\MY_DATA_SCIENCE\\PROJECTS\\GENERATIVE_AI\\llm_engi\n",
      "    neering\\week8\\pricer_service2.py\n",
      "- Creating objects...\n",
      "└── 🔨 Created mount \n",
      "    c:\\Users\\iskorpittt\\Desktop\\MY_DATA_SCIENCE\\PROJECTS\\GENERATIVE_AI\\llm_engi\n",
      "    neering\\week8\\pricer_service2.py\n",
      "| Creating objects...\n",
      "└── 🔨 Created mount \n",
      "    c:\\Users\\iskorpittt\\Desktop\\MY_DATA_SCIENCE\\PROJECTS\\GENERATIVE_AI\\llm_engi\n",
      "    neering\\week8\\pricer_service2.py\n",
      "- Creating objects...\n",
      "└── 🔨 Created mount \n",
      "    c:\\Users\\iskorpittt\\Desktop\\MY_DATA_SCIENCE\\PROJECTS\\GENERATIVE_AI\\llm_engi\n",
      "    neering\\week8\\pricer_service2.py\n",
      "| Creating objects...\n",
      "└── 🔨 Created mount \n",
      "    c:\\Users\\iskorpittt\\Desktop\\MY_DATA_SCIENCE\\PROJECTS\\GENERATIVE_AI\\llm_engi\n",
      "    neering\\week8\\pricer_service2.py\n",
      "- Creating objects...\n",
      "└── 🔨 Created mount \n",
      "    c:\\Users\\iskorpittt\\Desktop\\MY_DATA_SCIENCE\\PROJECTS\\GENERATIVE_AI\\llm_engi\n",
      "    neering\\week8\\pricer_service2.py\n",
      "| Creating objects...\n",
      "└── 🔨 Created mount \n",
      "    c:\\Users\\iskorpittt\\Desktop\\MY_DATA_SCIENCE\\PROJECTS\\GENERATIVE_AI\\llm_engi\n",
      "    neering\\week8\\pricer_service2.py\n",
      "- Creating objects...\n",
      "└── 🔨 Created mount \n",
      "    c:\\Users\\iskorpittt\\Desktop\\MY_DATA_SCIENCE\\PROJECTS\\GENERATIVE_AI\\llm_engi\n",
      "    neering\\week8\\pricer_service2.py\n",
      "| Creating objects...\n",
      "└── 🔨 Created mount \n",
      "    c:\\Users\\iskorpittt\\Desktop\\MY_DATA_SCIENCE\\PROJECTS\\GENERATIVE_AI\\llm_engi\n",
      "    neering\\week8\\pricer_service2.py\n",
      "- Creating objects...\n",
      "└── 🔨 Created mount \n",
      "    c:\\Users\\iskorpittt\\Desktop\\MY_DATA_SCIENCE\\PROJECTS\\GENERATIVE_AI\\llm_engi\n",
      "    neering\\week8\\pricer_service2.py\n",
      "| Creating objects...\n",
      "└── 🔨 Created mount \n",
      "    c:\\Users\\iskorpittt\\Desktop\\MY_DATA_SCIENCE\\PROJECTS\\GENERATIVE_AI\\llm_engi\n",
      "    neering\\week8\\pricer_service2.py\n",
      "- Creating objects...\n",
      "└── 🔨 Created mount \n",
      "    c:\\Users\\iskorpittt\\Desktop\\MY_DATA_SCIENCE\\PROJECTS\\GENERATIVE_AI\\llm_engi\n",
      "    neering\\week8\\pricer_service2.py\n",
      "| Creating objects...\n",
      "└── 🔨 Created mount \n",
      "    c:\\Users\\iskorpittt\\Desktop\\MY_DATA_SCIENCE\\PROJECTS\\GENERATIVE_AI\\llm_engi\n",
      "    neering\\week8\\pricer_service2.py\n",
      "- Creating objects...\n",
      "└── 🔨 Created mount \n",
      "    c:\\Users\\iskorpittt\\Desktop\\MY_DATA_SCIENCE\\PROJECTS\\GENERATIVE_AI\\llm_engi\n",
      "    neering\\week8\\pricer_service2.py\n",
      "| Creating objects...\n",
      "└── 🔨 Created mount \n",
      "    c:\\Users\\iskorpittt\\Desktop\\MY_DATA_SCIENCE\\PROJECTS\\GENERATIVE_AI\\llm_engi\n",
      "    neering\\week8\\pricer_service2.py\n",
      "- Creating objects...\n",
      "└── 🔨 Created mount \n",
      "    c:\\Users\\iskorpittt\\Desktop\\MY_DATA_SCIENCE\\PROJECTS\\GENERATIVE_AI\\llm_engi\n",
      "    neering\\week8\\pricer_service2.py\n",
      "| Creating objects...\n",
      "└── 🔨 Created mount \n",
      "    c:\\Users\\iskorpittt\\Desktop\\MY_DATA_SCIENCE\\PROJECTS\\GENERATIVE_AI\\llm_engi\n",
      "    neering\\week8\\pricer_service2.py\n",
      "- Creating objects...\n",
      "└── 🔨 Created mount \n",
      "    c:\\Users\\iskorpittt\\Desktop\\MY_DATA_SCIENCE\\PROJECTS\\GENERATIVE_AI\\llm_engi\n",
      "    neering\\week8\\pricer_service2.py\n",
      "Successfully installed MarkupSafe-3.0.2 accelerate-1.3.0 bitsandbytes-0.45.1 charset-normalizer-3.4.1 filelock-3.17.0 fsspec-2025.2.0 huggingface-0.0.1 huggingface-hub-0.28.1 jinja2-3.1.5 mpmath-1.3.0 networkx-3.4.2 numpy-2.2.2 nvidia-cublas-cu12-12.4.5.8 nvidia-cuda-cupti-cu12-12.4.127 nvidia-cuda-nvrtc-cu12-12.4.127 nvidia-cuda-runtime-cu12-12.4.127 nvidia-cudnn-cu12-9.1.0.70 nvidia-cufft-cu12-11.2.1.3 nvidia-curand-cu12-10.3.5.147 nvidia-cusolver-cu12-11.6.1.9 nvidia-cusparse-cu12-12.3.1.170 nvidia-cusparselt-cu12-0.6.2 nvidia-nccl-cu12-2.21.5 nvidia-nvjitlink-cu12-12.4.127 nvidia-nvtx-cu12-12.4.127 packaging-24.2 peft-0.14.0 psutil-6.1.1 pyyaml-6.0.2 regex-2024.11.6 requests-2.32.3 safetensors-0.5.2 setuptools-75.8.0 sympy-1.13.1 tokenizers-0.21.0 torch-2.6.0 tqdm-4.67.1 transformers-4.48.2 triton-3.2.0 urllib3-2.3.0\n",
      "| Creating objects...\n",
      "└── 🔨 Created mount c:\\Users\\iskorpittt\\Desktop\\MY_DATA_SCIENCE\\PROJECTS\\GENER\n",
      "| Creating objects...\n",
      "└── 🔨 Created mount \n",
      "    c:\\Users\\iskorpittt\\Desktop\\MY_DATA_SCIENCE\\PROJECTS\\GENERATIVE_AI\\llm_engi\n",
      "    neering\\week8\\pricer_service2.py\n",
      "\n",
      "[notice] A new release of pip is available: 24.3.1 -> 25.0\n",
      "[notice] To update, run: pip install --upgrade pip\n",
      "| Creating objects...\n",
      "└── 🔨 Created mount c:\\Users\\iskorpittt\\Desktop\\MY_DATA_SCIENCE\\PROJECTS\\GENER\n",
      "- Creating objects...\n",
      "└── 🔨 Created mount \n",
      "    c:\\Users\\iskorpittt\\Desktop\\MY_DATA_SCIENCE\\PROJECTS\\GENERATIVE_AI\\llm_engi\n",
      "    neering\\week8\\pricer_service2.py\n",
      "| Creating objects...\n",
      "└── 🔨 Created mount \n",
      "    c:\\Users\\iskorpittt\\Desktop\\MY_DATA_SCIENCE\\PROJECTS\\GENERATIVE_AI\\llm_engi\n",
      "    neering\\week8\\pricer_service2.py\n",
      "- Creating objects...\n",
      "└── 🔨 Created mount \n",
      "    c:\\Users\\iskorpittt\\Desktop\\MY_DATA_SCIENCE\\PROJECTS\\GENERATIVE_AI\\llm_engi\n",
      "    neering\\week8\\pricer_service2.py\n",
      "| Creating objects...\n",
      "└── 🔨 Created mount \n",
      "    c:\\Users\\iskorpittt\\Desktop\\MY_DATA_SCIENCE\\PROJECTS\\GENERATIVE_AI\\llm_engi\n",
      "    neering\\week8\\pricer_service2.py\n",
      "Saving image...\n",
      "- Creating objects...\n",
      "└── 🔨 Created mount c:\\Users\\iskorpittt\\Desktop\\MY_DATA_SCIENCE\\PROJECTS\\GENER\n",
      "- Creating objects...\n",
      "└── 🔨 Created mount \n",
      "    c:\\Users\\iskorpittt\\Desktop\\MY_DATA_SCIENCE\\PROJECTS\\GENERATIVE_AI\\llm_engi\n",
      "    neering\\week8\\pricer_service2.py\n",
      "| Creating objects...\n",
      "└── 🔨 Created mount \n",
      "    c:\\Users\\iskorpittt\\Desktop\\MY_DATA_SCIENCE\\PROJECTS\\GENERATIVE_AI\\llm_engi\n",
      "    neering\\week8\\pricer_service2.py\n",
      "- Creating objects...\n",
      "└── 🔨 Created mount \n",
      "    c:\\Users\\iskorpittt\\Desktop\\MY_DATA_SCIENCE\\PROJECTS\\GENERATIVE_AI\\llm_engi\n",
      "    neering\\week8\\pricer_service2.py\n",
      "| Creating objects...\n",
      "└── 🔨 Created mount \n",
      "    c:\\Users\\iskorpittt\\Desktop\\MY_DATA_SCIENCE\\PROJECTS\\GENERATIVE_AI\\llm_engi\n",
      "    neering\\week8\\pricer_service2.py\n",
      "- Creating objects...\n",
      "└── 🔨 Created mount \n",
      "    c:\\Users\\iskorpittt\\Desktop\\MY_DATA_SCIENCE\\PROJECTS\\GENERATIVE_AI\\llm_engi\n",
      "    neering\\week8\\pricer_service2.py\n",
      "| Creating objects...\n",
      "└── 🔨 Created mount \n",
      "    c:\\Users\\iskorpittt\\Desktop\\MY_DATA_SCIENCE\\PROJECTS\\GENERATIVE_AI\\llm_engi\n",
      "    neering\\week8\\pricer_service2.py\n",
      "- Creating objects...\n",
      "└── 🔨 Created mount \n",
      "    c:\\Users\\iskorpittt\\Desktop\\MY_DATA_SCIENCE\\PROJECTS\\GENERATIVE_AI\\llm_engi\n",
      "    neering\\week8\\pricer_service2.py\n",
      "| Creating objects...\n",
      "└── 🔨 Created mount \n",
      "    c:\\Users\\iskorpittt\\Desktop\\MY_DATA_SCIENCE\\PROJECTS\\GENERATIVE_AI\\llm_engi\n",
      "    neering\\week8\\pricer_service2.py\n",
      "- Creating objects...\n",
      "└── 🔨 Created mount \n",
      "    c:\\Users\\iskorpittt\\Desktop\\MY_DATA_SCIENCE\\PROJECTS\\GENERATIVE_AI\\llm_engi\n",
      "    neering\\week8\\pricer_service2.py\n",
      "| Creating objects...\n",
      "└── 🔨 Created mount \n",
      "    c:\\Users\\iskorpittt\\Desktop\\MY_DATA_SCIENCE\\PROJECTS\\GENERATIVE_AI\\llm_engi\n",
      "    neering\\week8\\pricer_service2.py\n",
      "- Creating objects...\n",
      "└── 🔨 Created mount \n",
      "    c:\\Users\\iskorpittt\\Desktop\\MY_DATA_SCIENCE\\PROJECTS\\GENERATIVE_AI\\llm_engi\n",
      "    neering\\week8\\pricer_service2.py\n",
      "Image saved, took 2.72s\n",
      "\\ Creating objects...\n",
      "└── 🔨 Created mount c:\\Users\\iskorpittt\\Desktop\\MY_DATA_SCIENCE\\PROJECTS\\GENER\n",
      "\n",
      "Built image im-diq5EriBLFZKHfax2EViTj in 78.51s\n",
      "\n",
      "\n",
      "\\ Creating objects...\n",
      "└── 🔨 Created mount c:\\Users\\iskorpittt\\Desktop\\MY_DATA_SCIENCE\\PROJECTS\\GENER\n",
      "| Creating objects...\n",
      "└── 🔨 Created mount \n",
      "    c:\\Users\\iskorpittt\\Desktop\\MY_DATA_SCIENCE\\PROJECTS\\GENERATIVE_AI\\llm_engi\n",
      "    neering\\week8\\pricer_service2.py\n",
      "- Creating objects...\n",
      "└── 🔨 Created mount \n",
      "    c:\\Users\\iskorpittt\\Desktop\\MY_DATA_SCIENCE\\PROJECTS\\GENERATIVE_AI\\llm_engi\n",
      "    neering\\week8\\pricer_service2.py\n",
      "| Creating objects...\n",
      "└── 🔨 Created mount \n",
      "    c:\\Users\\iskorpittt\\Desktop\\MY_DATA_SCIENCE\\PROJECTS\\GENERATIVE_AI\\llm_engi\n",
      "    neering\\week8\\pricer_service2.py\n",
      "- Creating objects...\n",
      "├── 🔨 Created mount \n",
      "│   c:\\Users\\iskorpittt\\Desktop\\MY_DATA_SCIENCE\\PROJECTS\\GENERATIVE_AI\\llm_engi\n",
      "│   neering\\week8\\pricer_service2.py\n",
      "└── - Creating function Pricer.download_model_to_folder...\n",
      "| Creating objects...\n",
      "├── 🔨 Created mount \n",
      "│   c:\\Users\\iskorpittt\\Desktop\\MY_DATA_SCIENCE\\PROJECTS\\GENERATIVE_AI\\llm_engi\n",
      "│   neering\\week8\\pricer_service2.py\n",
      "└── | Creating function Pricer.download_model_to_folder...\n",
      "- Creating objects...\n",
      "├── 🔨 Created mount \n",
      "│   c:\\Users\\iskorpittt\\Desktop\\MY_DATA_SCIENCE\\PROJECTS\\GENERATIVE_AI\\llm_engi\n",
      "│   neering\\week8\\pricer_service2.py\n",
      "└── 🔨 Created function Pricer.download_model_to_folder.\n",
      "| Creating objects...\n",
      "├── 🔨 Created mount \n",
      "│   c:\\Users\\iskorpittt\\Desktop\\MY_DATA_SCIENCE\\PROJECTS\\GENERATIVE_AI\\llm_engi\n",
      "│   neering\\week8\\pricer_service2.py\n",
      "└── 🔨 Created function Pricer.download_model_to_folder.\n",
      "- Creating objects...\n",
      "├── 🔨 Created mount \n",
      "│   c:\\Users\\iskorpittt\\Desktop\\MY_DATA_SCIENCE\\PROJECTS\\GENERATIVE_AI\\llm_engi\n",
      "│   neering\\week8\\pricer_service2.py\n",
      "└── 🔨 Created function Pricer.download_model_to_folder.\n",
      "| Creating objects...\n",
      "├── 🔨 Created mount \n",
      "│   c:\\Users\\iskorpittt\\Desktop\\MY_DATA_SCIENCE\\PROJECTS\\GENERATIVE_AI\\llm_engi\n",
      "│   neering\\week8\\pricer_service2.py\n",
      "└── 🔨 Created function Pricer.download_model_to_folder.\n",
      "- Creating objects...\n",
      "├── 🔨 Created mount \n",
      "│   c:\\Users\\iskorpittt\\Desktop\\MY_DATA_SCIENCE\\PROJECTS\\GENERATIVE_AI\\llm_engi\n",
      "│   neering\\week8\\pricer_service2.py\n",
      "└── 🔨 Created function Pricer.download_model_to_folder.\n",
      "| Creating objects...\n",
      "├── 🔨 Created mount \n",
      "│   c:\\Users\\iskorpittt\\Desktop\\MY_DATA_SCIENCE\\PROJECTS\\GENERATIVE_AI\\llm_engi\n",
      "│   neering\\week8\\pricer_service2.py\n",
      "└── 🔨 Created function Pricer.download_model_to_folder.\n",
      "- Creating objects...\n",
      "├── 🔨 Created mount \n",
      "│   c:\\Users\\iskorpittt\\Desktop\\MY_DATA_SCIENCE\\PROJECTS\\GENERATIVE_AI\\llm_engi\n",
      "│   neering\\week8\\pricer_service2.py\n",
      "└── 🔨 Created function Pricer.download_model_to_folder.\n",
      "| Creating objects...\n",
      "├── 🔨 Created mount \n",
      "│   c:\\Users\\iskorpittt\\Desktop\\MY_DATA_SCIENCE\\PROJECTS\\GENERATIVE_AI\\llm_engi\n",
      "│   neering\\week8\\pricer_service2.py\n",
      "└── 🔨 Created function Pricer.download_model_to_folder.\n",
      "- Creating objects...\n",
      "├── 🔨 Created mount \n",
      "│   c:\\Users\\iskorpittt\\Desktop\\MY_DATA_SCIENCE\\PROJECTS\\GENERATIVE_AI\\llm_engi\n",
      "│   neering\\week8\\pricer_service2.py\n",
      "└── 🔨 Created function Pricer.download_model_to_folder.\n",
      "| Creating objects...\n",
      "├── 🔨 Created mount \n",
      "│   c:\\Users\\iskorpittt\\Desktop\\MY_DATA_SCIENCE\\PROJECTS\\GENERATIVE_AI\\llm_engi\n",
      "│   neering\\week8\\pricer_service2.py\n",
      "└── 🔨 Created function Pricer.download_model_to_folder.\n",
      "Building image im-HniYSfTEAl6jaoTdDGMDEF\n",
      "| Creating objects...\n",
      "├── 🔨 Created mount c:\\Users\\iskorpittt\\Desktop\\MY_DATA_SCIENCE\\PROJECTS\\GENER\n",
      "└── 🔨 Created function Pricer.download_model_to_folder.\n",
      "\n",
      "=> Step 0: running function 'Pricer.download_model_to_folder'\n",
      "| Creating objects...\n",
      "├── 🔨 Created mount c:\\Users\\iskorpittt\\Desktop\\MY_DATA_SCIENCE\\PROJECTS\\GENER\n",
      "└── 🔨 Created function Pricer.download_model_to_folder.\n",
      "- Creating objects...\n",
      "├── 🔨 Created mount \n",
      "│   c:\\Users\\iskorpittt\\Desktop\\MY_DATA_SCIENCE\\PROJECTS\\GENERATIVE_AI\\llm_engi\n",
      "│   neering\\week8\\pricer_service2.py\n",
      "└── 🔨 Created function Pricer.download_model_to_folder.\n",
      "| Creating objects...\n",
      "├── 🔨 Created mount \n",
      "│   c:\\Users\\iskorpittt\\Desktop\\MY_DATA_SCIENCE\\PROJECTS\\GENERATIVE_AI\\llm_engi\n",
      "│   neering\\week8\\pricer_service2.py\n",
      "└── 🔨 Created function Pricer.download_model_to_folder.\n",
      "- Creating objects...\n",
      "├── 🔨 Created mount \n",
      "│   c:\\Users\\iskorpittt\\Desktop\\MY_DATA_SCIENCE\\PROJECTS\\GENERATIVE_AI\\llm_engi\n",
      "│   neering\\week8\\pricer_service2.py\n",
      "└── 🔨 Created function Pricer.download_model_to_folder.\n",
      "| Creating objects...\n",
      "├── 🔨 Created mount \n",
      "│   c:\\Users\\iskorpittt\\Desktop\\MY_DATA_SCIENCE\\PROJECTS\\GENERATIVE_AI\\llm_engi\n",
      "│   neering\\week8\\pricer_service2.py\n",
      "└── 🔨 Created function Pricer.download_model_to_folder.\n",
      "- Creating objects...\n",
      "├── 🔨 Created mount \n",
      "│   c:\\Users\\iskorpittt\\Desktop\\MY_DATA_SCIENCE\\PROJECTS\\GENERATIVE_AI\\llm_engi\n",
      "│   neering\\week8\\pricer_service2.py\n",
      "└── 🔨 Created function Pricer.download_model_to_folder.\n",
      "| Creating objects...\n",
      "├── 🔨 Created mount \n",
      "│   c:\\Users\\iskorpittt\\Desktop\\MY_DATA_SCIENCE\\PROJECTS\\GENERATIVE_AI\\llm_engi\n",
      "│   neering\\week8\\pricer_service2.py\n",
      "└── 🔨 Created function Pricer.download_model_to_folder.\n",
      "- Creating objects...\n",
      "├── 🔨 Created mount \n",
      "│   c:\\Users\\iskorpittt\\Desktop\\MY_DATA_SCIENCE\\PROJECTS\\GENERATIVE_AI\\llm_engi\n",
      "│   neering\\week8\\pricer_service2.py\n",
      "└── 🔨 Created function Pricer.download_model_to_folder.\n",
      "| Creating objects...\n",
      "├── 🔨 Created mount \n",
      "│   c:\\Users\\iskorpittt\\Desktop\\MY_DATA_SCIENCE\\PROJECTS\\GENERATIVE_AI\\llm_engi\n",
      "│   neering\\week8\\pricer_service2.py\n",
      "└── 🔨 Created function Pricer.download_model_to_folder.\n",
      "- Creating objects...\n",
      "├── 🔨 Created mount \n",
      "│   c:\\Users\\iskorpittt\\Desktop\\MY_DATA_SCIENCE\\PROJECTS\\GENERATIVE_AI\\llm_engi\n",
      "│   neering\\week8\\pricer_service2.py\n",
      "└── 🔨 Created function Pricer.download_model_to_folder.\n",
      "| Creating objects...\n",
      "├── 🔨 Created mount \n",
      "│   c:\\Users\\iskorpittt\\Desktop\\MY_DATA_SCIENCE\\PROJECTS\\GENERATIVE_AI\\llm_engi\n",
      "│   neering\\week8\\pricer_service2.py\n",
      "└── 🔨 Created function Pricer.download_model_to_folder.\n",
      "- Creating objects...\n",
      "├── 🔨 Created mount \n",
      "│   c:\\Users\\iskorpittt\\Desktop\\MY_DATA_SCIENCE\\PROJECTS\\GENERATIVE_AI\\llm_engi\n",
      "│   neering\\week8\\pricer_service2.py\n",
      "└── 🔨 Created function Pricer.download_model_to_folder.\n",
      "\n",
      "| Creating objects...\n",
      "├── 🔨 Created mount c:\\Users\\iskorpittt\\Desktop\\MY_DATA_SCIENCE\\PROJECTS\\GENER\n",
      "└── 🔨 Created function Pricer.download_model_to_folder.\n",
      "| Creating objects...\n",
      "├── 🔨 Created mount \n",
      "│   c:\\Users\\iskorpittt\\Desktop\\MY_DATA_SCIENCE\\PROJECTS\\GENERATIVE_AI\\llm_engi\n",
      "│   neering\\week8\\pricer_service2.py\n",
      "└── 🔨 Created function Pricer.download_model_to_folder.\n",
      "- Creating objects...\n",
      "├── 🔨 Created mount \n",
      "│   c:\\Users\\iskorpittt\\Desktop\\MY_DATA_SCIENCE\\PROJECTS\\GENERATIVE_AI\\llm_engi\n",
      "│   neering\\week8\\pricer_service2.py\n",
      "└── 🔨 Created function Pricer.download_model_to_folder.\n",
      "\u001b[1AFetching 17 files:   0%|          | 0/17 [00:00<?, ?it/s]\n",
      "- Creating objects...\n",
      "├── 🔨 Created mount c:\\Users\\iskorpittt\\Desktop\\MY_DATA_SCIENCE\\PROJECTS\\GENER\n",
      "└── 🔨 Created function Pricer.download_model_to_folder.\n",
      "| Creating objects...\n",
      "├── 🔨 Created mount \n",
      "│   c:\\Users\\iskorpittt\\Desktop\\MY_DATA_SCIENCE\\PROJECTS\\GENERATIVE_AI\\llm_engi\n",
      "│   neering\\week8\\pricer_service2.py\n",
      "└── 🔨 Created function Pricer.download_model_to_folder.\n",
      "\u001b[1AFetching 17 files:   6%|▌         | 1/17 [00:00<00:05,  2.85it/s]\n",
      "/ Creating objects...\n",
      "├── 🔨 Created mount c:\\Users\\iskorpittt\\Desktop\\MY_DATA_SCIENCE\\PROJECTS\\GENER\n",
      "└── 🔨 Created function Pricer.download_model_to_folder.\n",
      "- Creating objects...\n",
      "├── 🔨 Created mount \n",
      "│   c:\\Users\\iskorpittt\\Desktop\\MY_DATA_SCIENCE\\PROJECTS\\GENERATIVE_AI\\llm_engi\n",
      "│   neering\\week8\\pricer_service2.py\n",
      "└── 🔨 Created function Pricer.download_model_to_folder.\n",
      "| Creating objects...\n",
      "├── 🔨 Created mount \n",
      "│   c:\\Users\\iskorpittt\\Desktop\\MY_DATA_SCIENCE\\PROJECTS\\GENERATIVE_AI\\llm_engi\n",
      "│   neering\\week8\\pricer_service2.py\n",
      "└── 🔨 Created function Pricer.download_model_to_folder.\n",
      "- Creating objects...\n",
      "├── 🔨 Created mount \n",
      "│   c:\\Users\\iskorpittt\\Desktop\\MY_DATA_SCIENCE\\PROJECTS\\GENERATIVE_AI\\llm_engi\n",
      "│   neering\\week8\\pricer_service2.py\n",
      "└── 🔨 Created function Pricer.download_model_to_folder.\n",
      "| Creating objects...\n",
      "├── 🔨 Created mount \n",
      "│   c:\\Users\\iskorpittt\\Desktop\\MY_DATA_SCIENCE\\PROJECTS\\GENERATIVE_AI\\llm_engi\n",
      "│   neering\\week8\\pricer_service2.py\n",
      "└── 🔨 Created function Pricer.download_model_to_folder.\n",
      "- Creating objects...\n",
      "├── 🔨 Created mount \n",
      "│   c:\\Users\\iskorpittt\\Desktop\\MY_DATA_SCIENCE\\PROJECTS\\GENERATIVE_AI\\llm_engi\n",
      "│   neering\\week8\\pricer_service2.py\n",
      "└── 🔨 Created function Pricer.download_model_to_folder.\n",
      "| Creating objects...\n",
      "├── 🔨 Created mount \n",
      "│   c:\\Users\\iskorpittt\\Desktop\\MY_DATA_SCIENCE\\PROJECTS\\GENERATIVE_AI\\llm_engi\n",
      "│   neering\\week8\\pricer_service2.py\n",
      "└── 🔨 Created function Pricer.download_model_to_folder.\n",
      "- Creating objects...\n",
      "├── 🔨 Created mount \n",
      "│   c:\\Users\\iskorpittt\\Desktop\\MY_DATA_SCIENCE\\PROJECTS\\GENERATIVE_AI\\llm_engi\n",
      "│   neering\\week8\\pricer_service2.py\n",
      "└── 🔨 Created function Pricer.download_model_to_folder.\n",
      "| Creating objects...\n",
      "├── 🔨 Created mount \n",
      "│   c:\\Users\\iskorpittt\\Desktop\\MY_DATA_SCIENCE\\PROJECTS\\GENERATIVE_AI\\llm_engi\n",
      "│   neering\\week8\\pricer_service2.py\n",
      "└── 🔨 Created function Pricer.download_model_to_folder.\n",
      "- Creating objects...\n",
      "├── 🔨 Created mount \n",
      "│   c:\\Users\\iskorpittt\\Desktop\\MY_DATA_SCIENCE\\PROJECTS\\GENERATIVE_AI\\llm_engi\n",
      "│   neering\\week8\\pricer_service2.py\n",
      "└── 🔨 Created function Pricer.download_model_to_folder.\n",
      "| Creating objects...\n",
      "├── 🔨 Created mount \n",
      "│   c:\\Users\\iskorpittt\\Desktop\\MY_DATA_SCIENCE\\PROJECTS\\GENERATIVE_AI\\llm_engi\n",
      "│   neering\\week8\\pricer_service2.py\n",
      "└── 🔨 Created function Pricer.download_model_to_folder.\n",
      "- Creating objects...\n",
      "├── 🔨 Created mount \n",
      "│   c:\\Users\\iskorpittt\\Desktop\\MY_DATA_SCIENCE\\PROJECTS\\GENERATIVE_AI\\llm_engi\n",
      "│   neering\\week8\\pricer_service2.py\n",
      "└── 🔨 Created function Pricer.download_model_to_folder.\n",
      "| Creating objects...\n",
      "├── 🔨 Created mount \n",
      "│   c:\\Users\\iskorpittt\\Desktop\\MY_DATA_SCIENCE\\PROJECTS\\GENERATIVE_AI\\llm_engi\n",
      "│   neering\\week8\\pricer_service2.py\n",
      "└── 🔨 Created function Pricer.download_model_to_folder.\n",
      "- Creating objects...\n",
      "├── 🔨 Created mount \n",
      "│   c:\\Users\\iskorpittt\\Desktop\\MY_DATA_SCIENCE\\PROJECTS\\GENERATIVE_AI\\llm_engi\n",
      "│   neering\\week8\\pricer_service2.py\n",
      "└── 🔨 Created function Pricer.download_model_to_folder.\n",
      "| Creating objects...\n",
      "├── 🔨 Created mount \n",
      "│   c:\\Users\\iskorpittt\\Desktop\\MY_DATA_SCIENCE\\PROJECTS\\GENERATIVE_AI\\llm_engi\n",
      "│   neering\\week8\\pricer_service2.py\n",
      "└── 🔨 Created function Pricer.download_model_to_folder.\n",
      "- Creating objects...\n",
      "├── 🔨 Created mount \n",
      "│   c:\\Users\\iskorpittt\\Desktop\\MY_DATA_SCIENCE\\PROJECTS\\GENERATIVE_AI\\llm_engi\n",
      "│   neering\\week8\\pricer_service2.py\n",
      "└── 🔨 Created function Pricer.download_model_to_folder.\n",
      "| Creating objects...\n",
      "├── 🔨 Created mount \n",
      "│   c:\\Users\\iskorpittt\\Desktop\\MY_DATA_SCIENCE\\PROJECTS\\GENERATIVE_AI\\llm_engi\n",
      "│   neering\\week8\\pricer_service2.py\n",
      "└── 🔨 Created function Pricer.download_model_to_folder.\n",
      "- Creating objects...\n",
      "├── 🔨 Created mount \n",
      "│   c:\\Users\\iskorpittt\\Desktop\\MY_DATA_SCIENCE\\PROJECTS\\GENERATIVE_AI\\llm_engi\n",
      "│   neering\\week8\\pricer_service2.py\n",
      "└── 🔨 Created function Pricer.download_model_to_folder.\n",
      "| Creating objects...\n",
      "├── 🔨 Created mount \n",
      "│   c:\\Users\\iskorpittt\\Desktop\\MY_DATA_SCIENCE\\PROJECTS\\GENERATIVE_AI\\llm_engi\n",
      "│   neering\\week8\\pricer_service2.py\n",
      "└── 🔨 Created function Pricer.download_model_to_folder.\n",
      "- Creating objects...\n",
      "├── 🔨 Created mount \n",
      "│   c:\\Users\\iskorpittt\\Desktop\\MY_DATA_SCIENCE\\PROJECTS\\GENERATIVE_AI\\llm_engi\n",
      "│   neering\\week8\\pricer_service2.py\n",
      "└── 🔨 Created function Pricer.download_model_to_folder.\n",
      "| Creating objects...\n",
      "├── 🔨 Created mount \n",
      "│   c:\\Users\\iskorpittt\\Desktop\\MY_DATA_SCIENCE\\PROJECTS\\GENERATIVE_AI\\llm_engi\n",
      "│   neering\\week8\\pricer_service2.py\n",
      "└── 🔨 Created function Pricer.download_model_to_folder.\n",
      "- Creating objects...\n",
      "├── 🔨 Created mount \n",
      "│   c:\\Users\\iskorpittt\\Desktop\\MY_DATA_SCIENCE\\PROJECTS\\GENERATIVE_AI\\llm_engi\n",
      "│   neering\\week8\\pricer_service2.py\n",
      "└── 🔨 Created function Pricer.download_model_to_folder.\n",
      "| Creating objects...\n",
      "├── 🔨 Created mount \n",
      "│   c:\\Users\\iskorpittt\\Desktop\\MY_DATA_SCIENCE\\PROJECTS\\GENERATIVE_AI\\llm_engi\n",
      "│   neering\\week8\\pricer_service2.py\n",
      "└── 🔨 Created function Pricer.download_model_to_folder.\n",
      "- Creating objects...\n",
      "├── 🔨 Created mount \n",
      "│   c:\\Users\\iskorpittt\\Desktop\\MY_DATA_SCIENCE\\PROJECTS\\GENERATIVE_AI\\llm_engi\n",
      "│   neering\\week8\\pricer_service2.py\n",
      "└── 🔨 Created function Pricer.download_model_to_folder.\n",
      "| Creating objects...\n",
      "├── 🔨 Created mount \n",
      "│   c:\\Users\\iskorpittt\\Desktop\\MY_DATA_SCIENCE\\PROJECTS\\GENERATIVE_AI\\llm_engi\n",
      "│   neering\\week8\\pricer_service2.py\n",
      "└── 🔨 Created function Pricer.download_model_to_folder.\n",
      "- Creating objects...\n",
      "├── 🔨 Created mount \n",
      "│   c:\\Users\\iskorpittt\\Desktop\\MY_DATA_SCIENCE\\PROJECTS\\GENERATIVE_AI\\llm_engi\n",
      "│   neering\\week8\\pricer_service2.py\n",
      "└── 🔨 Created function Pricer.download_model_to_folder.\n",
      "| Creating objects...\n",
      "├── 🔨 Created mount \n",
      "│   c:\\Users\\iskorpittt\\Desktop\\MY_DATA_SCIENCE\\PROJECTS\\GENERATIVE_AI\\llm_engi\n",
      "│   neering\\week8\\pricer_service2.py\n",
      "└── 🔨 Created function Pricer.download_model_to_folder.\n",
      "- Creating objects...\n",
      "├── 🔨 Created mount \n",
      "│   c:\\Users\\iskorpittt\\Desktop\\MY_DATA_SCIENCE\\PROJECTS\\GENERATIVE_AI\\llm_engi\n",
      "│   neering\\week8\\pricer_service2.py\n",
      "└── 🔨 Created function Pricer.download_model_to_folder.\n",
      "| Creating objects...\n",
      "├── 🔨 Created mount \n",
      "│   c:\\Users\\iskorpittt\\Desktop\\MY_DATA_SCIENCE\\PROJECTS\\GENERATIVE_AI\\llm_engi\n",
      "│   neering\\week8\\pricer_service2.py\n",
      "└── 🔨 Created function Pricer.download_model_to_folder.\n",
      "- Creating objects...\n",
      "├── 🔨 Created mount \n",
      "│   c:\\Users\\iskorpittt\\Desktop\\MY_DATA_SCIENCE\\PROJECTS\\GENERATIVE_AI\\llm_engi\n",
      "│   neering\\week8\\pricer_service2.py\n",
      "└── 🔨 Created function Pricer.download_model_to_folder.\n",
      "/ Creating objects...\n",
      "├── 🔨 Created mount \n",
      "│   c:\\Users\\iskorpittt\\Desktop\\MY_DATA_SCIENCE\\PROJECTS\\GENERATIVE_AI\\llm_engi\n",
      "│   neering\\week8\\pricer_service2.py\n",
      "└── 🔨 Created function Pricer.download_model_to_folder.\n",
      "- Creating objects...\n",
      "├── 🔨 Created mount \n",
      "│   c:\\Users\\iskorpittt\\Desktop\\MY_DATA_SCIENCE\\PROJECTS\\GENERATIVE_AI\\llm_engi\n",
      "│   neering\\week8\\pricer_service2.py\n",
      "└── 🔨 Created function Pricer.download_model_to_folder.\n",
      "| Creating objects...\n",
      "├── 🔨 Created mount \n",
      "│   c:\\Users\\iskorpittt\\Desktop\\MY_DATA_SCIENCE\\PROJECTS\\GENERATIVE_AI\\llm_engi\n",
      "│   neering\\week8\\pricer_service2.py\n",
      "└── 🔨 Created function Pricer.download_model_to_folder.\n",
      "- Creating objects...\n",
      "├── 🔨 Created mount \n",
      "│   c:\\Users\\iskorpittt\\Desktop\\MY_DATA_SCIENCE\\PROJECTS\\GENERATIVE_AI\\llm_engi\n",
      "│   neering\\week8\\pricer_service2.py\n",
      "└── 🔨 Created function Pricer.download_model_to_folder.\n",
      "| Creating objects...\n",
      "├── 🔨 Created mount \n",
      "│   c:\\Users\\iskorpittt\\Desktop\\MY_DATA_SCIENCE\\PROJECTS\\GENERATIVE_AI\\llm_engi\n",
      "│   neering\\week8\\pricer_service2.py\n",
      "└── 🔨 Created function Pricer.download_model_to_folder.\n",
      "- Creating objects...\n",
      "├── 🔨 Created mount \n",
      "│   c:\\Users\\iskorpittt\\Desktop\\MY_DATA_SCIENCE\\PROJECTS\\GENERATIVE_AI\\llm_engi\n",
      "│   neering\\week8\\pricer_service2.py\n",
      "└── 🔨 Created function Pricer.download_model_to_folder.\n",
      "| Creating objects...\n",
      "├── 🔨 Created mount \n",
      "│   c:\\Users\\iskorpittt\\Desktop\\MY_DATA_SCIENCE\\PROJECTS\\GENERATIVE_AI\\llm_engi\n",
      "│   neering\\week8\\pricer_service2.py\n",
      "└── 🔨 Created function Pricer.download_model_to_folder.\n",
      "- Creating objects...\n",
      "├── 🔨 Created mount \n",
      "│   c:\\Users\\iskorpittt\\Desktop\\MY_DATA_SCIENCE\\PROJECTS\\GENERATIVE_AI\\llm_engi\n",
      "│   neering\\week8\\pricer_service2.py\n",
      "└── 🔨 Created function Pricer.download_model_to_folder.\n",
      "| Creating objects...\n",
      "├── 🔨 Created mount \n",
      "│   c:\\Users\\iskorpittt\\Desktop\\MY_DATA_SCIENCE\\PROJECTS\\GENERATIVE_AI\\llm_engi\n",
      "│   neering\\week8\\pricer_service2.py\n",
      "└── 🔨 Created function Pricer.download_model_to_folder.\n",
      "- Creating objects...\n",
      "├── 🔨 Created mount \n",
      "│   c:\\Users\\iskorpittt\\Desktop\\MY_DATA_SCIENCE\\PROJECTS\\GENERATIVE_AI\\llm_engi\n",
      "│   neering\\week8\\pricer_service2.py\n",
      "└── 🔨 Created function Pricer.download_model_to_folder.\n",
      "| Creating objects...\n",
      "├── 🔨 Created mount \n",
      "│   c:\\Users\\iskorpittt\\Desktop\\MY_DATA_SCIENCE\\PROJECTS\\GENERATIVE_AI\\llm_engi\n",
      "│   neering\\week8\\pricer_service2.py\n",
      "└── 🔨 Created function Pricer.download_model_to_folder.\n",
      "- Creating objects...\n",
      "├── 🔨 Created mount \n",
      "│   c:\\Users\\iskorpittt\\Desktop\\MY_DATA_SCIENCE\\PROJECTS\\GENERATIVE_AI\\llm_engi\n",
      "│   neering\\week8\\pricer_service2.py\n",
      "└── 🔨 Created function Pricer.download_model_to_folder.\n",
      "| Creating objects...\n",
      "├── 🔨 Created mount \n",
      "│   c:\\Users\\iskorpittt\\Desktop\\MY_DATA_SCIENCE\\PROJECTS\\GENERATIVE_AI\\llm_engi\n",
      "│   neering\\week8\\pricer_service2.py\n",
      "└── 🔨 Created function Pricer.download_model_to_folder.\n",
      "- Creating objects...\n",
      "├── 🔨 Created mount \n",
      "│   c:\\Users\\iskorpittt\\Desktop\\MY_DATA_SCIENCE\\PROJECTS\\GENERATIVE_AI\\llm_engi\n",
      "│   neering\\week8\\pricer_service2.py\n",
      "└── 🔨 Created function Pricer.download_model_to_folder.\n",
      "| Creating objects...\n",
      "├── 🔨 Created mount \n",
      "│   c:\\Users\\iskorpittt\\Desktop\\MY_DATA_SCIENCE\\PROJECTS\\GENERATIVE_AI\\llm_engi\n",
      "│   neering\\week8\\pricer_service2.py\n",
      "└── 🔨 Created function Pricer.download_model_to_folder.\n",
      "- Creating objects...\n",
      "├── 🔨 Created mount \n",
      "│   c:\\Users\\iskorpittt\\Desktop\\MY_DATA_SCIENCE\\PROJECTS\\GENERATIVE_AI\\llm_engi\n",
      "│   neering\\week8\\pricer_service2.py\n",
      "└── 🔨 Created function Pricer.download_model_to_folder.\n",
      "| Creating objects...\n",
      "├── 🔨 Created mount \n",
      "│   c:\\Users\\iskorpittt\\Desktop\\MY_DATA_SCIENCE\\PROJECTS\\GENERATIVE_AI\\llm_engi\n",
      "│   neering\\week8\\pricer_service2.py\n",
      "└── 🔨 Created function Pricer.download_model_to_folder.\n",
      "- Creating objects...\n",
      "├── 🔨 Created mount \n",
      "│   c:\\Users\\iskorpittt\\Desktop\\MY_DATA_SCIENCE\\PROJECTS\\GENERATIVE_AI\\llm_engi\n",
      "│   neering\\week8\\pricer_service2.py\n",
      "└── 🔨 Created function Pricer.download_model_to_folder.\n",
      "| Creating objects...\n",
      "├── 🔨 Created mount \n",
      "│   c:\\Users\\iskorpittt\\Desktop\\MY_DATA_SCIENCE\\PROJECTS\\GENERATIVE_AI\\llm_engi\n",
      "│   neering\\week8\\pricer_service2.py\n",
      "└── 🔨 Created function Pricer.download_model_to_folder.\n",
      "- Creating objects...\n",
      "├── 🔨 Created mount \n",
      "│   c:\\Users\\iskorpittt\\Desktop\\MY_DATA_SCIENCE\\PROJECTS\\GENERATIVE_AI\\llm_engi\n",
      "│   neering\\week8\\pricer_service2.py\n",
      "└── 🔨 Created function Pricer.download_model_to_folder.\n",
      "| Creating objects...\n",
      "├── 🔨 Created mount \n",
      "│   c:\\Users\\iskorpittt\\Desktop\\MY_DATA_SCIENCE\\PROJECTS\\GENERATIVE_AI\\llm_engi\n",
      "│   neering\\week8\\pricer_service2.py\n",
      "└── 🔨 Created function Pricer.download_model_to_folder.\n",
      "- Creating objects...\n",
      "├── 🔨 Created mount \n",
      "│   c:\\Users\\iskorpittt\\Desktop\\MY_DATA_SCIENCE\\PROJECTS\\GENERATIVE_AI\\llm_engi\n",
      "│   neering\\week8\\pricer_service2.py\n",
      "└── 🔨 Created function Pricer.download_model_to_folder.\n",
      "| Creating objects...\n",
      "├── 🔨 Created mount \n",
      "│   c:\\Users\\iskorpittt\\Desktop\\MY_DATA_SCIENCE\\PROJECTS\\GENERATIVE_AI\\llm_engi\n",
      "│   neering\\week8\\pricer_service2.py\n",
      "└── 🔨 Created function Pricer.download_model_to_folder.\n",
      "- Creating objects...\n",
      "├── 🔨 Created mount \n",
      "│   c:\\Users\\iskorpittt\\Desktop\\MY_DATA_SCIENCE\\PROJECTS\\GENERATIVE_AI\\llm_engi\n",
      "│   neering\\week8\\pricer_service2.py\n",
      "└── 🔨 Created function Pricer.download_model_to_folder.\n",
      "| Creating objects...\n",
      "├── 🔨 Created mount \n",
      "│   c:\\Users\\iskorpittt\\Desktop\\MY_DATA_SCIENCE\\PROJECTS\\GENERATIVE_AI\\llm_engi\n",
      "│   neering\\week8\\pricer_service2.py\n",
      "└── 🔨 Created function Pricer.download_model_to_folder.\n",
      "- Creating objects...\n",
      "├── 🔨 Created mount \n",
      "│   c:\\Users\\iskorpittt\\Desktop\\MY_DATA_SCIENCE\\PROJECTS\\GENERATIVE_AI\\llm_engi\n",
      "│   neering\\week8\\pricer_service2.py\n",
      "└── 🔨 Created function Pricer.download_model_to_folder.\n",
      "| Creating objects...\n",
      "├── 🔨 Created mount \n",
      "│   c:\\Users\\iskorpittt\\Desktop\\MY_DATA_SCIENCE\\PROJECTS\\GENERATIVE_AI\\llm_engi\n",
      "│   neering\\week8\\pricer_service2.py\n",
      "└── 🔨 Created function Pricer.download_model_to_folder.\n",
      "- Creating objects...\n",
      "├── 🔨 Created mount \n",
      "│   c:\\Users\\iskorpittt\\Desktop\\MY_DATA_SCIENCE\\PROJECTS\\GENERATIVE_AI\\llm_engi\n",
      "│   neering\\week8\\pricer_service2.py\n",
      "└── 🔨 Created function Pricer.download_model_to_folder.\n",
      "/ Creating objects...\n",
      "├── 🔨 Created mount \n",
      "│   c:\\Users\\iskorpittt\\Desktop\\MY_DATA_SCIENCE\\PROJECTS\\GENERATIVE_AI\\llm_engi\n",
      "│   neering\\week8\\pricer_service2.py\n",
      "└── 🔨 Created function Pricer.download_model_to_folder.\n",
      "\\ Creating objects...\n",
      "├── 🔨 Created mount \n",
      "│   c:\\Users\\iskorpittt\\Desktop\\MY_DATA_SCIENCE\\PROJECTS\\GENERATIVE_AI\\llm_engi\n",
      "│   neering\\week8\\pricer_service2.py\n",
      "└── 🔨 Created function Pricer.download_model_to_folder.\n",
      "/ Creating objects...\n",
      "├── 🔨 Created mount \n",
      "│   c:\\Users\\iskorpittt\\Desktop\\MY_DATA_SCIENCE\\PROJECTS\\GENERATIVE_AI\\llm_engi\n",
      "│   neering\\week8\\pricer_service2.py\n",
      "└── 🔨 Created function Pricer.download_model_to_folder.\n",
      "\\ Creating objects...\n",
      "├── 🔨 Created mount \n",
      "│   c:\\Users\\iskorpittt\\Desktop\\MY_DATA_SCIENCE\\PROJECTS\\GENERATIVE_AI\\llm_engi\n",
      "│   neering\\week8\\pricer_service2.py\n",
      "└── 🔨 Created function Pricer.download_model_to_folder.\n",
      "/ Creating objects...\n",
      "├── 🔨 Created mount \n",
      "│   c:\\Users\\iskorpittt\\Desktop\\MY_DATA_SCIENCE\\PROJECTS\\GENERATIVE_AI\\llm_engi\n",
      "│   neering\\week8\\pricer_service2.py\n",
      "└── 🔨 Created function Pricer.download_model_to_folder.\n",
      "\\ Creating objects...\n",
      "├── 🔨 Created mount \n",
      "│   c:\\Users\\iskorpittt\\Desktop\\MY_DATA_SCIENCE\\PROJECTS\\GENERATIVE_AI\\llm_engi\n",
      "│   neering\\week8\\pricer_service2.py\n",
      "└── 🔨 Created function Pricer.download_model_to_folder.\n",
      "/ Creating objects...\n",
      "├── 🔨 Created mount \n",
      "│   c:\\Users\\iskorpittt\\Desktop\\MY_DATA_SCIENCE\\PROJECTS\\GENERATIVE_AI\\llm_engi\n",
      "│   neering\\week8\\pricer_service2.py\n",
      "└── 🔨 Created function Pricer.download_model_to_folder.\n",
      "\\ Creating objects...\n",
      "├── 🔨 Created mount \n",
      "│   c:\\Users\\iskorpittt\\Desktop\\MY_DATA_SCIENCE\\PROJECTS\\GENERATIVE_AI\\llm_engi\n",
      "│   neering\\week8\\pricer_service2.py\n",
      "└── 🔨 Created function Pricer.download_model_to_folder.\n",
      "/ Creating objects...\n",
      "├── 🔨 Created mount \n",
      "│   c:\\Users\\iskorpittt\\Desktop\\MY_DATA_SCIENCE\\PROJECTS\\GENERATIVE_AI\\llm_engi\n",
      "│   neering\\week8\\pricer_service2.py\n",
      "└── 🔨 Created function Pricer.download_model_to_folder.\n",
      "\\ Creating objects...\n",
      "├── 🔨 Created mount \n",
      "│   c:\\Users\\iskorpittt\\Desktop\\MY_DATA_SCIENCE\\PROJECTS\\GENERATIVE_AI\\llm_engi\n",
      "│   neering\\week8\\pricer_service2.py\n",
      "└── 🔨 Created function Pricer.download_model_to_folder.\n",
      "/ Creating objects...\n",
      "├── 🔨 Created mount \n",
      "│   c:\\Users\\iskorpittt\\Desktop\\MY_DATA_SCIENCE\\PROJECTS\\GENERATIVE_AI\\llm_engi\n",
      "│   neering\\week8\\pricer_service2.py\n",
      "└── 🔨 Created function Pricer.download_model_to_folder.\n",
      "\\ Creating objects...\n",
      "├── 🔨 Created mount \n",
      "│   c:\\Users\\iskorpittt\\Desktop\\MY_DATA_SCIENCE\\PROJECTS\\GENERATIVE_AI\\llm_engi\n",
      "│   neering\\week8\\pricer_service2.py\n",
      "└── 🔨 Created function Pricer.download_model_to_folder.\n",
      "/ Creating objects...\n",
      "├── 🔨 Created mount \n",
      "│   c:\\Users\\iskorpittt\\Desktop\\MY_DATA_SCIENCE\\PROJECTS\\GENERATIVE_AI\\llm_engi\n",
      "│   neering\\week8\\pricer_service2.py\n",
      "└── 🔨 Created function Pricer.download_model_to_folder.\n",
      "\\ Creating objects...\n",
      "├── 🔨 Created mount \n",
      "│   c:\\Users\\iskorpittt\\Desktop\\MY_DATA_SCIENCE\\PROJECTS\\GENERATIVE_AI\\llm_engi\n",
      "│   neering\\week8\\pricer_service2.py\n",
      "└── 🔨 Created function Pricer.download_model_to_folder.\n",
      "/ Creating objects...\n",
      "├── 🔨 Created mount \n",
      "│   c:\\Users\\iskorpittt\\Desktop\\MY_DATA_SCIENCE\\PROJECTS\\GENERATIVE_AI\\llm_engi\n",
      "│   neering\\week8\\pricer_service2.py\n",
      "└── 🔨 Created function Pricer.download_model_to_folder.\n",
      "\\ Creating objects...\n",
      "├── 🔨 Created mount \n",
      "│   c:\\Users\\iskorpittt\\Desktop\\MY_DATA_SCIENCE\\PROJECTS\\GENERATIVE_AI\\llm_engi\n",
      "│   neering\\week8\\pricer_service2.py\n",
      "└── 🔨 Created function Pricer.download_model_to_folder.\n",
      "/ Creating objects...\n",
      "├── 🔨 Created mount \n",
      "│   c:\\Users\\iskorpittt\\Desktop\\MY_DATA_SCIENCE\\PROJECTS\\GENERATIVE_AI\\llm_engi\n",
      "│   neering\\week8\\pricer_service2.py\n",
      "└── 🔨 Created function Pricer.download_model_to_folder.\n",
      "\\ Creating objects...\n",
      "├── 🔨 Created mount \n",
      "│   c:\\Users\\iskorpittt\\Desktop\\MY_DATA_SCIENCE\\PROJECTS\\GENERATIVE_AI\\llm_engi\n",
      "│   neering\\week8\\pricer_service2.py\n",
      "└── 🔨 Created function Pricer.download_model_to_folder.\n",
      "/ Creating objects...\n",
      "├── 🔨 Created mount \n",
      "│   c:\\Users\\iskorpittt\\Desktop\\MY_DATA_SCIENCE\\PROJECTS\\GENERATIVE_AI\\llm_engi\n",
      "│   neering\\week8\\pricer_service2.py\n",
      "└── 🔨 Created function Pricer.download_model_to_folder.\n",
      "\\ Creating objects...\n",
      "├── 🔨 Created mount \n",
      "│   c:\\Users\\iskorpittt\\Desktop\\MY_DATA_SCIENCE\\PROJECTS\\GENERATIVE_AI\\llm_engi\n",
      "│   neering\\week8\\pricer_service2.py\n",
      "└── 🔨 Created function Pricer.download_model_to_folder.\n",
      "/ Creating objects...\n",
      "├── 🔨 Created mount \n",
      "│   c:\\Users\\iskorpittt\\Desktop\\MY_DATA_SCIENCE\\PROJECTS\\GENERATIVE_AI\\llm_engi\n",
      "│   neering\\week8\\pricer_service2.py\n",
      "└── 🔨 Created function Pricer.download_model_to_folder.\n",
      "\\ Creating objects...\n",
      "├── 🔨 Created mount \n",
      "│   c:\\Users\\iskorpittt\\Desktop\\MY_DATA_SCIENCE\\PROJECTS\\GENERATIVE_AI\\llm_engi\n",
      "│   neering\\week8\\pricer_service2.py\n",
      "└── 🔨 Created function Pricer.download_model_to_folder.\n",
      "/ Creating objects...\n",
      "├── 🔨 Created mount \n",
      "│   c:\\Users\\iskorpittt\\Desktop\\MY_DATA_SCIENCE\\PROJECTS\\GENERATIVE_AI\\llm_engi\n",
      "│   neering\\week8\\pricer_service2.py\n",
      "└── 🔨 Created function Pricer.download_model_to_folder.\n",
      "\\ Creating objects...\n",
      "├── 🔨 Created mount \n",
      "│   c:\\Users\\iskorpittt\\Desktop\\MY_DATA_SCIENCE\\PROJECTS\\GENERATIVE_AI\\llm_engi\n",
      "│   neering\\week8\\pricer_service2.py\n",
      "└── 🔨 Created function Pricer.download_model_to_folder.\n",
      "/ Creating objects...\n",
      "├── 🔨 Created mount \n",
      "│   c:\\Users\\iskorpittt\\Desktop\\MY_DATA_SCIENCE\\PROJECTS\\GENERATIVE_AI\\llm_engi\n",
      "│   neering\\week8\\pricer_service2.py\n",
      "└── 🔨 Created function Pricer.download_model_to_folder.\n",
      "\\ Creating objects...\n",
      "├── 🔨 Created mount \n",
      "│   c:\\Users\\iskorpittt\\Desktop\\MY_DATA_SCIENCE\\PROJECTS\\GENERATIVE_AI\\llm_engi\n",
      "│   neering\\week8\\pricer_service2.py\n",
      "└── 🔨 Created function Pricer.download_model_to_folder.\n",
      "/ Creating objects...\n",
      "├── 🔨 Created mount \n",
      "│   c:\\Users\\iskorpittt\\Desktop\\MY_DATA_SCIENCE\\PROJECTS\\GENERATIVE_AI\\llm_engi\n",
      "│   neering\\week8\\pricer_service2.py\n",
      "└── 🔨 Created function Pricer.download_model_to_folder.\n",
      "\\ Creating objects...\n",
      "├── 🔨 Created mount \n",
      "│   c:\\Users\\iskorpittt\\Desktop\\MY_DATA_SCIENCE\\PROJECTS\\GENERATIVE_AI\\llm_engi\n",
      "│   neering\\week8\\pricer_service2.py\n",
      "└── 🔨 Created function Pricer.download_model_to_folder.\n",
      "/ Creating objects...\n",
      "├── 🔨 Created mount \n",
      "│   c:\\Users\\iskorpittt\\Desktop\\MY_DATA_SCIENCE\\PROJECTS\\GENERATIVE_AI\\llm_engi\n",
      "│   neering\\week8\\pricer_service2.py\n",
      "└── 🔨 Created function Pricer.download_model_to_folder.\n",
      "\\ Creating objects...\n",
      "├── 🔨 Created mount \n",
      "│   c:\\Users\\iskorpittt\\Desktop\\MY_DATA_SCIENCE\\PROJECTS\\GENERATIVE_AI\\llm_engi\n",
      "│   neering\\week8\\pricer_service2.py\n",
      "└── 🔨 Created function Pricer.download_model_to_folder.\n",
      "/ Creating objects...\n",
      "├── 🔨 Created mount \n",
      "│   c:\\Users\\iskorpittt\\Desktop\\MY_DATA_SCIENCE\\PROJECTS\\GENERATIVE_AI\\llm_engi\n",
      "│   neering\\week8\\pricer_service2.py\n",
      "└── 🔨 Created function Pricer.download_model_to_folder.\n",
      "\\ Creating objects...\n",
      "├── 🔨 Created mount \n",
      "│   c:\\Users\\iskorpittt\\Desktop\\MY_DATA_SCIENCE\\PROJECTS\\GENERATIVE_AI\\llm_engi\n",
      "│   neering\\week8\\pricer_service2.py\n",
      "└── 🔨 Created function Pricer.download_model_to_folder.\n",
      "/ Creating objects...\n",
      "├── 🔨 Created mount \n",
      "│   c:\\Users\\iskorpittt\\Desktop\\MY_DATA_SCIENCE\\PROJECTS\\GENERATIVE_AI\\llm_engi\n",
      "│   neering\\week8\\pricer_service2.py\n",
      "└── 🔨 Created function Pricer.download_model_to_folder.\n",
      "\\ Creating objects...\n",
      "├── 🔨 Created mount \n",
      "│   c:\\Users\\iskorpittt\\Desktop\\MY_DATA_SCIENCE\\PROJECTS\\GENERATIVE_AI\\llm_engi\n",
      "│   neering\\week8\\pricer_service2.py\n",
      "└── 🔨 Created function Pricer.download_model_to_folder.\n",
      "/ Creating objects...\n",
      "├── 🔨 Created mount \n",
      "│   c:\\Users\\iskorpittt\\Desktop\\MY_DATA_SCIENCE\\PROJECTS\\GENERATIVE_AI\\llm_engi\n",
      "│   neering\\week8\\pricer_service2.py\n",
      "└── 🔨 Created function Pricer.download_model_to_folder.\n",
      "\\ Creating objects...\n",
      "├── 🔨 Created mount \n",
      "│   c:\\Users\\iskorpittt\\Desktop\\MY_DATA_SCIENCE\\PROJECTS\\GENERATIVE_AI\\llm_engi\n",
      "│   neering\\week8\\pricer_service2.py\n",
      "└── 🔨 Created function Pricer.download_model_to_folder.\n",
      "/ Creating objects...\n",
      "├── 🔨 Created mount \n",
      "│   c:\\Users\\iskorpittt\\Desktop\\MY_DATA_SCIENCE\\PROJECTS\\GENERATIVE_AI\\llm_engi\n",
      "│   neering\\week8\\pricer_service2.py\n",
      "└── 🔨 Created function Pricer.download_model_to_folder.\n",
      "\\ Creating objects...\n",
      "├── 🔨 Created mount \n",
      "│   c:\\Users\\iskorpittt\\Desktop\\MY_DATA_SCIENCE\\PROJECTS\\GENERATIVE_AI\\llm_engi\n",
      "│   neering\\week8\\pricer_service2.py\n",
      "└── 🔨 Created function Pricer.download_model_to_folder.\n",
      "/ Creating objects...\n",
      "├── 🔨 Created mount \n",
      "│   c:\\Users\\iskorpittt\\Desktop\\MY_DATA_SCIENCE\\PROJECTS\\GENERATIVE_AI\\llm_engi\n",
      "│   neering\\week8\\pricer_service2.py\n",
      "└── 🔨 Created function Pricer.download_model_to_folder.\n",
      "\\ Creating objects...\n",
      "├── 🔨 Created mount \n",
      "│   c:\\Users\\iskorpittt\\Desktop\\MY_DATA_SCIENCE\\PROJECTS\\GENERATIVE_AI\\llm_engi\n",
      "│   neering\\week8\\pricer_service2.py\n",
      "└── 🔨 Created function Pricer.download_model_to_folder.\n",
      "/ Creating objects...\n",
      "├── 🔨 Created mount \n",
      "│   c:\\Users\\iskorpittt\\Desktop\\MY_DATA_SCIENCE\\PROJECTS\\GENERATIVE_AI\\llm_engi\n",
      "│   neering\\week8\\pricer_service2.py\n",
      "└── 🔨 Created function Pricer.download_model_to_folder.\n",
      "\\ Creating objects...\n",
      "├── 🔨 Created mount \n",
      "│   c:\\Users\\iskorpittt\\Desktop\\MY_DATA_SCIENCE\\PROJECTS\\GENERATIVE_AI\\llm_engi\n",
      "│   neering\\week8\\pricer_service2.py\n",
      "└── 🔨 Created function Pricer.download_model_to_folder.\n",
      "/ Creating objects...\n",
      "├── 🔨 Created mount \n",
      "│   c:\\Users\\iskorpittt\\Desktop\\MY_DATA_SCIENCE\\PROJECTS\\GENERATIVE_AI\\llm_engi\n",
      "│   neering\\week8\\pricer_service2.py\n",
      "└── 🔨 Created function Pricer.download_model_to_folder.\n",
      "\\ Creating objects...\n",
      "├── 🔨 Created mount \n",
      "│   c:\\Users\\iskorpittt\\Desktop\\MY_DATA_SCIENCE\\PROJECTS\\GENERATIVE_AI\\llm_engi\n",
      "│   neering\\week8\\pricer_service2.py\n",
      "└── 🔨 Created function Pricer.download_model_to_folder.\n",
      "/ Creating objects...\n",
      "├── 🔨 Created mount \n",
      "│   c:\\Users\\iskorpittt\\Desktop\\MY_DATA_SCIENCE\\PROJECTS\\GENERATIVE_AI\\llm_engi\n",
      "│   neering\\week8\\pricer_service2.py\n",
      "└── 🔨 Created function Pricer.download_model_to_folder.\n",
      "\\ Creating objects...\n",
      "├── 🔨 Created mount \n",
      "│   c:\\Users\\iskorpittt\\Desktop\\MY_DATA_SCIENCE\\PROJECTS\\GENERATIVE_AI\\llm_engi\n",
      "│   neering\\week8\\pricer_service2.py\n",
      "└── 🔨 Created function Pricer.download_model_to_folder.\n",
      "/ Creating objects...\n",
      "├── 🔨 Created mount \n",
      "│   c:\\Users\\iskorpittt\\Desktop\\MY_DATA_SCIENCE\\PROJECTS\\GENERATIVE_AI\\llm_engi\n",
      "│   neering\\week8\\pricer_service2.py\n",
      "└── 🔨 Created function Pricer.download_model_to_folder.\n",
      "\\ Creating objects...\n",
      "├── 🔨 Created mount \n",
      "│   c:\\Users\\iskorpittt\\Desktop\\MY_DATA_SCIENCE\\PROJECTS\\GENERATIVE_AI\\llm_engi\n",
      "│   neering\\week8\\pricer_service2.py\n",
      "└── 🔨 Created function Pricer.download_model_to_folder.\n",
      "/ Creating objects...\n",
      "├── 🔨 Created mount \n",
      "│   c:\\Users\\iskorpittt\\Desktop\\MY_DATA_SCIENCE\\PROJECTS\\GENERATIVE_AI\\llm_engi\n",
      "│   neering\\week8\\pricer_service2.py\n",
      "└── 🔨 Created function Pricer.download_model_to_folder.\n",
      "\\ Creating objects...\n",
      "├── 🔨 Created mount \n",
      "│   c:\\Users\\iskorpittt\\Desktop\\MY_DATA_SCIENCE\\PROJECTS\\GENERATIVE_AI\\llm_engi\n",
      "│   neering\\week8\\pricer_service2.py\n",
      "└── 🔨 Created function Pricer.download_model_to_folder.\n",
      "/ Creating objects...\n",
      "├── 🔨 Created mount \n",
      "│   c:\\Users\\iskorpittt\\Desktop\\MY_DATA_SCIENCE\\PROJECTS\\GENERATIVE_AI\\llm_engi\n",
      "│   neering\\week8\\pricer_service2.py\n",
      "└── 🔨 Created function Pricer.download_model_to_folder.\n",
      "\\ Creating objects...\n",
      "├── 🔨 Created mount \n",
      "│   c:\\Users\\iskorpittt\\Desktop\\MY_DATA_SCIENCE\\PROJECTS\\GENERATIVE_AI\\llm_engi\n",
      "│   neering\\week8\\pricer_service2.py\n",
      "└── 🔨 Created function Pricer.download_model_to_folder.\n",
      "/ Creating objects...\n",
      "├── 🔨 Created mount \n",
      "│   c:\\Users\\iskorpittt\\Desktop\\MY_DATA_SCIENCE\\PROJECTS\\GENERATIVE_AI\\llm_engi\n",
      "│   neering\\week8\\pricer_service2.py\n",
      "└── 🔨 Created function Pricer.download_model_to_folder.\n",
      "\\ Creating objects...\n",
      "├── 🔨 Created mount \n",
      "│   c:\\Users\\iskorpittt\\Desktop\\MY_DATA_SCIENCE\\PROJECTS\\GENERATIVE_AI\\llm_engi\n",
      "│   neering\\week8\\pricer_service2.py\n",
      "└── 🔨 Created function Pricer.download_model_to_folder.\n",
      "- Creating objects...\n",
      "├── 🔨 Created mount \n",
      "│   c:\\Users\\iskorpittt\\Desktop\\MY_DATA_SCIENCE\\PROJECTS\\GENERATIVE_AI\\llm_engi\n",
      "│   neering\\week8\\pricer_service2.py\n",
      "└── 🔨 Created function Pricer.download_model_to_folder.\n",
      "| Creating objects...\n",
      "├── 🔨 Created mount \n",
      "│   c:\\Users\\iskorpittt\\Desktop\\MY_DATA_SCIENCE\\PROJECTS\\GENERATIVE_AI\\llm_engi\n",
      "│   neering\\week8\\pricer_service2.py\n",
      "└── 🔨 Created function Pricer.download_model_to_folder.\n",
      "- Creating objects...\n",
      "├── 🔨 Created mount \n",
      "│   c:\\Users\\iskorpittt\\Desktop\\MY_DATA_SCIENCE\\PROJECTS\\GENERATIVE_AI\\llm_engi\n",
      "│   neering\\week8\\pricer_service2.py\n",
      "└── 🔨 Created function Pricer.download_model_to_folder.\n",
      "| Creating objects...\n",
      "├── 🔨 Created mount \n",
      "│   c:\\Users\\iskorpittt\\Desktop\\MY_DATA_SCIENCE\\PROJECTS\\GENERATIVE_AI\\llm_engi\n",
      "│   neering\\week8\\pricer_service2.py\n",
      "└── 🔨 Created function Pricer.download_model_to_folder.\n",
      "/ Creating objects...\n",
      "├── 🔨 Created mount \n",
      "│   c:\\Users\\iskorpittt\\Desktop\\MY_DATA_SCIENCE\\PROJECTS\\GENERATIVE_AI\\llm_engi\n",
      "│   neering\\week8\\pricer_service2.py\n",
      "└── 🔨 Created function Pricer.download_model_to_folder.\n",
      "\\ Creating objects...\n",
      "├── 🔨 Created mount \n",
      "│   c:\\Users\\iskorpittt\\Desktop\\MY_DATA_SCIENCE\\PROJECTS\\GENERATIVE_AI\\llm_engi\n",
      "│   neering\\week8\\pricer_service2.py\n",
      "└── 🔨 Created function Pricer.download_model_to_folder.\n",
      "/ Creating objects...\n",
      "├── 🔨 Created mount \n",
      "│   c:\\Users\\iskorpittt\\Desktop\\MY_DATA_SCIENCE\\PROJECTS\\GENERATIVE_AI\\llm_engi\n",
      "│   neering\\week8\\pricer_service2.py\n",
      "└── 🔨 Created function Pricer.download_model_to_folder.\n",
      "| Creating objects...\n",
      "├── 🔨 Created mount \n",
      "│   c:\\Users\\iskorpittt\\Desktop\\MY_DATA_SCIENCE\\PROJECTS\\GENERATIVE_AI\\llm_engi\n",
      "│   neering\\week8\\pricer_service2.py\n",
      "└── 🔨 Created function Pricer.download_model_to_folder.\n",
      "- Creating objects...\n",
      "├── 🔨 Created mount \n",
      "│   c:\\Users\\iskorpittt\\Desktop\\MY_DATA_SCIENCE\\PROJECTS\\GENERATIVE_AI\\llm_engi\n",
      "│   neering\\week8\\pricer_service2.py\n",
      "└── 🔨 Created function Pricer.download_model_to_folder.\n",
      "| Creating objects...\n",
      "├── 🔨 Created mount \n",
      "│   c:\\Users\\iskorpittt\\Desktop\\MY_DATA_SCIENCE\\PROJECTS\\GENERATIVE_AI\\llm_engi\n",
      "│   neering\\week8\\pricer_service2.py\n",
      "└── 🔨 Created function Pricer.download_model_to_folder.\n",
      "- Creating objects...\n",
      "├── 🔨 Created mount \n",
      "│   c:\\Users\\iskorpittt\\Desktop\\MY_DATA_SCIENCE\\PROJECTS\\GENERATIVE_AI\\llm_engi\n",
      "│   neering\\week8\\pricer_service2.py\n",
      "└── 🔨 Created function Pricer.download_model_to_folder.\n",
      "| Creating objects...\n",
      "├── 🔨 Created mount \n",
      "│   c:\\Users\\iskorpittt\\Desktop\\MY_DATA_SCIENCE\\PROJECTS\\GENERATIVE_AI\\llm_engi\n",
      "│   neering\\week8\\pricer_service2.py\n",
      "└── 🔨 Created function Pricer.download_model_to_folder.\n",
      "- Creating objects...\n",
      "├── 🔨 Created mount \n",
      "│   c:\\Users\\iskorpittt\\Desktop\\MY_DATA_SCIENCE\\PROJECTS\\GENERATIVE_AI\\llm_engi\n",
      "│   neering\\week8\\pricer_service2.py\n",
      "└── 🔨 Created function Pricer.download_model_to_folder.\n",
      "| Creating objects...\n",
      "├── 🔨 Created mount \n",
      "│   c:\\Users\\iskorpittt\\Desktop\\MY_DATA_SCIENCE\\PROJECTS\\GENERATIVE_AI\\llm_engi\n",
      "│   neering\\week8\\pricer_service2.py\n",
      "└── 🔨 Created function Pricer.download_model_to_folder.\n",
      "- Creating objects...\n",
      "├── 🔨 Created mount \n",
      "│   c:\\Users\\iskorpittt\\Desktop\\MY_DATA_SCIENCE\\PROJECTS\\GENERATIVE_AI\\llm_engi\n",
      "│   neering\\week8\\pricer_service2.py\n",
      "└── 🔨 Created function Pricer.download_model_to_folder.\n",
      "| Creating objects...\n",
      "├── 🔨 Created mount \n",
      "│   c:\\Users\\iskorpittt\\Desktop\\MY_DATA_SCIENCE\\PROJECTS\\GENERATIVE_AI\\llm_engi\n",
      "│   neering\\week8\\pricer_service2.py\n",
      "└── 🔨 Created function Pricer.download_model_to_folder.\n",
      "- Creating objects...\n",
      "├── 🔨 Created mount \n",
      "│   c:\\Users\\iskorpittt\\Desktop\\MY_DATA_SCIENCE\\PROJECTS\\GENERATIVE_AI\\llm_engi\n",
      "│   neering\\week8\\pricer_service2.py\n",
      "└── 🔨 Created function Pricer.download_model_to_folder.\n",
      "| Creating objects...\n",
      "├── 🔨 Created mount \n",
      "│   c:\\Users\\iskorpittt\\Desktop\\MY_DATA_SCIENCE\\PROJECTS\\GENERATIVE_AI\\llm_engi\n",
      "│   neering\\week8\\pricer_service2.py\n",
      "└── 🔨 Created function Pricer.download_model_to_folder.\n",
      "- Creating objects...\n",
      "├── 🔨 Created mount \n",
      "│   c:\\Users\\iskorpittt\\Desktop\\MY_DATA_SCIENCE\\PROJECTS\\GENERATIVE_AI\\llm_engi\n",
      "│   neering\\week8\\pricer_service2.py\n",
      "└── 🔨 Created function Pricer.download_model_to_folder.\n",
      "| Creating objects...\n",
      "├── 🔨 Created mount \n",
      "│   c:\\Users\\iskorpittt\\Desktop\\MY_DATA_SCIENCE\\PROJECTS\\GENERATIVE_AI\\llm_engi\n",
      "│   neering\\week8\\pricer_service2.py\n",
      "└── 🔨 Created function Pricer.download_model_to_folder.\n",
      "- Creating objects...\n",
      "├── 🔨 Created mount \n",
      "│   c:\\Users\\iskorpittt\\Desktop\\MY_DATA_SCIENCE\\PROJECTS\\GENERATIVE_AI\\llm_engi\n",
      "│   neering\\week8\\pricer_service2.py\n",
      "└── 🔨 Created function Pricer.download_model_to_folder.\n",
      "| Creating objects...\n",
      "├── 🔨 Created mount \n",
      "│   c:\\Users\\iskorpittt\\Desktop\\MY_DATA_SCIENCE\\PROJECTS\\GENERATIVE_AI\\llm_engi\n",
      "│   neering\\week8\\pricer_service2.py\n",
      "└── 🔨 Created function Pricer.download_model_to_folder.\n",
      "- Creating objects...\n",
      "├── 🔨 Created mount \n",
      "│   c:\\Users\\iskorpittt\\Desktop\\MY_DATA_SCIENCE\\PROJECTS\\GENERATIVE_AI\\llm_engi\n",
      "│   neering\\week8\\pricer_service2.py\n",
      "└── 🔨 Created function Pricer.download_model_to_folder.\n",
      "| Creating objects...\n",
      "├── 🔨 Created mount \n",
      "│   c:\\Users\\iskorpittt\\Desktop\\MY_DATA_SCIENCE\\PROJECTS\\GENERATIVE_AI\\llm_engi\n",
      "│   neering\\week8\\pricer_service2.py\n",
      "└── 🔨 Created function Pricer.download_model_to_folder.\n",
      "- Creating objects...\n",
      "├── 🔨 Created mount \n",
      "│   c:\\Users\\iskorpittt\\Desktop\\MY_DATA_SCIENCE\\PROJECTS\\GENERATIVE_AI\\llm_engi\n",
      "│   neering\\week8\\pricer_service2.py\n",
      "└── 🔨 Created function Pricer.download_model_to_folder.\n",
      "| Creating objects...\n",
      "├── 🔨 Created mount \n",
      "│   c:\\Users\\iskorpittt\\Desktop\\MY_DATA_SCIENCE\\PROJECTS\\GENERATIVE_AI\\llm_engi\n",
      "│   neering\\week8\\pricer_service2.py\n",
      "└── 🔨 Created function Pricer.download_model_to_folder.\n",
      "- Creating objects...\n",
      "├── 🔨 Created mount \n",
      "│   c:\\Users\\iskorpittt\\Desktop\\MY_DATA_SCIENCE\\PROJECTS\\GENERATIVE_AI\\llm_engi\n",
      "│   neering\\week8\\pricer_service2.py\n",
      "└── 🔨 Created function Pricer.download_model_to_folder.\n",
      "| Creating objects...\n",
      "├── 🔨 Created mount \n",
      "│   c:\\Users\\iskorpittt\\Desktop\\MY_DATA_SCIENCE\\PROJECTS\\GENERATIVE_AI\\llm_engi\n",
      "│   neering\\week8\\pricer_service2.py\n",
      "└── 🔨 Created function Pricer.download_model_to_folder.\n",
      "- Creating objects...\n",
      "├── 🔨 Created mount \n",
      "│   c:\\Users\\iskorpittt\\Desktop\\MY_DATA_SCIENCE\\PROJECTS\\GENERATIVE_AI\\llm_engi\n",
      "│   neering\\week8\\pricer_service2.py\n",
      "└── 🔨 Created function Pricer.download_model_to_folder.\n",
      "| Creating objects...\n",
      "├── 🔨 Created mount \n",
      "│   c:\\Users\\iskorpittt\\Desktop\\MY_DATA_SCIENCE\\PROJECTS\\GENERATIVE_AI\\llm_engi\n",
      "│   neering\\week8\\pricer_service2.py\n",
      "└── 🔨 Created function Pricer.download_model_to_folder.\n",
      "- Creating objects...\n",
      "├── 🔨 Created mount \n",
      "│   c:\\Users\\iskorpittt\\Desktop\\MY_DATA_SCIENCE\\PROJECTS\\GENERATIVE_AI\\llm_engi\n",
      "│   neering\\week8\\pricer_service2.py\n",
      "└── 🔨 Created function Pricer.download_model_to_folder.\n",
      "| Creating objects...\n",
      "├── 🔨 Created mount \n",
      "│   c:\\Users\\iskorpittt\\Desktop\\MY_DATA_SCIENCE\\PROJECTS\\GENERATIVE_AI\\llm_engi\n",
      "│   neering\\week8\\pricer_service2.py\n",
      "└── 🔨 Created function Pricer.download_model_to_folder.\n",
      "- Creating objects...\n",
      "├── 🔨 Created mount \n",
      "│   c:\\Users\\iskorpittt\\Desktop\\MY_DATA_SCIENCE\\PROJECTS\\GENERATIVE_AI\\llm_engi\n",
      "│   neering\\week8\\pricer_service2.py\n",
      "└── 🔨 Created function Pricer.download_model_to_folder.\n",
      "| Creating objects...\n",
      "├── 🔨 Created mount \n",
      "│   c:\\Users\\iskorpittt\\Desktop\\MY_DATA_SCIENCE\\PROJECTS\\GENERATIVE_AI\\llm_engi\n",
      "│   neering\\week8\\pricer_service2.py\n",
      "└── 🔨 Created function Pricer.download_model_to_folder.\n",
      "- Creating objects...\n",
      "├── 🔨 Created mount \n",
      "│   c:\\Users\\iskorpittt\\Desktop\\MY_DATA_SCIENCE\\PROJECTS\\GENERATIVE_AI\\llm_engi\n",
      "│   neering\\week8\\pricer_service2.py\n",
      "└── 🔨 Created function Pricer.download_model_to_folder.\n",
      "| Creating objects...\n",
      "├── 🔨 Created mount \n",
      "│   c:\\Users\\iskorpittt\\Desktop\\MY_DATA_SCIENCE\\PROJECTS\\GENERATIVE_AI\\llm_engi\n",
      "│   neering\\week8\\pricer_service2.py\n",
      "└── 🔨 Created function Pricer.download_model_to_folder.\n",
      "- Creating objects...\n",
      "├── 🔨 Created mount \n",
      "│   c:\\Users\\iskorpittt\\Desktop\\MY_DATA_SCIENCE\\PROJECTS\\GENERATIVE_AI\\llm_engi\n",
      "│   neering\\week8\\pricer_service2.py\n",
      "└── 🔨 Created function Pricer.download_model_to_folder.\n",
      "| Creating objects...\n",
      "├── 🔨 Created mount \n",
      "│   c:\\Users\\iskorpittt\\Desktop\\MY_DATA_SCIENCE\\PROJECTS\\GENERATIVE_AI\\llm_engi\n",
      "│   neering\\week8\\pricer_service2.py\n",
      "└── 🔨 Created function Pricer.download_model_to_folder.\n",
      "- Creating objects...\n",
      "├── 🔨 Created mount \n",
      "│   c:\\Users\\iskorpittt\\Desktop\\MY_DATA_SCIENCE\\PROJECTS\\GENERATIVE_AI\\llm_engi\n",
      "│   neering\\week8\\pricer_service2.py\n",
      "└── 🔨 Created function Pricer.download_model_to_folder.\n",
      "| Creating objects...\n",
      "├── 🔨 Created mount \n",
      "│   c:\\Users\\iskorpittt\\Desktop\\MY_DATA_SCIENCE\\PROJECTS\\GENERATIVE_AI\\llm_engi\n",
      "│   neering\\week8\\pricer_service2.py\n",
      "└── 🔨 Created function Pricer.download_model_to_folder.\n",
      "- Creating objects...\n",
      "├── 🔨 Created mount \n",
      "│   c:\\Users\\iskorpittt\\Desktop\\MY_DATA_SCIENCE\\PROJECTS\\GENERATIVE_AI\\llm_engi\n",
      "│   neering\\week8\\pricer_service2.py\n",
      "└── 🔨 Created function Pricer.download_model_to_folder.\n",
      "| Creating objects...\n",
      "├── 🔨 Created mount \n",
      "│   c:\\Users\\iskorpittt\\Desktop\\MY_DATA_SCIENCE\\PROJECTS\\GENERATIVE_AI\\llm_engi\n",
      "│   neering\\week8\\pricer_service2.py\n",
      "└── 🔨 Created function Pricer.download_model_to_folder.\n",
      "- Creating objects...\n",
      "├── 🔨 Created mount \n",
      "│   c:\\Users\\iskorpittt\\Desktop\\MY_DATA_SCIENCE\\PROJECTS\\GENERATIVE_AI\\llm_engi\n",
      "│   neering\\week8\\pricer_service2.py\n",
      "└── 🔨 Created function Pricer.download_model_to_folder.\n",
      "| Creating objects...\n",
      "├── 🔨 Created mount \n",
      "│   c:\\Users\\iskorpittt\\Desktop\\MY_DATA_SCIENCE\\PROJECTS\\GENERATIVE_AI\\llm_engi\n",
      "│   neering\\week8\\pricer_service2.py\n",
      "└── 🔨 Created function Pricer.download_model_to_folder.\n",
      "- Creating objects...\n",
      "├── 🔨 Created mount \n",
      "│   c:\\Users\\iskorpittt\\Desktop\\MY_DATA_SCIENCE\\PROJECTS\\GENERATIVE_AI\\llm_engi\n",
      "│   neering\\week8\\pricer_service2.py\n",
      "└── 🔨 Created function Pricer.download_model_to_folder.\n",
      "| Creating objects...\n",
      "├── 🔨 Created mount \n",
      "│   c:\\Users\\iskorpittt\\Desktop\\MY_DATA_SCIENCE\\PROJECTS\\GENERATIVE_AI\\llm_engi\n",
      "│   neering\\week8\\pricer_service2.py\n",
      "└── 🔨 Created function Pricer.download_model_to_folder.\n",
      "- Creating objects...\n",
      "├── 🔨 Created mount \n",
      "│   c:\\Users\\iskorpittt\\Desktop\\MY_DATA_SCIENCE\\PROJECTS\\GENERATIVE_AI\\llm_engi\n",
      "│   neering\\week8\\pricer_service2.py\n",
      "└── 🔨 Created function Pricer.download_model_to_folder.\n",
      "| Creating objects...\n",
      "├── 🔨 Created mount \n",
      "│   c:\\Users\\iskorpittt\\Desktop\\MY_DATA_SCIENCE\\PROJECTS\\GENERATIVE_AI\\llm_engi\n",
      "│   neering\\week8\\pricer_service2.py\n",
      "└── 🔨 Created function Pricer.download_model_to_folder.\n",
      "- Creating objects...\n",
      "├── 🔨 Created mount \n",
      "│   c:\\Users\\iskorpittt\\Desktop\\MY_DATA_SCIENCE\\PROJECTS\\GENERATIVE_AI\\llm_engi\n",
      "│   neering\\week8\\pricer_service2.py\n",
      "└── 🔨 Created function Pricer.download_model_to_folder.\n",
      "| Creating objects...\n",
      "├── 🔨 Created mount \n",
      "│   c:\\Users\\iskorpittt\\Desktop\\MY_DATA_SCIENCE\\PROJECTS\\GENERATIVE_AI\\llm_engi\n",
      "│   neering\\week8\\pricer_service2.py\n",
      "└── 🔨 Created function Pricer.download_model_to_folder.\n",
      "- Creating objects...\n",
      "├── 🔨 Created mount \n",
      "│   c:\\Users\\iskorpittt\\Desktop\\MY_DATA_SCIENCE\\PROJECTS\\GENERATIVE_AI\\llm_engi\n",
      "│   neering\\week8\\pricer_service2.py\n",
      "└── 🔨 Created function Pricer.download_model_to_folder.\n",
      "/ Creating objects...\n",
      "├── 🔨 Created mount \n",
      "│   c:\\Users\\iskorpittt\\Desktop\\MY_DATA_SCIENCE\\PROJECTS\\GENERATIVE_AI\\llm_engi\n",
      "│   neering\\week8\\pricer_service2.py\n",
      "└── 🔨 Created function Pricer.download_model_to_folder.\n",
      "\\ Creating objects...\n",
      "├── 🔨 Created mount \n",
      "│   c:\\Users\\iskorpittt\\Desktop\\MY_DATA_SCIENCE\\PROJECTS\\GENERATIVE_AI\\llm_engi\n",
      "│   neering\\week8\\pricer_service2.py\n",
      "└── 🔨 Created function Pricer.download_model_to_folder.\n",
      "/ Creating objects...\n",
      "├── 🔨 Created mount \n",
      "│   c:\\Users\\iskorpittt\\Desktop\\MY_DATA_SCIENCE\\PROJECTS\\GENERATIVE_AI\\llm_engi\n",
      "│   neering\\week8\\pricer_service2.py\n",
      "└── 🔨 Created function Pricer.download_model_to_folder.\n",
      "\\ Creating objects...\n",
      "├── 🔨 Created mount \n",
      "│   c:\\Users\\iskorpittt\\Desktop\\MY_DATA_SCIENCE\\PROJECTS\\GENERATIVE_AI\\llm_engi\n",
      "│   neering\\week8\\pricer_service2.py\n",
      "└── 🔨 Created function Pricer.download_model_to_folder.\n",
      "/ Creating objects...\n",
      "├── 🔨 Created mount \n",
      "│   c:\\Users\\iskorpittt\\Desktop\\MY_DATA_SCIENCE\\PROJECTS\\GENERATIVE_AI\\llm_engi\n",
      "│   neering\\week8\\pricer_service2.py\n",
      "└── 🔨 Created function Pricer.download_model_to_folder.\n",
      "\\ Creating objects...\n",
      "├── 🔨 Created mount \n",
      "│   c:\\Users\\iskorpittt\\Desktop\\MY_DATA_SCIENCE\\PROJECTS\\GENERATIVE_AI\\llm_engi\n",
      "│   neering\\week8\\pricer_service2.py\n",
      "└── 🔨 Created function Pricer.download_model_to_folder.\n",
      "/ Creating objects...\n",
      "├── 🔨 Created mount \n",
      "│   c:\\Users\\iskorpittt\\Desktop\\MY_DATA_SCIENCE\\PROJECTS\\GENERATIVE_AI\\llm_engi\n",
      "│   neering\\week8\\pricer_service2.py\n",
      "└── 🔨 Created function Pricer.download_model_to_folder.\n",
      "\\ Creating objects...\n",
      "├── 🔨 Created mount \n",
      "│   c:\\Users\\iskorpittt\\Desktop\\MY_DATA_SCIENCE\\PROJECTS\\GENERATIVE_AI\\llm_engi\n",
      "│   neering\\week8\\pricer_service2.py\n",
      "└── 🔨 Created function Pricer.download_model_to_folder.\n",
      "/ Creating objects...\n",
      "├── 🔨 Created mount \n",
      "│   c:\\Users\\iskorpittt\\Desktop\\MY_DATA_SCIENCE\\PROJECTS\\GENERATIVE_AI\\llm_engi\n",
      "│   neering\\week8\\pricer_service2.py\n",
      "└── 🔨 Created function Pricer.download_model_to_folder.\n",
      "\\ Creating objects...\n",
      "├── 🔨 Created mount \n",
      "│   c:\\Users\\iskorpittt\\Desktop\\MY_DATA_SCIENCE\\PROJECTS\\GENERATIVE_AI\\llm_engi\n",
      "│   neering\\week8\\pricer_service2.py\n",
      "└── 🔨 Created function Pricer.download_model_to_folder.\n",
      "/ Creating objects...\n",
      "├── 🔨 Created mount \n",
      "│   c:\\Users\\iskorpittt\\Desktop\\MY_DATA_SCIENCE\\PROJECTS\\GENERATIVE_AI\\llm_engi\n",
      "│   neering\\week8\\pricer_service2.py\n",
      "└── 🔨 Created function Pricer.download_model_to_folder.\n",
      "\\ Creating objects...\n",
      "├── 🔨 Created mount \n",
      "│   c:\\Users\\iskorpittt\\Desktop\\MY_DATA_SCIENCE\\PROJECTS\\GENERATIVE_AI\\llm_engi\n",
      "│   neering\\week8\\pricer_service2.py\n",
      "└── 🔨 Created function Pricer.download_model_to_folder.\n",
      "/ Creating objects...\n",
      "├── 🔨 Created mount \n",
      "│   c:\\Users\\iskorpittt\\Desktop\\MY_DATA_SCIENCE\\PROJECTS\\GENERATIVE_AI\\llm_engi\n",
      "│   neering\\week8\\pricer_service2.py\n",
      "└── 🔨 Created function Pricer.download_model_to_folder.\n",
      "\\ Creating objects...\n",
      "├── 🔨 Created mount \n",
      "│   c:\\Users\\iskorpittt\\Desktop\\MY_DATA_SCIENCE\\PROJECTS\\GENERATIVE_AI\\llm_engi\n",
      "│   neering\\week8\\pricer_service2.py\n",
      "└── 🔨 Created function Pricer.download_model_to_folder.\n",
      "/ Creating objects...\n",
      "├── 🔨 Created mount \n",
      "│   c:\\Users\\iskorpittt\\Desktop\\MY_DATA_SCIENCE\\PROJECTS\\GENERATIVE_AI\\llm_engi\n",
      "│   neering\\week8\\pricer_service2.py\n",
      "└── 🔨 Created function Pricer.download_model_to_folder.\n",
      "\\ Creating objects...\n",
      "├── 🔨 Created mount \n",
      "│   c:\\Users\\iskorpittt\\Desktop\\MY_DATA_SCIENCE\\PROJECTS\\GENERATIVE_AI\\llm_engi\n",
      "│   neering\\week8\\pricer_service2.py\n",
      "└── 🔨 Created function Pricer.download_model_to_folder.\n",
      "/ Creating objects...\n",
      "├── 🔨 Created mount \n",
      "│   c:\\Users\\iskorpittt\\Desktop\\MY_DATA_SCIENCE\\PROJECTS\\GENERATIVE_AI\\llm_engi\n",
      "│   neering\\week8\\pricer_service2.py\n",
      "└── 🔨 Created function Pricer.download_model_to_folder.\n",
      "\\ Creating objects...\n",
      "├── 🔨 Created mount \n",
      "│   c:\\Users\\iskorpittt\\Desktop\\MY_DATA_SCIENCE\\PROJECTS\\GENERATIVE_AI\\llm_engi\n",
      "│   neering\\week8\\pricer_service2.py\n",
      "└── 🔨 Created function Pricer.download_model_to_folder.\n",
      "/ Creating objects...\n",
      "├── 🔨 Created mount \n",
      "│   c:\\Users\\iskorpittt\\Desktop\\MY_DATA_SCIENCE\\PROJECTS\\GENERATIVE_AI\\llm_engi\n",
      "│   neering\\week8\\pricer_service2.py\n",
      "└── 🔨 Created function Pricer.download_model_to_folder.\n",
      "\\ Creating objects...\n",
      "├── 🔨 Created mount \n",
      "│   c:\\Users\\iskorpittt\\Desktop\\MY_DATA_SCIENCE\\PROJECTS\\GENERATIVE_AI\\llm_engi\n",
      "│   neering\\week8\\pricer_service2.py\n",
      "└── 🔨 Created function Pricer.download_model_to_folder.\n",
      "/ Creating objects...\n",
      "├── 🔨 Created mount \n",
      "│   c:\\Users\\iskorpittt\\Desktop\\MY_DATA_SCIENCE\\PROJECTS\\GENERATIVE_AI\\llm_engi\n",
      "│   neering\\week8\\pricer_service2.py\n",
      "└── 🔨 Created function Pricer.download_model_to_folder.\n",
      "\\ Creating objects...\n",
      "├── 🔨 Created mount \n",
      "│   c:\\Users\\iskorpittt\\Desktop\\MY_DATA_SCIENCE\\PROJECTS\\GENERATIVE_AI\\llm_engi\n",
      "│   neering\\week8\\pricer_service2.py\n",
      "└── 🔨 Created function Pricer.download_model_to_folder.\n",
      "/ Creating objects...\n",
      "├── 🔨 Created mount \n",
      "│   c:\\Users\\iskorpittt\\Desktop\\MY_DATA_SCIENCE\\PROJECTS\\GENERATIVE_AI\\llm_engi\n",
      "│   neering\\week8\\pricer_service2.py\n",
      "└── 🔨 Created function Pricer.download_model_to_folder.\n",
      "\\ Creating objects...\n",
      "├── 🔨 Created mount \n",
      "│   c:\\Users\\iskorpittt\\Desktop\\MY_DATA_SCIENCE\\PROJECTS\\GENERATIVE_AI\\llm_engi\n",
      "│   neering\\week8\\pricer_service2.py\n",
      "└── 🔨 Created function Pricer.download_model_to_folder.\n",
      "/ Creating objects...\n",
      "├── 🔨 Created mount \n",
      "│   c:\\Users\\iskorpittt\\Desktop\\MY_DATA_SCIENCE\\PROJECTS\\GENERATIVE_AI\\llm_engi\n",
      "│   neering\\week8\\pricer_service2.py\n",
      "└── 🔨 Created function Pricer.download_model_to_folder.\n",
      "\\ Creating objects...\n",
      "├── 🔨 Created mount \n",
      "│   c:\\Users\\iskorpittt\\Desktop\\MY_DATA_SCIENCE\\PROJECTS\\GENERATIVE_AI\\llm_engi\n",
      "│   neering\\week8\\pricer_service2.py\n",
      "└── 🔨 Created function Pricer.download_model_to_folder.\n",
      "\u001b[1AFetching 17 files:  12%|█▏        | 2/17 [00:00<00:04,  3.11it/s]/ Creating objects...\n",
      "├── 🔨 Created mount c:\\Users\\iskorpittt\\Desktop\\MY_DATA_SCIENCE\\PROJECTS\\GENER\n",
      "└── 🔨 Created function Pricer.download_model_to_folder.\n",
      "/ Creating objects...\n",
      "├── 🔨 Created mount \n",
      "│   c:\\Users\\iskorpittt\\Desktop\\MY_DATA_SCIENCE\\PROJECTS\\GENERATIVE_AI\\llm_engi\n",
      "│   neering\\week8\\pricer_service2.py\n",
      "└── 🔨 Created function Pricer.download_model_to_folder.\n",
      "\\ Creating objects...\n",
      "├── 🔨 Created mount \n",
      "│   c:\\Users\\iskorpittt\\Desktop\\MY_DATA_SCIENCE\\PROJECTS\\GENERATIVE_AI\\llm_engi\n",
      "│   neering\\week8\\pricer_service2.py\n",
      "└── 🔨 Created function Pricer.download_model_to_folder.\n",
      "/ Creating objects...\n",
      "├── 🔨 Created mount \n",
      "│   c:\\Users\\iskorpittt\\Desktop\\MY_DATA_SCIENCE\\PROJECTS\\GENERATIVE_AI\\llm_engi\n",
      "│   neering\\week8\\pricer_service2.py\n",
      "└── 🔨 Created function Pricer.download_model_to_folder.\n",
      "\\ Creating objects...\n",
      "├── 🔨 Created mount \n",
      "│   c:\\Users\\iskorpittt\\Desktop\\MY_DATA_SCIENCE\\PROJECTS\\GENERATIVE_AI\\llm_engi\n",
      "│   neering\\week8\\pricer_service2.py\n",
      "└── 🔨 Created function Pricer.download_model_to_folder.\n",
      "/ Creating objects...\n",
      "├── 🔨 Created mount \n",
      "│   c:\\Users\\iskorpittt\\Desktop\\MY_DATA_SCIENCE\\PROJECTS\\GENERATIVE_AI\\llm_engi\n",
      "│   neering\\week8\\pricer_service2.py\n",
      "└── 🔨 Created function Pricer.download_model_to_folder.\n",
      "\\ Creating objects...\n",
      "├── 🔨 Created mount \n",
      "│   c:\\Users\\iskorpittt\\Desktop\\MY_DATA_SCIENCE\\PROJECTS\\GENERATIVE_AI\\llm_engi\n",
      "│   neering\\week8\\pricer_service2.py\n",
      "└── 🔨 Created function Pricer.download_model_to_folder.\n",
      "/ Creating objects...\n",
      "├── 🔨 Created mount \n",
      "│   c:\\Users\\iskorpittt\\Desktop\\MY_DATA_SCIENCE\\PROJECTS\\GENERATIVE_AI\\llm_engi\n",
      "│   neering\\week8\\pricer_service2.py\n",
      "└── 🔨 Created function Pricer.download_model_to_folder.\n",
      "\\ Creating objects...\n",
      "├── 🔨 Created mount \n",
      "│   c:\\Users\\iskorpittt\\Desktop\\MY_DATA_SCIENCE\\PROJECTS\\GENERATIVE_AI\\llm_engi\n",
      "│   neering\\week8\\pricer_service2.py\n",
      "└── 🔨 Created function Pricer.download_model_to_folder.\n",
      "/ Creating objects...\n",
      "├── 🔨 Created mount \n",
      "│   c:\\Users\\iskorpittt\\Desktop\\MY_DATA_SCIENCE\\PROJECTS\\GENERATIVE_AI\\llm_engi\n",
      "│   neering\\week8\\pricer_service2.py\n",
      "└── 🔨 Created function Pricer.download_model_to_folder.\n",
      "\\ Creating objects...\n",
      "├── 🔨 Created mount \n",
      "│   c:\\Users\\iskorpittt\\Desktop\\MY_DATA_SCIENCE\\PROJECTS\\GENERATIVE_AI\\llm_engi\n",
      "│   neering\\week8\\pricer_service2.py\n",
      "└── 🔨 Created function Pricer.download_model_to_folder.\n",
      "/ Creating objects...\n",
      "├── 🔨 Created mount \n",
      "│   c:\\Users\\iskorpittt\\Desktop\\MY_DATA_SCIENCE\\PROJECTS\\GENERATIVE_AI\\llm_engi\n",
      "│   neering\\week8\\pricer_service2.py\n",
      "└── 🔨 Created function Pricer.download_model_to_folder.\n",
      "\\ Creating objects...\n",
      "├── 🔨 Created mount \n",
      "│   c:\\Users\\iskorpittt\\Desktop\\MY_DATA_SCIENCE\\PROJECTS\\GENERATIVE_AI\\llm_engi\n",
      "│   neering\\week8\\pricer_service2.py\n",
      "└── 🔨 Created function Pricer.download_model_to_folder.\n",
      "/ Creating objects...\n",
      "├── 🔨 Created mount \n",
      "│   c:\\Users\\iskorpittt\\Desktop\\MY_DATA_SCIENCE\\PROJECTS\\GENERATIVE_AI\\llm_engi\n",
      "│   neering\\week8\\pricer_service2.py\n",
      "└── 🔨 Created function Pricer.download_model_to_folder.\n",
      "\\ Creating objects...\n",
      "├── 🔨 Created mount \n",
      "│   c:\\Users\\iskorpittt\\Desktop\\MY_DATA_SCIENCE\\PROJECTS\\GENERATIVE_AI\\llm_engi\n",
      "│   neering\\week8\\pricer_service2.py\n",
      "└── 🔨 Created function Pricer.download_model_to_folder.\n",
      "/ Creating objects...\n",
      "├── 🔨 Created mount \n",
      "│   c:\\Users\\iskorpittt\\Desktop\\MY_DATA_SCIENCE\\PROJECTS\\GENERATIVE_AI\\llm_engi\n",
      "│   neering\\week8\\pricer_service2.py\n",
      "└── 🔨 Created function Pricer.download_model_to_folder.\n",
      "\\ Creating objects...\n",
      "├── 🔨 Created mount \n",
      "│   c:\\Users\\iskorpittt\\Desktop\\MY_DATA_SCIENCE\\PROJECTS\\GENERATIVE_AI\\llm_engi\n",
      "│   neering\\week8\\pricer_service2.py\n",
      "└── 🔨 Created function Pricer.download_model_to_folder.\n",
      "/ Creating objects...\n",
      "├── 🔨 Created mount \n",
      "│   c:\\Users\\iskorpittt\\Desktop\\MY_DATA_SCIENCE\\PROJECTS\\GENERATIVE_AI\\llm_engi\n",
      "│   neering\\week8\\pricer_service2.py\n",
      "└── 🔨 Created function Pricer.download_model_to_folder.\n",
      "\\ Creating objects...\n",
      "├── 🔨 Created mount \n",
      "│   c:\\Users\\iskorpittt\\Desktop\\MY_DATA_SCIENCE\\PROJECTS\\GENERATIVE_AI\\llm_engi\n",
      "│   neering\\week8\\pricer_service2.py\n",
      "└── 🔨 Created function Pricer.download_model_to_folder.\n",
      "/ Creating objects...\n",
      "├── 🔨 Created mount \n",
      "│   c:\\Users\\iskorpittt\\Desktop\\MY_DATA_SCIENCE\\PROJECTS\\GENERATIVE_AI\\llm_engi\n",
      "│   neering\\week8\\pricer_service2.py\n",
      "└── 🔨 Created function Pricer.download_model_to_folder.\n",
      "\\ Creating objects...\n",
      "├── 🔨 Created mount \n",
      "│   c:\\Users\\iskorpittt\\Desktop\\MY_DATA_SCIENCE\\PROJECTS\\GENERATIVE_AI\\llm_engi\n",
      "│   neering\\week8\\pricer_service2.py\n",
      "└── 🔨 Created function Pricer.download_model_to_folder.\n",
      "/ Creating objects...\n",
      "├── 🔨 Created mount \n",
      "│   c:\\Users\\iskorpittt\\Desktop\\MY_DATA_SCIENCE\\PROJECTS\\GENERATIVE_AI\\llm_engi\n",
      "│   neering\\week8\\pricer_service2.py\n",
      "└── 🔨 Created function Pricer.download_model_to_folder.\n",
      "\\ Creating objects...\n",
      "├── 🔨 Created mount \n",
      "│   c:\\Users\\iskorpittt\\Desktop\\MY_DATA_SCIENCE\\PROJECTS\\GENERATIVE_AI\\llm_engi\n",
      "│   neering\\week8\\pricer_service2.py\n",
      "└── 🔨 Created function Pricer.download_model_to_folder.\n",
      "/ Creating objects...\n",
      "├── 🔨 Created mount \n",
      "│   c:\\Users\\iskorpittt\\Desktop\\MY_DATA_SCIENCE\\PROJECTS\\GENERATIVE_AI\\llm_engi\n",
      "│   neering\\week8\\pricer_service2.py\n",
      "└── 🔨 Created function Pricer.download_model_to_folder.\n",
      "\\ Creating objects...\n",
      "├── 🔨 Created mount \n",
      "│   c:\\Users\\iskorpittt\\Desktop\\MY_DATA_SCIENCE\\PROJECTS\\GENERATIVE_AI\\llm_engi\n",
      "│   neering\\week8\\pricer_service2.py\n",
      "└── 🔨 Created function Pricer.download_model_to_folder.\n",
      "/ Creating objects...\n",
      "├── 🔨 Created mount \n",
      "│   c:\\Users\\iskorpittt\\Desktop\\MY_DATA_SCIENCE\\PROJECTS\\GENERATIVE_AI\\llm_engi\n",
      "│   neering\\week8\\pricer_service2.py\n",
      "└── 🔨 Created function Pricer.download_model_to_folder.\n",
      "\\ Creating objects...\n",
      "├── 🔨 Created mount \n",
      "│   c:\\Users\\iskorpittt\\Desktop\\MY_DATA_SCIENCE\\PROJECTS\\GENERATIVE_AI\\llm_engi\n",
      "│   neering\\week8\\pricer_service2.py\n",
      "└── 🔨 Created function Pricer.download_model_to_folder.\n",
      "/ Creating objects...\n",
      "├── 🔨 Created mount \n",
      "│   c:\\Users\\iskorpittt\\Desktop\\MY_DATA_SCIENCE\\PROJECTS\\GENERATIVE_AI\\llm_engi\n",
      "│   neering\\week8\\pricer_service2.py\n",
      "└── 🔨 Created function Pricer.download_model_to_folder.\n",
      "| Creating objects...\n",
      "├── 🔨 Created mount \n",
      "│   c:\\Users\\iskorpittt\\Desktop\\MY_DATA_SCIENCE\\PROJECTS\\GENERATIVE_AI\\llm_engi\n",
      "│   neering\\week8\\pricer_service2.py\n",
      "└── 🔨 Created function Pricer.download_model_to_folder.\n",
      "- Creating objects...\n",
      "├── 🔨 Created mount \n",
      "│   c:\\Users\\iskorpittt\\Desktop\\MY_DATA_SCIENCE\\PROJECTS\\GENERATIVE_AI\\llm_engi\n",
      "│   neering\\week8\\pricer_service2.py\n",
      "└── 🔨 Created function Pricer.download_model_to_folder.\n",
      "| Creating objects...\n",
      "├── 🔨 Created mount \n",
      "│   c:\\Users\\iskorpittt\\Desktop\\MY_DATA_SCIENCE\\PROJECTS\\GENERATIVE_AI\\llm_engi\n",
      "│   neering\\week8\\pricer_service2.py\n",
      "└── 🔨 Created function Pricer.download_model_to_folder.\n",
      "- Creating objects...\n",
      "├── 🔨 Created mount \n",
      "│   c:\\Users\\iskorpittt\\Desktop\\MY_DATA_SCIENCE\\PROJECTS\\GENERATIVE_AI\\llm_engi\n",
      "│   neering\\week8\\pricer_service2.py\n",
      "└── 🔨 Created function Pricer.download_model_to_folder.\n",
      "| Creating objects...\n",
      "├── 🔨 Created mount \n",
      "│   c:\\Users\\iskorpittt\\Desktop\\MY_DATA_SCIENCE\\PROJECTS\\GENERATIVE_AI\\llm_engi\n",
      "│   neering\\week8\\pricer_service2.py\n",
      "└── 🔨 Created function Pricer.download_model_to_folder.\n",
      "- Creating objects...\n",
      "├── 🔨 Created mount \n",
      "│   c:\\Users\\iskorpittt\\Desktop\\MY_DATA_SCIENCE\\PROJECTS\\GENERATIVE_AI\\llm_engi\n",
      "│   neering\\week8\\pricer_service2.py\n",
      "└── 🔨 Created function Pricer.download_model_to_folder.\n",
      "| Creating objects...\n",
      "├── 🔨 Created mount \n",
      "│   c:\\Users\\iskorpittt\\Desktop\\MY_DATA_SCIENCE\\PROJECTS\\GENERATIVE_AI\\llm_engi\n",
      "│   neering\\week8\\pricer_service2.py\n",
      "└── 🔨 Created function Pricer.download_model_to_folder.\n",
      "- Creating objects...\n",
      "├── 🔨 Created mount \n",
      "│   c:\\Users\\iskorpittt\\Desktop\\MY_DATA_SCIENCE\\PROJECTS\\GENERATIVE_AI\\llm_engi\n",
      "│   neering\\week8\\pricer_service2.py\n",
      "└── 🔨 Created function Pricer.download_model_to_folder.\n",
      "| Creating objects...\n",
      "├── 🔨 Created mount \n",
      "│   c:\\Users\\iskorpittt\\Desktop\\MY_DATA_SCIENCE\\PROJECTS\\GENERATIVE_AI\\llm_engi\n",
      "│   neering\\week8\\pricer_service2.py\n",
      "└── 🔨 Created function Pricer.download_model_to_folder.\n",
      "- Creating objects...\n",
      "├── 🔨 Created mount \n",
      "│   c:\\Users\\iskorpittt\\Desktop\\MY_DATA_SCIENCE\\PROJECTS\\GENERATIVE_AI\\llm_engi\n",
      "│   neering\\week8\\pricer_service2.py\n",
      "└── 🔨 Created function Pricer.download_model_to_folder.\n",
      "| Creating objects...\n",
      "├── 🔨 Created mount \n",
      "│   c:\\Users\\iskorpittt\\Desktop\\MY_DATA_SCIENCE\\PROJECTS\\GENERATIVE_AI\\llm_engi\n",
      "│   neering\\week8\\pricer_service2.py\n",
      "└── 🔨 Created function Pricer.download_model_to_folder.\n",
      "- Creating objects...\n",
      "├── 🔨 Created mount \n",
      "│   c:\\Users\\iskorpittt\\Desktop\\MY_DATA_SCIENCE\\PROJECTS\\GENERATIVE_AI\\llm_engi\n",
      "│   neering\\week8\\pricer_service2.py\n",
      "└── 🔨 Created function Pricer.download_model_to_folder.\n",
      "| Creating objects...\n",
      "├── 🔨 Created mount \n",
      "│   c:\\Users\\iskorpittt\\Desktop\\MY_DATA_SCIENCE\\PROJECTS\\GENERATIVE_AI\\llm_engi\n",
      "│   neering\\week8\\pricer_service2.py\n",
      "└── 🔨 Created function Pricer.download_model_to_folder.\n",
      "- Creating objects...\n",
      "├── 🔨 Created mount \n",
      "│   c:\\Users\\iskorpittt\\Desktop\\MY_DATA_SCIENCE\\PROJECTS\\GENERATIVE_AI\\llm_engi\n",
      "│   neering\\week8\\pricer_service2.py\n",
      "└── 🔨 Created function Pricer.download_model_to_folder.\n",
      "| Creating objects...\n",
      "├── 🔨 Created mount \n",
      "│   c:\\Users\\iskorpittt\\Desktop\\MY_DATA_SCIENCE\\PROJECTS\\GENERATIVE_AI\\llm_engi\n",
      "│   neering\\week8\\pricer_service2.py\n",
      "└── 🔨 Created function Pricer.download_model_to_folder.\n",
      "- Creating objects...\n",
      "├── 🔨 Created mount \n",
      "│   c:\\Users\\iskorpittt\\Desktop\\MY_DATA_SCIENCE\\PROJECTS\\GENERATIVE_AI\\llm_engi\n",
      "│   neering\\week8\\pricer_service2.py\n",
      "└── 🔨 Created function Pricer.download_model_to_folder.\n",
      "| Creating objects...\n",
      "├── 🔨 Created mount \n",
      "│   c:\\Users\\iskorpittt\\Desktop\\MY_DATA_SCIENCE\\PROJECTS\\GENERATIVE_AI\\llm_engi\n",
      "│   neering\\week8\\pricer_service2.py\n",
      "└── 🔨 Created function Pricer.download_model_to_folder.\n",
      "- Creating objects...\n",
      "├── 🔨 Created mount \n",
      "│   c:\\Users\\iskorpittt\\Desktop\\MY_DATA_SCIENCE\\PROJECTS\\GENERATIVE_AI\\llm_engi\n",
      "│   neering\\week8\\pricer_service2.py\n",
      "└── 🔨 Created function Pricer.download_model_to_folder.\n",
      "| Creating objects...\n",
      "├── 🔨 Created mount \n",
      "│   c:\\Users\\iskorpittt\\Desktop\\MY_DATA_SCIENCE\\PROJECTS\\GENERATIVE_AI\\llm_engi\n",
      "│   neering\\week8\\pricer_service2.py\n",
      "└── 🔨 Created function Pricer.download_model_to_folder.\n",
      "- Creating objects...\n",
      "├── 🔨 Created mount \n",
      "│   c:\\Users\\iskorpittt\\Desktop\\MY_DATA_SCIENCE\\PROJECTS\\GENERATIVE_AI\\llm_engi\n",
      "│   neering\\week8\\pricer_service2.py\n",
      "└── 🔨 Created function Pricer.download_model_to_folder.\n",
      "| Creating objects...\n",
      "├── 🔨 Created mount \n",
      "│   c:\\Users\\iskorpittt\\Desktop\\MY_DATA_SCIENCE\\PROJECTS\\GENERATIVE_AI\\llm_engi\n",
      "│   neering\\week8\\pricer_service2.py\n",
      "└── 🔨 Created function Pricer.download_model_to_folder.\n",
      "- Creating objects...\n",
      "├── 🔨 Created mount \n",
      "│   c:\\Users\\iskorpittt\\Desktop\\MY_DATA_SCIENCE\\PROJECTS\\GENERATIVE_AI\\llm_engi\n",
      "│   neering\\week8\\pricer_service2.py\n",
      "└── 🔨 Created function Pricer.download_model_to_folder.\n",
      "| Creating objects...\n",
      "├── 🔨 Created mount \n",
      "│   c:\\Users\\iskorpittt\\Desktop\\MY_DATA_SCIENCE\\PROJECTS\\GENERATIVE_AI\\llm_engi\n",
      "│   neering\\week8\\pricer_service2.py\n",
      "└── 🔨 Created function Pricer.download_model_to_folder.\n",
      "- Creating objects...\n",
      "├── 🔨 Created mount \n",
      "│   c:\\Users\\iskorpittt\\Desktop\\MY_DATA_SCIENCE\\PROJECTS\\GENERATIVE_AI\\llm_engi\n",
      "│   neering\\week8\\pricer_service2.py\n",
      "└── 🔨 Created function Pricer.download_model_to_folder.\n",
      "| Creating objects...\n",
      "├── 🔨 Created mount \n",
      "│   c:\\Users\\iskorpittt\\Desktop\\MY_DATA_SCIENCE\\PROJECTS\\GENERATIVE_AI\\llm_engi\n",
      "│   neering\\week8\\pricer_service2.py\n",
      "└── 🔨 Created function Pricer.download_model_to_folder.\n",
      "- Creating objects...\n",
      "├── 🔨 Created mount \n",
      "│   c:\\Users\\iskorpittt\\Desktop\\MY_DATA_SCIENCE\\PROJECTS\\GENERATIVE_AI\\llm_engi\n",
      "│   neering\\week8\\pricer_service2.py\n",
      "└── 🔨 Created function Pricer.download_model_to_folder.\n",
      "| Creating objects...\n",
      "├── 🔨 Created mount \n",
      "│   c:\\Users\\iskorpittt\\Desktop\\MY_DATA_SCIENCE\\PROJECTS\\GENERATIVE_AI\\llm_engi\n",
      "│   neering\\week8\\pricer_service2.py\n",
      "└── 🔨 Created function Pricer.download_model_to_folder.\n",
      "- Creating objects...\n",
      "├── 🔨 Created mount \n",
      "│   c:\\Users\\iskorpittt\\Desktop\\MY_DATA_SCIENCE\\PROJECTS\\GENERATIVE_AI\\llm_engi\n",
      "│   neering\\week8\\pricer_service2.py\n",
      "└── 🔨 Created function Pricer.download_model_to_folder.\n",
      "| Creating objects...\n",
      "├── 🔨 Created mount \n",
      "│   c:\\Users\\iskorpittt\\Desktop\\MY_DATA_SCIENCE\\PROJECTS\\GENERATIVE_AI\\llm_engi\n",
      "│   neering\\week8\\pricer_service2.py\n",
      "└── 🔨 Created function Pricer.download_model_to_folder.\n",
      "- Creating objects...\n",
      "├── 🔨 Created mount \n",
      "│   c:\\Users\\iskorpittt\\Desktop\\MY_DATA_SCIENCE\\PROJECTS\\GENERATIVE_AI\\llm_engi\n",
      "│   neering\\week8\\pricer_service2.py\n",
      "└── 🔨 Created function Pricer.download_model_to_folder.\n",
      "| Creating objects...\n",
      "├── 🔨 Created mount \n",
      "│   c:\\Users\\iskorpittt\\Desktop\\MY_DATA_SCIENCE\\PROJECTS\\GENERATIVE_AI\\llm_engi\n",
      "│   neering\\week8\\pricer_service2.py\n",
      "└── 🔨 Created function Pricer.download_model_to_folder.\n",
      "- Creating objects...\n",
      "├── 🔨 Created mount \n",
      "│   c:\\Users\\iskorpittt\\Desktop\\MY_DATA_SCIENCE\\PROJECTS\\GENERATIVE_AI\\llm_engi\n",
      "│   neering\\week8\\pricer_service2.py\n",
      "└── 🔨 Created function Pricer.download_model_to_folder.\n",
      "| Creating objects...\n",
      "├── 🔨 Created mount \n",
      "│   c:\\Users\\iskorpittt\\Desktop\\MY_DATA_SCIENCE\\PROJECTS\\GENERATIVE_AI\\llm_engi\n",
      "│   neering\\week8\\pricer_service2.py\n",
      "└── 🔨 Created function Pricer.download_model_to_folder.\n",
      "- Creating objects...\n",
      "├── 🔨 Created mount \n",
      "│   c:\\Users\\iskorpittt\\Desktop\\MY_DATA_SCIENCE\\PROJECTS\\GENERATIVE_AI\\llm_engi\n",
      "│   neering\\week8\\pricer_service2.py\n",
      "└── 🔨 Created function Pricer.download_model_to_folder.\n",
      "| Creating objects...\n",
      "├── 🔨 Created mount \n",
      "│   c:\\Users\\iskorpittt\\Desktop\\MY_DATA_SCIENCE\\PROJECTS\\GENERATIVE_AI\\llm_engi\n",
      "│   neering\\week8\\pricer_service2.py\n",
      "└── 🔨 Created function Pricer.download_model_to_folder.\n",
      "- Creating objects...\n",
      "├── 🔨 Created mount \n",
      "│   c:\\Users\\iskorpittt\\Desktop\\MY_DATA_SCIENCE\\PROJECTS\\GENERATIVE_AI\\llm_engi\n",
      "│   neering\\week8\\pricer_service2.py\n",
      "└── 🔨 Created function Pricer.download_model_to_folder.\n",
      "| Creating objects...\n",
      "├── 🔨 Created mount \n",
      "│   c:\\Users\\iskorpittt\\Desktop\\MY_DATA_SCIENCE\\PROJECTS\\GENERATIVE_AI\\llm_engi\n",
      "│   neering\\week8\\pricer_service2.py\n",
      "└── 🔨 Created function Pricer.download_model_to_folder.\n",
      "- Creating objects...\n",
      "├── 🔨 Created mount \n",
      "│   c:\\Users\\iskorpittt\\Desktop\\MY_DATA_SCIENCE\\PROJECTS\\GENERATIVE_AI\\llm_engi\n",
      "│   neering\\week8\\pricer_service2.py\n",
      "└── 🔨 Created function Pricer.download_model_to_folder.\n",
      "| Creating objects...\n",
      "├── 🔨 Created mount \n",
      "│   c:\\Users\\iskorpittt\\Desktop\\MY_DATA_SCIENCE\\PROJECTS\\GENERATIVE_AI\\llm_engi\n",
      "│   neering\\week8\\pricer_service2.py\n",
      "└── 🔨 Created function Pricer.download_model_to_folder.\n",
      "- Creating objects...\n",
      "├── 🔨 Created mount \n",
      "│   c:\\Users\\iskorpittt\\Desktop\\MY_DATA_SCIENCE\\PROJECTS\\GENERATIVE_AI\\llm_engi\n",
      "│   neering\\week8\\pricer_service2.py\n",
      "└── 🔨 Created function Pricer.download_model_to_folder.\n",
      "| Creating objects...\n",
      "├── 🔨 Created mount \n",
      "│   c:\\Users\\iskorpittt\\Desktop\\MY_DATA_SCIENCE\\PROJECTS\\GENERATIVE_AI\\llm_engi\n",
      "│   neering\\week8\\pricer_service2.py\n",
      "└── 🔨 Created function Pricer.download_model_to_folder.\n",
      "- Creating objects...\n",
      "├── 🔨 Created mount \n",
      "│   c:\\Users\\iskorpittt\\Desktop\\MY_DATA_SCIENCE\\PROJECTS\\GENERATIVE_AI\\llm_engi\n",
      "│   neering\\week8\\pricer_service2.py\n",
      "└── 🔨 Created function Pricer.download_model_to_folder.\n",
      "| Creating objects...\n",
      "├── 🔨 Created mount \n",
      "│   c:\\Users\\iskorpittt\\Desktop\\MY_DATA_SCIENCE\\PROJECTS\\GENERATIVE_AI\\llm_engi\n",
      "│   neering\\week8\\pricer_service2.py\n",
      "└── 🔨 Created function Pricer.download_model_to_folder.\n",
      "- Creating objects...\n",
      "├── 🔨 Created mount \n",
      "│   c:\\Users\\iskorpittt\\Desktop\\MY_DATA_SCIENCE\\PROJECTS\\GENERATIVE_AI\\llm_engi\n",
      "│   neering\\week8\\pricer_service2.py\n",
      "└── 🔨 Created function Pricer.download_model_to_folder.\n",
      "| Creating objects...\n",
      "├── 🔨 Created mount \n",
      "│   c:\\Users\\iskorpittt\\Desktop\\MY_DATA_SCIENCE\\PROJECTS\\GENERATIVE_AI\\llm_engi\n",
      "│   neering\\week8\\pricer_service2.py\n",
      "└── 🔨 Created function Pricer.download_model_to_folder.\n",
      "- Creating objects...\n",
      "├── 🔨 Created mount \n",
      "│   c:\\Users\\iskorpittt\\Desktop\\MY_DATA_SCIENCE\\PROJECTS\\GENERATIVE_AI\\llm_engi\n",
      "│   neering\\week8\\pricer_service2.py\n",
      "└── 🔨 Created function Pricer.download_model_to_folder.\n",
      "| Creating objects...\n",
      "├── 🔨 Created mount \n",
      "│   c:\\Users\\iskorpittt\\Desktop\\MY_DATA_SCIENCE\\PROJECTS\\GENERATIVE_AI\\llm_engi\n",
      "│   neering\\week8\\pricer_service2.py\n",
      "└── 🔨 Created function Pricer.download_model_to_folder.\n",
      "- Creating objects...\n",
      "├── 🔨 Created mount \n",
      "│   c:\\Users\\iskorpittt\\Desktop\\MY_DATA_SCIENCE\\PROJECTS\\GENERATIVE_AI\\llm_engi\n",
      "│   neering\\week8\\pricer_service2.py\n",
      "└── 🔨 Created function Pricer.download_model_to_folder.\n",
      "| Creating objects...\n",
      "├── 🔨 Created mount \n",
      "│   c:\\Users\\iskorpittt\\Desktop\\MY_DATA_SCIENCE\\PROJECTS\\GENERATIVE_AI\\llm_engi\n",
      "│   neering\\week8\\pricer_service2.py\n",
      "└── 🔨 Created function Pricer.download_model_to_folder.\n",
      "- Creating objects...\n",
      "├── 🔨 Created mount \n",
      "│   c:\\Users\\iskorpittt\\Desktop\\MY_DATA_SCIENCE\\PROJECTS\\GENERATIVE_AI\\llm_engi\n",
      "│   neering\\week8\\pricer_service2.py\n",
      "└── 🔨 Created function Pricer.download_model_to_folder.\n",
      "| Creating objects...\n",
      "├── 🔨 Created mount \n",
      "│   c:\\Users\\iskorpittt\\Desktop\\MY_DATA_SCIENCE\\PROJECTS\\GENERATIVE_AI\\llm_engi\n",
      "│   neering\\week8\\pricer_service2.py\n",
      "└── 🔨 Created function Pricer.download_model_to_folder.\n",
      "- Creating objects...\n",
      "├── 🔨 Created mount \n",
      "│   c:\\Users\\iskorpittt\\Desktop\\MY_DATA_SCIENCE\\PROJECTS\\GENERATIVE_AI\\llm_engi\n",
      "│   neering\\week8\\pricer_service2.py\n",
      "└── 🔨 Created function Pricer.download_model_to_folder.\n",
      "| Creating objects...\n",
      "├── 🔨 Created mount \n",
      "│   c:\\Users\\iskorpittt\\Desktop\\MY_DATA_SCIENCE\\PROJECTS\\GENERATIVE_AI\\llm_engi\n",
      "│   neering\\week8\\pricer_service2.py\n",
      "└── 🔨 Created function Pricer.download_model_to_folder.\n",
      "- Creating objects...\n",
      "├── 🔨 Created mount \n",
      "│   c:\\Users\\iskorpittt\\Desktop\\MY_DATA_SCIENCE\\PROJECTS\\GENERATIVE_AI\\llm_engi\n",
      "│   neering\\week8\\pricer_service2.py\n",
      "└── 🔨 Created function Pricer.download_model_to_folder.\n",
      "| Creating objects...\n",
      "├── 🔨 Created mount \n",
      "│   c:\\Users\\iskorpittt\\Desktop\\MY_DATA_SCIENCE\\PROJECTS\\GENERATIVE_AI\\llm_engi\n",
      "│   neering\\week8\\pricer_service2.py\n",
      "└── 🔨 Created function Pricer.download_model_to_folder.\n",
      "- Creating objects...\n",
      "├── 🔨 Created mount \n",
      "│   c:\\Users\\iskorpittt\\Desktop\\MY_DATA_SCIENCE\\PROJECTS\\GENERATIVE_AI\\llm_engi\n",
      "│   neering\\week8\\pricer_service2.py\n",
      "└── 🔨 Created function Pricer.download_model_to_folder.\n",
      "| Creating objects...\n",
      "├── 🔨 Created mount \n",
      "│   c:\\Users\\iskorpittt\\Desktop\\MY_DATA_SCIENCE\\PROJECTS\\GENERATIVE_AI\\llm_engi\n",
      "│   neering\\week8\\pricer_service2.py\n",
      "└── 🔨 Created function Pricer.download_model_to_folder.\n",
      "- Creating objects...\n",
      "├── 🔨 Created mount \n",
      "│   c:\\Users\\iskorpittt\\Desktop\\MY_DATA_SCIENCE\\PROJECTS\\GENERATIVE_AI\\llm_engi\n",
      "│   neering\\week8\\pricer_service2.py\n",
      "└── 🔨 Created function Pricer.download_model_to_folder.\n",
      "| Creating objects...\n",
      "├── 🔨 Created mount \n",
      "│   c:\\Users\\iskorpittt\\Desktop\\MY_DATA_SCIENCE\\PROJECTS\\GENERATIVE_AI\\llm_engi\n",
      "│   neering\\week8\\pricer_service2.py\n",
      "└── 🔨 Created function Pricer.download_model_to_folder.\n",
      "- Creating objects...\n",
      "├── 🔨 Created mount \n",
      "│   c:\\Users\\iskorpittt\\Desktop\\MY_DATA_SCIENCE\\PROJECTS\\GENERATIVE_AI\\llm_engi\n",
      "│   neering\\week8\\pricer_service2.py\n",
      "└── 🔨 Created function Pricer.download_model_to_folder.\n",
      "| Creating objects...\n",
      "├── 🔨 Created mount \n",
      "│   c:\\Users\\iskorpittt\\Desktop\\MY_DATA_SCIENCE\\PROJECTS\\GENERATIVE_AI\\llm_engi\n",
      "│   neering\\week8\\pricer_service2.py\n",
      "└── 🔨 Created function Pricer.download_model_to_folder.\n",
      "- Creating objects...\n",
      "├── 🔨 Created mount \n",
      "│   c:\\Users\\iskorpittt\\Desktop\\MY_DATA_SCIENCE\\PROJECTS\\GENERATIVE_AI\\llm_engi\n",
      "│   neering\\week8\\pricer_service2.py\n",
      "└── 🔨 Created function Pricer.download_model_to_folder.\n",
      "| Creating objects...\n",
      "├── 🔨 Created mount \n",
      "│   c:\\Users\\iskorpittt\\Desktop\\MY_DATA_SCIENCE\\PROJECTS\\GENERATIVE_AI\\llm_engi\n",
      "│   neering\\week8\\pricer_service2.py\n",
      "└── 🔨 Created function Pricer.download_model_to_folder.\n",
      "- Creating objects...\n",
      "├── 🔨 Created mount \n",
      "│   c:\\Users\\iskorpittt\\Desktop\\MY_DATA_SCIENCE\\PROJECTS\\GENERATIVE_AI\\llm_engi\n",
      "│   neering\\week8\\pricer_service2.py\n",
      "└── 🔨 Created function Pricer.download_model_to_folder.\n",
      "| Creating objects...\n",
      "├── 🔨 Created mount \n",
      "│   c:\\Users\\iskorpittt\\Desktop\\MY_DATA_SCIENCE\\PROJECTS\\GENERATIVE_AI\\llm_engi\n",
      "│   neering\\week8\\pricer_service2.py\n",
      "└── 🔨 Created function Pricer.download_model_to_folder.\n",
      "- Creating objects...\n",
      "├── 🔨 Created mount \n",
      "│   c:\\Users\\iskorpittt\\Desktop\\MY_DATA_SCIENCE\\PROJECTS\\GENERATIVE_AI\\llm_engi\n",
      "│   neering\\week8\\pricer_service2.py\n",
      "└── 🔨 Created function Pricer.download_model_to_folder.\n",
      "| Creating objects...\n",
      "├── 🔨 Created mount \n",
      "│   c:\\Users\\iskorpittt\\Desktop\\MY_DATA_SCIENCE\\PROJECTS\\GENERATIVE_AI\\llm_engi\n",
      "│   neering\\week8\\pricer_service2.py\n",
      "└── 🔨 Created function Pricer.download_model_to_folder.\n",
      "- Creating objects...\n",
      "├── 🔨 Created mount \n",
      "│   c:\\Users\\iskorpittt\\Desktop\\MY_DATA_SCIENCE\\PROJECTS\\GENERATIVE_AI\\llm_engi\n",
      "│   neering\\week8\\pricer_service2.py\n",
      "└── 🔨 Created function Pricer.download_model_to_folder.\n",
      "| Creating objects...\n",
      "├── 🔨 Created mount \n",
      "│   c:\\Users\\iskorpittt\\Desktop\\MY_DATA_SCIENCE\\PROJECTS\\GENERATIVE_AI\\llm_engi\n",
      "│   neering\\week8\\pricer_service2.py\n",
      "└── 🔨 Created function Pricer.download_model_to_folder.\n",
      "- Creating objects...\n",
      "├── 🔨 Created mount \n",
      "│   c:\\Users\\iskorpittt\\Desktop\\MY_DATA_SCIENCE\\PROJECTS\\GENERATIVE_AI\\llm_engi\n",
      "│   neering\\week8\\pricer_service2.py\n",
      "└── 🔨 Created function Pricer.download_model_to_folder.\n",
      "| Creating objects...\n",
      "├── 🔨 Created mount \n",
      "│   c:\\Users\\iskorpittt\\Desktop\\MY_DATA_SCIENCE\\PROJECTS\\GENERATIVE_AI\\llm_engi\n",
      "│   neering\\week8\\pricer_service2.py\n",
      "└── 🔨 Created function Pricer.download_model_to_folder.\n",
      "- Creating objects...\n",
      "├── 🔨 Created mount \n",
      "│   c:\\Users\\iskorpittt\\Desktop\\MY_DATA_SCIENCE\\PROJECTS\\GENERATIVE_AI\\llm_engi\n",
      "│   neering\\week8\\pricer_service2.py\n",
      "└── 🔨 Created function Pricer.download_model_to_folder.\n",
      "| Creating objects...\n",
      "├── 🔨 Created mount \n",
      "│   c:\\Users\\iskorpittt\\Desktop\\MY_DATA_SCIENCE\\PROJECTS\\GENERATIVE_AI\\llm_engi\n",
      "│   neering\\week8\\pricer_service2.py\n",
      "└── 🔨 Created function Pricer.download_model_to_folder.\n",
      "- Creating objects...\n",
      "├── 🔨 Created mount \n",
      "│   c:\\Users\\iskorpittt\\Desktop\\MY_DATA_SCIENCE\\PROJECTS\\GENERATIVE_AI\\llm_engi\n",
      "│   neering\\week8\\pricer_service2.py\n",
      "└── 🔨 Created function Pricer.download_model_to_folder.\n",
      "/ Creating objects...\n",
      "├── 🔨 Created mount \n",
      "│   c:\\Users\\iskorpittt\\Desktop\\MY_DATA_SCIENCE\\PROJECTS\\GENERATIVE_AI\\llm_engi\n",
      "│   neering\\week8\\pricer_service2.py\n",
      "└── 🔨 Created function Pricer.download_model_to_folder.\n",
      "- Creating objects...\n",
      "├── 🔨 Created mount \n",
      "│   c:\\Users\\iskorpittt\\Desktop\\MY_DATA_SCIENCE\\PROJECTS\\GENERATIVE_AI\\llm_engi\n",
      "│   neering\\week8\\pricer_service2.py\n",
      "└── 🔨 Created function Pricer.download_model_to_folder.\n",
      "/ Creating objects...\n",
      "├── 🔨 Created mount \n",
      "│   c:\\Users\\iskorpittt\\Desktop\\MY_DATA_SCIENCE\\PROJECTS\\GENERATIVE_AI\\llm_engi\n",
      "│   neering\\week8\\pricer_service2.py\n",
      "└── 🔨 Created function Pricer.download_model_to_folder.\n",
      "\\ Creating objects...\n",
      "├── 🔨 Created mount \n",
      "│   c:\\Users\\iskorpittt\\Desktop\\MY_DATA_SCIENCE\\PROJECTS\\GENERATIVE_AI\\llm_engi\n",
      "│   neering\\week8\\pricer_service2.py\n",
      "└── 🔨 Created function Pricer.download_model_to_folder.\n",
      "/ Creating objects...\n",
      "├── 🔨 Created mount \n",
      "│   c:\\Users\\iskorpittt\\Desktop\\MY_DATA_SCIENCE\\PROJECTS\\GENERATIVE_AI\\llm_engi\n",
      "│   neering\\week8\\pricer_service2.py\n",
      "└── 🔨 Created function Pricer.download_model_to_folder.\n",
      "\\ Creating objects...\n",
      "├── 🔨 Created mount \n",
      "│   c:\\Users\\iskorpittt\\Desktop\\MY_DATA_SCIENCE\\PROJECTS\\GENERATIVE_AI\\llm_engi\n",
      "│   neering\\week8\\pricer_service2.py\n",
      "└── 🔨 Created function Pricer.download_model_to_folder.\n",
      "/ Creating objects...\n",
      "├── 🔨 Created mount \n",
      "│   c:\\Users\\iskorpittt\\Desktop\\MY_DATA_SCIENCE\\PROJECTS\\GENERATIVE_AI\\llm_engi\n",
      "│   neering\\week8\\pricer_service2.py\n",
      "└── 🔨 Created function Pricer.download_model_to_folder.\n",
      "\\ Creating objects...\n",
      "├── 🔨 Created mount \n",
      "│   c:\\Users\\iskorpittt\\Desktop\\MY_DATA_SCIENCE\\PROJECTS\\GENERATIVE_AI\\llm_engi\n",
      "│   neering\\week8\\pricer_service2.py\n",
      "└── 🔨 Created function Pricer.download_model_to_folder.\n",
      "/ Creating objects...\n",
      "├── 🔨 Created mount \n",
      "│   c:\\Users\\iskorpittt\\Desktop\\MY_DATA_SCIENCE\\PROJECTS\\GENERATIVE_AI\\llm_engi\n",
      "│   neering\\week8\\pricer_service2.py\n",
      "└── 🔨 Created function Pricer.download_model_to_folder.\n",
      "\\ Creating objects...\n",
      "├── 🔨 Created mount \n",
      "│   c:\\Users\\iskorpittt\\Desktop\\MY_DATA_SCIENCE\\PROJECTS\\GENERATIVE_AI\\llm_engi\n",
      "│   neering\\week8\\pricer_service2.py\n",
      "└── 🔨 Created function Pricer.download_model_to_folder.\n",
      "/ Creating objects...\n",
      "├── 🔨 Created mount \n",
      "│   c:\\Users\\iskorpittt\\Desktop\\MY_DATA_SCIENCE\\PROJECTS\\GENERATIVE_AI\\llm_engi\n",
      "│   neering\\week8\\pricer_service2.py\n",
      "└── 🔨 Created function Pricer.download_model_to_folder.\n",
      "\\ Creating objects...\n",
      "├── 🔨 Created mount \n",
      "│   c:\\Users\\iskorpittt\\Desktop\\MY_DATA_SCIENCE\\PROJECTS\\GENERATIVE_AI\\llm_engi\n",
      "│   neering\\week8\\pricer_service2.py\n",
      "└── 🔨 Created function Pricer.download_model_to_folder.\n",
      "/ Creating objects...\n",
      "├── 🔨 Created mount \n",
      "│   c:\\Users\\iskorpittt\\Desktop\\MY_DATA_SCIENCE\\PROJECTS\\GENERATIVE_AI\\llm_engi\n",
      "│   neering\\week8\\pricer_service2.py\n",
      "└── 🔨 Created function Pricer.download_model_to_folder.\n",
      "\\ Creating objects...\n",
      "├── 🔨 Created mount \n",
      "│   c:\\Users\\iskorpittt\\Desktop\\MY_DATA_SCIENCE\\PROJECTS\\GENERATIVE_AI\\llm_engi\n",
      "│   neering\\week8\\pricer_service2.py\n",
      "└── 🔨 Created function Pricer.download_model_to_folder.\n",
      "/ Creating objects...\n",
      "├── 🔨 Created mount \n",
      "│   c:\\Users\\iskorpittt\\Desktop\\MY_DATA_SCIENCE\\PROJECTS\\GENERATIVE_AI\\llm_engi\n",
      "│   neering\\week8\\pricer_service2.py\n",
      "└── 🔨 Created function Pricer.download_model_to_folder.\n",
      "\\ Creating objects...\n",
      "├── 🔨 Created mount \n",
      "│   c:\\Users\\iskorpittt\\Desktop\\MY_DATA_SCIENCE\\PROJECTS\\GENERATIVE_AI\\llm_engi\n",
      "│   neering\\week8\\pricer_service2.py\n",
      "└── 🔨 Created function Pricer.download_model_to_folder.\n",
      "/ Creating objects...\n",
      "├── 🔨 Created mount \n",
      "│   c:\\Users\\iskorpittt\\Desktop\\MY_DATA_SCIENCE\\PROJECTS\\GENERATIVE_AI\\llm_engi\n",
      "│   neering\\week8\\pricer_service2.py\n",
      "└── 🔨 Created function Pricer.download_model_to_folder.\n",
      "\\ Creating objects...\n",
      "├── 🔨 Created mount \n",
      "│   c:\\Users\\iskorpittt\\Desktop\\MY_DATA_SCIENCE\\PROJECTS\\GENERATIVE_AI\\llm_engi\n",
      "│   neering\\week8\\pricer_service2.py\n",
      "└── 🔨 Created function Pricer.download_model_to_folder.\n",
      "/ Creating objects...\n",
      "├── 🔨 Created mount \n",
      "│   c:\\Users\\iskorpittt\\Desktop\\MY_DATA_SCIENCE\\PROJECTS\\GENERATIVE_AI\\llm_engi\n",
      "│   neering\\week8\\pricer_service2.py\n",
      "└── 🔨 Created function Pricer.download_model_to_folder.\n",
      "\\ Creating objects...\n",
      "├── 🔨 Created mount \n",
      "│   c:\\Users\\iskorpittt\\Desktop\\MY_DATA_SCIENCE\\PROJECTS\\GENERATIVE_AI\\llm_engi\n",
      "│   neering\\week8\\pricer_service2.py\n",
      "└── 🔨 Created function Pricer.download_model_to_folder.\n",
      "/ Creating objects...\n",
      "├── 🔨 Created mount \n",
      "│   c:\\Users\\iskorpittt\\Desktop\\MY_DATA_SCIENCE\\PROJECTS\\GENERATIVE_AI\\llm_engi\n",
      "│   neering\\week8\\pricer_service2.py\n",
      "└── 🔨 Created function Pricer.download_model_to_folder.\n",
      "\\ Creating objects...\n",
      "├── 🔨 Created mount \n",
      "│   c:\\Users\\iskorpittt\\Desktop\\MY_DATA_SCIENCE\\PROJECTS\\GENERATIVE_AI\\llm_engi\n",
      "│   neering\\week8\\pricer_service2.py\n",
      "└── 🔨 Created function Pricer.download_model_to_folder.\n",
      "/ Creating objects...\n",
      "├── 🔨 Created mount \n",
      "│   c:\\Users\\iskorpittt\\Desktop\\MY_DATA_SCIENCE\\PROJECTS\\GENERATIVE_AI\\llm_engi\n",
      "│   neering\\week8\\pricer_service2.py\n",
      "└── 🔨 Created function Pricer.download_model_to_folder.\n",
      "\\ Creating objects...\n",
      "├── 🔨 Created mount \n",
      "│   c:\\Users\\iskorpittt\\Desktop\\MY_DATA_SCIENCE\\PROJECTS\\GENERATIVE_AI\\llm_engi\n",
      "│   neering\\week8\\pricer_service2.py\n",
      "└── 🔨 Created function Pricer.download_model_to_folder.\n",
      "/ Creating objects...\n",
      "├── 🔨 Created mount \n",
      "│   c:\\Users\\iskorpittt\\Desktop\\MY_DATA_SCIENCE\\PROJECTS\\GENERATIVE_AI\\llm_engi\n",
      "│   neering\\week8\\pricer_service2.py\n",
      "└── 🔨 Created function Pricer.download_model_to_folder.\n",
      "\\ Creating objects...\n",
      "├── 🔨 Created mount \n",
      "│   c:\\Users\\iskorpittt\\Desktop\\MY_DATA_SCIENCE\\PROJECTS\\GENERATIVE_AI\\llm_engi\n",
      "│   neering\\week8\\pricer_service2.py\n",
      "└── 🔨 Created function Pricer.download_model_to_folder.\n",
      "/ Creating objects...\n",
      "├── 🔨 Created mount \n",
      "│   c:\\Users\\iskorpittt\\Desktop\\MY_DATA_SCIENCE\\PROJECTS\\GENERATIVE_AI\\llm_engi\n",
      "│   neering\\week8\\pricer_service2.py\n",
      "└── 🔨 Created function Pricer.download_model_to_folder.\n",
      "\\ Creating objects...\n",
      "├── 🔨 Created mount \n",
      "│   c:\\Users\\iskorpittt\\Desktop\\MY_DATA_SCIENCE\\PROJECTS\\GENERATIVE_AI\\llm_engi\n",
      "│   neering\\week8\\pricer_service2.py\n",
      "└── 🔨 Created function Pricer.download_model_to_folder.\n",
      "/ Creating objects...\n",
      "├── 🔨 Created mount \n",
      "│   c:\\Users\\iskorpittt\\Desktop\\MY_DATA_SCIENCE\\PROJECTS\\GENERATIVE_AI\\llm_engi\n",
      "│   neering\\week8\\pricer_service2.py\n",
      "└── 🔨 Created function Pricer.download_model_to_folder.\n",
      "\\ Creating objects...\n",
      "├── 🔨 Created mount \n",
      "│   c:\\Users\\iskorpittt\\Desktop\\MY_DATA_SCIENCE\\PROJECTS\\GENERATIVE_AI\\llm_engi\n",
      "│   neering\\week8\\pricer_service2.py\n",
      "└── 🔨 Created function Pricer.download_model_to_folder.\n",
      "/ Creating objects...\n",
      "├── 🔨 Created mount \n",
      "│   c:\\Users\\iskorpittt\\Desktop\\MY_DATA_SCIENCE\\PROJECTS\\GENERATIVE_AI\\llm_engi\n",
      "│   neering\\week8\\pricer_service2.py\n",
      "└── 🔨 Created function Pricer.download_model_to_folder.\n",
      "\\ Creating objects...\n",
      "├── 🔨 Created mount \n",
      "│   c:\\Users\\iskorpittt\\Desktop\\MY_DATA_SCIENCE\\PROJECTS\\GENERATIVE_AI\\llm_engi\n",
      "│   neering\\week8\\pricer_service2.py\n",
      "└── 🔨 Created function Pricer.download_model_to_folder.\n",
      "/ Creating objects...\n",
      "├── 🔨 Created mount \n",
      "│   c:\\Users\\iskorpittt\\Desktop\\MY_DATA_SCIENCE\\PROJECTS\\GENERATIVE_AI\\llm_engi\n",
      "│   neering\\week8\\pricer_service2.py\n",
      "└── 🔨 Created function Pricer.download_model_to_folder.\n",
      "\\ Creating objects...\n",
      "├── 🔨 Created mount \n",
      "│   c:\\Users\\iskorpittt\\Desktop\\MY_DATA_SCIENCE\\PROJECTS\\GENERATIVE_AI\\llm_engi\n",
      "│   neering\\week8\\pricer_service2.py\n",
      "└── 🔨 Created function Pricer.download_model_to_folder.\n",
      "/ Creating objects...\n",
      "├── 🔨 Created mount \n",
      "│   c:\\Users\\iskorpittt\\Desktop\\MY_DATA_SCIENCE\\PROJECTS\\GENERATIVE_AI\\llm_engi\n",
      "│   neering\\week8\\pricer_service2.py\n",
      "└── 🔨 Created function Pricer.download_model_to_folder.\n",
      "\\ Creating objects...\n",
      "├── 🔨 Created mount \n",
      "│   c:\\Users\\iskorpittt\\Desktop\\MY_DATA_SCIENCE\\PROJECTS\\GENERATIVE_AI\\llm_engi\n",
      "│   neering\\week8\\pricer_service2.py\n",
      "└── 🔨 Created function Pricer.download_model_to_folder.\n",
      "/ Creating objects...\n",
      "├── 🔨 Created mount \n",
      "│   c:\\Users\\iskorpittt\\Desktop\\MY_DATA_SCIENCE\\PROJECTS\\GENERATIVE_AI\\llm_engi\n",
      "│   neering\\week8\\pricer_service2.py\n",
      "└── 🔨 Created function Pricer.download_model_to_folder.\n",
      "| Creating objects...\n",
      "├── 🔨 Created mount \n",
      "│   c:\\Users\\iskorpittt\\Desktop\\MY_DATA_SCIENCE\\PROJECTS\\GENERATIVE_AI\\llm_engi\n",
      "│   neering\\week8\\pricer_service2.py\n",
      "└── 🔨 Created function Pricer.download_model_to_folder.\n",
      "/ Creating objects...\n",
      "├── 🔨 Created mount \n",
      "│   c:\\Users\\iskorpittt\\Desktop\\MY_DATA_SCIENCE\\PROJECTS\\GENERATIVE_AI\\llm_engi\n",
      "│   neering\\week8\\pricer_service2.py\n",
      "└── 🔨 Created function Pricer.download_model_to_folder.\n",
      "| Creating objects...\n",
      "├── 🔨 Created mount \n",
      "│   c:\\Users\\iskorpittt\\Desktop\\MY_DATA_SCIENCE\\PROJECTS\\GENERATIVE_AI\\llm_engi\n",
      "│   neering\\week8\\pricer_service2.py\n",
      "└── 🔨 Created function Pricer.download_model_to_folder.\n",
      "- Creating objects...\n",
      "├── 🔨 Created mount \n",
      "│   c:\\Users\\iskorpittt\\Desktop\\MY_DATA_SCIENCE\\PROJECTS\\GENERATIVE_AI\\llm_engi\n",
      "│   neering\\week8\\pricer_service2.py\n",
      "└── 🔨 Created function Pricer.download_model_to_folder.\n",
      "| Creating objects...\n",
      "├── 🔨 Created mount \n",
      "│   c:\\Users\\iskorpittt\\Desktop\\MY_DATA_SCIENCE\\PROJECTS\\GENERATIVE_AI\\llm_engi\n",
      "│   neering\\week8\\pricer_service2.py\n",
      "└── 🔨 Created function Pricer.download_model_to_folder.\n",
      "- Creating objects...\n",
      "├── 🔨 Created mount \n",
      "│   c:\\Users\\iskorpittt\\Desktop\\MY_DATA_SCIENCE\\PROJECTS\\GENERATIVE_AI\\llm_engi\n",
      "│   neering\\week8\\pricer_service2.py\n",
      "└── 🔨 Created function Pricer.download_model_to_folder.\n",
      "| Creating objects...\n",
      "├── 🔨 Created mount \n",
      "│   c:\\Users\\iskorpittt\\Desktop\\MY_DATA_SCIENCE\\PROJECTS\\GENERATIVE_AI\\llm_engi\n",
      "│   neering\\week8\\pricer_service2.py\n",
      "└── 🔨 Created function Pricer.download_model_to_folder.\n",
      "- Creating objects...\n",
      "├── 🔨 Created mount \n",
      "│   c:\\Users\\iskorpittt\\Desktop\\MY_DATA_SCIENCE\\PROJECTS\\GENERATIVE_AI\\llm_engi\n",
      "│   neering\\week8\\pricer_service2.py\n",
      "└── 🔨 Created function Pricer.download_model_to_folder.\n",
      "| Creating objects...\n",
      "├── 🔨 Created mount \n",
      "│   c:\\Users\\iskorpittt\\Desktop\\MY_DATA_SCIENCE\\PROJECTS\\GENERATIVE_AI\\llm_engi\n",
      "│   neering\\week8\\pricer_service2.py\n",
      "└── 🔨 Created function Pricer.download_model_to_folder.\n",
      "- Creating objects...\n",
      "├── 🔨 Created mount \n",
      "│   c:\\Users\\iskorpittt\\Desktop\\MY_DATA_SCIENCE\\PROJECTS\\GENERATIVE_AI\\llm_engi\n",
      "│   neering\\week8\\pricer_service2.py\n",
      "└── 🔨 Created function Pricer.download_model_to_folder.\n",
      "| Creating objects...\n",
      "├── 🔨 Created mount \n",
      "│   c:\\Users\\iskorpittt\\Desktop\\MY_DATA_SCIENCE\\PROJECTS\\GENERATIVE_AI\\llm_engi\n",
      "│   neering\\week8\\pricer_service2.py\n",
      "└── 🔨 Created function Pricer.download_model_to_folder.\n",
      "- Creating objects...\n",
      "├── 🔨 Created mount \n",
      "│   c:\\Users\\iskorpittt\\Desktop\\MY_DATA_SCIENCE\\PROJECTS\\GENERATIVE_AI\\llm_engi\n",
      "│   neering\\week8\\pricer_service2.py\n",
      "└── 🔨 Created function Pricer.download_model_to_folder.\n",
      "| Creating objects...\n",
      "├── 🔨 Created mount \n",
      "│   c:\\Users\\iskorpittt\\Desktop\\MY_DATA_SCIENCE\\PROJECTS\\GENERATIVE_AI\\llm_engi\n",
      "│   neering\\week8\\pricer_service2.py\n",
      "└── 🔨 Created function Pricer.download_model_to_folder.\n",
      "- Creating objects...\n",
      "├── 🔨 Created mount \n",
      "│   c:\\Users\\iskorpittt\\Desktop\\MY_DATA_SCIENCE\\PROJECTS\\GENERATIVE_AI\\llm_engi\n",
      "│   neering\\week8\\pricer_service2.py\n",
      "└── 🔨 Created function Pricer.download_model_to_folder.\n",
      "| Creating objects...\n",
      "├── 🔨 Created mount \n",
      "│   c:\\Users\\iskorpittt\\Desktop\\MY_DATA_SCIENCE\\PROJECTS\\GENERATIVE_AI\\llm_engi\n",
      "│   neering\\week8\\pricer_service2.py\n",
      "└── 🔨 Created function Pricer.download_model_to_folder.\n",
      "- Creating objects...\n",
      "├── 🔨 Created mount \n",
      "│   c:\\Users\\iskorpittt\\Desktop\\MY_DATA_SCIENCE\\PROJECTS\\GENERATIVE_AI\\llm_engi\n",
      "│   neering\\week8\\pricer_service2.py\n",
      "└── 🔨 Created function Pricer.download_model_to_folder.\n",
      "| Creating objects...\n",
      "├── 🔨 Created mount \n",
      "│   c:\\Users\\iskorpittt\\Desktop\\MY_DATA_SCIENCE\\PROJECTS\\GENERATIVE_AI\\llm_engi\n",
      "│   neering\\week8\\pricer_service2.py\n",
      "└── 🔨 Created function Pricer.download_model_to_folder.\n",
      "- Creating objects...\n",
      "├── 🔨 Created mount \n",
      "│   c:\\Users\\iskorpittt\\Desktop\\MY_DATA_SCIENCE\\PROJECTS\\GENERATIVE_AI\\llm_engi\n",
      "│   neering\\week8\\pricer_service2.py\n",
      "└── 🔨 Created function Pricer.download_model_to_folder.\n",
      "| Creating objects...\n",
      "├── 🔨 Created mount \n",
      "│   c:\\Users\\iskorpittt\\Desktop\\MY_DATA_SCIENCE\\PROJECTS\\GENERATIVE_AI\\llm_engi\n",
      "│   neering\\week8\\pricer_service2.py\n",
      "└── 🔨 Created function Pricer.download_model_to_folder.\n",
      "- Creating objects...\n",
      "├── 🔨 Created mount \n",
      "│   c:\\Users\\iskorpittt\\Desktop\\MY_DATA_SCIENCE\\PROJECTS\\GENERATIVE_AI\\llm_engi\n",
      "│   neering\\week8\\pricer_service2.py\n",
      "└── 🔨 Created function Pricer.download_model_to_folder.\n",
      "| Creating objects...\n",
      "├── 🔨 Created mount \n",
      "│   c:\\Users\\iskorpittt\\Desktop\\MY_DATA_SCIENCE\\PROJECTS\\GENERATIVE_AI\\llm_engi\n",
      "│   neering\\week8\\pricer_service2.py\n",
      "└── 🔨 Created function Pricer.download_model_to_folder.\n",
      "- Creating objects...\n",
      "├── 🔨 Created mount \n",
      "│   c:\\Users\\iskorpittt\\Desktop\\MY_DATA_SCIENCE\\PROJECTS\\GENERATIVE_AI\\llm_engi\n",
      "│   neering\\week8\\pricer_service2.py\n",
      "└── 🔨 Created function Pricer.download_model_to_folder.\n",
      "| Creating objects...\n",
      "├── 🔨 Created mount \n",
      "│   c:\\Users\\iskorpittt\\Desktop\\MY_DATA_SCIENCE\\PROJECTS\\GENERATIVE_AI\\llm_engi\n",
      "│   neering\\week8\\pricer_service2.py\n",
      "└── 🔨 Created function Pricer.download_model_to_folder.\n",
      "- Creating objects...\n",
      "├── 🔨 Created mount \n",
      "│   c:\\Users\\iskorpittt\\Desktop\\MY_DATA_SCIENCE\\PROJECTS\\GENERATIVE_AI\\llm_engi\n",
      "│   neering\\week8\\pricer_service2.py\n",
      "└── 🔨 Created function Pricer.download_model_to_folder.\n",
      "| Creating objects...\n",
      "├── 🔨 Created mount \n",
      "│   c:\\Users\\iskorpittt\\Desktop\\MY_DATA_SCIENCE\\PROJECTS\\GENERATIVE_AI\\llm_engi\n",
      "│   neering\\week8\\pricer_service2.py\n",
      "└── 🔨 Created function Pricer.download_model_to_folder.\n",
      "- Creating objects...\n",
      "├── 🔨 Created mount \n",
      "│   c:\\Users\\iskorpittt\\Desktop\\MY_DATA_SCIENCE\\PROJECTS\\GENERATIVE_AI\\llm_engi\n",
      "│   neering\\week8\\pricer_service2.py\n",
      "└── 🔨 Created function Pricer.download_model_to_folder.\n",
      "| Creating objects...\n",
      "├── 🔨 Created mount \n",
      "│   c:\\Users\\iskorpittt\\Desktop\\MY_DATA_SCIENCE\\PROJECTS\\GENERATIVE_AI\\llm_engi\n",
      "│   neering\\week8\\pricer_service2.py\n",
      "└── 🔨 Created function Pricer.download_model_to_folder.\n",
      "- Creating objects...\n",
      "├── 🔨 Created mount \n",
      "│   c:\\Users\\iskorpittt\\Desktop\\MY_DATA_SCIENCE\\PROJECTS\\GENERATIVE_AI\\llm_engi\n",
      "│   neering\\week8\\pricer_service2.py\n",
      "└── 🔨 Created function Pricer.download_model_to_folder.\n",
      "| Creating objects...\n",
      "├── 🔨 Created mount \n",
      "│   c:\\Users\\iskorpittt\\Desktop\\MY_DATA_SCIENCE\\PROJECTS\\GENERATIVE_AI\\llm_engi\n",
      "│   neering\\week8\\pricer_service2.py\n",
      "└── 🔨 Created function Pricer.download_model_to_folder.\n",
      "- Creating objects...\n",
      "├── 🔨 Created mount \n",
      "│   c:\\Users\\iskorpittt\\Desktop\\MY_DATA_SCIENCE\\PROJECTS\\GENERATIVE_AI\\llm_engi\n",
      "│   neering\\week8\\pricer_service2.py\n",
      "└── 🔨 Created function Pricer.download_model_to_folder.\n",
      "| Creating objects...\n",
      "├── 🔨 Created mount \n",
      "│   c:\\Users\\iskorpittt\\Desktop\\MY_DATA_SCIENCE\\PROJECTS\\GENERATIVE_AI\\llm_engi\n",
      "│   neering\\week8\\pricer_service2.py\n",
      "└── 🔨 Created function Pricer.download_model_to_folder.\n",
      "- Creating objects...\n",
      "├── 🔨 Created mount \n",
      "│   c:\\Users\\iskorpittt\\Desktop\\MY_DATA_SCIENCE\\PROJECTS\\GENERATIVE_AI\\llm_engi\n",
      "│   neering\\week8\\pricer_service2.py\n",
      "└── 🔨 Created function Pricer.download_model_to_folder.\n",
      "| Creating objects...\n",
      "├── 🔨 Created mount \n",
      "│   c:\\Users\\iskorpittt\\Desktop\\MY_DATA_SCIENCE\\PROJECTS\\GENERATIVE_AI\\llm_engi\n",
      "│   neering\\week8\\pricer_service2.py\n",
      "└── 🔨 Created function Pricer.download_model_to_folder.\n",
      "- Creating objects...\n",
      "├── 🔨 Created mount \n",
      "│   c:\\Users\\iskorpittt\\Desktop\\MY_DATA_SCIENCE\\PROJECTS\\GENERATIVE_AI\\llm_engi\n",
      "│   neering\\week8\\pricer_service2.py\n",
      "└── 🔨 Created function Pricer.download_model_to_folder.\n",
      "| Creating objects...\n",
      "├── 🔨 Created mount \n",
      "│   c:\\Users\\iskorpittt\\Desktop\\MY_DATA_SCIENCE\\PROJECTS\\GENERATIVE_AI\\llm_engi\n",
      "│   neering\\week8\\pricer_service2.py\n",
      "└── 🔨 Created function Pricer.download_model_to_folder.\n",
      "- Creating objects...\n",
      "├── 🔨 Created mount \n",
      "│   c:\\Users\\iskorpittt\\Desktop\\MY_DATA_SCIENCE\\PROJECTS\\GENERATIVE_AI\\llm_engi\n",
      "│   neering\\week8\\pricer_service2.py\n",
      "└── 🔨 Created function Pricer.download_model_to_folder.\n",
      "| Creating objects...\n",
      "├── 🔨 Created mount \n",
      "│   c:\\Users\\iskorpittt\\Desktop\\MY_DATA_SCIENCE\\PROJECTS\\GENERATIVE_AI\\llm_engi\n",
      "│   neering\\week8\\pricer_service2.py\n",
      "└── 🔨 Created function Pricer.download_model_to_folder.\n",
      "- Creating objects...\n",
      "├── 🔨 Created mount \n",
      "│   c:\\Users\\iskorpittt\\Desktop\\MY_DATA_SCIENCE\\PROJECTS\\GENERATIVE_AI\\llm_engi\n",
      "│   neering\\week8\\pricer_service2.py\n",
      "└── 🔨 Created function Pricer.download_model_to_folder.\n",
      "| Creating objects...\n",
      "├── 🔨 Created mount \n",
      "│   c:\\Users\\iskorpittt\\Desktop\\MY_DATA_SCIENCE\\PROJECTS\\GENERATIVE_AI\\llm_engi\n",
      "│   neering\\week8\\pricer_service2.py\n",
      "└── 🔨 Created function Pricer.download_model_to_folder.\n",
      "- Creating objects...\n",
      "├── 🔨 Created mount \n",
      "│   c:\\Users\\iskorpittt\\Desktop\\MY_DATA_SCIENCE\\PROJECTS\\GENERATIVE_AI\\llm_engi\n",
      "│   neering\\week8\\pricer_service2.py\n",
      "└── 🔨 Created function Pricer.download_model_to_folder.\n",
      "| Creating objects...\n",
      "├── 🔨 Created mount \n",
      "│   c:\\Users\\iskorpittt\\Desktop\\MY_DATA_SCIENCE\\PROJECTS\\GENERATIVE_AI\\llm_engi\n",
      "│   neering\\week8\\pricer_service2.py\n",
      "└── 🔨 Created function Pricer.download_model_to_folder.\n",
      "- Creating objects...\n",
      "├── 🔨 Created mount \n",
      "│   c:\\Users\\iskorpittt\\Desktop\\MY_DATA_SCIENCE\\PROJECTS\\GENERATIVE_AI\\llm_engi\n",
      "│   neering\\week8\\pricer_service2.py\n",
      "└── 🔨 Created function Pricer.download_model_to_folder.\n",
      "| Creating objects...\n",
      "├── 🔨 Created mount \n",
      "│   c:\\Users\\iskorpittt\\Desktop\\MY_DATA_SCIENCE\\PROJECTS\\GENERATIVE_AI\\llm_engi\n",
      "│   neering\\week8\\pricer_service2.py\n",
      "└── 🔨 Created function Pricer.download_model_to_folder.\n",
      "- Creating objects...\n",
      "├── 🔨 Created mount \n",
      "│   c:\\Users\\iskorpittt\\Desktop\\MY_DATA_SCIENCE\\PROJECTS\\GENERATIVE_AI\\llm_engi\n",
      "│   neering\\week8\\pricer_service2.py\n",
      "└── 🔨 Created function Pricer.download_model_to_folder.\n",
      "| Creating objects...\n",
      "├── 🔨 Created mount \n",
      "│   c:\\Users\\iskorpittt\\Desktop\\MY_DATA_SCIENCE\\PROJECTS\\GENERATIVE_AI\\llm_engi\n",
      "│   neering\\week8\\pricer_service2.py\n",
      "└── 🔨 Created function Pricer.download_model_to_folder.\n",
      "- Creating objects...\n",
      "├── 🔨 Created mount \n",
      "│   c:\\Users\\iskorpittt\\Desktop\\MY_DATA_SCIENCE\\PROJECTS\\GENERATIVE_AI\\llm_engi\n",
      "│   neering\\week8\\pricer_service2.py\n",
      "└── 🔨 Created function Pricer.download_model_to_folder.\n",
      "| Creating objects...\n",
      "├── 🔨 Created mount \n",
      "│   c:\\Users\\iskorpittt\\Desktop\\MY_DATA_SCIENCE\\PROJECTS\\GENERATIVE_AI\\llm_engi\n",
      "│   neering\\week8\\pricer_service2.py\n",
      "└── 🔨 Created function Pricer.download_model_to_folder.\n",
      "- Creating objects...\n",
      "├── 🔨 Created mount \n",
      "│   c:\\Users\\iskorpittt\\Desktop\\MY_DATA_SCIENCE\\PROJECTS\\GENERATIVE_AI\\llm_engi\n",
      "│   neering\\week8\\pricer_service2.py\n",
      "└── 🔨 Created function Pricer.download_model_to_folder.\n",
      "| Creating objects...\n",
      "├── 🔨 Created mount \n",
      "│   c:\\Users\\iskorpittt\\Desktop\\MY_DATA_SCIENCE\\PROJECTS\\GENERATIVE_AI\\llm_engi\n",
      "│   neering\\week8\\pricer_service2.py\n",
      "└── 🔨 Created function Pricer.download_model_to_folder.\n",
      "- Creating objects...\n",
      "├── 🔨 Created mount \n",
      "│   c:\\Users\\iskorpittt\\Desktop\\MY_DATA_SCIENCE\\PROJECTS\\GENERATIVE_AI\\llm_engi\n",
      "│   neering\\week8\\pricer_service2.py\n",
      "└── 🔨 Created function Pricer.download_model_to_folder.\n",
      "| Creating objects...\n",
      "├── 🔨 Created mount \n",
      "│   c:\\Users\\iskorpittt\\Desktop\\MY_DATA_SCIENCE\\PROJECTS\\GENERATIVE_AI\\llm_engi\n",
      "│   neering\\week8\\pricer_service2.py\n",
      "└── 🔨 Created function Pricer.download_model_to_folder.\n",
      "- Creating objects...\n",
      "├── 🔨 Created mount \n",
      "│   c:\\Users\\iskorpittt\\Desktop\\MY_DATA_SCIENCE\\PROJECTS\\GENERATIVE_AI\\llm_engi\n",
      "│   neering\\week8\\pricer_service2.py\n",
      "└── 🔨 Created function Pricer.download_model_to_folder.\n",
      "| Creating objects...\n",
      "├── 🔨 Created mount \n",
      "│   c:\\Users\\iskorpittt\\Desktop\\MY_DATA_SCIENCE\\PROJECTS\\GENERATIVE_AI\\llm_engi\n",
      "│   neering\\week8\\pricer_service2.py\n",
      "└── 🔨 Created function Pricer.download_model_to_folder.\n",
      "- Creating objects...\n",
      "├── 🔨 Created mount \n",
      "│   c:\\Users\\iskorpittt\\Desktop\\MY_DATA_SCIENCE\\PROJECTS\\GENERATIVE_AI\\llm_engi\n",
      "│   neering\\week8\\pricer_service2.py\n",
      "└── 🔨 Created function Pricer.download_model_to_folder.\n",
      "| Creating objects...\n",
      "├── 🔨 Created mount \n",
      "│   c:\\Users\\iskorpittt\\Desktop\\MY_DATA_SCIENCE\\PROJECTS\\GENERATIVE_AI\\llm_engi\n",
      "│   neering\\week8\\pricer_service2.py\n",
      "└── 🔨 Created function Pricer.download_model_to_folder.\n",
      "- Creating objects...\n",
      "├── 🔨 Created mount \n",
      "│   c:\\Users\\iskorpittt\\Desktop\\MY_DATA_SCIENCE\\PROJECTS\\GENERATIVE_AI\\llm_engi\n",
      "│   neering\\week8\\pricer_service2.py\n",
      "└── 🔨 Created function Pricer.download_model_to_folder.\n",
      "| Creating objects...\n",
      "├── 🔨 Created mount \n",
      "│   c:\\Users\\iskorpittt\\Desktop\\MY_DATA_SCIENCE\\PROJECTS\\GENERATIVE_AI\\llm_engi\n",
      "│   neering\\week8\\pricer_service2.py\n",
      "└── 🔨 Created function Pricer.download_model_to_folder.\n",
      "- Creating objects...\n",
      "├── 🔨 Created mount \n",
      "│   c:\\Users\\iskorpittt\\Desktop\\MY_DATA_SCIENCE\\PROJECTS\\GENERATIVE_AI\\llm_engi\n",
      "│   neering\\week8\\pricer_service2.py\n",
      "└── 🔨 Created function Pricer.download_model_to_folder.\n",
      "| Creating objects...\n",
      "├── 🔨 Created mount \n",
      "│   c:\\Users\\iskorpittt\\Desktop\\MY_DATA_SCIENCE\\PROJECTS\\GENERATIVE_AI\\llm_engi\n",
      "│   neering\\week8\\pricer_service2.py\n",
      "└── 🔨 Created function Pricer.download_model_to_folder.\n",
      "\\ Creating objects...\n",
      "├── 🔨 Created mount \n",
      "│   c:\\Users\\iskorpittt\\Desktop\\MY_DATA_SCIENCE\\PROJECTS\\GENERATIVE_AI\\llm_engi\n",
      "│   neering\\week8\\pricer_service2.py\n",
      "└── 🔨 Created function Pricer.download_model_to_folder.\n",
      "| Creating objects...\n",
      "├── 🔨 Created mount \n",
      "│   c:\\Users\\iskorpittt\\Desktop\\MY_DATA_SCIENCE\\PROJECTS\\GENERATIVE_AI\\llm_engi\n",
      "│   neering\\week8\\pricer_service2.py\n",
      "└── 🔨 Created function Pricer.download_model_to_folder.\n",
      "\\ Creating objects...\n",
      "├── 🔨 Created mount \n",
      "│   c:\\Users\\iskorpittt\\Desktop\\MY_DATA_SCIENCE\\PROJECTS\\GENERATIVE_AI\\llm_engi\n",
      "│   neering\\week8\\pricer_service2.py\n",
      "└── 🔨 Created function Pricer.download_model_to_folder.\n",
      "/ Creating objects...\n",
      "├── 🔨 Created mount \n",
      "│   c:\\Users\\iskorpittt\\Desktop\\MY_DATA_SCIENCE\\PROJECTS\\GENERATIVE_AI\\llm_engi\n",
      "│   neering\\week8\\pricer_service2.py\n",
      "└── 🔨 Created function Pricer.download_model_to_folder.\n",
      "- Creating objects...\n",
      "├── 🔨 Created mount \n",
      "│   c:\\Users\\iskorpittt\\Desktop\\MY_DATA_SCIENCE\\PROJECTS\\GENERATIVE_AI\\llm_engi\n",
      "│   neering\\week8\\pricer_service2.py\n",
      "└── 🔨 Created function Pricer.download_model_to_folder.\n",
      "/ Creating objects...\n",
      "├── 🔨 Created mount \n",
      "│   c:\\Users\\iskorpittt\\Desktop\\MY_DATA_SCIENCE\\PROJECTS\\GENERATIVE_AI\\llm_engi\n",
      "│   neering\\week8\\pricer_service2.py\n",
      "└── 🔨 Created function Pricer.download_model_to_folder.\n",
      "\\ Creating objects...\n",
      "├── 🔨 Created mount \n",
      "│   c:\\Users\\iskorpittt\\Desktop\\MY_DATA_SCIENCE\\PROJECTS\\GENERATIVE_AI\\llm_engi\n",
      "│   neering\\week8\\pricer_service2.py\n",
      "└── 🔨 Created function Pricer.download_model_to_folder.\n",
      "| Creating objects...\n",
      "├── 🔨 Created mount \n",
      "│   c:\\Users\\iskorpittt\\Desktop\\MY_DATA_SCIENCE\\PROJECTS\\GENERATIVE_AI\\llm_engi\n",
      "│   neering\\week8\\pricer_service2.py\n",
      "└── 🔨 Created function Pricer.download_model_to_folder.\n",
      "\\ Creating objects...\n",
      "├── 🔨 Created mount \n",
      "│   c:\\Users\\iskorpittt\\Desktop\\MY_DATA_SCIENCE\\PROJECTS\\GENERATIVE_AI\\llm_engi\n",
      "│   neering\\week8\\pricer_service2.py\n",
      "└── 🔨 Created function Pricer.download_model_to_folder.\n",
      "/ Creating objects...\n",
      "├── 🔨 Created mount \n",
      "│   c:\\Users\\iskorpittt\\Desktop\\MY_DATA_SCIENCE\\PROJECTS\\GENERATIVE_AI\\llm_engi\n",
      "│   neering\\week8\\pricer_service2.py\n",
      "└── 🔨 Created function Pricer.download_model_to_folder.\n",
      "\\ Creating objects...\n",
      "├── 🔨 Created mount \n",
      "│   c:\\Users\\iskorpittt\\Desktop\\MY_DATA_SCIENCE\\PROJECTS\\GENERATIVE_AI\\llm_engi\n",
      "│   neering\\week8\\pricer_service2.py\n",
      "└── 🔨 Created function Pricer.download_model_to_folder.\n",
      "/ Creating objects...\n",
      "├── 🔨 Created mount \n",
      "│   c:\\Users\\iskorpittt\\Desktop\\MY_DATA_SCIENCE\\PROJECTS\\GENERATIVE_AI\\llm_engi\n",
      "│   neering\\week8\\pricer_service2.py\n",
      "└── 🔨 Created function Pricer.download_model_to_folder.\n",
      "\\ Creating objects...\n",
      "├── 🔨 Created mount \n",
      "│   c:\\Users\\iskorpittt\\Desktop\\MY_DATA_SCIENCE\\PROJECTS\\GENERATIVE_AI\\llm_engi\n",
      "│   neering\\week8\\pricer_service2.py\n",
      "└── 🔨 Created function Pricer.download_model_to_folder.\n",
      "/ Creating objects...\n",
      "├── 🔨 Created mount \n",
      "│   c:\\Users\\iskorpittt\\Desktop\\MY_DATA_SCIENCE\\PROJECTS\\GENERATIVE_AI\\llm_engi\n",
      "│   neering\\week8\\pricer_service2.py\n",
      "└── 🔨 Created function Pricer.download_model_to_folder.\n",
      "\\ Creating objects...\n",
      "├── 🔨 Created mount \n",
      "│   c:\\Users\\iskorpittt\\Desktop\\MY_DATA_SCIENCE\\PROJECTS\\GENERATIVE_AI\\llm_engi\n",
      "│   neering\\week8\\pricer_service2.py\n",
      "└── 🔨 Created function Pricer.download_model_to_folder.\n",
      "/ Creating objects...\n",
      "├── 🔨 Created mount \n",
      "│   c:\\Users\\iskorpittt\\Desktop\\MY_DATA_SCIENCE\\PROJECTS\\GENERATIVE_AI\\llm_engi\n",
      "│   neering\\week8\\pricer_service2.py\n",
      "└── 🔨 Created function Pricer.download_model_to_folder.\n",
      "\\ Creating objects...\n",
      "├── 🔨 Created mount \n",
      "│   c:\\Users\\iskorpittt\\Desktop\\MY_DATA_SCIENCE\\PROJECTS\\GENERATIVE_AI\\llm_engi\n",
      "│   neering\\week8\\pricer_service2.py\n",
      "└── 🔨 Created function Pricer.download_model_to_folder.\n",
      "/ Creating objects...\n",
      "├── 🔨 Created mount \n",
      "│   c:\\Users\\iskorpittt\\Desktop\\MY_DATA_SCIENCE\\PROJECTS\\GENERATIVE_AI\\llm_engi\n",
      "│   neering\\week8\\pricer_service2.py\n",
      "└── 🔨 Created function Pricer.download_model_to_folder.\n",
      "\\ Creating objects...\n",
      "├── 🔨 Created mount \n",
      "│   c:\\Users\\iskorpittt\\Desktop\\MY_DATA_SCIENCE\\PROJECTS\\GENERATIVE_AI\\llm_engi\n",
      "│   neering\\week8\\pricer_service2.py\n",
      "└── 🔨 Created function Pricer.download_model_to_folder.\n",
      "/ Creating objects...\n",
      "├── 🔨 Created mount \n",
      "│   c:\\Users\\iskorpittt\\Desktop\\MY_DATA_SCIENCE\\PROJECTS\\GENERATIVE_AI\\llm_engi\n",
      "│   neering\\week8\\pricer_service2.py\n",
      "└── 🔨 Created function Pricer.download_model_to_folder.\n",
      "\\ Creating objects...\n",
      "├── 🔨 Created mount \n",
      "│   c:\\Users\\iskorpittt\\Desktop\\MY_DATA_SCIENCE\\PROJECTS\\GENERATIVE_AI\\llm_engi\n",
      "│   neering\\week8\\pricer_service2.py\n",
      "└── 🔨 Created function Pricer.download_model_to_folder.\n",
      "/ Creating objects...\n",
      "├── 🔨 Created mount \n",
      "│   c:\\Users\\iskorpittt\\Desktop\\MY_DATA_SCIENCE\\PROJECTS\\GENERATIVE_AI\\llm_engi\n",
      "│   neering\\week8\\pricer_service2.py\n",
      "└── 🔨 Created function Pricer.download_model_to_folder.\n",
      "\\ Creating objects...\n",
      "├── 🔨 Created mount \n",
      "│   c:\\Users\\iskorpittt\\Desktop\\MY_DATA_SCIENCE\\PROJECTS\\GENERATIVE_AI\\llm_engi\n",
      "│   neering\\week8\\pricer_service2.py\n",
      "└── 🔨 Created function Pricer.download_model_to_folder.\n",
      "/ Creating objects...\n",
      "├── 🔨 Created mount \n",
      "│   c:\\Users\\iskorpittt\\Desktop\\MY_DATA_SCIENCE\\PROJECTS\\GENERATIVE_AI\\llm_engi\n",
      "│   neering\\week8\\pricer_service2.py\n",
      "└── 🔨 Created function Pricer.download_model_to_folder.\n",
      "\\ Creating objects...\n",
      "├── 🔨 Created mount \n",
      "│   c:\\Users\\iskorpittt\\Desktop\\MY_DATA_SCIENCE\\PROJECTS\\GENERATIVE_AI\\llm_engi\n",
      "│   neering\\week8\\pricer_service2.py\n",
      "└── 🔨 Created function Pricer.download_model_to_folder.\n",
      "/ Creating objects...\n",
      "├── 🔨 Created mount \n",
      "│   c:\\Users\\iskorpittt\\Desktop\\MY_DATA_SCIENCE\\PROJECTS\\GENERATIVE_AI\\llm_engi\n",
      "│   neering\\week8\\pricer_service2.py\n",
      "└── 🔨 Created function Pricer.download_model_to_folder.\n",
      "\\ Creating objects...\n",
      "├── 🔨 Created mount \n",
      "│   c:\\Users\\iskorpittt\\Desktop\\MY_DATA_SCIENCE\\PROJECTS\\GENERATIVE_AI\\llm_engi\n",
      "│   neering\\week8\\pricer_service2.py\n",
      "└── 🔨 Created function Pricer.download_model_to_folder.\n",
      "/ Creating objects...\n",
      "├── 🔨 Created mount \n",
      "│   c:\\Users\\iskorpittt\\Desktop\\MY_DATA_SCIENCE\\PROJECTS\\GENERATIVE_AI\\llm_engi\n",
      "│   neering\\week8\\pricer_service2.py\n",
      "└── 🔨 Created function Pricer.download_model_to_folder.\n",
      "\\ Creating objects...\n",
      "├── 🔨 Created mount \n",
      "│   c:\\Users\\iskorpittt\\Desktop\\MY_DATA_SCIENCE\\PROJECTS\\GENERATIVE_AI\\llm_engi\n",
      "│   neering\\week8\\pricer_service2.py\n",
      "└── 🔨 Created function Pricer.download_model_to_folder.\n",
      "/ Creating objects...\n",
      "├── 🔨 Created mount \n",
      "│   c:\\Users\\iskorpittt\\Desktop\\MY_DATA_SCIENCE\\PROJECTS\\GENERATIVE_AI\\llm_engi\n",
      "│   neering\\week8\\pricer_service2.py\n",
      "└── 🔨 Created function Pricer.download_model_to_folder.\n",
      "\\ Creating objects...\n",
      "├── 🔨 Created mount \n",
      "│   c:\\Users\\iskorpittt\\Desktop\\MY_DATA_SCIENCE\\PROJECTS\\GENERATIVE_AI\\llm_engi\n",
      "│   neering\\week8\\pricer_service2.py\n",
      "└── 🔨 Created function Pricer.download_model_to_folder.\n",
      "/ Creating objects...\n",
      "├── 🔨 Created mount \n",
      "│   c:\\Users\\iskorpittt\\Desktop\\MY_DATA_SCIENCE\\PROJECTS\\GENERATIVE_AI\\llm_engi\n",
      "│   neering\\week8\\pricer_service2.py\n",
      "└── 🔨 Created function Pricer.download_model_to_folder.\n",
      "\\ Creating objects...\n",
      "├── 🔨 Created mount \n",
      "│   c:\\Users\\iskorpittt\\Desktop\\MY_DATA_SCIENCE\\PROJECTS\\GENERATIVE_AI\\llm_engi\n",
      "│   neering\\week8\\pricer_service2.py\n",
      "└── 🔨 Created function Pricer.download_model_to_folder.\n",
      "/ Creating objects...\n",
      "├── 🔨 Created mount \n",
      "│   c:\\Users\\iskorpittt\\Desktop\\MY_DATA_SCIENCE\\PROJECTS\\GENERATIVE_AI\\llm_engi\n",
      "│   neering\\week8\\pricer_service2.py\n",
      "└── 🔨 Created function Pricer.download_model_to_folder.\n",
      "\\ Creating objects...\n",
      "├── 🔨 Created mount \n",
      "│   c:\\Users\\iskorpittt\\Desktop\\MY_DATA_SCIENCE\\PROJECTS\\GENERATIVE_AI\\llm_engi\n",
      "│   neering\\week8\\pricer_service2.py\n",
      "└── 🔨 Created function Pricer.download_model_to_folder.\n",
      "/ Creating objects...\n",
      "├── 🔨 Created mount \n",
      "│   c:\\Users\\iskorpittt\\Desktop\\MY_DATA_SCIENCE\\PROJECTS\\GENERATIVE_AI\\llm_engi\n",
      "│   neering\\week8\\pricer_service2.py\n",
      "└── 🔨 Created function Pricer.download_model_to_folder.\n",
      "\\ Creating objects...\n",
      "├── 🔨 Created mount \n",
      "│   c:\\Users\\iskorpittt\\Desktop\\MY_DATA_SCIENCE\\PROJECTS\\GENERATIVE_AI\\llm_engi\n",
      "│   neering\\week8\\pricer_service2.py\n",
      "└── 🔨 Created function Pricer.download_model_to_folder.\n",
      "/ Creating objects...\n",
      "├── 🔨 Created mount \n",
      "│   c:\\Users\\iskorpittt\\Desktop\\MY_DATA_SCIENCE\\PROJECTS\\GENERATIVE_AI\\llm_engi\n",
      "│   neering\\week8\\pricer_service2.py\n",
      "└── 🔨 Created function Pricer.download_model_to_folder.\n",
      "\\ Creating objects...\n",
      "├── 🔨 Created mount \n",
      "│   c:\\Users\\iskorpittt\\Desktop\\MY_DATA_SCIENCE\\PROJECTS\\GENERATIVE_AI\\llm_engi\n",
      "│   neering\\week8\\pricer_service2.py\n",
      "└── 🔨 Created function Pricer.download_model_to_folder.\n",
      "- Creating objects...\n",
      "├── 🔨 Created mount \n",
      "│   c:\\Users\\iskorpittt\\Desktop\\MY_DATA_SCIENCE\\PROJECTS\\GENERATIVE_AI\\llm_engi\n",
      "│   neering\\week8\\pricer_service2.py\n",
      "└── 🔨 Created function Pricer.download_model_to_folder.\n",
      "| Creating objects...\n",
      "├── 🔨 Created mount \n",
      "│   c:\\Users\\iskorpittt\\Desktop\\MY_DATA_SCIENCE\\PROJECTS\\GENERATIVE_AI\\llm_engi\n",
      "│   neering\\week8\\pricer_service2.py\n",
      "└── 🔨 Created function Pricer.download_model_to_folder.\n",
      "/ Creating objects...\n",
      "├── 🔨 Created mount \n",
      "│   c:\\Users\\iskorpittt\\Desktop\\MY_DATA_SCIENCE\\PROJECTS\\GENERATIVE_AI\\llm_engi\n",
      "│   neering\\week8\\pricer_service2.py\n",
      "└── 🔨 Created function Pricer.download_model_to_folder.\n",
      "| Creating objects...\n",
      "├── 🔨 Created mount \n",
      "│   c:\\Users\\iskorpittt\\Desktop\\MY_DATA_SCIENCE\\PROJECTS\\GENERATIVE_AI\\llm_engi\n",
      "│   neering\\week8\\pricer_service2.py\n",
      "└── 🔨 Created function Pricer.download_model_to_folder.\n",
      "- Creating objects...\n",
      "├── 🔨 Created mount \n",
      "│   c:\\Users\\iskorpittt\\Desktop\\MY_DATA_SCIENCE\\PROJECTS\\GENERATIVE_AI\\llm_engi\n",
      "│   neering\\week8\\pricer_service2.py\n",
      "└── 🔨 Created function Pricer.download_model_to_folder.\n",
      "| Creating objects...\n",
      "├── 🔨 Created mount \n",
      "│   c:\\Users\\iskorpittt\\Desktop\\MY_DATA_SCIENCE\\PROJECTS\\GENERATIVE_AI\\llm_engi\n",
      "│   neering\\week8\\pricer_service2.py\n",
      "└── 🔨 Created function Pricer.download_model_to_folder.\n",
      "- Creating objects...\n",
      "├── 🔨 Created mount \n",
      "│   c:\\Users\\iskorpittt\\Desktop\\MY_DATA_SCIENCE\\PROJECTS\\GENERATIVE_AI\\llm_engi\n",
      "│   neering\\week8\\pricer_service2.py\n",
      "└── 🔨 Created function Pricer.download_model_to_folder.\n",
      "| Creating objects...\n",
      "├── 🔨 Created mount \n",
      "│   c:\\Users\\iskorpittt\\Desktop\\MY_DATA_SCIENCE\\PROJECTS\\GENERATIVE_AI\\llm_engi\n",
      "│   neering\\week8\\pricer_service2.py\n",
      "└── 🔨 Created function Pricer.download_model_to_folder.\n",
      "- Creating objects...\n",
      "├── 🔨 Created mount \n",
      "│   c:\\Users\\iskorpittt\\Desktop\\MY_DATA_SCIENCE\\PROJECTS\\GENERATIVE_AI\\llm_engi\n",
      "│   neering\\week8\\pricer_service2.py\n",
      "└── 🔨 Created function Pricer.download_model_to_folder.\n",
      "| Creating objects...\n",
      "├── 🔨 Created mount \n",
      "│   c:\\Users\\iskorpittt\\Desktop\\MY_DATA_SCIENCE\\PROJECTS\\GENERATIVE_AI\\llm_engi\n",
      "│   neering\\week8\\pricer_service2.py\n",
      "└── 🔨 Created function Pricer.download_model_to_folder.\n",
      "- Creating objects...\n",
      "├── 🔨 Created mount \n",
      "│   c:\\Users\\iskorpittt\\Desktop\\MY_DATA_SCIENCE\\PROJECTS\\GENERATIVE_AI\\llm_engi\n",
      "│   neering\\week8\\pricer_service2.py\n",
      "└── 🔨 Created function Pricer.download_model_to_folder.\n",
      "| Creating objects...\n",
      "├── 🔨 Created mount \n",
      "│   c:\\Users\\iskorpittt\\Desktop\\MY_DATA_SCIENCE\\PROJECTS\\GENERATIVE_AI\\llm_engi\n",
      "│   neering\\week8\\pricer_service2.py\n",
      "└── 🔨 Created function Pricer.download_model_to_folder.\n",
      "- Creating objects...\n",
      "├── 🔨 Created mount \n",
      "│   c:\\Users\\iskorpittt\\Desktop\\MY_DATA_SCIENCE\\PROJECTS\\GENERATIVE_AI\\llm_engi\n",
      "│   neering\\week8\\pricer_service2.py\n",
      "└── 🔨 Created function Pricer.download_model_to_folder.\n",
      "| Creating objects...\n",
      "├── 🔨 Created mount \n",
      "│   c:\\Users\\iskorpittt\\Desktop\\MY_DATA_SCIENCE\\PROJECTS\\GENERATIVE_AI\\llm_engi\n",
      "│   neering\\week8\\pricer_service2.py\n",
      "└── 🔨 Created function Pricer.download_model_to_folder.\n",
      "- Creating objects...\n",
      "├── 🔨 Created mount \n",
      "│   c:\\Users\\iskorpittt\\Desktop\\MY_DATA_SCIENCE\\PROJECTS\\GENERATIVE_AI\\llm_engi\n",
      "│   neering\\week8\\pricer_service2.py\n",
      "└── 🔨 Created function Pricer.download_model_to_folder.\n",
      "| Creating objects...\n",
      "├── 🔨 Created mount \n",
      "│   c:\\Users\\iskorpittt\\Desktop\\MY_DATA_SCIENCE\\PROJECTS\\GENERATIVE_AI\\llm_engi\n",
      "│   neering\\week8\\pricer_service2.py\n",
      "└── 🔨 Created function Pricer.download_model_to_folder.\n",
      "- Creating objects...\n",
      "├── 🔨 Created mount \n",
      "│   c:\\Users\\iskorpittt\\Desktop\\MY_DATA_SCIENCE\\PROJECTS\\GENERATIVE_AI\\llm_engi\n",
      "│   neering\\week8\\pricer_service2.py\n",
      "└── 🔨 Created function Pricer.download_model_to_folder.\n",
      "| Creating objects...\n",
      "├── 🔨 Created mount \n",
      "│   c:\\Users\\iskorpittt\\Desktop\\MY_DATA_SCIENCE\\PROJECTS\\GENERATIVE_AI\\llm_engi\n",
      "│   neering\\week8\\pricer_service2.py\n",
      "└── 🔨 Created function Pricer.download_model_to_folder.\n",
      "- Creating objects...\n",
      "├── 🔨 Created mount \n",
      "│   c:\\Users\\iskorpittt\\Desktop\\MY_DATA_SCIENCE\\PROJECTS\\GENERATIVE_AI\\llm_engi\n",
      "│   neering\\week8\\pricer_service2.py\n",
      "└── 🔨 Created function Pricer.download_model_to_folder.\n",
      "| Creating objects...\n",
      "├── 🔨 Created mount \n",
      "│   c:\\Users\\iskorpittt\\Desktop\\MY_DATA_SCIENCE\\PROJECTS\\GENERATIVE_AI\\llm_engi\n",
      "│   neering\\week8\\pricer_service2.py\n",
      "└── 🔨 Created function Pricer.download_model_to_folder.\n",
      "- Creating objects...\n",
      "├── 🔨 Created mount \n",
      "│   c:\\Users\\iskorpittt\\Desktop\\MY_DATA_SCIENCE\\PROJECTS\\GENERATIVE_AI\\llm_engi\n",
      "│   neering\\week8\\pricer_service2.py\n",
      "└── 🔨 Created function Pricer.download_model_to_folder.\n",
      "| Creating objects...\n",
      "├── 🔨 Created mount \n",
      "│   c:\\Users\\iskorpittt\\Desktop\\MY_DATA_SCIENCE\\PROJECTS\\GENERATIVE_AI\\llm_engi\n",
      "│   neering\\week8\\pricer_service2.py\n",
      "└── 🔨 Created function Pricer.download_model_to_folder.\n",
      "- Creating objects...\n",
      "├── 🔨 Created mount \n",
      "│   c:\\Users\\iskorpittt\\Desktop\\MY_DATA_SCIENCE\\PROJECTS\\GENERATIVE_AI\\llm_engi\n",
      "│   neering\\week8\\pricer_service2.py\n",
      "└── 🔨 Created function Pricer.download_model_to_folder.\n",
      "\n",
      "| Creating objects...\n",
      "├── 🔨 Created mount c:\\Users\\iskorpittt\\Desktop\\MY_DATA_SCIENCE\\PROJECTS\\GENER\n",
      "└── 🔨 Created function Pricer.download_model_to_folder.\n",
      "| Creating objects...\n",
      "├── 🔨 Created mount \n",
      "│   c:\\Users\\iskorpittt\\Desktop\\MY_DATA_SCIENCE\\PROJECTS\\GENERATIVE_AI\\llm_engi\n",
      "│   neering\\week8\\pricer_service2.py\n",
      "└── 🔨 Created function Pricer.download_model_to_folder.\n",
      "- Creating objects...\n",
      "├── 🔨 Created mount \n",
      "│   c:\\Users\\iskorpittt\\Desktop\\MY_DATA_SCIENCE\\PROJECTS\\GENERATIVE_AI\\llm_engi\n",
      "│   neering\\week8\\pricer_service2.py\n",
      "└── 🔨 Created function Pricer.download_model_to_folder.\n",
      "| Creating objects...\n",
      "├── 🔨 Created mount \n",
      "│   c:\\Users\\iskorpittt\\Desktop\\MY_DATA_SCIENCE\\PROJECTS\\GENERATIVE_AI\\llm_engi\n",
      "│   neering\\week8\\pricer_service2.py\n",
      "└── 🔨 Created function Pricer.download_model_to_folder.\n",
      "\u001b[1AFetching 17 files:  41%|████      | 7/17 [01:58<03:10, 19.02s/it]\n",
      "| Creating objects...\n",
      "├── 🔨 Created mount c:\\Users\\iskorpittt\\Desktop\\MY_DATA_SCIENCE\\PROJECTS\\GENER\n",
      "└── 🔨 Created function Pricer.download_model_to_folder.\n",
      "- Creating objects...\n",
      "├── 🔨 Created mount \n",
      "│   c:\\Users\\iskorpittt\\Desktop\\MY_DATA_SCIENCE\\PROJECTS\\GENERATIVE_AI\\llm_engi\n",
      "│   neering\\week8\\pricer_service2.py\n",
      "└── 🔨 Created function Pricer.download_model_to_folder.\n",
      "| Creating objects...\n",
      "├── 🔨 Created mount \n",
      "│   c:\\Users\\iskorpittt\\Desktop\\MY_DATA_SCIENCE\\PROJECTS\\GENERATIVE_AI\\llm_engi\n",
      "│   neering\\week8\\pricer_service2.py\n",
      "└── 🔨 Created function Pricer.download_model_to_folder.\n",
      "- Creating objects...\n",
      "├── 🔨 Created mount \n",
      "│   c:\\Users\\iskorpittt\\Desktop\\MY_DATA_SCIENCE\\PROJECTS\\GENERATIVE_AI\\llm_engi\n",
      "│   neering\\week8\\pricer_service2.py\n",
      "└── 🔨 Created function Pricer.download_model_to_folder.\n",
      "| Creating objects...\n",
      "├── 🔨 Created mount \n",
      "│   c:\\Users\\iskorpittt\\Desktop\\MY_DATA_SCIENCE\\PROJECTS\\GENERATIVE_AI\\llm_engi\n",
      "│   neering\\week8\\pricer_service2.py\n",
      "└── 🔨 Created function Pricer.download_model_to_folder.\n",
      "- Creating objects...\n",
      "├── 🔨 Created mount \n",
      "│   c:\\Users\\iskorpittt\\Desktop\\MY_DATA_SCIENCE\\PROJECTS\\GENERATIVE_AI\\llm_engi\n",
      "│   neering\\week8\\pricer_service2.py\n",
      "└── 🔨 Created function Pricer.download_model_to_folder.\n",
      "| Creating objects...\n",
      "├── 🔨 Created mount \n",
      "│   c:\\Users\\iskorpittt\\Desktop\\MY_DATA_SCIENCE\\PROJECTS\\GENERATIVE_AI\\llm_engi\n",
      "│   neering\\week8\\pricer_service2.py\n",
      "└── 🔨 Created function Pricer.download_model_to_folder.\n",
      "- Creating objects...\n",
      "├── 🔨 Created mount \n",
      "│   c:\\Users\\iskorpittt\\Desktop\\MY_DATA_SCIENCE\\PROJECTS\\GENERATIVE_AI\\llm_engi\n",
      "│   neering\\week8\\pricer_service2.py\n",
      "└── 🔨 Created function Pricer.download_model_to_folder.\n",
      "| Creating objects...\n",
      "├── 🔨 Created mount \n",
      "│   c:\\Users\\iskorpittt\\Desktop\\MY_DATA_SCIENCE\\PROJECTS\\GENERATIVE_AI\\llm_engi\n",
      "│   neering\\week8\\pricer_service2.py\n",
      "└── 🔨 Created function Pricer.download_model_to_folder.\n",
      "- Creating objects...\n",
      "├── 🔨 Created mount \n",
      "│   c:\\Users\\iskorpittt\\Desktop\\MY_DATA_SCIENCE\\PROJECTS\\GENERATIVE_AI\\llm_engi\n",
      "│   neering\\week8\\pricer_service2.py\n",
      "└── 🔨 Created function Pricer.download_model_to_folder.\n",
      "| Creating objects...\n",
      "├── 🔨 Created mount \n",
      "│   c:\\Users\\iskorpittt\\Desktop\\MY_DATA_SCIENCE\\PROJECTS\\GENERATIVE_AI\\llm_engi\n",
      "│   neering\\week8\\pricer_service2.py\n",
      "└── 🔨 Created function Pricer.download_model_to_folder.\n",
      "- Creating objects...\n",
      "├── 🔨 Created mount \n",
      "│   c:\\Users\\iskorpittt\\Desktop\\MY_DATA_SCIENCE\\PROJECTS\\GENERATIVE_AI\\llm_engi\n",
      "│   neering\\week8\\pricer_service2.py\n",
      "└── 🔨 Created function Pricer.download_model_to_folder.\n",
      "| Creating objects...\n",
      "├── 🔨 Created mount \n",
      "│   c:\\Users\\iskorpittt\\Desktop\\MY_DATA_SCIENCE\\PROJECTS\\GENERATIVE_AI\\llm_engi\n",
      "│   neering\\week8\\pricer_service2.py\n",
      "└── 🔨 Created function Pricer.download_model_to_folder.\n",
      "- Creating objects...\n",
      "├── 🔨 Created mount \n",
      "│   c:\\Users\\iskorpittt\\Desktop\\MY_DATA_SCIENCE\\PROJECTS\\GENERATIVE_AI\\llm_engi\n",
      "│   neering\\week8\\pricer_service2.py\n",
      "└── 🔨 Created function Pricer.download_model_to_folder.\n",
      "| Creating objects...\n",
      "├── 🔨 Created mount \n",
      "│   c:\\Users\\iskorpittt\\Desktop\\MY_DATA_SCIENCE\\PROJECTS\\GENERATIVE_AI\\llm_engi\n",
      "│   neering\\week8\\pricer_service2.py\n",
      "└── 🔨 Created function Pricer.download_model_to_folder.\n",
      "- Creating objects...\n",
      "├── 🔨 Created mount \n",
      "│   c:\\Users\\iskorpittt\\Desktop\\MY_DATA_SCIENCE\\PROJECTS\\GENERATIVE_AI\\llm_engi\n",
      "│   neering\\week8\\pricer_service2.py\n",
      "└── 🔨 Created function Pricer.download_model_to_folder.\n",
      "| Creating objects...\n",
      "├── 🔨 Created mount \n",
      "│   c:\\Users\\iskorpittt\\Desktop\\MY_DATA_SCIENCE\\PROJECTS\\GENERATIVE_AI\\llm_engi\n",
      "│   neering\\week8\\pricer_service2.py\n",
      "└── 🔨 Created function Pricer.download_model_to_folder.\n",
      "- Creating objects...\n",
      "├── 🔨 Created mount \n",
      "│   c:\\Users\\iskorpittt\\Desktop\\MY_DATA_SCIENCE\\PROJECTS\\GENERATIVE_AI\\llm_engi\n",
      "│   neering\\week8\\pricer_service2.py\n",
      "└── 🔨 Created function Pricer.download_model_to_folder.\n",
      "| Creating objects...\n",
      "├── 🔨 Created mount \n",
      "│   c:\\Users\\iskorpittt\\Desktop\\MY_DATA_SCIENCE\\PROJECTS\\GENERATIVE_AI\\llm_engi\n",
      "│   neering\\week8\\pricer_service2.py\n",
      "└── 🔨 Created function Pricer.download_model_to_folder.\n",
      "- Creating objects...\n",
      "├── 🔨 Created mount \n",
      "│   c:\\Users\\iskorpittt\\Desktop\\MY_DATA_SCIENCE\\PROJECTS\\GENERATIVE_AI\\llm_engi\n",
      "│   neering\\week8\\pricer_service2.py\n",
      "└── 🔨 Created function Pricer.download_model_to_folder.\n",
      "| Creating objects...\n",
      "├── 🔨 Created mount \n",
      "│   c:\\Users\\iskorpittt\\Desktop\\MY_DATA_SCIENCE\\PROJECTS\\GENERATIVE_AI\\llm_engi\n",
      "│   neering\\week8\\pricer_service2.py\n",
      "└── 🔨 Created function Pricer.download_model_to_folder.\n",
      "- Creating objects...\n",
      "├── 🔨 Created mount \n",
      "│   c:\\Users\\iskorpittt\\Desktop\\MY_DATA_SCIENCE\\PROJECTS\\GENERATIVE_AI\\llm_engi\n",
      "│   neering\\week8\\pricer_service2.py\n",
      "└── 🔨 Created function Pricer.download_model_to_folder.\n",
      "| Creating objects...\n",
      "├── 🔨 Created mount \n",
      "│   c:\\Users\\iskorpittt\\Desktop\\MY_DATA_SCIENCE\\PROJECTS\\GENERATIVE_AI\\llm_engi\n",
      "│   neering\\week8\\pricer_service2.py\n",
      "└── 🔨 Created function Pricer.download_model_to_folder.\n",
      "- Creating objects...\n",
      "├── 🔨 Created mount \n",
      "│   c:\\Users\\iskorpittt\\Desktop\\MY_DATA_SCIENCE\\PROJECTS\\GENERATIVE_AI\\llm_engi\n",
      "│   neering\\week8\\pricer_service2.py\n",
      "└── 🔨 Created function Pricer.download_model_to_folder.\n",
      "| Creating objects...\n",
      "├── 🔨 Created mount \n",
      "│   c:\\Users\\iskorpittt\\Desktop\\MY_DATA_SCIENCE\\PROJECTS\\GENERATIVE_AI\\llm_engi\n",
      "│   neering\\week8\\pricer_service2.py\n",
      "└── 🔨 Created function Pricer.download_model_to_folder.\n",
      "- Creating objects...\n",
      "├── 🔨 Created mount \n",
      "│   c:\\Users\\iskorpittt\\Desktop\\MY_DATA_SCIENCE\\PROJECTS\\GENERATIVE_AI\\llm_engi\n",
      "│   neering\\week8\\pricer_service2.py\n",
      "└── 🔨 Created function Pricer.download_model_to_folder.\n",
      "| Creating objects...\n",
      "├── 🔨 Created mount \n",
      "│   c:\\Users\\iskorpittt\\Desktop\\MY_DATA_SCIENCE\\PROJECTS\\GENERATIVE_AI\\llm_engi\n",
      "│   neering\\week8\\pricer_service2.py\n",
      "└── 🔨 Created function Pricer.download_model_to_folder.\n",
      "- Creating objects...\n",
      "├── 🔨 Created mount \n",
      "│   c:\\Users\\iskorpittt\\Desktop\\MY_DATA_SCIENCE\\PROJECTS\\GENERATIVE_AI\\llm_engi\n",
      "│   neering\\week8\\pricer_service2.py\n",
      "└── 🔨 Created function Pricer.download_model_to_folder.\n",
      "| Creating objects...\n",
      "├── 🔨 Created mount \n",
      "│   c:\\Users\\iskorpittt\\Desktop\\MY_DATA_SCIENCE\\PROJECTS\\GENERATIVE_AI\\llm_engi\n",
      "│   neering\\week8\\pricer_service2.py\n",
      "└── 🔨 Created function Pricer.download_model_to_folder.\n",
      "- Creating objects...\n",
      "├── 🔨 Created mount \n",
      "│   c:\\Users\\iskorpittt\\Desktop\\MY_DATA_SCIENCE\\PROJECTS\\GENERATIVE_AI\\llm_engi\n",
      "│   neering\\week8\\pricer_service2.py\n",
      "└── 🔨 Created function Pricer.download_model_to_folder.\n",
      "| Creating objects...\n",
      "├── 🔨 Created mount \n",
      "│   c:\\Users\\iskorpittt\\Desktop\\MY_DATA_SCIENCE\\PROJECTS\\GENERATIVE_AI\\llm_engi\n",
      "│   neering\\week8\\pricer_service2.py\n",
      "└── 🔨 Created function Pricer.download_model_to_folder.\n",
      "- Creating objects...\n",
      "├── 🔨 Created mount \n",
      "│   c:\\Users\\iskorpittt\\Desktop\\MY_DATA_SCIENCE\\PROJECTS\\GENERATIVE_AI\\llm_engi\n",
      "│   neering\\week8\\pricer_service2.py\n",
      "└── 🔨 Created function Pricer.download_model_to_folder.\n",
      "| Creating objects...\n",
      "├── 🔨 Created mount \n",
      "│   c:\\Users\\iskorpittt\\Desktop\\MY_DATA_SCIENCE\\PROJECTS\\GENERATIVE_AI\\llm_engi\n",
      "│   neering\\week8\\pricer_service2.py\n",
      "└── 🔨 Created function Pricer.download_model_to_folder.\n",
      "- Creating objects...\n",
      "├── 🔨 Created mount \n",
      "│   c:\\Users\\iskorpittt\\Desktop\\MY_DATA_SCIENCE\\PROJECTS\\GENERATIVE_AI\\llm_engi\n",
      "│   neering\\week8\\pricer_service2.py\n",
      "└── 🔨 Created function Pricer.download_model_to_folder.\n",
      "/ Creating objects...\n",
      "├── 🔨 Created mount \n",
      "│   c:\\Users\\iskorpittt\\Desktop\\MY_DATA_SCIENCE\\PROJECTS\\GENERATIVE_AI\\llm_engi\n",
      "│   neering\\week8\\pricer_service2.py\n",
      "└── 🔨 Created function Pricer.download_model_to_folder.\n",
      "\\ Creating objects...\n",
      "├── 🔨 Created mount \n",
      "│   c:\\Users\\iskorpittt\\Desktop\\MY_DATA_SCIENCE\\PROJECTS\\GENERATIVE_AI\\llm_engi\n",
      "│   neering\\week8\\pricer_service2.py\n",
      "└── 🔨 Created function Pricer.download_model_to_folder.\n",
      "/ Creating objects...\n",
      "├── 🔨 Created mount \n",
      "│   c:\\Users\\iskorpittt\\Desktop\\MY_DATA_SCIENCE\\PROJECTS\\GENERATIVE_AI\\llm_engi\n",
      "│   neering\\week8\\pricer_service2.py\n",
      "└── 🔨 Created function Pricer.download_model_to_folder.\n",
      "\\ Creating objects...\n",
      "├── 🔨 Created mount \n",
      "│   c:\\Users\\iskorpittt\\Desktop\\MY_DATA_SCIENCE\\PROJECTS\\GENERATIVE_AI\\llm_engi\n",
      "│   neering\\week8\\pricer_service2.py\n",
      "└── 🔨 Created function Pricer.download_model_to_folder.\n",
      "/ Creating objects...\n",
      "├── 🔨 Created mount \n",
      "│   c:\\Users\\iskorpittt\\Desktop\\MY_DATA_SCIENCE\\PROJECTS\\GENERATIVE_AI\\llm_engi\n",
      "│   neering\\week8\\pricer_service2.py\n",
      "└── 🔨 Created function Pricer.download_model_to_folder.\n",
      "\\ Creating objects...\n",
      "├── 🔨 Created mount \n",
      "│   c:\\Users\\iskorpittt\\Desktop\\MY_DATA_SCIENCE\\PROJECTS\\GENERATIVE_AI\\llm_engi\n",
      "│   neering\\week8\\pricer_service2.py\n",
      "└── 🔨 Created function Pricer.download_model_to_folder.\n",
      "/ Creating objects...\n",
      "├── 🔨 Created mount \n",
      "│   c:\\Users\\iskorpittt\\Desktop\\MY_DATA_SCIENCE\\PROJECTS\\GENERATIVE_AI\\llm_engi\n",
      "│   neering\\week8\\pricer_service2.py\n",
      "└── 🔨 Created function Pricer.download_model_to_folder.\n",
      "\\ Creating objects...\n",
      "├── 🔨 Created mount \n",
      "│   c:\\Users\\iskorpittt\\Desktop\\MY_DATA_SCIENCE\\PROJECTS\\GENERATIVE_AI\\llm_engi\n",
      "│   neering\\week8\\pricer_service2.py\n",
      "└── 🔨 Created function Pricer.download_model_to_folder.\n",
      "/ Creating objects...\n",
      "├── 🔨 Created mount \n",
      "│   c:\\Users\\iskorpittt\\Desktop\\MY_DATA_SCIENCE\\PROJECTS\\GENERATIVE_AI\\llm_engi\n",
      "│   neering\\week8\\pricer_service2.py\n",
      "└── 🔨 Created function Pricer.download_model_to_folder.\n",
      "\\ Creating objects...\n",
      "├── 🔨 Created mount \n",
      "│   c:\\Users\\iskorpittt\\Desktop\\MY_DATA_SCIENCE\\PROJECTS\\GENERATIVE_AI\\llm_engi\n",
      "│   neering\\week8\\pricer_service2.py\n",
      "└── 🔨 Created function Pricer.download_model_to_folder.\n",
      "| Creating objects...\n",
      "├── 🔨 Created mount \n",
      "│   c:\\Users\\iskorpittt\\Desktop\\MY_DATA_SCIENCE\\PROJECTS\\GENERATIVE_AI\\llm_engi\n",
      "│   neering\\week8\\pricer_service2.py\n",
      "└── 🔨 Created function Pricer.download_model_to_folder.\n",
      "\\ Creating objects...\n",
      "├── 🔨 Created mount \n",
      "│   c:\\Users\\iskorpittt\\Desktop\\MY_DATA_SCIENCE\\PROJECTS\\GENERATIVE_AI\\llm_engi\n",
      "│   neering\\week8\\pricer_service2.py\n",
      "└── 🔨 Created function Pricer.download_model_to_folder.\n",
      "/ Creating objects...\n",
      "├── 🔨 Created mount \n",
      "│   c:\\Users\\iskorpittt\\Desktop\\MY_DATA_SCIENCE\\PROJECTS\\GENERATIVE_AI\\llm_engi\n",
      "│   neering\\week8\\pricer_service2.py\n",
      "└── 🔨 Created function Pricer.download_model_to_folder.\n",
      "\\ Creating objects...\n",
      "├── 🔨 Created mount \n",
      "│   c:\\Users\\iskorpittt\\Desktop\\MY_DATA_SCIENCE\\PROJECTS\\GENERATIVE_AI\\llm_engi\n",
      "│   neering\\week8\\pricer_service2.py\n",
      "└── 🔨 Created function Pricer.download_model_to_folder.\n",
      "/ Creating objects...\n",
      "├── 🔨 Created mount \n",
      "│   c:\\Users\\iskorpittt\\Desktop\\MY_DATA_SCIENCE\\PROJECTS\\GENERATIVE_AI\\llm_engi\n",
      "│   neering\\week8\\pricer_service2.py\n",
      "└── 🔨 Created function Pricer.download_model_to_folder.\n",
      "\\ Creating objects...\n",
      "├── 🔨 Created mount \n",
      "│   c:\\Users\\iskorpittt\\Desktop\\MY_DATA_SCIENCE\\PROJECTS\\GENERATIVE_AI\\llm_engi\n",
      "│   neering\\week8\\pricer_service2.py\n",
      "└── 🔨 Created function Pricer.download_model_to_folder.\n",
      "/ Creating objects...\n",
      "├── 🔨 Created mount \n",
      "│   c:\\Users\\iskorpittt\\Desktop\\MY_DATA_SCIENCE\\PROJECTS\\GENERATIVE_AI\\llm_engi\n",
      "│   neering\\week8\\pricer_service2.py\n",
      "└── 🔨 Created function Pricer.download_model_to_folder.\n",
      "\\ Creating objects...\n",
      "├── 🔨 Created mount \n",
      "│   c:\\Users\\iskorpittt\\Desktop\\MY_DATA_SCIENCE\\PROJECTS\\GENERATIVE_AI\\llm_engi\n",
      "│   neering\\week8\\pricer_service2.py\n",
      "└── 🔨 Created function Pricer.download_model_to_folder.\n",
      "/ Creating objects...\n",
      "├── 🔨 Created mount \n",
      "│   c:\\Users\\iskorpittt\\Desktop\\MY_DATA_SCIENCE\\PROJECTS\\GENERATIVE_AI\\llm_engi\n",
      "│   neering\\week8\\pricer_service2.py\n",
      "└── 🔨 Created function Pricer.download_model_to_folder.\n",
      "\\ Creating objects...\n",
      "├── 🔨 Created mount \n",
      "│   c:\\Users\\iskorpittt\\Desktop\\MY_DATA_SCIENCE\\PROJECTS\\GENERATIVE_AI\\llm_engi\n",
      "│   neering\\week8\\pricer_service2.py\n",
      "└── 🔨 Created function Pricer.download_model_to_folder.\n",
      "/ Creating objects...\n",
      "├── 🔨 Created mount \n",
      "│   c:\\Users\\iskorpittt\\Desktop\\MY_DATA_SCIENCE\\PROJECTS\\GENERATIVE_AI\\llm_engi\n",
      "│   neering\\week8\\pricer_service2.py\n",
      "└── 🔨 Created function Pricer.download_model_to_folder.\n",
      "\\ Creating objects...\n",
      "├── 🔨 Created mount \n",
      "│   c:\\Users\\iskorpittt\\Desktop\\MY_DATA_SCIENCE\\PROJECTS\\GENERATIVE_AI\\llm_engi\n",
      "│   neering\\week8\\pricer_service2.py\n",
      "└── 🔨 Created function Pricer.download_model_to_folder.\n",
      "/ Creating objects...\n",
      "├── 🔨 Created mount \n",
      "│   c:\\Users\\iskorpittt\\Desktop\\MY_DATA_SCIENCE\\PROJECTS\\GENERATIVE_AI\\llm_engi\n",
      "│   neering\\week8\\pricer_service2.py\n",
      "└── 🔨 Created function Pricer.download_model_to_folder.\n",
      "\\ Creating objects...\n",
      "├── 🔨 Created mount \n",
      "│   c:\\Users\\iskorpittt\\Desktop\\MY_DATA_SCIENCE\\PROJECTS\\GENERATIVE_AI\\llm_engi\n",
      "│   neering\\week8\\pricer_service2.py\n",
      "└── 🔨 Created function Pricer.download_model_to_folder.\n",
      "/ Creating objects...\n",
      "├── 🔨 Created mount \n",
      "│   c:\\Users\\iskorpittt\\Desktop\\MY_DATA_SCIENCE\\PROJECTS\\GENERATIVE_AI\\llm_engi\n",
      "│   neering\\week8\\pricer_service2.py\n",
      "└── 🔨 Created function Pricer.download_model_to_folder.\n",
      "\\ Creating objects...\n",
      "├── 🔨 Created mount \n",
      "│   c:\\Users\\iskorpittt\\Desktop\\MY_DATA_SCIENCE\\PROJECTS\\GENERATIVE_AI\\llm_engi\n",
      "│   neering\\week8\\pricer_service2.py\n",
      "└── 🔨 Created function Pricer.download_model_to_folder.\n",
      "/ Creating objects...\n",
      "├── 🔨 Created mount \n",
      "│   c:\\Users\\iskorpittt\\Desktop\\MY_DATA_SCIENCE\\PROJECTS\\GENERATIVE_AI\\llm_engi\n",
      "│   neering\\week8\\pricer_service2.py\n",
      "└── 🔨 Created function Pricer.download_model_to_folder.\n",
      "\\ Creating objects...\n",
      "├── 🔨 Created mount \n",
      "│   c:\\Users\\iskorpittt\\Desktop\\MY_DATA_SCIENCE\\PROJECTS\\GENERATIVE_AI\\llm_engi\n",
      "│   neering\\week8\\pricer_service2.py\n",
      "└── 🔨 Created function Pricer.download_model_to_folder.\n",
      "/ Creating objects...\n",
      "├── 🔨 Created mount \n",
      "│   c:\\Users\\iskorpittt\\Desktop\\MY_DATA_SCIENCE\\PROJECTS\\GENERATIVE_AI\\llm_engi\n",
      "│   neering\\week8\\pricer_service2.py\n",
      "└── 🔨 Created function Pricer.download_model_to_folder.\n",
      "\\ Creating objects...\n",
      "├── 🔨 Created mount \n",
      "│   c:\\Users\\iskorpittt\\Desktop\\MY_DATA_SCIENCE\\PROJECTS\\GENERATIVE_AI\\llm_engi\n",
      "│   neering\\week8\\pricer_service2.py\n",
      "└── 🔨 Created function Pricer.download_model_to_folder.\n",
      "/ Creating objects...\n",
      "├── 🔨 Created mount \n",
      "│   c:\\Users\\iskorpittt\\Desktop\\MY_DATA_SCIENCE\\PROJECTS\\GENERATIVE_AI\\llm_engi\n",
      "│   neering\\week8\\pricer_service2.py\n",
      "└── 🔨 Created function Pricer.download_model_to_folder.\n",
      "\\ Creating objects...\n",
      "├── 🔨 Created mount \n",
      "│   c:\\Users\\iskorpittt\\Desktop\\MY_DATA_SCIENCE\\PROJECTS\\GENERATIVE_AI\\llm_engi\n",
      "│   neering\\week8\\pricer_service2.py\n",
      "└── 🔨 Created function Pricer.download_model_to_folder.\n",
      "/ Creating objects...\n",
      "├── 🔨 Created mount \n",
      "│   c:\\Users\\iskorpittt\\Desktop\\MY_DATA_SCIENCE\\PROJECTS\\GENERATIVE_AI\\llm_engi\n",
      "│   neering\\week8\\pricer_service2.py\n",
      "└── 🔨 Created function Pricer.download_model_to_folder.\n",
      "\\ Creating objects...\n",
      "├── 🔨 Created mount \n",
      "│   c:\\Users\\iskorpittt\\Desktop\\MY_DATA_SCIENCE\\PROJECTS\\GENERATIVE_AI\\llm_engi\n",
      "│   neering\\week8\\pricer_service2.py\n",
      "└── 🔨 Created function Pricer.download_model_to_folder.\n",
      "/ Creating objects...\n",
      "├── 🔨 Created mount \n",
      "│   c:\\Users\\iskorpittt\\Desktop\\MY_DATA_SCIENCE\\PROJECTS\\GENERATIVE_AI\\llm_engi\n",
      "│   neering\\week8\\pricer_service2.py\n",
      "└── 🔨 Created function Pricer.download_model_to_folder.\n",
      "\\ Creating objects...\n",
      "├── 🔨 Created mount \n",
      "│   c:\\Users\\iskorpittt\\Desktop\\MY_DATA_SCIENCE\\PROJECTS\\GENERATIVE_AI\\llm_engi\n",
      "│   neering\\week8\\pricer_service2.py\n",
      "└── 🔨 Created function Pricer.download_model_to_folder.\n",
      "/ Creating objects...\n",
      "├── 🔨 Created mount \n",
      "│   c:\\Users\\iskorpittt\\Desktop\\MY_DATA_SCIENCE\\PROJECTS\\GENERATIVE_AI\\llm_engi\n",
      "│   neering\\week8\\pricer_service2.py\n",
      "└── 🔨 Created function Pricer.download_model_to_folder.\n",
      "\\ Creating objects...\n",
      "├── 🔨 Created mount \n",
      "│   c:\\Users\\iskorpittt\\Desktop\\MY_DATA_SCIENCE\\PROJECTS\\GENERATIVE_AI\\llm_engi\n",
      "│   neering\\week8\\pricer_service2.py\n",
      "└── 🔨 Created function Pricer.download_model_to_folder.\n",
      "/ Creating objects...\n",
      "├── 🔨 Created mount \n",
      "│   c:\\Users\\iskorpittt\\Desktop\\MY_DATA_SCIENCE\\PROJECTS\\GENERATIVE_AI\\llm_engi\n",
      "│   neering\\week8\\pricer_service2.py\n",
      "└── 🔨 Created function Pricer.download_model_to_folder.\n",
      "\\ Creating objects...\n",
      "├── 🔨 Created mount \n",
      "│   c:\\Users\\iskorpittt\\Desktop\\MY_DATA_SCIENCE\\PROJECTS\\GENERATIVE_AI\\llm_engi\n",
      "│   neering\\week8\\pricer_service2.py\n",
      "└── 🔨 Created function Pricer.download_model_to_folder.\n",
      "/ Creating objects...\n",
      "├── 🔨 Created mount \n",
      "│   c:\\Users\\iskorpittt\\Desktop\\MY_DATA_SCIENCE\\PROJECTS\\GENERATIVE_AI\\llm_engi\n",
      "│   neering\\week8\\pricer_service2.py\n",
      "└── 🔨 Created function Pricer.download_model_to_folder.\n",
      "\\ Creating objects...\n",
      "├── 🔨 Created mount \n",
      "│   c:\\Users\\iskorpittt\\Desktop\\MY_DATA_SCIENCE\\PROJECTS\\GENERATIVE_AI\\llm_engi\n",
      "│   neering\\week8\\pricer_service2.py\n",
      "└── 🔨 Created function Pricer.download_model_to_folder.\n",
      "/ Creating objects...\n",
      "├── 🔨 Created mount \n",
      "│   c:\\Users\\iskorpittt\\Desktop\\MY_DATA_SCIENCE\\PROJECTS\\GENERATIVE_AI\\llm_engi\n",
      "│   neering\\week8\\pricer_service2.py\n",
      "└── 🔨 Created function Pricer.download_model_to_folder.\n",
      "\\ Creating objects...\n",
      "├── 🔨 Created mount \n",
      "│   c:\\Users\\iskorpittt\\Desktop\\MY_DATA_SCIENCE\\PROJECTS\\GENERATIVE_AI\\llm_engi\n",
      "│   neering\\week8\\pricer_service2.py\n",
      "└── 🔨 Created function Pricer.download_model_to_folder.\n",
      "/ Creating objects...\n",
      "├── 🔨 Created mount \n",
      "│   c:\\Users\\iskorpittt\\Desktop\\MY_DATA_SCIENCE\\PROJECTS\\GENERATIVE_AI\\llm_engi\n",
      "│   neering\\week8\\pricer_service2.py\n",
      "└── 🔨 Created function Pricer.download_model_to_folder.\n",
      "\\ Creating objects...\n",
      "├── 🔨 Created mount \n",
      "│   c:\\Users\\iskorpittt\\Desktop\\MY_DATA_SCIENCE\\PROJECTS\\GENERATIVE_AI\\llm_engi\n",
      "│   neering\\week8\\pricer_service2.py\n",
      "└── 🔨 Created function Pricer.download_model_to_folder.\n",
      "- Creating objects...\n",
      "├── 🔨 Created mount \n",
      "│   c:\\Users\\iskorpittt\\Desktop\\MY_DATA_SCIENCE\\PROJECTS\\GENERATIVE_AI\\llm_engi\n",
      "│   neering\\week8\\pricer_service2.py\n",
      "└── 🔨 Created function Pricer.download_model_to_folder.\n",
      "\\ Creating objects...\n",
      "├── 🔨 Created mount \n",
      "│   c:\\Users\\iskorpittt\\Desktop\\MY_DATA_SCIENCE\\PROJECTS\\GENERATIVE_AI\\llm_engi\n",
      "│   neering\\week8\\pricer_service2.py\n",
      "└── 🔨 Created function Pricer.download_model_to_folder.\n",
      "/ Creating objects...\n",
      "├── 🔨 Created mount \n",
      "│   c:\\Users\\iskorpittt\\Desktop\\MY_DATA_SCIENCE\\PROJECTS\\GENERATIVE_AI\\llm_engi\n",
      "│   neering\\week8\\pricer_service2.py\n",
      "└── 🔨 Created function Pricer.download_model_to_folder.\n",
      "\\ Creating objects...\n",
      "├── 🔨 Created mount \n",
      "│   c:\\Users\\iskorpittt\\Desktop\\MY_DATA_SCIENCE\\PROJECTS\\GENERATIVE_AI\\llm_engi\n",
      "│   neering\\week8\\pricer_service2.py\n",
      "└── 🔨 Created function Pricer.download_model_to_folder.\n",
      "/ Creating objects...\n",
      "├── 🔨 Created mount \n",
      "│   c:\\Users\\iskorpittt\\Desktop\\MY_DATA_SCIENCE\\PROJECTS\\GENERATIVE_AI\\llm_engi\n",
      "│   neering\\week8\\pricer_service2.py\n",
      "└── 🔨 Created function Pricer.download_model_to_folder.\n",
      "\\ Creating objects...\n",
      "├── 🔨 Created mount \n",
      "│   c:\\Users\\iskorpittt\\Desktop\\MY_DATA_SCIENCE\\PROJECTS\\GENERATIVE_AI\\llm_engi\n",
      "│   neering\\week8\\pricer_service2.py\n",
      "└── 🔨 Created function Pricer.download_model_to_folder.\n",
      "/ Creating objects...\n",
      "├── 🔨 Created mount \n",
      "│   c:\\Users\\iskorpittt\\Desktop\\MY_DATA_SCIENCE\\PROJECTS\\GENERATIVE_AI\\llm_engi\n",
      "│   neering\\week8\\pricer_service2.py\n",
      "└── 🔨 Created function Pricer.download_model_to_folder.\n",
      "\\ Creating objects...\n",
      "├── 🔨 Created mount \n",
      "│   c:\\Users\\iskorpittt\\Desktop\\MY_DATA_SCIENCE\\PROJECTS\\GENERATIVE_AI\\llm_engi\n",
      "│   neering\\week8\\pricer_service2.py\n",
      "└── 🔨 Created function Pricer.download_model_to_folder.\n",
      "- Creating objects...\n",
      "├── 🔨 Created mount \n",
      "│   c:\\Users\\iskorpittt\\Desktop\\MY_DATA_SCIENCE\\PROJECTS\\GENERATIVE_AI\\llm_engi\n",
      "│   neering\\week8\\pricer_service2.py\n",
      "└── 🔨 Created function Pricer.download_model_to_folder.\n",
      "\\ Creating objects...\n",
      "├── 🔨 Created mount \n",
      "│   c:\\Users\\iskorpittt\\Desktop\\MY_DATA_SCIENCE\\PROJECTS\\GENERATIVE_AI\\llm_engi\n",
      "│   neering\\week8\\pricer_service2.py\n",
      "└── 🔨 Created function Pricer.download_model_to_folder.\n",
      "/ Creating objects...\n",
      "├── 🔨 Created mount \n",
      "│   c:\\Users\\iskorpittt\\Desktop\\MY_DATA_SCIENCE\\PROJECTS\\GENERATIVE_AI\\llm_engi\n",
      "│   neering\\week8\\pricer_service2.py\n",
      "└── 🔨 Created function Pricer.download_model_to_folder.\n",
      "| Creating objects...\n",
      "├── 🔨 Created mount \n",
      "│   c:\\Users\\iskorpittt\\Desktop\\MY_DATA_SCIENCE\\PROJECTS\\GENERATIVE_AI\\llm_engi\n",
      "│   neering\\week8\\pricer_service2.py\n",
      "└── 🔨 Created function Pricer.download_model_to_folder.\n",
      "- Creating objects...\n",
      "├── 🔨 Created mount \n",
      "│   c:\\Users\\iskorpittt\\Desktop\\MY_DATA_SCIENCE\\PROJECTS\\GENERATIVE_AI\\llm_engi\n",
      "│   neering\\week8\\pricer_service2.py\n",
      "└── 🔨 Created function Pricer.download_model_to_folder.\n",
      "| Creating objects...\n",
      "├── 🔨 Created mount \n",
      "│   c:\\Users\\iskorpittt\\Desktop\\MY_DATA_SCIENCE\\PROJECTS\\GENERATIVE_AI\\llm_engi\n",
      "│   neering\\week8\\pricer_service2.py\n",
      "└── 🔨 Created function Pricer.download_model_to_folder.\n",
      "- Creating objects...\n",
      "├── 🔨 Created mount \n",
      "│   c:\\Users\\iskorpittt\\Desktop\\MY_DATA_SCIENCE\\PROJECTS\\GENERATIVE_AI\\llm_engi\n",
      "│   neering\\week8\\pricer_service2.py\n",
      "└── 🔨 Created function Pricer.download_model_to_folder.\n",
      "| Creating objects...\n",
      "├── 🔨 Created mount \n",
      "│   c:\\Users\\iskorpittt\\Desktop\\MY_DATA_SCIENCE\\PROJECTS\\GENERATIVE_AI\\llm_engi\n",
      "│   neering\\week8\\pricer_service2.py\n",
      "└── 🔨 Created function Pricer.download_model_to_folder.\n",
      "- Creating objects...\n",
      "├── 🔨 Created mount \n",
      "│   c:\\Users\\iskorpittt\\Desktop\\MY_DATA_SCIENCE\\PROJECTS\\GENERATIVE_AI\\llm_engi\n",
      "│   neering\\week8\\pricer_service2.py\n",
      "└── 🔨 Created function Pricer.download_model_to_folder.\n",
      "| Creating objects...\n",
      "├── 🔨 Created mount \n",
      "│   c:\\Users\\iskorpittt\\Desktop\\MY_DATA_SCIENCE\\PROJECTS\\GENERATIVE_AI\\llm_engi\n",
      "│   neering\\week8\\pricer_service2.py\n",
      "└── 🔨 Created function Pricer.download_model_to_folder.\n",
      "- Creating objects...\n",
      "├── 🔨 Created mount \n",
      "│   c:\\Users\\iskorpittt\\Desktop\\MY_DATA_SCIENCE\\PROJECTS\\GENERATIVE_AI\\llm_engi\n",
      "│   neering\\week8\\pricer_service2.py\n",
      "└── 🔨 Created function Pricer.download_model_to_folder.\n",
      "| Creating objects...\n",
      "├── 🔨 Created mount \n",
      "│   c:\\Users\\iskorpittt\\Desktop\\MY_DATA_SCIENCE\\PROJECTS\\GENERATIVE_AI\\llm_engi\n",
      "│   neering\\week8\\pricer_service2.py\n",
      "└── 🔨 Created function Pricer.download_model_to_folder.\n",
      "- Creating objects...\n",
      "├── 🔨 Created mount \n",
      "│   c:\\Users\\iskorpittt\\Desktop\\MY_DATA_SCIENCE\\PROJECTS\\GENERATIVE_AI\\llm_engi\n",
      "│   neering\\week8\\pricer_service2.py\n",
      "└── 🔨 Created function Pricer.download_model_to_folder.\n",
      "| Creating objects...\n",
      "├── 🔨 Created mount \n",
      "│   c:\\Users\\iskorpittt\\Desktop\\MY_DATA_SCIENCE\\PROJECTS\\GENERATIVE_AI\\llm_engi\n",
      "│   neering\\week8\\pricer_service2.py\n",
      "└── 🔨 Created function Pricer.download_model_to_folder.\n",
      "- Creating objects...\n",
      "├── 🔨 Created mount \n",
      "│   c:\\Users\\iskorpittt\\Desktop\\MY_DATA_SCIENCE\\PROJECTS\\GENERATIVE_AI\\llm_engi\n",
      "│   neering\\week8\\pricer_service2.py\n",
      "└── 🔨 Created function Pricer.download_model_to_folder.\n",
      "| Creating objects...\n",
      "├── 🔨 Created mount \n",
      "│   c:\\Users\\iskorpittt\\Desktop\\MY_DATA_SCIENCE\\PROJECTS\\GENERATIVE_AI\\llm_engi\n",
      "│   neering\\week8\\pricer_service2.py\n",
      "└── 🔨 Created function Pricer.download_model_to_folder.\n",
      "- Creating objects...\n",
      "├── 🔨 Created mount \n",
      "│   c:\\Users\\iskorpittt\\Desktop\\MY_DATA_SCIENCE\\PROJECTS\\GENERATIVE_AI\\llm_engi\n",
      "│   neering\\week8\\pricer_service2.py\n",
      "└── 🔨 Created function Pricer.download_model_to_folder.\n",
      "| Creating objects...\n",
      "├── 🔨 Created mount \n",
      "│   c:\\Users\\iskorpittt\\Desktop\\MY_DATA_SCIENCE\\PROJECTS\\GENERATIVE_AI\\llm_engi\n",
      "│   neering\\week8\\pricer_service2.py\n",
      "└── 🔨 Created function Pricer.download_model_to_folder.\n",
      "- Creating objects...\n",
      "├── 🔨 Created mount \n",
      "│   c:\\Users\\iskorpittt\\Desktop\\MY_DATA_SCIENCE\\PROJECTS\\GENERATIVE_AI\\llm_engi\n",
      "│   neering\\week8\\pricer_service2.py\n",
      "└── 🔨 Created function Pricer.download_model_to_folder.\n",
      "| Creating objects...\n",
      "├── 🔨 Created mount \n",
      "│   c:\\Users\\iskorpittt\\Desktop\\MY_DATA_SCIENCE\\PROJECTS\\GENERATIVE_AI\\llm_engi\n",
      "│   neering\\week8\\pricer_service2.py\n",
      "└── 🔨 Created function Pricer.download_model_to_folder.\n",
      "- Creating objects...\n",
      "├── 🔨 Created mount \n",
      "│   c:\\Users\\iskorpittt\\Desktop\\MY_DATA_SCIENCE\\PROJECTS\\GENERATIVE_AI\\llm_engi\n",
      "│   neering\\week8\\pricer_service2.py\n",
      "└── 🔨 Created function Pricer.download_model_to_folder.\n",
      "| Creating objects...\n",
      "├── 🔨 Created mount \n",
      "│   c:\\Users\\iskorpittt\\Desktop\\MY_DATA_SCIENCE\\PROJECTS\\GENERATIVE_AI\\llm_engi\n",
      "│   neering\\week8\\pricer_service2.py\n",
      "└── 🔨 Created function Pricer.download_model_to_folder.\n",
      "- Creating objects...\n",
      "├── 🔨 Created mount \n",
      "│   c:\\Users\\iskorpittt\\Desktop\\MY_DATA_SCIENCE\\PROJECTS\\GENERATIVE_AI\\llm_engi\n",
      "│   neering\\week8\\pricer_service2.py\n",
      "└── 🔨 Created function Pricer.download_model_to_folder.\n",
      "| Creating objects...\n",
      "├── 🔨 Created mount \n",
      "│   c:\\Users\\iskorpittt\\Desktop\\MY_DATA_SCIENCE\\PROJECTS\\GENERATIVE_AI\\llm_engi\n",
      "│   neering\\week8\\pricer_service2.py\n",
      "└── 🔨 Created function Pricer.download_model_to_folder.\n",
      "- Creating objects...\n",
      "├── 🔨 Created mount \n",
      "│   c:\\Users\\iskorpittt\\Desktop\\MY_DATA_SCIENCE\\PROJECTS\\GENERATIVE_AI\\llm_engi\n",
      "│   neering\\week8\\pricer_service2.py\n",
      "└── 🔨 Created function Pricer.download_model_to_folder.\n",
      "| Creating objects...\n",
      "├── 🔨 Created mount \n",
      "│   c:\\Users\\iskorpittt\\Desktop\\MY_DATA_SCIENCE\\PROJECTS\\GENERATIVE_AI\\llm_engi\n",
      "│   neering\\week8\\pricer_service2.py\n",
      "└── 🔨 Created function Pricer.download_model_to_folder.\n",
      "- Creating objects...\n",
      "├── 🔨 Created mount \n",
      "│   c:\\Users\\iskorpittt\\Desktop\\MY_DATA_SCIENCE\\PROJECTS\\GENERATIVE_AI\\llm_engi\n",
      "│   neering\\week8\\pricer_service2.py\n",
      "└── 🔨 Created function Pricer.download_model_to_folder.\n",
      "| Creating objects...\n",
      "├── 🔨 Created mount \n",
      "│   c:\\Users\\iskorpittt\\Desktop\\MY_DATA_SCIENCE\\PROJECTS\\GENERATIVE_AI\\llm_engi\n",
      "│   neering\\week8\\pricer_service2.py\n",
      "└── 🔨 Created function Pricer.download_model_to_folder.\n",
      "- Creating objects...\n",
      "├── 🔨 Created mount \n",
      "│   c:\\Users\\iskorpittt\\Desktop\\MY_DATA_SCIENCE\\PROJECTS\\GENERATIVE_AI\\llm_engi\n",
      "│   neering\\week8\\pricer_service2.py\n",
      "└── 🔨 Created function Pricer.download_model_to_folder.\n",
      "| Creating objects...\n",
      "├── 🔨 Created mount \n",
      "│   c:\\Users\\iskorpittt\\Desktop\\MY_DATA_SCIENCE\\PROJECTS\\GENERATIVE_AI\\llm_engi\n",
      "│   neering\\week8\\pricer_service2.py\n",
      "└── 🔨 Created function Pricer.download_model_to_folder.\n",
      "- Creating objects...\n",
      "├── 🔨 Created mount \n",
      "│   c:\\Users\\iskorpittt\\Desktop\\MY_DATA_SCIENCE\\PROJECTS\\GENERATIVE_AI\\llm_engi\n",
      "│   neering\\week8\\pricer_service2.py\n",
      "└── 🔨 Created function Pricer.download_model_to_folder.\n",
      "| Creating objects...\n",
      "├── 🔨 Created mount \n",
      "│   c:\\Users\\iskorpittt\\Desktop\\MY_DATA_SCIENCE\\PROJECTS\\GENERATIVE_AI\\llm_engi\n",
      "│   neering\\week8\\pricer_service2.py\n",
      "└── 🔨 Created function Pricer.download_model_to_folder.\n",
      "- Creating objects...\n",
      "├── 🔨 Created mount \n",
      "│   c:\\Users\\iskorpittt\\Desktop\\MY_DATA_SCIENCE\\PROJECTS\\GENERATIVE_AI\\llm_engi\n",
      "│   neering\\week8\\pricer_service2.py\n",
      "└── 🔨 Created function Pricer.download_model_to_folder.\n",
      "| Creating objects...\n",
      "├── 🔨 Created mount \n",
      "│   c:\\Users\\iskorpittt\\Desktop\\MY_DATA_SCIENCE\\PROJECTS\\GENERATIVE_AI\\llm_engi\n",
      "│   neering\\week8\\pricer_service2.py\n",
      "└── 🔨 Created function Pricer.download_model_to_folder.\n",
      "- Creating objects...\n",
      "├── 🔨 Created mount \n",
      "│   c:\\Users\\iskorpittt\\Desktop\\MY_DATA_SCIENCE\\PROJECTS\\GENERATIVE_AI\\llm_engi\n",
      "│   neering\\week8\\pricer_service2.py\n",
      "└── 🔨 Created function Pricer.download_model_to_folder.\n",
      "| Creating objects...\n",
      "├── 🔨 Created mount \n",
      "│   c:\\Users\\iskorpittt\\Desktop\\MY_DATA_SCIENCE\\PROJECTS\\GENERATIVE_AI\\llm_engi\n",
      "│   neering\\week8\\pricer_service2.py\n",
      "└── 🔨 Created function Pricer.download_model_to_folder.\n",
      "- Creating objects...\n",
      "├── 🔨 Created mount \n",
      "│   c:\\Users\\iskorpittt\\Desktop\\MY_DATA_SCIENCE\\PROJECTS\\GENERATIVE_AI\\llm_engi\n",
      "│   neering\\week8\\pricer_service2.py\n",
      "└── 🔨 Created function Pricer.download_model_to_folder.\n",
      "| Creating objects...\n",
      "├── 🔨 Created mount \n",
      "│   c:\\Users\\iskorpittt\\Desktop\\MY_DATA_SCIENCE\\PROJECTS\\GENERATIVE_AI\\llm_engi\n",
      "│   neering\\week8\\pricer_service2.py\n",
      "└── 🔨 Created function Pricer.download_model_to_folder.\n",
      "- Creating objects...\n",
      "├── 🔨 Created mount \n",
      "│   c:\\Users\\iskorpittt\\Desktop\\MY_DATA_SCIENCE\\PROJECTS\\GENERATIVE_AI\\llm_engi\n",
      "│   neering\\week8\\pricer_service2.py\n",
      "└── 🔨 Created function Pricer.download_model_to_folder.\n",
      "| Creating objects...\n",
      "├── 🔨 Created mount \n",
      "│   c:\\Users\\iskorpittt\\Desktop\\MY_DATA_SCIENCE\\PROJECTS\\GENERATIVE_AI\\llm_engi\n",
      "│   neering\\week8\\pricer_service2.py\n",
      "└── 🔨 Created function Pricer.download_model_to_folder.\n",
      "\\ Creating objects...\n",
      "├── 🔨 Created mount \n",
      "│   c:\\Users\\iskorpittt\\Desktop\\MY_DATA_SCIENCE\\PROJECTS\\GENERATIVE_AI\\llm_engi\n",
      "│   neering\\week8\\pricer_service2.py\n",
      "└── 🔨 Created function Pricer.download_model_to_folder.\n",
      "/ Creating objects...\n",
      "├── 🔨 Created mount \n",
      "│   c:\\Users\\iskorpittt\\Desktop\\MY_DATA_SCIENCE\\PROJECTS\\GENERATIVE_AI\\llm_engi\n",
      "│   neering\\week8\\pricer_service2.py\n",
      "└── 🔨 Created function Pricer.download_model_to_folder.\n",
      "\\ Creating objects...\n",
      "├── 🔨 Created mount \n",
      "│   c:\\Users\\iskorpittt\\Desktop\\MY_DATA_SCIENCE\\PROJECTS\\GENERATIVE_AI\\llm_engi\n",
      "│   neering\\week8\\pricer_service2.py\n",
      "└── 🔨 Created function Pricer.download_model_to_folder.\n",
      "/ Creating objects...\n",
      "├── 🔨 Created mount \n",
      "│   c:\\Users\\iskorpittt\\Desktop\\MY_DATA_SCIENCE\\PROJECTS\\GENERATIVE_AI\\llm_engi\n",
      "│   neering\\week8\\pricer_service2.py\n",
      "└── 🔨 Created function Pricer.download_model_to_folder.\n",
      "\\ Creating objects...\n",
      "├── 🔨 Created mount \n",
      "│   c:\\Users\\iskorpittt\\Desktop\\MY_DATA_SCIENCE\\PROJECTS\\GENERATIVE_AI\\llm_engi\n",
      "│   neering\\week8\\pricer_service2.py\n",
      "└── 🔨 Created function Pricer.download_model_to_folder.\n",
      "/ Creating objects...\n",
      "├── 🔨 Created mount \n",
      "│   c:\\Users\\iskorpittt\\Desktop\\MY_DATA_SCIENCE\\PROJECTS\\GENERATIVE_AI\\llm_engi\n",
      "│   neering\\week8\\pricer_service2.py\n",
      "└── 🔨 Created function Pricer.download_model_to_folder.\n",
      "\\ Creating objects...\n",
      "├── 🔨 Created mount \n",
      "│   c:\\Users\\iskorpittt\\Desktop\\MY_DATA_SCIENCE\\PROJECTS\\GENERATIVE_AI\\llm_engi\n",
      "│   neering\\week8\\pricer_service2.py\n",
      "└── 🔨 Created function Pricer.download_model_to_folder.\n",
      "/ Creating objects...\n",
      "├── 🔨 Created mount \n",
      "│   c:\\Users\\iskorpittt\\Desktop\\MY_DATA_SCIENCE\\PROJECTS\\GENERATIVE_AI\\llm_engi\n",
      "│   neering\\week8\\pricer_service2.py\n",
      "└── 🔨 Created function Pricer.download_model_to_folder.\n",
      "\\ Creating objects...\n",
      "├── 🔨 Created mount \n",
      "│   c:\\Users\\iskorpittt\\Desktop\\MY_DATA_SCIENCE\\PROJECTS\\GENERATIVE_AI\\llm_engi\n",
      "│   neering\\week8\\pricer_service2.py\n",
      "└── 🔨 Created function Pricer.download_model_to_folder.\n",
      "/ Creating objects...\n",
      "├── 🔨 Created mount \n",
      "│   c:\\Users\\iskorpittt\\Desktop\\MY_DATA_SCIENCE\\PROJECTS\\GENERATIVE_AI\\llm_engi\n",
      "│   neering\\week8\\pricer_service2.py\n",
      "└── 🔨 Created function Pricer.download_model_to_folder.\n",
      "\\ Creating objects...\n",
      "├── 🔨 Created mount \n",
      "│   c:\\Users\\iskorpittt\\Desktop\\MY_DATA_SCIENCE\\PROJECTS\\GENERATIVE_AI\\llm_engi\n",
      "│   neering\\week8\\pricer_service2.py\n",
      "└── 🔨 Created function Pricer.download_model_to_folder.\n",
      "/ Creating objects...\n",
      "├── 🔨 Created mount \n",
      "│   c:\\Users\\iskorpittt\\Desktop\\MY_DATA_SCIENCE\\PROJECTS\\GENERATIVE_AI\\llm_engi\n",
      "│   neering\\week8\\pricer_service2.py\n",
      "└── 🔨 Created function Pricer.download_model_to_folder.\n",
      "\\ Creating objects...\n",
      "├── 🔨 Created mount \n",
      "│   c:\\Users\\iskorpittt\\Desktop\\MY_DATA_SCIENCE\\PROJECTS\\GENERATIVE_AI\\llm_engi\n",
      "│   neering\\week8\\pricer_service2.py\n",
      "└── 🔨 Created function Pricer.download_model_to_folder.\n",
      "/ Creating objects...\n",
      "├── 🔨 Created mount \n",
      "│   c:\\Users\\iskorpittt\\Desktop\\MY_DATA_SCIENCE\\PROJECTS\\GENERATIVE_AI\\llm_engi\n",
      "│   neering\\week8\\pricer_service2.py\n",
      "└── 🔨 Created function Pricer.download_model_to_folder.\n",
      "\\ Creating objects...\n",
      "├── 🔨 Created mount \n",
      "│   c:\\Users\\iskorpittt\\Desktop\\MY_DATA_SCIENCE\\PROJECTS\\GENERATIVE_AI\\llm_engi\n",
      "│   neering\\week8\\pricer_service2.py\n",
      "└── 🔨 Created function Pricer.download_model_to_folder.\n",
      "/ Creating objects...\n",
      "├── 🔨 Created mount \n",
      "│   c:\\Users\\iskorpittt\\Desktop\\MY_DATA_SCIENCE\\PROJECTS\\GENERATIVE_AI\\llm_engi\n",
      "│   neering\\week8\\pricer_service2.py\n",
      "└── 🔨 Created function Pricer.download_model_to_folder.\n",
      "\\ Creating objects...\n",
      "├── 🔨 Created mount \n",
      "│   c:\\Users\\iskorpittt\\Desktop\\MY_DATA_SCIENCE\\PROJECTS\\GENERATIVE_AI\\llm_engi\n",
      "│   neering\\week8\\pricer_service2.py\n",
      "└── 🔨 Created function Pricer.download_model_to_folder.\n",
      "/ Creating objects...\n",
      "├── 🔨 Created mount \n",
      "│   c:\\Users\\iskorpittt\\Desktop\\MY_DATA_SCIENCE\\PROJECTS\\GENERATIVE_AI\\llm_engi\n",
      "│   neering\\week8\\pricer_service2.py\n",
      "└── 🔨 Created function Pricer.download_model_to_folder.\n",
      "\\ Creating objects...\n",
      "├── 🔨 Created mount \n",
      "│   c:\\Users\\iskorpittt\\Desktop\\MY_DATA_SCIENCE\\PROJECTS\\GENERATIVE_AI\\llm_engi\n",
      "│   neering\\week8\\pricer_service2.py\n",
      "└── 🔨 Created function Pricer.download_model_to_folder.\n",
      "/ Creating objects...\n",
      "├── 🔨 Created mount \n",
      "│   c:\\Users\\iskorpittt\\Desktop\\MY_DATA_SCIENCE\\PROJECTS\\GENERATIVE_AI\\llm_engi\n",
      "│   neering\\week8\\pricer_service2.py\n",
      "└── 🔨 Created function Pricer.download_model_to_folder.\n",
      "\\ Creating objects...\n",
      "├── 🔨 Created mount \n",
      "│   c:\\Users\\iskorpittt\\Desktop\\MY_DATA_SCIENCE\\PROJECTS\\GENERATIVE_AI\\llm_engi\n",
      "│   neering\\week8\\pricer_service2.py\n",
      "└── 🔨 Created function Pricer.download_model_to_folder.\n",
      "/ Creating objects...\n",
      "├── 🔨 Created mount \n",
      "│   c:\\Users\\iskorpittt\\Desktop\\MY_DATA_SCIENCE\\PROJECTS\\GENERATIVE_AI\\llm_engi\n",
      "│   neering\\week8\\pricer_service2.py\n",
      "└── 🔨 Created function Pricer.download_model_to_folder.\n",
      "\\ Creating objects...\n",
      "├── 🔨 Created mount \n",
      "│   c:\\Users\\iskorpittt\\Desktop\\MY_DATA_SCIENCE\\PROJECTS\\GENERATIVE_AI\\llm_engi\n",
      "│   neering\\week8\\pricer_service2.py\n",
      "└── 🔨 Created function Pricer.download_model_to_folder.\n",
      "/ Creating objects...\n",
      "├── 🔨 Created mount \n",
      "│   c:\\Users\\iskorpittt\\Desktop\\MY_DATA_SCIENCE\\PROJECTS\\GENERATIVE_AI\\llm_engi\n",
      "│   neering\\week8\\pricer_service2.py\n",
      "└── 🔨 Created function Pricer.download_model_to_folder.\n",
      "\\ Creating objects...\n",
      "├── 🔨 Created mount \n",
      "│   c:\\Users\\iskorpittt\\Desktop\\MY_DATA_SCIENCE\\PROJECTS\\GENERATIVE_AI\\llm_engi\n",
      "│   neering\\week8\\pricer_service2.py\n",
      "└── 🔨 Created function Pricer.download_model_to_folder.\n",
      "/ Creating objects...\n",
      "├── 🔨 Created mount \n",
      "│   c:\\Users\\iskorpittt\\Desktop\\MY_DATA_SCIENCE\\PROJECTS\\GENERATIVE_AI\\llm_engi\n",
      "│   neering\\week8\\pricer_service2.py\n",
      "└── 🔨 Created function Pricer.download_model_to_folder.\n",
      "\\ Creating objects...\n",
      "├── 🔨 Created mount \n",
      "│   c:\\Users\\iskorpittt\\Desktop\\MY_DATA_SCIENCE\\PROJECTS\\GENERATIVE_AI\\llm_engi\n",
      "│   neering\\week8\\pricer_service2.py\n",
      "└── 🔨 Created function Pricer.download_model_to_folder.\n",
      "/ Creating objects...\n",
      "├── 🔨 Created mount \n",
      "│   c:\\Users\\iskorpittt\\Desktop\\MY_DATA_SCIENCE\\PROJECTS\\GENERATIVE_AI\\llm_engi\n",
      "│   neering\\week8\\pricer_service2.py\n",
      "└── 🔨 Created function Pricer.download_model_to_folder.\n",
      "\\ Creating objects...\n",
      "├── 🔨 Created mount \n",
      "│   c:\\Users\\iskorpittt\\Desktop\\MY_DATA_SCIENCE\\PROJECTS\\GENERATIVE_AI\\llm_engi\n",
      "│   neering\\week8\\pricer_service2.py\n",
      "└── 🔨 Created function Pricer.download_model_to_folder.\n",
      "/ Creating objects...\n",
      "├── 🔨 Created mount \n",
      "│   c:\\Users\\iskorpittt\\Desktop\\MY_DATA_SCIENCE\\PROJECTS\\GENERATIVE_AI\\llm_engi\n",
      "│   neering\\week8\\pricer_service2.py\n",
      "└── 🔨 Created function Pricer.download_model_to_folder.\n",
      "\\ Creating objects...\n",
      "├── 🔨 Created mount \n",
      "│   c:\\Users\\iskorpittt\\Desktop\\MY_DATA_SCIENCE\\PROJECTS\\GENERATIVE_AI\\llm_engi\n",
      "│   neering\\week8\\pricer_service2.py\n",
      "└── 🔨 Created function Pricer.download_model_to_folder.\n",
      "/ Creating objects...\n",
      "├── 🔨 Created mount \n",
      "│   c:\\Users\\iskorpittt\\Desktop\\MY_DATA_SCIENCE\\PROJECTS\\GENERATIVE_AI\\llm_engi\n",
      "│   neering\\week8\\pricer_service2.py\n",
      "└── 🔨 Created function Pricer.download_model_to_folder.\n",
      "\\ Creating objects...\n",
      "├── 🔨 Created mount \n",
      "│   c:\\Users\\iskorpittt\\Desktop\\MY_DATA_SCIENCE\\PROJECTS\\GENERATIVE_AI\\llm_engi\n",
      "│   neering\\week8\\pricer_service2.py\n",
      "└── 🔨 Created function Pricer.download_model_to_folder.\n",
      "\u001b[1AFetching 17 files:  47%|████▋     | 8/17 [01:58<02:20, 15.56s/it]| Creating objects...\n",
      "├── 🔨 Created mount c:\\Users\\iskorpittt\\Desktop\\MY_DATA_SCIENCE\\PROJECTS\\GENER\n",
      "└── 🔨 Created function Pricer.download_model_to_folder.\n",
      "/ Creating objects...\n",
      "├── 🔨 Created mount \n",
      "│   c:\\Users\\iskorpittt\\Desktop\\MY_DATA_SCIENCE\\PROJECTS\\GENERATIVE_AI\\llm_engi\n",
      "│   neering\\week8\\pricer_service2.py\n",
      "└── 🔨 Created function Pricer.download_model_to_folder.\n",
      "\\ Creating objects...\n",
      "├── 🔨 Created mount \n",
      "│   c:\\Users\\iskorpittt\\Desktop\\MY_DATA_SCIENCE\\PROJECTS\\GENERATIVE_AI\\llm_engi\n",
      "│   neering\\week8\\pricer_service2.py\n",
      "└── 🔨 Created function Pricer.download_model_to_folder.\n",
      "/ Creating objects...\n",
      "├── 🔨 Created mount \n",
      "│   c:\\Users\\iskorpittt\\Desktop\\MY_DATA_SCIENCE\\PROJECTS\\GENERATIVE_AI\\llm_engi\n",
      "│   neering\\week8\\pricer_service2.py\n",
      "└── 🔨 Created function Pricer.download_model_to_folder.\n",
      "\\ Creating objects...\n",
      "├── 🔨 Created mount \n",
      "│   c:\\Users\\iskorpittt\\Desktop\\MY_DATA_SCIENCE\\PROJECTS\\GENERATIVE_AI\\llm_engi\n",
      "│   neering\\week8\\pricer_service2.py\n",
      "└── 🔨 Created function Pricer.download_model_to_folder.\n",
      "/ Creating objects...\n",
      "├── 🔨 Created mount \n",
      "│   c:\\Users\\iskorpittt\\Desktop\\MY_DATA_SCIENCE\\PROJECTS\\GENERATIVE_AI\\llm_engi\n",
      "│   neering\\week8\\pricer_service2.py\n",
      "└── 🔨 Created function Pricer.download_model_to_folder.\n",
      "\\ Creating objects...\n",
      "├── 🔨 Created mount \n",
      "│   c:\\Users\\iskorpittt\\Desktop\\MY_DATA_SCIENCE\\PROJECTS\\GENERATIVE_AI\\llm_engi\n",
      "│   neering\\week8\\pricer_service2.py\n",
      "└── 🔨 Created function Pricer.download_model_to_folder.\n",
      "/ Creating objects...\n",
      "├── 🔨 Created mount \n",
      "│   c:\\Users\\iskorpittt\\Desktop\\MY_DATA_SCIENCE\\PROJECTS\\GENERATIVE_AI\\llm_engi\n",
      "│   neering\\week8\\pricer_service2.py\n",
      "└── 🔨 Created function Pricer.download_model_to_folder.\n",
      "\\ Creating objects...\n",
      "├── 🔨 Created mount \n",
      "│   c:\\Users\\iskorpittt\\Desktop\\MY_DATA_SCIENCE\\PROJECTS\\GENERATIVE_AI\\llm_engi\n",
      "│   neering\\week8\\pricer_service2.py\n",
      "└── 🔨 Created function Pricer.download_model_to_folder.\n",
      "/ Creating objects...\n",
      "├── 🔨 Created mount \n",
      "│   c:\\Users\\iskorpittt\\Desktop\\MY_DATA_SCIENCE\\PROJECTS\\GENERATIVE_AI\\llm_engi\n",
      "│   neering\\week8\\pricer_service2.py\n",
      "└── 🔨 Created function Pricer.download_model_to_folder.\n",
      "\\ Creating objects...\n",
      "├── 🔨 Created mount \n",
      "│   c:\\Users\\iskorpittt\\Desktop\\MY_DATA_SCIENCE\\PROJECTS\\GENERATIVE_AI\\llm_engi\n",
      "│   neering\\week8\\pricer_service2.py\n",
      "└── 🔨 Created function Pricer.download_model_to_folder.\n",
      "/ Creating objects...\n",
      "├── 🔨 Created mount \n",
      "│   c:\\Users\\iskorpittt\\Desktop\\MY_DATA_SCIENCE\\PROJECTS\\GENERATIVE_AI\\llm_engi\n",
      "│   neering\\week8\\pricer_service2.py\n",
      "└── 🔨 Created function Pricer.download_model_to_folder.\n",
      "\\ Creating objects...\n",
      "├── 🔨 Created mount \n",
      "│   c:\\Users\\iskorpittt\\Desktop\\MY_DATA_SCIENCE\\PROJECTS\\GENERATIVE_AI\\llm_engi\n",
      "│   neering\\week8\\pricer_service2.py\n",
      "└── 🔨 Created function Pricer.download_model_to_folder.\n",
      "/ Creating objects...\n",
      "├── 🔨 Created mount \n",
      "│   c:\\Users\\iskorpittt\\Desktop\\MY_DATA_SCIENCE\\PROJECTS\\GENERATIVE_AI\\llm_engi\n",
      "│   neering\\week8\\pricer_service2.py\n",
      "└── 🔨 Created function Pricer.download_model_to_folder.\n",
      "\\ Creating objects...\n",
      "├── 🔨 Created mount \n",
      "│   c:\\Users\\iskorpittt\\Desktop\\MY_DATA_SCIENCE\\PROJECTS\\GENERATIVE_AI\\llm_engi\n",
      "│   neering\\week8\\pricer_service2.py\n",
      "└── 🔨 Created function Pricer.download_model_to_folder.\n",
      "/ Creating objects...\n",
      "├── 🔨 Created mount \n",
      "│   c:\\Users\\iskorpittt\\Desktop\\MY_DATA_SCIENCE\\PROJECTS\\GENERATIVE_AI\\llm_engi\n",
      "│   neering\\week8\\pricer_service2.py\n",
      "└── 🔨 Created function Pricer.download_model_to_folder.\n",
      "\\ Creating objects...\n",
      "├── 🔨 Created mount \n",
      "│   c:\\Users\\iskorpittt\\Desktop\\MY_DATA_SCIENCE\\PROJECTS\\GENERATIVE_AI\\llm_engi\n",
      "│   neering\\week8\\pricer_service2.py\n",
      "└── 🔨 Created function Pricer.download_model_to_folder.\n",
      "/ Creating objects...\n",
      "├── 🔨 Created mount \n",
      "│   c:\\Users\\iskorpittt\\Desktop\\MY_DATA_SCIENCE\\PROJECTS\\GENERATIVE_AI\\llm_engi\n",
      "│   neering\\week8\\pricer_service2.py\n",
      "└── 🔨 Created function Pricer.download_model_to_folder.\n",
      "\\ Creating objects...\n",
      "├── 🔨 Created mount \n",
      "│   c:\\Users\\iskorpittt\\Desktop\\MY_DATA_SCIENCE\\PROJECTS\\GENERATIVE_AI\\llm_engi\n",
      "│   neering\\week8\\pricer_service2.py\n",
      "└── 🔨 Created function Pricer.download_model_to_folder.\n",
      "/ Creating objects...\n",
      "├── 🔨 Created mount \n",
      "│   c:\\Users\\iskorpittt\\Desktop\\MY_DATA_SCIENCE\\PROJECTS\\GENERATIVE_AI\\llm_engi\n",
      "│   neering\\week8\\pricer_service2.py\n",
      "└── 🔨 Created function Pricer.download_model_to_folder.\n",
      "\\ Creating objects...\n",
      "├── 🔨 Created mount \n",
      "│   c:\\Users\\iskorpittt\\Desktop\\MY_DATA_SCIENCE\\PROJECTS\\GENERATIVE_AI\\llm_engi\n",
      "│   neering\\week8\\pricer_service2.py\n",
      "└── 🔨 Created function Pricer.download_model_to_folder.\n",
      "/ Creating objects...\n",
      "├── 🔨 Created mount \n",
      "│   c:\\Users\\iskorpittt\\Desktop\\MY_DATA_SCIENCE\\PROJECTS\\GENERATIVE_AI\\llm_engi\n",
      "│   neering\\week8\\pricer_service2.py\n",
      "└── 🔨 Created function Pricer.download_model_to_folder.\n",
      "\\ Creating objects...\n",
      "├── 🔨 Created mount \n",
      "│   c:\\Users\\iskorpittt\\Desktop\\MY_DATA_SCIENCE\\PROJECTS\\GENERATIVE_AI\\llm_engi\n",
      "│   neering\\week8\\pricer_service2.py\n",
      "└── 🔨 Created function Pricer.download_model_to_folder.\n",
      "/ Creating objects...\n",
      "├── 🔨 Created mount \n",
      "│   c:\\Users\\iskorpittt\\Desktop\\MY_DATA_SCIENCE\\PROJECTS\\GENERATIVE_AI\\llm_engi\n",
      "│   neering\\week8\\pricer_service2.py\n",
      "└── 🔨 Created function Pricer.download_model_to_folder.\n",
      "\\ Creating objects...\n",
      "├── 🔨 Created mount \n",
      "│   c:\\Users\\iskorpittt\\Desktop\\MY_DATA_SCIENCE\\PROJECTS\\GENERATIVE_AI\\llm_engi\n",
      "│   neering\\week8\\pricer_service2.py\n",
      "└── 🔨 Created function Pricer.download_model_to_folder.\n",
      "/ Creating objects...\n",
      "├── 🔨 Created mount \n",
      "│   c:\\Users\\iskorpittt\\Desktop\\MY_DATA_SCIENCE\\PROJECTS\\GENERATIVE_AI\\llm_engi\n",
      "│   neering\\week8\\pricer_service2.py\n",
      "└── 🔨 Created function Pricer.download_model_to_folder.\n",
      "\\ Creating objects...\n",
      "├── 🔨 Created mount \n",
      "│   c:\\Users\\iskorpittt\\Desktop\\MY_DATA_SCIENCE\\PROJECTS\\GENERATIVE_AI\\llm_engi\n",
      "│   neering\\week8\\pricer_service2.py\n",
      "└── 🔨 Created function Pricer.download_model_to_folder.\n",
      "/ Creating objects...\n",
      "├── 🔨 Created mount \n",
      "│   c:\\Users\\iskorpittt\\Desktop\\MY_DATA_SCIENCE\\PROJECTS\\GENERATIVE_AI\\llm_engi\n",
      "│   neering\\week8\\pricer_service2.py\n",
      "└── 🔨 Created function Pricer.download_model_to_folder.\n",
      "\\ Creating objects...\n",
      "├── 🔨 Created mount \n",
      "│   c:\\Users\\iskorpittt\\Desktop\\MY_DATA_SCIENCE\\PROJECTS\\GENERATIVE_AI\\llm_engi\n",
      "│   neering\\week8\\pricer_service2.py\n",
      "└── 🔨 Created function Pricer.download_model_to_folder.\n",
      "/ Creating objects...\n",
      "├── 🔨 Created mount \n",
      "│   c:\\Users\\iskorpittt\\Desktop\\MY_DATA_SCIENCE\\PROJECTS\\GENERATIVE_AI\\llm_engi\n",
      "│   neering\\week8\\pricer_service2.py\n",
      "└── 🔨 Created function Pricer.download_model_to_folder.\n",
      "\\ Creating objects...\n",
      "├── 🔨 Created mount \n",
      "│   c:\\Users\\iskorpittt\\Desktop\\MY_DATA_SCIENCE\\PROJECTS\\GENERATIVE_AI\\llm_engi\n",
      "│   neering\\week8\\pricer_service2.py\n",
      "└── 🔨 Created function Pricer.download_model_to_folder.\n",
      "/ Creating objects...\n",
      "├── 🔨 Created mount \n",
      "│   c:\\Users\\iskorpittt\\Desktop\\MY_DATA_SCIENCE\\PROJECTS\\GENERATIVE_AI\\llm_engi\n",
      "│   neering\\week8\\pricer_service2.py\n",
      "└── 🔨 Created function Pricer.download_model_to_folder.\n",
      "\\ Creating objects...\n",
      "├── 🔨 Created mount \n",
      "│   c:\\Users\\iskorpittt\\Desktop\\MY_DATA_SCIENCE\\PROJECTS\\GENERATIVE_AI\\llm_engi\n",
      "│   neering\\week8\\pricer_service2.py\n",
      "└── 🔨 Created function Pricer.download_model_to_folder.\n",
      "/ Creating objects...\n",
      "├── 🔨 Created mount \n",
      "│   c:\\Users\\iskorpittt\\Desktop\\MY_DATA_SCIENCE\\PROJECTS\\GENERATIVE_AI\\llm_engi\n",
      "│   neering\\week8\\pricer_service2.py\n",
      "└── 🔨 Created function Pricer.download_model_to_folder.\n",
      "\\ Creating objects...\n",
      "├── 🔨 Created mount \n",
      "│   c:\\Users\\iskorpittt\\Desktop\\MY_DATA_SCIENCE\\PROJECTS\\GENERATIVE_AI\\llm_engi\n",
      "│   neering\\week8\\pricer_service2.py\n",
      "└── 🔨 Created function Pricer.download_model_to_folder.\n",
      "/ Creating objects...\n",
      "├── 🔨 Created mount \n",
      "│   c:\\Users\\iskorpittt\\Desktop\\MY_DATA_SCIENCE\\PROJECTS\\GENERATIVE_AI\\llm_engi\n",
      "│   neering\\week8\\pricer_service2.py\n",
      "└── 🔨 Created function Pricer.download_model_to_folder.\n",
      "\\ Creating objects...\n",
      "├── 🔨 Created mount \n",
      "│   c:\\Users\\iskorpittt\\Desktop\\MY_DATA_SCIENCE\\PROJECTS\\GENERATIVE_AI\\llm_engi\n",
      "│   neering\\week8\\pricer_service2.py\n",
      "└── 🔨 Created function Pricer.download_model_to_folder.\n",
      "/ Creating objects...\n",
      "├── 🔨 Created mount \n",
      "│   c:\\Users\\iskorpittt\\Desktop\\MY_DATA_SCIENCE\\PROJECTS\\GENERATIVE_AI\\llm_engi\n",
      "│   neering\\week8\\pricer_service2.py\n",
      "└── 🔨 Created function Pricer.download_model_to_folder.\n",
      "\\ Creating objects...\n",
      "├── 🔨 Created mount \n",
      "│   c:\\Users\\iskorpittt\\Desktop\\MY_DATA_SCIENCE\\PROJECTS\\GENERATIVE_AI\\llm_engi\n",
      "│   neering\\week8\\pricer_service2.py\n",
      "└── 🔨 Created function Pricer.download_model_to_folder.\n",
      "/ Creating objects...\n",
      "├── 🔨 Created mount \n",
      "│   c:\\Users\\iskorpittt\\Desktop\\MY_DATA_SCIENCE\\PROJECTS\\GENERATIVE_AI\\llm_engi\n",
      "│   neering\\week8\\pricer_service2.py\n",
      "└── 🔨 Created function Pricer.download_model_to_folder.\n",
      "\\ Creating objects...\n",
      "├── 🔨 Created mount \n",
      "│   c:\\Users\\iskorpittt\\Desktop\\MY_DATA_SCIENCE\\PROJECTS\\GENERATIVE_AI\\llm_engi\n",
      "│   neering\\week8\\pricer_service2.py\n",
      "└── 🔨 Created function Pricer.download_model_to_folder.\n",
      "/ Creating objects...\n",
      "├── 🔨 Created mount \n",
      "│   c:\\Users\\iskorpittt\\Desktop\\MY_DATA_SCIENCE\\PROJECTS\\GENERATIVE_AI\\llm_engi\n",
      "│   neering\\week8\\pricer_service2.py\n",
      "└── 🔨 Created function Pricer.download_model_to_folder.\n",
      "\\ Creating objects...\n",
      "├── 🔨 Created mount \n",
      "│   c:\\Users\\iskorpittt\\Desktop\\MY_DATA_SCIENCE\\PROJECTS\\GENERATIVE_AI\\llm_engi\n",
      "│   neering\\week8\\pricer_service2.py\n",
      "└── 🔨 Created function Pricer.download_model_to_folder.\n",
      "/ Creating objects...\n",
      "├── 🔨 Created mount \n",
      "│   c:\\Users\\iskorpittt\\Desktop\\MY_DATA_SCIENCE\\PROJECTS\\GENERATIVE_AI\\llm_engi\n",
      "│   neering\\week8\\pricer_service2.py\n",
      "└── 🔨 Created function Pricer.download_model_to_folder.\n",
      "\\ Creating objects...\n",
      "├── 🔨 Created mount \n",
      "│   c:\\Users\\iskorpittt\\Desktop\\MY_DATA_SCIENCE\\PROJECTS\\GENERATIVE_AI\\llm_engi\n",
      "│   neering\\week8\\pricer_service2.py\n",
      "└── 🔨 Created function Pricer.download_model_to_folder.\n",
      "/ Creating objects...\n",
      "├── 🔨 Created mount \n",
      "│   c:\\Users\\iskorpittt\\Desktop\\MY_DATA_SCIENCE\\PROJECTS\\GENERATIVE_AI\\llm_engi\n",
      "│   neering\\week8\\pricer_service2.py\n",
      "└── 🔨 Created function Pricer.download_model_to_folder.\n",
      "\\ Creating objects...\n",
      "├── 🔨 Created mount \n",
      "│   c:\\Users\\iskorpittt\\Desktop\\MY_DATA_SCIENCE\\PROJECTS\\GENERATIVE_AI\\llm_engi\n",
      "│   neering\\week8\\pricer_service2.py\n",
      "└── 🔨 Created function Pricer.download_model_to_folder.\n",
      "/ Creating objects...\n",
      "├── 🔨 Created mount \n",
      "│   c:\\Users\\iskorpittt\\Desktop\\MY_DATA_SCIENCE\\PROJECTS\\GENERATIVE_AI\\llm_engi\n",
      "│   neering\\week8\\pricer_service2.py\n",
      "└── 🔨 Created function Pricer.download_model_to_folder.\n",
      "\\ Creating objects...\n",
      "├── 🔨 Created mount \n",
      "│   c:\\Users\\iskorpittt\\Desktop\\MY_DATA_SCIENCE\\PROJECTS\\GENERATIVE_AI\\llm_engi\n",
      "│   neering\\week8\\pricer_service2.py\n",
      "└── 🔨 Created function Pricer.download_model_to_folder.\n",
      "/ Creating objects...\n",
      "├── 🔨 Created mount \n",
      "│   c:\\Users\\iskorpittt\\Desktop\\MY_DATA_SCIENCE\\PROJECTS\\GENERATIVE_AI\\llm_engi\n",
      "│   neering\\week8\\pricer_service2.py\n",
      "└── 🔨 Created function Pricer.download_model_to_folder.\n",
      "\\ Creating objects...\n",
      "├── 🔨 Created mount \n",
      "│   c:\\Users\\iskorpittt\\Desktop\\MY_DATA_SCIENCE\\PROJECTS\\GENERATIVE_AI\\llm_engi\n",
      "│   neering\\week8\\pricer_service2.py\n",
      "└── 🔨 Created function Pricer.download_model_to_folder.\n",
      "/ Creating objects...\n",
      "├── 🔨 Created mount \n",
      "│   c:\\Users\\iskorpittt\\Desktop\\MY_DATA_SCIENCE\\PROJECTS\\GENERATIVE_AI\\llm_engi\n",
      "│   neering\\week8\\pricer_service2.py\n",
      "└── 🔨 Created function Pricer.download_model_to_folder.\n",
      "\\ Creating objects...\n",
      "├── 🔨 Created mount \n",
      "│   c:\\Users\\iskorpittt\\Desktop\\MY_DATA_SCIENCE\\PROJECTS\\GENERATIVE_AI\\llm_engi\n",
      "│   neering\\week8\\pricer_service2.py\n",
      "└── 🔨 Created function Pricer.download_model_to_folder.\n",
      "/ Creating objects...\n",
      "├── 🔨 Created mount \n",
      "│   c:\\Users\\iskorpittt\\Desktop\\MY_DATA_SCIENCE\\PROJECTS\\GENERATIVE_AI\\llm_engi\n",
      "│   neering\\week8\\pricer_service2.py\n",
      "└── 🔨 Created function Pricer.download_model_to_folder.\n",
      "\\ Creating objects...\n",
      "├── 🔨 Created mount \n",
      "│   c:\\Users\\iskorpittt\\Desktop\\MY_DATA_SCIENCE\\PROJECTS\\GENERATIVE_AI\\llm_engi\n",
      "│   neering\\week8\\pricer_service2.py\n",
      "└── 🔨 Created function Pricer.download_model_to_folder.\n",
      "/ Creating objects...\n",
      "├── 🔨 Created mount \n",
      "│   c:\\Users\\iskorpittt\\Desktop\\MY_DATA_SCIENCE\\PROJECTS\\GENERATIVE_AI\\llm_engi\n",
      "│   neering\\week8\\pricer_service2.py\n",
      "└── 🔨 Created function Pricer.download_model_to_folder.\n",
      "\\ Creating objects...\n",
      "├── 🔨 Created mount \n",
      "│   c:\\Users\\iskorpittt\\Desktop\\MY_DATA_SCIENCE\\PROJECTS\\GENERATIVE_AI\\llm_engi\n",
      "│   neering\\week8\\pricer_service2.py\n",
      "└── 🔨 Created function Pricer.download_model_to_folder.\n",
      "/ Creating objects...\n",
      "├── 🔨 Created mount \n",
      "│   c:\\Users\\iskorpittt\\Desktop\\MY_DATA_SCIENCE\\PROJECTS\\GENERATIVE_AI\\llm_engi\n",
      "│   neering\\week8\\pricer_service2.py\n",
      "└── 🔨 Created function Pricer.download_model_to_folder.\n",
      "\\ Creating objects...\n",
      "├── 🔨 Created mount \n",
      "│   c:\\Users\\iskorpittt\\Desktop\\MY_DATA_SCIENCE\\PROJECTS\\GENERATIVE_AI\\llm_engi\n",
      "│   neering\\week8\\pricer_service2.py\n",
      "└── 🔨 Created function Pricer.download_model_to_folder.\n",
      "/ Creating objects...\n",
      "├── 🔨 Created mount \n",
      "│   c:\\Users\\iskorpittt\\Desktop\\MY_DATA_SCIENCE\\PROJECTS\\GENERATIVE_AI\\llm_engi\n",
      "│   neering\\week8\\pricer_service2.py\n",
      "└── 🔨 Created function Pricer.download_model_to_folder.\n",
      "\\ Creating objects...\n",
      "├── 🔨 Created mount \n",
      "│   c:\\Users\\iskorpittt\\Desktop\\MY_DATA_SCIENCE\\PROJECTS\\GENERATIVE_AI\\llm_engi\n",
      "│   neering\\week8\\pricer_service2.py\n",
      "└── 🔨 Created function Pricer.download_model_to_folder.\n",
      "/ Creating objects...\n",
      "├── 🔨 Created mount \n",
      "│   c:\\Users\\iskorpittt\\Desktop\\MY_DATA_SCIENCE\\PROJECTS\\GENERATIVE_AI\\llm_engi\n",
      "│   neering\\week8\\pricer_service2.py\n",
      "└── 🔨 Created function Pricer.download_model_to_folder.\n",
      "\\ Creating objects...\n",
      "├── 🔨 Created mount \n",
      "│   c:\\Users\\iskorpittt\\Desktop\\MY_DATA_SCIENCE\\PROJECTS\\GENERATIVE_AI\\llm_engi\n",
      "│   neering\\week8\\pricer_service2.py\n",
      "└── 🔨 Created function Pricer.download_model_to_folder.\n",
      "/ Creating objects...\n",
      "├── 🔨 Created mount \n",
      "│   c:\\Users\\iskorpittt\\Desktop\\MY_DATA_SCIENCE\\PROJECTS\\GENERATIVE_AI\\llm_engi\n",
      "│   neering\\week8\\pricer_service2.py\n",
      "└── 🔨 Created function Pricer.download_model_to_folder.\n",
      "\\ Creating objects...\n",
      "├── 🔨 Created mount \n",
      "│   c:\\Users\\iskorpittt\\Desktop\\MY_DATA_SCIENCE\\PROJECTS\\GENERATIVE_AI\\llm_engi\n",
      "│   neering\\week8\\pricer_service2.py\n",
      "└── 🔨 Created function Pricer.download_model_to_folder.\n",
      "/ Creating objects...\n",
      "├── 🔨 Created mount \n",
      "│   c:\\Users\\iskorpittt\\Desktop\\MY_DATA_SCIENCE\\PROJECTS\\GENERATIVE_AI\\llm_engi\n",
      "│   neering\\week8\\pricer_service2.py\n",
      "└── 🔨 Created function Pricer.download_model_to_folder.\n",
      "\\ Creating objects...\n",
      "├── 🔨 Created mount \n",
      "│   c:\\Users\\iskorpittt\\Desktop\\MY_DATA_SCIENCE\\PROJECTS\\GENERATIVE_AI\\llm_engi\n",
      "│   neering\\week8\\pricer_service2.py\n",
      "└── 🔨 Created function Pricer.download_model_to_folder.\n",
      "/ Creating objects...\n",
      "├── 🔨 Created mount \n",
      "│   c:\\Users\\iskorpittt\\Desktop\\MY_DATA_SCIENCE\\PROJECTS\\GENERATIVE_AI\\llm_engi\n",
      "│   neering\\week8\\pricer_service2.py\n",
      "└── 🔨 Created function Pricer.download_model_to_folder.\n",
      "\\ Creating objects...\n",
      "├── 🔨 Created mount \n",
      "│   c:\\Users\\iskorpittt\\Desktop\\MY_DATA_SCIENCE\\PROJECTS\\GENERATIVE_AI\\llm_engi\n",
      "│   neering\\week8\\pricer_service2.py\n",
      "└── 🔨 Created function Pricer.download_model_to_folder.\n",
      "/ Creating objects...\n",
      "├── 🔨 Created mount \n",
      "│   c:\\Users\\iskorpittt\\Desktop\\MY_DATA_SCIENCE\\PROJECTS\\GENERATIVE_AI\\llm_engi\n",
      "│   neering\\week8\\pricer_service2.py\n",
      "└── 🔨 Created function Pricer.download_model_to_folder.\n",
      "\\ Creating objects...\n",
      "├── 🔨 Created mount \n",
      "│   c:\\Users\\iskorpittt\\Desktop\\MY_DATA_SCIENCE\\PROJECTS\\GENERATIVE_AI\\llm_engi\n",
      "│   neering\\week8\\pricer_service2.py\n",
      "└── 🔨 Created function Pricer.download_model_to_folder.\n",
      "/ Creating objects...\n",
      "├── 🔨 Created mount \n",
      "│   c:\\Users\\iskorpittt\\Desktop\\MY_DATA_SCIENCE\\PROJECTS\\GENERATIVE_AI\\llm_engi\n",
      "│   neering\\week8\\pricer_service2.py\n",
      "└── 🔨 Created function Pricer.download_model_to_folder.\n",
      "\\ Creating objects...\n",
      "├── 🔨 Created mount \n",
      "│   c:\\Users\\iskorpittt\\Desktop\\MY_DATA_SCIENCE\\PROJECTS\\GENERATIVE_AI\\llm_engi\n",
      "│   neering\\week8\\pricer_service2.py\n",
      "└── 🔨 Created function Pricer.download_model_to_folder.\n",
      "/ Creating objects...\n",
      "├── 🔨 Created mount \n",
      "│   c:\\Users\\iskorpittt\\Desktop\\MY_DATA_SCIENCE\\PROJECTS\\GENERATIVE_AI\\llm_engi\n",
      "│   neering\\week8\\pricer_service2.py\n",
      "└── 🔨 Created function Pricer.download_model_to_folder.\n",
      "\\ Creating objects...\n",
      "├── 🔨 Created mount \n",
      "│   c:\\Users\\iskorpittt\\Desktop\\MY_DATA_SCIENCE\\PROJECTS\\GENERATIVE_AI\\llm_engi\n",
      "│   neering\\week8\\pricer_service2.py\n",
      "└── 🔨 Created function Pricer.download_model_to_folder.\n",
      "/ Creating objects...\n",
      "├── 🔨 Created mount \n",
      "│   c:\\Users\\iskorpittt\\Desktop\\MY_DATA_SCIENCE\\PROJECTS\\GENERATIVE_AI\\llm_engi\n",
      "│   neering\\week8\\pricer_service2.py\n",
      "└── 🔨 Created function Pricer.download_model_to_folder.\n",
      "\\ Creating objects...\n",
      "├── 🔨 Created mount \n",
      "│   c:\\Users\\iskorpittt\\Desktop\\MY_DATA_SCIENCE\\PROJECTS\\GENERATIVE_AI\\llm_engi\n",
      "│   neering\\week8\\pricer_service2.py\n",
      "└── 🔨 Created function Pricer.download_model_to_folder.\n",
      "/ Creating objects...\n",
      "├── 🔨 Created mount \n",
      "│   c:\\Users\\iskorpittt\\Desktop\\MY_DATA_SCIENCE\\PROJECTS\\GENERATIVE_AI\\llm_engi\n",
      "│   neering\\week8\\pricer_service2.py\n",
      "└── 🔨 Created function Pricer.download_model_to_folder.\n",
      "\\ Creating objects...\n",
      "├── 🔨 Created mount \n",
      "│   c:\\Users\\iskorpittt\\Desktop\\MY_DATA_SCIENCE\\PROJECTS\\GENERATIVE_AI\\llm_engi\n",
      "│   neering\\week8\\pricer_service2.py\n",
      "└── 🔨 Created function Pricer.download_model_to_folder.\n",
      "/ Creating objects...\n",
      "├── 🔨 Created mount \n",
      "│   c:\\Users\\iskorpittt\\Desktop\\MY_DATA_SCIENCE\\PROJECTS\\GENERATIVE_AI\\llm_engi\n",
      "│   neering\\week8\\pricer_service2.py\n",
      "└── 🔨 Created function Pricer.download_model_to_folder.\n",
      "\\ Creating objects...\n",
      "├── 🔨 Created mount \n",
      "│   c:\\Users\\iskorpittt\\Desktop\\MY_DATA_SCIENCE\\PROJECTS\\GENERATIVE_AI\\llm_engi\n",
      "│   neering\\week8\\pricer_service2.py\n",
      "└── 🔨 Created function Pricer.download_model_to_folder.\n",
      "/ Creating objects...\n",
      "├── 🔨 Created mount \n",
      "│   c:\\Users\\iskorpittt\\Desktop\\MY_DATA_SCIENCE\\PROJECTS\\GENERATIVE_AI\\llm_engi\n",
      "│   neering\\week8\\pricer_service2.py\n",
      "└── 🔨 Created function Pricer.download_model_to_folder.\n",
      "\\ Creating objects...\n",
      "├── 🔨 Created mount \n",
      "│   c:\\Users\\iskorpittt\\Desktop\\MY_DATA_SCIENCE\\PROJECTS\\GENERATIVE_AI\\llm_engi\n",
      "│   neering\\week8\\pricer_service2.py\n",
      "└── 🔨 Created function Pricer.download_model_to_folder.\n",
      "/ Creating objects...\n",
      "├── 🔨 Created mount \n",
      "│   c:\\Users\\iskorpittt\\Desktop\\MY_DATA_SCIENCE\\PROJECTS\\GENERATIVE_AI\\llm_engi\n",
      "│   neering\\week8\\pricer_service2.py\n",
      "└── 🔨 Created function Pricer.download_model_to_folder.\n",
      "\\ Creating objects...\n",
      "├── 🔨 Created mount \n",
      "│   c:\\Users\\iskorpittt\\Desktop\\MY_DATA_SCIENCE\\PROJECTS\\GENERATIVE_AI\\llm_engi\n",
      "│   neering\\week8\\pricer_service2.py\n",
      "└── 🔨 Created function Pricer.download_model_to_folder.\n",
      "/ Creating objects...\n",
      "├── 🔨 Created mount \n",
      "│   c:\\Users\\iskorpittt\\Desktop\\MY_DATA_SCIENCE\\PROJECTS\\GENERATIVE_AI\\llm_engi\n",
      "│   neering\\week8\\pricer_service2.py\n",
      "└── 🔨 Created function Pricer.download_model_to_folder.\n",
      "\\ Creating objects...\n",
      "├── 🔨 Created mount \n",
      "│   c:\\Users\\iskorpittt\\Desktop\\MY_DATA_SCIENCE\\PROJECTS\\GENERATIVE_AI\\llm_engi\n",
      "│   neering\\week8\\pricer_service2.py\n",
      "└── 🔨 Created function Pricer.download_model_to_folder.\n",
      "/ Creating objects...\n",
      "├── 🔨 Created mount \n",
      "│   c:\\Users\\iskorpittt\\Desktop\\MY_DATA_SCIENCE\\PROJECTS\\GENERATIVE_AI\\llm_engi\n",
      "│   neering\\week8\\pricer_service2.py\n",
      "└── 🔨 Created function Pricer.download_model_to_folder.\n",
      "\\ Creating objects...\n",
      "├── 🔨 Created mount \n",
      "│   c:\\Users\\iskorpittt\\Desktop\\MY_DATA_SCIENCE\\PROJECTS\\GENERATIVE_AI\\llm_engi\n",
      "│   neering\\week8\\pricer_service2.py\n",
      "└── 🔨 Created function Pricer.download_model_to_folder.\n",
      "/ Creating objects...\n",
      "├── 🔨 Created mount \n",
      "│   c:\\Users\\iskorpittt\\Desktop\\MY_DATA_SCIENCE\\PROJECTS\\GENERATIVE_AI\\llm_engi\n",
      "│   neering\\week8\\pricer_service2.py\n",
      "└── 🔨 Created function Pricer.download_model_to_folder.\n",
      "\\ Creating objects...\n",
      "├── 🔨 Created mount \n",
      "│   c:\\Users\\iskorpittt\\Desktop\\MY_DATA_SCIENCE\\PROJECTS\\GENERATIVE_AI\\llm_engi\n",
      "│   neering\\week8\\pricer_service2.py\n",
      "└── 🔨 Created function Pricer.download_model_to_folder.\n",
      "/ Creating objects...\n",
      "├── 🔨 Created mount \n",
      "│   c:\\Users\\iskorpittt\\Desktop\\MY_DATA_SCIENCE\\PROJECTS\\GENERATIVE_AI\\llm_engi\n",
      "│   neering\\week8\\pricer_service2.py\n",
      "└── 🔨 Created function Pricer.download_model_to_folder.\n",
      "\\ Creating objects...\n",
      "├── 🔨 Created mount \n",
      "│   c:\\Users\\iskorpittt\\Desktop\\MY_DATA_SCIENCE\\PROJECTS\\GENERATIVE_AI\\llm_engi\n",
      "│   neering\\week8\\pricer_service2.py\n",
      "└── 🔨 Created function Pricer.download_model_to_folder.\n",
      "/ Creating objects...\n",
      "├── 🔨 Created mount \n",
      "│   c:\\Users\\iskorpittt\\Desktop\\MY_DATA_SCIENCE\\PROJECTS\\GENERATIVE_AI\\llm_engi\n",
      "│   neering\\week8\\pricer_service2.py\n",
      "└── 🔨 Created function Pricer.download_model_to_folder.\n",
      "\\ Creating objects...\n",
      "├── 🔨 Created mount \n",
      "│   c:\\Users\\iskorpittt\\Desktop\\MY_DATA_SCIENCE\\PROJECTS\\GENERATIVE_AI\\llm_engi\n",
      "│   neering\\week8\\pricer_service2.py\n",
      "└── 🔨 Created function Pricer.download_model_to_folder.\n",
      "/ Creating objects...\n",
      "├── 🔨 Created mount \n",
      "│   c:\\Users\\iskorpittt\\Desktop\\MY_DATA_SCIENCE\\PROJECTS\\GENERATIVE_AI\\llm_engi\n",
      "│   neering\\week8\\pricer_service2.py\n",
      "└── 🔨 Created function Pricer.download_model_to_folder.\n",
      "\\ Creating objects...\n",
      "├── 🔨 Created mount \n",
      "│   c:\\Users\\iskorpittt\\Desktop\\MY_DATA_SCIENCE\\PROJECTS\\GENERATIVE_AI\\llm_engi\n",
      "│   neering\\week8\\pricer_service2.py\n",
      "└── 🔨 Created function Pricer.download_model_to_folder.\n",
      "- Creating objects...\n",
      "├── 🔨 Created mount \n",
      "│   c:\\Users\\iskorpittt\\Desktop\\MY_DATA_SCIENCE\\PROJECTS\\GENERATIVE_AI\\llm_engi\n",
      "│   neering\\week8\\pricer_service2.py\n",
      "└── 🔨 Created function Pricer.download_model_to_folder.\n",
      "\\ Creating objects...\n",
      "├── 🔨 Created mount \n",
      "│   c:\\Users\\iskorpittt\\Desktop\\MY_DATA_SCIENCE\\PROJECTS\\GENERATIVE_AI\\llm_engi\n",
      "│   neering\\week8\\pricer_service2.py\n",
      "└── 🔨 Created function Pricer.download_model_to_folder.\n",
      "- Creating objects...\n",
      "├── 🔨 Created mount \n",
      "│   c:\\Users\\iskorpittt\\Desktop\\MY_DATA_SCIENCE\\PROJECTS\\GENERATIVE_AI\\llm_engi\n",
      "│   neering\\week8\\pricer_service2.py\n",
      "└── 🔨 Created function Pricer.download_model_to_folder.\n",
      "| Creating objects...\n",
      "├── 🔨 Created mount \n",
      "│   c:\\Users\\iskorpittt\\Desktop\\MY_DATA_SCIENCE\\PROJECTS\\GENERATIVE_AI\\llm_engi\n",
      "│   neering\\week8\\pricer_service2.py\n",
      "└── 🔨 Created function Pricer.download_model_to_folder.\n",
      "- Creating objects...\n",
      "├── 🔨 Created mount \n",
      "│   c:\\Users\\iskorpittt\\Desktop\\MY_DATA_SCIENCE\\PROJECTS\\GENERATIVE_AI\\llm_engi\n",
      "│   neering\\week8\\pricer_service2.py\n",
      "└── 🔨 Created function Pricer.download_model_to_folder.\n",
      "| Creating objects...\n",
      "├── 🔨 Created mount \n",
      "│   c:\\Users\\iskorpittt\\Desktop\\MY_DATA_SCIENCE\\PROJECTS\\GENERATIVE_AI\\llm_engi\n",
      "│   neering\\week8\\pricer_service2.py\n",
      "└── 🔨 Created function Pricer.download_model_to_folder.\n",
      "- Creating objects...\n",
      "├── 🔨 Created mount \n",
      "│   c:\\Users\\iskorpittt\\Desktop\\MY_DATA_SCIENCE\\PROJECTS\\GENERATIVE_AI\\llm_engi\n",
      "│   neering\\week8\\pricer_service2.py\n",
      "└── 🔨 Created function Pricer.download_model_to_folder.\n",
      "\\ Creating objects...\n",
      "├── 🔨 Created mount \n",
      "│   c:\\Users\\iskorpittt\\Desktop\\MY_DATA_SCIENCE\\PROJECTS\\GENERATIVE_AI\\llm_engi\n",
      "│   neering\\week8\\pricer_service2.py\n",
      "└── 🔨 Created function Pricer.download_model_to_folder.\n",
      "- Creating objects...\n",
      "├── 🔨 Created mount \n",
      "│   c:\\Users\\iskorpittt\\Desktop\\MY_DATA_SCIENCE\\PROJECTS\\GENERATIVE_AI\\llm_engi\n",
      "│   neering\\week8\\pricer_service2.py\n",
      "└── 🔨 Created function Pricer.download_model_to_folder.\n",
      "\\ Creating objects...\n",
      "├── 🔨 Created mount \n",
      "│   c:\\Users\\iskorpittt\\Desktop\\MY_DATA_SCIENCE\\PROJECTS\\GENERATIVE_AI\\llm_engi\n",
      "│   neering\\week8\\pricer_service2.py\n",
      "└── 🔨 Created function Pricer.download_model_to_folder.\n",
      "/ Creating objects...\n",
      "├── 🔨 Created mount \n",
      "│   c:\\Users\\iskorpittt\\Desktop\\MY_DATA_SCIENCE\\PROJECTS\\GENERATIVE_AI\\llm_engi\n",
      "│   neering\\week8\\pricer_service2.py\n",
      "└── 🔨 Created function Pricer.download_model_to_folder.\n",
      "| Creating objects...\n",
      "├── 🔨 Created mount \n",
      "│   c:\\Users\\iskorpittt\\Desktop\\MY_DATA_SCIENCE\\PROJECTS\\GENERATIVE_AI\\llm_engi\n",
      "│   neering\\week8\\pricer_service2.py\n",
      "└── 🔨 Created function Pricer.download_model_to_folder.\n",
      "/ Creating objects...\n",
      "├── 🔨 Created mount \n",
      "│   c:\\Users\\iskorpittt\\Desktop\\MY_DATA_SCIENCE\\PROJECTS\\GENERATIVE_AI\\llm_engi\n",
      "│   neering\\week8\\pricer_service2.py\n",
      "└── 🔨 Created function Pricer.download_model_to_folder.\n",
      "\\ Creating objects...\n",
      "├── 🔨 Created mount \n",
      "│   c:\\Users\\iskorpittt\\Desktop\\MY_DATA_SCIENCE\\PROJECTS\\GENERATIVE_AI\\llm_engi\n",
      "│   neering\\week8\\pricer_service2.py\n",
      "└── 🔨 Created function Pricer.download_model_to_folder.\n",
      "- Creating objects...\n",
      "├── 🔨 Created mount \n",
      "│   c:\\Users\\iskorpittt\\Desktop\\MY_DATA_SCIENCE\\PROJECTS\\GENERATIVE_AI\\llm_engi\n",
      "│   neering\\week8\\pricer_service2.py\n",
      "└── 🔨 Created function Pricer.download_model_to_folder.\n",
      "| Creating objects...\n",
      "├── 🔨 Created mount \n",
      "│   c:\\Users\\iskorpittt\\Desktop\\MY_DATA_SCIENCE\\PROJECTS\\GENERATIVE_AI\\llm_engi\n",
      "│   neering\\week8\\pricer_service2.py\n",
      "└── 🔨 Created function Pricer.download_model_to_folder.\n",
      "- Creating objects...\n",
      "├── 🔨 Created mount \n",
      "│   c:\\Users\\iskorpittt\\Desktop\\MY_DATA_SCIENCE\\PROJECTS\\GENERATIVE_AI\\llm_engi\n",
      "│   neering\\week8\\pricer_service2.py\n",
      "└── 🔨 Created function Pricer.download_model_to_folder.\n",
      "| Creating objects...\n",
      "├── 🔨 Created mount \n",
      "│   c:\\Users\\iskorpittt\\Desktop\\MY_DATA_SCIENCE\\PROJECTS\\GENERATIVE_AI\\llm_engi\n",
      "│   neering\\week8\\pricer_service2.py\n",
      "└── 🔨 Created function Pricer.download_model_to_folder.\n",
      "- Creating objects...\n",
      "├── 🔨 Created mount \n",
      "│   c:\\Users\\iskorpittt\\Desktop\\MY_DATA_SCIENCE\\PROJECTS\\GENERATIVE_AI\\llm_engi\n",
      "│   neering\\week8\\pricer_service2.py\n",
      "└── 🔨 Created function Pricer.download_model_to_folder.\n",
      "| Creating objects...\n",
      "├── 🔨 Created mount \n",
      "│   c:\\Users\\iskorpittt\\Desktop\\MY_DATA_SCIENCE\\PROJECTS\\GENERATIVE_AI\\llm_engi\n",
      "│   neering\\week8\\pricer_service2.py\n",
      "└── 🔨 Created function Pricer.download_model_to_folder.\n",
      "- Creating objects...\n",
      "├── 🔨 Created mount \n",
      "│   c:\\Users\\iskorpittt\\Desktop\\MY_DATA_SCIENCE\\PROJECTS\\GENERATIVE_AI\\llm_engi\n",
      "│   neering\\week8\\pricer_service2.py\n",
      "└── 🔨 Created function Pricer.download_model_to_folder.\n",
      "| Creating objects...\n",
      "├── 🔨 Created mount \n",
      "│   c:\\Users\\iskorpittt\\Desktop\\MY_DATA_SCIENCE\\PROJECTS\\GENERATIVE_AI\\llm_engi\n",
      "│   neering\\week8\\pricer_service2.py\n",
      "└── 🔨 Created function Pricer.download_model_to_folder.\n",
      "- Creating objects...\n",
      "├── 🔨 Created mount \n",
      "│   c:\\Users\\iskorpittt\\Desktop\\MY_DATA_SCIENCE\\PROJECTS\\GENERATIVE_AI\\llm_engi\n",
      "│   neering\\week8\\pricer_service2.py\n",
      "└── 🔨 Created function Pricer.download_model_to_folder.\n",
      "| Creating objects...\n",
      "├── 🔨 Created mount \n",
      "│   c:\\Users\\iskorpittt\\Desktop\\MY_DATA_SCIENCE\\PROJECTS\\GENERATIVE_AI\\llm_engi\n",
      "│   neering\\week8\\pricer_service2.py\n",
      "└── 🔨 Created function Pricer.download_model_to_folder.\n",
      "- Creating objects...\n",
      "├── 🔨 Created mount \n",
      "│   c:\\Users\\iskorpittt\\Desktop\\MY_DATA_SCIENCE\\PROJECTS\\GENERATIVE_AI\\llm_engi\n",
      "│   neering\\week8\\pricer_service2.py\n",
      "└── 🔨 Created function Pricer.download_model_to_folder.\n",
      "| Creating objects...\n",
      "├── 🔨 Created mount \n",
      "│   c:\\Users\\iskorpittt\\Desktop\\MY_DATA_SCIENCE\\PROJECTS\\GENERATIVE_AI\\llm_engi\n",
      "│   neering\\week8\\pricer_service2.py\n",
      "└── 🔨 Created function Pricer.download_model_to_folder.\n",
      "- Creating objects...\n",
      "├── 🔨 Created mount \n",
      "│   c:\\Users\\iskorpittt\\Desktop\\MY_DATA_SCIENCE\\PROJECTS\\GENERATIVE_AI\\llm_engi\n",
      "│   neering\\week8\\pricer_service2.py\n",
      "└── 🔨 Created function Pricer.download_model_to_folder.\n",
      "| Creating objects...\n",
      "├── 🔨 Created mount \n",
      "│   c:\\Users\\iskorpittt\\Desktop\\MY_DATA_SCIENCE\\PROJECTS\\GENERATIVE_AI\\llm_engi\n",
      "│   neering\\week8\\pricer_service2.py\n",
      "└── 🔨 Created function Pricer.download_model_to_folder.\n",
      "- Creating objects...\n",
      "├── 🔨 Created mount \n",
      "│   c:\\Users\\iskorpittt\\Desktop\\MY_DATA_SCIENCE\\PROJECTS\\GENERATIVE_AI\\llm_engi\n",
      "│   neering\\week8\\pricer_service2.py\n",
      "└── 🔨 Created function Pricer.download_model_to_folder.\n",
      "| Creating objects...\n",
      "├── 🔨 Created mount \n",
      "│   c:\\Users\\iskorpittt\\Desktop\\MY_DATA_SCIENCE\\PROJECTS\\GENERATIVE_AI\\llm_engi\n",
      "│   neering\\week8\\pricer_service2.py\n",
      "└── 🔨 Created function Pricer.download_model_to_folder.\n",
      "- Creating objects...\n",
      "├── 🔨 Created mount \n",
      "│   c:\\Users\\iskorpittt\\Desktop\\MY_DATA_SCIENCE\\PROJECTS\\GENERATIVE_AI\\llm_engi\n",
      "│   neering\\week8\\pricer_service2.py\n",
      "└── 🔨 Created function Pricer.download_model_to_folder.\n",
      "| Creating objects...\n",
      "├── 🔨 Created mount \n",
      "│   c:\\Users\\iskorpittt\\Desktop\\MY_DATA_SCIENCE\\PROJECTS\\GENERATIVE_AI\\llm_engi\n",
      "│   neering\\week8\\pricer_service2.py\n",
      "└── 🔨 Created function Pricer.download_model_to_folder.\n",
      "- Creating objects...\n",
      "├── 🔨 Created mount \n",
      "│   c:\\Users\\iskorpittt\\Desktop\\MY_DATA_SCIENCE\\PROJECTS\\GENERATIVE_AI\\llm_engi\n",
      "│   neering\\week8\\pricer_service2.py\n",
      "└── 🔨 Created function Pricer.download_model_to_folder.\n",
      "| Creating objects...\n",
      "├── 🔨 Created mount \n",
      "│   c:\\Users\\iskorpittt\\Desktop\\MY_DATA_SCIENCE\\PROJECTS\\GENERATIVE_AI\\llm_engi\n",
      "│   neering\\week8\\pricer_service2.py\n",
      "└── 🔨 Created function Pricer.download_model_to_folder.\n",
      "- Creating objects...\n",
      "├── 🔨 Created mount \n",
      "│   c:\\Users\\iskorpittt\\Desktop\\MY_DATA_SCIENCE\\PROJECTS\\GENERATIVE_AI\\llm_engi\n",
      "│   neering\\week8\\pricer_service2.py\n",
      "└── 🔨 Created function Pricer.download_model_to_folder.\n",
      "| Creating objects...\n",
      "├── 🔨 Created mount \n",
      "│   c:\\Users\\iskorpittt\\Desktop\\MY_DATA_SCIENCE\\PROJECTS\\GENERATIVE_AI\\llm_engi\n",
      "│   neering\\week8\\pricer_service2.py\n",
      "└── 🔨 Created function Pricer.download_model_to_folder.\n",
      "- Creating objects...\n",
      "├── 🔨 Created mount \n",
      "│   c:\\Users\\iskorpittt\\Desktop\\MY_DATA_SCIENCE\\PROJECTS\\GENERATIVE_AI\\llm_engi\n",
      "│   neering\\week8\\pricer_service2.py\n",
      "└── 🔨 Created function Pricer.download_model_to_folder.\n",
      "| Creating objects...\n",
      "├── 🔨 Created mount \n",
      "│   c:\\Users\\iskorpittt\\Desktop\\MY_DATA_SCIENCE\\PROJECTS\\GENERATIVE_AI\\llm_engi\n",
      "│   neering\\week8\\pricer_service2.py\n",
      "└── 🔨 Created function Pricer.download_model_to_folder.\n",
      "- Creating objects...\n",
      "├── 🔨 Created mount \n",
      "│   c:\\Users\\iskorpittt\\Desktop\\MY_DATA_SCIENCE\\PROJECTS\\GENERATIVE_AI\\llm_engi\n",
      "│   neering\\week8\\pricer_service2.py\n",
      "└── 🔨 Created function Pricer.download_model_to_folder.\n",
      "| Creating objects...\n",
      "├── 🔨 Created mount \n",
      "│   c:\\Users\\iskorpittt\\Desktop\\MY_DATA_SCIENCE\\PROJECTS\\GENERATIVE_AI\\llm_engi\n",
      "│   neering\\week8\\pricer_service2.py\n",
      "└── 🔨 Created function Pricer.download_model_to_folder.\n",
      "- Creating objects...\n",
      "├── 🔨 Created mount \n",
      "│   c:\\Users\\iskorpittt\\Desktop\\MY_DATA_SCIENCE\\PROJECTS\\GENERATIVE_AI\\llm_engi\n",
      "│   neering\\week8\\pricer_service2.py\n",
      "└── 🔨 Created function Pricer.download_model_to_folder.\n",
      "| Creating objects...\n",
      "├── 🔨 Created mount \n",
      "│   c:\\Users\\iskorpittt\\Desktop\\MY_DATA_SCIENCE\\PROJECTS\\GENERATIVE_AI\\llm_engi\n",
      "│   neering\\week8\\pricer_service2.py\n",
      "└── 🔨 Created function Pricer.download_model_to_folder.\n",
      "- Creating objects...\n",
      "├── 🔨 Created mount \n",
      "│   c:\\Users\\iskorpittt\\Desktop\\MY_DATA_SCIENCE\\PROJECTS\\GENERATIVE_AI\\llm_engi\n",
      "│   neering\\week8\\pricer_service2.py\n",
      "└── 🔨 Created function Pricer.download_model_to_folder.\n",
      "| Creating objects...\n",
      "├── 🔨 Created mount \n",
      "│   c:\\Users\\iskorpittt\\Desktop\\MY_DATA_SCIENCE\\PROJECTS\\GENERATIVE_AI\\llm_engi\n",
      "│   neering\\week8\\pricer_service2.py\n",
      "└── 🔨 Created function Pricer.download_model_to_folder.\n",
      "- Creating objects...\n",
      "├── 🔨 Created mount \n",
      "│   c:\\Users\\iskorpittt\\Desktop\\MY_DATA_SCIENCE\\PROJECTS\\GENERATIVE_AI\\llm_engi\n",
      "│   neering\\week8\\pricer_service2.py\n",
      "└── 🔨 Created function Pricer.download_model_to_folder.\n",
      "| Creating objects...\n",
      "├── 🔨 Created mount \n",
      "│   c:\\Users\\iskorpittt\\Desktop\\MY_DATA_SCIENCE\\PROJECTS\\GENERATIVE_AI\\llm_engi\n",
      "│   neering\\week8\\pricer_service2.py\n",
      "└── 🔨 Created function Pricer.download_model_to_folder.\n",
      "- Creating objects...\n",
      "├── 🔨 Created mount \n",
      "│   c:\\Users\\iskorpittt\\Desktop\\MY_DATA_SCIENCE\\PROJECTS\\GENERATIVE_AI\\llm_engi\n",
      "│   neering\\week8\\pricer_service2.py\n",
      "└── 🔨 Created function Pricer.download_model_to_folder.\n",
      "| Creating objects...\n",
      "├── 🔨 Created mount \n",
      "│   c:\\Users\\iskorpittt\\Desktop\\MY_DATA_SCIENCE\\PROJECTS\\GENERATIVE_AI\\llm_engi\n",
      "│   neering\\week8\\pricer_service2.py\n",
      "└── 🔨 Created function Pricer.download_model_to_folder.\n",
      "- Creating objects...\n",
      "├── 🔨 Created mount \n",
      "│   c:\\Users\\iskorpittt\\Desktop\\MY_DATA_SCIENCE\\PROJECTS\\GENERATIVE_AI\\llm_engi\n",
      "│   neering\\week8\\pricer_service2.py\n",
      "└── 🔨 Created function Pricer.download_model_to_folder.\n",
      "| Creating objects...\n",
      "├── 🔨 Created mount \n",
      "│   c:\\Users\\iskorpittt\\Desktop\\MY_DATA_SCIENCE\\PROJECTS\\GENERATIVE_AI\\llm_engi\n",
      "│   neering\\week8\\pricer_service2.py\n",
      "└── 🔨 Created function Pricer.download_model_to_folder.\n",
      "- Creating objects...\n",
      "├── 🔨 Created mount \n",
      "│   c:\\Users\\iskorpittt\\Desktop\\MY_DATA_SCIENCE\\PROJECTS\\GENERATIVE_AI\\llm_engi\n",
      "│   neering\\week8\\pricer_service2.py\n",
      "└── 🔨 Created function Pricer.download_model_to_folder.\n",
      "| Creating objects...\n",
      "├── 🔨 Created mount \n",
      "│   c:\\Users\\iskorpittt\\Desktop\\MY_DATA_SCIENCE\\PROJECTS\\GENERATIVE_AI\\llm_engi\n",
      "│   neering\\week8\\pricer_service2.py\n",
      "└── 🔨 Created function Pricer.download_model_to_folder.\n",
      "- Creating objects...\n",
      "├── 🔨 Created mount \n",
      "│   c:\\Users\\iskorpittt\\Desktop\\MY_DATA_SCIENCE\\PROJECTS\\GENERATIVE_AI\\llm_engi\n",
      "│   neering\\week8\\pricer_service2.py\n",
      "└── 🔨 Created function Pricer.download_model_to_folder.\n",
      "| Creating objects...\n",
      "├── 🔨 Created mount \n",
      "│   c:\\Users\\iskorpittt\\Desktop\\MY_DATA_SCIENCE\\PROJECTS\\GENERATIVE_AI\\llm_engi\n",
      "│   neering\\week8\\pricer_service2.py\n",
      "└── 🔨 Created function Pricer.download_model_to_folder.\n",
      "- Creating objects...\n",
      "├── 🔨 Created mount \n",
      "│   c:\\Users\\iskorpittt\\Desktop\\MY_DATA_SCIENCE\\PROJECTS\\GENERATIVE_AI\\llm_engi\n",
      "│   neering\\week8\\pricer_service2.py\n",
      "└── 🔨 Created function Pricer.download_model_to_folder.\n",
      "| Creating objects...\n",
      "├── 🔨 Created mount \n",
      "│   c:\\Users\\iskorpittt\\Desktop\\MY_DATA_SCIENCE\\PROJECTS\\GENERATIVE_AI\\llm_engi\n",
      "│   neering\\week8\\pricer_service2.py\n",
      "└── 🔨 Created function Pricer.download_model_to_folder.\n",
      "- Creating objects...\n",
      "├── 🔨 Created mount \n",
      "│   c:\\Users\\iskorpittt\\Desktop\\MY_DATA_SCIENCE\\PROJECTS\\GENERATIVE_AI\\llm_engi\n",
      "│   neering\\week8\\pricer_service2.py\n",
      "└── 🔨 Created function Pricer.download_model_to_folder.\n",
      "| Creating objects...\n",
      "├── 🔨 Created mount \n",
      "│   c:\\Users\\iskorpittt\\Desktop\\MY_DATA_SCIENCE\\PROJECTS\\GENERATIVE_AI\\llm_engi\n",
      "│   neering\\week8\\pricer_service2.py\n",
      "└── 🔨 Created function Pricer.download_model_to_folder.\n",
      "- Creating objects...\n",
      "├── 🔨 Created mount \n",
      "│   c:\\Users\\iskorpittt\\Desktop\\MY_DATA_SCIENCE\\PROJECTS\\GENERATIVE_AI\\llm_engi\n",
      "│   neering\\week8\\pricer_service2.py\n",
      "└── 🔨 Created function Pricer.download_model_to_folder.\n",
      "| Creating objects...\n",
      "├── 🔨 Created mount \n",
      "│   c:\\Users\\iskorpittt\\Desktop\\MY_DATA_SCIENCE\\PROJECTS\\GENERATIVE_AI\\llm_engi\n",
      "│   neering\\week8\\pricer_service2.py\n",
      "└── 🔨 Created function Pricer.download_model_to_folder.\n",
      "- Creating objects...\n",
      "├── 🔨 Created mount \n",
      "│   c:\\Users\\iskorpittt\\Desktop\\MY_DATA_SCIENCE\\PROJECTS\\GENERATIVE_AI\\llm_engi\n",
      "│   neering\\week8\\pricer_service2.py\n",
      "└── 🔨 Created function Pricer.download_model_to_folder.\n",
      "| Creating objects...\n",
      "├── 🔨 Created mount \n",
      "│   c:\\Users\\iskorpittt\\Desktop\\MY_DATA_SCIENCE\\PROJECTS\\GENERATIVE_AI\\llm_engi\n",
      "│   neering\\week8\\pricer_service2.py\n",
      "└── 🔨 Created function Pricer.download_model_to_folder.\n",
      "- Creating objects...\n",
      "├── 🔨 Created mount \n",
      "│   c:\\Users\\iskorpittt\\Desktop\\MY_DATA_SCIENCE\\PROJECTS\\GENERATIVE_AI\\llm_engi\n",
      "│   neering\\week8\\pricer_service2.py\n",
      "└── 🔨 Created function Pricer.download_model_to_folder.\n",
      "| Creating objects...\n",
      "├── 🔨 Created mount \n",
      "│   c:\\Users\\iskorpittt\\Desktop\\MY_DATA_SCIENCE\\PROJECTS\\GENERATIVE_AI\\llm_engi\n",
      "│   neering\\week8\\pricer_service2.py\n",
      "└── 🔨 Created function Pricer.download_model_to_folder.\n",
      "- Creating objects...\n",
      "├── 🔨 Created mount \n",
      "│   c:\\Users\\iskorpittt\\Desktop\\MY_DATA_SCIENCE\\PROJECTS\\GENERATIVE_AI\\llm_engi\n",
      "│   neering\\week8\\pricer_service2.py\n",
      "└── 🔨 Created function Pricer.download_model_to_folder.\n",
      "| Creating objects...\n",
      "├── 🔨 Created mount \n",
      "│   c:\\Users\\iskorpittt\\Desktop\\MY_DATA_SCIENCE\\PROJECTS\\GENERATIVE_AI\\llm_engi\n",
      "│   neering\\week8\\pricer_service2.py\n",
      "└── 🔨 Created function Pricer.download_model_to_folder.\n",
      "- Creating objects...\n",
      "├── 🔨 Created mount \n",
      "│   c:\\Users\\iskorpittt\\Desktop\\MY_DATA_SCIENCE\\PROJECTS\\GENERATIVE_AI\\llm_engi\n",
      "│   neering\\week8\\pricer_service2.py\n",
      "└── 🔨 Created function Pricer.download_model_to_folder.\n",
      "| Creating objects...\n",
      "├── 🔨 Created mount \n",
      "│   c:\\Users\\iskorpittt\\Desktop\\MY_DATA_SCIENCE\\PROJECTS\\GENERATIVE_AI\\llm_engi\n",
      "│   neering\\week8\\pricer_service2.py\n",
      "└── 🔨 Created function Pricer.download_model_to_folder.\n",
      "- Creating objects...\n",
      "├── 🔨 Created mount \n",
      "│   c:\\Users\\iskorpittt\\Desktop\\MY_DATA_SCIENCE\\PROJECTS\\GENERATIVE_AI\\llm_engi\n",
      "│   neering\\week8\\pricer_service2.py\n",
      "└── 🔨 Created function Pricer.download_model_to_folder.\n",
      "| Creating objects...\n",
      "├── 🔨 Created mount \n",
      "│   c:\\Users\\iskorpittt\\Desktop\\MY_DATA_SCIENCE\\PROJECTS\\GENERATIVE_AI\\llm_engi\n",
      "│   neering\\week8\\pricer_service2.py\n",
      "└── 🔨 Created function Pricer.download_model_to_folder.\n",
      "- Creating objects...\n",
      "├── 🔨 Created mount \n",
      "│   c:\\Users\\iskorpittt\\Desktop\\MY_DATA_SCIENCE\\PROJECTS\\GENERATIVE_AI\\llm_engi\n",
      "│   neering\\week8\\pricer_service2.py\n",
      "└── 🔨 Created function Pricer.download_model_to_folder.\n",
      "| Creating objects...\n",
      "├── 🔨 Created mount \n",
      "│   c:\\Users\\iskorpittt\\Desktop\\MY_DATA_SCIENCE\\PROJECTS\\GENERATIVE_AI\\llm_engi\n",
      "│   neering\\week8\\pricer_service2.py\n",
      "└── 🔨 Created function Pricer.download_model_to_folder.\n",
      "- Creating objects...\n",
      "├── 🔨 Created mount \n",
      "│   c:\\Users\\iskorpittt\\Desktop\\MY_DATA_SCIENCE\\PROJECTS\\GENERATIVE_AI\\llm_engi\n",
      "│   neering\\week8\\pricer_service2.py\n",
      "└── 🔨 Created function Pricer.download_model_to_folder.\n",
      "| Creating objects...\n",
      "├── 🔨 Created mount \n",
      "│   c:\\Users\\iskorpittt\\Desktop\\MY_DATA_SCIENCE\\PROJECTS\\GENERATIVE_AI\\llm_engi\n",
      "│   neering\\week8\\pricer_service2.py\n",
      "└── 🔨 Created function Pricer.download_model_to_folder.\n",
      "- Creating objects...\n",
      "├── 🔨 Created mount \n",
      "│   c:\\Users\\iskorpittt\\Desktop\\MY_DATA_SCIENCE\\PROJECTS\\GENERATIVE_AI\\llm_engi\n",
      "│   neering\\week8\\pricer_service2.py\n",
      "└── 🔨 Created function Pricer.download_model_to_folder.\n",
      "| Creating objects...\n",
      "├── 🔨 Created mount \n",
      "│   c:\\Users\\iskorpittt\\Desktop\\MY_DATA_SCIENCE\\PROJECTS\\GENERATIVE_AI\\llm_engi\n",
      "│   neering\\week8\\pricer_service2.py\n",
      "└── 🔨 Created function Pricer.download_model_to_folder.\n",
      "- Creating objects...\n",
      "├── 🔨 Created mount \n",
      "│   c:\\Users\\iskorpittt\\Desktop\\MY_DATA_SCIENCE\\PROJECTS\\GENERATIVE_AI\\llm_engi\n",
      "│   neering\\week8\\pricer_service2.py\n",
      "└── 🔨 Created function Pricer.download_model_to_folder.\n",
      "| Creating objects...\n",
      "├── 🔨 Created mount \n",
      "│   c:\\Users\\iskorpittt\\Desktop\\MY_DATA_SCIENCE\\PROJECTS\\GENERATIVE_AI\\llm_engi\n",
      "│   neering\\week8\\pricer_service2.py\n",
      "└── 🔨 Created function Pricer.download_model_to_folder.\n",
      "- Creating objects...\n",
      "├── 🔨 Created mount \n",
      "│   c:\\Users\\iskorpittt\\Desktop\\MY_DATA_SCIENCE\\PROJECTS\\GENERATIVE_AI\\llm_engi\n",
      "│   neering\\week8\\pricer_service2.py\n",
      "└── 🔨 Created function Pricer.download_model_to_folder.\n",
      "| Creating objects...\n",
      "├── 🔨 Created mount \n",
      "│   c:\\Users\\iskorpittt\\Desktop\\MY_DATA_SCIENCE\\PROJECTS\\GENERATIVE_AI\\llm_engi\n",
      "│   neering\\week8\\pricer_service2.py\n",
      "└── 🔨 Created function Pricer.download_model_to_folder.\n",
      "- Creating objects...\n",
      "├── 🔨 Created mount \n",
      "│   c:\\Users\\iskorpittt\\Desktop\\MY_DATA_SCIENCE\\PROJECTS\\GENERATIVE_AI\\llm_engi\n",
      "│   neering\\week8\\pricer_service2.py\n",
      "└── 🔨 Created function Pricer.download_model_to_folder.\n",
      "| Creating objects...\n",
      "├── 🔨 Created mount \n",
      "│   c:\\Users\\iskorpittt\\Desktop\\MY_DATA_SCIENCE\\PROJECTS\\GENERATIVE_AI\\llm_engi\n",
      "│   neering\\week8\\pricer_service2.py\n",
      "└── 🔨 Created function Pricer.download_model_to_folder.\n",
      "- Creating objects...\n",
      "├── 🔨 Created mount \n",
      "│   c:\\Users\\iskorpittt\\Desktop\\MY_DATA_SCIENCE\\PROJECTS\\GENERATIVE_AI\\llm_engi\n",
      "│   neering\\week8\\pricer_service2.py\n",
      "└── 🔨 Created function Pricer.download_model_to_folder.\n",
      "| Creating objects...\n",
      "├── 🔨 Created mount \n",
      "│   c:\\Users\\iskorpittt\\Desktop\\MY_DATA_SCIENCE\\PROJECTS\\GENERATIVE_AI\\llm_engi\n",
      "│   neering\\week8\\pricer_service2.py\n",
      "└── 🔨 Created function Pricer.download_model_to_folder.\n",
      "- Creating objects...\n",
      "├── 🔨 Created mount \n",
      "│   c:\\Users\\iskorpittt\\Desktop\\MY_DATA_SCIENCE\\PROJECTS\\GENERATIVE_AI\\llm_engi\n",
      "│   neering\\week8\\pricer_service2.py\n",
      "└── 🔨 Created function Pricer.download_model_to_folder.\n",
      "| Creating objects...\n",
      "├── 🔨 Created mount \n",
      "│   c:\\Users\\iskorpittt\\Desktop\\MY_DATA_SCIENCE\\PROJECTS\\GENERATIVE_AI\\llm_engi\n",
      "│   neering\\week8\\pricer_service2.py\n",
      "└── 🔨 Created function Pricer.download_model_to_folder.\n",
      "- Creating objects...\n",
      "├── 🔨 Created mount \n",
      "│   c:\\Users\\iskorpittt\\Desktop\\MY_DATA_SCIENCE\\PROJECTS\\GENERATIVE_AI\\llm_engi\n",
      "│   neering\\week8\\pricer_service2.py\n",
      "└── 🔨 Created function Pricer.download_model_to_folder.\n",
      "| Creating objects...\n",
      "├── 🔨 Created mount \n",
      "│   c:\\Users\\iskorpittt\\Desktop\\MY_DATA_SCIENCE\\PROJECTS\\GENERATIVE_AI\\llm_engi\n",
      "│   neering\\week8\\pricer_service2.py\n",
      "└── 🔨 Created function Pricer.download_model_to_folder.\n",
      "- Creating objects...\n",
      "├── 🔨 Created mount \n",
      "│   c:\\Users\\iskorpittt\\Desktop\\MY_DATA_SCIENCE\\PROJECTS\\GENERATIVE_AI\\llm_engi\n",
      "│   neering\\week8\\pricer_service2.py\n",
      "└── 🔨 Created function Pricer.download_model_to_folder.\n",
      "| Creating objects...\n",
      "├── 🔨 Created mount \n",
      "│   c:\\Users\\iskorpittt\\Desktop\\MY_DATA_SCIENCE\\PROJECTS\\GENERATIVE_AI\\llm_engi\n",
      "│   neering\\week8\\pricer_service2.py\n",
      "└── 🔨 Created function Pricer.download_model_to_folder.\n",
      "- Creating objects...\n",
      "├── 🔨 Created mount \n",
      "│   c:\\Users\\iskorpittt\\Desktop\\MY_DATA_SCIENCE\\PROJECTS\\GENERATIVE_AI\\llm_engi\n",
      "│   neering\\week8\\pricer_service2.py\n",
      "└── 🔨 Created function Pricer.download_model_to_folder.\n",
      "| Creating objects...\n",
      "├── 🔨 Created mount \n",
      "│   c:\\Users\\iskorpittt\\Desktop\\MY_DATA_SCIENCE\\PROJECTS\\GENERATIVE_AI\\llm_engi\n",
      "│   neering\\week8\\pricer_service2.py\n",
      "└── 🔨 Created function Pricer.download_model_to_folder.\n",
      "- Creating objects...\n",
      "├── 🔨 Created mount \n",
      "│   c:\\Users\\iskorpittt\\Desktop\\MY_DATA_SCIENCE\\PROJECTS\\GENERATIVE_AI\\llm_engi\n",
      "│   neering\\week8\\pricer_service2.py\n",
      "└── 🔨 Created function Pricer.download_model_to_folder.\n",
      "| Creating objects...\n",
      "├── 🔨 Created mount \n",
      "│   c:\\Users\\iskorpittt\\Desktop\\MY_DATA_SCIENCE\\PROJECTS\\GENERATIVE_AI\\llm_engi\n",
      "│   neering\\week8\\pricer_service2.py\n",
      "└── 🔨 Created function Pricer.download_model_to_folder.\n",
      "- Creating objects...\n",
      "├── 🔨 Created mount \n",
      "│   c:\\Users\\iskorpittt\\Desktop\\MY_DATA_SCIENCE\\PROJECTS\\GENERATIVE_AI\\llm_engi\n",
      "│   neering\\week8\\pricer_service2.py\n",
      "└── 🔨 Created function Pricer.download_model_to_folder.\n",
      "| Creating objects...\n",
      "├── 🔨 Created mount \n",
      "│   c:\\Users\\iskorpittt\\Desktop\\MY_DATA_SCIENCE\\PROJECTS\\GENERATIVE_AI\\llm_engi\n",
      "│   neering\\week8\\pricer_service2.py\n",
      "└── 🔨 Created function Pricer.download_model_to_folder.\n",
      "- Creating objects...\n",
      "├── 🔨 Created mount \n",
      "│   c:\\Users\\iskorpittt\\Desktop\\MY_DATA_SCIENCE\\PROJECTS\\GENERATIVE_AI\\llm_engi\n",
      "│   neering\\week8\\pricer_service2.py\n",
      "└── 🔨 Created function Pricer.download_model_to_folder.\n",
      "| Creating objects...\n",
      "├── 🔨 Created mount \n",
      "│   c:\\Users\\iskorpittt\\Desktop\\MY_DATA_SCIENCE\\PROJECTS\\GENERATIVE_AI\\llm_engi\n",
      "│   neering\\week8\\pricer_service2.py\n",
      "└── 🔨 Created function Pricer.download_model_to_folder.\n",
      "- Creating objects...\n",
      "├── 🔨 Created mount \n",
      "│   c:\\Users\\iskorpittt\\Desktop\\MY_DATA_SCIENCE\\PROJECTS\\GENERATIVE_AI\\llm_engi\n",
      "│   neering\\week8\\pricer_service2.py\n",
      "└── 🔨 Created function Pricer.download_model_to_folder.\n",
      "| Creating objects...\n",
      "├── 🔨 Created mount \n",
      "│   c:\\Users\\iskorpittt\\Desktop\\MY_DATA_SCIENCE\\PROJECTS\\GENERATIVE_AI\\llm_engi\n",
      "│   neering\\week8\\pricer_service2.py\n",
      "└── 🔨 Created function Pricer.download_model_to_folder.\n",
      "- Creating objects...\n",
      "├── 🔨 Created mount \n",
      "│   c:\\Users\\iskorpittt\\Desktop\\MY_DATA_SCIENCE\\PROJECTS\\GENERATIVE_AI\\llm_engi\n",
      "│   neering\\week8\\pricer_service2.py\n",
      "└── 🔨 Created function Pricer.download_model_to_folder.\n",
      "| Creating objects...\n",
      "├── 🔨 Created mount \n",
      "│   c:\\Users\\iskorpittt\\Desktop\\MY_DATA_SCIENCE\\PROJECTS\\GENERATIVE_AI\\llm_engi\n",
      "│   neering\\week8\\pricer_service2.py\n",
      "└── 🔨 Created function Pricer.download_model_to_folder.\n",
      "- Creating objects...\n",
      "├── 🔨 Created mount \n",
      "│   c:\\Users\\iskorpittt\\Desktop\\MY_DATA_SCIENCE\\PROJECTS\\GENERATIVE_AI\\llm_engi\n",
      "│   neering\\week8\\pricer_service2.py\n",
      "└── 🔨 Created function Pricer.download_model_to_folder.\n",
      "| Creating objects...\n",
      "├── 🔨 Created mount \n",
      "│   c:\\Users\\iskorpittt\\Desktop\\MY_DATA_SCIENCE\\PROJECTS\\GENERATIVE_AI\\llm_engi\n",
      "│   neering\\week8\\pricer_service2.py\n",
      "└── 🔨 Created function Pricer.download_model_to_folder.\n",
      "- Creating objects...\n",
      "├── 🔨 Created mount \n",
      "│   c:\\Users\\iskorpittt\\Desktop\\MY_DATA_SCIENCE\\PROJECTS\\GENERATIVE_AI\\llm_engi\n",
      "│   neering\\week8\\pricer_service2.py\n",
      "└── 🔨 Created function Pricer.download_model_to_folder.\n",
      "| Creating objects...\n",
      "├── 🔨 Created mount \n",
      "│   c:\\Users\\iskorpittt\\Desktop\\MY_DATA_SCIENCE\\PROJECTS\\GENERATIVE_AI\\llm_engi\n",
      "│   neering\\week8\\pricer_service2.py\n",
      "└── 🔨 Created function Pricer.download_model_to_folder.\n",
      "- Creating objects...\n",
      "├── 🔨 Created mount \n",
      "│   c:\\Users\\iskorpittt\\Desktop\\MY_DATA_SCIENCE\\PROJECTS\\GENERATIVE_AI\\llm_engi\n",
      "│   neering\\week8\\pricer_service2.py\n",
      "└── 🔨 Created function Pricer.download_model_to_folder.\n",
      "| Creating objects...\n",
      "├── 🔨 Created mount \n",
      "│   c:\\Users\\iskorpittt\\Desktop\\MY_DATA_SCIENCE\\PROJECTS\\GENERATIVE_AI\\llm_engi\n",
      "│   neering\\week8\\pricer_service2.py\n",
      "└── 🔨 Created function Pricer.download_model_to_folder.\n",
      "- Creating objects...\n",
      "├── 🔨 Created mount \n",
      "│   c:\\Users\\iskorpittt\\Desktop\\MY_DATA_SCIENCE\\PROJECTS\\GENERATIVE_AI\\llm_engi\n",
      "│   neering\\week8\\pricer_service2.py\n",
      "└── 🔨 Created function Pricer.download_model_to_folder.\n",
      "| Creating objects...\n",
      "├── 🔨 Created mount \n",
      "│   c:\\Users\\iskorpittt\\Desktop\\MY_DATA_SCIENCE\\PROJECTS\\GENERATIVE_AI\\llm_engi\n",
      "│   neering\\week8\\pricer_service2.py\n",
      "└── 🔨 Created function Pricer.download_model_to_folder.\n",
      "- Creating objects...\n",
      "├── 🔨 Created mount \n",
      "│   c:\\Users\\iskorpittt\\Desktop\\MY_DATA_SCIENCE\\PROJECTS\\GENERATIVE_AI\\llm_engi\n",
      "│   neering\\week8\\pricer_service2.py\n",
      "└── 🔨 Created function Pricer.download_model_to_folder.\n",
      "| Creating objects...\n",
      "├── 🔨 Created mount \n",
      "│   c:\\Users\\iskorpittt\\Desktop\\MY_DATA_SCIENCE\\PROJECTS\\GENERATIVE_AI\\llm_engi\n",
      "│   neering\\week8\\pricer_service2.py\n",
      "└── 🔨 Created function Pricer.download_model_to_folder.\n",
      "- Creating objects...\n",
      "├── 🔨 Created mount \n",
      "│   c:\\Users\\iskorpittt\\Desktop\\MY_DATA_SCIENCE\\PROJECTS\\GENERATIVE_AI\\llm_engi\n",
      "│   neering\\week8\\pricer_service2.py\n",
      "└── 🔨 Created function Pricer.download_model_to_folder.\n",
      "| Creating objects...\n",
      "├── 🔨 Created mount \n",
      "│   c:\\Users\\iskorpittt\\Desktop\\MY_DATA_SCIENCE\\PROJECTS\\GENERATIVE_AI\\llm_engi\n",
      "│   neering\\week8\\pricer_service2.py\n",
      "└── 🔨 Created function Pricer.download_model_to_folder.\n",
      "\\ Creating objects...\n",
      "├── 🔨 Created mount \n",
      "│   c:\\Users\\iskorpittt\\Desktop\\MY_DATA_SCIENCE\\PROJECTS\\GENERATIVE_AI\\llm_engi\n",
      "│   neering\\week8\\pricer_service2.py\n",
      "└── 🔨 Created function Pricer.download_model_to_folder.\n",
      "/ Creating objects...\n",
      "├── 🔨 Created mount \n",
      "│   c:\\Users\\iskorpittt\\Desktop\\MY_DATA_SCIENCE\\PROJECTS\\GENERATIVE_AI\\llm_engi\n",
      "│   neering\\week8\\pricer_service2.py\n",
      "└── 🔨 Created function Pricer.download_model_to_folder.\n",
      "\\ Creating objects...\n",
      "├── 🔨 Created mount \n",
      "│   c:\\Users\\iskorpittt\\Desktop\\MY_DATA_SCIENCE\\PROJECTS\\GENERATIVE_AI\\llm_engi\n",
      "│   neering\\week8\\pricer_service2.py\n",
      "└── 🔨 Created function Pricer.download_model_to_folder.\n",
      "/ Creating objects...\n",
      "├── 🔨 Created mount \n",
      "│   c:\\Users\\iskorpittt\\Desktop\\MY_DATA_SCIENCE\\PROJECTS\\GENERATIVE_AI\\llm_engi\n",
      "│   neering\\week8\\pricer_service2.py\n",
      "└── 🔨 Created function Pricer.download_model_to_folder.\n",
      "\\ Creating objects...\n",
      "├── 🔨 Created mount \n",
      "│   c:\\Users\\iskorpittt\\Desktop\\MY_DATA_SCIENCE\\PROJECTS\\GENERATIVE_AI\\llm_engi\n",
      "│   neering\\week8\\pricer_service2.py\n",
      "└── 🔨 Created function Pricer.download_model_to_folder.\n",
      "/ Creating objects...\n",
      "├── 🔨 Created mount \n",
      "│   c:\\Users\\iskorpittt\\Desktop\\MY_DATA_SCIENCE\\PROJECTS\\GENERATIVE_AI\\llm_engi\n",
      "│   neering\\week8\\pricer_service2.py\n",
      "└── 🔨 Created function Pricer.download_model_to_folder.\n",
      "\\ Creating objects...\n",
      "├── 🔨 Created mount \n",
      "│   c:\\Users\\iskorpittt\\Desktop\\MY_DATA_SCIENCE\\PROJECTS\\GENERATIVE_AI\\llm_engi\n",
      "│   neering\\week8\\pricer_service2.py\n",
      "└── 🔨 Created function Pricer.download_model_to_folder.\n",
      "/ Creating objects...\n",
      "├── 🔨 Created mount \n",
      "│   c:\\Users\\iskorpittt\\Desktop\\MY_DATA_SCIENCE\\PROJECTS\\GENERATIVE_AI\\llm_engi\n",
      "│   neering\\week8\\pricer_service2.py\n",
      "└── 🔨 Created function Pricer.download_model_to_folder.\n",
      "\\ Creating objects...\n",
      "├── 🔨 Created mount \n",
      "│   c:\\Users\\iskorpittt\\Desktop\\MY_DATA_SCIENCE\\PROJECTS\\GENERATIVE_AI\\llm_engi\n",
      "│   neering\\week8\\pricer_service2.py\n",
      "└── 🔨 Created function Pricer.download_model_to_folder.\n",
      "/ Creating objects...\n",
      "├── 🔨 Created mount \n",
      "│   c:\\Users\\iskorpittt\\Desktop\\MY_DATA_SCIENCE\\PROJECTS\\GENERATIVE_AI\\llm_engi\n",
      "│   neering\\week8\\pricer_service2.py\n",
      "└── 🔨 Created function Pricer.download_model_to_folder.\n",
      "\\ Creating objects...\n",
      "├── 🔨 Created mount \n",
      "│   c:\\Users\\iskorpittt\\Desktop\\MY_DATA_SCIENCE\\PROJECTS\\GENERATIVE_AI\\llm_engi\n",
      "│   neering\\week8\\pricer_service2.py\n",
      "└── 🔨 Created function Pricer.download_model_to_folder.\n",
      "/ Creating objects...\n",
      "├── 🔨 Created mount \n",
      "│   c:\\Users\\iskorpittt\\Desktop\\MY_DATA_SCIENCE\\PROJECTS\\GENERATIVE_AI\\llm_engi\n",
      "│   neering\\week8\\pricer_service2.py\n",
      "└── 🔨 Created function Pricer.download_model_to_folder.\n",
      "\\ Creating objects...\n",
      "├── 🔨 Created mount \n",
      "│   c:\\Users\\iskorpittt\\Desktop\\MY_DATA_SCIENCE\\PROJECTS\\GENERATIVE_AI\\llm_engi\n",
      "│   neering\\week8\\pricer_service2.py\n",
      "└── 🔨 Created function Pricer.download_model_to_folder.\n",
      "/ Creating objects...\n",
      "├── 🔨 Created mount \n",
      "│   c:\\Users\\iskorpittt\\Desktop\\MY_DATA_SCIENCE\\PROJECTS\\GENERATIVE_AI\\llm_engi\n",
      "│   neering\\week8\\pricer_service2.py\n",
      "└── 🔨 Created function Pricer.download_model_to_folder.\n",
      "\\ Creating objects...\n",
      "├── 🔨 Created mount \n",
      "│   c:\\Users\\iskorpittt\\Desktop\\MY_DATA_SCIENCE\\PROJECTS\\GENERATIVE_AI\\llm_engi\n",
      "│   neering\\week8\\pricer_service2.py\n",
      "└── 🔨 Created function Pricer.download_model_to_folder.\n",
      "/ Creating objects...\n",
      "├── 🔨 Created mount \n",
      "│   c:\\Users\\iskorpittt\\Desktop\\MY_DATA_SCIENCE\\PROJECTS\\GENERATIVE_AI\\llm_engi\n",
      "│   neering\\week8\\pricer_service2.py\n",
      "└── 🔨 Created function Pricer.download_model_to_folder.\n",
      "\\ Creating objects...\n",
      "├── 🔨 Created mount \n",
      "│   c:\\Users\\iskorpittt\\Desktop\\MY_DATA_SCIENCE\\PROJECTS\\GENERATIVE_AI\\llm_engi\n",
      "│   neering\\week8\\pricer_service2.py\n",
      "└── 🔨 Created function Pricer.download_model_to_folder.\n",
      "/ Creating objects...\n",
      "├── 🔨 Created mount \n",
      "│   c:\\Users\\iskorpittt\\Desktop\\MY_DATA_SCIENCE\\PROJECTS\\GENERATIVE_AI\\llm_engi\n",
      "│   neering\\week8\\pricer_service2.py\n",
      "└── 🔨 Created function Pricer.download_model_to_folder.\n",
      "\\ Creating objects...\n",
      "├── 🔨 Created mount \n",
      "│   c:\\Users\\iskorpittt\\Desktop\\MY_DATA_SCIENCE\\PROJECTS\\GENERATIVE_AI\\llm_engi\n",
      "│   neering\\week8\\pricer_service2.py\n",
      "└── 🔨 Created function Pricer.download_model_to_folder.\n",
      "/ Creating objects...\n",
      "├── 🔨 Created mount \n",
      "│   c:\\Users\\iskorpittt\\Desktop\\MY_DATA_SCIENCE\\PROJECTS\\GENERATIVE_AI\\llm_engi\n",
      "│   neering\\week8\\pricer_service2.py\n",
      "└── 🔨 Created function Pricer.download_model_to_folder.\n",
      "\\ Creating objects...\n",
      "├── 🔨 Created mount \n",
      "│   c:\\Users\\iskorpittt\\Desktop\\MY_DATA_SCIENCE\\PROJECTS\\GENERATIVE_AI\\llm_engi\n",
      "│   neering\\week8\\pricer_service2.py\n",
      "└── 🔨 Created function Pricer.download_model_to_folder.\n",
      "/ Creating objects...\n",
      "├── 🔨 Created mount \n",
      "│   c:\\Users\\iskorpittt\\Desktop\\MY_DATA_SCIENCE\\PROJECTS\\GENERATIVE_AI\\llm_engi\n",
      "│   neering\\week8\\pricer_service2.py\n",
      "└── 🔨 Created function Pricer.download_model_to_folder.\n",
      "\\ Creating objects...\n",
      "├── 🔨 Created mount \n",
      "│   c:\\Users\\iskorpittt\\Desktop\\MY_DATA_SCIENCE\\PROJECTS\\GENERATIVE_AI\\llm_engi\n",
      "│   neering\\week8\\pricer_service2.py\n",
      "└── 🔨 Created function Pricer.download_model_to_folder.\n",
      "/ Creating objects...\n",
      "├── 🔨 Created mount \n",
      "│   c:\\Users\\iskorpittt\\Desktop\\MY_DATA_SCIENCE\\PROJECTS\\GENERATIVE_AI\\llm_engi\n",
      "│   neering\\week8\\pricer_service2.py\n",
      "└── 🔨 Created function Pricer.download_model_to_folder.\n",
      "\\ Creating objects...\n",
      "├── 🔨 Created mount \n",
      "│   c:\\Users\\iskorpittt\\Desktop\\MY_DATA_SCIENCE\\PROJECTS\\GENERATIVE_AI\\llm_engi\n",
      "│   neering\\week8\\pricer_service2.py\n",
      "└── 🔨 Created function Pricer.download_model_to_folder.\n",
      "/ Creating objects...\n",
      "├── 🔨 Created mount \n",
      "│   c:\\Users\\iskorpittt\\Desktop\\MY_DATA_SCIENCE\\PROJECTS\\GENERATIVE_AI\\llm_engi\n",
      "│   neering\\week8\\pricer_service2.py\n",
      "└── 🔨 Created function Pricer.download_model_to_folder.\n",
      "\\ Creating objects...\n",
      "├── 🔨 Created mount \n",
      "│   c:\\Users\\iskorpittt\\Desktop\\MY_DATA_SCIENCE\\PROJECTS\\GENERATIVE_AI\\llm_engi\n",
      "│   neering\\week8\\pricer_service2.py\n",
      "└── 🔨 Created function Pricer.download_model_to_folder.\n",
      "/ Creating objects...\n",
      "├── 🔨 Created mount \n",
      "│   c:\\Users\\iskorpittt\\Desktop\\MY_DATA_SCIENCE\\PROJECTS\\GENERATIVE_AI\\llm_engi\n",
      "│   neering\\week8\\pricer_service2.py\n",
      "└── 🔨 Created function Pricer.download_model_to_folder.\n",
      "\\ Creating objects...\n",
      "├── 🔨 Created mount \n",
      "│   c:\\Users\\iskorpittt\\Desktop\\MY_DATA_SCIENCE\\PROJECTS\\GENERATIVE_AI\\llm_engi\n",
      "│   neering\\week8\\pricer_service2.py\n",
      "└── 🔨 Created function Pricer.download_model_to_folder.\n",
      "/ Creating objects...\n",
      "├── 🔨 Created mount \n",
      "│   c:\\Users\\iskorpittt\\Desktop\\MY_DATA_SCIENCE\\PROJECTS\\GENERATIVE_AI\\llm_engi\n",
      "│   neering\\week8\\pricer_service2.py\n",
      "└── 🔨 Created function Pricer.download_model_to_folder.\n",
      "\\ Creating objects...\n",
      "├── 🔨 Created mount \n",
      "│   c:\\Users\\iskorpittt\\Desktop\\MY_DATA_SCIENCE\\PROJECTS\\GENERATIVE_AI\\llm_engi\n",
      "│   neering\\week8\\pricer_service2.py\n",
      "└── 🔨 Created function Pricer.download_model_to_folder.\n",
      "/ Creating objects...\n",
      "├── 🔨 Created mount \n",
      "│   c:\\Users\\iskorpittt\\Desktop\\MY_DATA_SCIENCE\\PROJECTS\\GENERATIVE_AI\\llm_engi\n",
      "│   neering\\week8\\pricer_service2.py\n",
      "└── 🔨 Created function Pricer.download_model_to_folder.\n",
      "\\ Creating objects...\n",
      "├── 🔨 Created mount \n",
      "│   c:\\Users\\iskorpittt\\Desktop\\MY_DATA_SCIENCE\\PROJECTS\\GENERATIVE_AI\\llm_engi\n",
      "│   neering\\week8\\pricer_service2.py\n",
      "└── 🔨 Created function Pricer.download_model_to_folder.\n",
      "/ Creating objects...\n",
      "├── 🔨 Created mount \n",
      "│   c:\\Users\\iskorpittt\\Desktop\\MY_DATA_SCIENCE\\PROJECTS\\GENERATIVE_AI\\llm_engi\n",
      "│   neering\\week8\\pricer_service2.py\n",
      "└── 🔨 Created function Pricer.download_model_to_folder.\n",
      "\\ Creating objects...\n",
      "├── 🔨 Created mount \n",
      "│   c:\\Users\\iskorpittt\\Desktop\\MY_DATA_SCIENCE\\PROJECTS\\GENERATIVE_AI\\llm_engi\n",
      "│   neering\\week8\\pricer_service2.py\n",
      "└── 🔨 Created function Pricer.download_model_to_folder.\n",
      "/ Creating objects...\n",
      "├── 🔨 Created mount \n",
      "│   c:\\Users\\iskorpittt\\Desktop\\MY_DATA_SCIENCE\\PROJECTS\\GENERATIVE_AI\\llm_engi\n",
      "│   neering\\week8\\pricer_service2.py\n",
      "└── 🔨 Created function Pricer.download_model_to_folder.\n",
      "\\ Creating objects...\n",
      "├── 🔨 Created mount \n",
      "│   c:\\Users\\iskorpittt\\Desktop\\MY_DATA_SCIENCE\\PROJECTS\\GENERATIVE_AI\\llm_engi\n",
      "│   neering\\week8\\pricer_service2.py\n",
      "└── 🔨 Created function Pricer.download_model_to_folder.\n",
      "/ Creating objects...\n",
      "├── 🔨 Created mount \n",
      "│   c:\\Users\\iskorpittt\\Desktop\\MY_DATA_SCIENCE\\PROJECTS\\GENERATIVE_AI\\llm_engi\n",
      "│   neering\\week8\\pricer_service2.py\n",
      "└── 🔨 Created function Pricer.download_model_to_folder.\n",
      "\\ Creating objects...\n",
      "├── 🔨 Created mount \n",
      "│   c:\\Users\\iskorpittt\\Desktop\\MY_DATA_SCIENCE\\PROJECTS\\GENERATIVE_AI\\llm_engi\n",
      "│   neering\\week8\\pricer_service2.py\n",
      "└── 🔨 Created function Pricer.download_model_to_folder.\n",
      "/ Creating objects...\n",
      "├── 🔨 Created mount \n",
      "│   c:\\Users\\iskorpittt\\Desktop\\MY_DATA_SCIENCE\\PROJECTS\\GENERATIVE_AI\\llm_engi\n",
      "│   neering\\week8\\pricer_service2.py\n",
      "└── 🔨 Created function Pricer.download_model_to_folder.\n",
      "\\ Creating objects...\n",
      "├── 🔨 Created mount \n",
      "│   c:\\Users\\iskorpittt\\Desktop\\MY_DATA_SCIENCE\\PROJECTS\\GENERATIVE_AI\\llm_engi\n",
      "│   neering\\week8\\pricer_service2.py\n",
      "└── 🔨 Created function Pricer.download_model_to_folder.\n",
      "/ Creating objects...\n",
      "├── 🔨 Created mount \n",
      "│   c:\\Users\\iskorpittt\\Desktop\\MY_DATA_SCIENCE\\PROJECTS\\GENERATIVE_AI\\llm_engi\n",
      "│   neering\\week8\\pricer_service2.py\n",
      "└── 🔨 Created function Pricer.download_model_to_folder.\n",
      "\\ Creating objects...\n",
      "├── 🔨 Created mount \n",
      "│   c:\\Users\\iskorpittt\\Desktop\\MY_DATA_SCIENCE\\PROJECTS\\GENERATIVE_AI\\llm_engi\n",
      "│   neering\\week8\\pricer_service2.py\n",
      "└── 🔨 Created function Pricer.download_model_to_folder.\n",
      "/ Creating objects...\n",
      "├── 🔨 Created mount \n",
      "│   c:\\Users\\iskorpittt\\Desktop\\MY_DATA_SCIENCE\\PROJECTS\\GENERATIVE_AI\\llm_engi\n",
      "│   neering\\week8\\pricer_service2.py\n",
      "└── 🔨 Created function Pricer.download_model_to_folder.\n",
      "\\ Creating objects...\n",
      "├── 🔨 Created mount \n",
      "│   c:\\Users\\iskorpittt\\Desktop\\MY_DATA_SCIENCE\\PROJECTS\\GENERATIVE_AI\\llm_engi\n",
      "│   neering\\week8\\pricer_service2.py\n",
      "└── 🔨 Created function Pricer.download_model_to_folder.\n",
      "/ Creating objects...\n",
      "├── 🔨 Created mount \n",
      "│   c:\\Users\\iskorpittt\\Desktop\\MY_DATA_SCIENCE\\PROJECTS\\GENERATIVE_AI\\llm_engi\n",
      "│   neering\\week8\\pricer_service2.py\n",
      "└── 🔨 Created function Pricer.download_model_to_folder.\n",
      "\\ Creating objects...\n",
      "├── 🔨 Created mount \n",
      "│   c:\\Users\\iskorpittt\\Desktop\\MY_DATA_SCIENCE\\PROJECTS\\GENERATIVE_AI\\llm_engi\n",
      "│   neering\\week8\\pricer_service2.py\n",
      "└── 🔨 Created function Pricer.download_model_to_folder.\n",
      "/ Creating objects...\n",
      "├── 🔨 Created mount \n",
      "│   c:\\Users\\iskorpittt\\Desktop\\MY_DATA_SCIENCE\\PROJECTS\\GENERATIVE_AI\\llm_engi\n",
      "│   neering\\week8\\pricer_service2.py\n",
      "└── 🔨 Created function Pricer.download_model_to_folder.\n",
      "\\ Creating objects...\n",
      "├── 🔨 Created mount \n",
      "│   c:\\Users\\iskorpittt\\Desktop\\MY_DATA_SCIENCE\\PROJECTS\\GENERATIVE_AI\\llm_engi\n",
      "│   neering\\week8\\pricer_service2.py\n",
      "└── 🔨 Created function Pricer.download_model_to_folder.\n",
      "/ Creating objects...\n",
      "├── 🔨 Created mount \n",
      "│   c:\\Users\\iskorpittt\\Desktop\\MY_DATA_SCIENCE\\PROJECTS\\GENERATIVE_AI\\llm_engi\n",
      "│   neering\\week8\\pricer_service2.py\n",
      "└── 🔨 Created function Pricer.download_model_to_folder.\n",
      "\\ Creating objects...\n",
      "├── 🔨 Created mount \n",
      "│   c:\\Users\\iskorpittt\\Desktop\\MY_DATA_SCIENCE\\PROJECTS\\GENERATIVE_AI\\llm_engi\n",
      "│   neering\\week8\\pricer_service2.py\n",
      "└── 🔨 Created function Pricer.download_model_to_folder.\n",
      "/ Creating objects...\n",
      "├── 🔨 Created mount \n",
      "│   c:\\Users\\iskorpittt\\Desktop\\MY_DATA_SCIENCE\\PROJECTS\\GENERATIVE_AI\\llm_engi\n",
      "│   neering\\week8\\pricer_service2.py\n",
      "└── 🔨 Created function Pricer.download_model_to_folder.\n",
      "\\ Creating objects...\n",
      "├── 🔨 Created mount \n",
      "│   c:\\Users\\iskorpittt\\Desktop\\MY_DATA_SCIENCE\\PROJECTS\\GENERATIVE_AI\\llm_engi\n",
      "│   neering\\week8\\pricer_service2.py\n",
      "└── 🔨 Created function Pricer.download_model_to_folder.\n",
      "/ Creating objects...\n",
      "├── 🔨 Created mount \n",
      "│   c:\\Users\\iskorpittt\\Desktop\\MY_DATA_SCIENCE\\PROJECTS\\GENERATIVE_AI\\llm_engi\n",
      "│   neering\\week8\\pricer_service2.py\n",
      "└── 🔨 Created function Pricer.download_model_to_folder.\n",
      "\\ Creating objects...\n",
      "├── 🔨 Created mount \n",
      "│   c:\\Users\\iskorpittt\\Desktop\\MY_DATA_SCIENCE\\PROJECTS\\GENERATIVE_AI\\llm_engi\n",
      "│   neering\\week8\\pricer_service2.py\n",
      "└── 🔨 Created function Pricer.download_model_to_folder.\n",
      "/ Creating objects...\n",
      "├── 🔨 Created mount \n",
      "│   c:\\Users\\iskorpittt\\Desktop\\MY_DATA_SCIENCE\\PROJECTS\\GENERATIVE_AI\\llm_engi\n",
      "│   neering\\week8\\pricer_service2.py\n",
      "└── 🔨 Created function Pricer.download_model_to_folder.\n",
      "\\ Creating objects...\n",
      "├── 🔨 Created mount \n",
      "│   c:\\Users\\iskorpittt\\Desktop\\MY_DATA_SCIENCE\\PROJECTS\\GENERATIVE_AI\\llm_engi\n",
      "│   neering\\week8\\pricer_service2.py\n",
      "└── 🔨 Created function Pricer.download_model_to_folder.\n",
      "/ Creating objects...\n",
      "├── 🔨 Created mount \n",
      "│   c:\\Users\\iskorpittt\\Desktop\\MY_DATA_SCIENCE\\PROJECTS\\GENERATIVE_AI\\llm_engi\n",
      "│   neering\\week8\\pricer_service2.py\n",
      "└── 🔨 Created function Pricer.download_model_to_folder.\n",
      "\\ Creating objects...\n",
      "├── 🔨 Created mount \n",
      "│   c:\\Users\\iskorpittt\\Desktop\\MY_DATA_SCIENCE\\PROJECTS\\GENERATIVE_AI\\llm_engi\n",
      "│   neering\\week8\\pricer_service2.py\n",
      "└── 🔨 Created function Pricer.download_model_to_folder.\n",
      "/ Creating objects...\n",
      "├── 🔨 Created mount \n",
      "│   c:\\Users\\iskorpittt\\Desktop\\MY_DATA_SCIENCE\\PROJECTS\\GENERATIVE_AI\\llm_engi\n",
      "│   neering\\week8\\pricer_service2.py\n",
      "└── 🔨 Created function Pricer.download_model_to_folder.\n",
      "\\ Creating objects...\n",
      "├── 🔨 Created mount \n",
      "│   c:\\Users\\iskorpittt\\Desktop\\MY_DATA_SCIENCE\\PROJECTS\\GENERATIVE_AI\\llm_engi\n",
      "│   neering\\week8\\pricer_service2.py\n",
      "└── 🔨 Created function Pricer.download_model_to_folder.\n",
      "/ Creating objects...\n",
      "├── 🔨 Created mount \n",
      "│   c:\\Users\\iskorpittt\\Desktop\\MY_DATA_SCIENCE\\PROJECTS\\GENERATIVE_AI\\llm_engi\n",
      "│   neering\\week8\\pricer_service2.py\n",
      "└── 🔨 Created function Pricer.download_model_to_folder.\n",
      "\\ Creating objects...\n",
      "├── 🔨 Created mount \n",
      "│   c:\\Users\\iskorpittt\\Desktop\\MY_DATA_SCIENCE\\PROJECTS\\GENERATIVE_AI\\llm_engi\n",
      "│   neering\\week8\\pricer_service2.py\n",
      "└── 🔨 Created function Pricer.download_model_to_folder.\n",
      "/ Creating objects...\n",
      "├── 🔨 Created mount \n",
      "│   c:\\Users\\iskorpittt\\Desktop\\MY_DATA_SCIENCE\\PROJECTS\\GENERATIVE_AI\\llm_engi\n",
      "│   neering\\week8\\pricer_service2.py\n",
      "└── 🔨 Created function Pricer.download_model_to_folder.\n",
      "\\ Creating objects...\n",
      "├── 🔨 Created mount \n",
      "│   c:\\Users\\iskorpittt\\Desktop\\MY_DATA_SCIENCE\\PROJECTS\\GENERATIVE_AI\\llm_engi\n",
      "│   neering\\week8\\pricer_service2.py\n",
      "└── 🔨 Created function Pricer.download_model_to_folder.\n",
      "/ Creating objects...\n",
      "├── 🔨 Created mount \n",
      "│   c:\\Users\\iskorpittt\\Desktop\\MY_DATA_SCIENCE\\PROJECTS\\GENERATIVE_AI\\llm_engi\n",
      "│   neering\\week8\\pricer_service2.py\n",
      "└── 🔨 Created function Pricer.download_model_to_folder.\n",
      "\\ Creating objects...\n",
      "├── 🔨 Created mount \n",
      "│   c:\\Users\\iskorpittt\\Desktop\\MY_DATA_SCIENCE\\PROJECTS\\GENERATIVE_AI\\llm_engi\n",
      "│   neering\\week8\\pricer_service2.py\n",
      "└── 🔨 Created function Pricer.download_model_to_folder.\n",
      "/ Creating objects...\n",
      "├── 🔨 Created mount \n",
      "│   c:\\Users\\iskorpittt\\Desktop\\MY_DATA_SCIENCE\\PROJECTS\\GENERATIVE_AI\\llm_engi\n",
      "│   neering\\week8\\pricer_service2.py\n",
      "└── 🔨 Created function Pricer.download_model_to_folder.\n",
      "\\ Creating objects...\n",
      "├── 🔨 Created mount \n",
      "│   c:\\Users\\iskorpittt\\Desktop\\MY_DATA_SCIENCE\\PROJECTS\\GENERATIVE_AI\\llm_engi\n",
      "│   neering\\week8\\pricer_service2.py\n",
      "└── 🔨 Created function Pricer.download_model_to_folder.\n",
      "| Creating objects...\n",
      "├── 🔨 Created mount \n",
      "│   c:\\Users\\iskorpittt\\Desktop\\MY_DATA_SCIENCE\\PROJECTS\\GENERATIVE_AI\\llm_engi\n",
      "│   neering\\week8\\pricer_service2.py\n",
      "└── 🔨 Created function Pricer.download_model_to_folder.\n",
      "\\ Creating objects...\n",
      "├── 🔨 Created mount \n",
      "│   c:\\Users\\iskorpittt\\Desktop\\MY_DATA_SCIENCE\\PROJECTS\\GENERATIVE_AI\\llm_engi\n",
      "│   neering\\week8\\pricer_service2.py\n",
      "└── 🔨 Created function Pricer.download_model_to_folder.\n",
      "| Creating objects...\n",
      "├── 🔨 Created mount \n",
      "│   c:\\Users\\iskorpittt\\Desktop\\MY_DATA_SCIENCE\\PROJECTS\\GENERATIVE_AI\\llm_engi\n",
      "│   neering\\week8\\pricer_service2.py\n",
      "└── 🔨 Created function Pricer.download_model_to_folder.\n",
      "- Creating objects...\n",
      "├── 🔨 Created mount \n",
      "│   c:\\Users\\iskorpittt\\Desktop\\MY_DATA_SCIENCE\\PROJECTS\\GENERATIVE_AI\\llm_engi\n",
      "│   neering\\week8\\pricer_service2.py\n",
      "└── 🔨 Created function Pricer.download_model_to_folder.\n",
      "/ Creating objects...\n",
      "├── 🔨 Created mount \n",
      "│   c:\\Users\\iskorpittt\\Desktop\\MY_DATA_SCIENCE\\PROJECTS\\GENERATIVE_AI\\llm_engi\n",
      "│   neering\\week8\\pricer_service2.py\n",
      "└── 🔨 Created function Pricer.download_model_to_folder.\n",
      "- Creating objects...\n",
      "├── 🔨 Created mount \n",
      "│   c:\\Users\\iskorpittt\\Desktop\\MY_DATA_SCIENCE\\PROJECTS\\GENERATIVE_AI\\llm_engi\n",
      "│   neering\\week8\\pricer_service2.py\n",
      "└── 🔨 Created function Pricer.download_model_to_folder.\n",
      "/ Creating objects...\n",
      "├── 🔨 Created mount \n",
      "│   c:\\Users\\iskorpittt\\Desktop\\MY_DATA_SCIENCE\\PROJECTS\\GENERATIVE_AI\\llm_engi\n",
      "│   neering\\week8\\pricer_service2.py\n",
      "└── 🔨 Created function Pricer.download_model_to_folder.\n",
      "\\ Creating objects...\n",
      "├── 🔨 Created mount \n",
      "│   c:\\Users\\iskorpittt\\Desktop\\MY_DATA_SCIENCE\\PROJECTS\\GENERATIVE_AI\\llm_engi\n",
      "│   neering\\week8\\pricer_service2.py\n",
      "└── 🔨 Created function Pricer.download_model_to_folder.\n",
      "/ Creating objects...\n",
      "├── 🔨 Created mount \n",
      "│   c:\\Users\\iskorpittt\\Desktop\\MY_DATA_SCIENCE\\PROJECTS\\GENERATIVE_AI\\llm_engi\n",
      "│   neering\\week8\\pricer_service2.py\n",
      "└── 🔨 Created function Pricer.download_model_to_folder.\n",
      "\\ Creating objects...\n",
      "├── 🔨 Created mount \n",
      "│   c:\\Users\\iskorpittt\\Desktop\\MY_DATA_SCIENCE\\PROJECTS\\GENERATIVE_AI\\llm_engi\n",
      "│   neering\\week8\\pricer_service2.py\n",
      "└── 🔨 Created function Pricer.download_model_to_folder.\n",
      "/ Creating objects...\n",
      "├── 🔨 Created mount \n",
      "│   c:\\Users\\iskorpittt\\Desktop\\MY_DATA_SCIENCE\\PROJECTS\\GENERATIVE_AI\\llm_engi\n",
      "│   neering\\week8\\pricer_service2.py\n",
      "└── 🔨 Created function Pricer.download_model_to_folder.\n",
      "\\ Creating objects...\n",
      "├── 🔨 Created mount \n",
      "│   c:\\Users\\iskorpittt\\Desktop\\MY_DATA_SCIENCE\\PROJECTS\\GENERATIVE_AI\\llm_engi\n",
      "│   neering\\week8\\pricer_service2.py\n",
      "└── 🔨 Created function Pricer.download_model_to_folder.\n",
      "/ Creating objects...\n",
      "├── 🔨 Created mount \n",
      "│   c:\\Users\\iskorpittt\\Desktop\\MY_DATA_SCIENCE\\PROJECTS\\GENERATIVE_AI\\llm_engi\n",
      "│   neering\\week8\\pricer_service2.py\n",
      "└── 🔨 Created function Pricer.download_model_to_folder.\n",
      "\\ Creating objects...\n",
      "├── 🔨 Created mount \n",
      "│   c:\\Users\\iskorpittt\\Desktop\\MY_DATA_SCIENCE\\PROJECTS\\GENERATIVE_AI\\llm_engi\n",
      "│   neering\\week8\\pricer_service2.py\n",
      "└── 🔨 Created function Pricer.download_model_to_folder.\n",
      "/ Creating objects...\n",
      "├── 🔨 Created mount \n",
      "│   c:\\Users\\iskorpittt\\Desktop\\MY_DATA_SCIENCE\\PROJECTS\\GENERATIVE_AI\\llm_engi\n",
      "│   neering\\week8\\pricer_service2.py\n",
      "└── 🔨 Created function Pricer.download_model_to_folder.\n",
      "\\ Creating objects...\n",
      "├── 🔨 Created mount \n",
      "│   c:\\Users\\iskorpittt\\Desktop\\MY_DATA_SCIENCE\\PROJECTS\\GENERATIVE_AI\\llm_engi\n",
      "│   neering\\week8\\pricer_service2.py\n",
      "└── 🔨 Created function Pricer.download_model_to_folder.\n",
      "/ Creating objects...\n",
      "├── 🔨 Created mount \n",
      "│   c:\\Users\\iskorpittt\\Desktop\\MY_DATA_SCIENCE\\PROJECTS\\GENERATIVE_AI\\llm_engi\n",
      "│   neering\\week8\\pricer_service2.py\n",
      "└── 🔨 Created function Pricer.download_model_to_folder.\n",
      "\\ Creating objects...\n",
      "├── 🔨 Created mount \n",
      "│   c:\\Users\\iskorpittt\\Desktop\\MY_DATA_SCIENCE\\PROJECTS\\GENERATIVE_AI\\llm_engi\n",
      "│   neering\\week8\\pricer_service2.py\n",
      "└── 🔨 Created function Pricer.download_model_to_folder.\n",
      "/ Creating objects...\n",
      "├── 🔨 Created mount \n",
      "│   c:\\Users\\iskorpittt\\Desktop\\MY_DATA_SCIENCE\\PROJECTS\\GENERATIVE_AI\\llm_engi\n",
      "│   neering\\week8\\pricer_service2.py\n",
      "└── 🔨 Created function Pricer.download_model_to_folder.\n",
      "\\ Creating objects...\n",
      "├── 🔨 Created mount \n",
      "│   c:\\Users\\iskorpittt\\Desktop\\MY_DATA_SCIENCE\\PROJECTS\\GENERATIVE_AI\\llm_engi\n",
      "│   neering\\week8\\pricer_service2.py\n",
      "└── 🔨 Created function Pricer.download_model_to_folder.\n",
      "/ Creating objects...\n",
      "├── 🔨 Created mount \n",
      "│   c:\\Users\\iskorpittt\\Desktop\\MY_DATA_SCIENCE\\PROJECTS\\GENERATIVE_AI\\llm_engi\n",
      "│   neering\\week8\\pricer_service2.py\n",
      "└── 🔨 Created function Pricer.download_model_to_folder.\n",
      "\\ Creating objects...\n",
      "├── 🔨 Created mount \n",
      "│   c:\\Users\\iskorpittt\\Desktop\\MY_DATA_SCIENCE\\PROJECTS\\GENERATIVE_AI\\llm_engi\n",
      "│   neering\\week8\\pricer_service2.py\n",
      "└── 🔨 Created function Pricer.download_model_to_folder.\n",
      "/ Creating objects...\n",
      "├── 🔨 Created mount \n",
      "│   c:\\Users\\iskorpittt\\Desktop\\MY_DATA_SCIENCE\\PROJECTS\\GENERATIVE_AI\\llm_engi\n",
      "│   neering\\week8\\pricer_service2.py\n",
      "└── 🔨 Created function Pricer.download_model_to_folder.\n",
      "\\ Creating objects...\n",
      "├── 🔨 Created mount \n",
      "│   c:\\Users\\iskorpittt\\Desktop\\MY_DATA_SCIENCE\\PROJECTS\\GENERATIVE_AI\\llm_engi\n",
      "│   neering\\week8\\pricer_service2.py\n",
      "└── 🔨 Created function Pricer.download_model_to_folder.\n",
      "/ Creating objects...\n",
      "├── 🔨 Created mount \n",
      "│   c:\\Users\\iskorpittt\\Desktop\\MY_DATA_SCIENCE\\PROJECTS\\GENERATIVE_AI\\llm_engi\n",
      "│   neering\\week8\\pricer_service2.py\n",
      "└── 🔨 Created function Pricer.download_model_to_folder.\n",
      "\\ Creating objects...\n",
      "├── 🔨 Created mount \n",
      "│   c:\\Users\\iskorpittt\\Desktop\\MY_DATA_SCIENCE\\PROJECTS\\GENERATIVE_AI\\llm_engi\n",
      "│   neering\\week8\\pricer_service2.py\n",
      "└── 🔨 Created function Pricer.download_model_to_folder.\n",
      "/ Creating objects...\n",
      "├── 🔨 Created mount \n",
      "│   c:\\Users\\iskorpittt\\Desktop\\MY_DATA_SCIENCE\\PROJECTS\\GENERATIVE_AI\\llm_engi\n",
      "│   neering\\week8\\pricer_service2.py\n",
      "└── 🔨 Created function Pricer.download_model_to_folder.\n",
      "\\ Creating objects...\n",
      "├── 🔨 Created mount \n",
      "│   c:\\Users\\iskorpittt\\Desktop\\MY_DATA_SCIENCE\\PROJECTS\\GENERATIVE_AI\\llm_engi\n",
      "│   neering\\week8\\pricer_service2.py\n",
      "└── 🔨 Created function Pricer.download_model_to_folder.\n",
      "/ Creating objects...\n",
      "├── 🔨 Created mount \n",
      "│   c:\\Users\\iskorpittt\\Desktop\\MY_DATA_SCIENCE\\PROJECTS\\GENERATIVE_AI\\llm_engi\n",
      "│   neering\\week8\\pricer_service2.py\n",
      "└── 🔨 Created function Pricer.download_model_to_folder.\n",
      "\\ Creating objects...\n",
      "├── 🔨 Created mount \n",
      "│   c:\\Users\\iskorpittt\\Desktop\\MY_DATA_SCIENCE\\PROJECTS\\GENERATIVE_AI\\llm_engi\n",
      "│   neering\\week8\\pricer_service2.py\n",
      "└── 🔨 Created function Pricer.download_model_to_folder.\n",
      "/ Creating objects...\n",
      "├── 🔨 Created mount \n",
      "│   c:\\Users\\iskorpittt\\Desktop\\MY_DATA_SCIENCE\\PROJECTS\\GENERATIVE_AI\\llm_engi\n",
      "│   neering\\week8\\pricer_service2.py\n",
      "└── 🔨 Created function Pricer.download_model_to_folder.\n",
      "\\ Creating objects...\n",
      "├── 🔨 Created mount \n",
      "│   c:\\Users\\iskorpittt\\Desktop\\MY_DATA_SCIENCE\\PROJECTS\\GENERATIVE_AI\\llm_engi\n",
      "│   neering\\week8\\pricer_service2.py\n",
      "└── 🔨 Created function Pricer.download_model_to_folder.\n",
      "\n",
      "\\ Creating objects...\n",
      "├── 🔨 Created mount c:\\Users\\iskorpittt\\Desktop\\MY_DATA_SCIENCE\\PROJECTS\\GENER\n",
      "└── 🔨 Created function Pricer.download_model_to_folder.\n",
      "\u001b[1AFetching 17 files:  65%|██████▍   | 11/17 [04:01<02:11, 21.96s/it]\n",
      "\\ Creating objects...\n",
      "├── 🔨 Created mount c:\\Users\\iskorpittt\\Desktop\\MY_DATA_SCIENCE\\PROJECTS\\GENER\n",
      "└── 🔨 Created function Pricer.download_model_to_folder.\n",
      "/ Creating objects...\n",
      "├── 🔨 Created mount \n",
      "│   c:\\Users\\iskorpittt\\Desktop\\MY_DATA_SCIENCE\\PROJECTS\\GENERATIVE_AI\\llm_engi\n",
      "│   neering\\week8\\pricer_service2.py\n",
      "└── 🔨 Created function Pricer.download_model_to_folder.\n",
      "- Creating objects...\n",
      "├── 🔨 Created mount \n",
      "│   c:\\Users\\iskorpittt\\Desktop\\MY_DATA_SCIENCE\\PROJECTS\\GENERATIVE_AI\\llm_engi\n",
      "│   neering\\week8\\pricer_service2.py\n",
      "└── 🔨 Created function Pricer.download_model_to_folder.\n",
      "| Creating objects...\n",
      "├── 🔨 Created mount \n",
      "│   c:\\Users\\iskorpittt\\Desktop\\MY_DATA_SCIENCE\\PROJECTS\\GENERATIVE_AI\\llm_engi\n",
      "│   neering\\week8\\pricer_service2.py\n",
      "└── 🔨 Created function Pricer.download_model_to_folder.\n",
      "- Creating objects...\n",
      "├── 🔨 Created mount \n",
      "│   c:\\Users\\iskorpittt\\Desktop\\MY_DATA_SCIENCE\\PROJECTS\\GENERATIVE_AI\\llm_engi\n",
      "│   neering\\week8\\pricer_service2.py\n",
      "└── 🔨 Created function Pricer.download_model_to_folder.\n",
      "| Creating objects...\n",
      "├── 🔨 Created mount \n",
      "│   c:\\Users\\iskorpittt\\Desktop\\MY_DATA_SCIENCE\\PROJECTS\\GENERATIVE_AI\\llm_engi\n",
      "│   neering\\week8\\pricer_service2.py\n",
      "└── 🔨 Created function Pricer.download_model_to_folder.\n",
      "- Creating objects...\n",
      "├── 🔨 Created mount \n",
      "│   c:\\Users\\iskorpittt\\Desktop\\MY_DATA_SCIENCE\\PROJECTS\\GENERATIVE_AI\\llm_engi\n",
      "│   neering\\week8\\pricer_service2.py\n",
      "└── 🔨 Created function Pricer.download_model_to_folder.\n",
      "| Creating objects...\n",
      "├── 🔨 Created mount \n",
      "│   c:\\Users\\iskorpittt\\Desktop\\MY_DATA_SCIENCE\\PROJECTS\\GENERATIVE_AI\\llm_engi\n",
      "│   neering\\week8\\pricer_service2.py\n",
      "└── 🔨 Created function Pricer.download_model_to_folder.\n",
      "- Creating objects...\n",
      "├── 🔨 Created mount \n",
      "│   c:\\Users\\iskorpittt\\Desktop\\MY_DATA_SCIENCE\\PROJECTS\\GENERATIVE_AI\\llm_engi\n",
      "│   neering\\week8\\pricer_service2.py\n",
      "└── 🔨 Created function Pricer.download_model_to_folder.\n",
      "| Creating objects...\n",
      "├── 🔨 Created mount \n",
      "│   c:\\Users\\iskorpittt\\Desktop\\MY_DATA_SCIENCE\\PROJECTS\\GENERATIVE_AI\\llm_engi\n",
      "│   neering\\week8\\pricer_service2.py\n",
      "└── 🔨 Created function Pricer.download_model_to_folder.\n",
      "- Creating objects...\n",
      "├── 🔨 Created mount \n",
      "│   c:\\Users\\iskorpittt\\Desktop\\MY_DATA_SCIENCE\\PROJECTS\\GENERATIVE_AI\\llm_engi\n",
      "│   neering\\week8\\pricer_service2.py\n",
      "└── 🔨 Created function Pricer.download_model_to_folder.\n",
      "/ Creating objects...\n",
      "├── 🔨 Created mount \n",
      "│   c:\\Users\\iskorpittt\\Desktop\\MY_DATA_SCIENCE\\PROJECTS\\GENERATIVE_AI\\llm_engi\n",
      "│   neering\\week8\\pricer_service2.py\n",
      "└── 🔨 Created function Pricer.download_model_to_folder.\n",
      "\\ Creating objects...\n",
      "├── 🔨 Created mount \n",
      "│   c:\\Users\\iskorpittt\\Desktop\\MY_DATA_SCIENCE\\PROJECTS\\GENERATIVE_AI\\llm_engi\n",
      "│   neering\\week8\\pricer_service2.py\n",
      "└── 🔨 Created function Pricer.download_model_to_folder.\n",
      "/ Creating objects...\n",
      "├── 🔨 Created mount \n",
      "│   c:\\Users\\iskorpittt\\Desktop\\MY_DATA_SCIENCE\\PROJECTS\\GENERATIVE_AI\\llm_engi\n",
      "│   neering\\week8\\pricer_service2.py\n",
      "└── 🔨 Created function Pricer.download_model_to_folder.\n",
      "\\ Creating objects...\n",
      "├── 🔨 Created mount \n",
      "│   c:\\Users\\iskorpittt\\Desktop\\MY_DATA_SCIENCE\\PROJECTS\\GENERATIVE_AI\\llm_engi\n",
      "│   neering\\week8\\pricer_service2.py\n",
      "└── 🔨 Created function Pricer.download_model_to_folder.\n",
      "/ Creating objects...\n",
      "├── 🔨 Created mount \n",
      "│   c:\\Users\\iskorpittt\\Desktop\\MY_DATA_SCIENCE\\PROJECTS\\GENERATIVE_AI\\llm_engi\n",
      "│   neering\\week8\\pricer_service2.py\n",
      "└── 🔨 Created function Pricer.download_model_to_folder.\n",
      "\\ Creating objects...\n",
      "├── 🔨 Created mount \n",
      "│   c:\\Users\\iskorpittt\\Desktop\\MY_DATA_SCIENCE\\PROJECTS\\GENERATIVE_AI\\llm_engi\n",
      "│   neering\\week8\\pricer_service2.py\n",
      "└── 🔨 Created function Pricer.download_model_to_folder.\n",
      "/ Creating objects...\n",
      "├── 🔨 Created mount \n",
      "│   c:\\Users\\iskorpittt\\Desktop\\MY_DATA_SCIENCE\\PROJECTS\\GENERATIVE_AI\\llm_engi\n",
      "│   neering\\week8\\pricer_service2.py\n",
      "└── 🔨 Created function Pricer.download_model_to_folder.\n",
      "\\ Creating objects...\n",
      "├── 🔨 Created mount \n",
      "│   c:\\Users\\iskorpittt\\Desktop\\MY_DATA_SCIENCE\\PROJECTS\\GENERATIVE_AI\\llm_engi\n",
      "│   neering\\week8\\pricer_service2.py\n",
      "└── 🔨 Created function Pricer.download_model_to_folder.\n",
      "/ Creating objects...\n",
      "├── 🔨 Created mount \n",
      "│   c:\\Users\\iskorpittt\\Desktop\\MY_DATA_SCIENCE\\PROJECTS\\GENERATIVE_AI\\llm_engi\n",
      "│   neering\\week8\\pricer_service2.py\n",
      "└── 🔨 Created function Pricer.download_model_to_folder.\n",
      "\\ Creating objects...\n",
      "├── 🔨 Created mount \n",
      "│   c:\\Users\\iskorpittt\\Desktop\\MY_DATA_SCIENCE\\PROJECTS\\GENERATIVE_AI\\llm_engi\n",
      "│   neering\\week8\\pricer_service2.py\n",
      "└── 🔨 Created function Pricer.download_model_to_folder.\n",
      "/ Creating objects...\n",
      "├── 🔨 Created mount \n",
      "│   c:\\Users\\iskorpittt\\Desktop\\MY_DATA_SCIENCE\\PROJECTS\\GENERATIVE_AI\\llm_engi\n",
      "│   neering\\week8\\pricer_service2.py\n",
      "└── 🔨 Created function Pricer.download_model_to_folder.\n",
      "\\ Creating objects...\n",
      "├── 🔨 Created mount \n",
      "│   c:\\Users\\iskorpittt\\Desktop\\MY_DATA_SCIENCE\\PROJECTS\\GENERATIVE_AI\\llm_engi\n",
      "│   neering\\week8\\pricer_service2.py\n",
      "└── 🔨 Created function Pricer.download_model_to_folder.\n",
      "/ Creating objects...\n",
      "├── 🔨 Created mount \n",
      "│   c:\\Users\\iskorpittt\\Desktop\\MY_DATA_SCIENCE\\PROJECTS\\GENERATIVE_AI\\llm_engi\n",
      "│   neering\\week8\\pricer_service2.py\n",
      "└── 🔨 Created function Pricer.download_model_to_folder.\n",
      "\\ Creating objects...\n",
      "├── 🔨 Created mount \n",
      "│   c:\\Users\\iskorpittt\\Desktop\\MY_DATA_SCIENCE\\PROJECTS\\GENERATIVE_AI\\llm_engi\n",
      "│   neering\\week8\\pricer_service2.py\n",
      "└── 🔨 Created function Pricer.download_model_to_folder.\n",
      "/ Creating objects...\n",
      "├── 🔨 Created mount \n",
      "│   c:\\Users\\iskorpittt\\Desktop\\MY_DATA_SCIENCE\\PROJECTS\\GENERATIVE_AI\\llm_engi\n",
      "│   neering\\week8\\pricer_service2.py\n",
      "└── 🔨 Created function Pricer.download_model_to_folder.\n",
      "\\ Creating objects...\n",
      "├── 🔨 Created mount \n",
      "│   c:\\Users\\iskorpittt\\Desktop\\MY_DATA_SCIENCE\\PROJECTS\\GENERATIVE_AI\\llm_engi\n",
      "│   neering\\week8\\pricer_service2.py\n",
      "└── 🔨 Created function Pricer.download_model_to_folder.\n",
      "/ Creating objects...\n",
      "├── 🔨 Created mount \n",
      "│   c:\\Users\\iskorpittt\\Desktop\\MY_DATA_SCIENCE\\PROJECTS\\GENERATIVE_AI\\llm_engi\n",
      "│   neering\\week8\\pricer_service2.py\n",
      "└── 🔨 Created function Pricer.download_model_to_folder.\n",
      "\\ Creating objects...\n",
      "├── 🔨 Created mount \n",
      "│   c:\\Users\\iskorpittt\\Desktop\\MY_DATA_SCIENCE\\PROJECTS\\GENERATIVE_AI\\llm_engi\n",
      "│   neering\\week8\\pricer_service2.py\n",
      "└── 🔨 Created function Pricer.download_model_to_folder.\n",
      "/ Creating objects...\n",
      "├── 🔨 Created mount \n",
      "│   c:\\Users\\iskorpittt\\Desktop\\MY_DATA_SCIENCE\\PROJECTS\\GENERATIVE_AI\\llm_engi\n",
      "│   neering\\week8\\pricer_service2.py\n",
      "└── 🔨 Created function Pricer.download_model_to_folder.\n",
      "- Creating objects...\n",
      "├── 🔨 Created mount \n",
      "│   c:\\Users\\iskorpittt\\Desktop\\MY_DATA_SCIENCE\\PROJECTS\\GENERATIVE_AI\\llm_engi\n",
      "│   neering\\week8\\pricer_service2.py\n",
      "└── 🔨 Created function Pricer.download_model_to_folder.\n",
      "/ Creating objects...\n",
      "├── 🔨 Created mount \n",
      "│   c:\\Users\\iskorpittt\\Desktop\\MY_DATA_SCIENCE\\PROJECTS\\GENERATIVE_AI\\llm_engi\n",
      "│   neering\\week8\\pricer_service2.py\n",
      "└── 🔨 Created function Pricer.download_model_to_folder.\n",
      "\\ Creating objects...\n",
      "├── 🔨 Created mount \n",
      "│   c:\\Users\\iskorpittt\\Desktop\\MY_DATA_SCIENCE\\PROJECTS\\GENERATIVE_AI\\llm_engi\n",
      "│   neering\\week8\\pricer_service2.py\n",
      "└── 🔨 Created function Pricer.download_model_to_folder.\n",
      "| Creating objects...\n",
      "├── 🔨 Created mount \n",
      "│   c:\\Users\\iskorpittt\\Desktop\\MY_DATA_SCIENCE\\PROJECTS\\GENERATIVE_AI\\llm_engi\n",
      "│   neering\\week8\\pricer_service2.py\n",
      "└── 🔨 Created function Pricer.download_model_to_folder.\n",
      "\\ Creating objects...\n",
      "├── 🔨 Created mount \n",
      "│   c:\\Users\\iskorpittt\\Desktop\\MY_DATA_SCIENCE\\PROJECTS\\GENERATIVE_AI\\llm_engi\n",
      "│   neering\\week8\\pricer_service2.py\n",
      "└── 🔨 Created function Pricer.download_model_to_folder.\n",
      "/ Creating objects...\n",
      "├── 🔨 Created mount \n",
      "│   c:\\Users\\iskorpittt\\Desktop\\MY_DATA_SCIENCE\\PROJECTS\\GENERATIVE_AI\\llm_engi\n",
      "│   neering\\week8\\pricer_service2.py\n",
      "└── 🔨 Created function Pricer.download_model_to_folder.\n",
      "\\ Creating objects...\n",
      "├── 🔨 Created mount \n",
      "│   c:\\Users\\iskorpittt\\Desktop\\MY_DATA_SCIENCE\\PROJECTS\\GENERATIVE_AI\\llm_engi\n",
      "│   neering\\week8\\pricer_service2.py\n",
      "└── 🔨 Created function Pricer.download_model_to_folder.\n",
      "/ Creating objects...\n",
      "├── 🔨 Created mount \n",
      "│   c:\\Users\\iskorpittt\\Desktop\\MY_DATA_SCIENCE\\PROJECTS\\GENERATIVE_AI\\llm_engi\n",
      "│   neering\\week8\\pricer_service2.py\n",
      "└── 🔨 Created function Pricer.download_model_to_folder.\n",
      "\\ Creating objects...\n",
      "├── 🔨 Created mount \n",
      "│   c:\\Users\\iskorpittt\\Desktop\\MY_DATA_SCIENCE\\PROJECTS\\GENERATIVE_AI\\llm_engi\n",
      "│   neering\\week8\\pricer_service2.py\n",
      "└── 🔨 Created function Pricer.download_model_to_folder.\n",
      "/ Creating objects...\n",
      "├── 🔨 Created mount \n",
      "│   c:\\Users\\iskorpittt\\Desktop\\MY_DATA_SCIENCE\\PROJECTS\\GENERATIVE_AI\\llm_engi\n",
      "│   neering\\week8\\pricer_service2.py\n",
      "└── 🔨 Created function Pricer.download_model_to_folder.\n",
      "\\ Creating objects...\n",
      "├── 🔨 Created mount \n",
      "│   c:\\Users\\iskorpittt\\Desktop\\MY_DATA_SCIENCE\\PROJECTS\\GENERATIVE_AI\\llm_engi\n",
      "│   neering\\week8\\pricer_service2.py\n",
      "└── 🔨 Created function Pricer.download_model_to_folder.\n",
      "/ Creating objects...\n",
      "├── 🔨 Created mount \n",
      "│   c:\\Users\\iskorpittt\\Desktop\\MY_DATA_SCIENCE\\PROJECTS\\GENERATIVE_AI\\llm_engi\n",
      "│   neering\\week8\\pricer_service2.py\n",
      "└── 🔨 Created function Pricer.download_model_to_folder.\n",
      "\\ Creating objects...\n",
      "├── 🔨 Created mount \n",
      "│   c:\\Users\\iskorpittt\\Desktop\\MY_DATA_SCIENCE\\PROJECTS\\GENERATIVE_AI\\llm_engi\n",
      "│   neering\\week8\\pricer_service2.py\n",
      "└── 🔨 Created function Pricer.download_model_to_folder.\n",
      "/ Creating objects...\n",
      "├── 🔨 Created mount \n",
      "│   c:\\Users\\iskorpittt\\Desktop\\MY_DATA_SCIENCE\\PROJECTS\\GENERATIVE_AI\\llm_engi\n",
      "│   neering\\week8\\pricer_service2.py\n",
      "└── 🔨 Created function Pricer.download_model_to_folder.\n",
      "\\ Creating objects...\n",
      "├── 🔨 Created mount \n",
      "│   c:\\Users\\iskorpittt\\Desktop\\MY_DATA_SCIENCE\\PROJECTS\\GENERATIVE_AI\\llm_engi\n",
      "│   neering\\week8\\pricer_service2.py\n",
      "└── 🔨 Created function Pricer.download_model_to_folder.\n",
      "/ Creating objects...\n",
      "├── 🔨 Created mount \n",
      "│   c:\\Users\\iskorpittt\\Desktop\\MY_DATA_SCIENCE\\PROJECTS\\GENERATIVE_AI\\llm_engi\n",
      "│   neering\\week8\\pricer_service2.py\n",
      "└── 🔨 Created function Pricer.download_model_to_folder.\n",
      "\\ Creating objects...\n",
      "├── 🔨 Created mount \n",
      "│   c:\\Users\\iskorpittt\\Desktop\\MY_DATA_SCIENCE\\PROJECTS\\GENERATIVE_AI\\llm_engi\n",
      "│   neering\\week8\\pricer_service2.py\n",
      "└── 🔨 Created function Pricer.download_model_to_folder.\n",
      "/ Creating objects...\n",
      "├── 🔨 Created mount \n",
      "│   c:\\Users\\iskorpittt\\Desktop\\MY_DATA_SCIENCE\\PROJECTS\\GENERATIVE_AI\\llm_engi\n",
      "│   neering\\week8\\pricer_service2.py\n",
      "└── 🔨 Created function Pricer.download_model_to_folder.\n",
      "\\ Creating objects...\n",
      "├── 🔨 Created mount \n",
      "│   c:\\Users\\iskorpittt\\Desktop\\MY_DATA_SCIENCE\\PROJECTS\\GENERATIVE_AI\\llm_engi\n",
      "│   neering\\week8\\pricer_service2.py\n",
      "└── 🔨 Created function Pricer.download_model_to_folder.\n",
      "/ Creating objects...\n",
      "├── 🔨 Created mount \n",
      "│   c:\\Users\\iskorpittt\\Desktop\\MY_DATA_SCIENCE\\PROJECTS\\GENERATIVE_AI\\llm_engi\n",
      "│   neering\\week8\\pricer_service2.py\n",
      "└── 🔨 Created function Pricer.download_model_to_folder.\n",
      "\\ Creating objects...\n",
      "├── 🔨 Created mount \n",
      "│   c:\\Users\\iskorpittt\\Desktop\\MY_DATA_SCIENCE\\PROJECTS\\GENERATIVE_AI\\llm_engi\n",
      "│   neering\\week8\\pricer_service2.py\n",
      "└── 🔨 Created function Pricer.download_model_to_folder.\n",
      "/ Creating objects...\n",
      "├── 🔨 Created mount \n",
      "│   c:\\Users\\iskorpittt\\Desktop\\MY_DATA_SCIENCE\\PROJECTS\\GENERATIVE_AI\\llm_engi\n",
      "│   neering\\week8\\pricer_service2.py\n",
      "└── 🔨 Created function Pricer.download_model_to_folder.\n",
      "\\ Creating objects...\n",
      "├── 🔨 Created mount \n",
      "│   c:\\Users\\iskorpittt\\Desktop\\MY_DATA_SCIENCE\\PROJECTS\\GENERATIVE_AI\\llm_engi\n",
      "│   neering\\week8\\pricer_service2.py\n",
      "└── 🔨 Created function Pricer.download_model_to_folder.\n",
      "/ Creating objects...\n",
      "├── 🔨 Created mount \n",
      "│   c:\\Users\\iskorpittt\\Desktop\\MY_DATA_SCIENCE\\PROJECTS\\GENERATIVE_AI\\llm_engi\n",
      "│   neering\\week8\\pricer_service2.py\n",
      "└── 🔨 Created function Pricer.download_model_to_folder.\n",
      "\\ Creating objects...\n",
      "├── 🔨 Created mount \n",
      "│   c:\\Users\\iskorpittt\\Desktop\\MY_DATA_SCIENCE\\PROJECTS\\GENERATIVE_AI\\llm_engi\n",
      "│   neering\\week8\\pricer_service2.py\n",
      "└── 🔨 Created function Pricer.download_model_to_folder.\n",
      "/ Creating objects...\n",
      "├── 🔨 Created mount \n",
      "│   c:\\Users\\iskorpittt\\Desktop\\MY_DATA_SCIENCE\\PROJECTS\\GENERATIVE_AI\\llm_engi\n",
      "│   neering\\week8\\pricer_service2.py\n",
      "└── 🔨 Created function Pricer.download_model_to_folder.\n",
      "\\ Creating objects...\n",
      "├── 🔨 Created mount \n",
      "│   c:\\Users\\iskorpittt\\Desktop\\MY_DATA_SCIENCE\\PROJECTS\\GENERATIVE_AI\\llm_engi\n",
      "│   neering\\week8\\pricer_service2.py\n",
      "└── 🔨 Created function Pricer.download_model_to_folder.\n",
      "/ Creating objects...\n",
      "├── 🔨 Created mount \n",
      "│   c:\\Users\\iskorpittt\\Desktop\\MY_DATA_SCIENCE\\PROJECTS\\GENERATIVE_AI\\llm_engi\n",
      "│   neering\\week8\\pricer_service2.py\n",
      "└── 🔨 Created function Pricer.download_model_to_folder.\n",
      "\\ Creating objects...\n",
      "├── 🔨 Created mount \n",
      "│   c:\\Users\\iskorpittt\\Desktop\\MY_DATA_SCIENCE\\PROJECTS\\GENERATIVE_AI\\llm_engi\n",
      "│   neering\\week8\\pricer_service2.py\n",
      "└── 🔨 Created function Pricer.download_model_to_folder.\n",
      "/ Creating objects...\n",
      "├── 🔨 Created mount \n",
      "│   c:\\Users\\iskorpittt\\Desktop\\MY_DATA_SCIENCE\\PROJECTS\\GENERATIVE_AI\\llm_engi\n",
      "│   neering\\week8\\pricer_service2.py\n",
      "└── 🔨 Created function Pricer.download_model_to_folder.\n",
      "\\ Creating objects...\n",
      "├── 🔨 Created mount \n",
      "│   c:\\Users\\iskorpittt\\Desktop\\MY_DATA_SCIENCE\\PROJECTS\\GENERATIVE_AI\\llm_engi\n",
      "│   neering\\week8\\pricer_service2.py\n",
      "└── 🔨 Created function Pricer.download_model_to_folder.\n",
      "/ Creating objects...\n",
      "├── 🔨 Created mount \n",
      "│   c:\\Users\\iskorpittt\\Desktop\\MY_DATA_SCIENCE\\PROJECTS\\GENERATIVE_AI\\llm_engi\n",
      "│   neering\\week8\\pricer_service2.py\n",
      "└── 🔨 Created function Pricer.download_model_to_folder.\n",
      "\\ Creating objects...\n",
      "├── 🔨 Created mount \n",
      "│   c:\\Users\\iskorpittt\\Desktop\\MY_DATA_SCIENCE\\PROJECTS\\GENERATIVE_AI\\llm_engi\n",
      "│   neering\\week8\\pricer_service2.py\n",
      "└── 🔨 Created function Pricer.download_model_to_folder.\n",
      "/ Creating objects...\n",
      "├── 🔨 Created mount \n",
      "│   c:\\Users\\iskorpittt\\Desktop\\MY_DATA_SCIENCE\\PROJECTS\\GENERATIVE_AI\\llm_engi\n",
      "│   neering\\week8\\pricer_service2.py\n",
      "└── 🔨 Created function Pricer.download_model_to_folder.\n",
      "\\ Creating objects...\n",
      "├── 🔨 Created mount \n",
      "│   c:\\Users\\iskorpittt\\Desktop\\MY_DATA_SCIENCE\\PROJECTS\\GENERATIVE_AI\\llm_engi\n",
      "│   neering\\week8\\pricer_service2.py\n",
      "└── 🔨 Created function Pricer.download_model_to_folder.\n",
      "/ Creating objects...\n",
      "├── 🔨 Created mount \n",
      "│   c:\\Users\\iskorpittt\\Desktop\\MY_DATA_SCIENCE\\PROJECTS\\GENERATIVE_AI\\llm_engi\n",
      "│   neering\\week8\\pricer_service2.py\n",
      "└── 🔨 Created function Pricer.download_model_to_folder.\n",
      "\\ Creating objects...\n",
      "├── 🔨 Created mount \n",
      "│   c:\\Users\\iskorpittt\\Desktop\\MY_DATA_SCIENCE\\PROJECTS\\GENERATIVE_AI\\llm_engi\n",
      "│   neering\\week8\\pricer_service2.py\n",
      "└── 🔨 Created function Pricer.download_model_to_folder.\n",
      "/ Creating objects...\n",
      "├── 🔨 Created mount \n",
      "│   c:\\Users\\iskorpittt\\Desktop\\MY_DATA_SCIENCE\\PROJECTS\\GENERATIVE_AI\\llm_engi\n",
      "│   neering\\week8\\pricer_service2.py\n",
      "└── 🔨 Created function Pricer.download_model_to_folder.\n",
      "\\ Creating objects...\n",
      "├── 🔨 Created mount \n",
      "│   c:\\Users\\iskorpittt\\Desktop\\MY_DATA_SCIENCE\\PROJECTS\\GENERATIVE_AI\\llm_engi\n",
      "│   neering\\week8\\pricer_service2.py\n",
      "└── 🔨 Created function Pricer.download_model_to_folder.\n",
      "/ Creating objects...\n",
      "├── 🔨 Created mount \n",
      "│   c:\\Users\\iskorpittt\\Desktop\\MY_DATA_SCIENCE\\PROJECTS\\GENERATIVE_AI\\llm_engi\n",
      "│   neering\\week8\\pricer_service2.py\n",
      "└── 🔨 Created function Pricer.download_model_to_folder.\n",
      "\\ Creating objects...\n",
      "├── 🔨 Created mount \n",
      "│   c:\\Users\\iskorpittt\\Desktop\\MY_DATA_SCIENCE\\PROJECTS\\GENERATIVE_AI\\llm_engi\n",
      "│   neering\\week8\\pricer_service2.py\n",
      "└── 🔨 Created function Pricer.download_model_to_folder.\n",
      "/ Creating objects...\n",
      "├── 🔨 Created mount \n",
      "│   c:\\Users\\iskorpittt\\Desktop\\MY_DATA_SCIENCE\\PROJECTS\\GENERATIVE_AI\\llm_engi\n",
      "│   neering\\week8\\pricer_service2.py\n",
      "└── 🔨 Created function Pricer.download_model_to_folder.\n",
      "- Creating objects...\n",
      "├── 🔨 Created mount \n",
      "│   c:\\Users\\iskorpittt\\Desktop\\MY_DATA_SCIENCE\\PROJECTS\\GENERATIVE_AI\\llm_engi\n",
      "│   neering\\week8\\pricer_service2.py\n",
      "└── 🔨 Created function Pricer.download_model_to_folder.\n",
      "/ Creating objects...\n",
      "├── 🔨 Created mount \n",
      "│   c:\\Users\\iskorpittt\\Desktop\\MY_DATA_SCIENCE\\PROJECTS\\GENERATIVE_AI\\llm_engi\n",
      "│   neering\\week8\\pricer_service2.py\n",
      "└── 🔨 Created function Pricer.download_model_to_folder.\n",
      "- Creating objects...\n",
      "├── 🔨 Created mount \n",
      "│   c:\\Users\\iskorpittt\\Desktop\\MY_DATA_SCIENCE\\PROJECTS\\GENERATIVE_AI\\llm_engi\n",
      "│   neering\\week8\\pricer_service2.py\n",
      "└── 🔨 Created function Pricer.download_model_to_folder.\n",
      "/ Creating objects...\n",
      "├── 🔨 Created mount \n",
      "│   c:\\Users\\iskorpittt\\Desktop\\MY_DATA_SCIENCE\\PROJECTS\\GENERATIVE_AI\\llm_engi\n",
      "│   neering\\week8\\pricer_service2.py\n",
      "└── 🔨 Created function Pricer.download_model_to_folder.\n",
      "- Creating objects...\n",
      "├── 🔨 Created mount \n",
      "│   c:\\Users\\iskorpittt\\Desktop\\MY_DATA_SCIENCE\\PROJECTS\\GENERATIVE_AI\\llm_engi\n",
      "│   neering\\week8\\pricer_service2.py\n",
      "└── 🔨 Created function Pricer.download_model_to_folder.\n",
      "| Creating objects...\n",
      "├── 🔨 Created mount \n",
      "│   c:\\Users\\iskorpittt\\Desktop\\MY_DATA_SCIENCE\\PROJECTS\\GENERATIVE_AI\\llm_engi\n",
      "│   neering\\week8\\pricer_service2.py\n",
      "└── 🔨 Created function Pricer.download_model_to_folder.\n",
      "- Creating objects...\n",
      "├── 🔨 Created mount \n",
      "│   c:\\Users\\iskorpittt\\Desktop\\MY_DATA_SCIENCE\\PROJECTS\\GENERATIVE_AI\\llm_engi\n",
      "│   neering\\week8\\pricer_service2.py\n",
      "└── 🔨 Created function Pricer.download_model_to_folder.\n",
      "| Creating objects...\n",
      "├── 🔨 Created mount \n",
      "│   c:\\Users\\iskorpittt\\Desktop\\MY_DATA_SCIENCE\\PROJECTS\\GENERATIVE_AI\\llm_engi\n",
      "│   neering\\week8\\pricer_service2.py\n",
      "└── 🔨 Created function Pricer.download_model_to_folder.\n",
      "- Creating objects...\n",
      "├── 🔨 Created mount \n",
      "│   c:\\Users\\iskorpittt\\Desktop\\MY_DATA_SCIENCE\\PROJECTS\\GENERATIVE_AI\\llm_engi\n",
      "│   neering\\week8\\pricer_service2.py\n",
      "└── 🔨 Created function Pricer.download_model_to_folder.\n",
      "| Creating objects...\n",
      "├── 🔨 Created mount \n",
      "│   c:\\Users\\iskorpittt\\Desktop\\MY_DATA_SCIENCE\\PROJECTS\\GENERATIVE_AI\\llm_engi\n",
      "│   neering\\week8\\pricer_service2.py\n",
      "└── 🔨 Created function Pricer.download_model_to_folder.\n",
      "- Creating objects...\n",
      "├── 🔨 Created mount \n",
      "│   c:\\Users\\iskorpittt\\Desktop\\MY_DATA_SCIENCE\\PROJECTS\\GENERATIVE_AI\\llm_engi\n",
      "│   neering\\week8\\pricer_service2.py\n",
      "└── 🔨 Created function Pricer.download_model_to_folder.\n",
      "| Creating objects...\n",
      "├── 🔨 Created mount \n",
      "│   c:\\Users\\iskorpittt\\Desktop\\MY_DATA_SCIENCE\\PROJECTS\\GENERATIVE_AI\\llm_engi\n",
      "│   neering\\week8\\pricer_service2.py\n",
      "└── 🔨 Created function Pricer.download_model_to_folder.\n",
      "- Creating objects...\n",
      "├── 🔨 Created mount \n",
      "│   c:\\Users\\iskorpittt\\Desktop\\MY_DATA_SCIENCE\\PROJECTS\\GENERATIVE_AI\\llm_engi\n",
      "│   neering\\week8\\pricer_service2.py\n",
      "└── 🔨 Created function Pricer.download_model_to_folder.\n",
      "| Creating objects...\n",
      "├── 🔨 Created mount \n",
      "│   c:\\Users\\iskorpittt\\Desktop\\MY_DATA_SCIENCE\\PROJECTS\\GENERATIVE_AI\\llm_engi\n",
      "│   neering\\week8\\pricer_service2.py\n",
      "└── 🔨 Created function Pricer.download_model_to_folder.\n",
      "- Creating objects...\n",
      "├── 🔨 Created mount \n",
      "│   c:\\Users\\iskorpittt\\Desktop\\MY_DATA_SCIENCE\\PROJECTS\\GENERATIVE_AI\\llm_engi\n",
      "│   neering\\week8\\pricer_service2.py\n",
      "└── 🔨 Created function Pricer.download_model_to_folder.\n",
      "| Creating objects...\n",
      "├── 🔨 Created mount \n",
      "│   c:\\Users\\iskorpittt\\Desktop\\MY_DATA_SCIENCE\\PROJECTS\\GENERATIVE_AI\\llm_engi\n",
      "│   neering\\week8\\pricer_service2.py\n",
      "└── 🔨 Created function Pricer.download_model_to_folder.\n",
      "- Creating objects...\n",
      "├── 🔨 Created mount \n",
      "│   c:\\Users\\iskorpittt\\Desktop\\MY_DATA_SCIENCE\\PROJECTS\\GENERATIVE_AI\\llm_engi\n",
      "│   neering\\week8\\pricer_service2.py\n",
      "└── 🔨 Created function Pricer.download_model_to_folder.\n",
      "| Creating objects...\n",
      "├── 🔨 Created mount \n",
      "│   c:\\Users\\iskorpittt\\Desktop\\MY_DATA_SCIENCE\\PROJECTS\\GENERATIVE_AI\\llm_engi\n",
      "│   neering\\week8\\pricer_service2.py\n",
      "└── 🔨 Created function Pricer.download_model_to_folder.\n",
      "- Creating objects...\n",
      "├── 🔨 Created mount \n",
      "│   c:\\Users\\iskorpittt\\Desktop\\MY_DATA_SCIENCE\\PROJECTS\\GENERATIVE_AI\\llm_engi\n",
      "│   neering\\week8\\pricer_service2.py\n",
      "└── 🔨 Created function Pricer.download_model_to_folder.\n",
      "| Creating objects...\n",
      "├── 🔨 Created mount \n",
      "│   c:\\Users\\iskorpittt\\Desktop\\MY_DATA_SCIENCE\\PROJECTS\\GENERATIVE_AI\\llm_engi\n",
      "│   neering\\week8\\pricer_service2.py\n",
      "└── 🔨 Created function Pricer.download_model_to_folder.\n",
      "- Creating objects...\n",
      "├── 🔨 Created mount \n",
      "│   c:\\Users\\iskorpittt\\Desktop\\MY_DATA_SCIENCE\\PROJECTS\\GENERATIVE_AI\\llm_engi\n",
      "│   neering\\week8\\pricer_service2.py\n",
      "└── 🔨 Created function Pricer.download_model_to_folder.\n",
      "| Creating objects...\n",
      "├── 🔨 Created mount \n",
      "│   c:\\Users\\iskorpittt\\Desktop\\MY_DATA_SCIENCE\\PROJECTS\\GENERATIVE_AI\\llm_engi\n",
      "│   neering\\week8\\pricer_service2.py\n",
      "└── 🔨 Created function Pricer.download_model_to_folder.\n",
      "- Creating objects...\n",
      "├── 🔨 Created mount \n",
      "│   c:\\Users\\iskorpittt\\Desktop\\MY_DATA_SCIENCE\\PROJECTS\\GENERATIVE_AI\\llm_engi\n",
      "│   neering\\week8\\pricer_service2.py\n",
      "└── 🔨 Created function Pricer.download_model_to_folder.\n",
      "| Creating objects...\n",
      "├── 🔨 Created mount \n",
      "│   c:\\Users\\iskorpittt\\Desktop\\MY_DATA_SCIENCE\\PROJECTS\\GENERATIVE_AI\\llm_engi\n",
      "│   neering\\week8\\pricer_service2.py\n",
      "└── 🔨 Created function Pricer.download_model_to_folder.\n",
      "- Creating objects...\n",
      "├── 🔨 Created mount \n",
      "│   c:\\Users\\iskorpittt\\Desktop\\MY_DATA_SCIENCE\\PROJECTS\\GENERATIVE_AI\\llm_engi\n",
      "│   neering\\week8\\pricer_service2.py\n",
      "└── 🔨 Created function Pricer.download_model_to_folder.\n",
      "| Creating objects...\n",
      "├── 🔨 Created mount \n",
      "│   c:\\Users\\iskorpittt\\Desktop\\MY_DATA_SCIENCE\\PROJECTS\\GENERATIVE_AI\\llm_engi\n",
      "│   neering\\week8\\pricer_service2.py\n",
      "└── 🔨 Created function Pricer.download_model_to_folder.\n",
      "- Creating objects...\n",
      "├── 🔨 Created mount \n",
      "│   c:\\Users\\iskorpittt\\Desktop\\MY_DATA_SCIENCE\\PROJECTS\\GENERATIVE_AI\\llm_engi\n",
      "│   neering\\week8\\pricer_service2.py\n",
      "└── 🔨 Created function Pricer.download_model_to_folder.\n",
      "| Creating objects...\n",
      "├── 🔨 Created mount \n",
      "│   c:\\Users\\iskorpittt\\Desktop\\MY_DATA_SCIENCE\\PROJECTS\\GENERATIVE_AI\\llm_engi\n",
      "│   neering\\week8\\pricer_service2.py\n",
      "└── 🔨 Created function Pricer.download_model_to_folder.\n",
      "\\ Creating objects...\n",
      "├── 🔨 Created mount \n",
      "│   c:\\Users\\iskorpittt\\Desktop\\MY_DATA_SCIENCE\\PROJECTS\\GENERATIVE_AI\\llm_engi\n",
      "│   neering\\week8\\pricer_service2.py\n",
      "└── 🔨 Created function Pricer.download_model_to_folder.\n",
      "| Creating objects...\n",
      "├── 🔨 Created mount \n",
      "│   c:\\Users\\iskorpittt\\Desktop\\MY_DATA_SCIENCE\\PROJECTS\\GENERATIVE_AI\\llm_engi\n",
      "│   neering\\week8\\pricer_service2.py\n",
      "└── 🔨 Created function Pricer.download_model_to_folder.\n",
      "- Creating objects...\n",
      "├── 🔨 Created mount \n",
      "│   c:\\Users\\iskorpittt\\Desktop\\MY_DATA_SCIENCE\\PROJECTS\\GENERATIVE_AI\\llm_engi\n",
      "│   neering\\week8\\pricer_service2.py\n",
      "└── 🔨 Created function Pricer.download_model_to_folder.\n",
      "/ Creating objects...\n",
      "├── 🔨 Created mount \n",
      "│   c:\\Users\\iskorpittt\\Desktop\\MY_DATA_SCIENCE\\PROJECTS\\GENERATIVE_AI\\llm_engi\n",
      "│   neering\\week8\\pricer_service2.py\n",
      "└── 🔨 Created function Pricer.download_model_to_folder.\n",
      "\\ Creating objects...\n",
      "├── 🔨 Created mount \n",
      "│   c:\\Users\\iskorpittt\\Desktop\\MY_DATA_SCIENCE\\PROJECTS\\GENERATIVE_AI\\llm_engi\n",
      "│   neering\\week8\\pricer_service2.py\n",
      "└── 🔨 Created function Pricer.download_model_to_folder.\n",
      "/ Creating objects...\n",
      "├── 🔨 Created mount \n",
      "│   c:\\Users\\iskorpittt\\Desktop\\MY_DATA_SCIENCE\\PROJECTS\\GENERATIVE_AI\\llm_engi\n",
      "│   neering\\week8\\pricer_service2.py\n",
      "└── 🔨 Created function Pricer.download_model_to_folder.\n",
      "\\ Creating objects...\n",
      "├── 🔨 Created mount \n",
      "│   c:\\Users\\iskorpittt\\Desktop\\MY_DATA_SCIENCE\\PROJECTS\\GENERATIVE_AI\\llm_engi\n",
      "│   neering\\week8\\pricer_service2.py\n",
      "└── 🔨 Created function Pricer.download_model_to_folder.\n",
      "/ Creating objects...\n",
      "├── 🔨 Created mount \n",
      "│   c:\\Users\\iskorpittt\\Desktop\\MY_DATA_SCIENCE\\PROJECTS\\GENERATIVE_AI\\llm_engi\n",
      "│   neering\\week8\\pricer_service2.py\n",
      "└── 🔨 Created function Pricer.download_model_to_folder.\n",
      "\\ Creating objects...\n",
      "├── 🔨 Created mount \n",
      "│   c:\\Users\\iskorpittt\\Desktop\\MY_DATA_SCIENCE\\PROJECTS\\GENERATIVE_AI\\llm_engi\n",
      "│   neering\\week8\\pricer_service2.py\n",
      "└── 🔨 Created function Pricer.download_model_to_folder.\n",
      "/ Creating objects...\n",
      "├── 🔨 Created mount \n",
      "│   c:\\Users\\iskorpittt\\Desktop\\MY_DATA_SCIENCE\\PROJECTS\\GENERATIVE_AI\\llm_engi\n",
      "│   neering\\week8\\pricer_service2.py\n",
      "└── 🔨 Created function Pricer.download_model_to_folder.\n",
      "\\ Creating objects...\n",
      "├── 🔨 Created mount \n",
      "│   c:\\Users\\iskorpittt\\Desktop\\MY_DATA_SCIENCE\\PROJECTS\\GENERATIVE_AI\\llm_engi\n",
      "│   neering\\week8\\pricer_service2.py\n",
      "└── 🔨 Created function Pricer.download_model_to_folder.\n",
      "/ Creating objects...\n",
      "├── 🔨 Created mount \n",
      "│   c:\\Users\\iskorpittt\\Desktop\\MY_DATA_SCIENCE\\PROJECTS\\GENERATIVE_AI\\llm_engi\n",
      "│   neering\\week8\\pricer_service2.py\n",
      "└── 🔨 Created function Pricer.download_model_to_folder.\n",
      "\\ Creating objects...\n",
      "├── 🔨 Created mount \n",
      "│   c:\\Users\\iskorpittt\\Desktop\\MY_DATA_SCIENCE\\PROJECTS\\GENERATIVE_AI\\llm_engi\n",
      "│   neering\\week8\\pricer_service2.py\n",
      "└── 🔨 Created function Pricer.download_model_to_folder.\n",
      "/ Creating objects...\n",
      "├── 🔨 Created mount \n",
      "│   c:\\Users\\iskorpittt\\Desktop\\MY_DATA_SCIENCE\\PROJECTS\\GENERATIVE_AI\\llm_engi\n",
      "│   neering\\week8\\pricer_service2.py\n",
      "└── 🔨 Created function Pricer.download_model_to_folder.\n",
      "\\ Creating objects...\n",
      "├── 🔨 Created mount \n",
      "│   c:\\Users\\iskorpittt\\Desktop\\MY_DATA_SCIENCE\\PROJECTS\\GENERATIVE_AI\\llm_engi\n",
      "│   neering\\week8\\pricer_service2.py\n",
      "└── 🔨 Created function Pricer.download_model_to_folder.\n",
      "/ Creating objects...\n",
      "├── 🔨 Created mount \n",
      "│   c:\\Users\\iskorpittt\\Desktop\\MY_DATA_SCIENCE\\PROJECTS\\GENERATIVE_AI\\llm_engi\n",
      "│   neering\\week8\\pricer_service2.py\n",
      "└── 🔨 Created function Pricer.download_model_to_folder.\n",
      "\\ Creating objects...\n",
      "├── 🔨 Created mount \n",
      "│   c:\\Users\\iskorpittt\\Desktop\\MY_DATA_SCIENCE\\PROJECTS\\GENERATIVE_AI\\llm_engi\n",
      "│   neering\\week8\\pricer_service2.py\n",
      "└── 🔨 Created function Pricer.download_model_to_folder.\n",
      "/ Creating objects...\n",
      "├── 🔨 Created mount \n",
      "│   c:\\Users\\iskorpittt\\Desktop\\MY_DATA_SCIENCE\\PROJECTS\\GENERATIVE_AI\\llm_engi\n",
      "│   neering\\week8\\pricer_service2.py\n",
      "└── 🔨 Created function Pricer.download_model_to_folder.\n",
      "\n"
     ]
    },
    {
     "name": "stderr",
     "output_type": "stream",
     "text": [
      "[Thread-1 (thread_inner)] 2025-02-05T12:45:56+0300 Loop attempt for _deploy_app.<locals>.heartbeat failed\n",
      "Traceback (most recent call last):\n",
      "  File \"C:\\Users\\iskorpittt\\Desktop\\MY_DATA_SCIENCE\\PROJECTS\\GENERATIVE_AI\\llm_engineering\\venv\\Lib\\site-packages\\modal\\_utils\\async_utils.py\", line 195, in loop_coro\n",
      "    await asyncio.wait_for(async_f(), timeout=timeout)\n",
      "  File \"C:\\Program Files\\Python312\\Lib\\asyncio\\tasks.py\", line 520, in wait_for\n",
      "    return await fut\n",
      "           ^^^^^^^^^\n",
      "  File \"C:\\Users\\iskorpittt\\Desktop\\MY_DATA_SCIENCE\\PROJECTS\\GENERATIVE_AI\\llm_engineering\\venv\\Lib\\site-packages\\modal\\runner.py\", line 52, in _heartbeat\n",
      "    await retry_transient_errors(client.stub.AppHeartbeat, request, attempt_timeout=HEARTBEAT_TIMEOUT)\n",
      "  File \"C:\\Users\\iskorpittt\\Desktop\\MY_DATA_SCIENCE\\PROJECTS\\GENERATIVE_AI\\llm_engineering\\venv\\Lib\\site-packages\\modal\\_utils\\grpc_utils.py\", line 184, in retry_transient_errors\n",
      "    raise exc\n",
      "  File \"C:\\Users\\iskorpittt\\Desktop\\MY_DATA_SCIENCE\\PROJECTS\\GENERATIVE_AI\\llm_engineering\\venv\\Lib\\site-packages\\modal\\_utils\\grpc_utils.py\", line 178, in retry_transient_errors\n",
      "    return await fn(*args, metadata=metadata, timeout=timeout)\n",
      "           ^^^^^^^^^^^^^^^^^^^^^^^^^^^^^^^^^^^^^^^^^^^^^^^^^^^\n",
      "  File \"C:\\Users\\iskorpittt\\Desktop\\MY_DATA_SCIENCE\\PROJECTS\\GENERATIVE_AI\\llm_engineering\\venv\\Lib\\site-packages\\modal\\client.py\", line 365, in __call__\n",
      "    return await self.client._call_unary(self._wrapped_method_name, req, timeout=timeout, metadata=metadata)\n",
      "           ^^^^^^^^^^^^^^^^^^^^^^^^^^^^^^^^^^^^^^^^^^^^^^^^^^^^^^^^^^^^^^^^^^^^^^^^^^^^^^^^^^^^^^^^^^^^^^^^^\n",
      "  File \"C:\\Users\\iskorpittt\\Desktop\\MY_DATA_SCIENCE\\PROJECTS\\GENERATIVE_AI\\llm_engineering\\venv\\Lib\\site-packages\\modal\\client.py\", line 307, in _call_unary\n",
      "    return await self._call_safely(coro, grpclib_method.name)\n",
      "           ^^^^^^^^^^^^^^^^^^^^^^^^^^^^^^^^^^^^^^^^^^^^^^^^^^\n",
      "  File \"C:\\Users\\iskorpittt\\Desktop\\MY_DATA_SCIENCE\\PROJECTS\\GENERATIVE_AI\\llm_engineering\\venv\\Lib\\site-packages\\modal\\client.py\", line 266, in _call_safely\n",
      "    return await request_task\n",
      "           ^^^^^^^^^^^^^^^^^^\n",
      "  File \"C:\\Users\\iskorpittt\\Desktop\\MY_DATA_SCIENCE\\PROJECTS\\GENERATIVE_AI\\llm_engineering\\venv\\Lib\\site-packages\\grpclib\\client.py\", line 904, in __call__\n",
      "    reply = await stream.recv_message()\n",
      "            ^^^^^^^^^^^^^^^^^^^^^^^^^^^\n",
      "  File \"C:\\Users\\iskorpittt\\Desktop\\MY_DATA_SCIENCE\\PROJECTS\\GENERATIVE_AI\\llm_engineering\\venv\\Lib\\site-packages\\grpclib\\client.py\", line 425, in recv_message\n",
      "    await self.recv_initial_metadata()\n",
      "  File \"C:\\Users\\iskorpittt\\Desktop\\MY_DATA_SCIENCE\\PROJECTS\\GENERATIVE_AI\\llm_engineering\\venv\\Lib\\site-packages\\grpclib\\client.py\", line 393, in recv_initial_metadata\n",
      "    self._raise_for_grpc_status(status, message, details)\n",
      "  File \"C:\\Users\\iskorpittt\\Desktop\\MY_DATA_SCIENCE\\PROJECTS\\GENERATIVE_AI\\llm_engineering\\venv\\Lib\\site-packages\\grpclib\\client.py\", line 345, in _raise_for_grpc_status\n",
      "    raise GRPCError(status, message, details)\n",
      "grpclib.exceptions.GRPCError: (<Status.FAILED_PRECONDITION: 9>, 'App state is APP_STATE_STOPPED', None)\n",
      "[Thread-1 (thread_inner)] 2025-02-05T12:46:12+0300 Loop attempt for _deploy_app.<locals>.heartbeat failed\n",
      "Traceback (most recent call last):\n",
      "  File \"C:\\Users\\iskorpittt\\Desktop\\MY_DATA_SCIENCE\\PROJECTS\\GENERATIVE_AI\\llm_engineering\\venv\\Lib\\site-packages\\modal\\_utils\\async_utils.py\", line 195, in loop_coro\n",
      "    await asyncio.wait_for(async_f(), timeout=timeout)\n",
      "  File \"C:\\Program Files\\Python312\\Lib\\asyncio\\tasks.py\", line 520, in wait_for\n",
      "    return await fut\n",
      "           ^^^^^^^^^\n",
      "  File \"C:\\Users\\iskorpittt\\Desktop\\MY_DATA_SCIENCE\\PROJECTS\\GENERATIVE_AI\\llm_engineering\\venv\\Lib\\site-packages\\modal\\runner.py\", line 52, in _heartbeat\n",
      "    await retry_transient_errors(client.stub.AppHeartbeat, request, attempt_timeout=HEARTBEAT_TIMEOUT)\n",
      "  File \"C:\\Users\\iskorpittt\\Desktop\\MY_DATA_SCIENCE\\PROJECTS\\GENERATIVE_AI\\llm_engineering\\venv\\Lib\\site-packages\\modal\\_utils\\grpc_utils.py\", line 184, in retry_transient_errors\n",
      "    raise exc\n",
      "  File \"C:\\Users\\iskorpittt\\Desktop\\MY_DATA_SCIENCE\\PROJECTS\\GENERATIVE_AI\\llm_engineering\\venv\\Lib\\site-packages\\modal\\_utils\\grpc_utils.py\", line 178, in retry_transient_errors\n",
      "    return await fn(*args, metadata=metadata, timeout=timeout)\n",
      "           ^^^^^^^^^^^^^^^^^^^^^^^^^^^^^^^^^^^^^^^^^^^^^^^^^^^\n",
      "  File \"C:\\Users\\iskorpittt\\Desktop\\MY_DATA_SCIENCE\\PROJECTS\\GENERATIVE_AI\\llm_engineering\\venv\\Lib\\site-packages\\modal\\client.py\", line 365, in __call__\n",
      "    return await self.client._call_unary(self._wrapped_method_name, req, timeout=timeout, metadata=metadata)\n",
      "           ^^^^^^^^^^^^^^^^^^^^^^^^^^^^^^^^^^^^^^^^^^^^^^^^^^^^^^^^^^^^^^^^^^^^^^^^^^^^^^^^^^^^^^^^^^^^^^^^^\n",
      "  File \"C:\\Users\\iskorpittt\\Desktop\\MY_DATA_SCIENCE\\PROJECTS\\GENERATIVE_AI\\llm_engineering\\venv\\Lib\\site-packages\\modal\\client.py\", line 307, in _call_unary\n",
      "    return await self._call_safely(coro, grpclib_method.name)\n",
      "           ^^^^^^^^^^^^^^^^^^^^^^^^^^^^^^^^^^^^^^^^^^^^^^^^^^\n",
      "  File \"C:\\Users\\iskorpittt\\Desktop\\MY_DATA_SCIENCE\\PROJECTS\\GENERATIVE_AI\\llm_engineering\\venv\\Lib\\site-packages\\modal\\client.py\", line 266, in _call_safely\n",
      "    return await request_task\n",
      "           ^^^^^^^^^^^^^^^^^^\n",
      "  File \"C:\\Users\\iskorpittt\\Desktop\\MY_DATA_SCIENCE\\PROJECTS\\GENERATIVE_AI\\llm_engineering\\venv\\Lib\\site-packages\\grpclib\\client.py\", line 904, in __call__\n",
      "    reply = await stream.recv_message()\n",
      "            ^^^^^^^^^^^^^^^^^^^^^^^^^^^\n",
      "  File \"C:\\Users\\iskorpittt\\Desktop\\MY_DATA_SCIENCE\\PROJECTS\\GENERATIVE_AI\\llm_engineering\\venv\\Lib\\site-packages\\grpclib\\client.py\", line 425, in recv_message\n",
      "    await self.recv_initial_metadata()\n",
      "  File \"C:\\Users\\iskorpittt\\Desktop\\MY_DATA_SCIENCE\\PROJECTS\\GENERATIVE_AI\\llm_engineering\\venv\\Lib\\site-packages\\grpclib\\client.py\", line 393, in recv_initial_metadata\n",
      "    self._raise_for_grpc_status(status, message, details)\n",
      "  File \"C:\\Users\\iskorpittt\\Desktop\\MY_DATA_SCIENCE\\PROJECTS\\GENERATIVE_AI\\llm_engineering\\venv\\Lib\\site-packages\\grpclib\\client.py\", line 345, in _raise_for_grpc_status\n",
      "    raise GRPCError(status, message, details)\n",
      "grpclib.exceptions.GRPCError: (<Status.FAILED_PRECONDITION: 9>, 'App state is APP_STATE_STOPPED', None)\n",
      "┌─ Error ─────────────────────────────────────────────────────────────────────┐\n",
      "│ Image build for im-HniYSfTEAl6jaoTdDGMDEF terminated due to external        │\n",
      "│ shut-down. Please try again.                                                │\n",
      "└─────────────────────────────────────────────────────────────────────────────┘\n"
     ]
    }
   ],
   "source": [
    "# You can also run \"modal deploy pricer_service2\" at the command line in an activated environment\n",
    "!modal deploy pricer_service2"
   ]
  },
  {
   "cell_type": "code",
   "execution_count": 20,
   "id": "9e19daeb-1281-484b-9d2f-95cc6fed2622",
   "metadata": {},
   "outputs": [
    {
     "ename": "NotFoundError",
     "evalue": "Class not found in app",
     "output_type": "error",
     "traceback": [
      "\u001b[1;31m---------------------------------------------------------------------------\u001b[0m",
      "\u001b[1;31mNotFoundError\u001b[0m                             Traceback (most recent call last)",
      "Cell \u001b[1;32mIn[20], line 1\u001b[0m\n\u001b[1;32m----> 1\u001b[0m Pricer \u001b[38;5;241m=\u001b[39m \u001b[43mmodal\u001b[49m\u001b[38;5;241;43m.\u001b[39;49m\u001b[43mCls\u001b[49m\u001b[38;5;241;43m.\u001b[39;49m\u001b[43mlookup\u001b[49m\u001b[43m(\u001b[49m\u001b[38;5;124;43m\"\u001b[39;49m\u001b[38;5;124;43mpricer-service\u001b[39;49m\u001b[38;5;124;43m\"\u001b[39;49m\u001b[43m,\u001b[49m\u001b[43m \u001b[49m\u001b[38;5;124;43m\"\u001b[39;49m\u001b[38;5;124;43mPricer\u001b[39;49m\u001b[38;5;124;43m\"\u001b[39;49m\u001b[43m)\u001b[49m\n\u001b[0;32m      2\u001b[0m pricer \u001b[38;5;241m=\u001b[39m Pricer()\n\u001b[0;32m      3\u001b[0m reply \u001b[38;5;241m=\u001b[39m pricer\u001b[38;5;241m.\u001b[39mprice\u001b[38;5;241m.\u001b[39mremote(\u001b[38;5;124m\"\u001b[39m\u001b[38;5;124mQuadcast HyperX condenser mic, connects via usb-c to your computer for crystal clear audio\u001b[39m\u001b[38;5;124m\"\u001b[39m)\n",
      "File \u001b[1;32mc:\\Users\\iskorpittt\\Desktop\\MY_DATA_SCIENCE\\PROJECTS\\GENERATIVE_AI\\llm_engineering\\venv\\Lib\\site-packages\\synchronicity\\combined_types.py:29\u001b[0m, in \u001b[0;36mFunctionWithAio.__call__\u001b[1;34m(self, *args, **kwargs)\u001b[0m\n\u001b[0;32m     27\u001b[0m \u001b[38;5;28;01mexcept\u001b[39;00m UserCodeException \u001b[38;5;28;01mas\u001b[39;00m uc_exc:\n\u001b[0;32m     28\u001b[0m     uc_exc\u001b[38;5;241m.\u001b[39mexc\u001b[38;5;241m.\u001b[39m__suppress_context__ \u001b[38;5;241m=\u001b[39m \u001b[38;5;28;01mTrue\u001b[39;00m\n\u001b[1;32m---> 29\u001b[0m     \u001b[38;5;28;01mraise\u001b[39;00m uc_exc\u001b[38;5;241m.\u001b[39mexc\n",
      "File \u001b[1;32mc:\\Users\\iskorpittt\\Desktop\\MY_DATA_SCIENCE\\PROJECTS\\GENERATIVE_AI\\llm_engineering\\venv\\Lib\\site-packages\\modal\\cls.py:666\u001b[0m, in \u001b[0;36m_Cls.lookup\u001b[1;34m(app_name, name, namespace, client, environment_name, workspace)\u001b[0m\n\u001b[0;32m    664\u001b[0m     client \u001b[38;5;241m=\u001b[39m \u001b[38;5;28;01mawait\u001b[39;00m _Client\u001b[38;5;241m.\u001b[39mfrom_env()\n\u001b[0;32m    665\u001b[0m resolver \u001b[38;5;241m=\u001b[39m Resolver(client\u001b[38;5;241m=\u001b[39mclient)\n\u001b[1;32m--> 666\u001b[0m \u001b[38;5;28;01mawait\u001b[39;00m resolver\u001b[38;5;241m.\u001b[39mload(obj)\n\u001b[0;32m    667\u001b[0m \u001b[38;5;28;01mreturn\u001b[39;00m obj\n",
      "File \u001b[1;32mc:\\Users\\iskorpittt\\Desktop\\MY_DATA_SCIENCE\\PROJECTS\\GENERATIVE_AI\\llm_engineering\\venv\\Lib\\site-packages\\modal\\_resolver.py:155\u001b[0m, in \u001b[0;36mResolver.load\u001b[1;34m(self, obj, existing_object_id)\u001b[0m\n\u001b[0;32m    152\u001b[0m         \u001b[38;5;28mself\u001b[39m\u001b[38;5;241m.\u001b[39m_deduplication_cache[deduplication_key] \u001b[38;5;241m=\u001b[39m cached_future\n\u001b[0;32m    154\u001b[0m \u001b[38;5;66;03m# TODO(elias): print original exception/trace rather than the Resolver-internal trace\u001b[39;00m\n\u001b[1;32m--> 155\u001b[0m \u001b[38;5;28;01mreturn\u001b[39;00m \u001b[38;5;28;01mawait\u001b[39;00m cached_future\n",
      "File \u001b[1;32mc:\\Users\\iskorpittt\\Desktop\\MY_DATA_SCIENCE\\PROJECTS\\GENERATIVE_AI\\llm_engineering\\venv\\Lib\\site-packages\\modal\\_resolver.py:128\u001b[0m, in \u001b[0;36mResolver.load.<locals>.loader\u001b[1;34m()\u001b[0m\n\u001b[0;32m    126\u001b[0m \u001b[38;5;66;03m# Load the object itself\u001b[39;00m\n\u001b[0;32m    127\u001b[0m \u001b[38;5;28;01mtry\u001b[39;00m:\n\u001b[1;32m--> 128\u001b[0m     \u001b[38;5;28;01mawait\u001b[39;00m obj\u001b[38;5;241m.\u001b[39m_load(obj, \u001b[38;5;28mself\u001b[39m, existing_object_id)\n\u001b[0;32m    129\u001b[0m \u001b[38;5;28;01mexcept\u001b[39;00m GRPCError \u001b[38;5;28;01mas\u001b[39;00m exc:\n\u001b[0;32m    130\u001b[0m     \u001b[38;5;28;01mif\u001b[39;00m exc\u001b[38;5;241m.\u001b[39mstatus \u001b[38;5;241m==\u001b[39m Status\u001b[38;5;241m.\u001b[39mNOT_FOUND:\n",
      "File \u001b[1;32mc:\\Users\\iskorpittt\\Desktop\\MY_DATA_SCIENCE\\PROJECTS\\GENERATIVE_AI\\llm_engineering\\venv\\Lib\\site-packages\\modal\\cls.py:552\u001b[0m, in \u001b[0;36m_Cls.from_name.<locals>._load_remote\u001b[1;34m(obj, resolver, existing_object_id)\u001b[0m\n\u001b[0;32m    550\u001b[0m \u001b[38;5;28;01mexcept\u001b[39;00m GRPCError \u001b[38;5;28;01mas\u001b[39;00m exc:\n\u001b[0;32m    551\u001b[0m     \u001b[38;5;28;01mif\u001b[39;00m exc\u001b[38;5;241m.\u001b[39mstatus \u001b[38;5;241m==\u001b[39m Status\u001b[38;5;241m.\u001b[39mNOT_FOUND:\n\u001b[1;32m--> 552\u001b[0m         \u001b[38;5;28;01mraise\u001b[39;00m NotFoundError(exc\u001b[38;5;241m.\u001b[39mmessage)\n\u001b[0;32m    553\u001b[0m     \u001b[38;5;28;01melif\u001b[39;00m exc\u001b[38;5;241m.\u001b[39mstatus \u001b[38;5;241m==\u001b[39m Status\u001b[38;5;241m.\u001b[39mFAILED_PRECONDITION:\n\u001b[0;32m    554\u001b[0m         \u001b[38;5;28;01mraise\u001b[39;00m InvalidError(exc\u001b[38;5;241m.\u001b[39mmessage)\n",
      "\u001b[1;31mNotFoundError\u001b[0m: Class not found in app"
     ]
    }
   ],
   "source": [
    "Pricer = modal.Cls.lookup(\"pricer-service\", \"Pricer\")\n",
    "pricer = Pricer()\n",
    "reply = pricer.price.remote(\"Quadcast HyperX condenser mic, connects via usb-c to your computer for crystal clear audio\")\n",
    "print(reply)"
   ]
  },
  {
   "cell_type": "markdown",
   "id": "9c1b1451-6249-4462-bf2d-5937c059926c",
   "metadata": {},
   "source": [
    "# Optional: Keeping Modal warm\n",
    "\n",
    "## A way to improve the speed of the Modal pricer service\n",
    "\n",
    "A student mentioned to me that he was concerned by how slow Modal seems to be. The reason is that Modal puts our service to sleep if we don't use it, and then it takes 2.5 minutes to spin back up.\n",
    "\n",
    "I've added a utility called `keep_warm.py` that will keep our Modal warm by pinging it every 30 seconds.\n",
    "\n",
    "To use the utliity, bring up a new Terminal (Mac) or Anaconda prompt (Windows), ensure the environment is activated with `conda activate llms`\n",
    "\n",
    "Then run: `python keep_warm.py` from within the week8 drectory.\n",
    "\n",
    "Remember to press ctrl+C or exit the window when you no longer need Modal running.\n"
   ]
  },
  {
   "cell_type": "markdown",
   "id": "3754cfdd-ae28-47c8-91f2-6e060e2c91b3",
   "metadata": {},
   "source": [
    "## And now introducing our Agent class"
   ]
  },
  {
   "cell_type": "code",
   "execution_count": 4,
   "id": "ba9aedca-6a7b-4d30-9f64-59d76f76fb6d",
   "metadata": {},
   "outputs": [],
   "source": [
    "from agents.specialist_agent import SpecialistAgent\n"
   ]
  },
  {
   "cell_type": "code",
   "execution_count": 5,
   "id": "fe5843e5-e958-4a65-8326-8f5b4686de7f",
   "metadata": {},
   "outputs": [
    {
     "ename": "NotFoundError",
     "evalue": "App not found",
     "output_type": "error",
     "traceback": [
      "\u001b[1;31m---------------------------------------------------------------------------\u001b[0m",
      "\u001b[1;31mNotFoundError\u001b[0m                             Traceback (most recent call last)",
      "Cell \u001b[1;32mIn[5], line 1\u001b[0m\n\u001b[1;32m----> 1\u001b[0m agent \u001b[38;5;241m=\u001b[39m \u001b[43mSpecialistAgent\u001b[49m\u001b[43m(\u001b[49m\u001b[43m)\u001b[49m\n\u001b[0;32m      2\u001b[0m agent\u001b[38;5;241m.\u001b[39mprice(\u001b[38;5;124m\"\u001b[39m\u001b[38;5;124miPad Pro 2nd generation\u001b[39m\u001b[38;5;124m\"\u001b[39m)\n",
      "File \u001b[1;32mc:\\Users\\iskorpittt\\Desktop\\MY_DATA_SCIENCE\\PROJECTS\\GENERATIVE_AI\\llm_engineering\\week8\\agents\\specialist_agent.py:18\u001b[0m, in \u001b[0;36mSpecialistAgent.__init__\u001b[1;34m(self)\u001b[0m\n\u001b[0;32m     14\u001b[0m \u001b[38;5;250m\u001b[39m\u001b[38;5;124;03m\"\"\"\u001b[39;00m\n\u001b[0;32m     15\u001b[0m \u001b[38;5;124;03mSet up this Agent by creating an instance of the modal class\u001b[39;00m\n\u001b[0;32m     16\u001b[0m \u001b[38;5;124;03m\"\"\"\u001b[39;00m\n\u001b[0;32m     17\u001b[0m \u001b[38;5;28mself\u001b[39m\u001b[38;5;241m.\u001b[39mlog(\u001b[38;5;124m\"\u001b[39m\u001b[38;5;124mSpecialist Agent is initializing - connecting to modal\u001b[39m\u001b[38;5;124m\"\u001b[39m)\n\u001b[1;32m---> 18\u001b[0m Pricer \u001b[38;5;241m=\u001b[39m \u001b[43mmodal\u001b[49m\u001b[38;5;241;43m.\u001b[39;49m\u001b[43mCls\u001b[49m\u001b[38;5;241;43m.\u001b[39;49m\u001b[43mlookup\u001b[49m\u001b[43m(\u001b[49m\u001b[38;5;124;43m\"\u001b[39;49m\u001b[38;5;124;43mpricer-service\u001b[39;49m\u001b[38;5;124;43m\"\u001b[39;49m\u001b[43m,\u001b[49m\u001b[43m \u001b[49m\u001b[38;5;124;43m\"\u001b[39;49m\u001b[38;5;124;43mPricer\u001b[39;49m\u001b[38;5;124;43m\"\u001b[39;49m\u001b[43m)\u001b[49m\n\u001b[0;32m     19\u001b[0m \u001b[38;5;28mself\u001b[39m\u001b[38;5;241m.\u001b[39mpricer \u001b[38;5;241m=\u001b[39m Pricer()\n\u001b[0;32m     20\u001b[0m \u001b[38;5;28mself\u001b[39m\u001b[38;5;241m.\u001b[39mlog(\u001b[38;5;124m\"\u001b[39m\u001b[38;5;124mSpecialist Agent is ready\u001b[39m\u001b[38;5;124m\"\u001b[39m)\n",
      "File \u001b[1;32mc:\\Users\\iskorpittt\\Desktop\\MY_DATA_SCIENCE\\PROJECTS\\GENERATIVE_AI\\llm_engineering\\venv\\Lib\\site-packages\\synchronicity\\combined_types.py:29\u001b[0m, in \u001b[0;36mFunctionWithAio.__call__\u001b[1;34m(self, *args, **kwargs)\u001b[0m\n\u001b[0;32m     27\u001b[0m \u001b[38;5;28;01mexcept\u001b[39;00m UserCodeException \u001b[38;5;28;01mas\u001b[39;00m uc_exc:\n\u001b[0;32m     28\u001b[0m     uc_exc\u001b[38;5;241m.\u001b[39mexc\u001b[38;5;241m.\u001b[39m__suppress_context__ \u001b[38;5;241m=\u001b[39m \u001b[38;5;28;01mTrue\u001b[39;00m\n\u001b[1;32m---> 29\u001b[0m     \u001b[38;5;28;01mraise\u001b[39;00m uc_exc\u001b[38;5;241m.\u001b[39mexc\n",
      "File \u001b[1;32mc:\\Users\\iskorpittt\\Desktop\\MY_DATA_SCIENCE\\PROJECTS\\GENERATIVE_AI\\llm_engineering\\venv\\Lib\\site-packages\\modal\\cls.py:666\u001b[0m, in \u001b[0;36m_Cls.lookup\u001b[1;34m(app_name, name, namespace, client, environment_name, workspace)\u001b[0m\n\u001b[0;32m    664\u001b[0m     client \u001b[38;5;241m=\u001b[39m \u001b[38;5;28;01mawait\u001b[39;00m _Client\u001b[38;5;241m.\u001b[39mfrom_env()\n\u001b[0;32m    665\u001b[0m resolver \u001b[38;5;241m=\u001b[39m Resolver(client\u001b[38;5;241m=\u001b[39mclient)\n\u001b[1;32m--> 666\u001b[0m \u001b[38;5;28;01mawait\u001b[39;00m resolver\u001b[38;5;241m.\u001b[39mload(obj)\n\u001b[0;32m    667\u001b[0m \u001b[38;5;28;01mreturn\u001b[39;00m obj\n",
      "File \u001b[1;32mc:\\Users\\iskorpittt\\Desktop\\MY_DATA_SCIENCE\\PROJECTS\\GENERATIVE_AI\\llm_engineering\\venv\\Lib\\site-packages\\modal\\_resolver.py:155\u001b[0m, in \u001b[0;36mResolver.load\u001b[1;34m(self, obj, existing_object_id)\u001b[0m\n\u001b[0;32m    152\u001b[0m         \u001b[38;5;28mself\u001b[39m\u001b[38;5;241m.\u001b[39m_deduplication_cache[deduplication_key] \u001b[38;5;241m=\u001b[39m cached_future\n\u001b[0;32m    154\u001b[0m \u001b[38;5;66;03m# TODO(elias): print original exception/trace rather than the Resolver-internal trace\u001b[39;00m\n\u001b[1;32m--> 155\u001b[0m \u001b[38;5;28;01mreturn\u001b[39;00m \u001b[38;5;28;01mawait\u001b[39;00m cached_future\n",
      "File \u001b[1;32mc:\\Users\\iskorpittt\\Desktop\\MY_DATA_SCIENCE\\PROJECTS\\GENERATIVE_AI\\llm_engineering\\venv\\Lib\\site-packages\\modal\\_resolver.py:128\u001b[0m, in \u001b[0;36mResolver.load.<locals>.loader\u001b[1;34m()\u001b[0m\n\u001b[0;32m    126\u001b[0m \u001b[38;5;66;03m# Load the object itself\u001b[39;00m\n\u001b[0;32m    127\u001b[0m \u001b[38;5;28;01mtry\u001b[39;00m:\n\u001b[1;32m--> 128\u001b[0m     \u001b[38;5;28;01mawait\u001b[39;00m obj\u001b[38;5;241m.\u001b[39m_load(obj, \u001b[38;5;28mself\u001b[39m, existing_object_id)\n\u001b[0;32m    129\u001b[0m \u001b[38;5;28;01mexcept\u001b[39;00m GRPCError \u001b[38;5;28;01mas\u001b[39;00m exc:\n\u001b[0;32m    130\u001b[0m     \u001b[38;5;28;01mif\u001b[39;00m exc\u001b[38;5;241m.\u001b[39mstatus \u001b[38;5;241m==\u001b[39m Status\u001b[38;5;241m.\u001b[39mNOT_FOUND:\n",
      "File \u001b[1;32mc:\\Users\\iskorpittt\\Desktop\\MY_DATA_SCIENCE\\PROJECTS\\GENERATIVE_AI\\llm_engineering\\venv\\Lib\\site-packages\\modal\\cls.py:552\u001b[0m, in \u001b[0;36m_Cls.from_name.<locals>._load_remote\u001b[1;34m(obj, resolver, existing_object_id)\u001b[0m\n\u001b[0;32m    550\u001b[0m \u001b[38;5;28;01mexcept\u001b[39;00m GRPCError \u001b[38;5;28;01mas\u001b[39;00m exc:\n\u001b[0;32m    551\u001b[0m     \u001b[38;5;28;01mif\u001b[39;00m exc\u001b[38;5;241m.\u001b[39mstatus \u001b[38;5;241m==\u001b[39m Status\u001b[38;5;241m.\u001b[39mNOT_FOUND:\n\u001b[1;32m--> 552\u001b[0m         \u001b[38;5;28;01mraise\u001b[39;00m NotFoundError(exc\u001b[38;5;241m.\u001b[39mmessage)\n\u001b[0;32m    553\u001b[0m     \u001b[38;5;28;01melif\u001b[39;00m exc\u001b[38;5;241m.\u001b[39mstatus \u001b[38;5;241m==\u001b[39m Status\u001b[38;5;241m.\u001b[39mFAILED_PRECONDITION:\n\u001b[0;32m    554\u001b[0m         \u001b[38;5;28;01mraise\u001b[39;00m InvalidError(exc\u001b[38;5;241m.\u001b[39mmessage)\n",
      "\u001b[1;31mNotFoundError\u001b[0m: App not found"
     ]
    }
   ],
   "source": [
    "agent = SpecialistAgent()\n",
    "agent.price(\"iPad Pro 2nd generation\")"
   ]
  },
  {
   "cell_type": "code",
   "execution_count": null,
   "id": "f5a3181b-1310-4102-8d7d-52caf4c00538",
   "metadata": {},
   "outputs": [],
   "source": []
  }
 ],
 "metadata": {
  "kernelspec": {
   "display_name": "venv",
   "language": "python",
   "name": "python3"
  },
  "language_info": {
   "codemirror_mode": {
    "name": "ipython",
    "version": 3
   },
   "file_extension": ".py",
   "mimetype": "text/x-python",
   "name": "python",
   "nbconvert_exporter": "python",
   "pygments_lexer": "ipython3",
   "version": "3.12.6"
  }
 },
 "nbformat": 4,
 "nbformat_minor": 5
}
