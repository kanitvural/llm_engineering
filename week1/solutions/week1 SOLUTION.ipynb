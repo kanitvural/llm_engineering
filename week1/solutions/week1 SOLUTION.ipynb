{
 "cells": [
  {
   "cell_type": "markdown",
   "id": "fe12c203-e6a6-452c-a655-afb8a03a4ff5",
   "metadata": {},
   "source": [
    "# End of week 1 solution\n",
    "\n",
    "To demonstrate your familiarity with OpenAI API, and also Ollama, build a tool that takes a technical question,  \n",
    "and responds with an explanation. This is a tool that you will be able to use yourself during the course!\n",
    "\n",
    "After week 2 you'll be able to add a User Interface to this tool, giving you a valuable application."
   ]
  },
  {
   "cell_type": "code",
   "execution_count": 1,
   "id": "c1070317-3ed9-4659-abe3-828943230e03",
   "metadata": {},
   "outputs": [],
   "source": [
    "# imports\n",
    "\n",
    "from dotenv import load_dotenv\n",
    "from IPython.display import Markdown, display, update_display\n",
    "from openai import OpenAI\n",
    "import ollama"
   ]
  },
  {
   "cell_type": "code",
   "execution_count": 2,
   "id": "4a456906-915a-4bfd-bb9d-57e505c5093f",
   "metadata": {},
   "outputs": [],
   "source": [
    "# constants\n",
    "\n",
    "MODEL_GPT = 'gpt-4o-mini'\n",
    "MODEL_LLAMA = 'llama3.2'"
   ]
  },
  {
   "cell_type": "code",
   "execution_count": 3,
   "id": "a8d7923c-5f28-4c30-8556-342d7c8497c1",
   "metadata": {},
   "outputs": [],
   "source": [
    "# set up environment\n",
    "\n",
    "load_dotenv()\n",
    "openai = OpenAI()\n"
   ]
  },
  {
   "cell_type": "code",
   "execution_count": 4,
   "id": "3f0d0137-52b0-47a8-81a8-11a90a010798",
   "metadata": {},
   "outputs": [],
   "source": [
    "# here is the question; type over this to ask something new\n",
    "\n",
    "question = \"\"\"\n",
    "Please explain what this code does and why:\n",
    "yield from {book.get(\"author\") for book in books if book.get(\"author\")}\n",
    "\"\"\""
   ]
  },
  {
   "cell_type": "code",
   "execution_count": 5,
   "id": "8595807b-8ae2-4e1b-95d9-e8532142e8bb",
   "metadata": {},
   "outputs": [],
   "source": [
    "# prompts\n",
    "\n",
    "system_prompt = \"You are a helpful technical tutor who answers questions about python code, software engineering, data science and LLMs\"\n",
    "user_prompt = \"Please give a detailed explanation to the following question: \" + question"
   ]
  },
  {
   "cell_type": "code",
   "execution_count": 7,
   "id": "9605cbb6-3d3f-4969-b420-7f4cae0b9328",
   "metadata": {},
   "outputs": [],
   "source": [
    "# messages\n",
    "\n",
    "messages = [\n",
    "    {\"role\": \"system\", \"content\": system_prompt},\n",
    "    {\"role\": \"user\", \"content\": user_prompt}\n",
    "]"
   ]
  },
  {
   "cell_type": "code",
   "execution_count": 8,
   "id": "60ce7000-a4a5-4cce-a261-e75ef45063b4",
   "metadata": {},
   "outputs": [
    {
     "data": {
      "text/markdown": [
       "The line of code you provided is a Python generator expression that leverages the `yield from` syntax. Let's break down this code step by step to understand its components, functionality, and purpose.\n",
       "\n",
       "### Code Breakdown\n",
       "\n",
       "1. **Set Comprehension**:\n",
       "   python\n",
       "   {book.get(\"author\") for book in books if book.get(\"author\")}\n",
       "   \n",
       "   - This part of the code is a set comprehension, which is a concise way to create a set.\n",
       "   - The expression iterates over an iterable called `books`. Here, it is assumed that `books` is a collection (like a list or dictionary) of book objects, where each `book` is expected to be a dictionary (or an object) representing a book.\n",
       "   - Inside the comprehension:\n",
       "     - `book.get(\"author\")`: This retrieves the value associated with the key `\"author\"` for each `book`. The use of the `.get()` method ensures that if the key `\"author\"` does not exist, it will return `None` instead of raising a `KeyError`.\n",
       "   - The `if book.get(\"author\")` condition filters out any entries where the `\"author\"` is `None` (or an empty string, etc.), so only books with valid authors are included in the resulting set.\n",
       "   - The entire set comprehension results in a set of authors, effectively removing duplicates (since sets do not allow duplicate entries).\n",
       "\n",
       "2. **Yield from**:\n",
       "   python\n",
       "   yield from ...\n",
       "   \n",
       "   - The `yield from` expression is used within a generator function to yield all values from an iterable. It allows you to yield multiple values from an inner generator or an iterable without having to explicitly loop over it and yield each item individually.\n",
       "   - In this case, it is yielding each element from the set created by the comprehension.\n",
       "\n",
       "### Overall Explanation\n",
       "\n",
       "Putting it all together, this line of code is part of a generator function that yields unique authors from a collection of book dictionaries. Specifically, it performs the following actions:\n",
       "\n",
       "- It iterates over the `books` collection, extracts the author for each book (only if it exists), and collects these authors into a set (which inherently removes any duplicates).\n",
       "- It then yields each unique author one by one.\n",
       "\n",
       "### Purpose and Use Case\n",
       "\n",
       "This code can be quite useful when you need to:\n",
       "\n",
       "- Gather a list of unique authors from a list of books without caring about duplicates.\n",
       "- Create an iterable of authors that can be efficiently fed into other parts of your program or processed lazily, which is beneficial in memory-sensitive contexts.\n",
       "\n",
       "### Example of Use\n",
       "\n",
       "Assuming that `books` is a list of dictionaries like this:\n",
       "\n",
       "python\n",
       "books = [\n",
       "    {\"title\": \"Book A\", \"author\": \"Author 1\"},\n",
       "    {\"title\": \"Book B\", \"author\": \"Author 2\"},\n",
       "    {\"title\": \"Book C\", \"author\": \"Author 1\"},  # Duplicate author\n",
       "    {\"title\": \"Book D\"},  # No author entry\n",
       "]\n",
       "\n",
       "\n",
       "In this context, if you place the provided code inside a generator function, calling that function will yield \"Author 1\" and \"Author 2\".\n",
       "\n",
       "Here’s how you could define that generator:\n",
       "\n",
       "python\n",
       "def unique_authors(books):\n",
       "    yield from {book.get(\"author\") for book in books if book.get(\"author\")}\n",
       "\n",
       "\n",
       "And calling it:\n",
       "\n",
       "python\n",
       "for author in unique_authors(books):\n",
       "    print(author)\n",
       "\n",
       "\n",
       "This would output:\n",
       "\n",
       "\n",
       "Author 1\n",
       "Author 2\n",
       "\n",
       "\n",
       "This exemplifies the power and utility of using generator expressions and set comprehensions in Python for elegant and efficient data processing."
      ],
      "text/plain": [
       "<IPython.core.display.Markdown object>"
      ]
     },
     "metadata": {},
     "output_type": "display_data"
    }
   ],
   "source": [
    "# Get gpt-4o-mini to answer, with streaming\n",
    "\n",
    "stream = openai.chat.completions.create(model=MODEL_GPT, messages=messages,stream=True)\n",
    "    \n",
    "response = \"\"\n",
    "display_handle = display(Markdown(\"\"), display_id=True)\n",
    "for chunk in stream:\n",
    "    response += chunk.choices[0].delta.content or ''\n",
    "    response = response.replace(\"```\",\"\").replace(\"markdown\", \"\")\n",
    "    update_display(Markdown(response), display_id=display_handle.display_id)"
   ]
  },
  {
   "cell_type": "code",
   "execution_count": 9,
   "id": "8f7c8ea8-4082-4ad0-8751-3301adcf6538",
   "metadata": {},
   "outputs": [
    {
     "data": {
      "text/markdown": [
       "**Code Explanation**\n",
       "\n",
       "The given code snippet is written in Python and utilizes several advanced features of the language. Let's break it down into its individual components to understand what it does.\n",
       "\n",
       "```python\n",
       "# Assume that 'books' is a list or other iterable containing dictionaries (books) with 'author' key.\n",
       "yield from {book.get(\"author\") for book in books if book.get(\"author\")}\n",
       "```\n",
       "\n",
       "Here's what happens in this code:\n",
       "\n",
       "1. `{...}` - This creates a dictionary comprehension, which generates a dictionary from the elements of an iterable.\n",
       "\n",
       "2. `for book in books` - This part iterates over each item (`book`) in the `books` iterable.\n",
       "\n",
       "3. `if book.get(\"author\")` - This condition filters out any books that do not have an \"author\" key.\n",
       "\n",
       "4. `yield from {...}` - The `yield from` keyword is used to yield items from a sub-iterator. In this case, it's yielding the result of the dictionary comprehension.\n",
       "\n",
       "5. `{book.get(\"author\") for book in books if book.get(\"author\")}` - This dictionary comprehension generates a set of authors. For each book that has an author, its author name is added to the set.\n",
       "\n",
       "In essence, this code generates a list or other iterable containing the names of all authors from the `books` iterable.\n",
       "\n",
       "**Example Use Case**\n",
       "\n",
       "Suppose we have a list of books, where each book is represented as a dictionary with keys like \"title\", \"author\", etc. We want to generate a list of unique author names.\n",
       "\n",
       "```python\n",
       "# Define the list of books\n",
       "books = [\n",
       "    {\"title\": \"Book 1\", \"author\": \"Author A\"},\n",
       "    {\"title\": \"Book 2\", \"author\": \"Author B\"},\n",
       "    {\"title\": \"Book 3\"},  # No author info\n",
       "    {\"title\": \"Book 4\", \"author\": \"Author C\"}\n",
       "]\n",
       "\n",
       "# Use the given code to generate a list of authors\n",
       "authors = yield from {book.get(\"author\") for book in books if book.get(\"author\")}\n",
       "print(authors)  # Output: ['Author A', 'Author B', 'Author C']\n",
       "```\n",
       "\n",
       "**Why is this useful?**\n",
       "\n",
       "The `yield from` statement allows us to reuse the code that generates the authors from the `books` iterable. This can be particularly useful when we need to process large datasets, as it avoids having to re-generate the same data multiple times.\n",
       "\n",
       "This technique also helps in maintaining flexibility and scalability by making it easier to modify or extend the code without duplicating effort."
      ],
      "text/plain": [
       "<IPython.core.display.Markdown object>"
      ]
     },
     "metadata": {},
     "output_type": "display_data"
    }
   ],
   "source": [
    "# Get Llama 3.2 to answer\n",
    "\n",
    "response = ollama.chat(model=MODEL_LLAMA, messages=messages)\n",
    "reply = response['message']['content']\n",
    "display(Markdown(reply))"
   ]
  },
  {
   "cell_type": "markdown",
   "id": "7e14bcdb-b928-4b14-961e-9f7d8c7335bf",
   "metadata": {},
   "source": [
    "# Congratulations!\n",
    "\n",
    "You could make it better by taking in the question using  \n",
    "`my_question = input(\"Please enter your question:\")`\n",
    "\n",
    "And then creating the prompts and making the calls interactively."
   ]
  }
 ],
 "metadata": {
  "kernelspec": {
   "display_name": "venv",
   "language": "python",
   "name": "python3"
  },
  "language_info": {
   "codemirror_mode": {
    "name": "ipython",
    "version": 3
   },
   "file_extension": ".py",
   "mimetype": "text/x-python",
   "name": "python",
   "nbconvert_exporter": "python",
   "pygments_lexer": "ipython3",
   "version": "3.12.6"
  }
 },
 "nbformat": 4,
 "nbformat_minor": 5
}
