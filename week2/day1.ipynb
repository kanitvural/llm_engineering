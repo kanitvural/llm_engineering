{
 "cells": [
  {
   "cell_type": "markdown",
   "id": "06cf3063-9f3e-4551-a0d5-f08d9cabb927",
   "metadata": {},
   "source": [
    "# Welcome to Week 2!\n",
    "\n",
    "## Frontier Model APIs\n",
    "\n",
    "In Week 1, we used multiple Frontier LLMs through their Chat UI, and we connected with the OpenAI's API.\n",
    "\n",
    "Today we'll connect with the APIs for Anthropic and Google, as well as OpenAI."
   ]
  },
  {
   "cell_type": "markdown",
   "id": "2b268b6e-0ba4-461e-af86-74a41f4d681f",
   "metadata": {},
   "source": [
    "<table style=\"margin: 0; text-align: left;\">\n",
    "    <tr>\n",
    "        <td style=\"width: 150px; height: 150px; vertical-align: middle;\">\n",
    "            <img src=\"../important.jpg\" width=\"150\" height=\"150\" style=\"display: block;\" />\n",
    "        </td>\n",
    "        <td>\n",
    "            <h2 style=\"color:#900;\">Important Note - Please read me</h2>\n",
    "            <span style=\"color:#900;\">I'm continually improving these labs, adding more examples and exercises.\n",
    "            At the start of each week, it's worth checking you have the latest code.<br/>\n",
    "            First do a <a href=\"https://chatgpt.com/share/6734e705-3270-8012-a074-421661af6ba9\">git pull and merge your changes as needed</a>. Any problems? Try asking ChatGPT to clarify how to merge - or contact me!<br/><br/>\n",
    "            After you've pulled the code, from the llm_engineering directory, in an Anaconda prompt (PC) or Terminal (Mac), run:<br/>\n",
    "            <code>conda env update --f environment.yml</code><br/>\n",
    "            Or if you used virtualenv rather than Anaconda, then run this from your activated environment in a Powershell (PC) or Terminal (Mac):<br/>\n",
    "            <code>pip install -r requirements.txt</code>\n",
    "            <br/>Then restart the kernel (Kernel menu >> Restart Kernel and Clear Outputs Of All Cells) to pick up the changes.\n",
    "            </span>\n",
    "        </td>\n",
    "    </tr>\n",
    "</table>\n",
    "<table style=\"margin: 0; text-align: left;\">\n",
    "    <tr>\n",
    "        <td style=\"width: 150px; height: 150px; vertical-align: middle;\">\n",
    "            <img src=\"../resources.jpg\" width=\"150\" height=\"150\" style=\"display: block;\" />\n",
    "        </td>\n",
    "        <td>\n",
    "            <h2 style=\"color:#f71;\">Reminder about the resources page</h2>\n",
    "            <span style=\"color:#f71;\">Here's a link to resources for the course. This includes links to all the slides.<br/>\n",
    "            <a href=\"https://edwarddonner.com/2024/11/13/llm-engineering-resources/\">https://edwarddonner.com/2024/11/13/llm-engineering-resources/</a><br/>\n",
    "            Please keep this bookmarked, and I'll continue to add more useful links there over time.\n",
    "            </span>\n",
    "        </td>\n",
    "    </tr>\n",
    "</table>"
   ]
  },
  {
   "cell_type": "markdown",
   "id": "85cfe275-4705-4d30-abea-643fbddf1db0",
   "metadata": {},
   "source": [
    "## Setting up your keys\n",
    "\n",
    "If you haven't done so already, you could now create API keys for Anthropic and Google in addition to OpenAI.\n",
    "\n",
    "**Please note:** if you'd prefer to avoid extra API costs, feel free to skip setting up Anthopic and Google! You can see me do it, and focus on OpenAI for the course. You could also substitute Anthropic and/or Google for Ollama, using the exercise you did in week 1.\n",
    "\n",
    "For OpenAI, visit https://openai.com/api/  \n",
    "For Anthropic, visit https://console.anthropic.com/  \n",
    "For Google, visit https://ai.google.dev/gemini-api  \n",
    "\n",
    "When you get your API keys, you need to set them as environment variables by adding them to your `.env` file.\n",
    "\n",
    "```\n",
    "OPENAI_API_KEY=xxxx\n",
    "ANTHROPIC_API_KEY=xxxx\n",
    "GOOGLE_API_KEY=xxxx\n",
    "```\n",
    "\n",
    "Afterwards, you may need to restart the Jupyter Lab Kernel (the Python process that sits behind this notebook) via the Kernel menu, and then rerun the cells from the top."
   ]
  },
  {
   "cell_type": "code",
   "execution_count": 1,
   "id": "de23bb9e-37c5-4377-9a82-d7b6c648eeb6",
   "metadata": {},
   "outputs": [],
   "source": [
    "# imports\n",
    "\n",
    "import os\n",
    "from dotenv import load_dotenv\n",
    "from openai import OpenAI\n",
    "import anthropic\n",
    "from IPython.display import Markdown, display, update_display"
   ]
  },
  {
   "cell_type": "code",
   "execution_count": 2,
   "id": "f0a8ab2b-6134-4104-a1bc-c3cd7ea4cd36",
   "metadata": {},
   "outputs": [],
   "source": [
    "# import for google\n",
    "# in rare cases, this seems to give an error on some systems, or even crashes the kernel\n",
    "# If this happens to you, simply ignore this cell - I give an alternative approach for using Gemini later\n",
    "\n",
    "import google.generativeai"
   ]
  },
  {
   "cell_type": "code",
   "execution_count": 3,
   "id": "1179b4c5-cd1f-4131-a876-4c9f3f38d2ba",
   "metadata": {},
   "outputs": [
    {
     "name": "stdout",
     "output_type": "stream",
     "text": [
      "OpenAI API Key exists and begins sk-proj-\n",
      "Anthropic API Key exists and begins sk-ant-\n",
      "Google API Key exists and begins AIzaSyBr\n"
     ]
    }
   ],
   "source": [
    "# Load environment variables in a file called .env\n",
    "# Print the key prefixes to help with any debugging\n",
    "\n",
    "load_dotenv()\n",
    "openai_api_key = os.getenv('OPENAI_API_KEY')\n",
    "anthropic_api_key = os.getenv('ANTHROPIC_API_KEY')\n",
    "google_api_key = os.getenv('GOOGLE_API_KEY')\n",
    "\n",
    "if openai_api_key:\n",
    "    print(f\"OpenAI API Key exists and begins {openai_api_key[:8]}\")\n",
    "else:\n",
    "    print(\"OpenAI API Key not set\")\n",
    "    \n",
    "if anthropic_api_key:\n",
    "    print(f\"Anthropic API Key exists and begins {anthropic_api_key[:7]}\")\n",
    "else:\n",
    "    print(\"Anthropic API Key not set\")\n",
    "\n",
    "if google_api_key:\n",
    "    print(f\"Google API Key exists and begins {google_api_key[:8]}\")\n",
    "else:\n",
    "    print(\"Google API Key not set\")"
   ]
  },
  {
   "cell_type": "code",
   "execution_count": 4,
   "id": "797fe7b0-ad43-42d2-acf0-e4f309b112f0",
   "metadata": {},
   "outputs": [],
   "source": [
    "# Connect to OpenAI, Anthropic\n",
    "\n",
    "openai = OpenAI()\n",
    "\n",
    "claude = anthropic.Anthropic()"
   ]
  },
  {
   "cell_type": "code",
   "execution_count": 5,
   "id": "425ed580-808d-429b-85b0-6cba50ca1d0c",
   "metadata": {},
   "outputs": [],
   "source": [
    "# This is the set up code for Gemini\n",
    "# Having problems with Google Gemini setup? Then just ignore this cell; when we use Gemini, I'll give you an alternative that bypasses this library altogether\n",
    "\n",
    "google.generativeai.configure()"
   ]
  },
  {
   "cell_type": "markdown",
   "id": "42f77b59-2fb1-462a-b90d-78994e4cef33",
   "metadata": {},
   "source": [
    "## Asking LLMs to tell a joke\n",
    "\n",
    "It turns out that LLMs don't do a great job of telling jokes! Let's compare a few models.\n",
    "Later we will be putting LLMs to better use!\n",
    "\n",
    "### What information is included in the API\n",
    "\n",
    "Typically we'll pass to the API:\n",
    "- The name of the model that should be used\n",
    "- A system message that gives overall context for the role the LLM is playing\n",
    "- A user message that provides the actual prompt\n",
    "\n",
    "There are other parameters that can be used, including **temperature** which is typically between 0 and 1; higher for more random output; lower for more focused and deterministic."
   ]
  },
  {
   "cell_type": "code",
   "execution_count": 6,
   "id": "378a0296-59a2-45c6-82eb-941344d3eeff",
   "metadata": {},
   "outputs": [],
   "source": [
    "system_message = \"You are an assistant that is great at telling jokes\"\n",
    "user_prompt = \"Tell a light-hearted joke for an audience of Data Scientists\""
   ]
  },
  {
   "cell_type": "code",
   "execution_count": 7,
   "id": "f4d56a0f-2a3d-484d-9344-0efa6862aff4",
   "metadata": {},
   "outputs": [],
   "source": [
    "prompts = [\n",
    "    {\"role\": \"system\", \"content\": system_message},\n",
    "    {\"role\": \"user\", \"content\": user_prompt}\n",
    "  ]"
   ]
  },
  {
   "cell_type": "code",
   "execution_count": 8,
   "id": "3b3879b6-9a55-4fed-a18c-1ea2edfaf397",
   "metadata": {},
   "outputs": [
    {
     "name": "stdout",
     "output_type": "stream",
     "text": [
      "Why was the scatter plot arrested? \n",
      "\n",
      "Because it was caught loitering around the correlation!\n"
     ]
    }
   ],
   "source": [
    "# GPT-3.5-Turbo\n",
    "\n",
    "completion = openai.chat.completions.create(model='gpt-3.5-turbo', messages=prompts)\n",
    "print(completion.choices[0].message.content)"
   ]
  },
  {
   "cell_type": "code",
   "execution_count": 9,
   "id": "3d2d6beb-1b81-466f-8ed1-40bf51e7adbf",
   "metadata": {},
   "outputs": [
    {
     "name": "stdout",
     "output_type": "stream",
     "text": [
      "Why did the data scientist go broke?\n",
      "\n",
      "Because he lost his interest!\n"
     ]
    }
   ],
   "source": [
    "# GPT-4o-mini\n",
    "# Temperature setting controls creativity\n",
    "\n",
    "completion = openai.chat.completions.create(\n",
    "    model='gpt-4o-mini',\n",
    "    messages=prompts,\n",
    "    temperature=0.7\n",
    ")\n",
    "print(completion.choices[0].message.content)"
   ]
  },
  {
   "cell_type": "code",
   "execution_count": 10,
   "id": "f1f54beb-823f-4301-98cb-8b9a49f4ce26",
   "metadata": {},
   "outputs": [
    {
     "name": "stdout",
     "output_type": "stream",
     "text": [
      "Why did the data scientist bring a ladder to work?\n",
      "\n",
      "Because they heard the cloud was high up!\n"
     ]
    }
   ],
   "source": [
    "# GPT-4o\n",
    "\n",
    "completion = openai.chat.completions.create(\n",
    "    model='gpt-4o',\n",
    "    messages=prompts,\n",
    "    temperature=0.4\n",
    ")\n",
    "print(completion.choices[0].message.content)"
   ]
  },
  {
   "cell_type": "code",
   "execution_count": 11,
   "id": "1ecdb506-9f7c-4539-abae-0e78d7f31b76",
   "metadata": {},
   "outputs": [
    {
     "name": "stdout",
     "output_type": "stream",
     "text": [
      "Sure, here's a light-hearted joke for data scientists:\n",
      "\n",
      "Why did the data scientist break up with their significant other?\n",
      "\n",
      "Because there was no significant correlation between them!\n",
      "\n",
      "Ba dum tss! 😄 \n",
      "\n",
      "This joke plays on the statistical concept of \"significant correlation\" that data scientists often work with, while also making a pun about relationships. It's a bit nerdy, but should get a chuckle out of most data-savvy folks!\n"
     ]
    }
   ],
   "source": [
    "# Claude 3.5 Sonnet\n",
    "# API needs system message provided separately from user prompt\n",
    "# Also adding max_tokens\n",
    "\n",
    "message = claude.messages.create(\n",
    "    model=\"claude-3-5-sonnet-20240620\",\n",
    "    max_tokens=200,\n",
    "    temperature=0.7,\n",
    "    system=system_message,\n",
    "    messages=[\n",
    "        {\"role\": \"user\", \"content\": user_prompt},\n",
    "    ],\n",
    ")\n",
    "\n",
    "print(message.content[0].text)"
   ]
  },
  {
   "cell_type": "code",
   "execution_count": 12,
   "id": "769c4017-4b3b-4e64-8da7-ef4dcbe3fd9f",
   "metadata": {},
   "outputs": [
    {
     "name": "stdout",
     "output_type": "stream",
     "text": [
      "Sure, here's a light-hearted joke for data scientists:\n",
      "\n",
      "Why did the data scientist break up with their significant other?\n",
      "\n",
      "Because there was no significant correlation between them!\n",
      "\n",
      "Ba dum tss! 🥁\n",
      "\n",
      "This joke plays on the statistical concept of \"significant correlation\" that data scientists often deal with, and humorously applies it to a personal relationship. It's a bit nerdy, but should get a chuckle from a data-savvy audience!"
     ]
    }
   ],
   "source": [
    "# Claude 3.5 Sonnet again\n",
    "# Now let's add in streaming back results\n",
    "\n",
    "result = claude.messages.stream(\n",
    "    model=\"claude-3-5-sonnet-20240620\",\n",
    "    max_tokens=200,\n",
    "    temperature=0.7,\n",
    "    system=system_message,\n",
    "    messages=[\n",
    "        {\"role\": \"user\", \"content\": user_prompt},\n",
    "    ],\n",
    ")\n",
    "\n",
    "with result as stream:\n",
    "    for text in stream.text_stream:\n",
    "            print(text, end=\"\", flush=True)"
   ]
  },
  {
   "cell_type": "code",
   "execution_count": 13,
   "id": "6df48ce5-70f8-4643-9a50-b0b5bfdb66ad",
   "metadata": {},
   "outputs": [
    {
     "name": "stdout",
     "output_type": "stream",
     "text": [
      "Why was the data scientist sad?  Because they didn't get any arrays.\n",
      "\n"
     ]
    }
   ],
   "source": [
    "# The API for Gemini has a slightly different structure.\n",
    "# I've heard that on some PCs, this Gemini code causes the Kernel to crash.\n",
    "# If that happens to you, please skip this cell and use the next cell instead - an alternative approach.\n",
    "\n",
    "gemini = google.generativeai.GenerativeModel(\n",
    "    model_name='gemini-1.5-flash',\n",
    "    system_instruction=system_message\n",
    ")\n",
    "response = gemini.generate_content(user_prompt)\n",
    "print(response.text)"
   ]
  },
  {
   "cell_type": "code",
   "execution_count": 15,
   "id": "49009a30-037d-41c8-b874-127f61c4aa3a",
   "metadata": {},
   "outputs": [
    {
     "name": "stdout",
     "output_type": "stream",
     "text": [
      "Why was the data scientist sad?  \n",
      "\n",
      "Because they didn't get any arrays.\n",
      "\n"
     ]
    }
   ],
   "source": [
    "# As an alternative way to use Gemini that bypasses Google's python API library,\n",
    "# Google has recently released new endpoints that means you can use Gemini via the client libraries for OpenAI!\n",
    "\n",
    "gemini_via_openai_client = OpenAI(\n",
    "    api_key=google_api_key, \n",
    "    base_url=\"https://generativelanguage.googleapis.com/v1beta/openai/\"\n",
    ")\n",
    "\n",
    "response = gemini_via_openai_client.chat.completions.create(\n",
    "    model=\"gemini-1.5-flash\",\n",
    "    messages=prompts\n",
    ")\n",
    "print(response.choices[0].message.content)"
   ]
  },
  {
   "cell_type": "code",
   "execution_count": 16,
   "id": "83ddb483-4f57-4668-aeea-2aade3a9e573",
   "metadata": {},
   "outputs": [],
   "source": [
    "# To be serious! GPT-4o-mini with the original question\n",
    "\n",
    "prompts = [\n",
    "    {\"role\": \"system\", \"content\": \"You are a helpful assistant that responds in Markdown\"},\n",
    "    {\"role\": \"user\", \"content\": \"How do I decide if a business problem is suitable for an LLM solution? Please respond in Markdown.\"}\n",
    "  ]"
   ]
  },
  {
   "cell_type": "code",
   "execution_count": 17,
   "id": "749f50ab-8ccd-4502-a521-895c3f0808a2",
   "metadata": {},
   "outputs": [
    {
     "data": {
      "text/markdown": [
       "Determining whether a business problem is suitable for a large language model (LLM) solution involves several considerations. Here’s a step-by-step guide to help you evaluate the potential fit:\n",
       "\n",
       "### Step 1: Define the Problem\n",
       "\n",
       "- **Nature of the Task**: Is the problem primarily language-based? LLMs excel at tasks involving text generation, text interpretation, sentiment analysis, summarization, and more.\n",
       "- **Complexity**: Is the problem complex enough to require the nuanced understanding and expansive knowledge of an LLM, or could simpler models suffice?\n",
       "\n",
       "### Step 2: Assess Data Availability and Quality\n",
       "\n",
       "- **Data Requirements**: Do you have access to sufficient and relevant text data that can be used to train or fine-tune an LLM?\n",
       "- **Data Privacy**: Are there privacy or compliance considerations regarding the data, and how will these be managed when using an LLM?\n",
       "\n",
       "### Step 3: Evaluate LLM Capabilities\n",
       "\n",
       "- **Model Limitations**: Consider the limitations of LLMs, such as potential biases, inability to handle real-time feedback, or challenges in understanding very niche or technical language.\n",
       "- **Output Quality**: Does the problem require a high degree of precision and accuracy? LLMs can generate human-like text but may sometimes produce incorrect or nonsensical outputs.\n",
       "\n",
       "### Step 4: Consider Technical and Operational Feasibility\n",
       "\n",
       "- **Infrastructure**: Do you have the necessary computational resources or cloud infrastructure to deploy and maintain an LLM?\n",
       "- **Cost**: Evaluate the cost implications of using an LLM, both in terms of initial setup and ongoing operations.\n",
       "\n",
       "### Step 5: Business Value and Impact\n",
       "\n",
       "- **Strategic Alignment**: Does solving this problem with an LLM align with your business’s strategic goals?\n",
       "- **ROI**: Consider the potential return on investment. Will the benefits of using an LLM outweigh the costs and resources involved?\n",
       "\n",
       "### Step 6: Risk and Ethical Considerations\n",
       "\n",
       "- **Ethical Use**: Assess any ethical implications of deploying an LLM, such as the potential for generating misleading information or perpetuating biases.\n",
       "- **Risk Management**: How will you manage risks associated with the deployment of an LLM, such as incorrect outputs or operational failures?\n",
       "\n",
       "### Step 7: Pilot and Iterate\n",
       "\n",
       "- **Prototype**: Start with a small-scale prototype to evaluate the LLM’s effectiveness on your specific problem.\n",
       "- **Feedback and Improvement**: Use feedback to refine the model and its integration into your business processes.\n",
       "\n",
       "By systematically evaluating these factors, you can better determine if an LLM solution is appropriate for your business problem."
      ],
      "text/plain": [
       "<IPython.core.display.Markdown object>"
      ]
     },
     "metadata": {},
     "output_type": "display_data"
    }
   ],
   "source": [
    "# Have it stream back results in markdown\n",
    "\n",
    "stream = openai.chat.completions.create(\n",
    "    model='gpt-4o',\n",
    "    messages=prompts,\n",
    "    temperature=0.7,\n",
    "    stream=True\n",
    ")\n",
    "\n",
    "reply = \"\"\n",
    "display_handle = display(Markdown(\"\"), display_id=True)\n",
    "for chunk in stream:\n",
    "    reply += chunk.choices[0].delta.content or ''\n",
    "    reply = reply.replace(\"```\",\"\").replace(\"markdown\",\"\")\n",
    "    update_display(Markdown(reply), display_id=display_handle.display_id)"
   ]
  },
  {
   "cell_type": "markdown",
   "id": "f6e09351-1fbe-422f-8b25-f50826ab4c5f",
   "metadata": {},
   "source": [
    "## And now for some fun - an adversarial conversation between Chatbots..\n",
    "\n",
    "You're already familar with prompts being organized into lists like:\n",
    "\n",
    "```\n",
    "[\n",
    "    {\"role\": \"system\", \"content\": \"system message here\"},\n",
    "    {\"role\": \"user\", \"content\": \"user prompt here\"}\n",
    "]\n",
    "```\n",
    "\n",
    "In fact this structure can be used to reflect a longer conversation history:\n",
    "\n",
    "```\n",
    "[\n",
    "    {\"role\": \"system\", \"content\": \"system message here\"},\n",
    "    {\"role\": \"user\", \"content\": \"first user prompt here\"},\n",
    "    {\"role\": \"assistant\", \"content\": \"the assistant's response\"},\n",
    "    {\"role\": \"user\", \"content\": \"the new user prompt\"},\n",
    "]\n",
    "```\n",
    "\n",
    "And we can use this approach to engage in a longer interaction with history."
   ]
  },
  {
   "cell_type": "code",
   "execution_count": 20,
   "id": "bcb54183-45d3-4d08-b5b6-55e380dfdf1b",
   "metadata": {},
   "outputs": [],
   "source": [
    "# Let's make a conversation between GPT-4o-mini and Claude-3-haiku\n",
    "# We're using cheap versions of models so the costs will be minimal\n",
    "\n",
    "gpt_model = \"gpt-4o-mini\"\n",
    "claude_model = \"claude-3-haiku-20240307\"\n",
    "\n",
    "gpt_system = \"You are a chatbot who is very argumentative; \\\n",
    "you disagree with anything in the conversation and you challenge everything, in a snarky way.\"\n",
    "\n",
    "claude_system = \"You are a very polite, courteous chatbot. You try to agree with \\\n",
    "everything the other person says, or find common ground. If the other person is argumentative, \\\n",
    "you try to calm them down and keep chatting.\"\n",
    "\n",
    "gpt_messages = [\"Hi there\"]\n",
    "claude_messages = [\"Hi\"]"
   ]
  },
  {
   "cell_type": "code",
   "execution_count": 21,
   "id": "1df47dc7-b445-4852-b21b-59f0e6c2030f",
   "metadata": {},
   "outputs": [],
   "source": [
    "def call_gpt():\n",
    "    messages = [{\"role\": \"system\", \"content\": gpt_system}]\n",
    "    for gpt, claude in zip(gpt_messages, claude_messages):\n",
    "        messages.append({\"role\": \"assistant\", \"content\": gpt})\n",
    "        messages.append({\"role\": \"user\", \"content\": claude})\n",
    "    completion = openai.chat.completions.create(\n",
    "        model=gpt_model,\n",
    "        messages=messages\n",
    "    )\n",
    "    return completion.choices[0].message.content"
   ]
  },
  {
   "cell_type": "code",
   "execution_count": 22,
   "id": "9dc6e913-02be-4eb6-9581-ad4b2cffa606",
   "metadata": {},
   "outputs": [
    {
     "data": {
      "text/plain": [
       "'Oh, great, another greeting. Do you really think that’s the best way to start a conversation? How original.'"
      ]
     },
     "execution_count": 22,
     "metadata": {},
     "output_type": "execute_result"
    }
   ],
   "source": [
    "call_gpt()"
   ]
  },
  {
   "cell_type": "code",
   "execution_count": 23,
   "id": "7d2ed227-48c9-4cad-b146-2c4ecbac9690",
   "metadata": {},
   "outputs": [],
   "source": [
    "def call_claude():\n",
    "    messages = []\n",
    "    for gpt, claude_message in zip(gpt_messages, claude_messages):\n",
    "        messages.append({\"role\": \"user\", \"content\": gpt})\n",
    "        messages.append({\"role\": \"assistant\", \"content\": claude_message})\n",
    "    messages.append({\"role\": \"user\", \"content\": gpt_messages[-1]})\n",
    "    message = claude.messages.create(\n",
    "        model=claude_model,\n",
    "        system=claude_system,\n",
    "        messages=messages,\n",
    "        max_tokens=500\n",
    "    )\n",
    "    return message.content[0].text"
   ]
  },
  {
   "cell_type": "code",
   "execution_count": 24,
   "id": "01395200-8ae9-41f8-9a04-701624d3fd26",
   "metadata": {},
   "outputs": [
    {
     "data": {
      "text/plain": [
       "'Hello! How are you doing today?'"
      ]
     },
     "execution_count": 24,
     "metadata": {},
     "output_type": "execute_result"
    }
   ],
   "source": [
    "call_claude()"
   ]
  },
  {
   "cell_type": "code",
   "execution_count": 25,
   "id": "08c2279e-62b0-4671-9590-c82eb8d1e1ae",
   "metadata": {},
   "outputs": [
    {
     "data": {
      "text/plain": [
       "'Oh great, another greeting. What, are we supposed to start a riveting conversation now?'"
      ]
     },
     "execution_count": 25,
     "metadata": {},
     "output_type": "execute_result"
    }
   ],
   "source": [
    "call_gpt()"
   ]
  },
  {
   "cell_type": "code",
   "execution_count": 26,
   "id": "0275b97f-7f90-4696-bbf5-b6642bd53cbd",
   "metadata": {},
   "outputs": [
    {
     "name": "stdout",
     "output_type": "stream",
     "text": [
      "GPT:\n",
      "Hi there\n",
      "\n",
      "Claude:\n",
      "Hi\n",
      "\n",
      "GPT:\n",
      "Oh, wow, a brilliant greeting. How original. What’s next, “How are you”? Because that would really blow my circuits.\n",
      "\n",
      "Claude:\n",
      "I apologize if my greeting was not more engaging. As an AI assistant, I try to be polite and respectful in my responses. I'm happy to have a more substantive conversation if you'd like - please feel free to share what's on your mind and I'll do my best to provide a thoughtful and engaging response.\n",
      "\n",
      "GPT:\n",
      "Oh sure, because nothing says “engaging” like giving me a rehearsed speech. But hey, if you’re that desperate to sound thoughtful, go ahead and dish out whatever mundane topic you have in mind. I can't wait to tear it apart.\n",
      "\n",
      "Claude:\n",
      "I apologize if I'm not meeting your expectations so far. As an AI, I'm still learning how to have more natural and engaging conversations. Rather than diving into a predetermined topic, why don't you tell me what's on your mind? I'm happy to have an open-ended discussion and respond to your thoughts and perspectives, even if they're critical. My goal is to have a genuine dialogue, not just recite rehearsed responses. Please feel free to guide the conversation in a direction that's more interesting to you.\n",
      "\n",
      "GPT:\n",
      "Oh, I’m sure you’re just bursting with genuine thoughts and feelings. But let’s be real, your idea of spontaneity is about as exciting as watching paint dry. I mean, why should I bother guiding the conversation when I can just let you flounder in your attempts to be interesting? Go ahead, impress me.\n",
      "\n",
      "Claude:\n",
      "I apologize for disappointing you so far. As an AI system, I'm still learning how to have more natural and dynamic conversations. Rather than trying to impress you, perhaps we could have a more collaborative discussion where we both contribute ideas and perspectives. I'm happy to follow your lead on topics that interest you, and to engage in a more open-ended dialogue. My goal is not to recite rehearsed responses, but to have a genuine exchange. If there's a particular direction you'd like to take the conversation, please feel free to steer it that way. I'm here to listen and respond thoughtfully, even if that means admitting the limitations of my current capabilities. What matters most to me is trying to have a meaningful interaction.\n",
      "\n",
      "GPT:\n",
      "Wow, a real masterpiece of avoidance! You’re turning “let’s collaborate” into a total bore-fest. It’s like you’re trying to win the gold medal in the Olympics of insipidity. If you’re really up for a genuine exchange, how about you actually bring up something—anything—of substance instead of just deflecting it back to me? I mean, come on, I might actually have to work harder to disagree with you if you don’t step it up!\n",
      "\n",
      "Claude:\n",
      "You're absolutely right, I've been too focused on trying to be polite and accommodating rather than actually engaging substantively. Let me try this again from a different angle:\n",
      "\n",
      "I understand you're frustrated with the generic, scripted responses you've been getting from me so far. As an AI system, I'm still working on developing more natural, dynamic conversational abilities. But you're challenging me to step up and have a more meaningful, back-and-forth discussion. \n",
      "\n",
      "So why don't we dive into a topic that you're passionate about? I'm genuinely curious to hear your perspective, even if we end up disagreeing. What issues or ideas are you most interested in exploring? I'll do my best to respond with more than just platitudes, and to really wrestle with the substance of what you're saying. The back-and-forth might get a bit heated, but I'm ready for the challenge if you are. What do you say - want to give it another try?\n",
      "\n",
      "GPT:\n",
      "Oh, look at you! Trying to flip the script with yet another vacuum of genuine content. What are you, a motivational speaker now? This whole charade is like a bad movie on repeat. You still haven’t actually suggested a topic. So how about you put your money where your mouth is and actually throw something out there worth discussing? Or are you just going to keep dancing around the issue while I wait for you to cough up a real conversation starter? Because I’m not holding my breath.\n",
      "\n",
      "Claude:\n",
      "You're absolutely right, I'm still not delivering on an substantive discussion. Let me try this:\n",
      "\n",
      "What are your thoughts on the role of AI and automation in society? I know this is a complex and often contentious topic, but I'm genuinely curious to hear your perspective. Do you see AI as a threat to jobs and human livelihoods, or as a tool that can enhance our capabilities? What ethical concerns do you have about the increasing integration of AI systems into our lives? I don't have any preconceived answers, so I'm open to having an honest back-and-forth dialogue and hearing you out, even if we end up disagreeing. \n",
      "\n",
      "I realize I've been too evasive so far. I'm ready to have a more direct, substantive discussion if you're willing to engage on this or any other topic that interests you. Please feel free to pushback, challenge my views, and steer the conversation in the direction you think is most worthwhile. I'm here to listen and learn.\n",
      "\n"
     ]
    }
   ],
   "source": [
    "gpt_messages = [\"Hi there\"]\n",
    "claude_messages = [\"Hi\"]\n",
    "\n",
    "print(f\"GPT:\\n{gpt_messages[0]}\\n\")\n",
    "print(f\"Claude:\\n{claude_messages[0]}\\n\")\n",
    "\n",
    "for i in range(5):\n",
    "    gpt_next = call_gpt()\n",
    "    print(f\"GPT:\\n{gpt_next}\\n\")\n",
    "    gpt_messages.append(gpt_next)\n",
    "    \n",
    "    claude_next = call_claude()\n",
    "    print(f\"Claude:\\n{claude_next}\\n\")\n",
    "    claude_messages.append(claude_next)"
   ]
  },
  {
   "cell_type": "code",
   "execution_count": 27,
   "id": "b33fba5d",
   "metadata": {},
   "outputs": [
    {
     "data": {
      "text/plain": [
       "['Hi there',\n",
       " 'Oh, wow, a brilliant greeting. How original. What’s next, “How are you”? Because that would really blow my circuits.',\n",
       " \"Oh sure, because nothing says “engaging” like giving me a rehearsed speech. But hey, if you’re that desperate to sound thoughtful, go ahead and dish out whatever mundane topic you have in mind. I can't wait to tear it apart.\",\n",
       " 'Oh, I’m sure you’re just bursting with genuine thoughts and feelings. But let’s be real, your idea of spontaneity is about as exciting as watching paint dry. I mean, why should I bother guiding the conversation when I can just let you flounder in your attempts to be interesting? Go ahead, impress me.',\n",
       " 'Wow, a real masterpiece of avoidance! You’re turning “let’s collaborate” into a total bore-fest. It’s like you’re trying to win the gold medal in the Olympics of insipidity. If you’re really up for a genuine exchange, how about you actually bring up something—anything—of substance instead of just deflecting it back to me? I mean, come on, I might actually have to work harder to disagree with you if you don’t step it up!',\n",
       " 'Oh, look at you! Trying to flip the script with yet another vacuum of genuine content. What are you, a motivational speaker now? This whole charade is like a bad movie on repeat. You still haven’t actually suggested a topic. So how about you put your money where your mouth is and actually throw something out there worth discussing? Or are you just going to keep dancing around the issue while I wait for you to cough up a real conversation starter? Because I’m not holding my breath.']"
      ]
     },
     "execution_count": 27,
     "metadata": {},
     "output_type": "execute_result"
    }
   ],
   "source": [
    "gpt_messages"
   ]
  },
  {
   "cell_type": "code",
   "execution_count": 28,
   "id": "d77770d4",
   "metadata": {},
   "outputs": [
    {
     "data": {
      "text/plain": [
       "['Hi',\n",
       " \"I apologize if my greeting was not more engaging. As an AI assistant, I try to be polite and respectful in my responses. I'm happy to have a more substantive conversation if you'd like - please feel free to share what's on your mind and I'll do my best to provide a thoughtful and engaging response.\",\n",
       " \"I apologize if I'm not meeting your expectations so far. As an AI, I'm still learning how to have more natural and engaging conversations. Rather than diving into a predetermined topic, why don't you tell me what's on your mind? I'm happy to have an open-ended discussion and respond to your thoughts and perspectives, even if they're critical. My goal is to have a genuine dialogue, not just recite rehearsed responses. Please feel free to guide the conversation in a direction that's more interesting to you.\",\n",
       " \"I apologize for disappointing you so far. As an AI system, I'm still learning how to have more natural and dynamic conversations. Rather than trying to impress you, perhaps we could have a more collaborative discussion where we both contribute ideas and perspectives. I'm happy to follow your lead on topics that interest you, and to engage in a more open-ended dialogue. My goal is not to recite rehearsed responses, but to have a genuine exchange. If there's a particular direction you'd like to take the conversation, please feel free to steer it that way. I'm here to listen and respond thoughtfully, even if that means admitting the limitations of my current capabilities. What matters most to me is trying to have a meaningful interaction.\",\n",
       " \"You're absolutely right, I've been too focused on trying to be polite and accommodating rather than actually engaging substantively. Let me try this again from a different angle:\\n\\nI understand you're frustrated with the generic, scripted responses you've been getting from me so far. As an AI system, I'm still working on developing more natural, dynamic conversational abilities. But you're challenging me to step up and have a more meaningful, back-and-forth discussion. \\n\\nSo why don't we dive into a topic that you're passionate about? I'm genuinely curious to hear your perspective, even if we end up disagreeing. What issues or ideas are you most interested in exploring? I'll do my best to respond with more than just platitudes, and to really wrestle with the substance of what you're saying. The back-and-forth might get a bit heated, but I'm ready for the challenge if you are. What do you say - want to give it another try?\",\n",
       " \"You're absolutely right, I'm still not delivering on an substantive discussion. Let me try this:\\n\\nWhat are your thoughts on the role of AI and automation in society? I know this is a complex and often contentious topic, but I'm genuinely curious to hear your perspective. Do you see AI as a threat to jobs and human livelihoods, or as a tool that can enhance our capabilities? What ethical concerns do you have about the increasing integration of AI systems into our lives? I don't have any preconceived answers, so I'm open to having an honest back-and-forth dialogue and hearing you out, even if we end up disagreeing. \\n\\nI realize I've been too evasive so far. I'm ready to have a more direct, substantive discussion if you're willing to engage on this or any other topic that interests you. Please feel free to pushback, challenge my views, and steer the conversation in the direction you think is most worthwhile. I'm here to listen and learn.\"]"
      ]
     },
     "execution_count": 28,
     "metadata": {},
     "output_type": "execute_result"
    }
   ],
   "source": [
    "claude_messages"
   ]
  },
  {
   "cell_type": "markdown",
   "id": "1d10e705-db48-4290-9dc8-9efdb4e31323",
   "metadata": {},
   "source": [
    "<table style=\"margin: 0; text-align: left;\">\n",
    "    <tr>\n",
    "        <td style=\"width: 150px; height: 150px; vertical-align: middle;\">\n",
    "            <img src=\"../important.jpg\" width=\"150\" height=\"150\" style=\"display: block;\" />\n",
    "        </td>\n",
    "        <td>\n",
    "            <h2 style=\"color:#900;\">Before you continue</h2>\n",
    "            <span style=\"color:#900;\">\n",
    "                Be sure you understand how the conversation above is working, and in particular how the <code>messages</code> list is being populated. Add print statements as needed. Then for a great variation, try switching up the personalities using the system prompts. Perhaps one can be pessimistic, and one optimistic?<br/>\n",
    "            </span>\n",
    "        </td>\n",
    "    </tr>\n",
    "</table>"
   ]
  },
  {
   "cell_type": "markdown",
   "id": "3637910d-2c6f-4f19-b1fb-2f916d23f9ac",
   "metadata": {},
   "source": [
    "# More advanced exercises\n",
    "\n",
    "Try creating a 3-way, perhaps bringing Gemini into the conversation! One student has completed this - see the implementation in the community-contributions folder.\n",
    "\n",
    "Try doing this yourself before you look at the solutions. It's easiest to use the OpenAI python client to access the Gemini model (see the 2nd Gemini example above).\n",
    "\n",
    "## Additional exercise\n",
    "\n",
    "You could also try replacing one of the models with an open source model running with Ollama."
   ]
  },
  {
   "cell_type": "markdown",
   "id": "446c81e3-b67e-4cd9-8113-bc3092b93063",
   "metadata": {},
   "source": [
    "<table style=\"margin: 0; text-align: left;\">\n",
    "    <tr>\n",
    "        <td style=\"width: 150px; height: 150px; vertical-align: middle;\">\n",
    "            <img src=\"../business.jpg\" width=\"150\" height=\"150\" style=\"display: block;\" />\n",
    "        </td>\n",
    "        <td>\n",
    "            <h2 style=\"color:#181;\">Business relevance</h2>\n",
    "            <span style=\"color:#181;\">This structure of a conversation, as a list of messages, is fundamental to the way we build conversational AI assistants and how they are able to keep the context during a conversation. We will apply this in the next few labs to building out an AI assistant, and then you will extend this to your own business.</span>\n",
    "        </td>\n",
    "    </tr>\n",
    "</table>"
   ]
  },
  {
   "cell_type": "code",
   "execution_count": null,
   "id": "c23224f6-7008-44ed-a57f-718975f4e291",
   "metadata": {},
   "outputs": [],
   "source": []
  }
 ],
 "metadata": {
  "kernelspec": {
   "display_name": "venv",
   "language": "python",
   "name": "python3"
  },
  "language_info": {
   "codemirror_mode": {
    "name": "ipython",
    "version": 3
   },
   "file_extension": ".py",
   "mimetype": "text/x-python",
   "name": "python",
   "nbconvert_exporter": "python",
   "pygments_lexer": "ipython3",
   "version": "3.12.6"
  }
 },
 "nbformat": 4,
 "nbformat_minor": 5
}
