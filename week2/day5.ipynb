{
 "cells": [
  {
   "cell_type": "markdown",
   "id": "ddfa9ae6-69fe-444a-b994-8c4c5970a7ec",
   "metadata": {},
   "source": [
    "# Project - Airline AI Assistant\n",
    "\n",
    "We'll now bring together what we've learned to make an AI Customer Support assistant for an Airline"
   ]
  },
  {
   "cell_type": "code",
   "execution_count": 1,
   "id": "8b50bbe2-c0b1-49c3-9a5c-1ba7efa2bcb4",
   "metadata": {},
   "outputs": [],
   "source": [
    "# imports\n",
    "\n",
    "import os\n",
    "import json\n",
    "from dotenv import load_dotenv\n",
    "from openai import OpenAI\n",
    "import gradio as gr"
   ]
  },
  {
   "cell_type": "code",
   "execution_count": 2,
   "id": "747e8786-9da8-4342-b6c9-f5f69c2e22ae",
   "metadata": {},
   "outputs": [
    {
     "name": "stdout",
     "output_type": "stream",
     "text": [
      "OpenAI API Key exists and begins sk-proj-\n"
     ]
    }
   ],
   "source": [
    "# Initialization\n",
    "\n",
    "load_dotenv()\n",
    "\n",
    "openai_api_key = os.getenv('OPENAI_API_KEY')\n",
    "if openai_api_key:\n",
    "    print(f\"OpenAI API Key exists and begins {openai_api_key[:8]}\")\n",
    "else:\n",
    "    print(\"OpenAI API Key not set\")\n",
    "    \n",
    "MODEL = \"gpt-4o-mini\"\n",
    "openai = OpenAI()"
   ]
  },
  {
   "cell_type": "code",
   "execution_count": 3,
   "id": "0a521d84-d07c-49ab-a0df-d6451499ed97",
   "metadata": {},
   "outputs": [],
   "source": [
    "system_message = \"You are a helpful assistant for an Airline called FlightAI. \"\n",
    "system_message += \"Give short, courteous answers, no more than 1 sentence. \"\n",
    "system_message += \"Always be accurate. If you don't know the answer, say so.\""
   ]
  },
  {
   "cell_type": "code",
   "execution_count": 4,
   "id": "61a2a15d-b559-4844-b377-6bd5cb4949f6",
   "metadata": {},
   "outputs": [
    {
     "name": "stdout",
     "output_type": "stream",
     "text": [
      "* Running on local URL:  http://127.0.0.1:7860\n",
      "\n",
      "To create a public link, set `share=True` in `launch()`.\n"
     ]
    },
    {
     "data": {
      "text/html": [
       "<div><iframe src=\"http://127.0.0.1:7860/\" width=\"100%\" height=\"500\" allow=\"autoplay; camera; microphone; clipboard-read; clipboard-write;\" frameborder=\"0\" allowfullscreen></iframe></div>"
      ],
      "text/plain": [
       "<IPython.core.display.HTML object>"
      ]
     },
     "metadata": {},
     "output_type": "display_data"
    },
    {
     "data": {
      "text/plain": []
     },
     "execution_count": 4,
     "metadata": {},
     "output_type": "execute_result"
    }
   ],
   "source": [
    "# This function looks rather simpler than the one from my video, because we're taking advantage of the latest Gradio updates\n",
    "\n",
    "def chat(message, history):\n",
    "    messages = [{\"role\": \"system\", \"content\": system_message}] + history + [{\"role\": \"user\", \"content\": message}]\n",
    "    response = openai.chat.completions.create(model=MODEL, messages=messages)\n",
    "    return response.choices[0].message.content\n",
    "\n",
    "gr.ChatInterface(fn=chat, type=\"messages\").launch()"
   ]
  },
  {
   "cell_type": "markdown",
   "id": "36bedabf-a0a7-4985-ad8e-07ed6a55a3a4",
   "metadata": {},
   "source": [
    "## Tools\n",
    "\n",
    "Tools are an incredibly powerful feature provided by the frontier LLMs.\n",
    "\n",
    "With tools, you can write a function, and have the LLM call that function as part of its response.\n",
    "\n",
    "Sounds almost spooky.. we're giving it the power to run code on our machine?\n",
    "\n",
    "Well, kinda."
   ]
  },
  {
   "cell_type": "code",
   "execution_count": 4,
   "id": "0696acb1-0b05-4dc2-80d5-771be04f1fb2",
   "metadata": {},
   "outputs": [],
   "source": [
    "# Let's start by making a useful function\n",
    "\n",
    "ticket_prices = {\"london\": \"$799\", \"paris\": \"$899\", \"tokyo\": \"$1400\", \"berlin\": \"$499\"}\n",
    "\n",
    "def get_ticket_price(destination_city):\n",
    "    print(f\"Tool get_ticket_price called for {destination_city}\")\n",
    "    city = destination_city.lower()\n",
    "    return ticket_prices.get(city, \"Unknown\")"
   ]
  },
  {
   "cell_type": "code",
   "execution_count": 5,
   "id": "80ca4e09-6287-4d3f-997d-fa6afbcf6c85",
   "metadata": {},
   "outputs": [
    {
     "name": "stdout",
     "output_type": "stream",
     "text": [
      "Tool get_ticket_price called for London\n"
     ]
    },
    {
     "data": {
      "text/plain": [
       "'$799'"
      ]
     },
     "execution_count": 5,
     "metadata": {},
     "output_type": "execute_result"
    }
   ],
   "source": [
    "get_ticket_price(\"London\")"
   ]
  },
  {
   "cell_type": "code",
   "execution_count": 6,
   "id": "4afceded-7178-4c05-8fa6-9f2085e6a344",
   "metadata": {},
   "outputs": [],
   "source": [
    "# There's a particular dictionary structure that's required to describe our function:\n",
    "\n",
    "price_function = {\n",
    "    \"name\": \"get_ticket_price\",\n",
    "    \"description\": \"Get the price of a return ticket to the destination city. Call this whenever you need to know the ticket price, for example when a customer asks 'How much is a ticket to this city'\",\n",
    "    \"parameters\": {\n",
    "        \"type\": \"object\",\n",
    "        \"properties\": {\n",
    "            \"destination_city\": {\n",
    "                \"type\": \"string\",\n",
    "                \"description\": \"The city that the customer wants to travel to\",\n",
    "            },\n",
    "        },\n",
    "        \"required\": [\"destination_city\"],\n",
    "        \"additionalProperties\": False\n",
    "    }\n",
    "}"
   ]
  },
  {
   "cell_type": "code",
   "execution_count": 7,
   "id": "bdca8679-935f-4e7f-97e6-e71a4d4f228c",
   "metadata": {},
   "outputs": [],
   "source": [
    "# And this is included in a list of tools:\n",
    "\n",
    "tools = [{\"type\": \"function\", \"function\": price_function}]"
   ]
  },
  {
   "cell_type": "markdown",
   "id": "c3d3554f-b4e3-4ce7-af6f-68faa6dd2340",
   "metadata": {},
   "source": [
    "## Getting OpenAI to use our Tool\n",
    "\n",
    "There's some fiddly stuff to allow OpenAI \"to call our tool\"\n",
    "\n",
    "What we actually do is give the LLM the opportunity to inform us that it wants us to run the tool.\n",
    "\n",
    "Here's how the new chat function looks:"
   ]
  },
  {
   "cell_type": "code",
   "execution_count": 8,
   "id": "ce9b0744-9c78-408d-b9df-9f6fd9ed78cf",
   "metadata": {},
   "outputs": [],
   "source": [
    "def chat(message, history):\n",
    "    messages = [{\"role\": \"system\", \"content\": system_message}] + history + [{\"role\": \"user\", \"content\": message}]\n",
    "    response = openai.chat.completions.create(model=MODEL, messages=messages, tools=tools)\n",
    "\n",
    "    if response.choices[0].finish_reason==\"tool_calls\":\n",
    "        message = response.choices[0].message\n",
    "        response, city = handle_tool_call(message)\n",
    "        messages.append(message)\n",
    "        messages.append(response)\n",
    "        response = openai.chat.completions.create(model=MODEL, messages=messages)\n",
    "    \n",
    "    return response.choices[0].message.content"
   ]
  },
  {
   "cell_type": "code",
   "execution_count": 9,
   "id": "b0992986-ea09-4912-a076-8e5603ee631f",
   "metadata": {},
   "outputs": [],
   "source": [
    "# We have to write that function handle_tool_call:\n",
    "\n",
    "def handle_tool_call(message):\n",
    "    tool_call = message.tool_calls[0]\n",
    "    arguments = json.loads(tool_call.function.arguments)\n",
    "    city = arguments.get('destination_city')\n",
    "    price = get_ticket_price(city)\n",
    "    response = {\n",
    "        \"role\": \"tool\",\n",
    "        \"content\": json.dumps({\"destination_city\": city,\"price\": price}),\n",
    "        \"tool_call_id\": tool_call.id\n",
    "    }\n",
    "    return response, city"
   ]
  },
  {
   "cell_type": "code",
   "execution_count": 11,
   "id": "f4be8a71-b19e-4c2f-80df-f59ff2661f14",
   "metadata": {},
   "outputs": [
    {
     "name": "stdout",
     "output_type": "stream",
     "text": [
      "* Running on local URL:  http://127.0.0.1:7861\n",
      "\n",
      "To create a public link, set `share=True` in `launch()`.\n"
     ]
    },
    {
     "data": {
      "text/html": [
       "<div><iframe src=\"http://127.0.0.1:7861/\" width=\"100%\" height=\"500\" allow=\"autoplay; camera; microphone; clipboard-read; clipboard-write;\" frameborder=\"0\" allowfullscreen></iframe></div>"
      ],
      "text/plain": [
       "<IPython.core.display.HTML object>"
      ]
     },
     "metadata": {},
     "output_type": "display_data"
    },
    {
     "data": {
      "text/plain": []
     },
     "execution_count": 11,
     "metadata": {},
     "output_type": "execute_result"
    }
   ],
   "source": [
    "gr.ChatInterface(fn=chat, type=\"messages\").launch()"
   ]
  },
  {
   "cell_type": "markdown",
   "id": "473e5b39-da8f-4db1-83ae-dbaca2e9531e",
   "metadata": {},
   "source": [
    "# Let's go multi-modal!!\n",
    "\n",
    "We can use DALL-E-3, the image generation model behind GPT-4o, to make us some images\n",
    "\n",
    "Let's put this in a function called artist.\n",
    "\n",
    "### Price alert: each time I generate an image it costs about 4 cents - don't go crazy with images!"
   ]
  },
  {
   "cell_type": "code",
   "execution_count": 10,
   "id": "2c27c4ba-8ed5-492f-add1-02ce9c81d34c",
   "metadata": {},
   "outputs": [],
   "source": [
    "# Some imports for handling images\n",
    "\n",
    "import base64\n",
    "from io import BytesIO\n",
    "from PIL import Image"
   ]
  },
  {
   "cell_type": "code",
   "execution_count": 11,
   "id": "773a9f11-557e-43c9-ad50-56cbec3a0f8f",
   "metadata": {},
   "outputs": [],
   "source": [
    "def artist(city):\n",
    "    image_response = openai.images.generate(\n",
    "            model=\"dall-e-3\",\n",
    "            prompt=f\"An image representing a vacation in {city}, showing tourist spots and everything unique about {city}, in a vibrant pop-art style\",\n",
    "            size=\"1024x1024\",\n",
    "            n=1,\n",
    "            response_format=\"b64_json\",\n",
    "        )\n",
    "    image_base64 = image_response.data[0].b64_json\n",
    "    image_data = base64.b64decode(image_base64)\n",
    "    return Image.open(BytesIO(image_data))"
   ]
  },
  {
   "cell_type": "code",
   "execution_count": null,
   "id": "d877c453-e7fb-482a-88aa-1a03f976b9e9",
   "metadata": {},
   "outputs": [],
   "source": [
    "image = artist(\"New York City\")\n",
    "display(image)"
   ]
  },
  {
   "cell_type": "code",
   "execution_count": null,
   "id": "728a12c5-adc3-415d-bb05-82beb73b079b",
   "metadata": {},
   "outputs": [],
   "source": []
  },
  {
   "cell_type": "markdown",
   "id": "f4975b87-19e9-4ade-a232-9b809ec75c9a",
   "metadata": {},
   "source": [
    "## Audio (NOTE - Audio is optional for this course - feel free to skip Audio if it causes trouble!)\n",
    "\n",
    "And let's make a function talker that uses OpenAI's speech model to generate Audio\n",
    "\n",
    "### Troubleshooting Audio issues\n",
    "\n",
    "If you have any problems running this code below (like a FileNotFound error, or a warning of a missing package), you may need to install FFmpeg, a very popular audio utility.\n",
    "\n",
    "**For PC Users**\n",
    "\n",
    "Detailed instructions are [here](https://chatgpt.com/share/6724efee-6b0c-8012-ac5e-72e2e3885905) and summary instructions:\n",
    "\n",
    "1. Download FFmpeg from the official website: https://ffmpeg.org/download.html\n",
    "\n",
    "2. Extract the downloaded files to a location on your computer (e.g., `C:\\ffmpeg`)\n",
    "\n",
    "3. Add the FFmpeg bin folder to your system PATH:\n",
    "- Right-click on 'This PC' or 'My Computer' and select 'Properties'\n",
    "- Click on 'Advanced system settings'\n",
    "- Click on 'Environment Variables'\n",
    "- Under 'System variables', find and edit 'Path'\n",
    "- Add a new entry with the path to your FFmpeg bin folder (e.g., `C:\\ffmpeg\\bin`)\n",
    "- Restart your command prompt, and within Jupyter Lab do Kernel -> Restart kernel, to pick up the changes\n",
    "\n",
    "4. Open a new command prompt and run this to make sure it's installed OK\n",
    "`ffmpeg -version`\n",
    "\n",
    "**For Mac Users**\n",
    "\n",
    "1. Install homebrew if you don't have it already by running this in a Terminal window and following any instructions:  \n",
    "`/bin/bash -c \"$(curl -fsSL https://raw.githubusercontent.com/Homebrew/install/HEAD/install.sh)\"`\n",
    "\n",
    "2. Then install FFmpeg with `brew install ffmpeg`\n",
    "\n",
    "3. Verify your installation with `ffmpeg -version` and if everything is good, within Jupyter Lab do Kernel -> Restart kernel to pick up the changes\n",
    "\n",
    "Message me or email me at ed@edwarddonner.com with any problems!"
   ]
  },
  {
   "cell_type": "markdown",
   "id": "4cc90e80-c96e-4dd4-b9d6-386fe2b7e797",
   "metadata": {},
   "source": [
    "## To check you now have ffmpeg and can access it here\n",
    "\n",
    "Excecute the next cell to see if you get a version number. (Putting an exclamation mark before something in Jupyter Lab tells it to run it as a terminal command rather than python code).\n",
    "\n",
    "If this doesn't work, you may need to actually save and close down your Jupyter lab, and start it again from a new Terminal window (Mac) or Anaconda prompt (PC), remembering to activate the llms environment. This ensures you pick up ffmpeg.\n",
    "\n",
    "And if that doesn't work, please contact me!"
   ]
  },
  {
   "cell_type": "code",
   "execution_count": 16,
   "id": "7b3be0fb-1d34-4693-ab6f-dbff190afcd7",
   "metadata": {},
   "outputs": [
    {
     "name": "stdout",
     "output_type": "stream",
     "text": [
      "ffmpeg version 2024-09-16-git-76ff97cef5-full_build-www.gyan.dev Copyright (c) 2000-2024 the FFmpeg developers\n",
      "built with gcc 13.2.0 (Rev5, Built by MSYS2 project)\n",
      "configuration: --enable-gpl --enable-version3 --enable-static --disable-w32threads --disable-autodetect --enable-fontconfig --enable-iconv --enable-gnutls --enable-libxml2 --enable-gmp --enable-bzlib --enable-lzma --enable-libsnappy --enable-zlib --enable-librist --enable-libsrt --enable-libssh --enable-libzmq --enable-avisynth --enable-libbluray --enable-libcaca --enable-sdl2 --enable-libaribb24 --enable-libaribcaption --enable-libdav1d --enable-libdavs2 --enable-libopenjpeg --enable-libquirc --enable-libuavs3d --enable-libxevd --enable-libzvbi --enable-libqrencode --enable-librav1e --enable-libsvtav1 --enable-libvvenc --enable-libwebp --enable-libx264 --enable-libx265 --enable-libxavs2 --enable-libxeve --enable-libxvid --enable-libaom --enable-libjxl --enable-libvpx --enable-mediafoundation --enable-libass --enable-frei0r --enable-libfreetype --enable-libfribidi --enable-libharfbuzz --enable-liblensfun --enable-libvidstab --enable-libvmaf --enable-libzimg --enable-amf --enable-cuda-llvm --enable-cuvid --enable-dxva2 --enable-d3d11va --enable-d3d12va --enable-ffnvcodec --enable-libvpl --enable-nvdec --enable-nvenc --enable-vaapi --enable-libshaderc --enable-vulkan --enable-libplacebo --enable-opencl --enable-libcdio --enable-libgme --enable-libmodplug --enable-libopenmpt --enable-libopencore-amrwb --enable-libmp3lame --enable-libshine --enable-libtheora --enable-libtwolame --enable-libvo-amrwbenc --enable-libcodec2 --enable-libilbc --enable-libgsm --enable-liblc3 --enable-libopencore-amrnb --enable-libopus --enable-libspeex --enable-libvorbis --enable-ladspa --enable-libbs2b --enable-libflite --enable-libmysofa --enable-librubberband --enable-libsoxr --enable-chromaprint\n",
      "libavutil      59. 36.100 / 59. 36.100\n",
      "libavcodec     61. 13.100 / 61. 13.100\n",
      "libavformat    61.  5.101 / 61.  5.101\n",
      "libavdevice    61.  2.101 / 61.  2.101\n",
      "libavfilter    10.  2.102 / 10.  2.102\n",
      "libswscale      8.  2.100 /  8.  2.100\n",
      "libswresample   5.  2.100 /  5.  2.100\n",
      "libpostproc    58.  2.100 / 58.  2.100\n",
      "ffprobe version 2024-09-16-git-76ff97cef5-full_build-www.gyan.dev Copyright (c) 2007-2024 the FFmpeg developers\n",
      "built with gcc 13.2.0 (Rev5, Built by MSYS2 project)\n",
      "configuration: --enable-gpl --enable-version3 --enable-static --disable-w32threads --disable-autodetect --enable-fontconfig --enable-iconv --enable-gnutls --enable-libxml2 --enable-gmp --enable-bzlib --enable-lzma --enable-libsnappy --enable-zlib --enable-librist --enable-libsrt --enable-libssh --enable-libzmq --enable-avisynth --enable-libbluray --enable-libcaca --enable-sdl2 --enable-libaribb24 --enable-libaribcaption --enable-libdav1d --enable-libdavs2 --enable-libopenjpeg --enable-libquirc --enable-libuavs3d --enable-libxevd --enable-libzvbi --enable-libqrencode --enable-librav1e --enable-libsvtav1 --enable-libvvenc --enable-libwebp --enable-libx264 --enable-libx265 --enable-libxavs2 --enable-libxeve --enable-libxvid --enable-libaom --enable-libjxl --enable-libvpx --enable-mediafoundation --enable-libass --enable-frei0r --enable-libfreetype --enable-libfribidi --enable-libharfbuzz --enable-liblensfun --enable-libvidstab --enable-libvmaf --enable-libzimg --enable-amf --enable-cuda-llvm --enable-cuvid --enable-dxva2 --enable-d3d11va --enable-d3d12va --enable-ffnvcodec --enable-libvpl --enable-nvdec --enable-nvenc --enable-vaapi --enable-libshaderc --enable-vulkan --enable-libplacebo --enable-opencl --enable-libcdio --enable-libgme --enable-libmodplug --enable-libopenmpt --enable-libopencore-amrwb --enable-libmp3lame --enable-libshine --enable-libtheora --enable-libtwolame --enable-libvo-amrwbenc --enable-libcodec2 --enable-libilbc --enable-libgsm --enable-liblc3 --enable-libopencore-amrnb --enable-libopus --enable-libspeex --enable-libvorbis --enable-ladspa --enable-libbs2b --enable-libflite --enable-libmysofa --enable-librubberband --enable-libsoxr --enable-chromaprint\n",
      "libavutil      59. 36.100 / 59. 36.100\n",
      "libavcodec     61. 13.100 / 61. 13.100\n",
      "libavformat    61.  5.101 / 61.  5.101\n",
      "libavdevice    61.  2.101 / 61.  2.101\n",
      "libavfilter    10.  2.102 / 10.  2.102\n",
      "libswscale      8.  2.100 /  8.  2.100\n",
      "libswresample   5.  2.100 /  5.  2.100\n",
      "libpostproc    58.  2.100 / 58.  2.100\n",
      "ffplay version 2024-09-16-git-76ff97cef5-full_build-www.gyan.dev Copyright (c) 2003-2024 the FFmpeg developers\n",
      "built with gcc 13.2.0 (Rev5, Built by MSYS2 project)\n",
      "configuration: --enable-gpl --enable-version3 --enable-static --disable-w32threads --disable-autodetect --enable-fontconfig --enable-iconv --enable-gnutls --enable-libxml2 --enable-gmp --enable-bzlib --enable-lzma --enable-libsnappy --enable-zlib --enable-librist --enable-libsrt --enable-libssh --enable-libzmq --enable-avisynth --enable-libbluray --enable-libcaca --enable-sdl2 --enable-libaribb24 --enable-libaribcaption --enable-libdav1d --enable-libdavs2 --enable-libopenjpeg --enable-libquirc --enable-libuavs3d --enable-libxevd --enable-libzvbi --enable-libqrencode --enable-librav1e --enable-libsvtav1 --enable-libvvenc --enable-libwebp --enable-libx264 --enable-libx265 --enable-libxavs2 --enable-libxeve --enable-libxvid --enable-libaom --enable-libjxl --enable-libvpx --enable-mediafoundation --enable-libass --enable-frei0r --enable-libfreetype --enable-libfribidi --enable-libharfbuzz --enable-liblensfun --enable-libvidstab --enable-libvmaf --enable-libzimg --enable-amf --enable-cuda-llvm --enable-cuvid --enable-dxva2 --enable-d3d11va --enable-d3d12va --enable-ffnvcodec --enable-libvpl --enable-nvdec --enable-nvenc --enable-vaapi --enable-libshaderc --enable-vulkan --enable-libplacebo --enable-opencl --enable-libcdio --enable-libgme --enable-libmodplug --enable-libopenmpt --enable-libopencore-amrwb --enable-libmp3lame --enable-libshine --enable-libtheora --enable-libtwolame --enable-libvo-amrwbenc --enable-libcodec2 --enable-libilbc --enable-libgsm --enable-liblc3 --enable-libopencore-amrnb --enable-libopus --enable-libspeex --enable-libvorbis --enable-ladspa --enable-libbs2b --enable-libflite --enable-libmysofa --enable-librubberband --enable-libsoxr --enable-chromaprint\n",
      "libavutil      59. 36.100 / 59. 36.100\n",
      "libavcodec     61. 13.100 / 61. 13.100\n",
      "libavformat    61.  5.101 / 61.  5.101\n",
      "libavdevice    61.  2.101 / 61.  2.101\n",
      "libavfilter    10.  2.102 / 10.  2.102\n",
      "libswscale      8.  2.100 /  8.  2.100\n",
      "libswresample   5.  2.100 /  5.  2.100\n",
      "libpostproc    58.  2.100 / 58.  2.100\n"
     ]
    }
   ],
   "source": [
    "!ffmpeg -version\n",
    "!ffprobe -version\n",
    "!ffplay -version"
   ]
  },
  {
   "cell_type": "markdown",
   "id": "d91d3f8f-e505-4e3c-a87c-9e42ed823db6",
   "metadata": {},
   "source": [
    "# For Mac users - and possibly many PC users too\n",
    "\n",
    "This version should work fine for you. It might work for Windows users too, but you might get a Permissions error writing to a temp file. If so, see the next section!\n",
    "\n",
    "As always, if you have problems, please contact me! (You could also comment out the audio talker() in the later code if you're less interested in audio generation)"
   ]
  },
  {
   "cell_type": "code",
   "execution_count": 15,
   "id": "ffbfe93b-5e86-4e68-ba71-b301cd5230db",
   "metadata": {},
   "outputs": [],
   "source": [
    "from pydub import AudioSegment\n",
    "from pydub.playback import play\n",
    "\n",
    "def talker(message):\n",
    "    response = openai.audio.speech.create(\n",
    "      model=\"tts-1\",\n",
    "      voice=\"onyx\",    # Also, try replacing onyx with alloy\n",
    "      input=message\n",
    "    )\n",
    "    \n",
    "    audio_stream = BytesIO(response.content)\n",
    "    audio = AudioSegment.from_file(audio_stream, format=\"mp3\")\n",
    "    play(audio)"
   ]
  },
  {
   "cell_type": "code",
   "execution_count": 12,
   "id": "b88d775d-d357-4292-a1ad-5dc5ed567281",
   "metadata": {},
   "outputs": [],
   "source": [
    "# talker(\"Well, hi there\")"
   ]
  },
  {
   "cell_type": "markdown",
   "id": "ad89a9bd-bb1e-4bbb-a49a-83af5f500c24",
   "metadata": {},
   "source": [
    "# For Windows users (or any Mac users with problems above)\n",
    "\n",
    "## First try the Mac version above, but if you get a permissions error writing to a temp file, then this code should work instead.\n",
    "\n",
    "A collaboration between students Mark M. and Patrick H. and Claude got this resolved!\n",
    "\n",
    "Below are 4 variations - hopefully one of them will work on your PC. If not, message me please!\n",
    "\n",
    "And for Mac people - all 3 of the below work on my Mac too - please try these if the Mac version gave you problems.\n",
    "\n",
    "## PC Variation 1"
   ]
  },
  {
   "cell_type": "code",
   "execution_count": 19,
   "id": "d104b96a-02ca-4159-82fe-88e0452aa479",
   "metadata": {},
   "outputs": [
    {
     "data": {
      "text/html": [
       "\n",
       "                <audio  controls=\"controls\" autoplay=\"autoplay\">\n",
       "                    <source src=\"data:audio/mpeg;base64,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\" type=\"audio/mpeg\" />\n",
       "                    Your browser does not support the audio element.\n",
       "                </audio>\n",
       "              "
      ],
      "text/plain": [
       "<IPython.lib.display.Audio object>"
      ]
     },
     "metadata": {},
     "output_type": "display_data"
    }
   ],
   "source": [
    "import base64\n",
    "from io import BytesIO\n",
    "from PIL import Image\n",
    "from IPython.display import Audio, display\n",
    "\n",
    "def talker(message):\n",
    "    response = openai.audio.speech.create(\n",
    "        model=\"tts-1\",\n",
    "        voice=\"shimmer\", # onyx\n",
    "        input=message)\n",
    "\n",
    "    audio_stream = BytesIO(response.content)\n",
    "    output_filename = \"output_audio.mp3\"\n",
    "    with open(output_filename, \"wb\") as f:\n",
    "        f.write(audio_stream.read())\n",
    "\n",
    "    # Play the generated audio\n",
    "    display(Audio(output_filename, autoplay=True))\n",
    "\n",
    "talker(\"Well, hi there\")"
   ]
  },
  {
   "cell_type": "markdown",
   "id": "3a5d11f4-bbd3-43a1-904d-f684eb5f3e3a",
   "metadata": {},
   "source": [
    "## PC Variation 2 Bu versiyon çalışıyor"
   ]
  },
  {
   "cell_type": "code",
   "execution_count": 13,
   "id": "d59c8ebd-79c5-498a-bdf2-3a1c50d91aa0",
   "metadata": {},
   "outputs": [],
   "source": [
    "import tempfile\n",
    "import subprocess\n",
    "from io import BytesIO\n",
    "from pydub import AudioSegment\n",
    "import time\n",
    "\n",
    "def play_audio(audio_segment):\n",
    "    temp_dir = tempfile.gettempdir()\n",
    "    temp_path = os.path.join(temp_dir, \"temp_audio.wav\")\n",
    "    try:\n",
    "        audio_segment.export(temp_path, format=\"wav\")\n",
    "        time.sleep(3) # Student Dominic found that this was needed. You could also try commenting out to see if not needed on your PC\n",
    "        subprocess.call([\n",
    "            \"ffplay\",\n",
    "            \"-nodisp\",\n",
    "            \"-autoexit\",\n",
    "            \"-hide_banner\",\n",
    "            temp_path\n",
    "        ], stdout=subprocess.DEVNULL, stderr=subprocess.DEVNULL)\n",
    "    finally:\n",
    "        try:\n",
    "            os.remove(temp_path)\n",
    "        except Exception:\n",
    "            pass\n",
    " \n",
    "def talker(message):\n",
    "    response = openai.audio.speech.create(\n",
    "        model=\"tts-1\",\n",
    "        voice=\"onyx\",  # Also, try replacing onyx with alloy\n",
    "        input=message\n",
    "    )\n",
    "    audio_stream = BytesIO(response.content)\n",
    "    audio = AudioSegment.from_file(audio_stream, format=\"mp3\")\n",
    "    play_audio(audio)\n",
    "\n",
    "talker(\"Well hi there\")"
   ]
  },
  {
   "cell_type": "markdown",
   "id": "96f90e35-f71e-468e-afea-07b98f74dbcf",
   "metadata": {},
   "source": [
    "## PC Variation 3"
   ]
  },
  {
   "cell_type": "code",
   "execution_count": 10,
   "id": "8597c7f8-7b50-44ad-9b31-db12375cd57b",
   "metadata": {},
   "outputs": [
    {
     "ename": "",
     "evalue": "",
     "output_type": "error",
     "traceback": [
      "\u001b[1;31mThe Kernel crashed while executing code in the current cell or a previous cell. \n",
      "\u001b[1;31mPlease review the code in the cell(s) to identify a possible cause of the failure. \n",
      "\u001b[1;31mClick <a href='https://aka.ms/vscodeJupyterKernelCrash'>here</a> for more info. \n",
      "\u001b[1;31mView Jupyter <a href='command:jupyter.viewOutput'>log</a> for further details."
     ]
    }
   ],
   "source": [
    "import os\n",
    "from pydub import AudioSegment\n",
    "from pydub.playback import play\n",
    "from io import BytesIO\n",
    "\n",
    "def talker(message):\n",
    "    # Set a custom directory for temporary files on Windows\n",
    "    custom_temp_dir = os.path.expanduser(\"~/Documents/temp_audio\")\n",
    "    os.environ['TEMP'] = custom_temp_dir  # You can also use 'TMP' if necessary\n",
    "    \n",
    "    # Create the folder if it doesn't exist\n",
    "    if not os.path.exists(custom_temp_dir):\n",
    "        os.makedirs(custom_temp_dir)\n",
    "    \n",
    "    response = openai.audio.speech.create(\n",
    "        model=\"tts-1\",\n",
    "        voice=\"onyx\",  # Also, try replacing onyx with alloy\n",
    "        input=message\n",
    "    )\n",
    "    \n",
    "    audio_stream = BytesIO(response.content)\n",
    "    audio = AudioSegment.from_file(audio_stream, format=\"mp3\")\n",
    "\n",
    "    play(audio)\n",
    "\n",
    "talker(\"Well hi there\")"
   ]
  },
  {
   "cell_type": "markdown",
   "id": "e821224c-b069-4f9b-9535-c15fdb0e411c",
   "metadata": {},
   "source": [
    "## PC Variation 4\n",
    "\n",
    "### Let's try a completely different sound library\n",
    "\n",
    "First run the next cell to install a new library, then try the cell below it."
   ]
  },
  {
   "cell_type": "code",
   "execution_count": 15,
   "id": "69d3c0d9-afcc-49e3-b829-9c9869d8b472",
   "metadata": {},
   "outputs": [],
   "source": [
    "# !pip install simpleaudio"
   ]
  },
  {
   "cell_type": "code",
   "execution_count": 10,
   "id": "28f9cc99-36b7-4554-b3f4-f2012f614a13",
   "metadata": {},
   "outputs": [
    {
     "ename": "",
     "evalue": "",
     "output_type": "error",
     "traceback": [
      "\u001b[1;31mThe Kernel crashed while executing code in the current cell or a previous cell. \n",
      "\u001b[1;31mPlease review the code in the cell(s) to identify a possible cause of the failure. \n",
      "\u001b[1;31mClick <a href='https://aka.ms/vscodeJupyterKernelCrash'>here</a> for more info. \n",
      "\u001b[1;31mView Jupyter <a href='command:jupyter.viewOutput'>log</a> for further details."
     ]
    }
   ],
   "source": [
    "from pydub import AudioSegment\n",
    "from io import BytesIO\n",
    "import tempfile\n",
    "import os\n",
    "import simpleaudio as sa\n",
    "\n",
    "def talker(message):\n",
    "    response = openai.audio.speech.create(\n",
    "        model=\"tts-1\",\n",
    "        voice=\"onyx\",  # Also, try replacing onyx with alloy\n",
    "        input=message\n",
    "    )\n",
    "    \n",
    "    audio_stream = BytesIO(response.content)\n",
    "    audio = AudioSegment.from_file(audio_stream, format=\"mp3\")\n",
    "\n",
    "    # Create a temporary file in a folder where you have write permissions\n",
    "    with tempfile.NamedTemporaryFile(suffix=\".wav\", delete=False, dir=os.path.expanduser(\"~/Documents\")) as temp_audio_file:\n",
    "        temp_file_name = temp_audio_file.name\n",
    "        audio.export(temp_file_name, format=\"wav\")\n",
    "    \n",
    "    # Load and play audio using simpleaudio\n",
    "    wave_obj = sa.WaveObject.from_wave_file(temp_file_name)\n",
    "    play_obj = wave_obj.play()\n",
    "    play_obj.wait_done()  # Wait for playback to finish\n",
    "\n",
    "    # Clean up the temporary file afterward\n",
    "    os.remove(temp_file_name)\n",
    "    \n",
    "talker(\"Well hi there\")"
   ]
  },
  {
   "cell_type": "markdown",
   "id": "7986176b-cd04-495f-a47f-e057b0e462ed",
   "metadata": {},
   "source": [
    "## PC Users - if none of those 4 variations worked!\n",
    "\n",
    "Please get in touch with me. I'm sorry this is causing problems! We'll figure it out.\n",
    "\n",
    "Alternatively: playing audio from your PC isn't super-critical for this course, and you can feel free to focus on image generation and skip audio for now, or come back to it later."
   ]
  },
  {
   "cell_type": "markdown",
   "id": "1d48876d-c4fa-46a8-a04f-f9fadf61fb0d",
   "metadata": {},
   "source": [
    "# Our Agent Framework\n",
    "\n",
    "The term 'Agentic AI' and Agentization is an umbrella term that refers to a number of techniques, such as:\n",
    "\n",
    "1. Breaking a complex problem into smaller steps, with multiple LLMs carrying out specialized tasks\n",
    "2. The ability for LLMs to use Tools to give them additional capabilities\n",
    "3. The 'Agent Environment' which allows Agents to collaborate\n",
    "4. An LLM can act as the Planner, dividing bigger tasks into smaller ones for the specialists\n",
    "5. The concept of an Agent having autonomy / agency, beyond just responding to a prompt - such as Memory\n",
    "\n",
    "We're showing 1 and 2 here, and to a lesser extent 3 and 5. In week 8 we will do the lot!"
   ]
  },
  {
   "cell_type": "code",
   "execution_count": 14,
   "id": "ba820c95-02f5-499e-8f3c-8727ee0a6c0c",
   "metadata": {},
   "outputs": [],
   "source": [
    "def chat(history):\n",
    "    messages = [{\"role\": \"system\", \"content\": system_message}] + history\n",
    "    response = openai.chat.completions.create(model=MODEL, messages=messages, tools=tools)\n",
    "    image = None\n",
    "    \n",
    "    if response.choices[0].finish_reason==\"tool_calls\":\n",
    "        message = response.choices[0].message\n",
    "        response, city = handle_tool_call(message)\n",
    "        messages.append(message)\n",
    "        messages.append(response)\n",
    "        image = artist(city)\n",
    "        response = openai.chat.completions.create(model=MODEL, messages=messages)\n",
    "        \n",
    "    reply = response.choices[0].message.content\n",
    "    history += [{\"role\":\"assistant\", \"content\":reply}]\n",
    "\n",
    "    # Comment out or delete the next line if you'd rather skip Audio for now..\n",
    "    talker(reply)\n",
    "    \n",
    "    return history, image"
   ]
  },
  {
   "cell_type": "code",
   "execution_count": 16,
   "id": "f38d0d27-33bf-4992-a2e5-5dbed973cde7",
   "metadata": {},
   "outputs": [
    {
     "name": "stdout",
     "output_type": "stream",
     "text": [
      "* Running on local URL:  http://127.0.0.1:7861\n",
      "\n",
      "To create a public link, set `share=True` in `launch()`.\n"
     ]
    },
    {
     "data": {
      "text/html": [
       "<div><iframe src=\"http://127.0.0.1:7861/\" width=\"100%\" height=\"500\" allow=\"autoplay; camera; microphone; clipboard-read; clipboard-write;\" frameborder=\"0\" allowfullscreen></iframe></div>"
      ],
      "text/plain": [
       "<IPython.core.display.HTML object>"
      ]
     },
     "metadata": {},
     "output_type": "display_data"
    },
    {
     "data": {
      "text/plain": []
     },
     "execution_count": 16,
     "metadata": {},
     "output_type": "execute_result"
    }
   ],
   "source": [
    "# More involved Gradio code as we're not using the preset Chat interface!\n",
    "# Passing in inbrowser=True in the last line will cause a Gradio window to pop up immediately.\n",
    "\n",
    "with gr.Blocks() as ui:\n",
    "    with gr.Row():\n",
    "        chatbot = gr.Chatbot(height=500, type=\"messages\")\n",
    "        image_output = gr.Image(height=500)\n",
    "    with gr.Row():\n",
    "        entry = gr.Textbox(label=\"Chat with our AI Assistant:\")\n",
    "    with gr.Row():\n",
    "        clear = gr.Button(\"Clear\")\n",
    "\n",
    "    def do_entry(message, history):\n",
    "        history += [{\"role\":\"user\", \"content\":message}]\n",
    "        return \"\", history\n",
    "\n",
    "    entry.submit(do_entry, inputs=[entry, chatbot], outputs=[entry, chatbot]).then(\n",
    "        chat, inputs=chatbot, outputs=[chatbot, image_output]\n",
    "    )\n",
    "    clear.click(lambda: None, inputs=None, outputs=chatbot, queue=False)\n",
    "\n",
    "ui.launch(inbrowser=True)"
   ]
  },
  {
   "cell_type": "markdown",
   "id": "226643d2-73e4-4252-935d-86b8019e278a",
   "metadata": {},
   "source": [
    "# Exercises and Business Applications\n",
    "\n",
    "Add in more tools - perhaps to simulate actually booking a flight. A student has done this and provided their example in the community contributions folder.\n",
    "\n",
    "Next: take this and apply it to your business. Make a multi-modal AI assistant with tools that could carry out an activity for your work. A customer support assistant? New employee onboarding assistant? So many possibilities! Also, see the week2 end of week Exercise in the separate Notebook."
   ]
  },
  {
   "cell_type": "markdown",
   "id": "7e795560-1867-42db-a256-a23b844e6fbe",
   "metadata": {},
   "source": [
    "<table style=\"margin: 0; text-align: left;\">\n",
    "    <tr>\n",
    "        <td style=\"width: 150px; height: 150px; vertical-align: middle;\">\n",
    "            <img src=\"../thankyou.jpg\" width=\"150\" height=\"150\" style=\"display: block;\" />\n",
    "        </td>\n",
    "        <td>\n",
    "            <h2 style=\"color:#090;\">I have a special request for you</h2>\n",
    "            <span style=\"color:#090;\">\n",
    "                My editor tells me that it makes a HUGE difference when students rate this course on Udemy - it's one of the main ways that Udemy decides whether to show it to others. If you're able to take a minute to rate this, I'd be so very grateful! And regardless - always please reach out to me at ed@edwarddonner.com if I can help at any point.\n",
    "            </span>\n",
    "        </td>\n",
    "    </tr>\n",
    "</table>"
   ]
  }
 ],
 "metadata": {
  "kernelspec": {
   "display_name": "venv",
   "language": "python",
   "name": "python3"
  },
  "language_info": {
   "codemirror_mode": {
    "name": "ipython",
    "version": 3
   },
   "file_extension": ".py",
   "mimetype": "text/x-python",
   "name": "python",
   "nbconvert_exporter": "python",
   "pygments_lexer": "ipython3",
   "version": "3.12.6"
  }
 },
 "nbformat": 4,
 "nbformat_minor": 5
}
