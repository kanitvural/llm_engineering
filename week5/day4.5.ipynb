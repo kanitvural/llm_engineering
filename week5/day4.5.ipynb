{
 "cells": [
  {
   "cell_type": "markdown",
   "id": "dfe37963-1af6-44fc-a841-8e462443f5e6",
   "metadata": {},
   "source": [
    "## Expert Knowledge Worker\n",
    "\n",
    "## Extra Jupyter Notebook - Day 4.5 - switch out Chroma for FAISS!\n",
    "\n",
    "FAISS is Facebook AI Similarity Search"
   ]
  },
  {
   "cell_type": "code",
   "execution_count": 1,
   "id": "ba2779af-84ef-4227-9e9e-6eaf0df87e77",
   "metadata": {},
   "outputs": [],
   "source": [
    "# imports\n",
    "\n",
    "import os\n",
    "import glob\n",
    "from dotenv import load_dotenv\n",
    "import gradio as gr"
   ]
  },
  {
   "cell_type": "code",
   "execution_count": 2,
   "id": "802137aa-8a74-45e0-a487-d1974927d7ca",
   "metadata": {},
   "outputs": [],
   "source": [
    "# imports for langchain\n",
    "\n",
    "from langchain.document_loaders import DirectoryLoader, TextLoader\n",
    "from langchain.text_splitter import CharacterTextSplitter\n",
    "from langchain.schema import Document\n",
    "from langchain_openai import OpenAIEmbeddings, ChatOpenAI\n",
    "# from langchain_chroma import Chroma\n",
    "from langchain.vectorstores import FAISS\n",
    "import numpy as np\n",
    "from sklearn.manifold import TSNE\n",
    "import plotly.graph_objects as go\n",
    "from langchain.memory import ConversationBufferMemory\n",
    "from langchain.chains import ConversationalRetrievalChain"
   ]
  },
  {
   "cell_type": "code",
   "execution_count": 3,
   "id": "58c85082-e417-4708-9efe-81a5d55d1424",
   "metadata": {},
   "outputs": [],
   "source": [
    "# price is a factor for our company, so we're going to use a low cost model\n",
    "\n",
    "MODEL = \"gpt-4o-mini\"\n",
    "db_name = \"vector_db\""
   ]
  },
  {
   "cell_type": "code",
   "execution_count": 4,
   "id": "ee78efcb-60fe-449e-a944-40bab26261af",
   "metadata": {},
   "outputs": [],
   "source": [
    "# Load environment variables in a file called .env\n",
    "\n",
    "load_dotenv()\n",
    "os.environ['OPENAI_API_KEY'] = os.getenv('OPENAI_API_KEY', 'your-key-if-not-using-env')"
   ]
  },
  {
   "cell_type": "code",
   "execution_count": 5,
   "id": "730711a9-6ffe-4eee-8f48-d6cfb7314905",
   "metadata": {},
   "outputs": [],
   "source": [
    "# Read in documents using LangChain's loaders\n",
    "# Take everything in all the sub-folders of our knowledgebase\n",
    "\n",
    "folders = glob.glob(\"knowledge-base/*\")\n",
    "\n",
    "# With thanks to CG and Jon R, students on the course, for this fix needed for some users \n",
    "text_loader_kwargs = {'encoding': 'utf-8'}\n",
    "# If that doesn't work, some Windows users might need to uncomment the next line instead\n",
    "# text_loader_kwargs={'autodetect_encoding': True}\n",
    "\n",
    "documents = []\n",
    "for folder in folders:\n",
    "    doc_type = os.path.basename(folder)\n",
    "    loader = DirectoryLoader(folder, glob=\"**/*.md\", loader_cls=TextLoader, loader_kwargs=text_loader_kwargs)\n",
    "    folder_docs = loader.load()\n",
    "    for doc in folder_docs:\n",
    "        doc.metadata[\"doc_type\"] = doc_type\n",
    "        documents.append(doc)"
   ]
  },
  {
   "cell_type": "code",
   "execution_count": 6,
   "id": "7310c9c8-03c1-4efc-a104-5e89aec6db1a",
   "metadata": {},
   "outputs": [
    {
     "name": "stderr",
     "output_type": "stream",
     "text": [
      "Created a chunk of size 1088, which is longer than the specified 1000\n"
     ]
    }
   ],
   "source": [
    "text_splitter = CharacterTextSplitter(chunk_size=1000, chunk_overlap=200)\n",
    "chunks = text_splitter.split_documents(documents)"
   ]
  },
  {
   "cell_type": "code",
   "execution_count": 7,
   "id": "cd06e02f-6d9b-44cc-a43d-e1faa8acc7bb",
   "metadata": {},
   "outputs": [
    {
     "data": {
      "text/plain": [
       "123"
      ]
     },
     "execution_count": 7,
     "metadata": {},
     "output_type": "execute_result"
    }
   ],
   "source": [
    "len(chunks)"
   ]
  },
  {
   "cell_type": "code",
   "execution_count": 8,
   "id": "2c54b4b6-06da-463d-bee7-4dd456c2b887",
   "metadata": {},
   "outputs": [
    {
     "name": "stdout",
     "output_type": "stream",
     "text": [
      "Document types found: employees, products, company, contracts\n"
     ]
    }
   ],
   "source": [
    "doc_types = set(chunk.metadata['doc_type'] for chunk in chunks)\n",
    "print(f\"Document types found: {', '.join(doc_types)}\")"
   ]
  },
  {
   "cell_type": "markdown",
   "id": "77f7d2a6-ccfa-425b-a1c3-5e55b23bd013",
   "metadata": {},
   "source": [
    "## A sidenote on Embeddings, and \"Auto-Encoding LLMs\"\n",
    "\n",
    "We will be mapping each chunk of text into a Vector that represents the meaning of the text, known as an embedding.\n",
    "\n",
    "OpenAI offers a model to do this, which we will use by calling their API with some LangChain code.\n",
    "\n",
    "This model is an example of an \"Auto-Encoding LLM\" which generates an output given a complete input.\n",
    "It's different to all the other LLMs we've discussed today, which are known as \"Auto-Regressive LLMs\", and generate future tokens based only on past context.\n",
    "\n",
    "Another example of an Auto-Encoding LLMs is BERT from Google. In addition to embedding, Auto-encoding LLMs are often used for classification.\n",
    "\n",
    "### Sidenote\n",
    "\n",
    "In week 8 we will return to RAG and vector embeddings, and we will use an open-source vector encoder so that the data never leaves our computer - that's an important consideration when building enterprise systems and the data needs to remain internal."
   ]
  },
  {
   "cell_type": "code",
   "execution_count": 9,
   "id": "78998399-ac17-4e28-b15f-0b5f51e6ee23",
   "metadata": {},
   "outputs": [
    {
     "name": "stdout",
     "output_type": "stream",
     "text": [
      "There are 123 vectors with 1,536 dimensions in the vector store\n"
     ]
    }
   ],
   "source": [
    "# Put the chunks of data into a Vector Store that associates a Vector Embedding with each chunk\n",
    "# Chroma is a popular open source Vector Database based on SQLLite\n",
    "\n",
    "embeddings = OpenAIEmbeddings()\n",
    "\n",
    "# Create vectorstore\n",
    "\n",
    "# BEFORE\n",
    "# vectorstore = Chroma.from_documents(documents=chunks, embedding=embeddings, persist_directory=db_name)\n",
    "\n",
    "# AFTER\n",
    "vectorstore = FAISS.from_documents(chunks, embedding=embeddings)\n",
    "\n",
    "total_vectors = vectorstore.index.ntotal\n",
    "dimensions = vectorstore.index.d\n",
    "\n",
    "print(f\"There are {total_vectors} vectors with {dimensions:,} dimensions in the vector store\")"
   ]
  },
  {
   "cell_type": "code",
   "execution_count": 10,
   "id": "057868f6-51a6-4087-94d1-380145821550",
   "metadata": {},
   "outputs": [],
   "source": [
    "# Prework\n",
    "vectors = []\n",
    "documents = []\n",
    "doc_types = []\n",
    "colors = []\n",
    "color_map = {'products':'blue', 'employees':'green', 'contracts':'red', 'company':'orange'}\n",
    "\n",
    "for i in range(total_vectors):\n",
    "    vectors.append(vectorstore.index.reconstruct(i))\n",
    "    doc_id = vectorstore.index_to_docstore_id[i]\n",
    "    document = vectorstore.docstore.search(doc_id)\n",
    "    documents.append(document.page_content)\n",
    "    doc_type = document.metadata['doc_type']\n",
    "    doc_types.append(doc_type)\n",
    "    colors.append(color_map[doc_type])\n",
    "    \n",
    "vectors = np.array(vectors)"
   ]
  },
  {
   "cell_type": "markdown",
   "id": "b0d45462-a818-441c-b010-b85b32bcf618",
   "metadata": {},
   "source": [
    "## Visualizing the Vector Store\n",
    "\n",
    "Let's take a minute to look at the documents and their embedding vectors to see what's going on.\n",
    "\n",
    "(As a sidenote, what we're really looking at here is the distribution of the Vectors generated by OpenAIEmbeddings, retrieved from FAISS. So there's no surprise that they look the same whether they are \"from\" FAISS or Chroma.)"
   ]
  },
  {
   "cell_type": "code",
   "execution_count": 11,
   "id": "427149d5-e5d8-4abd-bb6f-7ef0333cca21",
   "metadata": {},
   "outputs": [
    {
     "data": {
      "application/vnd.plotly.v1+json": {
       "config": {
        "plotlyServerURL": "https://plot.ly"
       },
       "data": [
        {
         "hoverinfo": "text",
         "marker": {
          "color": [
           "orange",
           "orange",
           "orange",
           "red",
           "red",
           "red",
           "red",
           "red",
           "red",
           "red",
           "red",
           "red",
           "red",
           "red",
           "red",
           "red",
           "red",
           "red",
           "red",
           "red",
           "red",
           "red",
           "red",
           "red",
           "red",
           "red",
           "red",
           "red",
           "red",
           "red",
           "red",
           "red",
           "red",
           "red",
           "red",
           "red",
           "red",
           "red",
           "red",
           "red",
           "red",
           "red",
           "red",
           "red",
           "red",
           "red",
           "red",
           "red",
           "red",
           "red",
           "red",
           "red",
           "red",
           "red",
           "red",
           "green",
           "green",
           "green",
           "green",
           "green",
           "green",
           "green",
           "green",
           "green",
           "green",
           "green",
           "green",
           "green",
           "green",
           "green",
           "green",
           "green",
           "green",
           "green",
           "green",
           "green",
           "green",
           "green",
           "green",
           "green",
           "green",
           "green",
           "green",
           "green",
           "green",
           "green",
           "green",
           "green",
           "green",
           "green",
           "green",
           "green",
           "green",
           "green",
           "green",
           "green",
           "green",
           "green",
           "green",
           "green",
           "green",
           "green",
           "blue",
           "blue",
           "blue",
           "blue",
           "blue",
           "blue",
           "blue",
           "blue",
           "blue",
           "blue",
           "blue",
           "blue",
           "blue",
           "blue",
           "blue",
           "blue",
           "blue",
           "blue",
           "blue",
           "blue",
           "blue"
          ],
          "opacity": 0.8,
          "size": 5
         },
         "mode": "markers",
         "text": [
          "Type: company<br>Text: # About Insurellm\n\nInsurellm was founded by Avery Lancaster in 2015 as an insurance tech startup des...",
          "Type: company<br>Text: # Careers at Insurellm\n\nInsurellm is hiring! We are looking for talented software engineers, data sc...",
          "Type: company<br>Text: # Overview of Insurellm\n\nInsurellm is an innovative insurance tech firm with 200 employees across th...",
          "Type: contracts<br>Text: # Contract with Apex Reinsurance for Rellm: AI-Powered Enterprise Reinsurance Solution\n\n## Terms\n\n1....",
          "Type: contracts<br>Text: ## Renewal\n\n1. **Automatic Renewal**: This Agreement will automatically renew for successive one-yea...",
          "Type: contracts<br>Text: 2. **Seamless Integrations**: The architecture of Rellm allows for easy integration with existing sy...",
          "Type: contracts<br>Text: 1. **Technical Support**: Provider shall offer dedicated technical support to the Client via phone, ...",
          "Type: contracts<br>Text: **Insurellm, Inc.**  \n_____________________________  \nAuthorized Signature   \nDate: ________________...",
          "Type: contracts<br>Text: # Contract with Belvedere Insurance for Markellm\n\n## Terms\nThis Contract (\"Agreement\") is made and e...",
          "Type: contracts<br>Text: ## Renewal\n1. **Renewal Terms**: This Agreement may be renewed for additional one-year terms upon mu...",
          "Type: contracts<br>Text: ## Features\n1. **AI-Powered Matching**: Belvedere Insurance will benefit from Markellm's AI-powered ...",
          "Type: contracts<br>Text: ## Support\n1. **Technical Support**: Technical support will be available from 9 AM to 7 PM EST, Mond...",
          "Type: contracts<br>Text: **Belvedere Insurance**  \nSignature: ______________________  \nName: [Authorized Signatory]  \nTitle: ...",
          "Type: contracts<br>Text: # Contract with BrightWay Solutions for Markellm\n\n**Contract Date:** October 5, 2023  \n**Contract ID...",
          "Type: contracts<br>Text: 3. **Service Level Agreement (SLA):**  \n   Insurellm commits to a 99.9% uptime for the platform with...",
          "Type: contracts<br>Text: 2. **Real-Time Quote Availability:**  \n   Consumers sourced via BrightWay Solutions will receive rea...",
          "Type: contracts<br>Text: 3. **Training and Onboarding:**  \n   Insurellm agrees to provide one free training session on how to...",
          "Type: contracts<br>Text: # Contract with EverGuard Insurance for Rellm: AI-Powered Enterprise Reinsurance Solution\n\n**Contrac...",
          "Type: contracts<br>Text: 4. **Usage Rights**: EverGuard Insurance is granted a non-exclusive, non-transferable license to acc...",
          "Type: contracts<br>Text: 1. **Core Functionality**: Rellm provides EverGuard Insurance with advanced AI-driven analytics, sea...",
          "Type: contracts<br>Text: 1. **Customer Support**: Insurellm will provide EverGuard Insurance with 24/7 customer support, incl...",
          "Type: contracts<br>Text: ---\n\n**Signatures**  \n**For Insurellm**: __________________________  \n**Name**: John Smith  \n**Title...",
          "Type: contracts<br>Text: # Contract with GreenField Holdings for Markellm\n\n**Effective Date:** November 15, 2023  \n**Contract...",
          "Type: contracts<br>Text: ## Renewal\n1. **Automatic Renewal**: This contract will automatically renew for sequential one-year ...",
          "Type: contracts<br>Text: ## Features\n1. **AI-Powered Matching**: Access to advanced algorithms that connect GreenField Holdin...",
          "Type: contracts<br>Text: ## Support\n1. **Customer Support Access**: The Client will have access to dedicated support through ...",
          "Type: contracts<br>Text: **Signatures:**  \n_________________________                           _________________________  \n**...",
          "Type: contracts<br>Text: # Contract with Greenstone Insurance for Homellm\n\n---\n\n## Terms\n\n1. **Parties**: This Contract (\"Agr...",
          "Type: contracts<br>Text: 4. **Payment Terms**: \n   - The Customer shall pay an amount of $10,000 per month for the Standard T...",
          "Type: contracts<br>Text: ---\n\n## Features\n\n- **AI-Powered Risk Assessment**: Customer will have access to enhanced risk evalu...",
          "Type: contracts<br>Text: - **Customer Portal**: A dedicated portal will be provided, allowing the Customer's clients to manag...",
          "Type: contracts<br>Text: ______________________________  \n[Name], [Title]  \nDate: ______________________\n\n**For Greenstone In...",
          "Type: contracts<br>Text: # Contract with GreenValley Insurance for Homellm\n\n**Contract Date:** October 6, 2023  \n**Contract N...",
          "Type: contracts<br>Text: 4. **Confidentiality:** Both parties agree to maintain the confidentiality of proprietary informatio...",
          "Type: contracts<br>Text: 1. **AI-Powered Risk Assessment:** Access to advanced AI algorithms for real-time risk evaluations.\n...",
          "Type: contracts<br>Text: 3. **Regular Updates:** Insurellm will offer ongoing updates and enhancements to the Homellm platfor...",
          "Type: contracts<br>Text: # Contract with Pinnacle Insurance Co. for Homellm\n\n## Terms\nThis contract (\"Contract\") is entered i...",
          "Type: contracts<br>Text: ## Renewal\n1. **Renewal Terms**: At the end of the initial term, this Contract shall automatically r...",
          "Type: contracts<br>Text: ## Features\n1. **AI-Powered Risk Assessment**: Utilized for tailored underwriting decisions specific...",
          "Type: contracts<br>Text: ## Support\n1. **Technical Support**: Insurellm shall provide 24/7 technical support via an email and...",
          "Type: contracts<br>Text: # Contract with Roadway Insurance Inc. for Carllm\n\n---\n\n## Terms\n\n1. **Agreement Effective Date**: T...",
          "Type: contracts<br>Text: ---\n\n## Renewal\n\n1. **Automatic Renewal**: This agreement will automatically renew for an additional...",
          "Type: contracts<br>Text: ---\n\n## Features\n\n1. **Access to Core Features**: Roadway Insurance Inc. will have access to all Pro...",
          "Type: contracts<br>Text: ---\n\n## Support\n\n1. **Technical Support**: Roadway Insurance Inc. will receive priority technical su...",
          "Type: contracts<br>Text: # Contract with Stellar Insurance Co. for Rellm\n\n## Terms\nThis contract is made between **Insurellm*...",
          "Type: contracts<br>Text: ### Termination\nEither party may terminate this agreement with a **30-day written notice**. In the e...",
          "Type: contracts<br>Text: ## Features\nStellar Insurance Co. will receive access to the following features of the Rellm product...",
          "Type: contracts<br>Text: ## Support\nInsurellm provides Stellar Insurance Co. with the following support services:\n\n- **24/7 T...",
          "Type: contracts<br>Text: # Contract with TechDrive Insurance for Carllm\n\n**Contract Date:** October 1, 2024  \n**Contract Dura...",
          "Type: contracts<br>Text: ## Renewal\n\n1. **Automatic Renewal**: This contract shall automatically renew for additional one-yea...",
          "Type: contracts<br>Text: ## Support\n\n1. **Customer Support**: Insurellm will provide 24/7 customer support to TechDrive Insur...",
          "Type: contracts<br>Text: **TechDrive Insurance Representative:**  \nName: Sarah Johnson  \nTitle: Operations Director  \nDate: _...",
          "Type: contracts<br>Text: # Contract with Velocity Auto Solutions for Carllm\n\n**Contract Date:** October 1, 2023  \n**Contract ...",
          "Type: contracts<br>Text: ## Renewal\n\n1. **Automatic Renewal**: This contract will automatically renew for successive 12-month...",
          "Type: contracts<br>Text: ## Support\n\n1. **Customer Support**: Velocity Auto Solutions will have access to Insurellm’s custome...",
          "Type: employees<br>Text: # HR Record\n\n# Alex Chen\n\n## Summary\n- **Date of Birth:** March 15, 1990  \n- **Job Title:** Backend ...",
          "Type: employees<br>Text: ## Annual Performance History\n- **2020:**  \n  - Completed onboarding successfully.  \n  - Met expecta...",
          "Type: employees<br>Text: ## Compensation History\n- **2020:** Base Salary: $80,000  \n- **2021:** Base Salary Increase to $90,0...",
          "Type: employees<br>Text: Alex Chen continues to be a vital asset at Insurellm, contributing significantly to innovative backe...",
          "Type: employees<br>Text: # HR Record\n\n# Alex Harper\n\n## Summary\n- **Date of Birth**: March 15, 1993  \n- **Job Title**: Sales ...",
          "Type: employees<br>Text: ## Annual Performance History  \n- **2021**:  \n  - **Performance Rating**: 4.5/5  \n  - **Key Achievem...",
          "Type: employees<br>Text: - **2022**:  \n  - **Base Salary**: $65,000 (Promotion to Senior SDR)  \n  - **Bonus**: $13,000 (20% o...",
          "Type: employees<br>Text: # HR Record\n\n# Alex Thomson\n\n## Summary\n- **Date of Birth:** March 15, 1995  \n- **Job Title:** Sales...",
          "Type: employees<br>Text: ## Annual Performance History  \n- **2022** - Rated as \"Exceeds Expectations.\" Alex Thomson achieved ...",
          "Type: employees<br>Text: ## Other HR Notes\n- Alex Thomson is an active member of the Diversity and Inclusion committee at Ins...",
          "Type: employees<br>Text: # Avery Lancaster\n\n## Summary\n- **Date of Birth**: March 15, 1985  \n- **Job Title**: Co-Founder & Ch...",
          "Type: employees<br>Text: - **2010 - 2013**: Business Analyst at Edge Analytics  \n  Prior to joining Innovate, Avery worked as...",
          "Type: employees<br>Text: - **2018**: **Exceeds Expectations**  \n  Under Avery’s pivoted vision, Insurellm launched two new su...",
          "Type: employees<br>Text: - **2022**: **Satisfactory**  \n  Avery focused on rebuilding team dynamics and addressing employee c...",
          "Type: employees<br>Text: ## Compensation History\n- **2015**: $150,000 base salary + Significant equity stake  \n- **2016**: $1...",
          "Type: employees<br>Text: ## Other HR Notes\n- **Professional Development**: Avery has actively participated in leadership trai...",
          "Type: employees<br>Text: # HR Record\n\n# Emily Carter\n\n## Summary\n- **Date of Birth:** August 12, 1990  \n- **Job Title:** Acco...",
          "Type: employees<br>Text: - **2017-2019:** Marketing Intern  \n  - Assisted with market research and campaign development for s...",
          "Type: employees<br>Text: ## Compensation History\n| Year | Base Salary | Bonus         | Total Compensation |\n|------|--------...",
          "Type: employees<br>Text: Emily Carter exemplifies the kind of talent that drives Insurellm's success and is an invaluable ass...",
          "Type: employees<br>Text: # HR Record\n\n# Emily Tran\n\n## Summary\n- **Date of Birth:** March 18, 1991  \n- **Job Title:** Digital...",
          "Type: employees<br>Text: - **January 2017 - May 2018**: Marketing Intern  \n  - Supported the Marketing team by collaborating ...",
          "Type: employees<br>Text: - **2021**:  \n  - Performance Rating: Meets Expectations  \n  - Key Achievements: Contributed to the ...",
          "Type: employees<br>Text: - **Professional Development Goals**:  \n  - Emily Tran aims to become a Marketing Manager within the...",
          "Type: employees<br>Text: # HR Record\n\n# Jordan Blake\n\n## Summary\n- **Date of Birth:** March 15, 1993  \n- **Job Title:** Sales...",
          "Type: employees<br>Text: ## Annual Performance History\n- **2021:** First year at Insurellm; achieved 90% of monthly targets. ...",
          "Type: employees<br>Text: ## Other HR Notes\n- Jordan has shown an interest in continuing education, actively participating in ...",
          "Type: employees<br>Text: # HR Record\n\n# Jordan K. Bishop\n\n## Summary\n- **Date of Birth:** March 15, 1990\n- **Job Title:** Fro...",
          "Type: employees<br>Text: ## Annual Performance History\n- **2019:** Exceeds Expectations - Continuously delivered high-quality...",
          "Type: employees<br>Text: ## Compensation History\n- **June 2018:** Starting Salary - $85,000\n- **June 2019:** Salary Increase ...",
          "Type: employees<br>Text: ## Other HR Notes\n- Jordan K. Bishop has been an integral part of club initiatives, including the In...",
          "Type: employees<br>Text: # HR Record\n\n# Maxine Thompson\n\n## Summary\n- **Date of Birth:** January 15, 1991  \n- **Job Title:** ...",
          "Type: employees<br>Text: ## Insurellm Career Progression\n- **January 2017 - October 2018**: **Junior Data Engineer**  \n  * Ma...",
          "Type: employees<br>Text: ## Annual Performance History\n- **2017**: *Meets Expectations*  \n  Maxine showed potential in her ro...",
          "Type: employees<br>Text: - **2021**: *Exceeds Expectations*  \n  Maxine spearheaded the transition to a new data warehousing s...",
          "Type: employees<br>Text: ## Compensation History\n- **2017**: $70,000 (Junior Data Engineer)  \n- **2018**: $75,000 (Junior Dat...",
          "Type: employees<br>Text: # HR Record\n\n# Oliver Spencer\n\n## Summary\n- **Date of Birth**: May 14, 1990  \n- **Job Title**: Backe...",
          "Type: employees<br>Text: ## Annual Performance History\n- **2018**: **3/5** - Adaptable team player but still learning to take...",
          "Type: employees<br>Text: ## Compensation History\n- **March 2018**: Initial salary of $80,000.\n- **July 2019**: Salary increas...",
          "Type: employees<br>Text: # Samantha Greene\n\n## Summary\n- **Date of Birth:** October 14, 1990\n- **Job Title:** HR Generalist\n-...",
          "Type: employees<br>Text: ## Annual Performance History\n- **2020:** Exceeds Expectations  \n  Samantha Greene demonstrated exce...",
          "Type: employees<br>Text: ## Compensation History\n- **2020:** Base Salary - $55,000  \n  The entry-level salary matched industr...",
          "Type: employees<br>Text: - **2023:** Base Salary - $70,000  \n  Recognized for substantial improvement in employee relations m...",
          "Type: employees<br>Text: # HR Record\n\n# Samuel Trenton\n\n## Summary\n- **Date of Birth:** April 12, 1989  \n- **Job Title:** Sen...",
          "Type: employees<br>Text: ## Annual Performance History\n- **2023:** Rating: 4.5/5  \n  *Samuel exceeded expectations, successfu...",
          "Type: employees<br>Text: ## Compensation History\n- **2023:** Base Salary: $115,000 + Bonus: $15,000  \n  *Annual bonus based o...",
          "Type: employees<br>Text: - **Engagement in Company Culture:** Regularly participates in team-building events and contributes ...",
          "Type: products<br>Text: # Product Summary\n\n# Carllm\n\n## Summary\n\nCarllm is an innovative auto insurance product developed by...",
          "Type: products<br>Text: - **Instant Quoting**: With Carllm, insurance companies can offer near-instant quotes to customers, ...",
          "Type: products<br>Text: - **Mobile Integration**: Carllm is designed to work seamlessly with mobile applications, providing ...",
          "Type: products<br>Text: - **Professional Tier**: $2,500/month\n  - For medium-sized companies.\n  - All Basic Tier features pl...",
          "Type: products<br>Text: ### Q2 2025: Customer Experience Improvements\n- Launch of a new **mobile app** for end-users.\n- Intr...",
          "Type: products<br>Text: # Product Summary\n\n# Homellm\n\n## Summary\nHomellm is an innovative home insurance product developed b...",
          "Type: products<br>Text: ### 2. Dynamic Pricing Model\nWith Homellm's innovative dynamic pricing model, insurance providers ca...",
          "Type: products<br>Text: ### 5. Multi-Channel Integration\nHomellm seamlessly integrates into existing insurance platforms, pr...",
          "Type: products<br>Text: - **Basic Tier:** Starting at $5,000/month for small insurers with basic integration features.\n- **S...",
          "Type: products<br>Text: All tiers include a comprehensive training program and ongoing updates to ensure optimal performance...",
          "Type: products<br>Text: With Homellm, Insurellm is committed to transforming the landscape of home insurance, ensuring both ...",
          "Type: products<br>Text: # Product Summary\n\n# Markellm\n\n## Summary\n\nMarkellm is an innovative two-sided marketplace designed ...",
          "Type: products<br>Text: - **User-Friendly Interface**: Designed with user experience in mind, Markellm features an intuitive...",
          "Type: products<br>Text: - **Customer Support**: Our dedicated support team is always available to assist both consumers and ...",
          "Type: products<br>Text: ### For Insurance Companies:\n- **Basic Listing Fee**: $199/month for a featured listing on the platf...",
          "Type: products<br>Text: ### Q3 2025\n- Initiate a comprehensive marketing campaign targeting both consumers and insurers to i...",
          "Type: products<br>Text: # Product Summary\n\n# Rellm: AI-Powered Enterprise Reinsurance Solution\n\n## Summary\n\nRellm is an inno...",
          "Type: products<br>Text: ### Seamless Integrations\nRellm's architecture is designed for effortless integration with existing ...",
          "Type: products<br>Text: ### Regulatory Compliance Tools\nRellm includes built-in compliance tracking features to help organiz...",
          "Type: products<br>Text: Join the growing number of organizations leveraging Rellm to enhance their reinsurance processes whi...",
          "Type: products<br>Text: Experience the future of reinsurance with Rellm, where innovation meets reliability. Let Insurellm h..."
         ],
         "type": "scatter",
         "x": [
          0.870292,
          -0.0018979241,
          1.1826694,
          -0.32444695,
          2.20119,
          1.2537769,
          0.7528477,
          -1.9238462,
          3.5491636,
          5.848548,
          4.6051702,
          0.76714087,
          -1.1284053,
          3.6649494,
          4.548585,
          4.593929,
          3.2083387,
          0.24368341,
          1.3500822,
          1.5291358,
          0.42417094,
          -1.1975492,
          2.9408712,
          5.7071195,
          7.8708544,
          5.9626637,
          -2.2139943,
          2.1802888,
          3.586414,
          6.1387014,
          1.3954165,
          -2.2289875,
          1.6057584,
          1.2391794,
          6.795021,
          0.5798091,
          2.5252666,
          5.8355064,
          6.8236685,
          1.0509343,
          7.903454,
          6.8420973,
          8.056892,
          7.8986335,
          1.9154853,
          2.4494073,
          2.5663872,
          1.243776,
          6.984324,
          6.8385544,
          5.9058824,
          5.7742095,
          7.445071,
          6.6674576,
          5.719776,
          -7.9537582,
          -7.2658873,
          -11.168953,
          -3.043641,
          -7.6630855,
          -10.012537,
          -9.377274,
          -7.2169585,
          -9.2443495,
          -6.41933,
          -3.5691576,
          -4.4118977,
          -4.409815,
          -4.2867317,
          -12.202826,
          -3.758692,
          -9.107608,
          -11.5780525,
          -10.833664,
          -3.2881193,
          -9.90695,
          -10.581233,
          -11.100585,
          -10.619344,
          -7.749381,
          -10.409741,
          -5.9067783,
          -7.1329656,
          -6.6371183,
          -12.003256,
          -6.061718,
          -9.338932,
          -6.441603,
          -6.5126452,
          -5.8727927,
          -11.303735,
          -8.006333,
          -7.34542,
          -11.586229,
          -8.577847,
          -7.671463,
          -9.296196,
          -9.137462,
          -8.741863,
          -10.080575,
          -10.924815,
          -11.670956,
          8.316808,
          8.380384,
          8.026278,
          7.668305,
          7.1726317,
          4.370069,
          5.521865,
          4.713783,
          6.191161,
          5.48757,
          3.0652106,
          5.2737017,
          5.2213078,
          5.4956827,
          5.9605923,
          6.002585,
          2.6995745,
          1.7172681,
          2.542489,
          4.0579133,
          2.178575
         ],
         "y": [
          2.7103174,
          2.9771059,
          2.6243339,
          -1.940839,
          -2.0898557,
          -0.13813739,
          -4.53701,
          -5.479411,
          -5.738376,
          -9.743118,
          -1.686415,
          -5.2062883,
          -5.861583,
          -4.780722,
          -4.0530496,
          -3.190401,
          -4.7572403,
          -2.1474795,
          -1.8752792,
          -0.9825856,
          -3.0122995,
          -3.7874644,
          -6.1160507,
          -9.228393,
          2.2257574,
          -2.8961468,
          -5.995426,
          -7.180016,
          -8.702939,
          2.8858855,
          -6.3641953,
          -6.393876,
          -7.99454,
          -7.712749,
          2.4964662,
          -7.313676,
          -7.5266023,
          -9.4946785,
          3.529724,
          -5.7143273,
          -6.8845286,
          -8.304679,
          -3.3668659,
          -4.7290072,
          -3.6366427,
          -3.2547293,
          -1.0793815,
          -3.3617759,
          -6.323954,
          -4.9208317,
          -5.8898573,
          -6.5718727,
          -6.096435,
          -4.5598836,
          -5.3607464,
          1.8741351,
          8.89548,
          7.087857,
          3.044905,
          3.6131666,
          7.8966837,
          7.579849,
          3.5331342,
          8.859581,
          3.7669475,
          4.9615736,
          6.677156,
          7.3815737,
          7.5074086,
          7.731465,
          5.103774,
          3.2817624,
          4.303543,
          6.1896787,
          2.478026,
          3.380821,
          3.8378778,
          5.6953025,
          3.372911,
          2.9860263,
          7.018226,
          2.4721656,
          1.6566051,
          8.818571,
          8.391955,
          1.8695247,
          0.9672493,
          6.0769625,
          7.69153,
          6.9668856,
          8.883742,
          1.4872667,
          8.714652,
          6.9628496,
          5.192601,
          7.26182,
          6.3158,
          5.8274775,
          2.2966206,
          8.608764,
          8.1723995,
          2.0433352,
          -0.5321205,
          -0.66539675,
          -1.6426828,
          -1.8868535,
          -0.42816797,
          2.5253286,
          2.92112,
          2.9889612,
          1.0805233,
          1.4956472,
          2.8361988,
          -0.6147146,
          -0.9733327,
          -1.6915202,
          -2.1717644,
          -0.2744957,
          0.72704494,
          0.12215585,
          -0.26181635,
          0.57793486,
          1.7579244
         ]
        }
       ],
       "layout": {
        "height": 600,
        "margin": {
         "b": 10,
         "l": 10,
         "r": 20,
         "t": 40
        },
        "scene": {
         "xaxis": {
          "title": {
           "text": "x"
          }
         },
         "yaxis": {
          "title": {
           "text": "y"
          }
         }
        },
        "template": {
         "data": {
          "bar": [
           {
            "error_x": {
             "color": "#2a3f5f"
            },
            "error_y": {
             "color": "#2a3f5f"
            },
            "marker": {
             "line": {
              "color": "#E5ECF6",
              "width": 0.5
             },
             "pattern": {
              "fillmode": "overlay",
              "size": 10,
              "solidity": 0.2
             }
            },
            "type": "bar"
           }
          ],
          "barpolar": [
           {
            "marker": {
             "line": {
              "color": "#E5ECF6",
              "width": 0.5
             },
             "pattern": {
              "fillmode": "overlay",
              "size": 10,
              "solidity": 0.2
             }
            },
            "type": "barpolar"
           }
          ],
          "carpet": [
           {
            "aaxis": {
             "endlinecolor": "#2a3f5f",
             "gridcolor": "white",
             "linecolor": "white",
             "minorgridcolor": "white",
             "startlinecolor": "#2a3f5f"
            },
            "baxis": {
             "endlinecolor": "#2a3f5f",
             "gridcolor": "white",
             "linecolor": "white",
             "minorgridcolor": "white",
             "startlinecolor": "#2a3f5f"
            },
            "type": "carpet"
           }
          ],
          "choropleth": [
           {
            "colorbar": {
             "outlinewidth": 0,
             "ticks": ""
            },
            "type": "choropleth"
           }
          ],
          "contour": [
           {
            "colorbar": {
             "outlinewidth": 0,
             "ticks": ""
            },
            "colorscale": [
             [
              0,
              "#0d0887"
             ],
             [
              0.1111111111111111,
              "#46039f"
             ],
             [
              0.2222222222222222,
              "#7201a8"
             ],
             [
              0.3333333333333333,
              "#9c179e"
             ],
             [
              0.4444444444444444,
              "#bd3786"
             ],
             [
              0.5555555555555556,
              "#d8576b"
             ],
             [
              0.6666666666666666,
              "#ed7953"
             ],
             [
              0.7777777777777778,
              "#fb9f3a"
             ],
             [
              0.8888888888888888,
              "#fdca26"
             ],
             [
              1,
              "#f0f921"
             ]
            ],
            "type": "contour"
           }
          ],
          "contourcarpet": [
           {
            "colorbar": {
             "outlinewidth": 0,
             "ticks": ""
            },
            "type": "contourcarpet"
           }
          ],
          "heatmap": [
           {
            "colorbar": {
             "outlinewidth": 0,
             "ticks": ""
            },
            "colorscale": [
             [
              0,
              "#0d0887"
             ],
             [
              0.1111111111111111,
              "#46039f"
             ],
             [
              0.2222222222222222,
              "#7201a8"
             ],
             [
              0.3333333333333333,
              "#9c179e"
             ],
             [
              0.4444444444444444,
              "#bd3786"
             ],
             [
              0.5555555555555556,
              "#d8576b"
             ],
             [
              0.6666666666666666,
              "#ed7953"
             ],
             [
              0.7777777777777778,
              "#fb9f3a"
             ],
             [
              0.8888888888888888,
              "#fdca26"
             ],
             [
              1,
              "#f0f921"
             ]
            ],
            "type": "heatmap"
           }
          ],
          "heatmapgl": [
           {
            "colorbar": {
             "outlinewidth": 0,
             "ticks": ""
            },
            "colorscale": [
             [
              0,
              "#0d0887"
             ],
             [
              0.1111111111111111,
              "#46039f"
             ],
             [
              0.2222222222222222,
              "#7201a8"
             ],
             [
              0.3333333333333333,
              "#9c179e"
             ],
             [
              0.4444444444444444,
              "#bd3786"
             ],
             [
              0.5555555555555556,
              "#d8576b"
             ],
             [
              0.6666666666666666,
              "#ed7953"
             ],
             [
              0.7777777777777778,
              "#fb9f3a"
             ],
             [
              0.8888888888888888,
              "#fdca26"
             ],
             [
              1,
              "#f0f921"
             ]
            ],
            "type": "heatmapgl"
           }
          ],
          "histogram": [
           {
            "marker": {
             "pattern": {
              "fillmode": "overlay",
              "size": 10,
              "solidity": 0.2
             }
            },
            "type": "histogram"
           }
          ],
          "histogram2d": [
           {
            "colorbar": {
             "outlinewidth": 0,
             "ticks": ""
            },
            "colorscale": [
             [
              0,
              "#0d0887"
             ],
             [
              0.1111111111111111,
              "#46039f"
             ],
             [
              0.2222222222222222,
              "#7201a8"
             ],
             [
              0.3333333333333333,
              "#9c179e"
             ],
             [
              0.4444444444444444,
              "#bd3786"
             ],
             [
              0.5555555555555556,
              "#d8576b"
             ],
             [
              0.6666666666666666,
              "#ed7953"
             ],
             [
              0.7777777777777778,
              "#fb9f3a"
             ],
             [
              0.8888888888888888,
              "#fdca26"
             ],
             [
              1,
              "#f0f921"
             ]
            ],
            "type": "histogram2d"
           }
          ],
          "histogram2dcontour": [
           {
            "colorbar": {
             "outlinewidth": 0,
             "ticks": ""
            },
            "colorscale": [
             [
              0,
              "#0d0887"
             ],
             [
              0.1111111111111111,
              "#46039f"
             ],
             [
              0.2222222222222222,
              "#7201a8"
             ],
             [
              0.3333333333333333,
              "#9c179e"
             ],
             [
              0.4444444444444444,
              "#bd3786"
             ],
             [
              0.5555555555555556,
              "#d8576b"
             ],
             [
              0.6666666666666666,
              "#ed7953"
             ],
             [
              0.7777777777777778,
              "#fb9f3a"
             ],
             [
              0.8888888888888888,
              "#fdca26"
             ],
             [
              1,
              "#f0f921"
             ]
            ],
            "type": "histogram2dcontour"
           }
          ],
          "mesh3d": [
           {
            "colorbar": {
             "outlinewidth": 0,
             "ticks": ""
            },
            "type": "mesh3d"
           }
          ],
          "parcoords": [
           {
            "line": {
             "colorbar": {
              "outlinewidth": 0,
              "ticks": ""
             }
            },
            "type": "parcoords"
           }
          ],
          "pie": [
           {
            "automargin": true,
            "type": "pie"
           }
          ],
          "scatter": [
           {
            "fillpattern": {
             "fillmode": "overlay",
             "size": 10,
             "solidity": 0.2
            },
            "type": "scatter"
           }
          ],
          "scatter3d": [
           {
            "line": {
             "colorbar": {
              "outlinewidth": 0,
              "ticks": ""
             }
            },
            "marker": {
             "colorbar": {
              "outlinewidth": 0,
              "ticks": ""
             }
            },
            "type": "scatter3d"
           }
          ],
          "scattercarpet": [
           {
            "marker": {
             "colorbar": {
              "outlinewidth": 0,
              "ticks": ""
             }
            },
            "type": "scattercarpet"
           }
          ],
          "scattergeo": [
           {
            "marker": {
             "colorbar": {
              "outlinewidth": 0,
              "ticks": ""
             }
            },
            "type": "scattergeo"
           }
          ],
          "scattergl": [
           {
            "marker": {
             "colorbar": {
              "outlinewidth": 0,
              "ticks": ""
             }
            },
            "type": "scattergl"
           }
          ],
          "scattermapbox": [
           {
            "marker": {
             "colorbar": {
              "outlinewidth": 0,
              "ticks": ""
             }
            },
            "type": "scattermapbox"
           }
          ],
          "scatterpolar": [
           {
            "marker": {
             "colorbar": {
              "outlinewidth": 0,
              "ticks": ""
             }
            },
            "type": "scatterpolar"
           }
          ],
          "scatterpolargl": [
           {
            "marker": {
             "colorbar": {
              "outlinewidth": 0,
              "ticks": ""
             }
            },
            "type": "scatterpolargl"
           }
          ],
          "scatterternary": [
           {
            "marker": {
             "colorbar": {
              "outlinewidth": 0,
              "ticks": ""
             }
            },
            "type": "scatterternary"
           }
          ],
          "surface": [
           {
            "colorbar": {
             "outlinewidth": 0,
             "ticks": ""
            },
            "colorscale": [
             [
              0,
              "#0d0887"
             ],
             [
              0.1111111111111111,
              "#46039f"
             ],
             [
              0.2222222222222222,
              "#7201a8"
             ],
             [
              0.3333333333333333,
              "#9c179e"
             ],
             [
              0.4444444444444444,
              "#bd3786"
             ],
             [
              0.5555555555555556,
              "#d8576b"
             ],
             [
              0.6666666666666666,
              "#ed7953"
             ],
             [
              0.7777777777777778,
              "#fb9f3a"
             ],
             [
              0.8888888888888888,
              "#fdca26"
             ],
             [
              1,
              "#f0f921"
             ]
            ],
            "type": "surface"
           }
          ],
          "table": [
           {
            "cells": {
             "fill": {
              "color": "#EBF0F8"
             },
             "line": {
              "color": "white"
             }
            },
            "header": {
             "fill": {
              "color": "#C8D4E3"
             },
             "line": {
              "color": "white"
             }
            },
            "type": "table"
           }
          ]
         },
         "layout": {
          "annotationdefaults": {
           "arrowcolor": "#2a3f5f",
           "arrowhead": 0,
           "arrowwidth": 1
          },
          "autotypenumbers": "strict",
          "coloraxis": {
           "colorbar": {
            "outlinewidth": 0,
            "ticks": ""
           }
          },
          "colorscale": {
           "diverging": [
            [
             0,
             "#8e0152"
            ],
            [
             0.1,
             "#c51b7d"
            ],
            [
             0.2,
             "#de77ae"
            ],
            [
             0.3,
             "#f1b6da"
            ],
            [
             0.4,
             "#fde0ef"
            ],
            [
             0.5,
             "#f7f7f7"
            ],
            [
             0.6,
             "#e6f5d0"
            ],
            [
             0.7,
             "#b8e186"
            ],
            [
             0.8,
             "#7fbc41"
            ],
            [
             0.9,
             "#4d9221"
            ],
            [
             1,
             "#276419"
            ]
           ],
           "sequential": [
            [
             0,
             "#0d0887"
            ],
            [
             0.1111111111111111,
             "#46039f"
            ],
            [
             0.2222222222222222,
             "#7201a8"
            ],
            [
             0.3333333333333333,
             "#9c179e"
            ],
            [
             0.4444444444444444,
             "#bd3786"
            ],
            [
             0.5555555555555556,
             "#d8576b"
            ],
            [
             0.6666666666666666,
             "#ed7953"
            ],
            [
             0.7777777777777778,
             "#fb9f3a"
            ],
            [
             0.8888888888888888,
             "#fdca26"
            ],
            [
             1,
             "#f0f921"
            ]
           ],
           "sequentialminus": [
            [
             0,
             "#0d0887"
            ],
            [
             0.1111111111111111,
             "#46039f"
            ],
            [
             0.2222222222222222,
             "#7201a8"
            ],
            [
             0.3333333333333333,
             "#9c179e"
            ],
            [
             0.4444444444444444,
             "#bd3786"
            ],
            [
             0.5555555555555556,
             "#d8576b"
            ],
            [
             0.6666666666666666,
             "#ed7953"
            ],
            [
             0.7777777777777778,
             "#fb9f3a"
            ],
            [
             0.8888888888888888,
             "#fdca26"
            ],
            [
             1,
             "#f0f921"
            ]
           ]
          },
          "colorway": [
           "#636efa",
           "#EF553B",
           "#00cc96",
           "#ab63fa",
           "#FFA15A",
           "#19d3f3",
           "#FF6692",
           "#B6E880",
           "#FF97FF",
           "#FECB52"
          ],
          "font": {
           "color": "#2a3f5f"
          },
          "geo": {
           "bgcolor": "white",
           "lakecolor": "white",
           "landcolor": "#E5ECF6",
           "showlakes": true,
           "showland": true,
           "subunitcolor": "white"
          },
          "hoverlabel": {
           "align": "left"
          },
          "hovermode": "closest",
          "mapbox": {
           "style": "light"
          },
          "paper_bgcolor": "white",
          "plot_bgcolor": "#E5ECF6",
          "polar": {
           "angularaxis": {
            "gridcolor": "white",
            "linecolor": "white",
            "ticks": ""
           },
           "bgcolor": "#E5ECF6",
           "radialaxis": {
            "gridcolor": "white",
            "linecolor": "white",
            "ticks": ""
           }
          },
          "scene": {
           "xaxis": {
            "backgroundcolor": "#E5ECF6",
            "gridcolor": "white",
            "gridwidth": 2,
            "linecolor": "white",
            "showbackground": true,
            "ticks": "",
            "zerolinecolor": "white"
           },
           "yaxis": {
            "backgroundcolor": "#E5ECF6",
            "gridcolor": "white",
            "gridwidth": 2,
            "linecolor": "white",
            "showbackground": true,
            "ticks": "",
            "zerolinecolor": "white"
           },
           "zaxis": {
            "backgroundcolor": "#E5ECF6",
            "gridcolor": "white",
            "gridwidth": 2,
            "linecolor": "white",
            "showbackground": true,
            "ticks": "",
            "zerolinecolor": "white"
           }
          },
          "shapedefaults": {
           "line": {
            "color": "#2a3f5f"
           }
          },
          "ternary": {
           "aaxis": {
            "gridcolor": "white",
            "linecolor": "white",
            "ticks": ""
           },
           "baxis": {
            "gridcolor": "white",
            "linecolor": "white",
            "ticks": ""
           },
           "bgcolor": "#E5ECF6",
           "caxis": {
            "gridcolor": "white",
            "linecolor": "white",
            "ticks": ""
           }
          },
          "title": {
           "x": 0.05
          },
          "xaxis": {
           "automargin": true,
           "gridcolor": "white",
           "linecolor": "white",
           "ticks": "",
           "title": {
            "standoff": 15
           },
           "zerolinecolor": "white",
           "zerolinewidth": 2
          },
          "yaxis": {
           "automargin": true,
           "gridcolor": "white",
           "linecolor": "white",
           "ticks": "",
           "title": {
            "standoff": 15
           },
           "zerolinecolor": "white",
           "zerolinewidth": 2
          }
         }
        },
        "title": {
         "text": "2D FAISS Vector Store Visualization"
        },
        "width": 800
       }
      }
     },
     "metadata": {},
     "output_type": "display_data"
    }
   ],
   "source": [
    "# We humans find it easier to visalize things in 2D!\n",
    "# Reduce the dimensionality of the vectors to 2D using t-SNE\n",
    "# (t-distributed stochastic neighbor embedding)\n",
    "\n",
    "tsne = TSNE(n_components=2, random_state=42)\n",
    "reduced_vectors = tsne.fit_transform(vectors)\n",
    "\n",
    "# Create the 2D scatter plot\n",
    "fig = go.Figure(data=[go.Scatter(\n",
    "    x=reduced_vectors[:, 0],\n",
    "    y=reduced_vectors[:, 1],\n",
    "    mode='markers',\n",
    "    marker=dict(size=5, color=colors, opacity=0.8),\n",
    "    text=[f\"Type: {t}<br>Text: {d[:100]}...\" for t, d in zip(doc_types, documents)],\n",
    "    hoverinfo='text'\n",
    ")])\n",
    "\n",
    "fig.update_layout(\n",
    "    title='2D FAISS Vector Store Visualization',\n",
    "    scene=dict(xaxis_title='x',yaxis_title='y'),\n",
    "    width=800,\n",
    "    height=600,\n",
    "    margin=dict(r=20, b=10, l=10, t=40)\n",
    ")\n",
    "\n",
    "fig.show()"
   ]
  },
  {
   "cell_type": "code",
   "execution_count": 12,
   "id": "e1418e88-acd5-460a-bf2b-4e6efc88e3dd",
   "metadata": {},
   "outputs": [
    {
     "data": {
      "application/vnd.plotly.v1+json": {
       "config": {
        "plotlyServerURL": "https://plot.ly"
       },
       "data": [
        {
         "hoverinfo": "text",
         "marker": {
          "color": [
           "orange",
           "orange",
           "orange",
           "red",
           "red",
           "red",
           "red",
           "red",
           "red",
           "red",
           "red",
           "red",
           "red",
           "red",
           "red",
           "red",
           "red",
           "red",
           "red",
           "red",
           "red",
           "red",
           "red",
           "red",
           "red",
           "red",
           "red",
           "red",
           "red",
           "red",
           "red",
           "red",
           "red",
           "red",
           "red",
           "red",
           "red",
           "red",
           "red",
           "red",
           "red",
           "red",
           "red",
           "red",
           "red",
           "red",
           "red",
           "red",
           "red",
           "red",
           "red",
           "red",
           "red",
           "red",
           "red",
           "green",
           "green",
           "green",
           "green",
           "green",
           "green",
           "green",
           "green",
           "green",
           "green",
           "green",
           "green",
           "green",
           "green",
           "green",
           "green",
           "green",
           "green",
           "green",
           "green",
           "green",
           "green",
           "green",
           "green",
           "green",
           "green",
           "green",
           "green",
           "green",
           "green",
           "green",
           "green",
           "green",
           "green",
           "green",
           "green",
           "green",
           "green",
           "green",
           "green",
           "green",
           "green",
           "green",
           "green",
           "green",
           "green",
           "green",
           "blue",
           "blue",
           "blue",
           "blue",
           "blue",
           "blue",
           "blue",
           "blue",
           "blue",
           "blue",
           "blue",
           "blue",
           "blue",
           "blue",
           "blue",
           "blue",
           "blue",
           "blue",
           "blue",
           "blue",
           "blue"
          ],
          "opacity": 0.8,
          "size": 5
         },
         "mode": "markers",
         "text": [
          "Type: company<br>Text: # About Insurellm\n\nInsurellm was founded by Avery Lancaster in 2015 as an insurance tech startup des...",
          "Type: company<br>Text: # Careers at Insurellm\n\nInsurellm is hiring! We are looking for talented software engineers, data sc...",
          "Type: company<br>Text: # Overview of Insurellm\n\nInsurellm is an innovative insurance tech firm with 200 employees across th...",
          "Type: contracts<br>Text: # Contract with Apex Reinsurance for Rellm: AI-Powered Enterprise Reinsurance Solution\n\n## Terms\n\n1....",
          "Type: contracts<br>Text: ## Renewal\n\n1. **Automatic Renewal**: This Agreement will automatically renew for successive one-yea...",
          "Type: contracts<br>Text: 2. **Seamless Integrations**: The architecture of Rellm allows for easy integration with existing sy...",
          "Type: contracts<br>Text: 1. **Technical Support**: Provider shall offer dedicated technical support to the Client via phone, ...",
          "Type: contracts<br>Text: **Insurellm, Inc.**  \n_____________________________  \nAuthorized Signature   \nDate: ________________...",
          "Type: contracts<br>Text: # Contract with Belvedere Insurance for Markellm\n\n## Terms\nThis Contract (\"Agreement\") is made and e...",
          "Type: contracts<br>Text: ## Renewal\n1. **Renewal Terms**: This Agreement may be renewed for additional one-year terms upon mu...",
          "Type: contracts<br>Text: ## Features\n1. **AI-Powered Matching**: Belvedere Insurance will benefit from Markellm's AI-powered ...",
          "Type: contracts<br>Text: ## Support\n1. **Technical Support**: Technical support will be available from 9 AM to 7 PM EST, Mond...",
          "Type: contracts<br>Text: **Belvedere Insurance**  \nSignature: ______________________  \nName: [Authorized Signatory]  \nTitle: ...",
          "Type: contracts<br>Text: # Contract with BrightWay Solutions for Markellm\n\n**Contract Date:** October 5, 2023  \n**Contract ID...",
          "Type: contracts<br>Text: 3. **Service Level Agreement (SLA):**  \n   Insurellm commits to a 99.9% uptime for the platform with...",
          "Type: contracts<br>Text: 2. **Real-Time Quote Availability:**  \n   Consumers sourced via BrightWay Solutions will receive rea...",
          "Type: contracts<br>Text: 3. **Training and Onboarding:**  \n   Insurellm agrees to provide one free training session on how to...",
          "Type: contracts<br>Text: # Contract with EverGuard Insurance for Rellm: AI-Powered Enterprise Reinsurance Solution\n\n**Contrac...",
          "Type: contracts<br>Text: 4. **Usage Rights**: EverGuard Insurance is granted a non-exclusive, non-transferable license to acc...",
          "Type: contracts<br>Text: 1. **Core Functionality**: Rellm provides EverGuard Insurance with advanced AI-driven analytics, sea...",
          "Type: contracts<br>Text: 1. **Customer Support**: Insurellm will provide EverGuard Insurance with 24/7 customer support, incl...",
          "Type: contracts<br>Text: ---\n\n**Signatures**  \n**For Insurellm**: __________________________  \n**Name**: John Smith  \n**Title...",
          "Type: contracts<br>Text: # Contract with GreenField Holdings for Markellm\n\n**Effective Date:** November 15, 2023  \n**Contract...",
          "Type: contracts<br>Text: ## Renewal\n1. **Automatic Renewal**: This contract will automatically renew for sequential one-year ...",
          "Type: contracts<br>Text: ## Features\n1. **AI-Powered Matching**: Access to advanced algorithms that connect GreenField Holdin...",
          "Type: contracts<br>Text: ## Support\n1. **Customer Support Access**: The Client will have access to dedicated support through ...",
          "Type: contracts<br>Text: **Signatures:**  \n_________________________                           _________________________  \n**...",
          "Type: contracts<br>Text: # Contract with Greenstone Insurance for Homellm\n\n---\n\n## Terms\n\n1. **Parties**: This Contract (\"Agr...",
          "Type: contracts<br>Text: 4. **Payment Terms**: \n   - The Customer shall pay an amount of $10,000 per month for the Standard T...",
          "Type: contracts<br>Text: ---\n\n## Features\n\n- **AI-Powered Risk Assessment**: Customer will have access to enhanced risk evalu...",
          "Type: contracts<br>Text: - **Customer Portal**: A dedicated portal will be provided, allowing the Customer's clients to manag...",
          "Type: contracts<br>Text: ______________________________  \n[Name], [Title]  \nDate: ______________________\n\n**For Greenstone In...",
          "Type: contracts<br>Text: # Contract with GreenValley Insurance for Homellm\n\n**Contract Date:** October 6, 2023  \n**Contract N...",
          "Type: contracts<br>Text: 4. **Confidentiality:** Both parties agree to maintain the confidentiality of proprietary informatio...",
          "Type: contracts<br>Text: 1. **AI-Powered Risk Assessment:** Access to advanced AI algorithms for real-time risk evaluations.\n...",
          "Type: contracts<br>Text: 3. **Regular Updates:** Insurellm will offer ongoing updates and enhancements to the Homellm platfor...",
          "Type: contracts<br>Text: # Contract with Pinnacle Insurance Co. for Homellm\n\n## Terms\nThis contract (\"Contract\") is entered i...",
          "Type: contracts<br>Text: ## Renewal\n1. **Renewal Terms**: At the end of the initial term, this Contract shall automatically r...",
          "Type: contracts<br>Text: ## Features\n1. **AI-Powered Risk Assessment**: Utilized for tailored underwriting decisions specific...",
          "Type: contracts<br>Text: ## Support\n1. **Technical Support**: Insurellm shall provide 24/7 technical support via an email and...",
          "Type: contracts<br>Text: # Contract with Roadway Insurance Inc. for Carllm\n\n---\n\n## Terms\n\n1. **Agreement Effective Date**: T...",
          "Type: contracts<br>Text: ---\n\n## Renewal\n\n1. **Automatic Renewal**: This agreement will automatically renew for an additional...",
          "Type: contracts<br>Text: ---\n\n## Features\n\n1. **Access to Core Features**: Roadway Insurance Inc. will have access to all Pro...",
          "Type: contracts<br>Text: ---\n\n## Support\n\n1. **Technical Support**: Roadway Insurance Inc. will receive priority technical su...",
          "Type: contracts<br>Text: # Contract with Stellar Insurance Co. for Rellm\n\n## Terms\nThis contract is made between **Insurellm*...",
          "Type: contracts<br>Text: ### Termination\nEither party may terminate this agreement with a **30-day written notice**. In the e...",
          "Type: contracts<br>Text: ## Features\nStellar Insurance Co. will receive access to the following features of the Rellm product...",
          "Type: contracts<br>Text: ## Support\nInsurellm provides Stellar Insurance Co. with the following support services:\n\n- **24/7 T...",
          "Type: contracts<br>Text: # Contract with TechDrive Insurance for Carllm\n\n**Contract Date:** October 1, 2024  \n**Contract Dura...",
          "Type: contracts<br>Text: ## Renewal\n\n1. **Automatic Renewal**: This contract shall automatically renew for additional one-yea...",
          "Type: contracts<br>Text: ## Support\n\n1. **Customer Support**: Insurellm will provide 24/7 customer support to TechDrive Insur...",
          "Type: contracts<br>Text: **TechDrive Insurance Representative:**  \nName: Sarah Johnson  \nTitle: Operations Director  \nDate: _...",
          "Type: contracts<br>Text: # Contract with Velocity Auto Solutions for Carllm\n\n**Contract Date:** October 1, 2023  \n**Contract ...",
          "Type: contracts<br>Text: ## Renewal\n\n1. **Automatic Renewal**: This contract will automatically renew for successive 12-month...",
          "Type: contracts<br>Text: ## Support\n\n1. **Customer Support**: Velocity Auto Solutions will have access to Insurellm’s custome...",
          "Type: employees<br>Text: # HR Record\n\n# Alex Chen\n\n## Summary\n- **Date of Birth:** March 15, 1990  \n- **Job Title:** Backend ...",
          "Type: employees<br>Text: ## Annual Performance History\n- **2020:**  \n  - Completed onboarding successfully.  \n  - Met expecta...",
          "Type: employees<br>Text: ## Compensation History\n- **2020:** Base Salary: $80,000  \n- **2021:** Base Salary Increase to $90,0...",
          "Type: employees<br>Text: Alex Chen continues to be a vital asset at Insurellm, contributing significantly to innovative backe...",
          "Type: employees<br>Text: # HR Record\n\n# Alex Harper\n\n## Summary\n- **Date of Birth**: March 15, 1993  \n- **Job Title**: Sales ...",
          "Type: employees<br>Text: ## Annual Performance History  \n- **2021**:  \n  - **Performance Rating**: 4.5/5  \n  - **Key Achievem...",
          "Type: employees<br>Text: - **2022**:  \n  - **Base Salary**: $65,000 (Promotion to Senior SDR)  \n  - **Bonus**: $13,000 (20% o...",
          "Type: employees<br>Text: # HR Record\n\n# Alex Thomson\n\n## Summary\n- **Date of Birth:** March 15, 1995  \n- **Job Title:** Sales...",
          "Type: employees<br>Text: ## Annual Performance History  \n- **2022** - Rated as \"Exceeds Expectations.\" Alex Thomson achieved ...",
          "Type: employees<br>Text: ## Other HR Notes\n- Alex Thomson is an active member of the Diversity and Inclusion committee at Ins...",
          "Type: employees<br>Text: # Avery Lancaster\n\n## Summary\n- **Date of Birth**: March 15, 1985  \n- **Job Title**: Co-Founder & Ch...",
          "Type: employees<br>Text: - **2010 - 2013**: Business Analyst at Edge Analytics  \n  Prior to joining Innovate, Avery worked as...",
          "Type: employees<br>Text: - **2018**: **Exceeds Expectations**  \n  Under Avery’s pivoted vision, Insurellm launched two new su...",
          "Type: employees<br>Text: - **2022**: **Satisfactory**  \n  Avery focused on rebuilding team dynamics and addressing employee c...",
          "Type: employees<br>Text: ## Compensation History\n- **2015**: $150,000 base salary + Significant equity stake  \n- **2016**: $1...",
          "Type: employees<br>Text: ## Other HR Notes\n- **Professional Development**: Avery has actively participated in leadership trai...",
          "Type: employees<br>Text: # HR Record\n\n# Emily Carter\n\n## Summary\n- **Date of Birth:** August 12, 1990  \n- **Job Title:** Acco...",
          "Type: employees<br>Text: - **2017-2019:** Marketing Intern  \n  - Assisted with market research and campaign development for s...",
          "Type: employees<br>Text: ## Compensation History\n| Year | Base Salary | Bonus         | Total Compensation |\n|------|--------...",
          "Type: employees<br>Text: Emily Carter exemplifies the kind of talent that drives Insurellm's success and is an invaluable ass...",
          "Type: employees<br>Text: # HR Record\n\n# Emily Tran\n\n## Summary\n- **Date of Birth:** March 18, 1991  \n- **Job Title:** Digital...",
          "Type: employees<br>Text: - **January 2017 - May 2018**: Marketing Intern  \n  - Supported the Marketing team by collaborating ...",
          "Type: employees<br>Text: - **2021**:  \n  - Performance Rating: Meets Expectations  \n  - Key Achievements: Contributed to the ...",
          "Type: employees<br>Text: - **Professional Development Goals**:  \n  - Emily Tran aims to become a Marketing Manager within the...",
          "Type: employees<br>Text: # HR Record\n\n# Jordan Blake\n\n## Summary\n- **Date of Birth:** March 15, 1993  \n- **Job Title:** Sales...",
          "Type: employees<br>Text: ## Annual Performance History\n- **2021:** First year at Insurellm; achieved 90% of monthly targets. ...",
          "Type: employees<br>Text: ## Other HR Notes\n- Jordan has shown an interest in continuing education, actively participating in ...",
          "Type: employees<br>Text: # HR Record\n\n# Jordan K. Bishop\n\n## Summary\n- **Date of Birth:** March 15, 1990\n- **Job Title:** Fro...",
          "Type: employees<br>Text: ## Annual Performance History\n- **2019:** Exceeds Expectations - Continuously delivered high-quality...",
          "Type: employees<br>Text: ## Compensation History\n- **June 2018:** Starting Salary - $85,000\n- **June 2019:** Salary Increase ...",
          "Type: employees<br>Text: ## Other HR Notes\n- Jordan K. Bishop has been an integral part of club initiatives, including the In...",
          "Type: employees<br>Text: # HR Record\n\n# Maxine Thompson\n\n## Summary\n- **Date of Birth:** January 15, 1991  \n- **Job Title:** ...",
          "Type: employees<br>Text: ## Insurellm Career Progression\n- **January 2017 - October 2018**: **Junior Data Engineer**  \n  * Ma...",
          "Type: employees<br>Text: ## Annual Performance History\n- **2017**: *Meets Expectations*  \n  Maxine showed potential in her ro...",
          "Type: employees<br>Text: - **2021**: *Exceeds Expectations*  \n  Maxine spearheaded the transition to a new data warehousing s...",
          "Type: employees<br>Text: ## Compensation History\n- **2017**: $70,000 (Junior Data Engineer)  \n- **2018**: $75,000 (Junior Dat...",
          "Type: employees<br>Text: # HR Record\n\n# Oliver Spencer\n\n## Summary\n- **Date of Birth**: May 14, 1990  \n- **Job Title**: Backe...",
          "Type: employees<br>Text: ## Annual Performance History\n- **2018**: **3/5** - Adaptable team player but still learning to take...",
          "Type: employees<br>Text: ## Compensation History\n- **March 2018**: Initial salary of $80,000.\n- **July 2019**: Salary increas...",
          "Type: employees<br>Text: # Samantha Greene\n\n## Summary\n- **Date of Birth:** October 14, 1990\n- **Job Title:** HR Generalist\n-...",
          "Type: employees<br>Text: ## Annual Performance History\n- **2020:** Exceeds Expectations  \n  Samantha Greene demonstrated exce...",
          "Type: employees<br>Text: ## Compensation History\n- **2020:** Base Salary - $55,000  \n  The entry-level salary matched industr...",
          "Type: employees<br>Text: - **2023:** Base Salary - $70,000  \n  Recognized for substantial improvement in employee relations m...",
          "Type: employees<br>Text: # HR Record\n\n# Samuel Trenton\n\n## Summary\n- **Date of Birth:** April 12, 1989  \n- **Job Title:** Sen...",
          "Type: employees<br>Text: ## Annual Performance History\n- **2023:** Rating: 4.5/5  \n  *Samuel exceeded expectations, successfu...",
          "Type: employees<br>Text: ## Compensation History\n- **2023:** Base Salary: $115,000 + Bonus: $15,000  \n  *Annual bonus based o...",
          "Type: employees<br>Text: - **Engagement in Company Culture:** Regularly participates in team-building events and contributes ...",
          "Type: products<br>Text: # Product Summary\n\n# Carllm\n\n## Summary\n\nCarllm is an innovative auto insurance product developed by...",
          "Type: products<br>Text: - **Instant Quoting**: With Carllm, insurance companies can offer near-instant quotes to customers, ...",
          "Type: products<br>Text: - **Mobile Integration**: Carllm is designed to work seamlessly with mobile applications, providing ...",
          "Type: products<br>Text: - **Professional Tier**: $2,500/month\n  - For medium-sized companies.\n  - All Basic Tier features pl...",
          "Type: products<br>Text: ### Q2 2025: Customer Experience Improvements\n- Launch of a new **mobile app** for end-users.\n- Intr...",
          "Type: products<br>Text: # Product Summary\n\n# Homellm\n\n## Summary\nHomellm is an innovative home insurance product developed b...",
          "Type: products<br>Text: ### 2. Dynamic Pricing Model\nWith Homellm's innovative dynamic pricing model, insurance providers ca...",
          "Type: products<br>Text: ### 5. Multi-Channel Integration\nHomellm seamlessly integrates into existing insurance platforms, pr...",
          "Type: products<br>Text: - **Basic Tier:** Starting at $5,000/month for small insurers with basic integration features.\n- **S...",
          "Type: products<br>Text: All tiers include a comprehensive training program and ongoing updates to ensure optimal performance...",
          "Type: products<br>Text: With Homellm, Insurellm is committed to transforming the landscape of home insurance, ensuring both ...",
          "Type: products<br>Text: # Product Summary\n\n# Markellm\n\n## Summary\n\nMarkellm is an innovative two-sided marketplace designed ...",
          "Type: products<br>Text: - **User-Friendly Interface**: Designed with user experience in mind, Markellm features an intuitive...",
          "Type: products<br>Text: - **Customer Support**: Our dedicated support team is always available to assist both consumers and ...",
          "Type: products<br>Text: ### For Insurance Companies:\n- **Basic Listing Fee**: $199/month for a featured listing on the platf...",
          "Type: products<br>Text: ### Q3 2025\n- Initiate a comprehensive marketing campaign targeting both consumers and insurers to i...",
          "Type: products<br>Text: # Product Summary\n\n# Rellm: AI-Powered Enterprise Reinsurance Solution\n\n## Summary\n\nRellm is an inno...",
          "Type: products<br>Text: ### Seamless Integrations\nRellm's architecture is designed for effortless integration with existing ...",
          "Type: products<br>Text: ### Regulatory Compliance Tools\nRellm includes built-in compliance tracking features to help organiz...",
          "Type: products<br>Text: Join the growing number of organizations leveraging Rellm to enhance their reinsurance processes whi...",
          "Type: products<br>Text: Experience the future of reinsurance with Rellm, where innovation meets reliability. Let Insurellm h..."
         ],
         "type": "scatter3d",
         "x": [
          -5.0108523,
          -11.84447,
          51.184135,
          -92.11137,
          -77.30563,
          20.062807,
          -43.42966,
          -40.448555,
          -74.334435,
          -72.08807,
          -51.75843,
          42.36199,
          -50.46964,
          3.8711145,
          -86.261444,
          -71.68821,
          -43.10705,
          -92.42114,
          -54.28984,
          15.063577,
          -16.863773,
          -10.0057535,
          -74.787025,
          -59.74251,
          -52.421738,
          -55.526485,
          20.895954,
          -82.05573,
          -62.345116,
          -11.88941,
          16.310911,
          -20.973114,
          -6.1158786,
          20.377865,
          -30.223085,
          21.861668,
          35.998608,
          -83.81243,
          -3.3369012,
          -50.87374,
          -20.204338,
          -85.81671,
          -43.978,
          -43.128613,
          -25.080275,
          -52.023327,
          -28.166382,
          -23.570024,
          -50.16133,
          -69.472946,
          -16.094746,
          12.145584,
          -25.298456,
          78.10901,
          -0.47693053,
          53.826828,
          -118.13181,
          -53.340763,
          18.35018,
          97.416046,
          61.995182,
          85.64096,
          86.797424,
          74.4668,
          57.860447,
          0.0983736,
          25.849768,
          36.157692,
          14.344306,
          65.27248,
          20.503572,
          52.22175,
          99.22675,
          46.01199,
          17.627651,
          65.389496,
          -32.695892,
          72.24921,
          40.607754,
          70.61435,
          35.885727,
          39.306366,
          -55.817074,
          56.98905,
          32.402973,
          -3.2242181,
          -0.4384521,
          31.238665,
          61.1059,
          41.707764,
          34.37282,
          50.857773,
          80.83368,
          18.714342,
          103.09203,
          84.15386,
          103.89897,
          83.885,
          77.08935,
          42.074883,
          52.38307,
          95.91401,
          37.696606,
          -84.68796,
          -72.36781,
          -49.58403,
          -52.503952,
          22.529161,
          -4.7795873,
          1.8442353,
          -27.068218,
          1.3196607,
          34.05879,
          -18.842308,
          -29.376844,
          56.31488,
          75.43012,
          -34.222137,
          -27.602781,
          0.03645219,
          -12.02497,
          -39.277042,
          -4.888116
         ],
         "y": [
          33.607227,
          5.4899306,
          18.56626,
          -5.059721,
          -30.94057,
          72.90036,
          -58.649696,
          -56.855064,
          65.29068,
          -87.047,
          31.608892,
          30.977953,
          -32.270832,
          97.61253,
          15.639938,
          42.226555,
          -11.44894,
          23.627066,
          -35.73706,
          -24.546417,
          -37.247753,
          -58.960102,
          75.20957,
          -87.32337,
          2.4377134,
          101.49141,
          29.215397,
          -55.349483,
          -72.286095,
          -15.103841,
          10.814465,
          -44.04009,
          39.43085,
          69.77697,
          -14.554801,
          35.997456,
          -61.95514,
          -78.65834,
          -41.22278,
          -34.899044,
          -92.79961,
          -49.824406,
          -2.0236673,
          -10.990135,
          -63.104008,
          -51.890263,
          -26.09554,
          -38.60131,
          7.7786393,
          -15.553161,
          11.519459,
          -53.480064,
          10.326296,
          11.923378,
          -4.069894,
          -8.721643,
          -0.6718861,
          134.7428,
          0.4362996,
          -32.30467,
          -16.55069,
          -27.18881,
          -37.33338,
          8.482446,
          41.686928,
          34.334442,
          55.39706,
          76.18857,
          72.10664,
          -57.49056,
          25.742733,
          -42.81348,
          48.819107,
          -44.90208,
          -27.90377,
          -66.982086,
          69.510124,
          -52.653942,
          -79.31905,
          -24.518806,
          -13.244484,
          -13.861795,
          86.971954,
          67.06339,
          -40.140587,
          -5.6883616,
          10.619567,
          20.321558,
          43.42599,
          45.225628,
          -8.855191,
          17.097416,
          67.39213,
          -36.249496,
          0.9706591,
          26.345377,
          -3.5093799,
          -8.7951145,
          6.691217,
          -63.231953,
          -37.7484,
          39.321507,
          -56.034855,
          26.560774,
          9.413516,
          19.751331,
          36.72189,
          -24.866064,
          -31.498825,
          -0.84244305,
          -63.45705,
          -68.28637,
          2.7890785,
          79.22204,
          85.735634,
          -14.316783,
          60.324215,
          55.288757,
          49.281727,
          54.34673,
          84.34596,
          53.961254,
          56.282883
         ],
         "z": [
          15.630574,
          26.919563,
          110.42178,
          -59.66482,
          -43.77051,
          -51.412457,
          14.235508,
          64.98751,
          44.793755,
          -8.146633,
          -66.28674,
          -50.04602,
          83.079506,
          -2.4279027,
          -25.990133,
          -32.832226,
          58.06665,
          -63.36928,
          -58.1023,
          -118.49988,
          21.307232,
          39.28096,
          14.502825,
          -34.80257,
          -94.05547,
          6.248036,
          -18.850388,
          30.854246,
          -70.60109,
          -64.66069,
          -55.86886,
          89.34418,
          -99.799446,
          96.78507,
          -86.870995,
          -82.4867,
          -47.67942,
          -29.498264,
          -55.002083,
          32.3223,
          1.9822682,
          -11.9487095,
          -51.80586,
          9.145219,
          -24.619955,
          -25.484453,
          -32.12408,
          -7.275511,
          -16.840174,
          -11.403877,
          -35.946392,
          -14.793323,
          -5.7205176,
          -53.78422,
          -19.817585,
          9.240936,
          4.968192,
          228.30618,
          12.626396,
          -13.827507,
          56.213223,
          71.98405,
          9.245635,
          72.66381,
          -14.611869,
          49.78541,
          32.46812,
          47.14562,
          55.676727,
          91.54316,
          39.209454,
          0.8526701,
          60.436924,
          35.40177,
          10.75818,
          1.4738481,
          -79.13304,
          45.948467,
          7.916438,
          -18.350586,
          45.374237,
          -23.124165,
          -37.102364,
          16.836489,
          97.23713,
          59.65507,
          99.898315,
          76.68149,
          45.751965,
          65.18612,
          84.376785,
          9.195596,
          34.4513,
          63.449173,
          12.643819,
          32.90624,
          47.44892,
          30.532557,
          -8.818245,
          64.678535,
          73.43959,
          -2.2219152,
          -94.26213,
          12.41957,
          33.485577,
          38.511726,
          12.890916,
          -80.17458,
          -86.853195,
          -90.302605,
          -83.98818,
          -82.16735,
          -93.267166,
          21.773247,
          44.637146,
          -63.421993,
          -46.82709,
          27.809935,
          -38.15219,
          -53.04895,
          -40.4818,
          -6.667076,
          -14.10393
         ]
        }
       ],
       "layout": {
        "height": 700,
        "margin": {
         "b": 10,
         "l": 10,
         "r": 20,
         "t": 40
        },
        "scene": {
         "xaxis": {
          "title": {
           "text": "x"
          }
         },
         "yaxis": {
          "title": {
           "text": "y"
          }
         },
         "zaxis": {
          "title": {
           "text": "z"
          }
         }
        },
        "template": {
         "data": {
          "bar": [
           {
            "error_x": {
             "color": "#2a3f5f"
            },
            "error_y": {
             "color": "#2a3f5f"
            },
            "marker": {
             "line": {
              "color": "#E5ECF6",
              "width": 0.5
             },
             "pattern": {
              "fillmode": "overlay",
              "size": 10,
              "solidity": 0.2
             }
            },
            "type": "bar"
           }
          ],
          "barpolar": [
           {
            "marker": {
             "line": {
              "color": "#E5ECF6",
              "width": 0.5
             },
             "pattern": {
              "fillmode": "overlay",
              "size": 10,
              "solidity": 0.2
             }
            },
            "type": "barpolar"
           }
          ],
          "carpet": [
           {
            "aaxis": {
             "endlinecolor": "#2a3f5f",
             "gridcolor": "white",
             "linecolor": "white",
             "minorgridcolor": "white",
             "startlinecolor": "#2a3f5f"
            },
            "baxis": {
             "endlinecolor": "#2a3f5f",
             "gridcolor": "white",
             "linecolor": "white",
             "minorgridcolor": "white",
             "startlinecolor": "#2a3f5f"
            },
            "type": "carpet"
           }
          ],
          "choropleth": [
           {
            "colorbar": {
             "outlinewidth": 0,
             "ticks": ""
            },
            "type": "choropleth"
           }
          ],
          "contour": [
           {
            "colorbar": {
             "outlinewidth": 0,
             "ticks": ""
            },
            "colorscale": [
             [
              0,
              "#0d0887"
             ],
             [
              0.1111111111111111,
              "#46039f"
             ],
             [
              0.2222222222222222,
              "#7201a8"
             ],
             [
              0.3333333333333333,
              "#9c179e"
             ],
             [
              0.4444444444444444,
              "#bd3786"
             ],
             [
              0.5555555555555556,
              "#d8576b"
             ],
             [
              0.6666666666666666,
              "#ed7953"
             ],
             [
              0.7777777777777778,
              "#fb9f3a"
             ],
             [
              0.8888888888888888,
              "#fdca26"
             ],
             [
              1,
              "#f0f921"
             ]
            ],
            "type": "contour"
           }
          ],
          "contourcarpet": [
           {
            "colorbar": {
             "outlinewidth": 0,
             "ticks": ""
            },
            "type": "contourcarpet"
           }
          ],
          "heatmap": [
           {
            "colorbar": {
             "outlinewidth": 0,
             "ticks": ""
            },
            "colorscale": [
             [
              0,
              "#0d0887"
             ],
             [
              0.1111111111111111,
              "#46039f"
             ],
             [
              0.2222222222222222,
              "#7201a8"
             ],
             [
              0.3333333333333333,
              "#9c179e"
             ],
             [
              0.4444444444444444,
              "#bd3786"
             ],
             [
              0.5555555555555556,
              "#d8576b"
             ],
             [
              0.6666666666666666,
              "#ed7953"
             ],
             [
              0.7777777777777778,
              "#fb9f3a"
             ],
             [
              0.8888888888888888,
              "#fdca26"
             ],
             [
              1,
              "#f0f921"
             ]
            ],
            "type": "heatmap"
           }
          ],
          "heatmapgl": [
           {
            "colorbar": {
             "outlinewidth": 0,
             "ticks": ""
            },
            "colorscale": [
             [
              0,
              "#0d0887"
             ],
             [
              0.1111111111111111,
              "#46039f"
             ],
             [
              0.2222222222222222,
              "#7201a8"
             ],
             [
              0.3333333333333333,
              "#9c179e"
             ],
             [
              0.4444444444444444,
              "#bd3786"
             ],
             [
              0.5555555555555556,
              "#d8576b"
             ],
             [
              0.6666666666666666,
              "#ed7953"
             ],
             [
              0.7777777777777778,
              "#fb9f3a"
             ],
             [
              0.8888888888888888,
              "#fdca26"
             ],
             [
              1,
              "#f0f921"
             ]
            ],
            "type": "heatmapgl"
           }
          ],
          "histogram": [
           {
            "marker": {
             "pattern": {
              "fillmode": "overlay",
              "size": 10,
              "solidity": 0.2
             }
            },
            "type": "histogram"
           }
          ],
          "histogram2d": [
           {
            "colorbar": {
             "outlinewidth": 0,
             "ticks": ""
            },
            "colorscale": [
             [
              0,
              "#0d0887"
             ],
             [
              0.1111111111111111,
              "#46039f"
             ],
             [
              0.2222222222222222,
              "#7201a8"
             ],
             [
              0.3333333333333333,
              "#9c179e"
             ],
             [
              0.4444444444444444,
              "#bd3786"
             ],
             [
              0.5555555555555556,
              "#d8576b"
             ],
             [
              0.6666666666666666,
              "#ed7953"
             ],
             [
              0.7777777777777778,
              "#fb9f3a"
             ],
             [
              0.8888888888888888,
              "#fdca26"
             ],
             [
              1,
              "#f0f921"
             ]
            ],
            "type": "histogram2d"
           }
          ],
          "histogram2dcontour": [
           {
            "colorbar": {
             "outlinewidth": 0,
             "ticks": ""
            },
            "colorscale": [
             [
              0,
              "#0d0887"
             ],
             [
              0.1111111111111111,
              "#46039f"
             ],
             [
              0.2222222222222222,
              "#7201a8"
             ],
             [
              0.3333333333333333,
              "#9c179e"
             ],
             [
              0.4444444444444444,
              "#bd3786"
             ],
             [
              0.5555555555555556,
              "#d8576b"
             ],
             [
              0.6666666666666666,
              "#ed7953"
             ],
             [
              0.7777777777777778,
              "#fb9f3a"
             ],
             [
              0.8888888888888888,
              "#fdca26"
             ],
             [
              1,
              "#f0f921"
             ]
            ],
            "type": "histogram2dcontour"
           }
          ],
          "mesh3d": [
           {
            "colorbar": {
             "outlinewidth": 0,
             "ticks": ""
            },
            "type": "mesh3d"
           }
          ],
          "parcoords": [
           {
            "line": {
             "colorbar": {
              "outlinewidth": 0,
              "ticks": ""
             }
            },
            "type": "parcoords"
           }
          ],
          "pie": [
           {
            "automargin": true,
            "type": "pie"
           }
          ],
          "scatter": [
           {
            "fillpattern": {
             "fillmode": "overlay",
             "size": 10,
             "solidity": 0.2
            },
            "type": "scatter"
           }
          ],
          "scatter3d": [
           {
            "line": {
             "colorbar": {
              "outlinewidth": 0,
              "ticks": ""
             }
            },
            "marker": {
             "colorbar": {
              "outlinewidth": 0,
              "ticks": ""
             }
            },
            "type": "scatter3d"
           }
          ],
          "scattercarpet": [
           {
            "marker": {
             "colorbar": {
              "outlinewidth": 0,
              "ticks": ""
             }
            },
            "type": "scattercarpet"
           }
          ],
          "scattergeo": [
           {
            "marker": {
             "colorbar": {
              "outlinewidth": 0,
              "ticks": ""
             }
            },
            "type": "scattergeo"
           }
          ],
          "scattergl": [
           {
            "marker": {
             "colorbar": {
              "outlinewidth": 0,
              "ticks": ""
             }
            },
            "type": "scattergl"
           }
          ],
          "scattermapbox": [
           {
            "marker": {
             "colorbar": {
              "outlinewidth": 0,
              "ticks": ""
             }
            },
            "type": "scattermapbox"
           }
          ],
          "scatterpolar": [
           {
            "marker": {
             "colorbar": {
              "outlinewidth": 0,
              "ticks": ""
             }
            },
            "type": "scatterpolar"
           }
          ],
          "scatterpolargl": [
           {
            "marker": {
             "colorbar": {
              "outlinewidth": 0,
              "ticks": ""
             }
            },
            "type": "scatterpolargl"
           }
          ],
          "scatterternary": [
           {
            "marker": {
             "colorbar": {
              "outlinewidth": 0,
              "ticks": ""
             }
            },
            "type": "scatterternary"
           }
          ],
          "surface": [
           {
            "colorbar": {
             "outlinewidth": 0,
             "ticks": ""
            },
            "colorscale": [
             [
              0,
              "#0d0887"
             ],
             [
              0.1111111111111111,
              "#46039f"
             ],
             [
              0.2222222222222222,
              "#7201a8"
             ],
             [
              0.3333333333333333,
              "#9c179e"
             ],
             [
              0.4444444444444444,
              "#bd3786"
             ],
             [
              0.5555555555555556,
              "#d8576b"
             ],
             [
              0.6666666666666666,
              "#ed7953"
             ],
             [
              0.7777777777777778,
              "#fb9f3a"
             ],
             [
              0.8888888888888888,
              "#fdca26"
             ],
             [
              1,
              "#f0f921"
             ]
            ],
            "type": "surface"
           }
          ],
          "table": [
           {
            "cells": {
             "fill": {
              "color": "#EBF0F8"
             },
             "line": {
              "color": "white"
             }
            },
            "header": {
             "fill": {
              "color": "#C8D4E3"
             },
             "line": {
              "color": "white"
             }
            },
            "type": "table"
           }
          ]
         },
         "layout": {
          "annotationdefaults": {
           "arrowcolor": "#2a3f5f",
           "arrowhead": 0,
           "arrowwidth": 1
          },
          "autotypenumbers": "strict",
          "coloraxis": {
           "colorbar": {
            "outlinewidth": 0,
            "ticks": ""
           }
          },
          "colorscale": {
           "diverging": [
            [
             0,
             "#8e0152"
            ],
            [
             0.1,
             "#c51b7d"
            ],
            [
             0.2,
             "#de77ae"
            ],
            [
             0.3,
             "#f1b6da"
            ],
            [
             0.4,
             "#fde0ef"
            ],
            [
             0.5,
             "#f7f7f7"
            ],
            [
             0.6,
             "#e6f5d0"
            ],
            [
             0.7,
             "#b8e186"
            ],
            [
             0.8,
             "#7fbc41"
            ],
            [
             0.9,
             "#4d9221"
            ],
            [
             1,
             "#276419"
            ]
           ],
           "sequential": [
            [
             0,
             "#0d0887"
            ],
            [
             0.1111111111111111,
             "#46039f"
            ],
            [
             0.2222222222222222,
             "#7201a8"
            ],
            [
             0.3333333333333333,
             "#9c179e"
            ],
            [
             0.4444444444444444,
             "#bd3786"
            ],
            [
             0.5555555555555556,
             "#d8576b"
            ],
            [
             0.6666666666666666,
             "#ed7953"
            ],
            [
             0.7777777777777778,
             "#fb9f3a"
            ],
            [
             0.8888888888888888,
             "#fdca26"
            ],
            [
             1,
             "#f0f921"
            ]
           ],
           "sequentialminus": [
            [
             0,
             "#0d0887"
            ],
            [
             0.1111111111111111,
             "#46039f"
            ],
            [
             0.2222222222222222,
             "#7201a8"
            ],
            [
             0.3333333333333333,
             "#9c179e"
            ],
            [
             0.4444444444444444,
             "#bd3786"
            ],
            [
             0.5555555555555556,
             "#d8576b"
            ],
            [
             0.6666666666666666,
             "#ed7953"
            ],
            [
             0.7777777777777778,
             "#fb9f3a"
            ],
            [
             0.8888888888888888,
             "#fdca26"
            ],
            [
             1,
             "#f0f921"
            ]
           ]
          },
          "colorway": [
           "#636efa",
           "#EF553B",
           "#00cc96",
           "#ab63fa",
           "#FFA15A",
           "#19d3f3",
           "#FF6692",
           "#B6E880",
           "#FF97FF",
           "#FECB52"
          ],
          "font": {
           "color": "#2a3f5f"
          },
          "geo": {
           "bgcolor": "white",
           "lakecolor": "white",
           "landcolor": "#E5ECF6",
           "showlakes": true,
           "showland": true,
           "subunitcolor": "white"
          },
          "hoverlabel": {
           "align": "left"
          },
          "hovermode": "closest",
          "mapbox": {
           "style": "light"
          },
          "paper_bgcolor": "white",
          "plot_bgcolor": "#E5ECF6",
          "polar": {
           "angularaxis": {
            "gridcolor": "white",
            "linecolor": "white",
            "ticks": ""
           },
           "bgcolor": "#E5ECF6",
           "radialaxis": {
            "gridcolor": "white",
            "linecolor": "white",
            "ticks": ""
           }
          },
          "scene": {
           "xaxis": {
            "backgroundcolor": "#E5ECF6",
            "gridcolor": "white",
            "gridwidth": 2,
            "linecolor": "white",
            "showbackground": true,
            "ticks": "",
            "zerolinecolor": "white"
           },
           "yaxis": {
            "backgroundcolor": "#E5ECF6",
            "gridcolor": "white",
            "gridwidth": 2,
            "linecolor": "white",
            "showbackground": true,
            "ticks": "",
            "zerolinecolor": "white"
           },
           "zaxis": {
            "backgroundcolor": "#E5ECF6",
            "gridcolor": "white",
            "gridwidth": 2,
            "linecolor": "white",
            "showbackground": true,
            "ticks": "",
            "zerolinecolor": "white"
           }
          },
          "shapedefaults": {
           "line": {
            "color": "#2a3f5f"
           }
          },
          "ternary": {
           "aaxis": {
            "gridcolor": "white",
            "linecolor": "white",
            "ticks": ""
           },
           "baxis": {
            "gridcolor": "white",
            "linecolor": "white",
            "ticks": ""
           },
           "bgcolor": "#E5ECF6",
           "caxis": {
            "gridcolor": "white",
            "linecolor": "white",
            "ticks": ""
           }
          },
          "title": {
           "x": 0.05
          },
          "xaxis": {
           "automargin": true,
           "gridcolor": "white",
           "linecolor": "white",
           "ticks": "",
           "title": {
            "standoff": 15
           },
           "zerolinecolor": "white",
           "zerolinewidth": 2
          },
          "yaxis": {
           "automargin": true,
           "gridcolor": "white",
           "linecolor": "white",
           "ticks": "",
           "title": {
            "standoff": 15
           },
           "zerolinecolor": "white",
           "zerolinewidth": 2
          }
         }
        },
        "title": {
         "text": "3D FAISS Vector Store Visualization"
        },
        "width": 900
       }
      }
     },
     "metadata": {},
     "output_type": "display_data"
    }
   ],
   "source": [
    "# Let's try 3D!\n",
    "\n",
    "tsne = TSNE(n_components=3, random_state=42)\n",
    "reduced_vectors = tsne.fit_transform(vectors)\n",
    "\n",
    "# Create the 3D scatter plot\n",
    "fig = go.Figure(data=[go.Scatter3d(\n",
    "    x=reduced_vectors[:, 0],\n",
    "    y=reduced_vectors[:, 1],\n",
    "    z=reduced_vectors[:, 2],\n",
    "    mode='markers',\n",
    "    marker=dict(size=5, color=colors, opacity=0.8),\n",
    "    text=[f\"Type: {t}<br>Text: {d[:100]}...\" for t, d in zip(doc_types, documents)],\n",
    "    hoverinfo='text'\n",
    ")])\n",
    "\n",
    "fig.update_layout(\n",
    "    title='3D FAISS Vector Store Visualization',\n",
    "    scene=dict(xaxis_title='x', yaxis_title='y', zaxis_title='z'),\n",
    "    width=900,\n",
    "    height=700,\n",
    "    margin=dict(r=20, b=10, l=10, t=40)\n",
    ")\n",
    "\n",
    "fig.show()"
   ]
  },
  {
   "cell_type": "markdown",
   "id": "9468860b-86a2-41df-af01-b2400cc985be",
   "metadata": {},
   "source": [
    "## Time to use LangChain to bring it all together"
   ]
  },
  {
   "cell_type": "code",
   "execution_count": 13,
   "id": "129c7d1e-0094-4479-9459-f9360b95f244",
   "metadata": {},
   "outputs": [
    {
     "name": "stderr",
     "output_type": "stream",
     "text": [
      "C:\\Users\\iskorpittt\\AppData\\Local\\Temp\\ipykernel_3668\\4268784041.py:5: LangChainDeprecationWarning:\n",
      "\n",
      "Please see the migration guide at: https://python.langchain.com/docs/versions/migrating_memory/\n",
      "\n"
     ]
    }
   ],
   "source": [
    "# create a new Chat with OpenAI\n",
    "llm = ChatOpenAI(temperature=0.7, model_name=MODEL)\n",
    "\n",
    "# set up the conversation memory for the chat\n",
    "memory = ConversationBufferMemory(memory_key='chat_history', return_messages=True)\n",
    "\n",
    "# the retriever is an abstraction over the VectorStore that will be used during RAG\n",
    "retriever = vectorstore.as_retriever()\n",
    "\n",
    "# putting it together: set up the conversation chain with the GPT 3.5 LLM, the vector store and memory\n",
    "conversation_chain = ConversationalRetrievalChain.from_llm(llm=llm, retriever=retriever, memory=memory)"
   ]
  },
  {
   "cell_type": "code",
   "execution_count": 14,
   "id": "968e7bf2-e862-4679-a11f-6c1efb6ec8ca",
   "metadata": {},
   "outputs": [
    {
     "name": "stdout",
     "output_type": "stream",
     "text": [
      "Insurellm is an innovative insurance tech firm founded by Avery Lancaster in 2015, aimed at disrupting the insurance industry with its technology-driven products. The company offers four main insurance software products: Carllm for auto insurance, Homellm for home insurance, Rellm for the reinsurance sector, and Marketllm, a marketplace connecting consumers with insurance providers. With 200 employees and over 300 clients worldwide, Insurellm operates 12 offices across the US, focusing on transforming the insurance landscape through innovation and reliability.\n"
     ]
    }
   ],
   "source": [
    "query = \"Can you describe Insurellm in a few sentences\"\n",
    "result = conversation_chain.invoke({\"question\":query})\n",
    "print(result[\"answer\"])"
   ]
  },
  {
   "cell_type": "code",
   "execution_count": 15,
   "id": "987dadc5-5d09-4059-8f2e-733d66ecc696",
   "metadata": {},
   "outputs": [],
   "source": [
    "memory = ConversationBufferMemory(memory_key='chat_history', return_messages=True)\n",
    "conversation_chain = ConversationalRetrievalChain.from_llm(llm=llm, retriever=retriever, memory=memory)"
   ]
  },
  {
   "cell_type": "markdown",
   "id": "bbbcb659-13ce-47ab-8a5e-01b930494964",
   "metadata": {},
   "source": [
    "## Now we will bring this up in Gradio using the Chat interface -\n",
    "\n",
    "A quick and easy way to prototype a chat with an LLM"
   ]
  },
  {
   "cell_type": "code",
   "execution_count": 16,
   "id": "c3536590-85c7-4155-bd87-ae78a1467670",
   "metadata": {},
   "outputs": [],
   "source": [
    "# Wrapping that in a function\n",
    "\n",
    "def chat(message, history):\n",
    "    result = conversation_chain.invoke({\"question\": message})\n",
    "    return result[\"answer\"]"
   ]
  },
  {
   "cell_type": "code",
   "execution_count": 17,
   "id": "b252d8c1-61a8-406d-b57a-8f708a62b014",
   "metadata": {},
   "outputs": [
    {
     "name": "stderr",
     "output_type": "stream",
     "text": [
      "c:\\Users\\iskorpittt\\Desktop\\MY_DATA_SCIENCE\\PROJECTS\\GENERATIVE_AI\\llm_engineering\\venv\\Lib\\site-packages\\gradio\\components\\chatbot.py:255: UserWarning:\n",
      "\n",
      "The 'tuples' format for chatbot messages is deprecated and will be removed in a future version of Gradio. Please set type='messages' instead, which uses openai-style 'role' and 'content' keys.\n",
      "\n"
     ]
    },
    {
     "name": "stdout",
     "output_type": "stream",
     "text": [
      "* Running on local URL:  http://127.0.0.1:7860\n",
      "\n",
      "To create a public link, set `share=True` in `launch()`.\n"
     ]
    },
    {
     "data": {
      "text/html": [
       "<div><iframe src=\"http://127.0.0.1:7860/\" width=\"100%\" height=\"500\" allow=\"autoplay; camera; microphone; clipboard-read; clipboard-write;\" frameborder=\"0\" allowfullscreen></iframe></div>"
      ],
      "text/plain": [
       "<IPython.core.display.HTML object>"
      ]
     },
     "metadata": {},
     "output_type": "display_data"
    }
   ],
   "source": [
    "# And in Gradio:\n",
    "\n",
    "view = gr.ChatInterface(chat).launch()"
   ]
  },
  {
   "cell_type": "code",
   "execution_count": null,
   "id": "5435b2b9-935c-48cd-aaf3-73a837ecde49",
   "metadata": {},
   "outputs": [],
   "source": []
  }
 ],
 "metadata": {
  "kernelspec": {
   "display_name": "venv",
   "language": "python",
   "name": "python3"
  },
  "language_info": {
   "codemirror_mode": {
    "name": "ipython",
    "version": 3
   },
   "file_extension": ".py",
   "mimetype": "text/x-python",
   "name": "python",
   "nbconvert_exporter": "python",
   "pygments_lexer": "ipython3",
   "version": "3.12.6"
  }
 },
 "nbformat": 4,
 "nbformat_minor": 5
}
