{
 "cells": [
  {
   "cell_type": "markdown",
   "id": "2a0f44a9-37cd-4aa5-9b20-cfc0dc8dfc0a",
   "metadata": {},
   "source": [
    "# The Price is Right\n",
    "\n",
    "Today we build a more complex solution for estimating prices of goods.\n",
    "\n",
    "1. Day 2.0 notebook: create a RAG database with our 400,000 training data\n",
    "2. Day 2.1 notebook: visualize in 2D\n",
    "3. Day 2.2 notebook: visualize in 3D\n",
    "4. Day 2.3 notebook: build and test a RAG pipeline with GPT-4o-mini\n",
    "5. Day 2.4 notebook: (a) bring back our Random Forest pricer (b) Create a Ensemble pricer that allows contributions from all the pricers\n",
    "\n",
    "Phew! That's a lot to get through in one day!\n",
    "\n",
    "## PLEASE NOTE:\n",
    "\n",
    "We already have a very powerful product estimator with our proprietary, fine-tuned LLM. Most people would be very satisfied with that! The main reason we're adding these extra steps is to deepen your expertise with RAG and with Agentic workflows.\n",
    "\n",
    "## We will go fast today! Hold on to your hat.."
   ]
  },
  {
   "cell_type": "code",
   "execution_count": 1,
   "id": "fbcdfea8-7241-46d7-a771-c0381a3e7063",
   "metadata": {},
   "outputs": [],
   "source": [
    "# imports\n",
    "\n",
    "import os\n",
    "import re\n",
    "import math\n",
    "import json\n",
    "from tqdm import tqdm\n",
    "import random\n",
    "from dotenv import load_dotenv\n",
    "from huggingface_hub import login\n",
    "import matplotlib.pyplot as plt\n",
    "import numpy as np\n",
    "import pickle\n",
    "from openai import OpenAI\n",
    "from sentence_transformers import SentenceTransformer\n",
    "from datasets import load_dataset\n",
    "import chromadb\n",
    "from items import Item\n",
    "from testing import Tester"
   ]
  },
  {
   "cell_type": "code",
   "execution_count": 2,
   "id": "98666e73-938e-469d-8987-e6e55ba5e034",
   "metadata": {},
   "outputs": [],
   "source": [
    "# environment\n",
    "\n",
    "load_dotenv()\n",
    "os.environ['OPENAI_API_KEY'] = os.getenv('OPENAI_API_KEY', 'your-key-if-not-using-env')\n",
    "os.environ['HF_TOKEN'] = os.getenv('HF_TOKEN', 'your-key-if-not-using-env')"
   ]
  },
  {
   "cell_type": "code",
   "execution_count": 3,
   "id": "9a25a5cf-8f6c-4b5d-ad98-fdd096f5adf8",
   "metadata": {},
   "outputs": [],
   "source": [
    "openai = OpenAI()"
   ]
  },
  {
   "cell_type": "code",
   "execution_count": 4,
   "id": "dc696493-0b6f-48aa-9fa8-b1ae0ecaf3cd",
   "metadata": {},
   "outputs": [],
   "source": [
    "# Load in the test pickle file\n",
    "# See the section \"Back to the PKL files\" in the day2.0 notebook\n",
    "# for instructions on obtaining this test.pkl file\n",
    "\n",
    "with open('../week6/test.pkl', 'rb') as file:\n",
    "    test = pickle.load(file)"
   ]
  },
  {
   "cell_type": "code",
   "execution_count": 5,
   "id": "33d38a06-0c0d-4e96-94d1-35ee183416ce",
   "metadata": {},
   "outputs": [],
   "source": [
    "def make_context(similars, prices):\n",
    "    message = \"To provide some context, here are some other items that might be similar to the item you need to estimate.\\n\\n\"\n",
    "    for similar, price in zip(similars, prices):\n",
    "        message += f\"Potentially related product:\\n{similar}\\nPrice is ${price:.2f}\\n\\n\"\n",
    "    return message"
   ]
  },
  {
   "cell_type": "code",
   "execution_count": 6,
   "id": "61f203b7-63b6-48ed-869b-e393b5bfcad3",
   "metadata": {},
   "outputs": [],
   "source": [
    "def messages_for(item, similars, prices):\n",
    "    system_message = \"You estimate prices of items. Reply only with the price, no explanation\"\n",
    "    user_prompt = make_context(similars, prices)\n",
    "    user_prompt += \"And now the question for you:\\n\\n\"\n",
    "    user_prompt += item.test_prompt().replace(\" to the nearest dollar\",\"\").replace(\"\\n\\nPrice is $\",\"\")\n",
    "    return [\n",
    "        {\"role\": \"system\", \"content\": system_message},\n",
    "        {\"role\": \"user\", \"content\": user_prompt},\n",
    "        {\"role\": \"assistant\", \"content\": \"Price is $\"}\n",
    "    ]"
   ]
  },
  {
   "cell_type": "code",
   "execution_count": 20,
   "id": "b26f405d-6e1f-4caa-b97f-1f62cd9d1ebc",
   "metadata": {},
   "outputs": [],
   "source": [
    "DB = \"products_vectorstore\""
   ]
  },
  {
   "cell_type": "code",
   "execution_count": 21,
   "id": "d26a1104-cd11-4361-ab25-85fb576e0582",
   "metadata": {},
   "outputs": [],
   "source": [
    "client = chromadb.PersistentClient(path=DB)\n",
    "collection = client.get_or_create_collection('products')"
   ]
  },
  {
   "cell_type": "code",
   "execution_count": 22,
   "id": "1e339760-96d8-4485-bec7-43fadcd30c4d",
   "metadata": {},
   "outputs": [],
   "source": [
    "def description(item):\n",
    "    text = item.prompt.replace(\"How much does this cost to the nearest dollar?\\n\\n\", \"\")\n",
    "    return text.split(\"\\n\\nPrice is $\")[0]"
   ]
  },
  {
   "cell_type": "code",
   "execution_count": 23,
   "id": "a1bd0c87-8bad-43d9-9461-bb69a9e0e22c",
   "metadata": {},
   "outputs": [
    {
     "data": {
      "text/plain": [
       "'GOLDTONE Brand Replacement Charcoal Water Filter Cartridges for Keurig Classic 1.0 and 2.0 Coffee Maker Machines 24 PACK\\nHigh Quality replacement charcoal water wilter cartridge for keurig makers made after 2007 These replacement water filters are specifically designed for all Keurig brand coffee machines that require water filters made after 2007 Removes impurities (chlorine, odors, calcium & others) that interfere with taste and quality For Best Results Replace Every 60 Days or 60 Tank Refills. Works with Keurig 2.0 brewer, Elite B40, Classic B44, Ultra B50, Special Edition B60, Ultimate B66, Plantinum B70, Plantinum K79 Plus, Officepro B145'"
      ]
     },
     "execution_count": 23,
     "metadata": {},
     "output_type": "execute_result"
    }
   ],
   "source": [
    "description(test[0])"
   ]
  },
  {
   "cell_type": "code",
   "execution_count": 24,
   "id": "9f759bd2-7a7e-4c1a-80a0-e12470feca89",
   "metadata": {},
   "outputs": [],
   "source": [
    "model = SentenceTransformer('sentence-transformers/all-MiniLM-L6-v2')"
   ]
  },
  {
   "cell_type": "code",
   "execution_count": 25,
   "id": "e44dbd25-fb95-4b6b-bbbb-8da5fc817105",
   "metadata": {},
   "outputs": [],
   "source": [
    "def vector(item):\n",
    "    return model.encode([description(item)])"
   ]
  },
  {
   "cell_type": "code",
   "execution_count": 26,
   "id": "ffd5ee47-db5d-4263-b0d9-80d568c91341",
   "metadata": {},
   "outputs": [],
   "source": [
    "def find_similars(item):\n",
    "    results = collection.query(query_embeddings=vector(item).astype(float).tolist(), n_results=5)\n",
    "    documents = results['documents'][0][:]\n",
    "    prices = [m['price'] for m in results['metadatas'][0][:]]\n",
    "    return documents, prices"
   ]
  },
  {
   "cell_type": "code",
   "execution_count": 27,
   "id": "6f7b9ff9-fd90-4627-bb17-7c2f7bbd21f3",
   "metadata": {},
   "outputs": [
    {
     "name": "stdout",
     "output_type": "stream",
     "text": [
      "How much does this cost to the nearest dollar?\n",
      "\n",
      "Flngr Pan Hanger (Right) for Refrigerator,Compatible\n",
      "Part Numbers Pan Hanger (Right) for Refrigerator,Compatible Fits models FFHTXXX, FFTXXXX, FRTXXX. Note Before buying, please refer to the first picture or the sixth picture to make sure that you are buying in the correct direction. Quality Assurance High-quality materials and workmanship, 100% quality inspection. We offer 90-day free exchanges and 1-year free repairs on products sold. Left and Right The Pan Hanger is available in two symmetrical models (left) and (right). We offer sold separately, or you can buy both models at the same time. Manufacturer Flngr, Part Weight 2.89 ounces, Dimensions 17.52 x 2.05 x\n",
      "\n",
      "Price is $10.00\n"
     ]
    }
   ],
   "source": [
    "print(test[1].prompt)"
   ]
  },
  {
   "cell_type": "code",
   "execution_count": 28,
   "id": "ff1b2659-cc6b-47aa-a797-dd1cd3d1d6c3",
   "metadata": {},
   "outputs": [],
   "source": [
    "documents, prices = find_similars(test[1])"
   ]
  },
  {
   "cell_type": "code",
   "execution_count": 29,
   "id": "24756d4d-edac-41ce-bb80-c3b6f1cea7ee",
   "metadata": {},
   "outputs": [
    {
     "name": "stdout",
     "output_type": "stream",
     "text": [
      "To provide some context, here are some other items that might be similar to the item you need to estimate.\n",
      "\n",
      "Potentially related product:\n",
      "Flngr Pan Hanger (Left) for Refrigerator,Compatible\n",
      "Part Numbers Pan Hanger (Left) for Refrigerator,Compatible Fits models FFHTXXX, FFTXXXX, FRTXXX, Note Before buying, please refer to the first picture or the sixth picture to make sure that you are buying in the correct direction. Quality Assurance High-quality materials and workmanship, 100% quality inspection. We offer 90-day free exchanges and 1-year free repairs on products sold. Left and Right The Pan Hanger is available in two symmetrical models (left) and (right). We offer sold separately, or you can buy both models at the same time. Manufacturer Flngr, Part Weight 2.89 ounces, Dimensions 17.68 x 2.05 x\n",
      "Price is $9.49\n",
      "\n",
      "Potentially related product:\n",
      "Flngr Pan Hanger for Refrigerator,Fits models FFHTXXX, FFTXXXX, FRTXXX\n",
      "Part Numbers Pan Hanger (Right) & Pan Hanger (Left). Right Fits models FFHTXXX, FFTXXXX, FRTXXX. Quality Assurance High-quality materials and workmanship, 100% quality inspection. We offer 90-day free exchanges and 1-year free repairs on products sold. Left and Right The Pan Hanger is available in two symmetrical models (left) and (right). We offer sold separately, or you can buy both models at the same time. Manufacturer Flngr, Part Weight 4.5 ounces, Dimensions 17.49 x 2.05 x 1.22 inches, model number Rank Tools & Home Improvement Parts\n",
      "Price is $19.98\n",
      "\n",
      "Potentially related product:\n",
      "UPGRADED Lifetime Appliance Pan Hanger Compatible with Frigidaire Refrigerator\n",
      "✅ Part Numbers ✅ Ultra Durable, non-OEM Replacement Pan Hanger Compatible with Frigidaire Refrigerator ✅ Left Side Rack ✅ Color White ✅ Fits refrigerator models beginning with FRS23, FRS26, FRS6, GLHS, CRSE2, FFHS, FRS3, FRSH Manufacturer Lifetime Appliance Parts, Part Weight 1.58 ounces, Dimensions 15.63 x 3.46 x 1.22 inches, model number Is Discontinued No, Size Color White, Quantity 1, Rank Tools & Home Improvement Parts & Accessories 42573, Available June 30, 2017\n",
      "Price is $29.14\n",
      "\n",
      "Potentially related product:\n",
      "UPGRADED Lifetime Appliance Meat Pan Hanger (Right) Compatible Compatible with Frigidaire Refrigerator\n",
      "Part Numbers Replacement Meat Hanger for Frigidaire Refrigerator ✅ Part Numbers ✅ Ultra Durable, non-OEM Replacement Meat Hanger Compatible with Frigidaire Refrigerator ✅ This part is for the right side only. For the left side, please see part number ✅ Fits models beginning with CRTE, FRS23, FRS26, FGHS2, CRSE2, CRSH2, DGHT, FGUI, FPUI, FPHI, BGHS, BLRT, DGHS2 Manufacturer Lifetime Appliance Parts, Part Weight 1.76 ounces, Dimensions 14.37 x 2.2 x 0.\n",
      "Price is $7.25\n",
      "\n",
      "Potentially related product:\n",
      "Refrigerator Pan Hangers (Left & Right) Replacement for Part# & Fit for Kenmore & Frigidaire Refrigerators\n",
      "Replaces Part Number Fits the following models For Frigidaire, Kenmore, Westinghouse, Crosley, Gibson, Kelvinator & Uni Refrigerators. FFHTXXX, FFTXXXX, FRTXXX NOTE Please double check the part number of your item,matching information is for reference only. If you are unsure of the item, please contact us before buying to avoid unnecessary return. The picture can tell more than we can, what you see is what you will receive,please make sure it will fit your machine before bidding it. Please check pictures for more details. Fitment for Frigidaire, Kenmore, Westinghouse,\n",
      "Price is $23.98\n",
      "\n",
      "\n"
     ]
    }
   ],
   "source": [
    "print(make_context(documents, prices))"
   ]
  },
  {
   "cell_type": "code",
   "execution_count": 30,
   "id": "0b81eca2-0b58-4fe8-9dd6-47f13ba5f8ee",
   "metadata": {},
   "outputs": [
    {
     "name": "stdout",
     "output_type": "stream",
     "text": [
      "[{'role': 'system', 'content': 'You estimate prices of items. Reply only with the price, no explanation'}, {'role': 'user', 'content': 'To provide some context, here are some other items that might be similar to the item you need to estimate.\\n\\nPotentially related product:\\nFlngr Pan Hanger (Left) for Refrigerator,Compatible\\nPart Numbers Pan Hanger (Left) for Refrigerator,Compatible Fits models FFHTXXX, FFTXXXX, FRTXXX, Note Before buying, please refer to the first picture or the sixth picture to make sure that you are buying in the correct direction. Quality Assurance High-quality materials and workmanship, 100% quality inspection. We offer 90-day free exchanges and 1-year free repairs on products sold. Left and Right The Pan Hanger is available in two symmetrical models (left) and (right). We offer sold separately, or you can buy both models at the same time. Manufacturer Flngr, Part Weight 2.89 ounces, Dimensions 17.68 x 2.05 x\\nPrice is $9.49\\n\\nPotentially related product:\\nFlngr Pan Hanger for Refrigerator,Fits models FFHTXXX, FFTXXXX, FRTXXX\\nPart Numbers Pan Hanger (Right) & Pan Hanger (Left). Right Fits models FFHTXXX, FFTXXXX, FRTXXX. Quality Assurance High-quality materials and workmanship, 100% quality inspection. We offer 90-day free exchanges and 1-year free repairs on products sold. Left and Right The Pan Hanger is available in two symmetrical models (left) and (right). We offer sold separately, or you can buy both models at the same time. Manufacturer Flngr, Part Weight 4.5 ounces, Dimensions 17.49 x 2.05 x 1.22 inches, model number Rank Tools & Home Improvement Parts\\nPrice is $19.98\\n\\nPotentially related product:\\nUPGRADED Lifetime Appliance Pan Hanger Compatible with Frigidaire Refrigerator\\n✅ Part Numbers ✅ Ultra Durable, non-OEM Replacement Pan Hanger Compatible with Frigidaire Refrigerator ✅ Left Side Rack ✅ Color White ✅ Fits refrigerator models beginning with FRS23, FRS26, FRS6, GLHS, CRSE2, FFHS, FRS3, FRSH Manufacturer Lifetime Appliance Parts, Part Weight 1.58 ounces, Dimensions 15.63 x 3.46 x 1.22 inches, model number Is Discontinued No, Size Color White, Quantity 1, Rank Tools & Home Improvement Parts & Accessories 42573, Available June 30, 2017\\nPrice is $29.14\\n\\nPotentially related product:\\nUPGRADED Lifetime Appliance Meat Pan Hanger (Right) Compatible Compatible with Frigidaire Refrigerator\\nPart Numbers Replacement Meat Hanger for Frigidaire Refrigerator ✅ Part Numbers ✅ Ultra Durable, non-OEM Replacement Meat Hanger Compatible with Frigidaire Refrigerator ✅ This part is for the right side only. For the left side, please see part number ✅ Fits models beginning with CRTE, FRS23, FRS26, FGHS2, CRSE2, CRSH2, DGHT, FGUI, FPUI, FPHI, BGHS, BLRT, DGHS2 Manufacturer Lifetime Appliance Parts, Part Weight 1.76 ounces, Dimensions 14.37 x 2.2 x 0.\\nPrice is $7.25\\n\\nPotentially related product:\\nRefrigerator Pan Hangers (Left & Right) Replacement for Part# & Fit for Kenmore & Frigidaire Refrigerators\\nReplaces Part Number Fits the following models For Frigidaire, Kenmore, Westinghouse, Crosley, Gibson, Kelvinator & Uni Refrigerators. FFHTXXX, FFTXXXX, FRTXXX NOTE Please double check the part number of your item,matching information is for reference only. If you are unsure of the item, please contact us before buying to avoid unnecessary return. The picture can tell more than we can, what you see is what you will receive,please make sure it will fit your machine before bidding it. Please check pictures for more details. Fitment for Frigidaire, Kenmore, Westinghouse,\\nPrice is $23.98\\n\\nAnd now the question for you:\\n\\nHow much does this cost?\\n\\nFlngr Pan Hanger (Right) for Refrigerator,Compatible\\nPart Numbers Pan Hanger (Right) for Refrigerator,Compatible Fits models FFHTXXX, FFTXXXX, FRTXXX. Note Before buying, please refer to the first picture or the sixth picture to make sure that you are buying in the correct direction. Quality Assurance High-quality materials and workmanship, 100% quality inspection. We offer 90-day free exchanges and 1-year free repairs on products sold. Left and Right The Pan Hanger is available in two symmetrical models (left) and (right). We offer sold separately, or you can buy both models at the same time. Manufacturer Flngr, Part Weight 2.89 ounces, Dimensions 17.52 x 2.05 x'}, {'role': 'assistant', 'content': 'Price is $'}]\n"
     ]
    }
   ],
   "source": [
    "print(messages_for(test[1], documents, prices))"
   ]
  },
  {
   "cell_type": "code",
   "execution_count": 31,
   "id": "d11f1c8d-7480-4d64-a274-b030d701f1b8",
   "metadata": {},
   "outputs": [],
   "source": [
    "def get_price(s):\n",
    "    s = s.replace('$','').replace(',','')\n",
    "    match = re.search(r\"[-+]?\\d*\\.\\d+|\\d+\", s)\n",
    "    return float(match.group()) if match else 0"
   ]
  },
  {
   "cell_type": "code",
   "execution_count": 32,
   "id": "06743833-c362-47f8-b02a-139be2cd52ab",
   "metadata": {},
   "outputs": [
    {
     "data": {
      "text/plain": [
       "99.99"
      ]
     },
     "execution_count": 32,
     "metadata": {},
     "output_type": "execute_result"
    }
   ],
   "source": [
    "get_price(\"The price for this is $99.99\")"
   ]
  },
  {
   "cell_type": "code",
   "execution_count": 33,
   "id": "a919cf7d-b3d3-4968-8c96-54a0da0b0219",
   "metadata": {},
   "outputs": [],
   "source": [
    "# The function for gpt-4o-mini\n",
    "\n",
    "def gpt_4o_mini_rag(item):\n",
    "    documents, prices = find_similars(item)\n",
    "    response = openai.chat.completions.create(\n",
    "        model=\"gpt-4o-mini\", \n",
    "        messages=messages_for(item, documents, prices),\n",
    "        seed=42,\n",
    "        max_tokens=5\n",
    "    )\n",
    "    reply = response.choices[0].message.content\n",
    "    return get_price(reply)"
   ]
  },
  {
   "cell_type": "code",
   "execution_count": 34,
   "id": "3e519e26-ff15-4425-90bb-bfbf55deb39b",
   "metadata": {},
   "outputs": [
    {
     "data": {
      "text/plain": [
       "9.49"
      ]
     },
     "execution_count": 34,
     "metadata": {},
     "output_type": "execute_result"
    }
   ],
   "source": [
    "gpt_4o_mini_rag(test[1])"
   ]
  },
  {
   "cell_type": "code",
   "execution_count": 35,
   "id": "ce78741b-2966-41d2-9831-cbf8f8d176be",
   "metadata": {},
   "outputs": [
    {
     "data": {
      "text/plain": [
       "9.98"
      ]
     },
     "execution_count": 35,
     "metadata": {},
     "output_type": "execute_result"
    }
   ],
   "source": [
    "test[1].price"
   ]
  },
  {
   "cell_type": "code",
   "execution_count": 36,
   "id": "16d90455-ff7d-4f5f-8b8c-8e061263d1c7",
   "metadata": {},
   "outputs": [
    {
     "name": "stdout",
     "output_type": "stream",
     "text": [
      "\u001b[92m1: Guess: $16.99 Truth: $13.99 Error: $3.00 SLE: 0.03 Item: GOLDTONE Brand Replacement Charcoal Wate...\u001b[0m\n",
      "\u001b[92m2: Guess: $9.49 Truth: $9.98 Error: $0.49 SLE: 0.00 Item: Flngr 240530701 Pan Hanger (Right) for R...\u001b[0m\n",
      "\u001b[93m3: Guess: $649.00 Truth: $944.26 Error: $295.26 SLE: 0.14 Item: Kenmore 20362 3.8 cu. ft. Top-Load Washe...\u001b[0m\n",
      "\u001b[92m4: Guess: $49.99 Truth: $56.21 Error: $6.22 SLE: 0.01 Item: XiKe W10285625 Front Load Washer Tub Bea...\u001b[0m\n",
      "\u001b[92m5: Guess: $10.99 Truth: $10.99 Error: $0.00 SLE: 0.00 Item: Lifetime Warranty W10837240 Dryer Idler ...\u001b[0m\n",
      "\u001b[92m6: Guess: $17.99 Truth: $9.50 Error: $8.49 SLE: 0.35 Item: LaMi Products Economy Kitchen Accessory ...\u001b[0m\n",
      "\u001b[92m7: Guess: $18.74 Truth: $18.74 Error: $0.00 SLE: 0.00 Item: Whirlpool W10258275 Bimetal Fuse for Dis...\u001b[0m\n",
      "\u001b[92m8: Guess: $70.15 Truth: $32.54 Error: $37.61 SLE: 0.57 Item: Frigidaire 297259528 Start Device, White\u001b[0m\n",
      "\u001b[92m9: Guess: $21.50 Truth: $27.76 Error: $6.26 SLE: 0.06 Item: Builder's Best CECOMINOD018526 J-Block D...\u001b[0m\n",
      "\u001b[92m10: Guess: $254.99 Truth: $304.98 Error: $49.99 SLE: 0.03 Item: Hermitlux Countertop Dishwasher, 5 Washi...\u001b[0m\n",
      "\u001b[92m11: Guess: $6.99 Truth: $5.99 Error: $1.00 SLE: 0.02 Item: Nylon Lint Trap for Washing Machine Drai...\u001b[0m\n",
      "\u001b[92m12: Guess: $29.99 Truth: $26.99 Error: $3.00 SLE: 0.01 Item: DIKOO Stove Top Cover Protector for Elec...\u001b[0m\n",
      "\u001b[92m13: Guess: $11.99 Truth: $11.99 Error: $0.00 SLE: 0.00 Item: 2-Pack Replacement for Frigidaire GLRT18...\u001b[0m\n",
      "\u001b[92m14: Guess: $79.99 Truth: $99.09 Error: $19.10 SLE: 0.04 Item: EZ FAUX DECOR Peel and Stick Stainless S...\u001b[0m\n",
      "\u001b[92m15: Guess: $99.99 Truth: $100.96 Error: $0.97 SLE: 0.00 Item: GE WB27K10358 General Electric Board\u001b[0m\n",
      "\u001b[92m16: Guess: $8.99 Truth: $8.99 Error: $0.00 SLE: 0.00 Item: WP33001003 Dryer Lint Filter Replacement...\u001b[0m\n",
      "\u001b[92m17: Guess: $6.99 Truth: $6.99 Error: $0.00 SLE: 0.00 Item: 2-Pack W10490648 Hand Mixer Beaters Repl...\u001b[0m\n",
      "\u001b[92m18: Guess: $50.00 Truth: $57.59 Error: $7.59 SLE: 0.02 Item: Beverage Air 501-137B Evaporator Motor ....\u001b[0m\n",
      "\u001b[92m19: Guess: $29.99 Truth: $29.99 Error: $0.00 SLE: 0.00 Item: Sub-Zero 7004259 SWITCH, FAN\u001b[0m\n",
      "\u001b[92m20: Guess: $12.95 Truth: $13.95 Error: $1.00 SLE: 0.00 Item: 3355806 Washer Lid Switch Assembly. Repl...\u001b[0m\n",
      "\u001b[92m21: Guess: $31.22 Truth: $29.38 Error: $1.84 SLE: 0.00 Item: Dishwasher, Portable Dishwasher USB‑Powe...\u001b[0m\n",
      "\u001b[92m22: Guess: $21.99 Truth: $19.99 Error: $2.00 SLE: 0.01 Item: PUREBURG 4-Pack Wick Filters Compatible ...\u001b[0m\n",
      "\u001b[92m23: Guess: $29.99 Truth: $26.99 Error: $3.00 SLE: 0.01 Item: i Cafilas Refillable Coffee Capsule for ...\u001b[0m\n",
      "\u001b[92m24: Guess: $8.99 Truth: $8.99 Error: $0.00 SLE: 0.00 Item: Nispira Replacement KCM11WF Charcoal Wat...\u001b[0m\n",
      "\u001b[92m25: Guess: $19.99 Truth: $19.70 Error: $0.29 SLE: 0.00 Item: YMDparts Wolf Range Hood Knob Replacemen...\u001b[0m\n",
      "\u001b[92m26: Guess: $12.99 Truth: $11.99 Error: $1.00 SLE: 0.01 Item: Dryer Knob WE03X25285 Replacement for GE...\u001b[0m\n",
      "\u001b[91m27: Guess: $99.99 Truth: $219.99 Error: $120.00 SLE: 0.61 Item: 12 Inch Gas Cooktop, GASLAND Chef PRO GH...\u001b[0m\n",
      "\u001b[92m28: Guess: $12.99 Truth: $15.99 Error: $3.00 SLE: 0.04 Item: 1 Gallon 10\" X 14\" Mylar Bags - 20 Pack ...\u001b[0m\n",
      "\u001b[92m29: Guess: $32.95 Truth: $45.09 Error: $12.14 SLE: 0.09 Item: (new part) Oven Heating Element Replaces...\u001b[0m\n",
      "\u001b[91m30: Guess: $169.99 Truth: $323.17 Error: $153.18 SLE: 0.41 Item: NewAir Portable Ice Maker 50 lb. Daily, ...\u001b[0m\n",
      "\u001b[92m31: Guess: $44.99 Truth: $80.99 Error: $36.00 SLE: 0.33 Item: Supplying Demand WR62X23154 WR02X20425 R...\u001b[0m\n",
      "\u001b[92m32: Guess: $18.99 Truth: $24.99 Error: $6.00 SLE: 0.07 Item: 2023 Upgraded DC61-02595A Dryer Lint Fil...\u001b[0m\n",
      "\u001b[92m33: Guess: $18.99 Truth: $12.59 Error: $6.40 SLE: 0.15 Item: W10156818 Refrigerator Condenser Motor F...\u001b[0m\n",
      "\u001b[92m34: Guess: $14.99 Truth: $12.99 Error: $2.00 SLE: 0.02 Item: Dryer Vent Cleaner Kit 4 Pack Dryer Lint...\u001b[0m\n",
      "\u001b[92m35: Guess: $30.50 Truth: $33.99 Error: $3.49 SLE: 0.01 Item: Chicken Dishwasher Magnet Decal,Farm Roo...\u001b[0m\n",
      "\u001b[92m36: Guess: $9.99 Truth: $7.78 Error: $2.21 SLE: 0.05 Item: LASCO 10-1843 4-Inch Dryer Vent Clamps\u001b[0m\n",
      "\u001b[92m37: Guess: $10.99 Truth: $7.23 Error: $3.76 SLE: 0.14 Item: 285811 Agitator Cam Repair Kitr for Wash...\u001b[0m\n",
      "\u001b[92m38: Guess: $9.99 Truth: $11.99 Error: $2.00 SLE: 0.03 Item: 5304511738 LED Refrigerator Light Bulb f...\u001b[0m\n",
      "\u001b[92m39: Guess: $99.99 Truth: $105.99 Error: $6.00 SLE: 0.00 Item: Supplying Demand W10251076 W10122576 Ref...\u001b[0m\n",
      "\u001b[92m40: Guess: $29.99 Truth: $27.99 Error: $2.00 SLE: 0.00 Item: WB30T10132 WB30T10128 Element Radiant 8 ...\u001b[0m\n",
      "\u001b[92m41: Guess: $21.99 Truth: $24.57 Error: $2.58 SLE: 0.01 Item: Suparts W10404050 Washer Latch Assembly ...\u001b[0m\n",
      "\u001b[92m42: Guess: $27.99 Truth: $36.99 Error: $9.00 SLE: 0.07 Item: MG Coffee Reusable Vertuo Capsules Stain...\u001b[0m\n",
      "\u001b[92m43: Guess: $6.99 Truth: $6.99 Error: $0.00 SLE: 0.00 Item: 3949247 Washer Lid Switch Replacement fo...\u001b[0m\n",
      "\u001b[92m44: Guess: $51.07 Truth: $87.92 Error: $36.85 SLE: 0.29 Item: Whirlpool 12002791 Ignitor Switch\u001b[0m\n",
      "\u001b[92m45: Guess: $19.00 Truth: $20.49 Error: $1.49 SLE: 0.01 Item: BOSCH / Cuno 9000 077104 UltraClarity RE...\u001b[0m\n",
      "\u001b[92m46: Guess: $11.99 Truth: $11.99 Error: $0.00 SLE: 0.00 Item: GoldTone Brand 6 Carbon Water Filters + ...\u001b[0m\n",
      "\u001b[92m47: Guess: $29.95 Truth: $26.93 Error: $3.02 SLE: 0.01 Item: MUELLER STREAMLINE CO CU04020 1/4\" x20' ...\u001b[0m\n",
      "\u001b[91m48: Guess: $149.99 Truth: $69.99 Error: $80.00 SLE: 0.57 Item: Ice Makers Countertop, 33lbs/24H, 9 Ice ...\u001b[0m\n",
      "\u001b[92m49: Guess: $41.99 Truth: $45.04 Error: $3.05 SLE: 0.00 Item: General Electric WB16K10043 Burner\u001b[0m\n",
      "\u001b[92m50: Guess: $25.95 Truth: $22.36 Error: $3.59 SLE: 0.02 Item: LG EBG60663229 Thermistor Assembly,PTC, ...\u001b[0m\n",
      "\u001b[92m51: Guess: $59.99 Truth: $27.02 Error: $32.97 SLE: 0.60 Item: Supplying Demand W10326913 W10853723 Clo...\u001b[0m\n",
      "\u001b[92m52: Guess: $24.99 Truth: $25.99 Error: $1.00 SLE: 0.00 Item: Bathroom Vent Fan Motor Replacement Elec...\u001b[0m\n",
      "\u001b[92m53: Guess: $29.99 Truth: $18.97 Error: $11.02 SLE: 0.19 Item: W11344457 Dryer Heating Element 3387747 ...\u001b[0m\n",
      "\u001b[92m54: Guess: $24.99 Truth: $20.99 Error: $4.00 SLE: 0.03 Item: Boseen Egg Holder for Refrigerator, Devi...\u001b[0m\n",
      "\u001b[93m55: Guess: $14.99 Truth: $60.71 Error: $45.72 SLE: 1.82 Item: lyreharp (3) Knobs Compatible with Jenn-...\u001b[0m\n",
      "\u001b[92m56: Guess: $49.89 Truth: $49.99 Error: $0.10 SLE: 0.00 Item: GE WB24T10058 Infinity Switch for Range\u001b[0m\n",
      "\u001b[92m57: Guess: $68.72 Truth: $69.41 Error: $0.69 SLE: 0.00 Item: Electrolux 316443601 Door Handle\u001b[0m\n",
      "\u001b[92m58: Guess: $7.99 Truth: $7.39 Error: $0.60 SLE: 0.00 Item: MAYITOP W10861225 Dryer Door Handle Repl...\u001b[0m\n",
      "\u001b[92m59: Guess: $149.99 Truth: $179.99 Error: $30.00 SLE: 0.03 Item: MAT Expert 2 in 1 Ice Maker with Water D...\u001b[0m\n",
      "\u001b[92m60: Guess: $4.99 Truth: $4.99 Error: $0.00 SLE: 0.00 Item: WP21352320 Washing Machine Drive Belt Re...\u001b[0m\n",
      "\u001b[92m61: Guess: $35.99 Truth: $29.99 Error: $6.00 SLE: 0.03 Item: laffeya Electric Stove Burner MP22YA- MP...\u001b[0m\n",
      "\u001b[92m62: Guess: $32.99 Truth: $29.49 Error: $3.50 SLE: 0.01 Item: ZEONHAK 150 Pack 12 Cells Clear Quail Eg...\u001b[0m\n",
      "\u001b[92m63: Guess: $25.99 Truth: $25.99 Error: $0.00 SLE: 0.00 Item: FireFly Home Stove Top Protector for Dac...\u001b[0m\n",
      "\u001b[92m64: Guess: $22.99 Truth: $24.99 Error: $2.00 SLE: 0.01 Item: Egg Holder Countertop Rack Organizer\u001b[0m\n",
      "\u001b[92m65: Guess: $25.99 Truth: $30.99 Error: $5.00 SLE: 0.03 Item: ANTOBLE Humidifier Filters Replacements ...\u001b[0m\n",
      "\u001b[92m66: Guess: $29.99 Truth: $17.57 Error: $12.42 SLE: 0.26 Item: Siwdoy 3363394 Washer Drain Pump Replace...\u001b[0m\n",
      "\u001b[92m67: Guess: $35.50 Truth: $25.05 Error: $10.45 SLE: 0.11 Item: Whirlpool W10143759 Ultra Violet Drier f...\u001b[0m\n",
      "\u001b[92m68: Guess: $22.99 Truth: $25.99 Error: $3.00 SLE: 0.01 Item: Supplying Demand W11266654 W10237503 Fro...\u001b[0m\n",
      "\u001b[91m69: Guess: $29.99 Truth: $159.41 Error: $129.42 SLE: 2.70 Item: Paragon 9145-00 Digital Defrost Timer\u001b[0m\n",
      "\u001b[91m70: Guess: $102.45 Truth: $289.05 Error: $186.60 SLE: 1.06 Item: Whirlpool W10310240 Control Board, HV\u001b[0m\n",
      "\u001b[92m71: Guess: $7.99 Truth: $6.98 Error: $1.01 SLE: 0.01 Item: Lifetime 3977767 Dryer Thermostat Replac...\u001b[0m\n",
      "\u001b[92m72: Guess: $29.99 Truth: $23.99 Error: $6.00 SLE: 0.05 Item: DC97-16350C Suspension Support Rod and A...\u001b[0m\n",
      "\u001b[92m73: Guess: $15.99 Truth: $12.99 Error: $3.00 SLE: 0.04 Item: Mekebor Reusable Vertuo Pods, Espresso A...\u001b[0m\n",
      "\u001b[92m74: Guess: $9.99 Truth: $4.99 Error: $5.00 SLE: 0.37 Item: Dishwasher Magnet Clean Dirty Sign - Cle...\u001b[0m\n",
      "\u001b[92m75: Guess: $13.49 Truth: $44.02 Error: $30.53 SLE: 1.29 Item: 279320 Dryer Terminal Block Kit - Replac...\u001b[0m\n",
      "\u001b[92m76: Guess: $9.99 Truth: $13.99 Error: $4.00 SLE: 0.10 Item: laddawan Door Knob Cover ，Cloth,Sponge P...\u001b[0m\n",
      "\u001b[92m77: Guess: $24.99 Truth: $12.85 Error: $12.14 SLE: 0.40 Item: PR Replacement Humidifier Water Chamber ...\u001b[0m\n",
      "\u001b[92m78: Guess: $76.52 Truth: $76.52 Error: $0.00 SLE: 0.00 Item: Frigidaire 5304458312 Handle Unit, Black\u001b[0m\n",
      "\u001b[92m79: Guess: $137.95 Truth: $107.25 Error: $30.70 SLE: 0.06 Item: Frigidaire 5304518661 Replacement Parts\u001b[0m\n",
      "\u001b[92m80: Guess: $21.99 Truth: $16.51 Error: $5.48 SLE: 0.07 Item: GE WX09X10004 Genuine OEM Power Cord (Gr...\u001b[0m\n",
      "\u001b[92m81: Guess: $42.45 Truth: $70.32 Error: $27.87 SLE: 0.25 Item: GE WR17X11894 Genuine OEM Water Filter H...\u001b[0m\n",
      "\u001b[92m82: Guess: $29.97 Truth: $29.97 Error: $0.00 SLE: 0.00 Item: Supco CH687 Electric Range Oven Bake Uni...\u001b[0m\n",
      "\u001b[92m83: Guess: $30.99 Truth: $22.27 Error: $8.72 SLE: 0.10 Item: (𝙐𝙥𝙜𝙧𝙖𝙙𝙚𝙙) 5220FR2008F Water Inlet Valve...\u001b[0m\n",
      "\u001b[92m84: Guess: $59.99 Truth: $59.99 Error: $0.00 SLE: 0.00 Item: 2 Pieces Stainless Steel Backsplash Pane...\u001b[0m\n",
      "\u001b[92m85: Guess: $49.99 Truth: $67.99 Error: $18.00 SLE: 0.09 Item: Whole Parts Washer Washplate Impeller Pa...\u001b[0m\n",
      "\u001b[92m86: Guess: $18.99 Truth: $6.77 Error: $12.22 SLE: 0.89 Item: DC61-02610A Dryer Lint Filter Cover by B...\u001b[0m\n",
      "\u001b[92m87: Guess: $59.99 Truth: $25.00 Error: $34.99 SLE: 0.73 Item: ANETS P8903-22, Thermopile With Nut Anet...\u001b[0m\n",
      "\u001b[92m88: Guess: $10.13 Truth: $16.22 Error: $6.09 SLE: 0.19 Item: Whirlpool W10119828 Screw\u001b[0m\n",
      "\u001b[91m89: Guess: $42.95 Truth: $179.95 Error: $137.00 SLE: 2.00 Item: Owigift Washer Door Boot Seal Gasket Rep...\u001b[0m\n",
      "\u001b[92m90: Guess: $14.99 Truth: $13.99 Error: $1.00 SLE: 0.00 Item: W10350375 Dishwasher Top Rack Adjuster W...\u001b[0m\n",
      "\u001b[92m91: Guess: $22.99 Truth: $20.99 Error: $2.00 SLE: 0.01 Item: Webake Dishwasher Pod Container Tablet H...\u001b[0m\n",
      "\u001b[92m92: Guess: $64.87 Truth: $68.37 Error: $3.50 SLE: 0.00 Item: Ecumfy 5303918344 Refrigerator Ice Maker...\u001b[0m\n",
      "\u001b[92m93: Guess: $9.99 Truth: $7.99 Error: $2.00 SLE: 0.04 Item: 33001808 Dryer Lint Filter Replacement f...\u001b[0m\n",
      "\u001b[92m94: Guess: $9.99 Truth: $7.99 Error: $2.00 SLE: 0.04 Item: LanKstet 316433300 Oven Door Handle Scre...\u001b[0m\n",
      "\u001b[92m95: Guess: $24.99 Truth: $59.13 Error: $34.14 SLE: 0.70 Item: Watts Duo-Cloz Washing Machine Valve Bra...\u001b[0m\n",
      "\u001b[92m96: Guess: $17.97 Truth: $18.67 Error: $0.70 SLE: 0.00 Item: Ultra Durable W10300924 W11177741 Dishwa...\u001b[0m\n",
      "\u001b[92m97: Guess: $499.00 Truth: $519.20 Error: $20.20 SLE: 0.00 Item: EdgeStar KC2000 Full Size Kegerator and ...\u001b[0m\n",
      "\u001b[92m98: Guess: $59.99 Truth: $34.95 Error: $25.04 SLE: 0.28 Item: CFS COMPLETE FILTRATION SERVICES EST.200...\u001b[0m\n",
      "\u001b[92m99: Guess: $29.99 Truth: $37.31 Error: $7.32 SLE: 0.04 Item: Compatible Door Shelf Bar for General El...\u001b[0m\n",
      "\u001b[92m100: Guess: $36.75 Truth: $22.25 Error: $14.50 SLE: 0.23 Item: General Electric WR12X10332 Refrigerator...\u001b[0m\n",
      "\u001b[92m101: Guess: $9.99 Truth: $9.99 Error: $0.00 SLE: 0.00 Item: 5231EL1003B Dryer Lint Filter Replacemen...\u001b[0m\n",
      "\u001b[92m102: Guess: $14.99 Truth: $10.35 Error: $4.64 SLE: 0.12 Item: YiJiLi 6' White Dryer Vent Cover Outdoor...\u001b[0m\n",
      "\u001b[92m103: Guess: $19.78 Truth: $19.98 Error: $0.20 SLE: 0.00 Item: Portable Dryer Blower Fan Belt for Magic...\u001b[0m\n",
      "\u001b[92m104: Guess: $12.95 Truth: $13.10 Error: $0.15 SLE: 0.00 Item: Filtropa 8640 4 Paper Coffee Filters (Wh...\u001b[0m\n",
      "\u001b[93m105: Guess: $34.99 Truth: $84.95 Error: $49.96 SLE: 0.76 Item: Compatible with Whirlpool Door Switch WP...\u001b[0m\n",
      "\u001b[92m106: Guess: $9.99 Truth: $15.69 Error: $5.70 SLE: 0.17 Item: Supplying Demand WH02X24399 4455158 Clot...\u001b[0m\n",
      "\u001b[92m107: Guess: $32.99 Truth: $22.99 Error: $10.00 SLE: 0.12 Item: Fette Filter - Water Filter Compatible w...\u001b[0m\n",
      "\u001b[92m108: Guess: $853.99 Truth: $947.00 Error: $93.01 SLE: 0.01 Item: Summit DW2435SSADA 24\"\" ADA Compliant Di...\u001b[0m\n",
      "\u001b[92m109: Guess: $34.99 Truth: $25.30 Error: $9.69 SLE: 0.10 Item: WB44X5099 for GE Range Oven Bake Unit Lo...\u001b[0m\n",
      "\u001b[92m110: Guess: $8.91 Truth: $8.91 Error: $0.00 SLE: 0.00 Item: Safety 1st Grip N Twist Door Knob Covers...\u001b[0m\n",
      "\u001b[92m111: Guess: $11.49 Truth: $10.27 Error: $1.22 SLE: 0.01 Item: [NEW UPGRADED] WE1M654 Dryer Timer Knob ...\u001b[0m\n",
      "\u001b[92m112: Guess: $29.99 Truth: $29.99 Error: $0.00 SLE: 0.00 Item: Cenipar ADQ56656401 Dryer Lint Filters &...\u001b[0m\n",
      "\u001b[92m113: Guess: $54.91 Truth: $62.87 Error: $7.96 SLE: 0.02 Item: Siwdoy WB31T10010 WB31T10011 Chrome Drip...\u001b[0m\n",
      "\u001b[92m114: Guess: $69.99 Truth: $55.99 Error: $14.00 SLE: 0.05 Item: Kiss Core Laundry Pedestal 29\" Universal...\u001b[0m\n",
      "\u001b[92m115: Guess: $7.79 Truth: $7.99 Error: $0.20 SLE: 0.00 Item: GE WH01X10462 Genuine OEM Control Knob A...\u001b[0m\n",
      "\u001b[92m116: Guess: $12.99 Truth: $8.99 Error: $4.00 SLE: 0.11 Item: Stove Gap Covers Kitchen Counter Gap Cov...\u001b[0m\n",
      "\u001b[92m117: Guess: $29.99 Truth: $24.47 Error: $5.52 SLE: 0.04 Item: FETIONS EBF61674802 Lid Lock Switch Asse...\u001b[0m\n",
      "\u001b[92m118: Guess: $95.67 Truth: $95.67 Error: $0.00 SLE: 0.00 Item: Whirlpool W10202217 Oven\u001b[0m\n",
      "\u001b[92m119: Guess: $7.99 Truth: $7.49 Error: $0.50 SLE: 0.00 Item: Brew Addicts 100 Paper Coffee Filters - ...\u001b[0m\n",
      "\u001b[92m120: Guess: $15.99 Truth: $18.97 Error: $2.98 SLE: 0.03 Item: GE ADAPTER Refrigerator Water Filter Ada...\u001b[0m\n",
      "\u001b[92m121: Guess: $12.99 Truth: $6.97 Error: $6.02 SLE: 0.32 Item: WB03T10325 Knobs Burner Control Knobs Re...\u001b[0m\n",
      "\u001b[92m122: Guess: $141.99 Truth: $139.11 Error: $2.88 SLE: 0.00 Item: GENUINE Whirlpool 8542050 Timer - Washer\u001b[0m\n",
      "\u001b[92m123: Guess: $19.99 Truth: $15.97 Error: $4.02 SLE: 0.05 Item: W10158389 Dishwasher Water Inlet Valve b...\u001b[0m\n",
      "\u001b[92m124: Guess: $12.99 Truth: $14.59 Error: $1.60 SLE: 0.01 Item: VideoPUP 5PCS Foam & Felt Filters Set Co...\u001b[0m\n",
      "\u001b[92m125: Guess: $9.99 Truth: $8.29 Error: $1.70 SLE: 0.03 Item: ZHANG RL 8268961 2Pack Dishwasher Sleeve...\u001b[0m\n",
      "\u001b[92m126: Guess: $15.99 Truth: $26.99 Error: $11.00 SLE: 0.25 Item: Eopzol RHF1147 Range Vent Hood Aluminum ...\u001b[0m\n",
      "\u001b[92m127: Guess: $10.99 Truth: $7.89 Error: $3.10 SLE: 0.09 Item: 2182179 Refrigerator Door Closer Cam For...\u001b[0m\n",
      "\u001b[92m128: Guess: $25.99 Truth: $5.00 Error: $20.99 SLE: 2.26 Item: Alliance Laundry Systems 203643 Bezel Li...\u001b[0m\n",
      "\u001b[92m129: Guess: $44.99 Truth: $39.99 Error: $5.00 SLE: 0.01 Item: PERCOLA 9085 Water Filter, NSF 42, 53 & ...\u001b[0m\n",
      "\u001b[92m130: Guess: $45.99 Truth: $18.81 Error: $27.18 SLE: 0.75 Item: Broan-NuTone 1700 Heat Economizer\u001b[0m\n",
      "\u001b[92m131: Guess: $15.19 Truth: $15.19 Error: $0.00 SLE: 0.00 Item: GE WB24X10130 Range Hood Light Switch\u001b[0m\n",
      "\u001b[92m132: Guess: $124.99 Truth: $123.74 Error: $1.25 SLE: 0.00 Item: GE WH12X10350 Genuine OEM Timer for GE W...\u001b[0m\n",
      "\u001b[92m133: Guess: $29.49 Truth: $29.99 Error: $0.50 SLE: 0.00 Item: Upgrade 5304525746 Burner Knob for Frigi...\u001b[0m\n",
      "\u001b[92m134: Guess: $54.00 Truth: $63.67 Error: $9.67 SLE: 0.03 Item: Turbo Air M272300100 Gasket Tur/Tst28 26...\u001b[0m\n",
      "\u001b[92m135: Guess: $29.99 Truth: $18.99 Error: $11.00 SLE: 0.19 Item: 12 Pack Refrigerator Air Filter Replacem...\u001b[0m\n",
      "\u001b[92m136: Guess: $39.99 Truth: $26.79 Error: $13.20 SLE: 0.15 Item: UPGRADED AAP73631502 Refrigerator Door S...\u001b[0m\n",
      "\u001b[92m137: Guess: $19.99 Truth: $19.99 Error: $0.00 SLE: 0.00 Item: Washer Dryer Anti-vibration Pads, Fridge...\u001b[0m\n",
      "\u001b[92m138: Guess: $18.99 Truth: $16.88 Error: $2.11 SLE: 0.01 Item: Sweetums Signatures Filters Replacement ...\u001b[0m\n",
      "\u001b[92m139: Guess: $48.99 Truth: $45.99 Error: $3.00 SLE: 0.00 Item: 240534901 x2 & 240534701 x1 Refrigerator...\u001b[0m\n",
      "\u001b[92m140: Guess: $25.99 Truth: $50.00 Error: $24.01 SLE: 0.40 Item: Alessi Filter Group for Press Filter Cof...\u001b[0m\n",
      "\u001b[92m141: Guess: $14.99 Truth: $13.99 Error: $1.00 SLE: 0.00 Item: Upgraded LA-1008 Dryer Rear Drum Support...\u001b[0m\n",
      "\u001b[92m142: Guess: $49.99 Truth: $28.26 Error: $21.73 SLE: 0.31 Item: Aqua Fresh WF425 Refrigerator Water Filt...\u001b[0m\n",
      "\u001b[92m143: Guess: $49.50 Truth: $57.18 Error: $7.68 SLE: 0.02 Item: Whirlpool W10310274 Bake, Black\u001b[0m\n",
      "\u001b[92m144: Guess: $9.99 Truth: $8.94 Error: $1.05 SLE: 0.01 Item: Reyhoar Replacement Part 3 Pin QP2-4.7/ ...\u001b[0m\n",
      "\u001b[92m145: Guess: $18.99 Truth: $11.99 Error: $7.00 SLE: 0.19 Item: Anti Vibration Pads for Washing Machine ...\u001b[0m\n",
      "\u001b[92m146: Guess: $24.99 Truth: $43.37 Error: $18.38 SLE: 0.29 Item: GE WB06X10610 Microwave Latch Board\u001b[0m\n",
      "\u001b[92m147: Guess: $18.21 Truth: $20.90 Error: $2.69 SLE: 0.02 Item: Whirlpool 285785 Clutch Kit for Washer, ...\u001b[0m\n",
      "\u001b[92m148: Guess: $14.99 Truth: $19.95 Error: $4.96 SLE: 0.07 Item: PureH2O PH21510 Compatible Replacement f...\u001b[0m\n",
      "\u001b[92m149: Guess: $12.99 Truth: $12.99 Error: $0.00 SLE: 0.00 Item: 240356401 Door Bin Replacement for Frigi...\u001b[0m\n",
      "\u001b[92m150: Guess: $55.39 Truth: $55.39 Error: $0.00 SLE: 0.00 Item: Whirlpool 8182080 Handle for Washing Mac...\u001b[0m\n",
      "\u001b[92m151: Guess: $18.99 Truth: $7.99 Error: $11.00 SLE: 0.64 Item: Vanki 1Pcs BBQ Grill Vent Stove Oven Air...\u001b[0m\n",
      "\u001b[92m152: Guess: $16.99 Truth: $11.99 Error: $5.00 SLE: 0.11 Item: WB17T10006 Terminal Block Kit Compatible...\u001b[0m\n",
      "\u001b[92m153: Guess: $10.99 Truth: $10.99 Error: $0.00 SLE: 0.00 Item: Replacement for Amana ARS9269BS Refriger...\u001b[0m\n",
      "\u001b[92m154: Guess: $15.99 Truth: $9.99 Error: $6.00 SLE: 0.19 Item: 4 Pcs Anti-Dust Cover Dust Bag for 255 M...\u001b[0m\n",
      "\u001b[92m155: Guess: $9.41 Truth: $22.91 Error: $13.50 SLE: 0.69 Item: HQRP 3-Pack Wick Filter Compatible with ...\u001b[0m\n",
      "\u001b[92m156: Guess: $12.99 Truth: $22.14 Error: $9.15 SLE: 0.25 Item: 3402594 Dryer Timer Knob Compatible with...\u001b[0m\n",
      "\u001b[92m157: Guess: $36.88 Truth: $15.99 Error: $20.89 SLE: 0.64 Item: EvertechPRO SNTK7504000 Light Lens Repla...\u001b[0m\n",
      "\u001b[92m158: Guess: $29.99 Truth: $29.99 Error: $0.00 SLE: 0.00 Item: 8182634 WP8182634 Washing Machine Door L...\u001b[0m\n",
      "\u001b[92m159: Guess: $19.99 Truth: $29.99 Error: $10.00 SLE: 0.15 Item: Repairwares Universal Dryer Igniter WE4X...\u001b[0m\n",
      "\u001b[92m160: Guess: $35.87 Truth: $35.87 Error: $0.00 SLE: 0.00 Item: GE WB30X219 8-Inch Surface Element\u001b[0m\n",
      "\u001b[92m161: Guess: $30.99 Truth: $25.25 Error: $5.74 SLE: 0.04 Item: Upgrade DG94-00520A Gas Range Oven Flat ...\u001b[0m\n",
      "\u001b[93m162: Guess: $165.00 Truth: $239.76 Error: $74.76 SLE: 0.14 Item: LG Electronics EBR64144902 Washing Machi...\u001b[0m\n",
      "\u001b[92m163: Guess: $33.99 Truth: $29.99 Error: $4.00 SLE: 0.01 Item: 2-Pack 240363701 Refrigerator Door Shelf...\u001b[0m\n",
      "\u001b[92m164: Guess: $10.99 Truth: $9.99 Error: $1.00 SLE: 0.01 Item: Anyhow Demineralization Ultrasonic Humid...\u001b[0m\n",
      "\u001b[92m165: Guess: $99.99 Truth: $99.99 Error: $0.00 SLE: 0.00 Item: ZKU 2020 Upgraded Portable Washing Machi...\u001b[0m\n",
      "\u001b[92m166: Guess: $148.49 Truth: $136.57 Error: $11.92 SLE: 0.01 Item: Electrolux 134690800 Frigidaire Blower A...\u001b[0m\n",
      "\u001b[92m167: Guess: $29.99 Truth: $28.99 Error: $1.00 SLE: 0.00 Item: SUNRRA HFT600 for Honeywell HFT600, HEV6...\u001b[0m\n",
      "\u001b[92m168: Guess: $6.99 Truth: $6.99 Error: $0.00 SLE: 0.00 Item: 240351601 Refrigerator Freezer Door Bin ...\u001b[0m\n",
      "\u001b[92m169: Guess: $18.99 Truth: $29.99 Error: $11.00 SLE: 0.19 Item: 4PK W10350401 Dishwasher Dishrack Roller...\u001b[0m\n",
      "\u001b[92m170: Guess: $24.99 Truth: $21.99 Error: $3.00 SLE: 0.02 Item: Easyworkz Espresso Steaming Pitcher Stai...\u001b[0m\n",
      "\u001b[92m171: Guess: $259.99 Truth: $278.99 Error: $19.00 SLE: 0.00 Item: 30 Inch Gas Cooktop, Built-in Stainless ...\u001b[0m\n",
      "\u001b[92m172: Guess: $49.99 Truth: $39.00 Error: $10.99 SLE: 0.06 Item: Electrolux EWF2CBPA Pure Advantage Water...\u001b[0m\n",
      "\u001b[92m173: Guess: $9.99 Truth: $8.89 Error: $1.10 SLE: 0.01 Item: MAYITOP Washer Lid Switch WP8318084 for ...\u001b[0m\n",
      "\u001b[92m174: Guess: $5.99 Truth: $6.75 Error: $0.76 SLE: 0.01 Item: UPGRADED Lifetime Appliance WE1M964 Time...\u001b[0m\n",
      "\u001b[92m175: Guess: $19.99 Truth: $15.99 Error: $4.00 SLE: 0.04 Item: Ruisita 6 Pack Christmas Decorations Ref...\u001b[0m\n",
      "\u001b[92m176: Guess: $15.99 Truth: $10.61 Error: $5.38 SLE: 0.14 Item: Whirlpool Y312527 Idler Shaft Washer\u001b[0m\n",
      "\u001b[92m177: Guess: $34.99 Truth: $29.99 Error: $5.00 SLE: 0.02 Item: GinsonWare Set of 2, Rectangle Stove TOP...\u001b[0m\n",
      "\u001b[92m178: Guess: $29.99 Truth: $50.58 Error: $20.59 SLE: 0.26 Item: GARP GARP-8544771 Heating Element for Ke...\u001b[0m\n",
      "\u001b[92m179: Guess: $22.99 Truth: $25.00 Error: $2.01 SLE: 0.01 Item: 500820 Dryer Outlet Cover D500820 Genuin...\u001b[0m\n",
      "\u001b[92m180: Guess: $36.43 Truth: $36.43 Error: $0.00 SLE: 0.00 Item: Frigidaire 240535101 Door Rack, 23.25 in...\u001b[0m\n",
      "\u001b[92m181: Guess: $29.99 Truth: $37.47 Error: $7.48 SLE: 0.05 Item: Brew Rite Basket Coffee Filters, 8-12 Cu...\u001b[0m\n",
      "\u001b[92m182: Guess: $14.91 Truth: $19.45 Error: $4.54 SLE: 0.06 Item: HQRP Humidifier Wick Filter Compatible w...\u001b[0m\n",
      "\u001b[92m183: Guess: $118.99 Truth: $136.29 Error: $17.30 SLE: 0.02 Item: RWFDISP Viking Refrigerator Water Filter...\u001b[0m\n",
      "\u001b[92m184: Guess: $24.99 Truth: $20.99 Error: $4.00 SLE: 0.03 Item: Supplying Demand WB03X24759 4454960 Gas ...\u001b[0m\n",
      "\u001b[92m185: Guess: $69.99 Truth: $52.07 Error: $17.92 SLE: 0.08 Item: Waterdrop DA29-00020B NSF 53&42 Certifie...\u001b[0m\n",
      "\u001b[92m186: Guess: $19.99 Truth: $18.37 Error: $1.62 SLE: 0.01 Item: FNSCAR Mini Ultrasonic Washing Machine P...\u001b[0m\n",
      "\u001b[92m187: Guess: $29.99 Truth: $15.97 Error: $14.02 SLE: 0.36 Item: Bon Appetite Burner Kover - Set of 4 Rou...\u001b[0m\n",
      "\u001b[92m188: Guess: $28.99 Truth: $17.99 Error: $11.00 SLE: 0.21 Item: 3-Pack Replacement for 2534450960A Refri...\u001b[0m\n",
      "\u001b[92m189: Guess: $29.99 Truth: $46.69 Error: $16.70 SLE: 0.19 Item: [EAU64824402 Motor OEM Mania] EAU6482440...\u001b[0m\n",
      "\u001b[91m190: Guess: $106.75 Truth: $191.85 Error: $85.10 SLE: 0.34 Item: GE WH38X10019 Genuine OEM Shaft and Tube...\u001b[0m\n",
      "\u001b[92m191: Guess: $25.32 Truth: $27.14 Error: $1.82 SLE: 0.00 Item: Whirlpool W10467289 Washer Temperature S...\u001b[0m\n",
      "\u001b[92m192: Guess: $12.99 Truth: $18.24 Error: $5.25 SLE: 0.10 Item: 86573 Dacor 10 WATT LIGHT BULB by Dacor\u001b[0m\n",
      "\u001b[92m193: Guess: $28.76 Truth: $13.38 Error: $15.38 SLE: 0.53 Item: Whirlpool 3397659 Terminal Block for Dry...\u001b[0m\n",
      "\u001b[92m194: Guess: $29.99 Truth: $33.99 Error: $4.00 SLE: 0.01 Item: Lancoon Digital Psychrometer, Mini Porta...\u001b[0m\n",
      "\u001b[92m195: Guess: $10.99 Truth: $6.95 Error: $4.04 SLE: 0.17 Item: Upgraded WP37001298 Dryer Drum Glide (2-...\u001b[0m\n",
      "\u001b[92m196: Guess: $55.11 Truth: $55.59 Error: $0.48 SLE: 0.00 Item: Builders Edge 140056774001 Hooded Ventil...\u001b[0m\n",
      "\u001b[92m197: Guess: $26.88 Truth: $26.88 Error: $0.00 SLE: 0.00 Item: GENUINE Frigidaire 154754502 5304506516 ...\u001b[0m\n",
      "\u001b[92m198: Guess: $12.99 Truth: $18.90 Error: $5.91 SLE: 0.12 Item: Whirlpool W74001254 Wall Oven Temperatur...\u001b[0m\n",
      "\u001b[92m199: Guess: $29.99 Truth: $20.99 Error: $9.00 SLE: 0.12 Item: Best Choice Water Filter BCF48 Compatibl...\u001b[0m\n",
      "\u001b[92m200: Guess: $49.99 Truth: $44.99 Error: $5.00 SLE: 0.01 Item: Jinro Soju Cooler, Electric Cooler, Can ...\u001b[0m\n",
      "\u001b[92m201: Guess: $29.99 Truth: $21.99 Error: $8.00 SLE: 0.09 Item: FIREGAS CC170 Range Hood Charcoal Filter...\u001b[0m\n",
      "\u001b[93m202: Guess: $499.99 Truth: $699.00 Error: $199.01 SLE: 0.11 Item: FOTILE Pixie Air UQS3001 30” Stainless S...\u001b[0m\n",
      "\u001b[92m203: Guess: $9.99 Truth: $21.84 Error: $11.85 SLE: 0.54 Item: Upgraded WE04X28977 Door Switch Replacem...\u001b[0m\n",
      "\u001b[92m204: Guess: $25.99 Truth: $26.50 Error: $0.51 SLE: 0.00 Item: Think Crucial Replacement for Maytag, Ma...\u001b[0m\n",
      "\u001b[92m205: Guess: $8.50 Truth: $12.70 Error: $4.20 SLE: 0.13 Item: Whirlpool, Kenmore/Sears Washer Timer Kn...\u001b[0m\n",
      "\u001b[92m206: Guess: $397.99 Truth: $378.36 Error: $19.63 SLE: 0.00 Item: Kenyon B41602 6-1/2-Inch Caribbean 2-Bur...\u001b[0m\n",
      "\u001b[92m207: Guess: $11.97 Truth: $16.97 Error: $5.00 SLE: 0.11 Item: Air Filter Factory Replacement For Holme...\u001b[0m\n",
      "\u001b[92m208: Guess: $22.99 Truth: $22.99 Error: $0.00 SLE: 0.00 Item: 2 Pieces 349241T Dryer Drum Roller, 6913...\u001b[0m\n",
      "\u001b[92m209: Guess: $45.99 Truth: $49.95 Error: $3.96 SLE: 0.01 Item: 5304483506 Dishwasher Silverware Basket ...\u001b[0m\n",
      "\u001b[92m210: Guess: $48.00 Truth: $49.24 Error: $1.24 SLE: 0.00 Item: OEM Samsung Dryer Lint Filter Screen Sup...\u001b[0m\n",
      "\u001b[92m211: Guess: $13.80 Truth: $13.80 Error: $0.00 SLE: 0.00 Item: Nispira Charcoal Water Filters Replaceme...\u001b[0m\n",
      "\u001b[92m212: Guess: $17.99 Truth: $39.99 Error: $22.00 SLE: 0.59 Item: Egg Holder for Refrigerator Automatic Ro...\u001b[0m\n",
      "\u001b[92m213: Guess: $97.25 Truth: $75.99 Error: $21.26 SLE: 0.06 Item: American Range A14006 Short Lift Off Ven...\u001b[0m\n",
      "\u001b[92m214: Guess: $159.99 Truth: $127.99 Error: $32.00 SLE: 0.05 Item: CIARRA Ductless Range Hood 30 inch Under...\u001b[0m\n",
      "\u001b[92m215: Guess: $29.99 Truth: $22.99 Error: $7.00 SLE: 0.07 Item: Puroflo DA97-17376B Replacement for Sams...\u001b[0m\n",
      "\u001b[92m216: Guess: $12.99 Truth: $11.66 Error: $1.33 SLE: 0.01 Item: Carbon Range Filter Compatible With Broa...\u001b[0m\n",
      "\u001b[93m217: Guess: $329.99 Truth: $499.00 Error: $169.01 SLE: 0.17 Item: RCA RDW1809 Portable Dishwasher, 18in Wi...\u001b[0m\n",
      "\u001b[92m218: Guess: $19.99 Truth: $18.99 Error: $1.00 SLE: 0.00 Item: W10082795 Diswasher Door Gasket Seal for...\u001b[0m\n",
      "\u001b[92m219: Guess: $29.99 Truth: $19.99 Error: $10.00 SLE: 0.15 Item: ICEPURE PLUS 46-9690 NSF53 Certified Rep...\u001b[0m\n",
      "\u001b[92m220: Guess: $9.99 Truth: $10.99 Error: $1.00 SLE: 0.01 Item: Supplying Demand WR02X12008 WR2X10519 Re...\u001b[0m\n",
      "\u001b[92m221: Guess: $37.99 Truth: $35.87 Error: $2.12 SLE: 0.00 Item: Ecumfy LA-1044 Dryer Heating Element and...\u001b[0m\n",
      "\u001b[92m222: Guess: $40.99 Truth: $44.99 Error: $4.00 SLE: 0.01 Item: Supplying Demand WH08X32657 WH08X31222 C...\u001b[0m\n",
      "\u001b[92m223: Guess: $14.99 Truth: $14.39 Error: $0.60 SLE: 0.00 Item: PUREBURG 2-Pack Wick Filters Compatible ...\u001b[0m\n",
      "\u001b[92m224: Guess: $9.99 Truth: $9.99 Error: $0.00 SLE: 0.00 Item: 37001142 Dryer Lint Filter Replacement f...\u001b[0m\n",
      "\u001b[92m225: Guess: $17.99 Truth: $17.99 Error: $0.00 SLE: 0.00 Item: 5303281153 Dryer Rear Drum Bearing Kit &...\u001b[0m\n",
      "\u001b[92m226: Guess: $19.99 Truth: $11.99 Error: $8.00 SLE: 0.23 Item: EFIELD 10 FT Stainless Steel Braided Ice...\u001b[0m\n",
      "\u001b[92m227: Guess: $29.97 Truth: $29.97 Error: $0.00 SLE: 0.00 Item: 2-Pack Air Filter Factory 9 X 19 X 3/8 R...\u001b[0m\n",
      "\u001b[92m228: Guess: $8.99 Truth: $7.88 Error: $1.11 SLE: 0.01 Item: 1Pack Electric Stove Range Burner Recept...\u001b[0m\n",
      "\u001b[92m229: Guess: $19.99 Truth: $23.99 Error: $4.00 SLE: 0.03 Item: Ximoon HC22P Whole House Humidifier Pad ...\u001b[0m\n",
      "\u001b[92m230: Guess: $27.99 Truth: $32.45 Error: $4.46 SLE: 0.02 Item: UPGRADED 240323001 Refrigerator Door She...\u001b[0m\n",
      "\u001b[92m231: Guess: $24.74 Truth: $13.50 Error: $11.24 SLE: 0.33 Item: GE WB7X7189 Handle End Cap\u001b[0m\n",
      "\u001b[92m232: Guess: $9.99 Truth: $6.90 Error: $3.09 SLE: 0.11 Item: PANDEELS 30 Pack Humidifier Filter Repla...\u001b[0m\n",
      "\u001b[93m233: Guess: $149.99 Truth: $247.23 Error: $97.24 SLE: 0.25 Item: Whirlpool W10207861 Refrigerator Electro...\u001b[0m\n",
      "\u001b[92m234: Guess: $121.25 Truth: $89.00 Error: $32.25 SLE: 0.09 Item: Nostalgic Warehouse 712326, Single Dummy...\u001b[0m\n",
      "\u001b[92m235: Guess: $28.27 Truth: $28.99 Error: $0.72 SLE: 0.00 Item: Ultra Durable 279834 Dryer Gas Valve Ign...\u001b[0m\n",
      "\u001b[92m236: Guess: $48.99 Truth: $16.99 Error: $32.00 SLE: 1.04 Item: WaterSentinel WSL-4 Made in U.S.A. Refri...\u001b[0m\n",
      "\u001b[93m237: Guess: $169.99 Truth: $253.95 Error: $83.96 SLE: 0.16 Item: 154886103 Dishwasher Electronic Control ...\u001b[0m\n",
      "\u001b[92m238: Guess: $39.95 Truth: $21.95 Error: $18.00 SLE: 0.34 Item: ClimaTek Upgraded Refrigerator Condenser...\u001b[0m\n",
      "\u001b[92m239: Guess: $9.99 Truth: $7.78 Error: $2.21 SLE: 0.05 Item: Thermometer Hygrometer, Temperature Humi...\u001b[0m\n",
      "\u001b[92m240: Guess: $12.99 Truth: $18.04 Error: $5.05 SLE: 0.09 Item: GE WE1X688 Screw and Clamp\u001b[0m\n",
      "\u001b[92m241: Guess: $14.99 Truth: $14.59 Error: $0.40 SLE: 0.00 Item: AQUA CREST DA29-00020B Replacement for S...\u001b[0m\n",
      "\u001b[92m242: Guess: $45.00 Truth: $83.03 Error: $38.03 SLE: 0.36 Item: Whirlpool W11430940 Recirculation Kit fo...\u001b[0m\n",
      "\u001b[92m243: Guess: $9.00 Truth: $9.99 Error: $0.99 SLE: 0.01 Item: EXP279834 Dryer Gas Valve Solenoid (Repl...\u001b[0m\n",
      "\u001b[92m244: Guess: $6.99 Truth: $13.09 Error: $6.10 SLE: 0.32 Item: Romalon WP8557403 Thermostat Replacement...\u001b[0m\n",
      "\u001b[92m245: Guess: $39.99 Truth: $19.95 Error: $20.04 SLE: 0.45 Item: PS11740723 Igniter Ignitor Compatible Wi...\u001b[0m\n",
      "\u001b[92m246: Guess: $42.03 Truth: $42.10 Error: $0.07 SLE: 0.00 Item: TRUE 810878 Black Bottom Gasket\u001b[0m\n",
      "\u001b[92m247: Guess: $88.45 Truth: $88.44 Error: $0.01 SLE: 0.00 Item: Broan-NuTone LB36SS Optional Box Power P...\u001b[0m\n",
      "\u001b[92m248: Guess: $24.95 Truth: $30.97 Error: $6.02 SLE: 0.04 Item: NEW 8544771 Dryer Heating Element, 27997...\u001b[0m\n",
      "\u001b[91m249: Guess: $29.99 Truth: $159.59 Error: $129.60 SLE: 2.71 Item: Pitco A6653505 Filter Hose\u001b[0m\n",
      "\u001b[92m250: Guess: $18.99 Truth: $16.37 Error: $2.62 SLE: 0.02 Item: Cabilock Compact Washer Washing Washboar...\u001b[0m\n"
     ]
    },
    {
     "data": {
      "image/png": "[encoded data removed]",
      "text/plain": [
       "<Figure size 1200x800 with 1 Axes>"
      ]
     },
     "metadata": {},
     "output_type": "display_data"
    }
   ],
   "source": [
    "Tester.test(gpt_4o_mini_rag, test)"
   ]
  },
  {
   "cell_type": "markdown",
   "id": "d793c6d0-ce3f-4680-b37d-4643f0cd1d8e",
   "metadata": {},
   "source": [
    "## Optional Extra: Trying a DeepSeek API call instead of OpenAI\n",
    "\n",
    "If you have a DeepSeek API key, we will use it here as an alternative implementation; otherwise skip to the next section.."
   ]
  },
  {
   "cell_type": "code",
   "execution_count": null,
   "id": "21b6a22f-0195-47b6-8f6d-cab6ebe05742",
   "metadata": {},
   "outputs": [],
   "source": [
    "# Connect to DeepSeek using the OpenAI client python library\n",
    "\n",
    "deepseek_api_key = os.getenv(\"DEEPSEEK_API_KEY\")\n",
    "deepseek_via_openai_client = OpenAI(api_key=deepseek_api_key,base_url=\"https://api.deepseek.com\")"
   ]
  },
  {
   "cell_type": "code",
   "execution_count": null,
   "id": "ea7267d6-9489-4dac-a6e0-aec108e788c2",
   "metadata": {},
   "outputs": [],
   "source": [
    "# Added some retry logic here because DeepSeek is very oversubscribed and sometimes fails..\n",
    "\n",
    "def deepseek_api_rag(item):\n",
    "    documents, prices = find_similars(item)\n",
    "    retries = 8\n",
    "    done = False\n",
    "    while not done and retries > 0:\n",
    "        try:\n",
    "            response = deepseek_via_openai_client.chat.completions.create(\n",
    "                model=\"deepseek-chat\", \n",
    "                messages=messages_for(item, documents, prices),\n",
    "                seed=42,\n",
    "                max_tokens=8\n",
    "            )\n",
    "            reply = response.choices[0].message.content\n",
    "            done = True\n",
    "        except Exception as e:\n",
    "            print(f\"Error: {e}\")\n",
    "            retries -= 1\n",
    "    return get_price(reply)"
   ]
  },
  {
   "cell_type": "code",
   "execution_count": null,
   "id": "6560faf2-4dec-41e5-95e2-b2c46cdb3ba8",
   "metadata": {},
   "outputs": [],
   "source": [
    "deepseek_api_rag(test[1])"
   ]
  },
  {
   "cell_type": "code",
   "execution_count": null,
   "id": "0578b116-869f-429d-8382-701f1c0882f3",
   "metadata": {},
   "outputs": [],
   "source": [
    "Tester.test(deepseek_api_rag, test)"
   ]
  },
  {
   "cell_type": "markdown",
   "id": "6739870f-1eec-4547-965d-4b594e685697",
   "metadata": {},
   "source": [
    "## And now to wrap this in an \"Agent\" class"
   ]
  },
  {
   "cell_type": "code",
   "execution_count": 41,
   "id": "e6d5deb3-6a2a-4484-872c-37176c5e1f07",
   "metadata": {},
   "outputs": [],
   "source": [
    "from agents.frontier_agent import FrontierAgent"
   ]
  },
  {
   "cell_type": "code",
   "execution_count": 42,
   "id": "2efa7ba9-c2d7-4f95-8bb5-c4295bbeb01f",
   "metadata": {},
   "outputs": [],
   "source": [
    "# Let's print the logs so we can see what's going on\n",
    "\n",
    "import logging\n",
    "root = logging.getLogger()\n",
    "root.setLevel(logging.INFO)"
   ]
  },
  {
   "cell_type": "code",
   "execution_count": 43,
   "id": "56e8dd5d-ed36-49d8-95f7-dc82e548255b",
   "metadata": {},
   "outputs": [
    {
     "name": "stderr",
     "output_type": "stream",
     "text": [
      "INFO:root:\u001b[40m\u001b[34m[Frontier Agent] Initializing Frontier Agent\u001b[0m\n",
      "INFO:root:\u001b[40m\u001b[34m[Frontier Agent] Frontier Agent is setting up with OpenAI\u001b[0m\n",
      "INFO:sentence_transformers.SentenceTransformer:Use pytorch device_name: cpu\n",
      "INFO:sentence_transformers.SentenceTransformer:Load pretrained SentenceTransformer: sentence-transformers/all-MiniLM-L6-v2\n",
      "INFO:root:\u001b[40m\u001b[34m[Frontier Agent] Frontier Agent is ready\u001b[0m\n"
     ]
    }
   ],
   "source": [
    "agent = FrontierAgent(collection)"
   ]
  },
  {
   "cell_type": "code",
   "execution_count": 44,
   "id": "980dd126-f675-4499-8817-0cc0bb73e247",
   "metadata": {},
   "outputs": [
    {
     "name": "stderr",
     "output_type": "stream",
     "text": [
      "INFO:root:\u001b[40m\u001b[34m[Frontier Agent] Frontier Agent is performing a RAG search of the Chroma datastore to find 5 similar products\u001b[0m\n"
     ]
    },
    {
     "data": {
      "application/vnd.jupyter.widget-view+json": {
       "model_id": "4696fa63f2e54329b3b530f068347955",
       "version_major": 2,
       "version_minor": 0
      },
      "text/plain": [
       "Batches:   0%|          | 0/1 [00:00<?, ?it/s]"
      ]
     },
     "metadata": {},
     "output_type": "display_data"
    },
    {
     "name": "stderr",
     "output_type": "stream",
     "text": [
      "INFO:root:\u001b[40m\u001b[34m[Frontier Agent] Frontier Agent has found similar products\u001b[0m\n",
      "INFO:root:\u001b[40m\u001b[34m[Frontier Agent] Frontier Agent is about to call gpt-4o-mini with context including 5 similar products\u001b[0m\n",
      "INFO:httpx:HTTP Request: POST https://api.openai.com/v1/chat/completions \"HTTP/1.1 200 OK\"\n",
      "INFO:root:\u001b[40m\u001b[34m[Frontier Agent] Frontier Agent completed - predicting $139.00\u001b[0m\n"
     ]
    },
    {
     "data": {
      "text/plain": [
       "139.0"
      ]
     },
     "execution_count": 44,
     "metadata": {},
     "output_type": "execute_result"
    }
   ],
   "source": [
    "agent.price(\"Quadcast HyperX condenser mic for high quality podcasting\")"
   ]
  },
  {
   "cell_type": "code",
   "execution_count": 45,
   "id": "66c18a06-d0f1-4ec9-8aff-ec3ca294dd09",
   "metadata": {},
   "outputs": [],
   "source": [
    "from agents.specialist_agent import SpecialistAgent"
   ]
  },
  {
   "cell_type": "code",
   "execution_count": 46,
   "id": "ba672fb4-2c3e-42ee-9ea0-21bfcfc5260c",
   "metadata": {},
   "outputs": [
    {
     "name": "stderr",
     "output_type": "stream",
     "text": [
      "INFO:root:\u001b[40m\u001b[31m[Specialist Agent] Specialist Agent is initializing - connecting to modal\u001b[0m\n"
     ]
    },
    {
     "ename": "NotFoundError",
     "evalue": "App not found",
     "output_type": "error",
     "traceback": [
      "\u001b[1;31m---------------------------------------------------------------------------\u001b[0m",
      "\u001b[1;31mNotFoundError\u001b[0m                             Traceback (most recent call last)",
      "Cell \u001b[1;32mIn[46], line 1\u001b[0m\n\u001b[1;32m----> 1\u001b[0m agent2 \u001b[38;5;241m=\u001b[39m \u001b[43mSpecialistAgent\u001b[49m\u001b[43m(\u001b[49m\u001b[43m)\u001b[49m\n",
      "File \u001b[1;32mc:\\Users\\iskorpittt\\Desktop\\MY_DATA_SCIENCE\\PROJECTS\\GENERATIVE_AI\\llm_engineering\\week8\\agents\\specialist_agent.py:18\u001b[0m, in \u001b[0;36mSpecialistAgent.__init__\u001b[1;34m(self)\u001b[0m\n\u001b[0;32m     14\u001b[0m \u001b[38;5;250m\u001b[39m\u001b[38;5;124;03m\"\"\"\u001b[39;00m\n\u001b[0;32m     15\u001b[0m \u001b[38;5;124;03mSet up this Agent by creating an instance of the modal class\u001b[39;00m\n\u001b[0;32m     16\u001b[0m \u001b[38;5;124;03m\"\"\"\u001b[39;00m\n\u001b[0;32m     17\u001b[0m \u001b[38;5;28mself\u001b[39m\u001b[38;5;241m.\u001b[39mlog(\u001b[38;5;124m\"\u001b[39m\u001b[38;5;124mSpecialist Agent is initializing - connecting to modal\u001b[39m\u001b[38;5;124m\"\u001b[39m)\n\u001b[1;32m---> 18\u001b[0m Pricer \u001b[38;5;241m=\u001b[39m \u001b[43mmodal\u001b[49m\u001b[38;5;241;43m.\u001b[39;49m\u001b[43mCls\u001b[49m\u001b[38;5;241;43m.\u001b[39;49m\u001b[43mlookup\u001b[49m\u001b[43m(\u001b[49m\u001b[38;5;124;43m\"\u001b[39;49m\u001b[38;5;124;43mpricer-service\u001b[39;49m\u001b[38;5;124;43m\"\u001b[39;49m\u001b[43m,\u001b[49m\u001b[43m \u001b[49m\u001b[38;5;124;43m\"\u001b[39;49m\u001b[38;5;124;43mPricer\u001b[39;49m\u001b[38;5;124;43m\"\u001b[39;49m\u001b[43m)\u001b[49m\n\u001b[0;32m     19\u001b[0m \u001b[38;5;28mself\u001b[39m\u001b[38;5;241m.\u001b[39mpricer \u001b[38;5;241m=\u001b[39m Pricer()\n\u001b[0;32m     20\u001b[0m \u001b[38;5;28mself\u001b[39m\u001b[38;5;241m.\u001b[39mlog(\u001b[38;5;124m\"\u001b[39m\u001b[38;5;124mSpecialist Agent is ready\u001b[39m\u001b[38;5;124m\"\u001b[39m)\n",
      "File \u001b[1;32mc:\\Users\\iskorpittt\\Desktop\\MY_DATA_SCIENCE\\PROJECTS\\GENERATIVE_AI\\llm_engineering\\venv\\Lib\\site-packages\\synchronicity\\combined_types.py:29\u001b[0m, in \u001b[0;36mFunctionWithAio.__call__\u001b[1;34m(self, *args, **kwargs)\u001b[0m\n\u001b[0;32m     27\u001b[0m \u001b[38;5;28;01mexcept\u001b[39;00m UserCodeException \u001b[38;5;28;01mas\u001b[39;00m uc_exc:\n\u001b[0;32m     28\u001b[0m     uc_exc\u001b[38;5;241m.\u001b[39mexc\u001b[38;5;241m.\u001b[39m__suppress_context__ \u001b[38;5;241m=\u001b[39m \u001b[38;5;28;01mTrue\u001b[39;00m\n\u001b[1;32m---> 29\u001b[0m     \u001b[38;5;28;01mraise\u001b[39;00m uc_exc\u001b[38;5;241m.\u001b[39mexc\n",
      "File \u001b[1;32mc:\\Users\\iskorpittt\\Desktop\\MY_DATA_SCIENCE\\PROJECTS\\GENERATIVE_AI\\llm_engineering\\venv\\Lib\\site-packages\\modal\\cls.py:666\u001b[0m, in \u001b[0;36m_Cls.lookup\u001b[1;34m(app_name, name, namespace, client, environment_name, workspace)\u001b[0m\n\u001b[0;32m    664\u001b[0m     client \u001b[38;5;241m=\u001b[39m \u001b[38;5;28;01mawait\u001b[39;00m _Client\u001b[38;5;241m.\u001b[39mfrom_env()\n\u001b[0;32m    665\u001b[0m resolver \u001b[38;5;241m=\u001b[39m Resolver(client\u001b[38;5;241m=\u001b[39mclient)\n\u001b[1;32m--> 666\u001b[0m \u001b[38;5;28;01mawait\u001b[39;00m resolver\u001b[38;5;241m.\u001b[39mload(obj)\n\u001b[0;32m    667\u001b[0m \u001b[38;5;28;01mreturn\u001b[39;00m obj\n",
      "File \u001b[1;32mc:\\Users\\iskorpittt\\Desktop\\MY_DATA_SCIENCE\\PROJECTS\\GENERATIVE_AI\\llm_engineering\\venv\\Lib\\site-packages\\modal\\_resolver.py:155\u001b[0m, in \u001b[0;36mResolver.load\u001b[1;34m(self, obj, existing_object_id)\u001b[0m\n\u001b[0;32m    152\u001b[0m         \u001b[38;5;28mself\u001b[39m\u001b[38;5;241m.\u001b[39m_deduplication_cache[deduplication_key] \u001b[38;5;241m=\u001b[39m cached_future\n\u001b[0;32m    154\u001b[0m \u001b[38;5;66;03m# TODO(elias): print original exception/trace rather than the Resolver-internal trace\u001b[39;00m\n\u001b[1;32m--> 155\u001b[0m \u001b[38;5;28;01mreturn\u001b[39;00m \u001b[38;5;28;01mawait\u001b[39;00m cached_future\n",
      "File \u001b[1;32mc:\\Users\\iskorpittt\\Desktop\\MY_DATA_SCIENCE\\PROJECTS\\GENERATIVE_AI\\llm_engineering\\venv\\Lib\\site-packages\\modal\\_resolver.py:128\u001b[0m, in \u001b[0;36mResolver.load.<locals>.loader\u001b[1;34m()\u001b[0m\n\u001b[0;32m    126\u001b[0m \u001b[38;5;66;03m# Load the object itself\u001b[39;00m\n\u001b[0;32m    127\u001b[0m \u001b[38;5;28;01mtry\u001b[39;00m:\n\u001b[1;32m--> 128\u001b[0m     \u001b[38;5;28;01mawait\u001b[39;00m obj\u001b[38;5;241m.\u001b[39m_load(obj, \u001b[38;5;28mself\u001b[39m, existing_object_id)\n\u001b[0;32m    129\u001b[0m \u001b[38;5;28;01mexcept\u001b[39;00m GRPCError \u001b[38;5;28;01mas\u001b[39;00m exc:\n\u001b[0;32m    130\u001b[0m     \u001b[38;5;28;01mif\u001b[39;00m exc\u001b[38;5;241m.\u001b[39mstatus \u001b[38;5;241m==\u001b[39m Status\u001b[38;5;241m.\u001b[39mNOT_FOUND:\n",
      "File \u001b[1;32mc:\\Users\\iskorpittt\\Desktop\\MY_DATA_SCIENCE\\PROJECTS\\GENERATIVE_AI\\llm_engineering\\venv\\Lib\\site-packages\\modal\\cls.py:552\u001b[0m, in \u001b[0;36m_Cls.from_name.<locals>._load_remote\u001b[1;34m(obj, resolver, existing_object_id)\u001b[0m\n\u001b[0;32m    550\u001b[0m \u001b[38;5;28;01mexcept\u001b[39;00m GRPCError \u001b[38;5;28;01mas\u001b[39;00m exc:\n\u001b[0;32m    551\u001b[0m     \u001b[38;5;28;01mif\u001b[39;00m exc\u001b[38;5;241m.\u001b[39mstatus \u001b[38;5;241m==\u001b[39m Status\u001b[38;5;241m.\u001b[39mNOT_FOUND:\n\u001b[1;32m--> 552\u001b[0m         \u001b[38;5;28;01mraise\u001b[39;00m NotFoundError(exc\u001b[38;5;241m.\u001b[39mmessage)\n\u001b[0;32m    553\u001b[0m     \u001b[38;5;28;01melif\u001b[39;00m exc\u001b[38;5;241m.\u001b[39mstatus \u001b[38;5;241m==\u001b[39m Status\u001b[38;5;241m.\u001b[39mFAILED_PRECONDITION:\n\u001b[0;32m    554\u001b[0m         \u001b[38;5;28;01mraise\u001b[39;00m InvalidError(exc\u001b[38;5;241m.\u001b[39mmessage)\n",
      "\u001b[1;31mNotFoundError\u001b[0m: App not found"
     ]
    }
   ],
   "source": [
    "agent2 = SpecialistAgent()"
   ]
  },
  {
   "cell_type": "code",
   "execution_count": null,
   "id": "a5a97004-95b4-46ea-b12d-a4ead22fcb2a",
   "metadata": {},
   "outputs": [],
   "source": [
    "agent2.price(\"Quadcast HyperX condenser mic for high quality podcasting\")"
   ]
  },
  {
   "cell_type": "code",
   "execution_count": null,
   "id": "26d5ddc6-baa6-4760-a430-05671847ac47",
   "metadata": {},
   "outputs": [],
   "source": []
  }
 ],
 "metadata": {
  "kernelspec": {
   "display_name": "venv",
   "language": "python",
   "name": "python3"
  },
  "language_info": {
   "codemirror_mode": {
    "name": "ipython",
    "version": 3
   },
   "file_extension": ".py",
   "mimetype": "text/x-python",
   "name": "python",
   "nbconvert_exporter": "python",
   "pygments_lexer": "ipython3",
   "version": "3.12.6"
  }
 },
 "nbformat": 4,
 "nbformat_minor": 5
}
